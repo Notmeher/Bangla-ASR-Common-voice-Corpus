{
 "cells": [
  {
   "cell_type": "code",
   "execution_count": 1,
   "metadata": {},
   "outputs": [
    {
     "name": "stdout",
     "output_type": "stream",
     "text": [
      "Requirement already satisfied: transformers[torch] in /home/mehedi/anaconda3/envs/wav2vec/lib/python3.10/site-packages (4.45.2)\n",
      "Requirement already satisfied: filelock in /home/mehedi/anaconda3/envs/wav2vec/lib/python3.10/site-packages (from transformers[torch]) (3.16.1)\n",
      "Requirement already satisfied: huggingface-hub<1.0,>=0.23.2 in /home/mehedi/anaconda3/envs/wav2vec/lib/python3.10/site-packages (from transformers[torch]) (0.25.2)\n",
      "Requirement already satisfied: numpy>=1.17 in /home/mehedi/anaconda3/envs/wav2vec/lib/python3.10/site-packages (from transformers[torch]) (2.0.2)\n",
      "Requirement already satisfied: packaging>=20.0 in /home/mehedi/anaconda3/envs/wav2vec/lib/python3.10/site-packages (from transformers[torch]) (24.1)\n",
      "Requirement already satisfied: pyyaml>=5.1 in /home/mehedi/anaconda3/envs/wav2vec/lib/python3.10/site-packages (from transformers[torch]) (6.0.2)\n",
      "Requirement already satisfied: regex!=2019.12.17 in /home/mehedi/anaconda3/envs/wav2vec/lib/python3.10/site-packages (from transformers[torch]) (2024.9.11)\n",
      "Requirement already satisfied: requests in /home/mehedi/anaconda3/envs/wav2vec/lib/python3.10/site-packages (from transformers[torch]) (2.32.3)\n",
      "Requirement already satisfied: safetensors>=0.4.1 in /home/mehedi/anaconda3/envs/wav2vec/lib/python3.10/site-packages (from transformers[torch]) (0.4.5)\n",
      "Requirement already satisfied: tokenizers<0.21,>=0.20 in /home/mehedi/anaconda3/envs/wav2vec/lib/python3.10/site-packages (from transformers[torch]) (0.20.1)\n",
      "Requirement already satisfied: tqdm>=4.27 in /home/mehedi/anaconda3/envs/wav2vec/lib/python3.10/site-packages (from transformers[torch]) (4.66.5)\n",
      "Requirement already satisfied: accelerate>=0.26.0 in /home/mehedi/anaconda3/envs/wav2vec/lib/python3.10/site-packages (from transformers[torch]) (0.26.0)\n",
      "Requirement already satisfied: torch in /home/mehedi/anaconda3/envs/wav2vec/lib/python3.10/site-packages (from transformers[torch]) (2.4.1)\n",
      "Requirement already satisfied: psutil in /home/mehedi/anaconda3/envs/wav2vec/lib/python3.10/site-packages (from accelerate>=0.26.0->transformers[torch]) (6.0.0)\n",
      "Requirement already satisfied: fsspec>=2023.5.0 in /home/mehedi/anaconda3/envs/wav2vec/lib/python3.10/site-packages (from huggingface-hub<1.0,>=0.23.2->transformers[torch]) (2024.6.1)\n",
      "Requirement already satisfied: typing-extensions>=3.7.4.3 in /home/mehedi/.local/lib/python3.10/site-packages (from huggingface-hub<1.0,>=0.23.2->transformers[torch]) (4.12.2)\n",
      "Requirement already satisfied: sympy in /home/mehedi/anaconda3/envs/wav2vec/lib/python3.10/site-packages (from torch->transformers[torch]) (1.13.3)\n",
      "Requirement already satisfied: networkx in /home/mehedi/anaconda3/envs/wav2vec/lib/python3.10/site-packages (from torch->transformers[torch]) (3.4.1)\n",
      "Requirement already satisfied: jinja2 in /home/mehedi/anaconda3/envs/wav2vec/lib/python3.10/site-packages (from torch->transformers[torch]) (3.1.4)\n",
      "Requirement already satisfied: nvidia-cuda-nvrtc-cu12==12.1.105 in /home/mehedi/anaconda3/envs/wav2vec/lib/python3.10/site-packages (from torch->transformers[torch]) (12.1.105)\n",
      "Requirement already satisfied: nvidia-cuda-runtime-cu12==12.1.105 in /home/mehedi/anaconda3/envs/wav2vec/lib/python3.10/site-packages (from torch->transformers[torch]) (12.1.105)\n",
      "Requirement already satisfied: nvidia-cuda-cupti-cu12==12.1.105 in /home/mehedi/anaconda3/envs/wav2vec/lib/python3.10/site-packages (from torch->transformers[torch]) (12.1.105)\n",
      "Requirement already satisfied: nvidia-cudnn-cu12==9.1.0.70 in /home/mehedi/anaconda3/envs/wav2vec/lib/python3.10/site-packages (from torch->transformers[torch]) (9.1.0.70)\n",
      "Requirement already satisfied: nvidia-cublas-cu12==12.1.3.1 in /home/mehedi/anaconda3/envs/wav2vec/lib/python3.10/site-packages (from torch->transformers[torch]) (12.1.3.1)\n",
      "Requirement already satisfied: nvidia-cufft-cu12==11.0.2.54 in /home/mehedi/anaconda3/envs/wav2vec/lib/python3.10/site-packages (from torch->transformers[torch]) (11.0.2.54)\n",
      "Requirement already satisfied: nvidia-curand-cu12==10.3.2.106 in /home/mehedi/anaconda3/envs/wav2vec/lib/python3.10/site-packages (from torch->transformers[torch]) (10.3.2.106)\n",
      "Requirement already satisfied: nvidia-cusolver-cu12==11.4.5.107 in /home/mehedi/anaconda3/envs/wav2vec/lib/python3.10/site-packages (from torch->transformers[torch]) (11.4.5.107)\n",
      "Requirement already satisfied: nvidia-cusparse-cu12==12.1.0.106 in /home/mehedi/anaconda3/envs/wav2vec/lib/python3.10/site-packages (from torch->transformers[torch]) (12.1.0.106)\n",
      "Requirement already satisfied: nvidia-nccl-cu12==2.20.5 in /home/mehedi/anaconda3/envs/wav2vec/lib/python3.10/site-packages (from torch->transformers[torch]) (2.20.5)\n",
      "Requirement already satisfied: nvidia-nvtx-cu12==12.1.105 in /home/mehedi/anaconda3/envs/wav2vec/lib/python3.10/site-packages (from torch->transformers[torch]) (12.1.105)\n",
      "Requirement already satisfied: triton==3.0.0 in /home/mehedi/anaconda3/envs/wav2vec/lib/python3.10/site-packages (from torch->transformers[torch]) (3.0.0)\n",
      "Requirement already satisfied: nvidia-nvjitlink-cu12 in /home/mehedi/anaconda3/envs/wav2vec/lib/python3.10/site-packages (from nvidia-cusolver-cu12==11.4.5.107->torch->transformers[torch]) (12.6.77)\n",
      "Requirement already satisfied: charset-normalizer<4,>=2 in /home/mehedi/anaconda3/envs/wav2vec/lib/python3.10/site-packages (from requests->transformers[torch]) (3.4.0)\n",
      "Requirement already satisfied: idna<4,>=2.5 in /home/mehedi/anaconda3/envs/wav2vec/lib/python3.10/site-packages (from requests->transformers[torch]) (3.10)\n",
      "Requirement already satisfied: urllib3<3,>=1.21.1 in /home/mehedi/anaconda3/envs/wav2vec/lib/python3.10/site-packages (from requests->transformers[torch]) (2.2.3)\n",
      "Requirement already satisfied: certifi>=2017.4.17 in /home/mehedi/anaconda3/envs/wav2vec/lib/python3.10/site-packages (from requests->transformers[torch]) (2024.8.30)\n",
      "Requirement already satisfied: MarkupSafe>=2.0 in /home/mehedi/anaconda3/envs/wav2vec/lib/python3.10/site-packages (from jinja2->torch->transformers[torch]) (3.0.1)\n",
      "Requirement already satisfied: mpmath<1.4,>=1.1.0 in /home/mehedi/anaconda3/envs/wav2vec/lib/python3.10/site-packages (from sympy->torch->transformers[torch]) (1.3.0)\n",
      "Requirement already satisfied: accelerate in /home/mehedi/anaconda3/envs/wav2vec/lib/python3.10/site-packages (0.26.0)\n",
      "Requirement already satisfied: numpy>=1.17 in /home/mehedi/anaconda3/envs/wav2vec/lib/python3.10/site-packages (from accelerate) (2.0.2)\n",
      "Requirement already satisfied: packaging>=20.0 in /home/mehedi/anaconda3/envs/wav2vec/lib/python3.10/site-packages (from accelerate) (24.1)\n",
      "Requirement already satisfied: psutil in /home/mehedi/anaconda3/envs/wav2vec/lib/python3.10/site-packages (from accelerate) (6.0.0)\n",
      "Requirement already satisfied: pyyaml in /home/mehedi/anaconda3/envs/wav2vec/lib/python3.10/site-packages (from accelerate) (6.0.2)\n",
      "Requirement already satisfied: torch>=1.10.0 in /home/mehedi/anaconda3/envs/wav2vec/lib/python3.10/site-packages (from accelerate) (2.4.1)\n",
      "Requirement already satisfied: huggingface-hub in /home/mehedi/anaconda3/envs/wav2vec/lib/python3.10/site-packages (from accelerate) (0.25.2)\n",
      "Requirement already satisfied: safetensors>=0.3.1 in /home/mehedi/anaconda3/envs/wav2vec/lib/python3.10/site-packages (from accelerate) (0.4.5)\n",
      "Requirement already satisfied: filelock in /home/mehedi/anaconda3/envs/wav2vec/lib/python3.10/site-packages (from torch>=1.10.0->accelerate) (3.16.1)\n",
      "Requirement already satisfied: typing-extensions>=4.8.0 in /home/mehedi/.local/lib/python3.10/site-packages (from torch>=1.10.0->accelerate) (4.12.2)\n",
      "Requirement already satisfied: sympy in /home/mehedi/anaconda3/envs/wav2vec/lib/python3.10/site-packages (from torch>=1.10.0->accelerate) (1.13.3)\n",
      "Requirement already satisfied: networkx in /home/mehedi/anaconda3/envs/wav2vec/lib/python3.10/site-packages (from torch>=1.10.0->accelerate) (3.4.1)\n",
      "Requirement already satisfied: jinja2 in /home/mehedi/anaconda3/envs/wav2vec/lib/python3.10/site-packages (from torch>=1.10.0->accelerate) (3.1.4)\n",
      "Requirement already satisfied: fsspec in /home/mehedi/anaconda3/envs/wav2vec/lib/python3.10/site-packages (from torch>=1.10.0->accelerate) (2024.6.1)\n",
      "Requirement already satisfied: nvidia-cuda-nvrtc-cu12==12.1.105 in /home/mehedi/anaconda3/envs/wav2vec/lib/python3.10/site-packages (from torch>=1.10.0->accelerate) (12.1.105)\n",
      "Requirement already satisfied: nvidia-cuda-runtime-cu12==12.1.105 in /home/mehedi/anaconda3/envs/wav2vec/lib/python3.10/site-packages (from torch>=1.10.0->accelerate) (12.1.105)\n",
      "Requirement already satisfied: nvidia-cuda-cupti-cu12==12.1.105 in /home/mehedi/anaconda3/envs/wav2vec/lib/python3.10/site-packages (from torch>=1.10.0->accelerate) (12.1.105)\n",
      "Requirement already satisfied: nvidia-cudnn-cu12==9.1.0.70 in /home/mehedi/anaconda3/envs/wav2vec/lib/python3.10/site-packages (from torch>=1.10.0->accelerate) (9.1.0.70)\n",
      "Requirement already satisfied: nvidia-cublas-cu12==12.1.3.1 in /home/mehedi/anaconda3/envs/wav2vec/lib/python3.10/site-packages (from torch>=1.10.0->accelerate) (12.1.3.1)\n",
      "Requirement already satisfied: nvidia-cufft-cu12==11.0.2.54 in /home/mehedi/anaconda3/envs/wav2vec/lib/python3.10/site-packages (from torch>=1.10.0->accelerate) (11.0.2.54)\n",
      "Requirement already satisfied: nvidia-curand-cu12==10.3.2.106 in /home/mehedi/anaconda3/envs/wav2vec/lib/python3.10/site-packages (from torch>=1.10.0->accelerate) (10.3.2.106)\n",
      "Requirement already satisfied: nvidia-cusolver-cu12==11.4.5.107 in /home/mehedi/anaconda3/envs/wav2vec/lib/python3.10/site-packages (from torch>=1.10.0->accelerate) (11.4.5.107)\n",
      "Requirement already satisfied: nvidia-cusparse-cu12==12.1.0.106 in /home/mehedi/anaconda3/envs/wav2vec/lib/python3.10/site-packages (from torch>=1.10.0->accelerate) (12.1.0.106)\n",
      "Requirement already satisfied: nvidia-nccl-cu12==2.20.5 in /home/mehedi/anaconda3/envs/wav2vec/lib/python3.10/site-packages (from torch>=1.10.0->accelerate) (2.20.5)\n",
      "Requirement already satisfied: nvidia-nvtx-cu12==12.1.105 in /home/mehedi/anaconda3/envs/wav2vec/lib/python3.10/site-packages (from torch>=1.10.0->accelerate) (12.1.105)\n",
      "Requirement already satisfied: triton==3.0.0 in /home/mehedi/anaconda3/envs/wav2vec/lib/python3.10/site-packages (from torch>=1.10.0->accelerate) (3.0.0)\n",
      "Requirement already satisfied: nvidia-nvjitlink-cu12 in /home/mehedi/anaconda3/envs/wav2vec/lib/python3.10/site-packages (from nvidia-cusolver-cu12==11.4.5.107->torch>=1.10.0->accelerate) (12.6.77)\n",
      "Requirement already satisfied: requests in /home/mehedi/anaconda3/envs/wav2vec/lib/python3.10/site-packages (from huggingface-hub->accelerate) (2.32.3)\n",
      "Requirement already satisfied: tqdm>=4.42.1 in /home/mehedi/anaconda3/envs/wav2vec/lib/python3.10/site-packages (from huggingface-hub->accelerate) (4.66.5)\n",
      "Requirement already satisfied: MarkupSafe>=2.0 in /home/mehedi/anaconda3/envs/wav2vec/lib/python3.10/site-packages (from jinja2->torch>=1.10.0->accelerate) (3.0.1)\n",
      "Requirement already satisfied: charset-normalizer<4,>=2 in /home/mehedi/anaconda3/envs/wav2vec/lib/python3.10/site-packages (from requests->huggingface-hub->accelerate) (3.4.0)\n",
      "Requirement already satisfied: idna<4,>=2.5 in /home/mehedi/anaconda3/envs/wav2vec/lib/python3.10/site-packages (from requests->huggingface-hub->accelerate) (3.10)\n",
      "Requirement already satisfied: urllib3<3,>=1.21.1 in /home/mehedi/anaconda3/envs/wav2vec/lib/python3.10/site-packages (from requests->huggingface-hub->accelerate) (2.2.3)\n",
      "Requirement already satisfied: certifi>=2017.4.17 in /home/mehedi/anaconda3/envs/wav2vec/lib/python3.10/site-packages (from requests->huggingface-hub->accelerate) (2024.8.30)\n",
      "Requirement already satisfied: mpmath<1.4,>=1.1.0 in /home/mehedi/anaconda3/envs/wav2vec/lib/python3.10/site-packages (from sympy->torch>=1.10.0->accelerate) (1.3.0)\n"
     ]
    }
   ],
   "source": [
    "# !pip install datasets\n",
    "!pip install transformers[torch]\n",
    "# !pip install torchaudio\n",
    "# !pip install librosa\n",
    "# !pip install jiwer\n",
    "# !pip install evaluate\n",
    "!pip install accelerate"
   ]
  },
  {
   "cell_type": "code",
   "execution_count": 2,
   "metadata": {},
   "outputs": [
    {
     "name": "stderr",
     "output_type": "stream",
     "text": [
      "/home/mehedi/anaconda3/envs/wav2vec/lib/python3.10/site-packages/tqdm/auto.py:21: TqdmWarning: IProgress not found. Please update jupyter and ipywidgets. See https://ipywidgets.readthedocs.io/en/stable/user_install.html\n",
      "  from .autonotebook import tqdm as notebook_tqdm\n"
     ]
    }
   ],
   "source": [
    "import os\n",
    "from datasets import load_dataset, Audio\n",
    "\n",
    "data_files = {\n",
    "    \"train\": \"/home/mehedi/Projects/Learning/wav2vec/local_bn_dataset_2/metadata_train.csv\",\n",
    "    \"validation\": \"/home/mehedi/Projects/Learning/wav2vec/local_bn_dataset_2/metadata_validation.csv\",\n",
    "    \"test\": \"/home/mehedi/Projects/Learning/wav2vec/local_bn_dataset_2/metadata_test.csv\"\n",
    "}\n",
    "\n",
    "audio_base_path = \"/home/mehedi/Projects/Learning/wav2vec/local_bn_dataset_2/\"\n",
    "\n",
    "my_local_dataset_train = load_dataset(\n",
    "    \"csv\", \n",
    "    data_files={\"train\": data_files[\"train\"], \"validation\": data_files[\"validation\"]}, \n",
    "    split=\"train+validation\"\n",
    ")\n",
    "\n",
    "my_local_dataset_test = load_dataset(\n",
    "    \"csv\", \n",
    "    data_files={\"test\": data_files[\"test\"]}, \n",
    "    split=\"test\"\n",
    ")\n",
    "\n",
    "def add_absolute_path(example):\n",
    "    # Create a new 'audio' column with the absolute path\n",
    "    example[\"audio\"] = os.path.join(audio_base_path, example[\"path\"])\n",
    "    return example\n",
    "\n",
    "my_local_dataset_train = my_local_dataset_train.map(add_absolute_path)\n",
    "my_local_dataset_test = my_local_dataset_test.map(add_absolute_path)\n",
    "\n",
    "common_voice_train = my_local_dataset_train.cast_column(\"audio\", Audio(sampling_rate=16000))\n",
    "common_voice_test = my_local_dataset_test.cast_column(\"audio\", Audio(sampling_rate=16000))\n",
    "\n"
   ]
  },
  {
   "cell_type": "code",
   "execution_count": 3,
   "metadata": {},
   "outputs": [
    {
     "data": {
      "text/plain": [
       "{'path': 'train/common_voice_bn_35453419.mp3',\n",
       " 'sentence': 'প্রমার সভাপতি রাশেদ হাসানের সভাপতিত্বে অনুষ্ঠানে বিশেষ অতিথি ছিলেন কবি ওমর কায়সার।',\n",
       " 'audio': '/home/mehedi/Projects/Learning/wav2vec/local_bn_dataset_2/train/common_voice_bn_35453419.mp3'}"
      ]
     },
     "execution_count": 3,
     "metadata": {},
     "output_type": "execute_result"
    }
   ],
   "source": [
    "my_local_dataset_train[0]"
   ]
  },
  {
   "cell_type": "code",
   "execution_count": 5,
   "metadata": {},
   "outputs": [],
   "source": [
    "from datasets import ClassLabel\n",
    "import random\n",
    "import pandas as pd\n",
    "from IPython.display import display, HTML\n",
    "\n",
    "def show_random_elements(dataset, num_examples=10):\n",
    "    assert num_examples <= len(dataset), \"Can't pick more elements than there are in the dataset.\"\n",
    "    picks = []\n",
    "    for _ in range(num_examples):\n",
    "        pick = random.randint(0, len(dataset)-1)\n",
    "        while pick in picks:\n",
    "            pick = random.randint(0, len(dataset)-1)\n",
    "        picks.append(pick)\n",
    "    \n",
    "    df = pd.DataFrame(dataset[picks])\n",
    "    display(HTML(df.to_html()))"
   ]
  },
  {
   "cell_type": "code",
   "execution_count": 6,
   "metadata": {},
   "outputs": [
    {
     "data": {
      "text/html": [
       "<table border=\"1\" class=\"dataframe\">\n",
       "  <thead>\n",
       "    <tr style=\"text-align: right;\">\n",
       "      <th></th>\n",
       "      <th>sentence</th>\n",
       "    </tr>\n",
       "  </thead>\n",
       "  <tbody>\n",
       "    <tr>\n",
       "      <th>0</th>\n",
       "      <td>এ সময়ে তিনি নিজের কবিতা প্রকাশ করতে পারতেন না।</td>\n",
       "    </tr>\n",
       "    <tr>\n",
       "      <th>1</th>\n",
       "      <td>এটা তখনকার সময়কার খুবই আধুনিক একটি দালান ছিল।</td>\n",
       "    </tr>\n",
       "    <tr>\n",
       "      <th>2</th>\n",
       "      <td>এই প্রত্যেকটি ভূমিরূপ কে আবার অনেক ভাগে ভাগ করা হয়েছে।</td>\n",
       "    </tr>\n",
       "    <tr>\n",
       "      <th>3</th>\n",
       "      <td>ভারত সরকারের পুরাতাত্ত্বিক বিভাগ এর দেখাশুনা করে।</td>\n",
       "    </tr>\n",
       "    <tr>\n",
       "      <th>4</th>\n",
       "      <td>পিতা চিকিৎসক সুরেন্দ্রনাথ দাশ ও মাতা বিশিষ্ট শিক্ষিকা সবিতা দাশ।</td>\n",
       "    </tr>\n",
       "    <tr>\n",
       "      <th>5</th>\n",
       "      <td>এটি একটি আশ্চর্যজনক প্রশিক্ষণ কর্মক্ষমতা।</td>\n",
       "    </tr>\n",
       "    <tr>\n",
       "      <th>6</th>\n",
       "      <td>পরবর্তীতে, তিনি আরও দুটি কিডস চয়েস অ্যাওয়ার্ডস জিতে নেন এবং একটি পিপলস চয়েস অ্যাওয়ার্ড জিতেন।</td>\n",
       "    </tr>\n",
       "    <tr>\n",
       "      <th>7</th>\n",
       "      <td>এটি পরিচালনা করেছেন মার্টিন স্কোরসেজি এবং চিত্রনাট্য লিখেছেন জন লোগান।</td>\n",
       "    </tr>\n",
       "    <tr>\n",
       "      <th>8</th>\n",
       "      <td>এটি উত্তর দিনাজপুর জেলার সদর দপ্তর।</td>\n",
       "    </tr>\n",
       "    <tr>\n",
       "      <th>9</th>\n",
       "      <td>তিনি তার শৈশব কাটান নতুন দিল্লিতে।</td>\n",
       "    </tr>\n",
       "  </tbody>\n",
       "</table>"
      ],
      "text/plain": [
       "<IPython.core.display.HTML object>"
      ]
     },
     "metadata": {},
     "output_type": "display_data"
    }
   ],
   "source": [
    "show_random_elements(common_voice_train.remove_columns([\"path\",\"audio\"]), num_examples=10)"
   ]
  },
  {
   "cell_type": "code",
   "execution_count": 7,
   "metadata": {},
   "outputs": [],
   "source": [
    "import re\n",
    "chars_to_ignore_regex = '[\\,\\?\\.\\!\\-\\;\\:\\\"\\“\\%\\‘\\”\\�]'\n",
    "\n",
    "def remove_special_characters(batch):\n",
    "    batch[\"sentence\"] = re.sub(chars_to_ignore_regex, '', batch[\"sentence\"]).lower() + \" \"\n",
    "    return batch"
   ]
  },
  {
   "cell_type": "code",
   "execution_count": 8,
   "metadata": {},
   "outputs": [],
   "source": [
    "common_voice_train = common_voice_train.map(remove_special_characters)\n",
    "common_voice_test = common_voice_test.map(remove_special_characters)"
   ]
  },
  {
   "cell_type": "code",
   "execution_count": 9,
   "metadata": {},
   "outputs": [
    {
     "data": {
      "text/html": [
       "<table border=\"1\" class=\"dataframe\">\n",
       "  <thead>\n",
       "    <tr style=\"text-align: right;\">\n",
       "      <th></th>\n",
       "      <th>sentence</th>\n",
       "    </tr>\n",
       "  </thead>\n",
       "  <tbody>\n",
       "    <tr>\n",
       "      <th>0</th>\n",
       "      <td>তিনি একবার পশ্চিমবঙ্গ বিধানসভার সদস্য হিসেবে নির্বাচিত হয়েছেন।</td>\n",
       "    </tr>\n",
       "    <tr>\n",
       "      <th>1</th>\n",
       "      <td>কোয়ান্টাম মেকানিক্স।</td>\n",
       "    </tr>\n",
       "    <tr>\n",
       "      <th>2</th>\n",
       "      <td>বৌদ্ধধর্মে আদিবুদ্ধ শীর্ষক এ আস্তিক্যবাদী ধারণার উৎপত্তিস্থল সম্পর্কে মতভেদ আছে।</td>\n",
       "    </tr>\n",
       "    <tr>\n",
       "      <th>3</th>\n",
       "      <td>পরবর্তীতে তিনি লখনউ এ দরিদ্র ছাত্রছাত্রীদের জন্য একটি স্কুল প্রতিষ্ঠা করেন।</td>\n",
       "    </tr>\n",
       "    <tr>\n",
       "      <th>4</th>\n",
       "      <td>তিনি ছিলেন জমিদার ও বিত্তবান পরিবারের একমাত্র সন্তান।</td>\n",
       "    </tr>\n",
       "    <tr>\n",
       "      <th>5</th>\n",
       "      <td>এরপর তিনি দ্যা আফ্রিকান রিভিউ পত্রিকার ফিচার সম্পাদক ও গার্ডিয়ান টাইমসে ফ্রিল্যান্স লেখক হিসেবে কাজ করেন।</td>\n",
       "    </tr>\n",
       "    <tr>\n",
       "      <th>6</th>\n",
       "      <td>তার প্রাতিষ্ঠানিক শিক্ষা এইচএসসি পর্যন্ত।</td>\n",
       "    </tr>\n",
       "    <tr>\n",
       "      <th>7</th>\n",
       "      <td>ইসরায়েলে যেখানে পরিবারের অনেক সদস্য থাকেন তিনি এবং তার স্বামী একটি প্রযুক্তিগত কলেজে ফেলোশিপ দিয়েছিলেন।</td>\n",
       "    </tr>\n",
       "    <tr>\n",
       "      <th>8</th>\n",
       "      <td>ডানহাতি মিডিয়ামফাস্ট বোলার হিসেবে ভারত ক্রিকেট দলে খেলছেন।</td>\n",
       "    </tr>\n",
       "    <tr>\n",
       "      <th>9</th>\n",
       "      <td>কেন্দ্রটি ন্যাশনাল বোটানিক্যাল গার্ডেন নামেও পরিচিত।</td>\n",
       "    </tr>\n",
       "  </tbody>\n",
       "</table>"
      ],
      "text/plain": [
       "<IPython.core.display.HTML object>"
      ]
     },
     "metadata": {},
     "output_type": "display_data"
    }
   ],
   "source": [
    "show_random_elements(common_voice_train.remove_columns([\"path\",\"audio\"]))"
   ]
  },
  {
   "cell_type": "code",
   "execution_count": 10,
   "metadata": {},
   "outputs": [],
   "source": [
    "def extract_all_chars(batch):\n",
    "  all_text = \" \".join(batch[\"sentence\"])\n",
    "  vocab = list(set(all_text))\n",
    "  return {\"vocab\": [vocab], \"all_text\": [all_text]}"
   ]
  },
  {
   "cell_type": "code",
   "execution_count": 11,
   "metadata": {},
   "outputs": [
    {
     "name": "stderr",
     "output_type": "stream",
     "text": [
      "Map: 100%|██████████| 9000/9000 [00:00<00:00, 186024.01 examples/s]\n",
      "Map: 100%|██████████| 1000/1000 [00:00<00:00, 199804.88 examples/s]\n"
     ]
    }
   ],
   "source": [
    "vocab_train = common_voice_train.map(extract_all_chars, batched=True, batch_size=-1, keep_in_memory=True, remove_columns=common_voice_train.column_names)\n",
    "vocab_test = common_voice_test.map(extract_all_chars, batched=True, batch_size=-1, keep_in_memory=True, remove_columns=common_voice_test.column_names)"
   ]
  },
  {
   "cell_type": "code",
   "execution_count": 12,
   "metadata": {},
   "outputs": [],
   "source": [
    "vocab_list = list(set(vocab_train[\"vocab\"][0]) | set(vocab_test[\"vocab\"][0]))"
   ]
  },
  {
   "cell_type": "code",
   "execution_count": 13,
   "metadata": {},
   "outputs": [
    {
     "data": {
      "text/plain": [
       "{' ': 0,\n",
       " 'হ': 1,\n",
       " 'জ': 2,\n",
       " 'ং': 3,\n",
       " 'a': 4,\n",
       " 'উ': 5,\n",
       " 'অ': 6,\n",
       " 'ঝ': 7,\n",
       " 'ঔ': 8,\n",
       " 'ট': 9,\n",
       " 'ঊ': 10,\n",
       " '্': 11,\n",
       " 'র': 12,\n",
       " 'ৃ': 13,\n",
       " 'য়': 14,\n",
       " 'চ': 15,\n",
       " 'শ': 16,\n",
       " 'ত': 17,\n",
       " 'ঋ': 18,\n",
       " 'ন': 19,\n",
       " 'ঢ': 20,\n",
       " '।': 21,\n",
       " 'ফ': 22,\n",
       " '’': 23,\n",
       " 'ৌ': 24,\n",
       " \"'\": 25,\n",
       " 'ঈ': 26,\n",
       " 'প': 27,\n",
       " 'ঐ': 28,\n",
       " 'ৎ': 29,\n",
       " 'ঞ': 30,\n",
       " '—': 31,\n",
       " 'l': 32,\n",
       " 'ও': 33,\n",
       " 'ঃ': 34,\n",
       " 'ু': 35,\n",
       " 'স': 36,\n",
       " 'ঠ': 37,\n",
       " 'ষ': 38,\n",
       " 'o': 39,\n",
       " 'ূ': 40,\n",
       " 'ভ': 41,\n",
       " '়': 42,\n",
       " 'e': 43,\n",
       " 'খ': 44,\n",
       " 'y': 45,\n",
       " 'g': 46,\n",
       " '॥': 47,\n",
       " 'ঘ': 48,\n",
       " '–': 49,\n",
       " 'ম': 50,\n",
       " 'p': 51,\n",
       " 'ড়': 52,\n",
       " 'ই': 53,\n",
       " 'ণ': 54,\n",
       " 'ি': 55,\n",
       " 'ী': 56,\n",
       " 'গ': 57,\n",
       " '/': 58,\n",
       " 'া': 59,\n",
       " 'ো': 60,\n",
       " 'থ': 61,\n",
       " 'য': 62,\n",
       " 'ব': 63,\n",
       " 'ঙ': 64,\n",
       " 'এ': 65,\n",
       " 'আ': 66,\n",
       " 'ঢ়': 67,\n",
       " 'ল': 68,\n",
       " 'দ': 69,\n",
       " 'ৈ': 70,\n",
       " 'ছ': 71,\n",
       " 'ক': 72,\n",
       " 'ধ': 73,\n",
       " 'ড': 74,\n",
       " 'ে': 75,\n",
       " 'ঁ': 76}"
      ]
     },
     "execution_count": 13,
     "metadata": {},
     "output_type": "execute_result"
    }
   ],
   "source": [
    "vocab_dict = {v: k for k, v in enumerate(vocab_list)}\n",
    "vocab_dict"
   ]
  },
  {
   "cell_type": "code",
   "execution_count": 14,
   "metadata": {},
   "outputs": [],
   "source": [
    "vocab_dict[\"|\"] = vocab_dict[\" \"]\n",
    "del vocab_dict[\" \"]"
   ]
  },
  {
   "cell_type": "code",
   "execution_count": 15,
   "metadata": {},
   "outputs": [
    {
     "data": {
      "text/plain": [
       "79"
      ]
     },
     "execution_count": 15,
     "metadata": {},
     "output_type": "execute_result"
    }
   ],
   "source": [
    "vocab_dict[\"[UNK]\"] = len(vocab_dict)\n",
    "vocab_dict[\"[PAD]\"] = len(vocab_dict)\n",
    "len(vocab_dict)"
   ]
  },
  {
   "cell_type": "code",
   "execution_count": 16,
   "metadata": {},
   "outputs": [],
   "source": [
    "import json\n",
    "with open('vocab.json', 'w') as vocab_file:\n",
    "    json.dump(vocab_dict, vocab_file)"
   ]
  },
  {
   "cell_type": "code",
   "execution_count": 17,
   "metadata": {},
   "outputs": [],
   "source": [
    "from transformers import Wav2Vec2CTCTokenizer\n",
    "\n",
    "tokenizer = Wav2Vec2CTCTokenizer(\"./vocab.json\", unk_token=\"[UNK]\", pad_token=\"[PAD]\", word_delimiter_token=\"|\")"
   ]
  },
  {
   "cell_type": "code",
   "execution_count": 18,
   "metadata": {},
   "outputs": [],
   "source": [
    "from transformers import Wav2Vec2FeatureExtractor\n",
    "\n",
    "feature_extractor = Wav2Vec2FeatureExtractor(feature_size=1, sampling_rate=16000, padding_value=0.0, do_normalize=True, return_attention_mask=True)"
   ]
  },
  {
   "cell_type": "code",
   "execution_count": 19,
   "metadata": {},
   "outputs": [],
   "source": [
    "from transformers import Wav2Vec2Processor\n",
    "\n",
    "processor = Wav2Vec2Processor(feature_extractor=feature_extractor, tokenizer=tokenizer)"
   ]
  },
  {
   "cell_type": "code",
   "execution_count": 20,
   "metadata": {},
   "outputs": [
    {
     "data": {
      "text/plain": [
       "'train/common_voice_bn_35453419.mp3'"
      ]
     },
     "execution_count": 20,
     "metadata": {},
     "output_type": "execute_result"
    }
   ],
   "source": [
    "common_voice_train[0][\"path\"]"
   ]
  },
  {
   "cell_type": "code",
   "execution_count": 21,
   "metadata": {},
   "outputs": [],
   "source": [
    "common_voice_train = common_voice_train.cast_column(\"audio\", Audio(sampling_rate=16_000))\n",
    "common_voice_test = common_voice_test.cast_column(\"audio\", Audio(sampling_rate=16_000))"
   ]
  },
  {
   "cell_type": "code",
   "execution_count": 22,
   "metadata": {},
   "outputs": [
    {
     "data": {
      "text/plain": [
       "{'path': '/home/mehedi/Projects/Learning/wav2vec/local_bn_dataset_2/train/common_voice_bn_35453419.mp3',\n",
       " 'array': array([-2.32830644e-10, -4.65661287e-10, -4.65661287e-10, ...,\n",
       "         1.02171907e-06,  5.25280484e-07,  3.05510912e-06]),\n",
       " 'sampling_rate': 16000}"
      ]
     },
     "execution_count": 22,
     "metadata": {},
     "output_type": "execute_result"
    }
   ],
   "source": [
    "common_voice_train[0][\"audio\"]"
   ]
  },
  {
   "cell_type": "code",
   "execution_count": 23,
   "metadata": {},
   "outputs": [
    {
     "data": {
      "text/html": [
       "\n",
       "                <audio  controls=\"controls\" autoplay=\"autoplay\">\n",
       "                    <source src=\"data:audio/wav;base64,UklGRiR2AgBXQVZFZm10IBAAAAABAAEAgD4AAAB9AAACABAAZGF0YQB2AgAAAAAAAAAAAAAAAAAAAAAAAAAAAAAAAAAAAAAAAAAAAAAAAAAAAAAAAAAAAAAAAAAAAAAAAAAAAAAAAAAAAAAAAAAAAAAAAAAAAAAAAAAAAAAAAAAAAAAAAAAAAAAAAAAAAAAAAAAAAAAAAAAAAAAAAAAAAAAAAAAAAAAAAAAAAAAAAAAAAAAAAAAAAAAAAAAAAAAAAAAAAAAAAAAAAAAAAAAAAAAAAAAAAAAAAAAAAAAAAAAAAAAAAAAAAAAAAAAAAAAAAAAAAAAAAAAAAAAAAAAAAAAAAAAAAAAAAAAAAAAAAAAAAAAAAAAAAAAAAAAAAAAAAAAAAAAAAAAAAAAAAAAAAAAAAAAAAAAAAAAAAAAAAAAAAAAAAAAAAAAAAAAAAAAAAAAAAAAAAAAAAAAAAAAAAAAAAAAAAAAAAAAAAAAAAAAAAAAAAAAAAAAAAAAAAAAAAAAAAAAAAAAAAAAAAAAAAAAAAAAAAAAAAAAAAAAAAAAAAAAAAAAAAAAAAAAAAAAAAAAAAAAAAAAAAAAAAAAAAAAAAAAAAAAAAAAAAAAAAAAAAAAAAAAAAAAAAAAAAAAAAAAAAAAAAAAAAAAAAAAAAAAAAAAAAAAAAAAAAAAAAAAAAAAAAAAAAAAAAAAAAAAAAAAAAAAAAAAAAAAAAAAAAAAAAAAAAAAAAAAAAAAAAAAAAAAAAAAAAAAAAAAAAAAAAAAAAAAAAAAAAAAAAAAAAAAAAAAAAAAAAAAAAAAAAAAAAAAAAAAAAAAAAAAAAAAAAAAAAAAAAAAAAAAAAAAAAAAAAAAAAAAAAAAAAAAAAAAAAAAAAAAAAAAAAAAAAAAAAAAAAAAAAAAAAAAAAAAAAAAAAAAAAAAAAAAAAAAAAAAAAAAAAAAAAAAAAAAAAAAAAAAAAAAAAAAAAAAAAAAAAAAAAAAAAAAAAAAAAAAAAAAAAAAAAAAAAAAAAAAAAAAAAAAAAAAAAAAAAAAAAAAAAAAAAAAAAAAAAAAAAAAAAAAAAAAAAAAAAAAAAAAAAAAAAAAAAAAAAAAAAAAAAAAAAAAAAAAAAAAAAAAAAAAAAAAAAAAAAAAAAAAAAAAAAAAAAAAAAAAAAAAAAAAAAAAAAAAAAAAAAAAAAAAAAAAAAAAAAAAAAAAAAAAAAAAAAAAAAAAAAAAAAAAAAAAAAAAAAAAAAAAAAAAAAAAAAAAAAAAAAAAAAAAAAAAAAAAAAAAAAAAAAAAAAAAAAAAAAAAAAAAAAAAAAAAAAAAAAAAAAAAAAAAAAAAAAAAAAAAAAAAAAAAAAAAAAAAAAAAAAAAAAAAAAAAAAAAAAAAAAAAAAAAAAAAAAAAAAAAAAAAAAAAAAAAAAAAAAAAAAAAAAAAAAAAAAAAAAAAAAAAAAAAAAAAAAAAAAAAAAAAAAAAAAAAAAAAAAAAAAAAAAAAAAAAAAAAAAAAAAAAAAAAAAAAAAAAAAAAAAAAAAAAAAAAAAAAAAAAAAAAAAAAAAAAAAAAAAAAAAAAAAAAAAAAAAAAAAAAAAAAAAAAAAAAAAAAAAAAAAAAAAAAAAAAAAAAAAAAAAAAAAAAAAAAAAAAAAAAAAAAAAAAAAAAAAAAAAAAAAAAAAAAAAAAAAAAAAAAAAAAAAAAAAAAAAAAAAAAAAAAAAAAAAAAAAAAAAAAAAAAAAAAAAAAAAAAAAAAAAAAAAAAAAAAAAAAAAAAAAAAAAAAAAAAAAAAAAAAAAAAAAAAAAAAAAAAAAAAAAAAAAAAAAAAAAAAAAAAAAAAAAAAAAAAAAAAAAAAAAAAAAAAAAAAAAAAAAAAAAAAAAAAAAAAAAAAAAAAAAAAAAAAAAAAAAAAAAAAAAAAAAAAAAAAAAAAAAAAAAAAAAAAAAAAAAAAAAAAAAAAAAAAAAAAAAAAAAAAAAAAAAAAAAAAAAAAAAAAAAAAAAAAAAAAAAAAAAAAAAAAAAAAAAAAAAAAAAAAAAAAAAAAAAAAAAAAAAAAAAAAAAAAAAAAAAAAAAAAAAAAAAAAAAAAAAAAAAAAAAAAAAAAAAAAAAAAAAAAAAAAAAAAAAAAAAAAAAAAAAAAAAAAAAAAAAAAAAAAAAAAAAAAAAAAAAAAAAAAAAAAAAAAAAAAAAAAAAAAAAAAAAAAAAAAAAAAAAAAAAAAAAAAAAAAAAAAAAAAAAAAAAAAAAAAAAAAAAAAAAAAAAAAAAAAAAAAAAAAAAAAAAAAAAAAAAAAAAAAAAAAAAAAAAAAAAAAAAAAAAAAAAAAAAAAAAAAAAAAAAAAAAAAAAAAAAAAAAAAAAAAAAAAAAAAAAAAAAAAAAAAAAAAAAAAAAAAAAAAAAAAAAAAAAAAAAAAAAAAAAAAAAAAAAAAAAAAAAAAAAAAAAAAAAAAAAAAAAAAAAAAAAAAAAAAAAAAAAAAAAAAAAAAAAAAAAAAAAAAAAAAAAAAAAAAAAAAAAAAAAAAAAAAAAAAAAAAAAAAAAAAAAAAAAAAAAAAAAAAAAAAAAAAAAAAAAAAAAAAAAAAAAAAAAAAAAAAAAAAAAAAAAAAAAAAAAAAAAAAAAAAAAAAAAAAAAAAAAAAAAAAAAAAAAAAAAAAAAAAAAAAAAAAAAAAAAAAAAAAAAAAAAAAAAAAAAAAAAAAAAAAAAAAAAAAAAAAAAAAAAAAAAAAAAAAAAAAAAAAAAAAAAAAAAAAAAAAAAAAAAAAAAAAAAAAAAAAAAAAAAAAAAAAAAAAAAAAAAAAAAAAAAAAAAAAAAAAAAAAAAAAAAAAAAAAAAAAAAAAAAAAAAAAAAAAAAAAAAAAAAAAAAAAAAAAAAAAAAAAAAAAAAAAAAAAAAAAAAAAAAAAAAAAAAAAAAAAAAAAAAAAAAAAAAAAAAAAAAAAAAAAAAAAAAAAAAAAAAAAAAAAAAAAAAAAAAAAAAAAAAAAAAAAAAAAAAAAAAAAAAAAAAAAAAAAAAAAAAAAAAAAAAAAAAAAAAAAAAAAAAAAAAAAAAAAAAAAAAAAAAAAAAAAAAAAAAAAAAAAAAAAAAAAAAAAAAAAAAAAAAAAAAAAAAAAAAAAAAAAAAAAAAAAAAAAAAAAAAAAAAAAAAAAAAAAAAAAAAAAAAAAAAAAAAAAAAAAAAAAAAAAAAAAAAAAAAAAAAAAAAAAAAAAAAAAAAAAAAAAAAAAAAAAAAAAAAAAAAAAAAAAAAAAAAAAAAAAAAAAAAAAAAAAAAAAAAAAAAAAAAAAAAAAAAAAAAAAAAAAAAAAAAAAAAAAAAAAAAAAAAAAAAAAAAAAAAAAAAAAAAAAAAAAAAAAAAAAAAAAAAAAAAAAAAAAAAAAAAAAAAAAAAAAAAAAAAAAAAAAAAAAAAAAAAAAAAAAAAAAAAAAAAAAAAAAAAAAAAAAAAAAAAAAAAAAAAAAAAAAAAAAAAAAAAAAAAAAAAAAAAAAAAAAAAAAAAAAAAAAAAAAAAAAAAAAAAAAAAAAAAAAAAAAAAAAAAAAAAAAAAAAAAAAAAAAAAAAAAAAAAAAAAAAAAAAAAAAAAAAAAAAAAAAAAAAAAAAAAAAAAAAAAAAAAAAAAAAAAAAAAAAAAAAAAAAAAAAAAAAAAAAAAAAAAAAAAAAAAAAAAAAAAAAAAAAAAAAAAAAAAAAAAAAAAAAAAAAAAAAAAAAAAAAAAAAAAAAAAAAAAAAAAAAAAAAAAAAAAAAAAAAAAAAAAAAAAAAAAAAAAAAAAAAAAAAAAAAAAAAAAAAAAAAAAAAAAAAAAAAAAAAAAAAAAAAAAAAAAAAAAAAAAAAAAAAAAAAAAAAAAAAAAAAAAAAAAAAAAAAAAAAAAAAAAAAAAAAAAAAAAAAAAAAAAAAAAAAAAAAAAAAAAAAAAAAAAAAAAAAAAAAAAAAAAAAAAAAAAAAAAAAAAAAAAAAAAAAAAAAAAAAAAAAAAAAAAAAAAAAAAAAAAAAAAAAAAAAAAAAAAAAAAAAAAAAAAAAAAAAAAAAAAAAAAAAAAAAAAAAAAAAAAAAAAAAAAAAAAAAAAAAAAAAAAAAAAAAAAAAAAAAAAAAAAAAAAAAAAAAAAAAAAAAAAAAAAAAAAAAAAAAAAAAAAAAAAAAAAAAAAAAAAAAAAAAAAAAAAAAAAAAAAAAAAAAAAAAAAAAAAAAAAAAAAAAAAAAAAAAAAAAAAAAAAAAAAAAAAAAAAAAAAAAAAAAAAAAAAAAAAAAAAAAAAAAAAAAAAAAAAAAAAAAAAAAAAAAAAAAAAAAAAAAAAAAAAAAAAAAAAAAAAAAAAAAAAAAAAAAAAAAAAAAAAAAAAAAAAAAAAAAAAAAAAAAAAAAAAAAAAAAAAAAAAAAAAAAAAAAAAAAAAAAAAAAAAAAAAAAAAAAAAAAAAAAAAAAAAAAAAAAAAAAAAAAAAAAAAAAAAAAAAAAAAAAAAAAAAAAAAAAAAAAAAAAAAAAAAAAAAAAAAAAAAAAAAAAAAAAAAAAAAAAAAAAAAAAAAAAAAAAAAAAAAAAAAAAAAAAAAAAAAAAAAAAAAAAAAAAAAAAAAAAAAAAAAAAAAAAAAAAAAAAAAAAAAAAAAAAAAAAAAAAAAAAAAAAAAAAAAAAAAAAAAAAAAAAAAAAAAAAAAAAAAAAAAAAAAAAAAAAAAAAAAAAAAAAAAAAAAAAAAAAAAAAAAAAAAAAAAAAAAAAAAAAAAAAAAAAAAAAAAAAAAAAAAAAAAAAAAAAAAAAAAAAAAAAAAAAAAAAAAAAAAAAAAAAAAAAAAAAAAAAAAAAAAAAAAAAAAAAAAAAAAAAAAAAAAAAAAAAAAAAAAAAAAAAAAAAAAAAAAAAAAAAAAAAAAAAAAAAAAAAAAAAAAAAAAAAAAAAAAAAAAAAAAAAAAAAAAAAAAAAAAAAAAAAAAAAAAAAAAAAAAAAAAAAAAAAAAAAAAAAAAAAAAAAAAAAAAAAAAAAAAAAAAAAAAAAAAAAAAAAAAAAAAAAAAAAAAAAAAAAAAAAAAAAAAAAAAAAAAAAAAAAAAAAAAAAAAAAAAAAAAAAAAAAAAAAAAAAAAAAAAAAAAAAAAAAAAAAAAAAAAAAAAAAAAAAAAAAAAAAAAAAAAAAAAAAAAAAAAAAAAAAAAAAAAAAAAAAAAAAAAAAAAAAAAAAAAAAAAAAAAAAAAAAAAAAAAAAAAAAAAAAAAAAAAAAAAAAAAAAAAAAAAAAAAAAAAAAAAAAAAAAAAAAAAAAAAAAAAAAAAAAAAAAAAAAAAAAAAAAAAAAAAAAAAAAAAAAAAAAAAAAAAAAAAAAAAAAAAAAAAAAAAAAAAAAAAAAAAAAAAAAAAAAAAAAAAAAAAAAAAAAAAAAAAAAAAAAAAAAAAAAAAAAAAAAAAAAAAAAAAAAAAAAAAAAAAAAAAAAAAAAAAAAAAAAAAAAAAAAAAAAAAAAAAAAAAAAAAAAAAAAAAAAAAAAAAAAAAAAAAAAAAAAAAAAAAAAAAAAAAAAAAAAAAAAAAAAAAAAAAAAAAAAAAAAAAAAAAAAAAAAAAAAAAAAAAAAAAAAAAAAAAAAAAAAAAAAAAAAAAAAAAAAAAAAAAAAAAAAAAAAAAAAAAAAAAAAAAAAAAAAAAAAAAAAAAAAAAAAAAAAAAAAAAAAAAAAAAAAAAAAAAAAAAAAAAAAAAAAAAAAAAAAAAAAAAAAAAAAAAAAAAAAAAAAAAAAAAAAAAAAAAAAAAAAAAAAAAAAAAAAAAAAAAAAAAAAAAAAAAAAAAAAAAAAAAAAAAQACAAAA/v/9/wAAAQAAAP////8DAAkADAAJAAcABgAGAAYABQAEAAUABgAFAAMABAAFAAEA/P/5//n/+P/0//L/8//1//f/9v/2//j/+v/5//f/9//5//3//v/+//3//f///wAAAAD///7///8BAAMABAACAAAAAAACAAQAAwABAAEAAQABAAEAAQACAAIAAgADAAMAAwACAAAAAAAAAAAAAAAAAAAAAAABAAMAAwADAAMAAwACAAEAAQABAAAAAAAAAAAAAQAAAAAAAAABAAEAAgACAAMAAgACAAIAAQAAAP////////7//f/9//3//v/+/////v/9//3//v/+//3//f/+/wAAAAD///3//f/9//7////+//7//v//////AAAAAAAAAAAAAAEAAQABAAAAAAAAAAAAAAAAAAAAAAD//////////wAAAAABAAEAAQABAAEAAgAEAAUABAACAAEAAAABAAMAAwADAAMAAgAAAAAAAAAAAAAA/////wAAAAAAAAAAAAAAAAAAAQABAAAAAQADAAMAAwACAAMAAwACAAEAAAAAAAAAAAAAAAAAAAAAAAAA/v/+////AAABAAAAAAD//wAAAAD///7///8AAAAA/v/+//7//f/+//7//P/8//z//f/8//3//v///wAAAAAAAP//AAAAAAAAAAABAAIAAwABAAAAAAAAAAAAAAAAAAAAAAD//wAA//////7//v8AAAEAAQABAAIAAQAAAAAA////////AAABAAIAAgACAAMAAwADAAEAAwADAAIABAAFAAYABgAFAAMAAgABAAEAAAAAAAAAAQACAAIAAgADAAMAAgAAAAAA/f/9////AAAAAP///f/6//j/+P/4//r/+//9/wAAAQACAAEAAQACAAEAAQABAAEAAQABAAAAAAAAAP////////z/+v/6//r/+//8//3//v/9////AAABAAIAAQACAAMAAQACAAMAAgADAAEAAAD9//z//P/9//3//v8AAAMABQADAAIAAQAAAAEAAwAFAAYABgAGAAUAAwADAAIAAgACAAIAAQAAAAAA/v/8//v//P/7//r/+f/5//n/+v/7//3//P/8//7//f/7//r/+//8//3///8AAAEAAQAAAP///f/9//3///8AAAAAAgADAAMAAwAEAAYABgAFAAUABAAEAAIAAAAAAAAA/////wAAAQADAAQABAABAP//AAADAAUABgAEAAQABAADAAIAAAABAAIAAgABAAIAAAD9//z//P/8//3//v8AAAAAAAAAAAAAAQABAAAAAAD+//3//P/8//v/+f/5//r//P/8//z//v////3/+//7//3///8BAAQABAAEAAQABAADAAIAAgAEAAQAAQAAAAAAAAD+//3/AAAAAAAAAgAEAAQAAgABAAIAAwACAAIAAQAAAAEAAQAAAP7//v8AAAAAAAAAAAAAAAAAAP7//f///wEAAwADAAQABQADAAEAAAAAAP///f/9//3/+//8//r/+v/7//v//v////7//v8AAAEAAAD+/wAAAAAAAAAAAAACAAMAAQAAAAAAAAD/////AAAAAAAAAAABAAMABAAFAAcABwAHAAkACAAGAAUABQAFAAQAAQACAAIAAAD9//3//f/8//v/+v/4//f/+P/4//j/+P/5//v/+//8//3/AAACAAMAAwAAAAAA/////wAAAQABAAAAAAAAAAAA///+////AAABAAAA//8AAAEAAgAEAAUABAAFAAQABQAHAAoADQAOAAsACAAGAAcABgAGAAcABwAGAAMAAAD9//r/+P/5//v/+//9//7/AAAAAAAAAQABAAIAAAAAAP3/+//4//f/9f/0//T/8//x//H/8v/w//D/8f/x//D/8P/y//X/+v///wIAAgADAAYACAAGAAUABQAGAAYABQAEAAMAAwAEAAYABgAFAAQABQAGAAUAAgACAAMAAwADAAMABAAGAAkACgAHAAIAAAAAAP///f/8//v/+//6//j/+v/6//v/+//8//z//P/+//7//f/7//r//P/9//3//v///wAAAAD///7/AAABAAAAAAABAAMABAAFAAUABQAEAAMAAwADAAMAAgAAAP3//P/8//z//f/9/wAAAgAEAAUABAADAAIABAAIAAkACQAJAAcACAAHAAMAAAD////////9//z//P/+/wAA///9//3/AAABAAIAAgABAAEAAgACAAIAAQABAAEAAAD///7//v/9//z/+f/4//j/9v/2//f/+P/6//v/+v/5//v//v///wAAAAAAAAIAAgD///3//v8AAAMABAAEAAQABAAGAAgACAAIAAYABAADAAIAAAAAAAAAAgADAAIAAAAAAAAA//////7//P/7//r/+//9/wAAAQAAAAIAAwACAP//+//4//f/+P/2//T/9P/1//j/+f/6//3///8AAAAAAAAAAAAAAwADAAQABgAHAAoADAANAA0ADQANAA4ADQAJAAUAAQD///7//f////////8AAAIABQAHAAUAAgAAAP///f/8//z//v8AAAEAAQAAAAAAAAAAAAEAAAD8//f/8//z//T/9v/5//z///8AAAAAAAABAAIAAwACAAAAAAAAAAAAAgAFAAYABgAFAAMAAwADAAIAAQAAAAAA///7//f/9v/6/wAAAwADAAIAAwAEAAMAAAAAAAEAAwACAAAA///+/wAAAwAEAAYABQADAAIAAAD///v/9v/0//X/9f/1//X/9//6//7/AAD///3//P/9/wAAAgADAAIAAAAAAAAAAQABAAIAAwAGAAcABAAAAP3//P/9//3/+//5//r//P/+/////////wAABAAGAAYABgAHAAsADAALAAkACAAGAAcABwAGAAYABAABAP///f/6//j/9f/0//b/+P/3//b/9f/3//v//f/+//3//v/+//7//v/7//v//f8AAAMAAwACAAAAAAACAAIAAAD+//v//P/9//z/+//7////AwAFAAUABgAJAA0AEAAQAA8ADQAMAAoACQAJAAkACQAKAAoACQAFAAIAAAD///3/+P/z/+//7//w//H/8f/0//j/+//9/////////wAAAgABAP7//P/8//3//v//////AAAAAAAAAAD+//7//v/+//7//P/7//3///8DAAQABQAGAAgACgAKAAcABgAGAAYABgAFAAMAAgADAAUABgAGAAQAAAD9//v/+v/5//j/9//4//n/+f/5//v//f8AAAIAAQABAAIAAwACAAEAAQACAAMAAwACAAEAAAD///7//f/8//v/+f/6//v//P/8//z//P/+////AAAAAAEAAgADAAQABgAGAAMAAAABAAMABAABAP7//f///wAAAAD9//v//P/+//7//v/8//n//P///wIABAAFAAcACwAPABEADwALAAoACQAIAAYAAgAAAP////////7//P/5//n/+//8//z/+//4//f/+P/5//j/+f/8////AAAAAP////8AAAIAAgACAAAA///8//r/9//2//b/+P/4//j/+f/6//3///8AAAEAAQABAAIABgAJAAsADQAQABIAEgAQAA8ADQAMAAwACgAGAAAA+//5//n/+v/8//v/+//6//r/+//7//v/+//7//z/+//7//v/+//9/wAAAAD///7//f/+///////9//z/+f/3//b/9P/1//b/+f/6//n/+v/8////AQADAAUABwAIAAcABwAJAAoACwALAAsACwAJAAcABgAHAAcABAAAAP7//v////7//P/9//7//v/9//3///8BAAIABAAFAAUAAwAAAAAAAQACAAAA/f/7//v/+//7//n/+f/5//j/9//3//j/+v/6//v//f//////AAAAAAIABAAEAAQABAAFAAMAAwADAAMAAwACAAAA/v/+//7//f/7//z//v///wAAAAACAAQABQAGAAkACgAJAAgABwAIAAYABAABAAAAAAABAAAAAAD+//3//f/8//3//P/5//f/+P/5//n/+v/5//v//v8AAAAAAAABAAMAAwADAAMAAwABAAAAAAAAAAAA///+/////v/+//3//f/+///////+//7/AAAAAAIAAwAEAAYABQAEAAYACAAKAAsACwAJAAcABAAAAP7///////3/+v/5//n/+//7//z//f///wAAAAAAAAAAAQACAAIAAwACAAEAAAABAAEAAAAAAP7//f/9/////v/9//7////+//3//v/+//3//P/8//3/AAAAAAAAAAACAAUABwAGAAUAAwACAAEAAAAAAAIAAQAAAAAAAAABAAAAAQACAAMAAgAAAP3//f/9//7//v////7//f/9//7/AAABAAMAAgACAAIAAwADAAMABAAEAAMAAQAAAAAAAAD+////AAAAAP7//f/9////AAD//////f/9//3//v/+//7//f/+//7//v///wAAAAAAAAAAAAD///3//f/9//3//f/9//3//v/+////AQADAAMAAAAAAAAAAAAAAP///P/8//7//////wAAAgAEAAUABQAFAAUABgAHAAcABwAFAAIAAQAAAAAAAAAAAP7//v///////v/+//7//P/7//v//f////7//v/+/wAAAAD///7///8AAAIAAwACAAIAAAAAAAAA/v////7////9//v//f///wAA//8AAAAAAgACAAEAAAAAAAAAAAAAAAAAAAAAAAEAAgACAAIAAQACAAMAAwADAAIAAQAAAAAA//////////////7///8AAAEAAgABAAAA//////7//v/9////AAABAAIAAAAAAAEABAAEAAMAAgAAAAAA///+/////////wAAAAAAAAAAAQACAAIAAQAAAAAAAQAAAAAAAQACAAIAAAD/////AAAAAAAAAAD///7//v8AAAEAAQAAAAAAAAAAAP///v/+/wAA///9//3//f///wAAAAD//////v/8//v/+//8//7//v/9//7/AAACAAQABAADAAMAAgAAAP7//v8AAAAA/////wAAAAABAAMABQAFAAMAAAAAAP//AAAAAAAAAAAAAP7//f/+/wAAAAAAAP///////wAAAAABAAMABQADAAIAAwADAAMAAgACAAEAAAAAAAAAAAAAAAEAAQABAAAA////////////////AAAAAAAAAAAAAAAAAQAAAAAAAAD+//3/+//7//z//P/+////AAABAAEAAQABAAEAAQAAAAAAAAD//////f/9//7/AAAAAAAAAAAAAAAAAAAAAAAAAAAAAAAAAAAAAAEAAQAAAP///f/9//7//v/+//3///////7//v/+//7/AAD////////+////AAABAAAAAAABAAIAAgABAAAAAAAAAAAAAAAAAAEAAgABAAAAAQACAAIAAwACAAEAAQABAAEAAQAAAAAAAAAAAP///v/9//7/AAD///7//v/9//3//f/+//7//v/+//7//////wAAAAAAAAAAAAAAAAAAAQABAAEAAgACAAAAAAAAAAAAAQACAAAAAAAAAAAAAgADAAIAAQAAAAAAAQACAAAAAQABAAEAAQAAAAAAAQABAAAA/v/9//3///////7/AAAAAP////8AAAAAAAD///7//v/+//7///8AAP///////wAAAQACAAIAAwACAAMAAwACAAMAAwACAAIAAAAAAAAAAAD///7//v/+////AAAAAAAAAAAAAAAAAAD/////AAAAAAAAAAABAAIAAgAAAAAAAAAAAAAA//////////8AAAAAAAAAAAAAAAAAAAEAAQAAAAAAAAAAAAEAAgACAAEAAAD/////AAD/////AAAAAP///v///wAAAAAAAP7//v/9//3///8AAAAAAQABAAAAAAAAAAAAAQADAAMAAgAAAAAAAAABAAEAAQAAAAAAAAAAAAMAAwADAAIAAAAAAAAAAAABAAIAAQABAAAAAAAAAAAAAQACAAIAAQABAAAAAAD//wAAAAAAAAAA/v/9//////////7//f/+//3////////////9//3//f/8//3//v/+////////////AAAAAAEAAwAFAAUAAgAAAP////8AAAAA/////wAAAAD//wAA///+//7//v8AAAEAAgADAAUABAACAAAA/////wAA/////wAA///+//z//P/9//7///8AAAAAAgACAAIAAQABAAAAAAAAAAAAAAAAAAAAAAAAAP////8AAAEAAAAAAAAAAAAAAAEAAgABAAAA/v/9//7//f/+//3//f/9//3/AAABAAMAAgAAAAAAAAAAAAAAAQABAAAAAAD/////////////AAAAAAAAAAAAAAEAAAAAAAAA//8AAAAAAAABAAAAAAD///3//f/+//////8AAAAAAQABAAAAAAAAAP///v/+////AAAAAAAAAAD///3//P/9//7///8AAAAAAQABAAEAAwADAAMAAgABAAEAAgACAAMAAgAAAP7//v///wAAAQAAAAAAAAD///7/AAABAAMABAADAAIAAQACAAEAAAAAAP///f/+//7/AAAAAAAAAAD///7//f///wEAAgACAAAAAAD+//7//////wAAAAD+////AAD+////AAAAAAAAAAAAAAAAAAAAAAAA/////wAAAQABAAEAAQAAAAAAAAD///7///8AAAAAAAAAAAAAAAD///7//v///wAAAQABAAEAAAAAAAAA//8AAAEAAgAAAAAAAAAAAAEAAQAAAAAAAAABAAIAAgABAAEAAAABAAAAAAAAAAAAAQAAAAEAAAD///7///////7//v/+//7//v////////////////8AAAEAAQAAAAAAAAABAAAAAAAAAAAAAAAAAP////8AAAAAAAAAAAEAAQAAAAAAAAAAAAAAAAAAAAAAAQABAAEAAQAAAAAAAAAAAAAAAAAAAAAAAAAAAAAAAAAAAAAAAAAAAAEAAAAAAP////////////8AAAEAAQABAAAAAAD//////////wAAAAAAAAAAAAD///////8AAAAAAAD//wAAAAAAAP///v////7///8AAP////////7///8AAAAAAAAAAAIAAgABAAAAAAAAAAAAAAAAAAAAAAAAAAAAAAAAAAAAAAAAAAAAAAABAAAAAAABAAEAAAAAAAEAAAAAAAEAAQAAAAAAAAAAAAAAAAAAAAAA//////////8AAAAAAAAAAAEAAgABAAEAAQAAAAAA/v/+/////////////v/+//7//v////////8AAAAAAAAAAAAAAAAAAP///v/9//7///8AAAAAAAABAAEAAQAAAAAAAAAAAAAAAQACAAIAAQACAAQABAADAAAAAAAAAAEAAQAAAAIAAgADAAMAAgACAAMAAAAAAAAA////////AAAAAAAAAAAAAAAAAAD////////+////////////AAAAAP//AAD///////8AAAAA/////wAAAAAAAAAA//8AAAAAAAAAAP7//v8AAAAAAQABAAAAAAAAAP//AAAAAAAAAAAAAAAAAAAAAAAA/////wAAAAAAAAAAAAACAAAAAAABAAEAAAAAAAAAAAABAAAAAAAAAAAAAAD//wAAAAAAAAAAAAAAAAAAAAAAAAEAAQABAAAAAAABAAEAAAAAAAAAAAAAAAAAAQABAAEAAQAAAAAAAAAAAAAAAAAAAAAA///+/wAAAAAAAAAAAAAAAP///v/9/////////wAAAAAAAAAAAAAAAP//AAABAAAAAQABAAAAAAAAAAAAAAD//wAAAAD//wAAAAD///7//////////v8AAAAAAAAAAAAAAAAAAAAAAAAAAAAA/////wAAAAAAAAAA///////////+//7//v8AAAAAAAAAAAAAAQABAAIAAgAAAAEAAQAAAAAA///+//3//v///wAAAAD///////8AAAAAAAAAAAAAAQACAAIAAAAAAAAAAQACAAIAAQABAAEAAAD//wAA//////7//v///////////////////wAAAAAAAAAAAAAAAP//AAAAAAAAAAAAAP//AAAAAP////8AAAEAAQAAAAAAAAAAAAAAAAAAAAAAAAAAAAAAAAAAAAAAAAAAAAEAAAAAAAAAAAAAAP////8AAAAAAQACAAIAAQABAAEAAQABAAEAAAAAAAIAAQAAAAAAAgADAAMAAgABAAIAAAAAAAAAAQACAAEAAAAAAP///////wAAAgACAAEAAAD///7//f/9//3///8AAP//AAAAAAAA//8AAAAAAAAAAAAA/v/+//7//v///wAAAAAAAAAAAAAAAP///v/+////AAD///7/AAD///7//v/9//7/AAABAAIAAQAAAP7//v////7//f/+////AAAAAP///////wAAAAAAAAEAAAAAAP////8AAAAAAAAAAAEAAgABAAAAAAAAAAAAAAABAAIAAQABAAAAAAAAAAAAAQADAAMAAQAAAAAAAAAAAAAAAAABAAEAAAAAAAEAAgACAAMAAwACAAEAAAD//wAA//8AAAAAAAAAAP////8AAAAAAAAAAP//AAAAAP//AAAAAAEAAgABAAAAAAAAAAAAAgABAAEAAQACAAIAAQAAAAEAAQABAAAAAAABAAAA///+//7///8AAAAAAAAAAAAAAAD//wAAAAAAAAAAAAAAAP///////wAAAAD//wAAAAD//////v/+/////v///////v/9//z//P/8//7////+//7/AAD///7//v////7///8AAAAAAAAAAP///////wAAAAAAAAAAAAAAAP/////+////AAAAAAEAAQAAAAAAAAAAAAAAAAABAAAAAAAAAP//AAAAAAAAAAD//wAAAAD///7//v///wAAAAAAAAAAAAAAAP//AAAAAAAAAAD////////+/wAAAAAAAAAAAAAAAP/////+//7///8AAAAAAAD/////AAD+//7/AAD///////8AAAAAAAACAAIAAwADAAIAAgACAAAAAQABAAAAAAAAAAAAAAAAAAIAAgABAAEAAAABAAEAAgADAAMAAgADAAIAAwADAAMABAADAAEAAQABAAAAAAAAAAEAAQABAAEAAAAAAAAAAAACAAEAAgABAAAAAAD///////////7//v/9//3//f/9//7///8AAAEAAAAAAP///v///wAAAAAAAP////////////8AAAAAAAABAAEAAAAAAAAAAAAAAAAAAQABAAAAAAAAAAAAAQAAAAEAAQAAAAAAAAAAAAAA//8AAAAAAAAAAAAAAAAAAAAAAAAAAAAAAAAAAP///////wAA//////////////////////////8AAAAAAAAAAP/////+///////+/wAA//8AAAAAAAAAAAAAAAAAAAEAAAAAAAAA//8AAAAAAAABAAEAAAABAAAAAAAAAAAAAAAAAAAAAAAAAAAAAAAAAAAAAAAAAAAAAAAAAAAAAAABAAEAAQABAAEAAAABAAIAAQAAAAAAAAAAAAEAAQACAAIAAQABAAEAAAAAAAAAAAAAAAEAAgACAAEAAQACAAMAAgACAAIAAAAAAAAAAAAAAAAAAAAAAAAA//8AAAAAAAAAAAAAAAAAAAEAAQABAAEAAQABAAEAAAAAAAAA/v//////AAAAAAAA//////////8AAAAAAAAAAAAAAAAAAAAAAAAAAAEAAQAAAAAAAAAAAAAA//8AAAAAAAAAAP7//v/9//7///////7//v////7//////wAA/////wAA///+////AAAAAAAAAAAAAP///////wAAAAAAAAAAAAD////////+////AAAAAAAAAAD//wAAAAAAAAEAAAAAAAAAAAAAAAAAAAAAAAAAAAAAAAAAAAAAAAAAAAAAAAAA///+/wAAAAAAAAAAAAAAAAAAAAAAAAEAAgACAAEAAgABAAEAAQAAAAAAAAABAAIAAgABAAEAAQABAAAA//8AAAAAAAAAAAAAAAAAAAEAAAAAAAAAAAAAAAAAAAAAAP///v///////v/+//7//v/+//7///8AAAAAAAAAAAAAAAAAAAAA//8AAAEAAQABAAIAAAAAAAAAAQACAAIAAgACAAQAAwADAAMAAQABAAEAAgACAAEAAQABAAEAAQABAAAAAAAAAAAA/v/+//////8AAAAAAAAAAAAA/v///////////wAAAAAAAP///v/+//////8AAP//////////AAD//wAAAAAAAP////8AAAAAAAAAAAAAAAAAAP7//P/9//3//v////7//f/9//7//f///wAAAAAAAAAA/////wAAAAAAAAAAAAAAAAAAAAAAAAAAAAACAAIAAwAEAAMAAgABAAEAAAABAAAAAAAAAAAAAAAAAAEAAQABAAEAAAAAAAAAAAAAAAAAAAAAAAAAAAD//////////////////wAAAAAAAAAAAAAAAAAAAAAAAP///v/+//7//v///wAAAAAAAAAAAAAAAAAAAAAAAAAAAAAAAAAAAAAAAAAAAAAAAAAAAAABAAEAAAAAAAEAAQAAAAAA//8AAAAA//8AAP///////wAAAAAAAAAAAAAAAAAAAAAAAAAAAAAAAAAAAAAAAAAAAAAAAAAAAAAAAAIAAAAAAAAAAAAAAAAAAAAAAAAAAAD/////AAAAAAAA///9//7//v///wAAAAABAAAAAAABAAEAAQACAAEAAAAAAAAAAAAAAAAAAAABAAEAAQABAAEAAQAAAAAAAAAAAAAAAgABAAEAAQABAAEAAAAAAP//AAAAAP////8AAAAAAAAAAP////////7//v////////8AAAAAAAAAAAAAAAAAAAEAAQABAAAAAgABAAEAAAD//wAAAAAAAP///////wAAAAAAAAAAAAD//wAAAAAAAAAA//////7//v///wAAAAD//wAAAAAAAAAAAAAAAP////8AAAAAAAAAAAAAAAAAAAEAAQAAAAAAAAAAAAAA//////7/AAAAAAAAAQABAAEAAAAAAAAAAAAAAAEAAQABAAIAAwACAAEAAQACAAAAAAAAAAAAAQABAAIAAQACAAIAAgABAAEAAQABAAEAAQABAAAAAAAAAAAA///+//3//P/8//v/+v/6//r/+//8//z//f/9////AAAAAAAAAAAAAAAAAAAAAAAAAAAAAAAAAAAAAAAAAAD//wAAAAAAAAAAAQABAAEAAQACAAEAAQAAAAAAAAD+//7//v////7///8AAAEAAgADAAIAAQAAAAAAAAAAAAEAAgACAAIAAQABAAAAAAAAAAAA//////7///8AAAEAAAAAAAEAAAAAAAAAAAABAAAAAgABAAEAAgABAAAAAAD///////8AAAAA///////////+//7///////7//f/9//7//f/+//7//v///wAAAAAAAAAAAAD/////AAAAAAAAAAAAAAAAAAABAAAAAAAAAAAAAAAAAP////8AAAAAAAAAAAAAAAD/////////////AAABAAIAAgABAAMAAwADAAMAAgADAAMAAQABAAAAAAAAAAAAAAD///////////////8AAAAAAQAAAAAAAAAAAAAAAQAAAAEAAQAAAAAAAAAAAP//////////////////AAAAAAAAAQAAAAAAAAAAAAAA//8AAAAAAAAAAAAAAAAAAP7//v/+//7//v/+//7/AAAAAAAAAAAAAAAAAQAAAAAAAQABAAIAAQABAAEAAQADAAMAAgABAAAAAAAAAP/////+//7///8AAAEAAgACAAEAAQABAAAAAQABAAEAAQAAAAAAAQABAAEAAQAAAAAAAAABAAAAAAAAAAAAAAAAAAAA//////7//v/9//3//v/+//7//v/+////AAAAAP//AAAAAP////////7//v8AAAAAAAAAAAAAAAAAAAEAAAAAAAAAAAD///7/AAAAAAAAAgABAAIAAQACAAIAAgABAAAAAAAAAAAAAAAAAAAAAQABAAEAAQAAAAAAAAD///////8AAAAA//////////8AAP//////////AAD//wAAAAAAAAAAAAAAAAAAAAAAAAAAAAAAAAAA//8AAAAAAQABAAMAAwADAAIAAQABAAEAAgABAAAAAAD/////AAAAAP////8AAAAAAAAAAAAAAAAAAAAAAAAAAAAAAgABAAEAAQABAAEAAAAAAP///v8AAAAAAAAAAAAAAAAAAAAAAAAAAAAAAAAAAP//////////AAD///7//v/+/wAAAAAAAAAAAAABAAEAAQACAAIAAgACAAIAAAAAAAAAAQABAAEAAQABAAEAAQABAAAAAAAAAAEAAAAAAAEAAQACAAIAAQAAAAAAAAAAAP///v/+//7///8AAAAAAAABAAEAAQAAAAAAAAAAAP///f/8//3//v/+//3//P/8//z//f/+//7//v/+//7//////wAAAAAAAAEAAAAAAAAAAAD////////+////AAD/////AAABAAIAAgABAAEAAQADAAMAAwACAAIAAgACAAMAAwADAAMAAwACAAIAAQABAAAAAAAAAP//AAAAAAAA///+////AAAAAAEAAAD//wAAAAABAAEAAQACAAEAAgADAAQABAADAAIAAAAAAAAAAAD+//7//f/9////AAAAAAAAAAAAAAEAAQAAAAAA///+//7////+//3//f/9//7//v///wAA////////AAAAAAAAAAAAAP//AAAAAP////////3//f/+//////8AAAAAAAABAAIAAgABAAEAAQABAAAAAAAAAAAA////////AAAAAAAAAAAAAAAAAAAAAAAAAAAAAAEAAgABAAIAAgABAAEAAQAAAAEAAAAAAAAAAAAAAAAAAAAAAAAAAQAAAAEAAAAAAAAAAAAAAAAA/v/8//3///8AAP//////////AAAAAAEAAQACAAIAAAAAAAAA/v/9//z//P/7//v/+//8//3//v///wAAAgACAAEAAQABAAIAAgAAAAAAAAAAAAAAAAAAAAAAAQABAAEAAgADAAIAAQACAAEAAQACAAEAAQABAAAAAAAAAAAAAAAAAP//AAAAAAEAAAAAAAIAAgACAAEAAAABAAAA//8AAP7//f/7//r/+//8/////////////////wAAAAABAAIAAgACAAEAAQAAAAAA/////////v/9//3//v/+////AAAAAAAAAAAAAAAAAAACAAEAAAAAAAAAAAAAAAAAAAAAAAAA/////////v///wAAAAAAAAAAAAD///7//v/+/wAAAAAAAAAA///+////AAABAAAAAAABAAIAAwADAAMAAwADAAIAAgABAAAAAAAAAAAAAAABAAAAAAAAAAAAAAAAAAEAAgACAAEAAQAAAAEAAgACAAEAAAAAAP///v8AAAAAAAAAAAAAAAD//////v///wAAAAAAAAAAAAD/////AAAAAP///v/8//z/+//8////AAABAAIAAQABAAAAAAABAAAAAAD/////////////AAD//////v/+//3//v/+////AAAAAAAAAAABAAAA/////wAAAAAAAAAAAAAAAAAAAAACAAEAAAAAAAAAAAD//wAAAAABAAIAAgABAAEAAQABAAEAAQACAAMAAwADAAMAAgACAAMAAgACAAEAAAD///7//v///wAAAAAAAAAAAAAAAAEAAQABAAEAAQABAAIAAAAAAAAAAAD///7//v////////////7///8AAAAA///+//7////+////AAD+/////////////////////////wAAAAAAAAAAAAAAAAIAAQAAAAAA///9//7//f/+//z/+//8//3//v/+//3//f///wAAAAAAAAAAAAAAAAAAAAAAAAAA///+//7//v//////////////AAAAAAAAAAAAAAAAAQABAAEAAQABAAIAAQABAAAAAgABAAAAAQAAAAIAAgACAAIAAgACAAEAAQABAAEAAQABAAEAAAAAAAAAAAABAAAAAAD///7///8AAAAAAQABAAAA/////wAA//////7//v/+//7//////wAAAAD//////////wAAAAAAAAIAAQAAAAAAAAAAAAAAAAABAAEAAAAAAAAA/////wAA//////////////////////7//f//////AAAAAAAAAAABAAAAAAAAAAAAAAAAAAAAAgADAAQAAgABAAAAAAAAAP///v///wAAAAAAAAAAAAAAAAAAAAACAAIAAQAAAAAAAAACAAIAAgACAAAAAAAAAAAA///9//7////+//////////7//v///wAAAAAAAAAAAQABAAEAAgABAAEAAAAAAAAA/////wAAAAABAAIAAAAAAAAAAAAAAP/////+//3//f/+/////v/+/////////wAA/v/+////AAAAAAAAAAAAAAAAAAAAAAAAAAAAAP///////////////////v////////8AAAAAAAAAAAAAAAAAAAAAAAAAAAEAAgADAAMAAgABAAIAAAABAAIAAwAEAAMAAwAEAAMAAQAAAAEAAQABAAEAAAAAAAAAAAAAAAEAAgACAAIAAgADAAIAAgABAAEAAQAAAAAAAAAAAAAA/v/////////+//7//v/9//3//f/9//3//v////7//f/////////+//3//f/9//z/+//7//n/+P/4//j/+P/5//r/+//8//v/+f/7//3//f/+//7//v/9//7//v8AAAAAAAD///7//v///wAA///9//z//v/9//z//f/8//3//f/8//3//v////////8AAAAAAAD///7//v///wAAAAAAAP//AAAAAAAAAAD//wAAAAAAAAAAAAABAAEAAgABAAIAAgACAAQABgAGAAUABQAFAAUABwAHAAYABgAHAAcABwAHAAgACAAIAAgACQAIAAkACgAKAAoACQAIAAgACAAIAAkACQAIAAcABgAHAAcABgAFAAQAAwABAAEAAgAAAAEAAAAAAAAAAAD///3//P/7//v/+v/5//r/+v/6//r/+v/7//v/+//7//v/+v/5//j/9//3//f/9f/0//b/9v/0//P/8v/z//T/9P/1//T/9P/1//b/9//5//j/9f/1//b/+f/6//r/+v/7//z//P/8//r/+v/7//3//f/9//7//f/+/wAAAAD//wAAAAAAAAEAAQACAAMAAQABAAAAAgACAAEAAQAAAAAAAAACAAMAAgADAAIAAQAAAAAAAQADAAQABAADAAQABgAGAAYABgAFAAUABQAGAAUABgAGAAcACQAIAAcABwAGAAcACAAIAAgACAAIAAgACQAKAAoACQAIAAgACQAIAAYABgAIAAkACgAKAAkACAAHAAUABQADAAMAAwAEAAQAAwADAAIAAwACAAEA///9//3//v/9//3//P/7//z//f/8//z/+//6//r/+v/6//r/+v/5//j/+P/3//b/9v/2//f/9//1//X/9f/2//f/+P/4//f/9v/2//f/+P/4//n/+v/6//r/+f/5//v//f/9//z/+//7//z//P/8//z//v////////////7//v///wAAAAACAAIAAAAAAAAAAQABAAIAAQAAAAAAAQACAAEAAAAAAAAAAQAAAAEAAAAAAAAAAQABAAEAAQACAAIAAQACAAMAAgAEAAUABQAFAAUABgAEAAQABQAGAAYABgAGAAYABQAEAAMABAAFAAQABAADAAIAAgACAAIAAQAAAAAAAAABAAEAAQABAAAAAQABAAEAAAAAAAAAAAAAAAAA/////////v/9//7//f/8//3//f/9//3//v/9//z//v//////////////AAAAAP////8AAAAAAAAAAAAA//////3//v/9//7///////////8AAAAAAAAAAAAAAAAAAAAA///+////////////AAD//////v/+/wAAAAAAAAAAAQACAAEAAQACAAIAAgACAAMAAwADAAMAAwACAAIAAgACAAMAAwADAAIAAwADAAUABAAEAAQAAwADAAMABAAEAAIAAgACAAEAAgABAAAAAAACAAMABAADAAIAAQABAAIAAQACAAIAAwACAAIAAQAAAAAAAAABAAEAAQAAAAAAAAAAAAAA//////////8AAAAAAAAAAAAAAAAAAAAAAAAAAP///////////////////////////v/+//////////3//P/7//z//f////7//P/7//v/+//8//z/+//5//n/+//8//z//P/9//7///8AAAAAAAD///3//v8AAAAAAAAAAP/////+//3//f/+//7//f/9//7/AAAAAP/////+////AAAAAAAA/////wAA//////////////3//v///wAAAAAAAAAAAAAAAP///////wAAAgACAAMAAwABAAAAAAD//wAAAwAFAAQAAgACAAIAAgACAAEAAAABAAIABAADAAMAAgABAAIABAAGAAYABAADAAQABQAGAAUAAwADAAQABAADAAIAAAACAAQABwAIAAcABAABAAEAAwAEAAQAAgAAAAAAAAADAAIAAgACAAIAAwACAAIA///+/wAAAQAAAAAAAAAAAAAAAgADAAMAAwACAAEA///7//j/+f/+/wEABAAFAAIAAAAAAP/////+//z//P/9/wAAAQABAAEAAgACAAEAAgABAAAA/v8AAAMABAAEAAEAAAAAAAAA/v/9//7///8AAAIAAwAAAP3//f/+/wAAAAAAAP////8AAAAAAAD+////AAD///3/+P/1//P/9P/3//v//P/6//j/+P/5//n/+P/0//P/9v/5//v/+P/2//X/9f/5//3//v/8//n/9f/z//L/9P/4//r//P/7//v//P/7//r//P//////+v/3//f/+f///wIAAwABAAAAAAABAAMAAQD+//v/+f/8////AAD/////AQAGAAkACAAFAAQABQAGAAgACwAMAA0ADgAOAA4ADAAKAAsADwATABUAEgAPAA0ADgASABEADwAMAAkACwAOABIAEgARABIAEwAVABMAEQANAAoADAARABQAEQAOAA4ADwAOAAoACAAIAAkACAAGAAcABwADAP///v///wAA/v8AAAQABAABAP7//v8AAAEA///9//r/+P/3//n//f/+//3/+//3//T/8v/1//f/9//2//f/9//2//X/9P/2//f/9//3//T/8P/t/+3/8P/x//D/7f/s/+3/7//w/+7/7P/r/+v/7f/v/+7/6v/n/+b/6P/q/+v/7f/w//P/9v/1//H/6//q/+z/7//y//L/8//z//T/9//4//j/9v/2//j/+//9//z/+v/3//b/+f/9///////+/wAABAAFAAMAAgAFAAkACgAJAAYAAwAAAAIABQAEAAIAAAACAAcADAAOAA0ACQAGAAYABgAGAAUABQAIAAwADwARABMAFQAXABYAGAAXABQAEAAPABIAFAATABEADwAPABAAEgATABEADwAQABIAEgAQAAwACwANAA8ADwAOAAwACgAJAAsADgANAAoACQAJAAkABAABAAAAAQAAAAAAAwAFAAUAAwAEAAUABAABAP///v8AAAAAAAAAAAEAAgACAAMAAwAAAPz/+v/4//j/+P/4//j/9v/3//j/+v/7//r/+v/5//n/+P/1//P/8v/y//P/8//y//D/7//x//P/9P/y//L/8//1//T/8v/w//H/8v/y//P/9P/1//P/8f/z//X/9v/1//T/9f/2//b/9f/z//H/8v/1//f/9//2//b/9v/4//j/9//3//b/9v/4//n/+f/3//b/+P/8///////8//z/+//8//3//f/8//3/AAADAAUABQAEAAIAAQACAAIAAQD///7///8CAAYABQADAAEAAQAEAAcABgAEAAEAAAACAAIAAgADAAIAAwAEAAYABQACAAAAAQADAAQABAADAAQABQAGAAcABgAEAAIAAgAFAAcABwAGAAUABQAFAAUABQAGAAYABQAGAAcACAAHAAYABgAHAAYABgAFAAUABQAGAAYABgAFAAIAAQABAAEAAQACAAQABAADAAMAAwACAAEAAQABAAQABQADAAQABAAEAAEAAAAAAP///////wAAAAAAAP//////////AAAAAAAA/v/+///////+//3//f/9//3//v////7//v/+//3//v/+//3//P/+/wAAAQD///3//P/8//v/+//9//7//////wAAAAD///3//P/9//7//////////v/+//7//P/9//3//f/+/wAAAAD+//3//v8AAP7//f/+//3//v/+/////v/8//r/+//8//z/+//8//3//f/9//7/AAD///3//f/+/wAAAAD//wAAAAD///7//v////7///8AAAEAAgABAAAA///+//3//v8AAAEAAgADAAQABAABAAAA////////AAAAAAIABAADAAQABAADAAAAAAABAAMABAAEAAUABgAFAAMAAwABAAEAAgAEAAUABAACAAAAAAAAAAAAAAAAAAEAAQABAAIAAwABAP7//f///wAAAQABAAIAAgAAAAAAAAD///7///8AAAIAAwADAAIAAAAAAP///v////7//f///wAAAAAAAP////8AAP///v///wAAAAAAAAAAAAD///7//v///wAAAAAAAAEAAgABAAIAAAAAAAEAAQACAAIAAgADAAMAAQAAAAAAAQACAAEAAQACAAIAAAD///3//v/+////AAAAAAEAAQAAAAAA/v/9//3//v8AAAAAAAAAAAAA////////AAAAAAAAAQAAAAAAAAABAAAAAAAAAP////8AAAEAAAABAAEAAQAAAP////8AAAAAAAD///////////7//P/8//3//f/+///////+//3//P/9//3//f/+/wAAAAAAAAEAAAAAAAAAAAAAAAAAAAAAAAEAAgADAAEAAAD/////AAAAAAEAAQAAAAAAAAAAAAAAAAAAAAAAAQABAAEAAAAAAAAAAAAAAAAAAAAAAAAAAAAAAAAAAAD///////8AAAAAAQABAAMAAQAAAP//AAABAAEAAQABAAIAAQABAAAAAAAAAAEAAQACAAIAAQABAAEAAQABAAAAAAAAAAAAAAAAAAAAAAAAAAAAAAAAAAAAAAAAAAAAAAAAAAAAAAAAAP/////+//3////////////+//3//f/9//7/AAAAAAAAAAD+////AAAAAAAAAAAAAAAAAAAAAAAAAAAAAAEAAQABAAEAAQABAAEAAgABAAEAAAAAAAAAAAAAAAAAAAAAAAAA////////AAAAAAAAAAAAAP////8AAAAAAAAAAAEAAQABAAEAAQAAAAAAAQABAAEAAQABAAAA///////////+/wAA///+//7//v////7//v8AAAAA////////AAAAAAAAAAAAAP//AQABAAEAAAAAAAAAAAD+//3//f/+/wAAAAAAAAIAAQAAAP//AAABAAEAAAACAAMAAgABAAEAAQACAAIAAQAAAAAAAAAAAP//AAAAAAAAAQAAAAAAAAD//wAAAAABAAEAAQAAAAAAAAAAAAAAAAAAAAIAAAAAAP///////wAAAAAAAAAAAQABAAAAAAAAAAAAAAAAAAAAAAAAAAAAAAAAAAAAAAAAAP3//f/+//3//v/+/////v/8//3//v/+////AAD///7//f/9//3//v8AAAEAAgABAAAAAAABAAAA/////wAAAAAAAAAAAAAAAAIAAgADAAIAAQABAAEAAgACAAEAAAAAAP///v/+//7///8AAAAAAAAAAAAAAAABAAEAAQACAAIAAwACAAEAAQABAAAAAAAAAAAAAAAAAP//AAAAAAAAAAAAAAAA/////wAA///+/wAAAAAAAAAA/v/+///////+//7//v////7//f/9//3//f////////8AAAAAAAAAAAAAAAACAAIAAQAAAAAAAAAAAAAAAAAAAAAAAAAAAAAAAAD///////////7//f/9//3//v8AAAEAAwAEAAQAAwACAAMABAAEAAMAAwADAAMAAgAAAP////8AAAEAAgACAAIAAgABAAEAAQACAAAAAAAAAP///////wEAAQABAAIAAQABAAAAAAD+//7////+//7//f/8//3///8AAAAAAQABAAEAAAAAAAAAAQABAAAA///+//z//P/9//z//P/9//7////+////AAD//wAAAAD+/////v/+//////8AAAEAAgAFAAQAAwACAAEAAAAAAAAAAQABAP/////9//7///8AAAIAAwADAAIAAQABAAMAAwADAAMAAgACAAAA///+////AAABAAAA//8AAAAAAAAAAP///v/+////AAACAAIAAgABAAEAAgACAAEAAAD///////8AAAAAAAD+////AAD///7///8BAAMAAgACAAAAAAAAAAEAAQAAAAAAAAD///3//f/+///////+//7//f/8//z//f/+////AAAAAAAA//////7//v//////AAD///3//P/8//3//v///wAAAAD//wAAAAAAAAEAAgACAAIAAgACAAMAAgABAAAA///+////AAAAAAAAAQACAAEAAQACAAEAAAABAAAAAAD///7///8AAAAAAAAAAAAAAAAAAAAAAAD///7/AAAAAAEAAgACAAAAAAABAAEAAgADAAIAAgACAAAAAQAAAAAA///+//z/+//7//z//v/+////AAABAAIAAQABAAAA//////////8AAAAAAAAAAAAA//8AAAAAAgABAAAA////////////////AAAAAP7//v//////AAAAAAEAAgABAAEAAgACAAIAAAAAAP////8AAAAAAAAAAAEAAQAAAP///v/9/wAAAAD//////v/+//7///////7//v///wAAAAAAAAAA//8AAAIAAQAAAAAAAAAAAAEAAQABAAAAAAAAAAIAAwADAAQAAwACAAMABAADAAIAAgACAAIAAgADAAIAAQAAAAAAAAD//wAAAAAAAAAAAAAAAAAA///9//v/+//9//7//v/9//7//v/+/wAAAAD/////////////AAD///7//v///wAAAAAAAAAAAAAAAAEAAQAAAAAAAAABAAEAAgACAAIAAQABAAEAAQADAAMAAgABAAEAAAD/////AAD///7////////////+//7//////wAA///9//7//v/9//7///8AAAAAAAAAAAAAAAD/////AAAAAAAAAQACAAQAAwADAAMAAwADAAEAAQACAAMAAgADAAIAAAAAAAAAAAAAAAAAAAAAAAEAAAD+//z/+//8//z//P/8//7////+//3/+//8//z//P/9//3//f/9//////8AAAAAAAAAAAAAAAACAAMAAgACAAIAAgADAAQAAgABAAEAAQACAAIAAgABAAEAAQABAAAA//8AAP///v/+///////9//v/+v/5//v//P/9//3//P/+//7//v8AAAAAAAAAAAAAAAAAAAAAAQACAAMABAAFAAQAAgACAAMAAwACAAIAAwADAAIAAgABAAEAAAAAAAEAAQACAAIAAgACAAEAAQAAAP///v/9//3//f///////v/9//3//f/8//z//P/8//7//v////////////7//v/////////+//7/////////AAAAAAAAAAAAAAAAAAAAAAEAAQACAAMAAwABAAEAAQABAAAAAAABAAEAAQAAAAAAAAAAAP////8AAAAAAAAAAAAAAQACAAEAAAAAAAAAAQABAAAAAAAAAAAAAAAAAP///v/+//7//////wAAAAAAAAEAAAAAAAAAAAAAAAAAAQAAAAAAAAAAAAAAAAD///7//v//////AAAAAAAAAQABAAEAAQABAAEAAQABAAIAAgACAAEAAAAAAAAAAAACAAIAAgABAAEAAgABAAEAAAAAAAAAAAAAAAAAAAD//wAA///+//3//P/9//3//f/9//7//////////v/9//7//f/+/wAA//8AAAAAAAABAAAAAAAAAAAAAAABAAIAAQABAAIAAwADAAMAAwACAAIAAQACAAIAAwACAAEAAgACAAEAAQAAAAAA///+/////v////////////7//v/+//7///8AAP//AAAAAAAA///+//7/AAAAAAEAAAAAAP7//v////////8AAAAAAAAAAAAAAAAAAAEAAQAAAAAAAAAAAAAAAAAAAAAAAAD+/wAAAAAAAAAA/v///wAAAAAAAAAA//8AAAAAAQAAAAAAAAAAAAEAAAAAAAAAAAAAAAAAAAAAAP////8AAAAAAQAAAAAAAAAAAAAAAAAAAP//AAAAAP/////+//3//v///wAA//8AAAAAAAAAAAAAAAAAAAAAAAABAAAAAAAAAAAA/v/+////AAAAAAAAAAD//wAAAAABAAIAAQABAAIAAgACAAIAAwADAAIAAgACAAEAAAAAAAAAAAAAAP///v/+////AAD////////+////AAAAAAAA/////wAAAAAAAAAAAAAAAP7//v/9//3//f/+/////////////v/+/wAAAAABAAEAAQAAAAAAAAAAAP////////////////////8AAAAAAAAAAAAAAAAAAP//AAAAAAAAAgAAAAAAAAAAAAAAAAD//////////wAAAAABAAMAAgADAAMAAwADAAIAAQACAAEAAQABAAEAAAAAAAAAAAAAAP////8AAAAAAAAAAAEAAAAAAAEAAQABAAEAAQABAAAAAAAAAAAAAAAAAAAAAAD//////v/9/////v8AAAAAAAAAAAAAAAAAAP//////////AAAAAP///////wAAAAAAAAAAAAAAAAAAAAABAAEAAQAAAAAA//////////8AAAAAAAAAAAAAAAD//wAAAAAAAP//AAAAAAEAAAABAAEAAQAAAAEAAQABAAAAAAABAAAAAQAAAAAAAAAAAP////8AAAAA/////////v////3//v////7//v/+//3//f/9//3///8AAAAAAAAAAAAAAAAAAAAAAAAAAAAAAQAAAAAAAAAAAAAAAAAAAAEAAAAAAAAAAAAAAAAAAAAAAAAAAAAAAAAAAAAAAAAAAAAAAAAAAAAAAAAAAAAAAAIAAQABAAEAAQAAAAAAAAAAAAAAAAAAAP////8AAAAAAAAAAAAAAAAAAAAAAAAAAAAAAAAAAAAAAAAAAAAAAAAAAAAAAAAAAAAAAAAAAAAAAAAAAAAAAAAAAAAAAAAAAP///////////////////v/+//7//v/+////AAABAAEAAQAAAAAAAQABAAEAAQABAAEAAwACAAEAAAAAAAAAAAD//////v/+///////+//7//v/+//7////+////AAD////////////////////////+//7////+////AAD//////////////////wAAAAACAAIAAQABAAIAAwACAAIAAwADAAMAAgABAAEAAQABAAEAAgABAAEAAwADAAQAAgABAAAAAAAAAAAA/////////v///////////////////wAAAAABAAEAAAAAAAAAAAAAAAIAAQAAAAAAAAD//wAAAAAAAAAA//////7//f///wAAAgABAAAAAAAAAAEAAAD//wAAAAAAAAEAAAAAAAAAAQAAAAAAAAAAAAEAAQABAAAAAAAAAAAAAAAAAAAAAAD///////////7/AAAAAAAAAAD/////AAAAAAAAAAAAAAAAAAABAAEAAAABAAEAAQAAAAAAAAAAAAEAAAAAAP////8AAAEAAQAAAP////8AAAEAAQAAAP//AAAAAP///v////7//v/+//7////+//7/AAD///7//f/9/wAAAAAAAP////8AAAEAAgAAAAAAAAAAAAAA/v/8//3////+//7//v///wAAAAAAAAAAAAAAAAAAAAAAAP////8AAAAAAAAAAAAAAAAAAAAAAAABAAEAAAAAAAAAAQABAAIAAwADAAMAAgABAAAAAQABAAIAAQAAAAEAAgABAAAAAAAAAAEAAQABAAAAAAAAAAAAAAAAAAAAAAAAAAAA//////////8AAP/////+//7/AAAAAAAA/////wAAAAAAAP//AAAAAAAAAAD///7///8AAAAA///+//7///8AAAAAAAD///////8AAAAAAAAAAAAAAAABAAEAAQABAAAAAAAAAAAAAAAAAAAAAAAAAAAAAAABAAEAAAAAAAAAAQABAAEAAQAAAAAAAAAAAAAAAAAAAAAAAAAAAAAAAAAAAAAAAAD///////8AAAEAAAD/////AAAAAAAAAAAAAAAAAQAAAAAAAAAAAAAAAAAAAAAAAAAAAAAAAAAAAAAAAAAAAAAAAAAAAAAAAAAAAAAAAAAAAAAAAAAAAP//AAAAAAAAAQABAAAAAQACAAIAAAD///////8AAAAAAAAAAAAAAAAAAAAAAAAAAAAA/v/+//////8AAAAAAAD/////AAAAAAIAAQAAAAAAAAAAAAAAAAAAAAEAAQABAAAAAAAAAAAAAAAAAAAAAAACAAEAAAAAAAAAAQABAAIAAwADAAMAAwADAAIAAgABAAEAAAAAAAAAAAAAAAAAAAD+//3//f/+/wAAAAAAAP7//v////////8AAP///v/9//7//////////v/9//7//v8AAAAAAAAAAAAAAAAAAAAAAAD+//3//f/+////AAAAAAAA//8AAAAAAQACAAIAAQABAAAAAAABAAEAAAAAAAAAAQAAAAAAAAABAAAAAAAAAAAAAAAAAAAAAAAAAAAAAQACAAIAAQABAAAA//////////8AAP////8AAAAA//8AAAAAAAAAAAAAAAAAAP/////+//7/////////AAABAAAAAAAAAAIAAgAAAP///////wAAAAAAAAIAAQAAAP///////////v/9//7///8AAAAAAQAAAAAAAAAAAAAAAQAAAAEAAAAAAAAAAAABAAEAAQAAAAAAAAAAAAAAAQABAAAAAAAAAAEAAAAAAAAAAAAAAAAAAAAAAAAA//////3//f////7//v/+//7//f/+/wAAAAAAAP////8AAAAA//8AAAAAAAAAAAEAAQABAAEAAQABAAEAAQADAAMAAgABAAAAAAABAAEAAAAAAP///////////f///////v///wAAAQABAAAAAAABAAEAAQAAAP///////wAAAAABAAEAAQAAAP//AAAAAAAAAAAAAAAAAAAAAAEAAgABAAAA//////////8AAAAAAAAAAAAAAAAAAAAAAAAAAAAAAAAAAAAAAAAAAAAAAAAAAP////8AAAAAAAAAAAAAAAAAAAAAAAAAAAEAAgABAAEAAQAAAAAAAAABAAEAAAD/////AAAAAP////8AAAAAAAAAAAAAAAAAAAAAAAAAAAAAAAAAAAAAAQABAAEAAAAAAAAAAQABAAEAAQAAAAAAAAAAAAAAAQABAAEAAAAAAP///////////////////////////////wAAAAAAAP//AAAAAP//AAAAAAAAAAAAAP//AAD///7//v/+//7//v/+/wAA///+////////////AAAAAAAAAAAAAAEAAAAAAAAAAgACAAEAAAABAAAAAQABAAAAAAAAAP//AAAAAAAAAAAAAAAAAQABAAEAAQABAAAAAAAAAAAA/v///wAAAAAAAAAAAAD///////8AAAAAAAAAAAAA///+////////////AAAAAAAAAAAAAAEAAQAAAAAAAAAAAAAA/////wAAAQABAAEAAQAAAP//////////AAAAAAAAAQABAAEAAQACAAEAAAAAAAEAAAAAAAAAAAAAAP7////////////+/wAAAQABAAEAAQAAAAAAAAABAAIAAAAAAAEAAAD///7/AAAAAP///v////7//v/+///////9//3///////7//v///wAAAAAAAAAAAAAAAAAAAAABAAEAAAAAAAEAAQAAAAEAAQACAAEAAAAAAAAAAAD//wAAAAAAAAAAAAABAAAAAAAAAAAAAAAAAP//AAD///////8AAAAAAAAAAAAAAAAAAAAAAAAAAAAAAAD//wAAAAAAAAAAAQABAAAAAAAAAAAAAAAAAAAAAQABAAEAAQABAAEAAQABAAEAAQABAAIAAgABAAEAAQABAAEAAQABAAEAAAAAAAAAAAAAAAAAAAAAAAAAAAAAAAAAAAAAAAAAAAAAAAAAAAAAAAAAAAD///////////3//f/+/wAAAAAAAP//////////AAAAAAAA///9//3//v////////8AAP//AAAAAAAAAAAAAP//AAABAAEAAAAAAAAAAAAAAAAAAAABAAEAAQAAAAEAAgABAAEAAQABAAAAAAAAAAEAAAAAAAAAAAAAAAAAAQACAAEAAAAAAAAAAAAAAAAAAAD//wAAAAAAAAAAAAAAAAEAAAAAAAAAAAAAAAAA//////////8AAP///////wAA///+//3//f/+////AAAAAAAAAAAAAP////////7//////////////wAAAAAAAAAAAAD///7//v/+////AAD//wAAAAAAAAAAAAABAAEAAAAAAAAAAAAAAAAAAAABAAEAAQABAAEAAAAAAAEAAQABAAEAAQABAAEAAAAAAAAAAAABAAAAAAAAAAAA//8AAAAAAAABAAIAAAAAAAAAAAAAAAEAAQABAAIAAgABAAAAAAAAAAAAAAAAAAAAAAD+/wAAAAAAAAAAAAAAAP////8AAAEAAQAAAP///v/////////////////////////////////+//3//f/9////AAAAAP//////////AAD/////AAAAAAAAAAAAAAEAAgADAAIAAwADAAMAAgABAAEAAQABAAAAAAACAAEAAQAAAAAAAAAAAAAAAQABAAAAAQACAAIAAgAAAAAAAAAAAAAAAAAAAP////8AAAAAAAAAAP/////+/wAAAAAAAAAAAAABAAEAAQABAAEAAQABAAEAAQABAAAAAAAAAP//AAD//wAAAAAAAAAAAAD//////////wAAAAAAAAAA//8AAAAAAAAAAAEAAgAAAAAAAAAAAAEAAQAAAAAAAAD///////////7//v///wAAAAAAAP///////wAAAAAAAAAAAQAAAAAAAAAAAAAA/////wAAAAAAAAAAAAAAAAAAAAD+//7//v///wAAAAAAAAAAAAAAAAAA//////7////+////AAAAAAAAAAAAAAAAAAAAAAAAAAAAAAEAAgACAAEAAQABAAAAAAAAAAAAAAAAAAAAAQABAAAAAQAAAAAAAQABAAEAAQABAAEAAQAAAAAAAAAAAAEAAQAAAAAAAAAAAAAAAAD+//7//v/+//7//f/8//3//f/9//7//v/+//7//v/+//7////+//7//v/9//3//f/9//7//v////7//v/+/wAAAAAAAAAAAAAAAAAAAAABAAEAAQACAAIAAgADAAIAAgACAAIAAQAAAAAAAQABAAEAAQABAAEAAQABAAEAAQAAAAAAAAABAAAAAAAAAP7//v8AAAAAAAAAAP////8AAAAAAAAAAAAAAAD///7//v/+//7//v/+/////////////v//////AAAAAAAAAAAAAAAAAAD//wAAAAAAAP////8AAAAAAAAAAAAAAAAAAAAAAAAAAAAAAAAAAAAAAQABAAIAAwAEAAMAAwADAAIAAQABAAEAAQABAAEAAAAAAAAAAAAAAAAAAAAAAAEAAQABAAAAAAAAAAEAAAAAAAAA//8AAAAAAAABAAAAAAAAAAAAAAD////////+//7//v/+//7//v//////////////AAAAAAAA//////7/AAAAAAAAAAD///////////3//v///wAAAAAAAAAAAAABAAIAAgACAAEAAQACAAMAAgACAAIAAQABAAEAAQABAAEAAQABAAEAAQABAAAAAQABAAIAAQAAAP//////////////////AAAAAAAA////////AAAAAAEAAQABAAEAAQAAAAAAAAAAAAAAAAAAAAAAAAD//////v/9//3//f/+/////v///wAAAAABAAAAAAAAAAIAAAAAAP///v/+//7//v/+//7//v////7//f/+/////////////////wAAAAAAAAAAAAAAAAAAAAAAAAAAAAAAAAAAAQABAAEAAgABAAIAAgABAAEAAAABAAEAAQABAAEAAQAAAAAAAQABAAAAAAAAAAEAAQAAAAAAAAAAAAAAAAAAAAAAAAAAAAAAAAAAAAAAAAAAAAAAAAAAAAEAAAAAAAAAAAAAAAAAAAAAAAAAAAAAAP//AAAAAAAAAAAAAAAA//8AAAAA///+//7//f/+//7//v//////////////AAAAAAAAAAABAAEAAQAAAP///v///wAAAAD//wAAAAAAAAAAAAAAAAAAAAAAAAAAAAAAAAAAAAABAAIAAgABAAEAAQABAAAAAAAAAAAAAAAAAAAAAQABAAEAAAAAAAAAAAAAAAAAAAAAAAAAAAAAAAAAAAAAAAAA/v///////////////v/+/////v/+//3///////////////7//v/////////+//3//v/+////AAAAAAAAAAABAAAAAAAAAP///////wAAAQABAAEAAQABAAAAAAAAAAAAAQAAAAEAAQADAAIAAgABAAIAAgACAAIAAQABAAEAAQABAAIAAwABAAAAAAABAAEAAQAAAAAAAAAAAAAA//8AAAAA///+//7////+/wAAAAAAAP//////////AAD///////////7///8AAP////////7//v///////////////v/9////AAD///7//v/+//7//v8AAAEAAgADAAMAAgABAAAAAQADAAIAAAAAAAEAAAAAAP///////////////wAAAAAAAAEAAQABAAAAAQAAAAEAAQACAAMAAgAAAAAAAAAAAAAAAAAAAAAAAAAAAAAAAAAAAP7/////////AAD//wAAAAD//////////wAAAAAAAAAA/////////////wAAAAAAAAAAAAAAAAAAAAAAAAAAAAABAAEAAQACAAEAAQABAAAA//8AAP//AAD+//3///8AAAAAAAAAAP7//v///wAAAAAAAAAAAAAAAAAAAAAAAAAAAQAAAAAAAAAAAAAAAQACAAIAAgACAAEAAQABAAEAAQABAAEAAQABAAEAAAAAAAAAAAAAAAAAAAAAAP7//v8AAAAAAAAAAAAAAAABAAEAAAAAAAAAAAD//wAA//////7////9//z//f/9//3//f/9//7///8AAAAAAAABAAAAAQACAAIAAQACAAIAAgABAAEAAQAAAP////8AAAAAAAD///////8AAAEAAAD///////8AAAAAAQACAAEAAgACAAEAAAAAAAAAAAAAAAAAAAAAAAAAAAAAAAEAAQABAAAA////////AAAAAAAA///+//7/AAAAAAAAAAAAAAEAAgACAAMAAQAAAAAAAAAAAAAAAAD+//7/AAAAAAEAAAAAAAAAAAAAAAAAAAD+//////8AAAEAAAAAAAAAAAAAAP///v////////8AAAAAAAAAAAAAAAABAAEAAAAAAP///v//////AAD/////AAAAAAEAAQAAAAAAAAAAAAEAAQAAAAAAAAAAAAAAAAAAAP////8AAAAAAAAAAAAAAAAAAP///////wAAAAAAAAAAAAAAAAAAAAAAAAAA/////wAA//////////8AAAEAAQABAAAAAAAAAAAAAAAAAAAAAAAAAAAAAAAAAAAAAAABAAAAAAAAAP//AAAAAAAAAAAAAAEAAQABAAAAAAAAAAEAAQABAAEAAQAAAAAA//8AAP//////////AAAAAAAAAQAAAAAAAAAAAAAA///+//7//////////////wAAAAAAAAAAAAAAAAAAAAAAAAAA/v/+//7/AAAAAAAAAAAAAAAAAAAAAAAAAQABAAAAAAAAAAAAAAAAAAAAAQABAAEAAAAAAAEAAQABAAEAAQAAAAAAAQAAAAAAAQABAAEAAQABAAEAAQABAAAAAAACAAEAAAAAAAAAAAAAAAAAAAAAAAAAAAD///7////////////+//7////+//3//P/8//z//P/8//3//v/+//7//////wAA///+//7///8AAAAAAAD//wAAAAAAAP////8AAAEAAgABAAAAAAAAAAAAAAAAAAAAAQACAAEAAQABAAEAAgAAAAAAAAAAAAAAAQACAAIAAgACAAMAAwAEAAMAAgAAAAAAAAAAAAAAAAAAAAAAAAAAAAIAAgADAAIAAwACAAAAAQABAAEAAAD/////////////////////AAAAAP/////+//7//v/+/////////wAAAAAAAAAAAAABAAEAAAAAAAAAAAAAAAEAAAAAAAAAAAAAAAAAAAABAAEAAAABAAAAAAD/////////////AAAAAAAAAAABAAIAAQAAAAAAAQACAAIAAQABAAAAAAAAAAAAAAAAAAAAAAABAAIAAgABAAEAAAAAAAAAAAABAAAAAQACAAAAAAAAAP/////+//7//f/9//7///8AAAAAAAAAAAAAAAABAAAAAAAAAAAA//////7//v/+////AAAAAAAA//8AAAAAAAAAAP///v/+//7///8AAAAAAAAAAAAAAAAAAAAAAAAAAAAAAAAAAAAAAAAAAAAAAAABAAAAAAAAAAAA/v///wAA////////AAD//wAAAQAAAAAAAAABAAEAAAABAAEAAQAAAAAAAAABAAIAAwADAAMAAgABAAIAAQAAAAAAAAAAAAAAAAAAAAAAAAAAAAAAAAAAAAAAAAAAAAEAAgABAAAAAAAAAP////8AAAAA/v//////AAAAAAAAAAAAAAAAAAAAAAAAAAAAAP/////+//7//v////7//v/+//7//f/8//z//f/+//3//v//////AAAAAAAAAAAAAAEAAQABAAAAAAAAAAAAAQAAAAAAAAAAAAEAAgACAAMABAADAAIAAgACAAAAAQABAAEAAAAAAAAAAAAAAAAAAAAAAAAAAAABAAEAAQAAAAEAAQABAAIAAAAAAAEAAQAAAAAAAAAAAAAAAAAAAAAAAAAAAAAAAAAAAP/////+/////v/+//7///////7///////7//v/+//7//v/+////AAAAAAAA/////wAAAAABAAEAAQABAAEAAQABAAEAAQABAAEAAAAAAAAAAAAAAAAAAAAAAAAAAAAAAAAAAAAAAAAAAAAAAAAA//8AAAAAAAAAAAAA//////////8AAAAAAAAAAAAAAAAAAAEAAQABAAEAAQABAAEAAAAAAAAAAAAAAAAAAQAAAP////////////8AAAAAAAAAAAAA//8AAP//AAAAAAAAAAD/////AAD/////AAAAAAAAAAAAAP/////+/wAAAAAAAAAAAAAAAAAAAAAAAAAAAAAAAP//AAAAAAAAAAAAAAAAAAD////////////////+//3//v8AAAAA/////wAAAAAAAAAAAAAAAAEAAAAAAAEAAQABAAAAAAAAAAAAAAAAAAAAAAAAAAAAAAAAAAAAAAAAAAAAAAAAAAAAAAAAAAAAAAAAAP///////wAAAAAAAAAAAAAAAAAAAAAAAAAAAgABAAEAAQABAAEAAAABAAAA/////wAAAAD//wAAAAAAAAEAAQABAAEAAAAAAAAAAAAAAAAAAAAAAAAAAAABAAIAAAAAAAAAAAD///7/AAAAAAEAAgABAAAAAAAAAP///////wAAAAD/////AAAAAAAAAAAAAAAAAAD///7//v///wAAAAABAAEAAAAAAAAAAAD///////////7///8AAP///////wAAAAAAAAEAAAAAAAAAAAAAAAAAAAAAAAAAAAD//wAAAAD///7//v8AAAAAAAAAAAAAAAAAAAAAAAAAAAAAAAAAAAAAAAAAAAAAAAABAAIAAgABAAEAAQABAAEAAAAAAAAAAQABAAEAAQAAAAAAAAAAAAAAAAAAAAEAAQAAAAAA//8AAP7//f/+//7////+//7//v/+//3//v/+//7///8AAP///v/+//////8AAAAAAAAAAAAAAQABAAEAAQACAAEAAAAAAAAAAAABAAAAAAAAAAAAAAAAAAAAAAAAAAEAAgACAAIAAgABAAAAAQACAAEAAAD//////////////////wAAAAABAAEAAAAAAAAAAAABAAAAAQACAAIAAgACAAIAAQABAAAAAAAAAAAAAAD/////AAAAAAAA///////////+//3//P/7//3//v/+//7//v/+///////+///////////////+//7//v/+/////////////////wAAAAD//////////wAAAAAAAAAAAQADAAMAAAAAAAAAAQACAAAAAAAAAAAAAAAAAAEAAAABAAEAAQABAAAAAAAAAAEAAgACAAEAAAABAAEAAAD///7//v//////AAAAAAAAAAAAAAAAAAAAAAAAAAABAAEAAAAAAAAAAAABAAAAAAAAAAAAAAAAAAAAAAAAAAAAAAAAAAAAAAAAAAAAAAAAAAAAAAAAAAAAAQABAAEAAQACAAMAAgABAAAA///+//z//f/+////AAAAAAEAAgACAAEAAQABAAAAAAD//wAAAAAAAAAAAAABAAEAAAAAAAAAAAAAAAAAAAAAAAAAAAAAAAAAAAAAAAAA//8AAAAAAAABAAIAAgACAAIAAgACAAIAAgACAAEAAAAAAAAAAAAAAAAAAAAAAAAAAAAAAAAAAAAAAAAAAAAAAAAAAAAAAAAAAAAAAAAA//////7////9//3//v///wAAAAAAAAAAAAAAAP///v/+//7///8AAAAAAAAAAAEAAAABAAAAAAAAAP//AAAAAAEAAgADAAMABAADAAMAAgABAAEAAAABAAEAAgACAAQABAACAAIAAQABAAEAAQAAAAAAAAD///7//f/+////AAAAAAAAAAAAAAAA/v////7////+//3//f/9//3///8AAAAAAAAAAAAAAAD///////8AAAAA///+//7////+/////v///wAAAAABAAEAAAAAAAAAAAAAAAAA/////wAAAAAAAAEAAQACAAIAAwACAAEAAAAAAAEAAQAAAAAAAAABAAIAAgACAAEAAQAAAAEAAAABAAEAAAABAAAAAAD///////8AAP////////////8AAP///////wAA///////////+/wAAAAAAAAAAAAAAAAAAAAABAAEAAQAAAAAA///+//3//f/9////AAAAAAAAAAAAAAIAAgACAAIAAgACAAIAAQAAAP///v////////8AAAAAAAAAAAAAAAAAAAAA///+//7///////7//v/+//7//v//////AAAAAAAAAAABAAEAAAAAAAAAAAAAAAAAAAAAAP7///8AAAAAAAAAAAAAAAD///7//////wAAAAAAAAAAAAAAAAAAAQABAAEAAQABAAEAAgABAAEAAAD//wAA/////wAAAAAAAAAAAAABAAEAAAAAAAAAAAAAAAAAAQABAAIAAQACAAIAAQAAAP//AAAAAAEAAQABAAEAAQABAAAAAAD//////////////////wAAAAD///////////////8AAAAAAAAAAAAAAAAAAP///v/+//7//v8AAAAA/////wAA/////////v/+////AQACAAEAAQABAAEAAQAAAAEAAQABAAIAAwADAAIAAgACAAIAAQAAAAAA//8AAAAAAAAAAAAAAAD///////////////8AAAEAAAAAAAAAAAAAAAAAAAAAAP///////wAAAAAAAAAA//////3/////////AAAAAAAAAAAAAAAAAAAAAAAAAQABAAEAAAABAAAAAAD//////v/+////AAAAAAAAAAAAAAAAAAAAAAAAAAAAAAAAAAAAAAAA////////AAAAAP////8AAAAAAQABAAAA//8AAAAAAAAAAP////8AAAAAAAAAAAAAAAAAAP//AAAAAAAAAAAAAAEAAQAAAAAAAAAAAAEAAQACAAMAAgADAAEAAQACAAIAAAAAAAAAAAAAAAAAAAAAAAAAAAAAAAAA//8AAAAAAAAAAAAAAAAAAAAAAAAAAAAA//////////////////////////////7///8AAAAAAAABAAEAAQABAAEAAAAAAAAA/////wAAAAAAAAAA/v/9//3//f/9//7//v///wAA//8AAAAAAAABAAEAAQADAAIAAwADAAIAAgACAAEAAQACAAEAAQABAAEAAAAAAAAAAAAAAAAA////////AAAAAAEAAQAAAAAA///+//7////+////AAAAAAAAAAD///////8AAAAAAQAAAAAAAAAAAAEAAgADAAMAAwACAAEAAAAAAAAAAAAAAP///////wAAAAAAAAAAAAAAAAEAAQAAAAAAAAD/////AAAAAAAA////////////////AAAAAAAAAAAAAAAAAAAAAAAAAAAAAAEAAAAAAAAAAQAAAAAAAAAAAP/////+////AAAAAAAAAAAAAAAAAAABAAEAAQAAAAIAAgABAAAAAQABAAAAAAD//wAA//8AAAAAAAAAAAAAAAAAAAAAAAAAAAAAAQABAAAAAAAAAAAAAQAAAAAAAAD//////////////////wAAAQABAAEAAAAAAAAAAAAAAAAAAAAAAAAAAQABAAAAAAAAAP//AAAAAAAAAQABAAMAAwACAAEAAAAAAP///v///wAAAAAAAP///f/9//3//P/8//3//////wAAAAAAAAEAAgABAAEAAQABAAIAAQACAAEAAAAAAAAA/v///wAAAQABAAEAAAAAAAAA//////7/AAAAAAAA///9//3///////7//f/8//3///8AAAAAAAABAAEAAAAAAAAAAAAAAAEAAAAAAAAA//////3//f/9//7/AAABAAEAAAABAAEAAQAAAAAAAAAAAAAAAAAAAAEAAAAAAAAAAAAAAP//AAD//wAAAAAAAAAAAAAAAAAAAAAAAAAAAQABAAAAAAAAAAAAAAAAAAAAAAAAAAAAAAD//////v//////AAAAAAAAAAAAAAAAAAABAAAAAAAAAAAAAAAAAAAAAAAAAAAA///+/wAAAAAAAAAAAAAAAAAAAAABAAIAAwACAAEAAQACAAEAAAAAAAAA/////wAAAAAAAAAA///+/wAAAAAAAAAAAAAAAAAAAAAAAAAAAgACAAIAAQACAAEAAAAAAP7///////////////////8AAAAAAAD//wAAAAAAAAAAAAABAAIAAQAAAAAAAQABAAEAAQABAAAAAQABAAEAAQABAAEAAAAAAAEAAQABAAEAAAAAAAAAAAAAAAAA///+//7//v/+//3//v////7//v/9//z//f/+////////////AAAAAAAAAAAAAAIAAQAAAAAAAAAAAAAAAgACAAIAAwADAAMAAgABAAAAAAAAAP///v///wAAAQAAAAAA////////AAD//wAAAAAAAAAA/////wAAAAAAAAAAAAD///7//v8AAAAAAAAAAAAAAAD//wAAAAAAAAEAAAAAAAIAAwADAAMAAQABAAAAAAAAAAAAAQACAAAAAAAAAAAAAAAAAAAAAQAAAP7//////wAA/////wAA///+//7//f/8//z//P/////////9////AAAAAAAA/v//////////////AAAAAAAAAAAAAAAAAgADAAMAAwADAAIAAQAAAAIAAwACAAIAAgADAAQAAwAAAAAA/////////////wAAAAAAAAAA///+//7///8AAAAAAAD////////+//////8AAAEAAAAAAAAAAAAAAAAAAAAAAAAAAAD//wAAAAABAAIAAQAAAAAAAAD+//7/AAAAAAAA/////wAAAAAAAP7//f/+/wAAAAAAAAAAAAD///7////+////AAD///7//v////7//v/+//7//v/+//7/AAABAAIAAwACAAMAAwACAAMAAQAAAAEAAQABAAEAAQAAAAEAAgACAAEAAwAEAAIAAQACAAMAAwACAAEAAAAAAAAA////////AAAAAP///f/+/////v///wAAAAABAAAA/////////v/+//7//v///wAAAQABAAAAAAD//////v/+//7///8AAAAAAAAAAAAAAAAAAAAAAgACAAEAAQAAAP////8AAAAAAAD///7//f/9//3/AAABAAAA//////////8AAAAAAAAAAAEAAgABAAIAAgACAAEAAQABAAAA//8AAAAAAQACAAIAAgACAAEAAQABAAEAAQABAAAAAAAAAP//AAAAAAAAAQAAAAAAAAAAAAAA//8AAAAAAAAAAAAA//8AAAAA/v/+////AAAAAAAAAAAAAAEAAQABAAIAAgACAAEAAAAAAAAAAAAAAAAAAAD///7//f/9//3///8AAAAAAAAAAAAAAQABAAEAAQAAAAAAAAAAAP//AAD///////8AAP///////wAAAAAAAP///////wAAAAABAAEAAAAAAAEAAQABAAEAAQABAAEAAQAAAAAAAAABAAEAAAAAAAAAAAAAAAAA//////7//////wAAAAAAAAAAAAAAAAAAAAAAAAEAAAD///7////+//7///8AAAAAAAAAAAAAAAAAAAAAAAAAAAAAAAAAAAAAAAAAAAAA///+////AAAAAAAAAAAAAP7//f/9//7///8AAAAAAAAAAAAAAAAAAAAAAAAAAAAAAAAAAAAAAAAAAAAAAAABAAIAAgACAAEAAAABAAEAAAABAAIAAwADAAIAAgABAAIAAAD//wAAAAAAAAAAAAAAAAAA///+//3//f/+//7/AAAAAAAAAAD///7//v/+//7/AAAAAAAA//8AAAAAAAAAAAAAAAAAAAAAAAAAAAAAAAABAAAAAAAAAAAAAQABAAEAAAAAAAAAAAABAAIAAgACAAAA//////////8AAP/////+////AAAAAAEAAgACAAEAAQAAAAEAAAAAAAAA////////AAAAAAEAAAAAAAAAAQABAAEAAgACAAEAAAD///7//v///wAAAQAAAP7/AAAAAAAAAAABAAEAAQAAAAAAAAAAAAEAAQABAAAAAAD//wAAAAD///////////7//////wAAAAAAAP//////////////////AAAAAAAAAQAAAP////8AAAAAAQABAAEAAQABAAAAAAAAAAAAAAABAAMAAwADAAIAAgACAAMAAwADAAIAAgACAAAAAAAAAAAAAAD//////v/9//3//v///wAAAAAAAAAA//8AAP//AAAAAAAAAAAAAAAAAQAAAAAAAAAAAAAA///+////AAAAAP///v/+//7//v/+/////////wAAAAD///////8AAP//AAD/////AAAAAAAAAAAAAAAAAAAAAAAAAAAAAAAAAAAAAAAAAAAAAAAAAAAAAAAAAQACAAIAAgACAAIAAgABAAAAAAACAAAAAAD///7////////////+//7///8AAAEAAQAAAAAAAAAAAAAAAAAAAP//AAAAAP////8AAAAAAQABAAAAAAAAAAAAAAAAAAAAAAAAAAAAAAD//wAAAQABAAAAAAAAAAAAAAABAAEAAAAAAAAAAAAAAP/////+/wAAAAD//////v/9//3//f/9//7/AAAAAAAAAAABAAEAAQAAAAAAAAAAAAEAAQABAAIAAQAAAAAAAAAAAAAAAAAAAAAAAAAAAAAAAAAAAAAAAAAAAAEAAQABAAEAAAABAAEAAgAAAAEAAgADAAMAAgABAAIAAgACAAEAAAAAAP////////7//v/+/////v/9//7//v/+/wAAAAAAAAEAAQABAAAAAAAAAAAAAAAAAAAAAAAAAAAAAAD//////v/+//7///8AAAAAAAAAAAAA///+////AAAAAAAAAAAAAAAAAAD//////////wAAAAAAAP//AAAAAAAAAAAAAAAAAAAAAAAAAAAAAAAAAQABAAEAAQABAAEAAAAAAAAAAAAAAAAAAAAAAAAAAAAAAAEAAAABAAEAAQAAAAAAAAAAAAIAAgABAAEAAAAAAAEAAQABAAEAAQABAAEAAAAAAAAAAAAAAAAAAAAAAAAAAAAAAAAAAAAAAAAA///9//z//f/9//3//f/+////AAAAAAAAAAAAAAAAAAD///7/////////AAD//////v/9//3/+//7//z//v///wAAAAAAAP////8AAAEAAQABAAEAAQABAAAAAAAAAAEAAQABAAEAAQABAAAAAAAAAP//AAABAAAAAAAAAP//AAAAAAAAAQADAAMABAAEAAMAAgAAAAEAAgADAAEAAQAAAAAAAAD//wAAAAAAAAAAAAAAAAAAAAAAAAAAAAAAAAAA///+/////////wAAAQABAAAAAAAAAP7//v/+//7//v/+////AAAAAAAA///+//7//v/+//3//////wAAAAAAAAAAAQACAAEAAQAAAAAAAQABAAAAAAAAAAAAAAAAAAAAAAAAAAAAAQABAAEAAAAAAAEAAQABAAEAAAABAAEAAQABAAEAAAAAAP///v/9///////////////+//7//v/9//7//f/+//7///////7//////wAAAAAAAAAAAAAAAP//AAAAAAEAAgADAAEAAAAAAAAA///+//7///8AAAAAAQAAAAEAAQAAAAEAAAAAAAEAAQABAAIAAQABAAEAAQABAAEAAQAAAAEAAAAAAAAAAAAAAAAA//////7//v////////8AAAAAAAAAAAAAAAAAAAIAAgADAAMAAwADAAEAAAAAAAAAAAAAAAAAAAD/////AAAAAAAAAAAAAAAAAAAAAAAAAQAAAAAAAAAAAAAAAgABAAEAAQAAAAAAAAAAAAAAAAAAAAAAAAD/////////////AAAAAAAAAAAAAAAAAAAAAAAAAAAAAAAAAAAAAAAAAAAAAAEAAQACAAEAAAAAAP/////+//7//f/+////AAD+//7///////////8AAP////8AAP///v/+/wAAAAAAAAEAAQAAAAAAAAAAAAAA//////7/AAAAAAAAAAAAAAAAAAAAAAAAAgABAAEAAQABAAEAAAAAAAAAAAAAAAEAAAAAAAAAAAAAAAAAAAAAAAAAAAAAAAAAAAAAAAAAAAAAAAAA////////AAAAAP//AAAAAAAAAAAAAAAAAAAAAAAAAQABAAEAAAAAAAAA///////////+//7///8AAAAAAAAAAAAAAAAAAAAA//8AAAAAAAAAAAAA//8AAP////8AAAAAAAAAAAAAAAD+//////8AAAAAAAAAAAAAAAAAAAAAAAABAAAAAQACAAEAAQABAAEAAQABAAEAAAAAAAEAAQAAAAAAAAAAAAAAAAAAAAAAAAAAAAAAAAAAAAAAAAAAAAEAAQABAAEAAgABAAEAAAD//////////////////wAAAAAAAAAAAAAAAAEAAQABAAEAAQACAAEAAQAAAAAAAAAAAAAAAAAAAAAAAAAAAAAAAAAAAP///////wAAAAAAAAAAAAAAAAEAAQABAAEAAAAAAAAA/////////////////////wAA///////////+////AAAAAAAAAAAAAP7//////wAAAAAAAAAAAAAAAAAAAQABAAAAAAAAAAAAAAAAAAEAAQABAAEAAQABAAAAAAAAAAAAAAAAAAAAAAAAAAAAAAAAAAEAAQACAAEAAQAAAAAA///////////////////+//////8AAAAA/////////////wAA//8AAAAAAAABAAAAAAABAAAAAAAAAAAAAAAAAP///v/+//7///////7///8AAAAAAAABAAAAAAAAAAAAAQABAAAAAAAAAAEAAAAAAAEAAAAAAAAAAAAAAAAA/////wAAAAAAAAAA//8AAP//AAAAAP//AAD/////////////AAAAAAAAAAD/////AAAAAAAAAAAAAAAAAAABAAAAAAAAAAEAAAAAAAEAAQABAAEAAQAAAAAAAAAAAAAAAAABAAEAAQABAAAAAAAAAAAAAAAAAAAAAAAAAAAA///+/////////////////wAAAAABAAEAAQAAAAAA//8AAAAAAAAAAAAAAAAAAAAAAAAAAAAAAAAAAP///////wAAAAAAAAAA/v////////8AAAAAAAAAAAAAAAAAAAAAAAAAAAAAAAAAAAAAAAAAAAAAAAD///7//v///wAAAAAAAAAAAAAAAAAAAAAAAAAAAAAAAAAAAAAAAAAAAAACAAEAAgAAAAAAAAAAAAAAAAAAAAAAAAAAAAAAAAAAAAAAAAAAAAAAAAAAAAAAAAAAAAEAAgABAAAAAAAAAAAAAAAAAAAAAAAAAP////8AAAAAAAAAAAAAAAAAAAAAAQAAAAAAAAAAAAEAAAAAAAEAAQACAAMAAgACAAEAAAAAAAAAAAAAAAAAAAAAAAAAAAAAAP//////////AAD/////AAAAAAAAAAD/////AAAAAAAAAAAAAAAAAAAAAAEAAAAAAAAAAAAAAAAAAAABAAEAAAAAAAAA//////7///8AAAAAAAAAAAAAAAAAAP//////////AAAAAAAAAAAAAAAAAAAAAP////8AAAAAAAAAAAAAAAAAAP///v/+/////v/////////+//7////////////+//7//v/+////AAD//////////////v///wAAAAAAAAAAAAAAAAAAAQAAAAAAAAABAAEAAQABAAEAAQADAAMABAAEAAIAAgACAAIAAgADAAQABAADAAMABAAEAAMABAAEAAQABAAEAAQAAwACAAIAAgAEAAQAAwADAAIAAgACAAMAAQABAAIABAACAAIAAwACAAIAAgADAAIAAwACAAMAAwACAAIAAgABAAEAAQABAAIAAgABAAIAAQAAAAAAAAD///7/AAAAAAAAAAAAAAAAAAD///7//f/+//7//v/9//7///8AAAAA///+//3//v/+//7//v///////v/+//3//f/9//3//f/9//7//v/+//////////7//v/+//7//////wAAAAD///7//P/9//z//P/+//7//v/+/////v/9//z//P/7//v/+//8//z//P/8//z//P/8//z//f/8//z//f/9//z/+//7//r/+v/5//v//f/9//7//v8AAP///v/+//7//v////////8AAAAA//////3//f/+//3//f/+/wAAAQACAAIAAgABAAAAAgADAAQABAAEAAQABAAFAAYABgAIAAgACQAKAAkACAAIAAgACQAKAAwADAAMAAwACwANAA4ADgAPABAADwAOAA4ADgAMAAwADAALAAsACgAKAAoACAAIAAgABwAHAAYABQAEAAIAAQACAAIAAQAAAP///v/9//v/+f/5//n/+v/5//n/+f/4//b/9P/z//L/8f/w//D/8f/x/+//7//t/+v/6v/p/+r/6//r/+n/5v/j/+L/4f/f/9//4P/g/+D/3//e/9z/2//b/9z/3P/e/+H/4v/k/+T/5f/m/+j/5//m/+b/6P/s/+7/7//v/+//7//v//P/9v/3//j/+v/8////AAAAAAIAAwAFAAYABwAJAAwADwARABEAEgATABMAFQAYABsAGwAcAB0AHwAfAB8AIAAgACEAIgAjACUAJgAnACYAJQAlACMAJQAlACUAJgAlACQAJAAiACAAIAAgACEAIAAfAB0AHAAaABgAGAAYABcAFAATABQAFAAQAA4ACwAIAAcABgAGAAUABQADAAIAAgABAAAA/f/8//z/+//7//v/+f/5//n/+f/4//f/9//2//X/9P/0//P/8f/v/+7/7//y//P/8//x/+//7v/t/+z/6//p/+r/6f/p/+r/6//t/+z/6v/n/+b/5//o/+j/6//s/+z/7P/r/+v/7P/u/+7/7f/t/+7/7v/u//D/8v/y//L/8v/0//b/+f/5//r/+f/3//f/9//6//3/AAD/////AAAAAAIAAgABAAAAAQADAAUABwAJAAsADAALAAkACQAKAA0ADgANAA0ADAALAAsADQAQABAADwAPAA8ADgAPAA4ADwAPAA0ADQAOAA4ADwAOAA4ADQAMAAoACQAJAAkACQAIAAgACAAIAAcABwAHAAYABgADAAEAAQACAAQAAwABAAAA/v///wAAAQAAAP///P/5//j/9//5//n/+f/4//j/9v/1//P/8f/x//D/7//u/+7/7v/w//D/7v/s/+r/6v/r/+3/7v/u/+3/7P/q/+z/7//y//P/8v/x//H/8//2//f/9//1//T/9//5//3/AAABAAMAAwADAAIAAwADAAUABwAKAAsADgAPABIAFAAUABMAEgATABQAFQAWABkAGgAbABoAGgAcABwAHQAeABwAGgAbABsAHAAcABwAHQAcABwAGwAbAB0AHQAcABwAGwAaABYAFQAWABYAFQATABIAEgARABAADwANAAsABwAFAAMAAgACAAIAAAD+//r/+f/4//f/9f/z//L/8P/t/+z/7f/s/+3/6v/o/+b/5f/l/+T/4//j/+L/4f/h/+D/4P/h/+H/4f/f/9//3v/d/93/2//b/9v/3P/c/93/3v/d/9v/2//c/9z/3P/d/97/3//h/+L/5P/n/+f/6P/q/+j/6P/o/+v/7f/u/+//8//1//b/9//3//r/+//8//z//v8AAAIABAAHAAkACQAKAAwADgAOAA8AEQASABQAFQAWABcAGAAaABwAHAAeAB4AHQAeAB4AHgAeAB4AIAAhACEAIAAhACEAIQAhACAAIAAhACEAIAAhACAAIQAgAB8AHwAdAB0AHwAeAB0AHAAaABkAGAAWABQAFAASABIAEgASABIAEAAPAA4ADAAKAAoACAAIAAgACAAHAAYABQAFAAMAAAD///7//v/9//3//f/8//v/+v/4//b/9f/0//P/8f/v/+7/7v/u/+//7//v/+7/6//q/+r/6f/q/+r/6//r/+v/7P/s/+v/6//r/+v/6//p/+n/6v/q/+v/7f/t/+3/7f/u/+//7//w//D/8P/x//H/8v/z//T/9f/2//b/9v/3//j/+f/6//r/+v/7//3//v/+//////8AAAAAAQABAAIAAwADAAQAAwAEAAUABgAHAAcABgAHAAcACAAJAAgACAAHAAcACAAIAAgACQAJAAkACQAJAAkACAAIAAgABwAGAAUABQAGAAUABgAGAAcABgAGAAYABQAFAAYABwAFAAUABgAHAAcABgAGAAUABQAFAAUABQAEAAQABAAGAAYABQAFAAYABQAFAAYABgAGAAYABwAGAAYABgAGAAYABgAFAAQABQAGAAYABQAEAAQABAAEAAQAAwACAAIAAgACAAIAAgACAAIAAgABAAEAAQAAAAAAAAAAAAAAAAAAAAAA//////////////////////7//v/+//3//P/8//z/+//6//r/+f/6//v/+v/5//r/+v/6//j/+P/4//j/+f/4//j/+P/5//j/+P/4//j/+f/4//j/+P/4//j/+P/6//n/+P/6//n/+f/5//n/+v/5//r/+//7//v/+//7//v//P/9//3//f/8//3//f/9//7//v/+//7//v/+/////////wAAAAAAAAAAAAAAAAAAAAAAAAEAAAABAAEAAQABAAEAAQABAAEAAQABAAEAAQABAAEAAgABAAIAAgACAAEAAQABAAEAAQACAAMAAgACAAMAAwADAAMAAwABAAMAAwADAAMAAwADAAMAAwADAAIAAwACAAIAAgACAAIAAgACAAIAAgACAAIAAgACAAIAAgACAAIAAgADAAIAAgACAAEAAgACAAIAAgABAAAAAgADAAMAAgADAAEAAAAAAAIAAgACAAIAAQABAAEAAQABAAEAAQABAAEAAQABAAEAAQABAAEAAQABAAAAAQABAAEAAQABAAEAAQAAAAAAAQAAAAAAAAAAAAAAAAAAAP///////wAAAAAAAAAAAAD//wAA//////7//f////7//v/9//3//f/9//3//f/8//v//P/9//3//f/8//v/+//7//v//P/8//3//f/9//3//f/+//7//f/+/////v/+//7//v/+///////////////+//7//////////////wAAAAAAAAAAAAAAAAAAAAAAAAAAAAAAAAAAAAAAAAAAAAAAAAAAAAAAAAAAAAAAAAEAAQABAAEAAQABAAEAAAAAAAEAAQABAAEAAQABAAEAAQABAAIAAQABAAIAAQABAAEAAQABAAEAAQABAAEAAQABAAEAAAABAAEAAQABAAEAAAABAAEAAQABAAEAAQABAAEAAAABAAAAAQACAAIAAQABAAEAAAABAAEAAQABAAEAAQABAAEAAQABAAEAAQABAAIAAAAAAAAAAAAAAAAAAAAAAAAAAAAAAP///////wAAAAAAAAAAAAD///////////////////////////////////////////////////////////////////////8AAAAA////////AAD//wAAAAAAAAAAAAAAAAAA/////wAAAAD//wAAAAAAAAAAAAAAAP//AAAAAAAAAAAAAAAAAAAAAAAAAAAAAAAAAAAAAAAAAAAAAAAAAAAAAAAAAAAAAAEAAQAAAAAAAAAAAAAAAAAAAAEAAQABAAEAAAAAAAAAAAAAAAAAAQABAAIAAQACAAIAAQACAAIAAgACAAIAAgACAAEAAQABAAEAAQABAAIAAQACAAEAAQABAAEAAQABAAEAAQABAAEAAAAAAAEAAAAAAAAAAAABAAAAAAAAAAAAAAAAAAAAAAAAAAAAAAAAAAAAAAAAAP////////////////7//////////v///wAAAAAAAP//AAAAAAAA/////////////////////wAAAAAAAAAAAAAAAAAAAAAAAAAAAAAAAAAAAAAAAAAAAAAAAAAAAAAAAAAAAAAAAAAAAAAAAAAAAAAAAAAAAAAAAAAAAAAAAAAAAAAAAAAAAAAAAAAAAAAAAAAAAAAAAAAAAAAAAAAAAAAAAAAAAAAAAAAAAAAAAAAAAAAAAAAAAAAAAAAAAAAAAAAAAAAAAAAAAQAAAAAAAAAAAAAAAAAAAAAAAAAAAAEAAQABAAEAAQABAAEAAQABAAEAAQABAAEAAQABAAEAAQABAAEAAQABAAEAAAAAAAEAAQABAAEAAQABAAEAAQAAAAAAAAAAAAAAAAAAAAAAAAAAAAAAAAAAAAAAAAAAAAAAAAAAAAAAAAAAAAAAAAAAAAAAAAAAAAAAAAAAAAAAAAAAAAAAAAAAAAAAAAAAAAAAAAAAAAAAAAAAAAAAAAAAAAAAAAAAAAAAAAAAAAAAAAAAAAAAAAAAAAAAAAAAAAAAAAAAAAAAAAAAAAAAAAAAAAAAAAAAAAAAAAAAAAAAAAAAAAAAAAAAAAAAAAAAAAAAAAAAAAAAAAAAAAAAAAAAAAAAAAAAAAAAAAAAAAAAAAAAAAAAAAAAAAAAAAAAAAAAAAAAAAAAAAAAAAAAAAAAAAAAAAAAAAAAAAAAAAAAAAAAAAAAAAAAAAAAAAAAAAAAAAAAAAAAAAAAAAAAAAAAAAEAAAAAAAAAAAAAAAAAAAAAAAAAAAAAAAAAAAAAAAAAAAAAAAAAAAAAAAAAAAAAAAAAAAAAAAAAAAAAAAAAAAAAAAAAAAAAAAAAAAAAAAAAAAAAAAAAAAAAAAAAAAAAAAAAAAAAAAAAAAAAAAAAAAAAAAAAAAAAAAAAAAAAAAAAAAAAAAAAAAAAAAAAAAAAAAAAAAAAAAAAAAAAAAAAAAAAAAAAAAAAAAAAAAAAAAAAAAAAAAAAAAAAAAAAAAAAAAAAAAAAAAAAAAAAAAAAAAAAAAAAAAAAAAAAAAAAAAAAAAAAAAAAAAAAAAAAAAAAAAAAAAAAAAAAAAAAAAAAAAAAAAAAAAAAAAAAAAAAAAAAAAAAAAAAAAAAAAAAAAAAAAAAAAAAAAAAAAAAAAAAAAAAAAAAAAAAAAEAAAAAAAAAAAAAAAAAAAAAAAAAAAAAAAAAAAD//wAAAAAAAAAAAAAAAAAAAAAAAAAAAAAAAAAAAAAAAAAAAAD//wAAAAAAAAAAAAAAAAAAAAAAAAAAAAAAAAAAAAAAAAAAAAAAAAAAAAAAAAAAAAAAAAAAAAAAAAAAAAAAAAAAAAAAAAAAAAAAAAAAAQABAAEAAAAAAAAAAAAAAAAAAQAAAAAAAAAAAAAAAAAAAAAAAAAAAAAAAAAAAAAAAAAAAAAAAAAAAAAAAAAAAAAAAAAAAAAAAAAAAAAAAAD///////////////8AAAAAAAAAAP//////////////////////////////////AAAAAAAAAAAAAAAAAAAAAAAAAAAAAAAAAAAAAAAAAAAAAAAAAAAAAAAAAAAAAAAAAAAAAAAAAAAAAAAAAAAAAAAAAAAAAAAAAAAAAAAAAAAAAAAAAAAAAAAAAAAAAAEAAQABAAEAAQAAAAAAAAAAAAAAAQAAAAAAAAAAAAAAAAAAAAAAAAAAAAAAAAAAAAAAAAAAAAAAAAD//wAAAAAAAAAAAAAAAAAAAAAAAAAAAAAAAAAAAAAAAAAAAAAAAAAAAAAAAAAAAAAAAAAAAAAAAAAAAAAAAAAAAAAAAAAAAAAAAAAAAAAAAAAAAAAAAAAAAAAAAAAAAAAAAAAAAAAAAAEAAQABAAAAAAAAAAAAAQABAAEAAAAAAAAAAAAAAAAAAAAAAAAAAAAAAAAAAAAAAAAAAAAAAAAAAAAAAAAAAAAAAAAAAAAAAAAAAAAAAAAAAAAAAAAAAAAAAAAAAAAAAAAAAAAAAAAAAAAAAAAAAAAAAAAAAAAAAAAAAAAAAAAAAAAAAAAAAAAAAAAAAAAAAAAAAAAAAAAAAAAAAAAAAAABAAAAAAAAAAAAAAABAAEAAAAAAAAAAAAAAAAAAAAAAAAAAAAAAAAAAAAAAAAAAAAAAAAAAAAAAAAAAAAAAAAAAAAAAAAAAAAAAAAAAAAAAAAAAAAAAAAAAAAAAAAAAAAAAAAAAAAAAAAAAAAAAAAAAAAAAAAAAAAAAAAAAAAAAAAAAAAAAAAAAAAAAAAAAAAAAAAAAAAAAAAAAAAAAAAAAAAAAAAAAAAAAAAAAAAAAAAAAAAAAAAAAAAAAAAAAAAAAAAAAAAAAAAAAAAAAAAAAAAAAAAAAAAAAAAAAAAAAAAAAAAAAAAAAAAAAAAAAAAAAAAAAAAAAAAAAAAAAAAAAAAAAAAAAAAAAAAAAAAAAAAAAAAAAAAAAAAAAAAAAAAAAAAAAAAAAAAAAAAAAAAAAAAAAAAAAAAAAAAAAAAAAAAAAAAAAAAAAAAAAAAAAAAAAAAAAAAAAAAAAAAAAAAAAAAAAAAAAAAAAAAAAAAAAAAAAAAAAAAAAAAAAAAAAAAAAAAAAAAAAAAAAAAAAAAAAAAAAAAAAAAAAAAAAAAAAAAAAAAAAAAAAAAAAAAAAAAAAAAAAAAAAAAAAAAAAAAAAAAAAAAAAAAAAAAAAAAAAAAAAAAAAAAAAAAAAAAAAAAAAAAAAAAAAAAAAAAAAAAAAAAAAAAAAAAAAAAAAAAAAAAAAAAAAAAAAAAAAAAAAAAAAAAAAAAAAAAAAAAAAAAAAAAAAAAAAAAAAAAAAAAAAAAAAAAAAAAAAAAAAAAAAAAAAAAAAAAAAAAAAAAAAAAAAAAAAAAAAAAAAAAAAAAAAAAAAAAAAAAAAAAAAAAAAAAAAAAAAAAAAAAAAAAAAAAAAAAAAAAAAAAAAAAAAAAAAAAAAAAAAAAAAAAAAAAAAAAAAAAAAAAAAAAAAAAAAAAAAAAAAAAAAAAAAAAAAAAAAAAAAAAAAAAAAAAAAAAAAAAAAAAAAAAAAAAAAAAAAAAAAAAAAAAAAAAAAAAAAAAAAAAAAAAAAAAAAAAAAAAAAAAAAAAAAAAAAAAAAAAAAAAAAAAAAAAAAAAAAAAAAAAAAAAAAAAAAAAAAAAAAAAAAAAAAAAAAAAAAAAAAAAAAAAAAAAAAAAAAAAAAAAAAAAAAAAAAAAAAAAAAAAAAAAAAAAAAAAAAAAAAAAAAAAAAAAAAAAAAAAAAAAAAAAAAAAAAAAAAAAAAAAAAAAAAAAAAAAAAAAAAAAAAAAAAAAAAAAAAAAAAAAAAAAAAAAAAAAAAAAAAAAAAAAAAAAAAAAAAAAAAAAAAAAAAAAAAAAAAAAAAAAAAAAAAAAAAAAAAAAAAAAAAAAAAAAAAAAAAAAAAAAAAAAAAAABAAEAAAABAAAAAAAAAAAAAAAAAAAAAAAAAAAAAAAAAAAAAAAAAAAAAAAAAAAAAAAAAAAAAAAAAAAAAAAAAAAAAAAAAAAAAAAAAAAAAAAAAAAAAAAAAAAAAAAAAAAAAAAAAAAAAAAAAAEAAQAAAAAAAAAAAAAAAAAAAAAAAAAAAAAAAAAAAAAAAAAAAAAAAAAAAAAAAAAAAAAAAAAAAAAAAAAAAAAAAAAAAAAAAAAAAAAAAAAAAAAAAAAAAAAAAAAAAAAAAAAAAAAAAAAAAAAAAAAAAAAAAAAAAAAAAAAAAAAAAAAAAAAAAAAAAAAAAAAAAAAAAAAAAAEAAAAAAAAAAAAAAAAAAAAAAAAAAAAAAAEAAAAAAAAAAAAAAAAAAAAAAAAAAAAAAAAAAAAAAAAAAAAAAAAAAAAAAAAAAAAAAAAAAAAAAAAAAAAAAAAAAAAAAAAAAAAAAAAAAAAAAAAAAAAAAAAAAAAAAAAAAAAAAAAAAAAAAAAAAAAAAAAAAAAAAAAAAAABAAAAAAAAAAAAAAAAAAAAAAAAAAAAAAAAAAAAAAAAAAAAAAAAAAAAAAABAAAAAAAAAAAAAAAAAAAAAAAAAAAAAAAAAAAAAAAAAAAAAAAAAAAAAAAAAAAAAAAAAAAAAAAAAAAAAAAAAAAAAAAAAAAAAAAAAAAAAAAAAAAAAAAAAAAAAAAAAAAAAAAAAAAAAAAAAAAAAAAAAAAAAAAAAAAAAAAAAAAAAAAAAAAAAAAAAAAAAAAAAAAAAAAAAAAAAAAAAAAAAAAAAAAAAAAAAAAAAAAAAAAAAAAAAAAAAAAAAAAAAAAAAAAAAAAAAAAAAAAAAAAAAAAAAAAAAAAAAAAAAAAAAAAAAAAAAAAAAAAAAAAAAAAAAAAAAAAAAAAAAAAAAAAAAAAAAAAAAAAAAAAAAAAAAAAAAAAAAAAAAAAAAAAAAAAAAAAAAAAAAAAAAAAAAAAAAAAAAAAAAAAAAAAAAAAAAAAAAAAAAAAAAAAAAAAAAAAAAAAAAAAAAAAAAAAAAAAAAAAAAAAAAAAAAAAAAAAAAAAAAAAAAAAAAAAAAAAAAAAAAAAAAAAAAAAAAAAAAAAAAAAAAAAAAAAAAAAAAAAAAAAAAAAAAAAAAAAAAAAAAAAAAAAAAAAAAAAAAAAAAAAAAAAAAAAAAAAAAAAAAAAAAAAAAAAAAAAAAAAAAAAAAAAAAAAAAAAAAAAAAAAAAAAAAAAAAAAAAAAAAAAAAAAAAAAAAAAAAAAAAAAAAAAAAAAAAAAAAAAAAAAAAAAAAAAAAAAAAAAAAAAAAAAAAAAAAAAAAAAAAAAAAAAAAAAAAAAAAAAAAAAAAAAAAAAAAAAAAAAAAAAAAAAAAAAAAAAAAAAAAAAAAAAAAAAAAAAAAAAAAAAAAAAAAAAAAAAAAAAAAAAAAAAAAAAAAAAAAAAAAAAAAAAAAAAAAAAAAAAAAAAAAAAAAAAAAAAAAAAAAAAAAAAAAAAAAAAAAAAAAAAAAAAAAAAAAAAAAAAAAAAAAAAAAAAAAAAAAAAAAAAAAAAAAAAAAAAAAAAAAAAAAAAAAAAAAAAAAAAAAAAAAAAAAAAAAAAAAAAAAAAAAAAAAAAAAAAAAAAAAAAAAAAAAAAAAAAAAAAAAAAAAAAAAAAAAAAAAAAAAAAAAAAAAAAAAAAAAAAAAAAAAAAAAAAAAAAAAAAAAAAAAAAAAAAAAAAAAAAAAAAAAAAAAAAAAAAAAAAAAAAAAAAAAAAAAAAAAAAAAAAAAAAAAAAAAAAAAAAAAAAAAAAAAAAAAAAAAAAAAAAAAAAAAAAAAAAAAAAAAAAAAAAAAAAAAAAAAAAAAAAAAAAAAAAAAAAAAAAAAQAAAAAAAAAAAAAAAAAAAAAAAAAAAAAAAAAAAAAAAAAAAAAAAAAAAAAAAAAAAAAAAAAAAAAAAAAAAAAAAAAAAAAAAAAAAAAAAAAAAAAAAAAAAAAAAAAAAAAAAAAAAAAAAAAAAAAAAAAAAAAAAAAAAAAAAAAAAAAAAAAAAAAAAAAAAAAAAAAAAAAAAAAAAAAAAAAAAAAAAAAAAAAAAAAAAAAAAAAAAAAAAAAAAAAAAAAAAAAAAAAAAAAAAAAAAAAAAAAAAAAAAAAAAAAAAAAAAAAAAAAAAAAAAAAAAAAAAQAAAAAAAAAAAAAAAAAAAAAAAAAAAAAAAAAAAAAAAAAAAAAAAAAAAAAAAAAAAAAAAAAAAAAAAAAAAAAAAAAAAAAAAAAAAAAAAAAAAAAAAAAAAAAAAAAAAAAAAAAAAAAAAAAAAAAAAAAAAAAAAAAAAAAAAAAAAAAAAAAAAAAAAAAAAAAAAAAAAAAAAAAAAAAAAAAAAAAAAAAAAAAAAAAAAAAAAAAAAAAAAAAAAAAAAAAAAAAAAAAAAAAAAAAAAAAAAAAAAAAAAAAAAAAAAAAAAAAAAAAAAAAAAAAAAAAAAAAAAAAAAAAAAAAAAAAAAAAAAAAAAAAAAAAAAAAAAAAAAAAAAAAAAAAAAAAAAAAAAAAAAAAAAAAAAAAAAAAAAAAAAAAAAAAAAAAAAAAAAAAAAAAAAAAAAAAAAAAAAAAAAAAAAAAAAAAAAAAAAAAAAAAAAAAAAAAAAAAAAAAAAAAAAAAAAAAAAAAAAAAAAAAAAAAAAAAAAAAAAAAAAAAAAAAAAAAAAAAAAAAAAAAAAAAAAAAAAAAAAAAAAAAAAAAAAAAAAAAAAAAAAAAAAAAAAAAAAAAAAAAAAAAAAAAAAAAAAAAAAAAAAAAAAAAAAAAAAAAAAAAAAAAAAAAAAAAAAAAAAAAAAAAAAAAAAAAAAAAAAAAAAAAAAAAAAAAAAAAAAAAAAAAAAAAAAAAAAAAAAAAAAAAAAAAAAAAAAAAAAAAAAAAAAAAAAAAAAAAAAAAAAAAAAAAAAAAAAAAAAAAAAAAAAAAAAAAAAAAAAAAAAAAAAAAAAAAAAAAAAAAAAAAAAAAAAAAAAAAAAAAAAAAAAAAAAAAAAAAAAAAAAAAAAAAAAAAAAAAAAAAAAAAAAAAAAAAAAAAAAAAAAAAAAAAAAAAAAAAAAAAAAAAAAAAAAAAAAAAAAAAAAAAAAAAAAAAAAAAAAAAAAAAAAAAAAAAAAAAAAAAAAAAAAAAAAAAAAAAAAAAAAAAAAAAAAAAAAAAAAAAAAAAAAAAAAAAAAAAAAAAAAAAAAAAAAAAAAAAAAAAAAAAAAAAAAAAAAAAAAAAAAAAAAAAAAAAAAAAAAAAAAAAAAAAAAAAAAAAAAAAAAAAAAAAAAAAAAAAAAAAAAAAAAAAAAAAAAAAAAAAAAAAAAAAAAAAAAAAAAAAAAAAAAAAAAAAAAAAAAAAAAAAAAAAAAAAAAAAAAAAAAAAAAAAAAAAAAAAAAAAAAAAAAAAAAAAAAAAAAAAAAAAAAAAAAAAAAAAAAAAAAAAAAAAAAAAAAAAAAAAAAAAAAAAAAAAAAAAAAAAAAAAAAAAAAAAAAAAAAAAAAAAAAAAAAAAAAAAAAAAAAAAAAAAAAAAAAAAAAAAAAAAAAAAAAAAAAAAAAAAAAAAAAAAAAAAAAAAAAAAAAAAAAAAAAAAAAAAAAAAAAAAAAAAAAAAAAAAAAAAAAAAAAAAAAAAAAAAAAAAAAAAAAAAAAAAAAAAAAAAAAAAAAAAAAAAAAAAAAAAAAAAAAAEAAQAAAAAAAAAAAAAAAAAAAAAAAAAAAAAAAAAAAAAAAAAAAAAAAAAAAAAAAAAAAAAAAAAAAAAAAAAAAAAAAAAAAAAAAAAAAAAAAAAAAAAAAAAAAAAAAAAAAAAAAAAAAAAAAAAAAAAAAAAAAAAAAAAAAAAAAAAAAAAAAAAAAAAAAAAAAAAAAAAAAAAAAAAAAAAAAAAAAAAAAAAAAAAAAAAAAAAAAAAAAAAAAAAAAAAAAAAAAAAAAAAAAAAAAAAAAAAAAAAAAAEAAQABAAAAAAAAAAAAAAAAAAAAAAAAAAAAAAAAAAAAAAAAAAAAAAAAAAAAAAAAAAAAAAAAAAAAAAAAAAAAAAAAAAAAAAAAAAAAAAAAAAAAAAAAAAAAAAAAAAAAAAAAAAAAAAAAAAAAAAAAAAAAAAAAAAAAAAAAAAAAAAAAAAAAAAAAAAAAAAAAAAAAAAAAAAAAAAAAAAAAAAAAAAAAAAAAAAAAAAAAAAAAAAAAAAAAAAAAAAAAAAAAAAAAAAAAAAAAAAAAAAAAAAAAAAAAAAAAAAAAAAAAAAAAAAAAAAAAAAABAAEAAQAAAAAAAAAAAAAAAAAAAAAAAAAAAAAAAAAAAAAAAAAAAAAAAAAAAAAAAAAAAAAAAAAAAAAAAAAAAAAAAAAAAAAAAAAAAAAAAAAAAAAAAAAAAAAAAAAAAAAAAAAAAAAAAAAAAAAAAAAAAAAAAAAAAAAAAAAAAAAAAAAAAAAAAAAAAAAAAAAAAAAAAAAAAAAAAAAAAAAAAAAAAAAAAAAAAAAAAAAAAAAAAAAAAAAAAAAAAAAAAAAAAAAAAAAAAAAAAAAAAAAAAAAAAAAAAAAAAAAAAAAAAAAAAAAAAAAAAAAAAAAAAAAAAAAAAAAAAAAAAAAAAAAAAAAAAAAAAAAAAAAAAAAAAAAAAAAAAAAAAAAAAAAAAAAAAAAAAAAAAAAAAAAAAAAAAAAAAAAAAAAAAAAAAAAAAAAAAAAAAAAAAAAAAAAAAAAAAAAAAAAAAAAAAAAAAAAAAAAAAAAAAAAAAAAAAAAAAAAAAAAAAAAAAAAAAAAAAAAAAAAAAAAAAAAAAAAAAAAAAAAAAAAAAAAAAAAAAAAAAAAAAAAAAAAAAAAAAAAAAAAAAAAAAAAAAAAAAAAAAAAAAAAAAAAAAAAAAAAAAAAAAAAAAAAAAAAAAAAAAAAAAAAAAAAAAAAAAAAAAAAAAAAAAAAAAAAAAAAAAAAAAAAAAAAAAAAAAAAAAAAAAAAAAAAAAAAAAAAAAAAAAAAAAAAAAAAAAAAAAAAAAAAAAAAAAAAAAAAAAAAAAAAAAAAAAAAAAAAAAAAAAAAAAAAAAAAAAAAAAAAAAAAAAAAAAAAAAAAAAAAAAAAAAAAAAAAAAAAAAAAAAAAAAAAAAAAAAAAAAAAAAAAAAAAAAAAAAAAAAAAAAAAAAAAAAAAAAAAAAAAAAAAAAAAAAAAAAAAAAAAAAAAAAAAAAAAAAAAAAAAAAAAAAAAAAAAAAAAAAAAAAAAAAAAAAAAAAAAAAAAAAAAAAAAAAAAAAAAAAAAAAAAAAAAAAAAAAAAAAAAAAAAAAAAAAAAAAAAAAAAAAAAAAAAAAAAAAAAAAAAAAAAAAAAAAAAAAAAAAAAAAAAAAAAAAAAAAAAAAAAAAAAAAAAAAAAAAAAAAAAAAAAAAAAAAAAAAAAAAAAAAAAAAAAAAAAAAAAAAAAAAAAAAAAAAAAAAAAAAAAAAAAAAAAAAAAAAAAAAAAAAAAAAAAAAAAAAAAAAAAAAAAAAAAAAAAAAAAAAAAAAAAAAAAAAAAAAAAAAAAAAAAAAAAAAAAAAAAAAAAAAQAAAAAAAAAAAAAAAAAAAAAAAAAAAAAAAAAAAAAAAAAAAAAAAAAAAAAAAAAAAAAAAAAAAAAAAAAAAAAAAAAAAAAAAAAAAAAAAAAAAAAAAAAAAAAAAAAAAAAAAAAAAAAAAAAAAAAAAAAAAAAAAAAAAAAAAAAAAAEAAAAAAAAAAAAAAAAAAAAAAAAAAAAAAAAAAAAAAAAAAAAAAAAAAAAAAAAAAAAAAAAAAAAAAAAAAAAAAAAAAAAAAAAAAAAAAAAAAAAAAAAAAAAAAAAAAAAAAAAAAAAAAAAAAAAAAAAAAAAAAAAAAAAAAAAAAAAAAAAAAAAAAAAAAAAAAAAAAAAAAAAAAAAAAAAAAAAAAAAAAAAAAAAAAAAAAAEAAAAAAAAAAAAAAAAAAAAAAAAAAAAAAAAAAAAAAAAAAAAAAAAAAAAAAAAAAAAAAAAAAAAAAAAAAAAAAAAAAAAAAAAAAAAAAAAAAAAAAAAAAAAAAAAAAAAAAAAAAAAAAAAAAAAAAAAAAAAAAAAAAAAAAAAAAAAAAAAAAAAAAAAAAAAAAAAAAAAAAAAAAAAAAAAAAAAAAAAAAAAAAAAAAAAAAAAAAAAAAAAAAAAAAAAAAAAAAAAAAAAAAAAAAAAAAAAAAAAAAAAAAAAAAAAAAAAAAAAAAAAAAAAAAAAAAAAAAAAAAAAAAAAAAAAAAAAAAAAAAAAAAAAAAAAAAAAAAAAAAAAAAAAAAAAAAAAAAAAAAAAAAAAAAAAAAAAAAAAAAAAAAAAAAAAAAAAAAAAAAAAAAAAAAAAAAAAAAAAAAAAAAAAAAAAAAAAAAAAAAAAAAAAAAAAAAAAAAAAAAAAAAAAAAAAAAAAAAAAAAAAAAAAAAAAAAAAAAAAAAAAAAAAAAAAAAAAAAAAAAAAAAAAAAAAAAAAAAAAAAAAAAAAAAAAAAAAAAAAAAAAAAAAAAAAAAAAAAAAAAAAAAAAAAAAAAAAAAAAAAAAAAAAAAAAAAAAAAAAAAAAAAAAAAAAAAAAAAAAAAAAAAAAAAAAAAAAAAAAAAAAAAAAAAAAAAAAAAAAAAAAAAAAAAAAAAAAAAAAAAAAAAAAAAAAAAAAAAAAAAAAAAAAAAAAAAAAAAAAAAAAAAAAAAAAAAAAAAAAAAAAAAAAAAAAAAAAAAAAAAAAAAAAAAAAAAAAAAAAAAAAAAAAAAAAAAAAAAAAAAAAAAAAAAAAAAAAAAAAAAAAAAAAAAAAAAAAAAAAAAAAAAAAAAAAAAAAAAAAAAAAAAAAAAAAAAAAAAAAAAAAAAAAAAAAAAAAAAAAAAAAAAAAAAAAAAAAAAAAAAAAAAAAAAAAAAAAAAAAAAAAAAAAAAAAAAAAAAAAAAAAAAAAAAAAAAAAAAAAAAAAAAAAAAAAAAAAAAAAAAAAAAAAAAAAAAAAAAAAAAAAAAAAAAAAAAAAAAAAAAAAAAAAAAAAAAAAAAAAAAAAAAAAAAAAAAAAAAAAAAAAAAAAAAAAAAAAAAAAAAAAAAAAAAAAAAAAAAAAAAAAAAAAAAAAAAAAAAAEAAAAAAAAAAAAAAAAAAAAAAAAAAAAAAAAAAAAAAAAAAAAAAAAAAAAAAAAAAAAAAAAAAAAAAAAAAAAAAAAAAAAAAAAAAAAAAAAAAAAAAAAAAAAAAAAAAAAAAAAAAAAAAAAAAAAAAAAAAAAAAAAAAAAAAAAAAAAAAAAAAAAAAAAAAAAAAAAAAAABAAEAAQAAAAAAAAAAAAAAAAAAAAAAAAAAAAAAAAAAAAAAAAAAAAAAAAAAAAAAAAAAAAAAAAAAAAAAAAAAAAAAAAAAAAAAAAAAAAAAAAAAAAAAAAAAAAAAAAAAAAAAAAAAAAAAAAAAAAAAAAAAAAAAAAAAAAAAAAAAAAAAAAAAAAAAAAAAAAAAAAAAAAAAAAAAAAAAAAAAAAAAAAAAAAAAAAAAAAAAAAAAAAAAAAAAAAAAAAAAAAAAAAAAAAAAAAAAAAAAAAAAAAAAAAAAAAAAAAAAAAAAAAAAAAAAAAAAAAAAAAAAAAAAAAAAAAAAAAAAAAAAAAAAAAAAAAAAAAAAAAAAAAAAAAAAAAAAAAAAAAAAAAAAAAAAAAAAAAAAAAAAAAAAAAAAAAAAAAAAAAAAAAAAAAAAAAAAAAAAAAAAAAAAAAAAAAAAAAAAAAAAAAAAAAAAAAAAAAAAAAAAAAAAAAAAAAAAAAAAAAAAAAAAAAAAAAAAAAAAAAAAAAAAAAAAAAAAAAAAAAAAAAAAAAAAAAAAAAAAAAAAAAAAAAAAAAAAAAAAAAAAAAAAAAAAAAAAAAAAAAAAAAAAAAAAAAAAAAAAAAAAAAAAAAAAAAAAAAAAAAAAAAAAAAAAAAAAAAAAAAAAAAAAAAAAAAAAAAAAAAAAAAAAAAAAAAAAAAAAAAAAAAAAAAAAAAAAAAAAAAAAAAAAAAAAAAAAAAAAAAAAAAAAAAAAAAAAAAAAAAAAAAAAAAAAAAAAAAAAAAAAAAAAAAAAAAAAAAAAAAAAAAAAAAAAAAAAAAAAAAAAAAAAAAAAAAAAAAAAAAAAAAAAAAAAAAAAAAAAAAAAAAAAAAAAAAAAAAAAAAAAAAAAAAAAAAAAAAAAAAAAAAAAAAAAAAAAAAAAAAAAAAAAAAAAAAAAAAAAAAAAAAAAAAAAAAAAAAAAAAAAAAAAAAAAAAAAAAAAAAAAAAAAAAAAAAAAAAAAAAAAAAAAAAAAAAAAAAAAAAAAAAAAAAAAAAAAAAAAAAAAAAAAAAAAAAAAAAAAAAAAAAAAAAAAAAAAAAAAAAAAAAAAAAAAAAAAAAAAAAAAAAAAAAAAAAAAAAAAAAAAAAAAAAAAAAAAAAAAAAAAAAAAAAAAAAAAAAAAAAAAAAAAAAAAAAAAAAAAAAAAAAAAAAAAAAAAAAAAAAAAAAAAAAAAAAAAAAAAAAAAAAAAAAAAAAAAAAAAAAAAAAAAAAAAAAAAAAAAAAAAAAAAAAAAAAAAAAAAAAAAAAAAAAAAAAAAAAAAAAAAAAAAAAAAAAAAAAAAAAAAAAAAAAAAAAAAAAAAAAAAAAAAAAAAAAAAAAAAAAAAAAAAAAAAAAAAAAAAAAAAAAAAAAAAAAAAAAAAAAAAAAAAAAAAAAAAAAAAAAAAAAAAAAAAAAAAAAAAAAAAAAAAAAAAAAAAAAAAAAAAAAAAAAAAAAAAAAAAAAAAAAAAAAAAAAAAAAAAAAAAAAAAAAAAAAAAAAAAAAAAAAAAAAAAAAAAAAAAAAAAAAAAAAAAAAAAAAAAAAAAAAAAAAAAAAAAAAAAAAAAAAAAAAAAAAAAAAAAAAAAAAAAAAAAAAAAAAAAAAAAAAAAAAAAAAAAAAAAAAAAAAAAAAAAAAAAAAAAAAAAAAAAAAAAAAAAAAAAAAAAAAAAAAAAAAAAAAAAAAAAAAAAAAAAAAAAAAAAAAAAAAAAAAAAAAAAAAAAAAAAAAAAAAAAAAAAAAAAAAAAAAAAAAAAAAAAAAAAAAAAAAAAAAAAAAAAAAAAAAAAAAAAAAAAAAAAAAAAAAAAAAAAAAAAAAAAAAAAAAAAAAAAAAAAAAAAAAAAAAAAAAAAAAAAAAAAAAAAAAAAAAAAAAAAAAAAAAAAAAAAAAAAAAAAAAAAAAAAAAAAAAAAAAAAAAAAAAAAAAAAAAAAAAAAAAAAAAAAAAAAAAAAAAAAAAAAAAAAAAAAAAAAAAAAAAAAAAAAAAAAAAAAAAAAAAAAAAAAAAAAAAAAAAAAAAAAAAAAAAAAAAAAAAAAAAAAAAAAAAAAAAAAAAAAAAAAAAAAAAAAAAAAAAAAAAAAAAAAAAAAAAAAAAAAAAAAAAAAAAAAAAAAAAAAAAAAAAAAAAAAAAAAAAAAAAAAAAAAAAAAAAAAAAAAAAAAAAAAAAAAAAAAAAAAAAAAAAAAAAAAAAAAAAAAAAAAAAAAAAAAAAAAAAAAAAAAAAAAAAAAAAAAAAAAAAAAAAAAAAAAAAAAAAAAAAAAAAAAAAAAAAAAAAAAAAAAAAAAAAAAAAAAAAAAAAAAAAAAAAAAAAAAAAAAAAAAAAAAAAAAAAAAAAAAAAAAAAAAAAAAAAAAAAAAAAAAAAAAAAAAAAAAAAAAAAAAAAAAAAAAAAAAAAAAAAAAAAAAAAAAAAAAAAAAAAAAAAAAAAAAAAAAAAAAAAAAAAAAAAAAAAAAAAAAAAAAAAAAAAAAAAAAAAAAAAAAAAAAAAAAAAAAAAAAAAAAAAAAAAAAAAAAAAAAAAAAAAAAAAAAAAAAAAAAAAAAAAAAAAAAAAAAAAAAAAAAAAAAAAAAAAAAAAAAAAAAAAAAAAAAAAAAAAAAAAAAAAAAAAAAAAAAAAAAAAAAAAAAAAAAAAAAAAAAAAAAAAAAAAAAAAAAAAAAAAAAAAAAAAAAAAAAAAAAAAAAAAAAAAAAAAAAAAAAAAAAAAAAAAAAAAAAAAAAAAAAAAAAAAAAAAAAAAAAAAAAAAAAAAAAAAAAAAAAAAAAAAAAAAAAAAAAAAAAAAAAAAAAAAAAAAAAAAAAAAAAAAAAAAAAAAAAAAAAAAAAAAAAAAAAAAAAAAAAAAAAAAAAAAAAAAAAAAAAAAAAAAAAAAAAAAAAAAAAAAAAAAAAAAAAAAAAAAAAAAAAAAAAAAAAAAAAAAAAAAAAAAAAAAAAAAAAAAAAAAAAAAAAAAAAAAAAAAAAAAAAAAAAAAAAAAAAAAAAAAAAAAAAAAAAAAAAAAAAAAAAAAAAAAAAAAAAAAAAAAAAAAAAAAAAAAAAAAAAAAAAAAAAAAAAAAAAAAAAAAAAAAAAAAAAAAAAAAAAAAAAAAAAAAAAAAAAAAAAAAAAAAAAAAAAAAAAAAAAAAAAAAAAAAAAAAAAAAAAAAAAAAAAAAAAAAAAAAAAAAAAAAAAAAAAAAAAAAAAAAAAAAAAAAAAAAAAAAAAAAAAAAAAAAAAAAAAAAAAAAAAAAAAAAAAAAAAAAAAAAAAAAAAAAAAAAAAAAAAAAAAAAAAAAAAAAAAAAAAAAAAAAAAAAAAAAAAAAAAAAAAAAAAAAAAAAAAAAAAAAAAAAAAAAAAAAAAAAAAAAAAAAAAAAAAAAAAAAAAAAAAAAAAAAAAAAAAAAAAAAAAAAAAAAAAAAAAAAAAAAAAAAAAAAAAAAAAAAAAAAAAAAAAAAAAAAAAAAAAAAAAAAAAAAAAAAAAAAAAAAAAAAAAAAAAAAAAAAAAAAAAAAAAAAAAAAAAAAAAAAAAAAAAAAAAAAAAAAAAAAAAAAAAAAAAAAAAAAAAAAAAAAAAAAAAAAAAAAAAAAAAAAAAAAAAAAAAAAAAAAAAAAAAAAAAAAAAAAAAAAAAAAAAAAAAAAAAAAAAAAAAAAAAAAAAAAAAAAAAAAAAAAAAAAAAAAAAAAAAAAAAAAAAAAAAAAAAAAAAAAAAAAAAAAAAAAAAAAAAAAAAAAAAAAAAAAAAAAAAAAAAAAAAAAAAAAAAAAAAAAAAAAAAAAAAAAAAAAAAAAAAAAAAAAAAAAAAAAAAAAAAAAAAAAAAAAAAAAAAAAAAAAAAAAAAAAAAAAAAAAAAAAAAAAAAAAAAAAAAAAAAAAAAAAAAAAAAAAAAAAAAAAAAAAAAAAAAAAAAAAAAAAAAAAAAAAAAAAAAAAAAAAAAAAAAAAAAAAAAAAAAAAAAAAAAAAAAAAAAAAAAAAAAAAAAAAAAAAAAAAAAAAAAAAAAAAAAAAAAAAAAAAAAAAAAAAAAAAAAAAAAAAAAAAAAAAAAAAAAAAAAAAAAAAAAAAAAAAAAAAAAAAAAAAAAAAAAAAAAAAAAAAAAAAAAAAAAAAAAAAAAAAAAAAAAAAAAAAAAAAAAAAAAAAAAAAAAAAAAAAAAAAAAAAAAAAAAAAAAAAAAAAAAAAAAAAAAAAAAAAAAAAAAAAAAAAAAAAAAAAAAAAAAAAAAAAAAAAAAAAAAAAAAAAAAAAAAAAAAAAAAAAAAAAAAAAAAAAAAAAAAAAAAAAAAAAAAAAAAAAAAAAAAAAAAAAAAAAAAAAAAAAAAAAAAAAAAAAAAAAAAAAAAAAAAAAAAAAAAAAAAAAAAAAAAAAAAAAAAAAAAAAAAAAAAAAAAAAAAAAAAAAAAAAAAAAAAAAAAAAAAAAAAAAAAAAAAAAAAAAAAAAAAAAAAAAAAAAAAAAAAAAAAAAAAAAAAAAAAAAAAAAAAAAAAAAAAAAAAAAAAAAAAAAAAAAAAAAAAAAAAAAAAAAAAAAAAAAAAAAAAAAAAAAAAAAAAAAAAAAAAAAAAAAAAAAAAAAAAAAAAAAAAAAAAAAAAAAAAAAAAAAAAAAAAAAAAAAAAAAAAAAAAAAAAAAAAAAAAAAAAAAAAAAAAAAAAAAAAAAAAAAAAAAAAAAAAAAAAAAAAAAAAAAAAAAAAAAAAAAAAAAAAAAAAAAAAAAAAAAAAAAAAAAAAAAAAAAAAAAAAAAAAAAAAAAAAAAAAAAAAAAAAAAAAAAAAAAAAAAAAAAAAAAAAAAAAAAAAAAAAAAAAAAAAAAAAAAAAAAAAAAAAAAAAAAAAAAAAAAAAAAAAAAAAAAAAAAAAAAAAAAAAAAAAAAAAAAAAAAAAAAAAAAAAAAAAAAAAAAAAAAAAAAAAAAAAAAAAAAAAAAAAAAAAAAAAAAAAAAAAAAAAAAAAAAAAAAAAAAAAAAAAAAAAAAAAAAAAAAAAAAAAAAAAAAAAAAAAAAAAAAAAAAAAAAAAAAAAAAAAAAAAAAAAAAAAAAAAAAAAAAAAAAAAAAAAAAAAAAAAAAAAAAAAAAAAAAAAAAAAAAAAAAAAAAAAAAAAAAAAAAAAAAAAAAAAAAAAAAAAAAAAAAAAAAAAAAAAAAAAAAAAAAAAAAAAAAAAAAAAAAAAAAAAAAAAAAAAAAAAAAAAAAAAAAAAAAAAAAAAAAAAAAAAAAAAAAAAAAAAAAAAAAAAAAAAAAAAAAAAAAAAAAAAAAAAAAAAAAAAAAAAAAAAAAAAAAAAAAAAAAAAAAAAAAAAAAAAAAAAAAAAAAAAAAAAAAAAAAAAAAAAAAAAAAAAAAAAAAAAAAAAAAAAAAAAAAAAAAAAAAAAAAAAAAAAAAAAAAAAAAAAAAAAAAAAAAAAAAAAAAAAAAAAAAAAAAAAAAAAAAAAAAAAAAAAAAAAAAAAAAAAAAAAAAAAAAAAAAAAAAAAAAAAAAAAAAAAAAAAAAAAAAAAAAAAAAAAAAAAAAAAAAAAAAAAAAAAAAAAAAAAAAAAAAAAAAAAAAAAAAAAAAAAAAAAAAAAAAAAAAAAAAAAAAAAAAAAAAAAAAAAAAAAAAAAAAAAAAAAAAAAAAAAAAAAAAAAAAAAAAAAAAAAAAAAAAAAAAAAAAAAAAAAAAAAAAAAAAAAAAAAAAAAAAAAAAAAAAAAAAAAAAAAAAAAAAAAAAAAAAAAAAAAAAAAAAAAAAAAAAAAAAAAAAAAAAAAAAAAAAAAAAAAAAAAAAAAAAAAAAAAAAAAAAAAAAAAAAAAAAAAAAAAAAAAAAAAAAAAAAAAAAAAAAAAAAAAAAAAAAAAAAAAAAAAAAAAAAAAAAAAAAAAAAAAAAAAAAAAAAAAAAAAAAAAAAAAAAAAAAAAAAAAAAAAAAAAAAAAAAAAAAAAAAAAAAAAAAAAAAAAAAAAAAAAAAAAAAAAAAAAAAAAAAAAAAAAAAAAAAAAAAAAAAAAAAAAAAAAAAAAAAAAAAAAAAAAAAAAAAAAAAAAAAAAAAAAAAAAAAAAAAAAAAAAAAAAAAAAAAAAAAAAAAAAAAAAAAAAAAAAAAAAAAAAAAAAAAAAAAAAAAAAAAAAAAAAAAAAAAAAAAAAAAAAAAAAAAAAAAAAAAAAAAAAAAAAAAAAAAAAAAAAAAAAAAAAAAAAAAAAAAAAAAAAAAAAAAAAAAAAAAAAAAAAAAAAAAAAAAAAAAAAAAAAAAAAAAAAAAAAAAAAAAAAAAAAAAAAAAAAAAAAAAAAAAAAAAAAAAAAAAAAAAAAAAAAAAAAAAAAAAAAAAAAAAAAAAAAAAAAAAAAAAAAAAAAAAAAAAAAAAAAAAAAAAAAAAAAAAAAAAAAAAAAAAAAAAAAAAAAAAAAAAAAAAAAAAAAAAAAAAAAAAAAAAAAAAAAAAAAAAAAAAAAAAAAAAAAAAAAAAAAAAAAAAAAAAAAAAAAAAAAAAAAAAAAAAAAAAAAAAAAAAAAAAAAAAAAAAAAAAAAAAAAAAAAAAAAAAAAAAAAAAAAAAAAAAAAAAAAAAAAAAAAAAAAAAAAAAAAAAAAAAAAAAAAAAAAAAAAAAAAAAAAAAAAAAAAAAAAAAAAAAAAAAAAAAAAAAAAAAAAAAAAAAAAAAAAAAAAAAAAAAAAAAAAAAAAAAAAAAAAAAAAAAAAAAAAAAAAAAAAAAAAAAAAAAAAAAAAAAAAAAAAAAAAAAAAAAAAAAAAAAAAAAAAAAAAAAAAAAAAAAAAAAAAAAAAAAAAAAAAAAAAAAAAAAAAAAAAAAAAAAAAAAAAAAAAAAAAAAAAAAAAAAAAAAAAAAAAAAAAAAAAAAAAAAAAAAAAAAAAAAAAAAAAAAAAAAAAAAAAAAAAAAAAAAAAAAAAAAAAAAAAAAAAAAAAAAAAAAAAAAAAAAAAAAAAAAAAAAAAAAAAAAAAAAAAAAAAAAAAAAAAAAAAAAAAAAAAAAAAAAAAAAAAAAAAAAAAAAAAAAAAAAAAAAAAAAAAAAAAAAAAAAAAAAAAAAAAAAAAAAAAAAAAAAAAAAAAAAAAAAAAAAAAAAAAAAAAAAAAAAAAAAAAAAAAAAAAAAAAAAAAAAAAAAAAAAAAAAAAAAAAAAAAAAAAAAAAAAAAAAAAAAAAAAAAAAAAAAAAAAAAAAAAAAAAAAAAAAAAAAAAAAAAAAAAAAAAAAAAAAAAAAAAAAAAAAAAAAAAAAAAAAAAAAAAAAAAAAAAAAAAAAAAAAAAAAAAAAAAAAAAAAAAAAAAAAAAAAAAAAAAAAAAAAAAAAAAAAAAAAAAAAAAAAAAAAAAAAAAAAAAAAAAAAAAAAAAAAAAAAAAAAAAAAAAAAAAAAAAAAAAAAAAAAAAAAAAAAAAAAAAAAAAAAAAAAAAAAAAAAAAAAAAAAAAAAAAAAAAAAAAAAAAAAAAAAAAAAAAAAAAAAAAAAAAAAAAAAAAAAAAAAAAAAAAAAAAAAAAAAAAAAAAAAAAAAAAAAAAAAAAAAAAAAAAAAAAAAAAAAAAAAAAAAAAAAAAAAAAAAAAAAAAAAAAAAAAAAAAAAAAAAAAAAAAAAAAAAAAAAAAAAAAAAAAAAAAAAAAAAAAAAAAAAAAAAAAAAAAAAAAAAAAAAAAAAAAAAAAAAAAAAAAAAAAAAAAAAAAAAAAAAAAAAAAAAAAAAAAAAAAAAAAAAAAAAAAAAAAAAAAAAAAAAAAAAAAAAAAAAAAAAAAAAAAAAAAAAAAAAAAAAAAAAAAAAAAAAAAAAAAAAAAAAAAAAAAAAAAAAAAAAAAAAAAAAAAAAAAAAAAAAAAAAAAAAAAAAAAAAAAAAAAAAAAAAAAAAAAAAAAAAAAAAAAAAAAAAAAAAAAAAAAAAAAAAAAAAAAAAAAAAAAAAAAAAAAAAAAAAAAAAAAAAAAAAAAAAAAAAAAAAAAAAAAAAAAAAAAAAAAAAAAAAAAAAAAAAAAAAAAAAAAAAAAAAAAAAAAAAAAAAAAAAAAAAAAAAAAAAAAAAAAAAAAAAAAAAAAAAAAAAAAAAAAAAAAAAAAAAAAAAAAAAAAAAAAAAAAAAAAAAAAAAAAAAAAAAAAAAAAAAAAAAAAAAAAAAAAAAAAAAAAAAAAAAAAAAAAAAAAAAAAAAAAAAAAAAAAAAAAAAAAAAAAAAAAAAAAAAAAAAAAAAAAAAAAAAAAAAAAAAAAAAAAAAAAAAAAAAAAAAAAAAAAAAAAAAAAAAAAAAAAAAAAAAAAAAAAAAAAAAAAAAAAAAAAAAAAAAAAAAAAAAAAAAAAAAAAAAAAAAAAAAAAAAAAAAAAAAAAAAAAAAAAAAAAAAAAAAAAAAAAAAAAAAAAAAAAAAAAAAAAAAAAAAAAAAAAAAAAAAAAAAAAAAAAAAAAAAAAAAAAAAAAAAAAAAAAAAAAAAAAAAAAAAAAAAAAAAAAAAAAAAAAAAAAAAAAAAAAAAAAAAAAAAAAAAAAAAAAAAAAAAAAAAAAAAAAAAAAAAAAAAAAAAAAAAAAAAAAAAAAAAAAAAAAAAAAAAAAAAAAAAAAAAAAAAAAAAAAAAAAAAAAAAAAAAAAAAAAAAAAAAAAAAAAAAAAAAAAAAAAAAAAAAAAAAAAAAAAAAAAAAAAAAAAAAAAAAAAAAAAAAAAAAAAAAAAAAAAAAAAAAAAAAAAAAAAAAAAAAAAAAAAAAAAAAAAAAAAAAAAAAAAAAAAAAAAAAAAAAAAAAAAAAAAAAAAAAAAAAAAAAAAAAAAAAAAAAAAAAAAAAAAAAAAAAAAAAAAAAAAAAAAAAAAAAAAAAAAAAAAAAAAAAAAAAAAAAAAAAAAAAAAAAAAAAAAAAAAAAAAAAAAAAAAAAAAAAAAAAAAAAAAAAAAAAAAAAAAAAAAAAAAAAAAAAAAAAAAAAAAAAAAAAAAAAAAAAAAAAAAAAAAAAAAAAAAAAAAAAAAAAAAAAAAAAAAAAAAAAAAAAAAAAAAAAAAAAAAAAAAAAAAAAAAAAAAAAAAAAAAAAAAAAAAAAAAAAAAAAAAAAAAAAAAAAAAAAAAAAAAAAAAAAAAAAAAAAAAAAAAAAAAAAAAAAAAAAAAAAAAAAAAAAAAAAAAAAAAAAAAAAAAAAAAAAAAAAAAAAAAAAAAAAAAAAAAAAAAAAAAAAAAAAAAAAAAAAAAAAAAAAAAAAAAAAAAAAAAAAAAAAAAAAAAAAAAAAAAAAAAAAAAAAAAAAAAAAAAAAAAAAAAAAAAAAAAAAAAAAAAAAAAAAAAAAAAAAAAAAAAAAAAAAAAAAAAAAAAAAAAAAAAAAAAAAAAAAAAAAAAAAAAAAAAAAAAAAAAAAAAAAAAAAAAAAAAAAAAAAAAAAAAAAAAAAAAAAAAAAAAAAAAAAAAAAAAAAAAAAAAAAAAAAAAAAAAAAAAAAAAAAAAAAAAAAAAAAAAAAAAAAAAAAAAAAAAAAAAAAAAAAAAAAAAAAAAAAAAAAAAAAAAAAAAAAAAAAAAAAAAAAAAAAAAAAAAAAAAAAAAAAAAAAAAAAAAAAAAAAAAAAAAAAAAAAAAAAAAAAAAAAAAAAAAAAAAAAAAAAAAAAAAAAAAAAAAAAAAAAAAAAAAAAAAAAAAAAAAAAAAAAAAAAAAAAAAAAAAAAAAAAAAAAAAAAAAAAAAAAAAAAAAAAAAAAAAAAAAAAAAAAAAAAAAAAAAAAAAAAAAAAAAAAAAAAAAAAAAAAAAAAAAAAAAAAAAAAAAAAAAAAAAAAAAAAAAAAAAAAAAAAAAAAAAAAAAAAAAAAAAAAAAAAAAAAAAAAAAAAAAAAAAAAAAAAAAAAAAAAAAAAAAAAAAAAAAAAAAAAAAAAAAAAAAAAAAAAAAAAAAAAAAAAAAAAAAAAAAAAAAAAAAAAAAAAAAAAAAAAAAAAAAAAAAAAAAAAAAAAAAAAAAAAAAAAAAAAAAAAAAAAAAAAAAAAAAAAAAAAAAAAAAAAAAAAAAAAAAAAAAAAAAAAAAAAAAAAAAAAAAAAAAAAAAAAAAAAAAAAAAAAAAAAAAAAAAAAAAAAAAAAAAAAAAAAAAAAAAAAAAAAAAAAAAAAAAAAAAAAAAAAAAAAAAAAAAAAAAAAAAAAAAAAAAAAAAAAAAAAAAAAAAAAAAAAAAAAAAAAAAAAAAAAAAAAAAAAAAAAAAAAAAAAAAAAAAAAAAAAAAAAAAAAAAAAAAAAAAAAAAAAAAAAAAAAAAAAAAAAAAAAAAAAAAAAAAAAAAAAAAAAAAAAAAAAAAAAAAAAAAAAAAAAAAAAAAAAAAAAAAAAAAAAAAAAAAAAAAAAAAAAAAAAAAAAAAAAAAAAAAAAAAAAAAAAAAAAAAAAAAAAAAAAAAAAAAAAAAAAAAAAAAAAAAAAAAAAAAAAAAAAAAAAAAAAAAAAAAAAAAAAAAAAAAAAAAAAAAAAAAAAAAAAAAAAAAAAAAAAAAAAAAAAAAAAAAAAAAAAAAAAAAAAAAAAAAAAAAAAAAAAAAAAAAAAAAAAAAAAAAAAAAAAAAAAAAAAAAAAAAAAAAAAAAAAAAAAAAAAAAAAAAAAAAAAAAAAAAAAAAAAAAAAAAAAAAAAAAAAAAAAAAAAAAAAAAAAAAAAAAAAAAAAAAAAAAAAAAAAAAAAAAAAAAAAAAAAAAAAAAAAAAAAAAAAAAAAAAAAAAAAAAAAAAAAAAAAAAAAAAAAAAAAAAAAAAAAAAAAAAAAAAAAAAAAAAAAAAAAAAAAAAAAAAAAAAAAAAAAAAAAAAAAAAAAAAAAAAAAAAAAAAAAAAAAAAAAAAAAAAAAAAAAAAAAAAAAAAAAAAAAAAAAAAAAAAAAAAAAAAAAAAAAAAAAAAAAAAAAAAAAAAAAAAAAAAAAAAAAAAAAAAAAAAAAAAAAAAAAAAAAAAAAAAAAAAAAAAAAAAAAAAAAAAAAAAAAAAAAAAAAAAAAAAAAAAAAAAAAAAAAAAAAAAAAAAAAAAAAAAAAAAAAAAAAAAAAAAAAAAAAAAAAAAAAAAAAAAAAAAAAAAAAAAAAAAAAAAAAAAAAAAAAAAAAAAAAAAAAAAAAAAAAAAAAAAAAAAAAAAAAAAAAAAAAAAAAAAAAAAAAAAAAAAAAAAAAAAAAAAAAAAAAAAAAAAAAAAAAAAAAAAAAAAAAAAAAAAAAAAAAAAAAAAAAAAAAAAAAAAAAAAAAAAAAAAAAAAAAAAAAAAAAAAAAAAAAAAAAAAAAAAAAAAAAAAAAAAAAAAAAAAAAAAAAAAAAAAAAAAAAAAAAAAAAAAAAAAAAAAAAAAAAAAAAAAAAAAAAAAAAAAAAAAAAAAAAAAAAAAAAAAAAAAAAAAAAAAAAAAAAAAAAAAAAAAAAAAAAAAAAAAAAAAAAAAAAAAAAAAAAAAAAAAAAAAAAAAAAAAAAAAAAAAAAAAAAAAAAAAAAAAAAAAAAAAAAAAAAAAAAAAAAAAAAAAAAAAAAAAAAAAAAAAAAAAAAAAAAAAAAAAAAAAAAAAAAAAAAAAAAAAAAAAAAAAAAAAAAAAAAAAAAAAAAAAAAAAAAAAAAAAAAAAAAAAAAAAAAAAAAAAAAAAAAAAAAAAAAAAAAAAAAAAAAAAAAAAAAAAAAAAAAAAAAAAAAAAAAAAAAAAAAAAAAAAAAAAAAAAAAAAAAAAAAAAAAAAAAAAAAAAAAAAAAAAAAAAAAAAAAAAAAAAAAAAAAAAAAAAAAAAAAAAAAAAAAAAAAAAAAAAAAAAAAAAAAAAAAAAAAAAAAAAAAAAAAAAAAAAAAAAAAAAAAAAAAAAAAAAAAAAAAAAAAAAAAAAAAAAAAAAAAAAAAAAAAAAAAAAAAAAAAAAAAAAAAAAAAAAAAAAAAAAAAAAAAAAAAAAAAAAAAAAAAAAAAAAAAAAAAAAAAAAAAEAAQABAAAAAQABAAEAAQABAAAAAQABAAEAAAABAAMAAwADAAMAAwADAAQABQAEAAMABAADAAMAAwAEAAQABAADAAMABAADAAIAAgACAAIAAQABAAEAAAAAAP/////+//7//P/8//v/+v/5//f/+P/2//X/8//z//L/8f/x//H/7//t/+z/7P/r/+r/6f/n/+b/5f/j/+L/4v/g/9z/3P/b/9r/2P/W/9f/1f/T/9L/0f/Q/87/zv/N/83/zP/N/87/0f/S/9P/1v/a/9z/3v/j/+j/6v/t//H/+P/+/wAABAAKAA8AFAAaACMAKQAtADEAOgBFAEsAUQBZAGEAaABwAHoAggCHAI0AlACeAKYArACwALUAugC+AMQAyQDJAMgAxwDHAMgAxQDBALoAtACtAKcAngCWAI4AgQB2AGoAXwBTAEQANwAnABYABwD5/+r/1//I/7f/pv+T/4D/b/9a/0b/Mv8f/wn/9v7h/s/+vv6q/pf+hP50/mb+V/5L/j/+NP4r/iH+Hv4c/hv+Gf4c/iL+Kv40/kD+Tv5c/m3+hP6d/rX+zv7q/gj/Kf9P/3b/m/+9/+T/EAA9AGcAkAC8AOkAGAFHAXkBpQHQAfoBKAJXAn8CpALIAuoCBgMiAz0DUQNZA1wDZgN0A3kDdANvA2sDYwNbA1kDWQNRAz8DLgMnAyMDGQMGA/EC4QLNAq8CkQJ5Al4CLgLuAa4BdAE5AfIAoQBIAOj/gv8m/9T+e/4F/oH9Cv2l/EP82Pti++f6bvoJ+sD5g/k++e/4qviF+Hn4cvhs+Gv4bPh5+KH46vg4+Xz5wfkb+o36C/uT+xv8oPwk/a39Tf7//q//TQDmAIkBOALnApYDPwTRBEcFvgVFBscGJgdoB6UH2wcACB0IQghgCFoINQgdCCQIMQgfCPQHxwefB4AHawdeBzwH8waaBmMGVAY8BvAFiAUqBdQEgwRFBA4EsgMjA5QCPQITAuQBgQHxAFoA5/+r/5H/Wf/J/vX9SP0P/Rr98fxe/JX76fqL+oH6mvpi+pT5i/gB+Cv4ePhK+Jn3z/ZH9jH2kfYD9+/2M/aE9aX1f/ZP95P3ZPcq9033Ffha+Wj6qPpk+oD6cfvV/P79lP6r/qr+IP9DAJwBZQJgAh4CUwIbAwwEsgTbBJ0EZQS0BIsFSwZwBhYGwwXbBVwG7QYfB88GUQYkBmwG2Ab9BrkGOgbZBdwFMQZuBkAGvwVEBRUFOAVyBXYFJgWyBF4EUQSCBNIE+gS6BEAEHgSSBDIFhgWRBXYFOAUfBZ4FigYGB6EG6gWfBd0FZAbwBu4GzQUWBEADyQNpBMED9QEDAIj+yP3T/eL9nfza+UX3cvbs9gT30PWv843xU/Bt8DbxYfE98Hjuce3y7WvvefBL8HDvIe/175LxQfNe9J30efQe9Qr3RfmY+in74fvr/Pv9UP8cAZwCJwOAA6QEHgYDB6MHtgi3CeIJyAlTCiwLfgtuC3cLSwujCiAKTgqMCgcK9wgMCGwH9wazBmUGhAUgBBED0ALmAqEC2QHXAAAAtv/7/0QABgBO/5r+VP6m/lP/rf9B/5T+iP4j/8H/IQBfAFMAAgAXABYBXQLjAqoCjwL/AsoD5QQqBsMGMgaEBS0G7gdLCZIJIglnCOMHfghbCsYL6gpeCJkG9wZcCN0IsgdJBYoCswDAAOUBpQGE/iP6gfeB90X4oPcT9aDxt+6C7Rbu3u7M7cXqHejP51LprOqX6lfpJ+he6FPq3Oxv7qLud+5s7wXyKvVC9/73rfiJ+kz92f+rAQsDOwR0BS4HcwlTC/EL8AuwDEkOiw/CD28PRg9bD4kPvQ+TD6UOTQ1wDFsMVQyKC+UJDQjgBq4GvAbmBRYEXAKFAWEBWAHzAPb/of7f/R3+nP6U/hL+bf3m/Ov8sf10/k/+m/1w/Q/+0/5o/+f/EQDJ/+H/LgHUAkoD2wINAzoEgQVbBt4GIgeKB7gIYQpRCyILsQr0ClYMaQ6PD0gOswvRCmYMAA60DRkM5AkWBxoF3gXNB6sGowHf/KH7Vvz3+9T5rfbs8oLvGO6a7ovu/uvo5+jkheTw5eLmxeVi49jhTOI85Hjm6uff5//mXec96lbuK/EV8pvyDPSq9kD6CP6wAMUBlwKEBE4HAwovDJkNIQ50DoAPFRFfEvMS1BI6ErkRAxKyEnAS7BBTD3oO6Q0hDUEMIAtMCR4HqQVABewE0AMPAlgAOv/L/oj+1f3o/FD83/ss+4f6fvrL+sv6kvqn+gH7KvtM++376Pyz/Sj+h/7u/n3/ogAeAvMCJQPLAzUFigZnBwQIXgi4CPEJLwzyDd4NswwbDBENnw9jEukSMRDZDH0M8A7YEFcQJA7sCloH4AXRB9YJbQdKAYn8q/ta/Mb7V/l59cPw9Oz76/TslOwb6VXkT+E44drixeNq4rHf2d013l7g++KM5EPkO+PI49vm5OrW7WHvVPCL8fTzzvfG+zz+hv9gATQE3QbdCMgKmgzaDQYP2xDAEl0T5RIAEwoU3BQDFeMUXBQ/E0cS+BGuEbwQVg/1DYYM/wquCV8IzwZVBUIENAO0ASQAB/8r/kT9dfzl+z/7ZvrN+Zn5kvmZ+bP5xvmn+bL5UPoZ+2L7g/uE/CX+E/8R/0D/ZgD5AU8DcgRMBZwFtgVdBrQHBAn0CcUKjgscDGgMtgwjDeYNTw/BEM4QBA8NDd0MMQ5NDxYPgA3ZCgsIzAaoB4oI3Aa4Ar/+xfxO/Or7dPpr9zbzc+/G7dftc+3w6hLn4+OA4oPip+Lr4Tzgdd7R3cjeseA74o3iQ+LP4vTkCejd6tbsBO4m7zvxnfR9+Iz7oP2V/+wBkwRgBy8Kfgz4DS0PxRCJEsMTaxTwFFEVjRUMFtAW5xazFUAUrxOME+0SuxE6EFUORwzECtcJrgjPBrcECwPUAc8AuP9w/hj98/s/+8f6MfqH+QH52PgM+Vj5X/kN+d74VPlI+gz7Svto+8z7iPyP/dD+CwDFAA4BjgGHApsDXQTXBFgFAgbEBmcHzgczCPkIOgp5CwcMzQuTCzsMmQ2WDl0OOQ0qDLsL6QtxDIgMKQt9CGYGcQaEBxsHeQQ2AeT+oP3K/Mn77fmd9qXy3u8J7+ruke186hDn8+R55JjkI+TS4ifh1d+C337gA+K34ljiIOJi49flG+i46RvrnOyi7pfxJPUT+Mb5PfvN/W4B9wSJBxQJIwq+C3YOdBE9E4YTjBNTFJMVtBaOF+IXNxfrFV0V+RVZFiQVxBK+EKUP0Q7GDXEMpwp1CG8GLwWiBAQEoQKaAO3+Uv5S/tf9m/xq++X6zvq8+qb6kvo3+qD5lfl9+rH7MfzL+337Lvyb/QX/7f9MAIkA+QDGAfgCLgTfBPME3AQ+BT0GSwfmBzMIbwiwCDwJNwosC3UL/wqwCi8L3QvVCxMLJQpnCd8IlwhZCJIH8gUDBOEClwIIAqQAwf7H/N36PPkj+Cb3X/Wu8hHwa+597ZjsT+uZ6dDnX+ak5aPlreUi5SrkfuOx443keeUd5pHmK+cV6HPpceu/7cbvR/Gm8oj0FPff+XL8o/5vAPYBrAPtBZAIDgvFDJ8NQA5oD2ERhhPdFDEVBBX7FHAVRBYEFwEX+xWQFJgTUxMnE24SIRF4D8oNgwzKCy4L5AnJB6kFTQSxAx8DEQJ+ALr+cP3n/Nj80vw3/PH6vPlf+fn50/oa+6v6Dfrh+V/6avuJ/An95Py0/PT8zv0N/ygApgCYALwApQH9Au4DTwSTBMgE8wR7BW0GMQcwB7wGzwaRB0QIjAigCIgINgjjB70HkgcZB0wGdQWwBMgDywIIAloBZQBJ/03+RP3q+4v6iPme+D33ffUD9OTyvfGr8NrvA+/k7bPs+uvC65LrIut96gbqCepi6sDq/Opi6zDsKe0r7knvnfDt8fLyJ/T/9Sf4CfpV+438NP4tADwCMATvBUoHOQhKCcgKiwwmDhYPgQ/0D8wQ7RGxEuUS2RK0Em4SGRL5EdoRKxH4D94OUQ4LDmkNXQwiC9gJxggYCIAHigYlBaIDWwJ8Ae4AZQCQ/27+cP0B/QX9A/3K/G38Cvzo+y/8ufwi/Rv94fzZ/CT9of0R/lz+fP6W/u3+ev8XAJ0A8QA3AYkB+gF8AtEC5wLgAu4CIANbA5UDuQOtA4sDiQPIAxkEMgQcBP0D3AOvA3UDMwPpAoQC/gFWAZQAzP8X/3T+xf3v/AL8HftX+rP5D/k0+CL3HPZr9Qn1o/Ti88jyvPEk8fLw0/B68NPvJ+/j7izvxe9I8IfwuvBL8VvypfPL9Kz1gfad9xb5vfpN/JT9uP4bAMwBfwMIBWEGcwdaCGgJpQq4C3MM/Ax/Df4NdA7nDjEPHQ/VDpIOOw7KDWkN8QwlDEsLvwpzCjkK5gk7CTYIPAekBlAG0wXnBK4DXQIlAWMAMQAAAGv/sf4I/oD9X/2g/cb9k/0k/Z/8QPwt/Ej8ffyc/Ez8zPvB+zP8wfxF/av95f39/Qb+RP70/sT/OgBaAEAA+//b/wsARQBXAEwAJwAJACsAhADvAHAB8AFOArkCRgO/A0IE7AQvBdoEdwQABDMDgAIHAmgB1wBiAJj/tf7q/dr8DPzl+0T7x/mW+BX4svch92n23fVx9WD05fJY8tnyQvP38hryBvE78FvwqfE98/nzLvR49JH02PQY9rH3tviG+aP62vvo/AD+i/8rATQCJgN5BGcFuAULBnkGVgcqCUoLkwyEDNALwQtEC5sJHQylFGcXqQzMAJMAjwZBCdcI2QeXBZQClAFDA/gExAT6A+4DqAN/AkMBrAAMARsCkgLzAXwBAwJ8ArkB7ABXAugE4gQRAmIAbAF6AqQBkAAgAfsBoADj/SL93/7k/5X+Zv1n/sb/Nf8a/hf/UwHQAZEAnQCwAvkDBgMoAl4DMwXNBWAG4wgVDDMN0gxDDvARCxQXEqwOWg0NDTMKIgVqATj/1Pqx84Du/+1O7hbrreb75T/o2+h65/jntepy6/Doi+fY6ZTsh+wu6yzrRezg7Cft8O7I8rf2Jvlp+3z/tQThCK8LpA7bEWsTmRJMEQoRkxAaDlgKSAf1BOkBQ/7t+3v7I/up+U/4lvjw+QX7y/vX/AP+JP/4ANMDIAb7BSMEbgMDBcUGUQYnBJsClwLlAnwCDwLXAo4EiQUGBX0EuQUcCC8JGAivBm4GRQbWBPoCLALpAbcAxf6e/dT9mP47/9L/0wDKArQFZgiKCX0JyQnGClYL/QpMCksJVQeHBO8BfwChAKcBmwFyAD4Drw6KHWskUSL+I5owGD2qPCk0sC/4LAAhdA78Asr+8PL32zrKEMj1ybvDwLyfwIHJEssRyTfQbt4T5RPh8N5v5XXsMO1B7UDzLvtl/mD/LAVsD98WfxgvGS8dUyFIIMYajRUMETcJ5/2t9E/w1ewj50nivOEk5AjoW+/p+UwCeQW+ByoNTBLmES4NtgjyBF7/ffi58xryMvFS7y/ukvBl9ij81P4Z/2P/xv9H/vj6O/iU9iL0yPDB79PyR/cw+rn8pAEaCKEMSw6UD58RCBJWD9QLJwogCcMF7gC6/qwA3APpBHYE4gWwCf8MxA2FDcwONBD8DhQMegoICtcHqARJBNUFugRjAhIEmQj6Cm4QYCJAOFc/yzj0PJ1TIWMBWd1E2jwkN/IfLAIn9AjwhN1lvxewAbXRue60YLQkwFHMCdDY09Lg9O8M9dDxhfHj93z+IP8j/XT/pwXfCegKgw+RGkIiBx6rFagU6ReeEvgC9fTk7HLj69XCy8XJsMkBx9DGPM4u2qvlNPJJAacQUhwDIz8pvC8lM2Qw3CdvH/AXVw7yAgj5ZvPg7nbnIOFd4mHoSerl5g/n+u0I8y/yu/IL+R7+NP0C/BwBKAmTCx8KDAu/Di8Rlg8yDtwOJQ6TCs8FDgO7AqACVQC4/Pj61Pv2/M77RPsB/nMAWP/+/Lj+OwQ1B18FzAOlBWkHgAaiBV0HbQlPCCgGMQa1CNsT3Cj+O5dA4TnTPjFTNV/6VJhAejTKKIgO0PDh4CvYbcO8plyZXJ+up+iopKxAu9jLddec4evw+QJdCqkH3wVJC0sT4BJ3DXEMfRBsE08SdxTCHIsgUBiEDQ0LUwusAkXyoOTz20rSrMjWxfjJiM5o0KHV1OLB87UDlBTbJkY0FDr+PGxCgkaqQcE13idcGpsMn/0L8XDoE+Fy2pDWH9iT3tvlYOuI7xP1//xkBFkIuAoTDn4PKw7zDSwRsxSREnwN3gtTDecNNwtdCIwHkQVmAU7+iP63/zT+Zfoz+Nr4CvpC+uT5EvtR/aX9nPyt/TwDMAnUCQ8HJgboCOoJbAfwBQgFXAPI/mL7f/x1/zsLrR4hLuwv9io5Nq9MFVTwRAQxISe9GSD90uBc01nJjrLImGCSBp7yp/mpUbH3w+zW7+M17/n+eQ2dDxgKjQhLD2MU4Q3UAwACiwYpCC4GOQhCDzEQsAaj/rX/vQBj9p/lmttC2MvSNc1vz0XXh9yL36/p3P2YETseriqLOaFDrUOfP4FApj64MMIc9gtrABP0muWu3FnbE9yz2yndsOS18Lz6mAD/BO4JABCmE0YSABCXD1YPfQ1jDOgOZBA/DNsHdAnhDcoNkAjTBAEF9APV/1D9lv5Q/xv8Xfn7+8wAIwIIAdACdQiRDRoNyAkvCokOERKZD/0JVgfIBjAFAgOQAt0D4gLi/aj7/P67CVAdnC90Nm0w2y+PQrNUn0+VNwIjNRcTBObmW9HPyPa7+6PXkqiYZKpItFS4VMRz11vnh/Gt+48JARL8DkgIeAdxDk0RuAip/gD+pAR9BwkERAOVBqUEtPsI9bX0+vCj40TWYdKA01fRW8+t1M7fkOlL8ev9FRG0Jm02ITwtPeM+6kFHPogxqSMgFsEEfe/A36rbuNq41HnPmdQr4XDsdfU9AOwKHxD/EqwZRSCSH5YY0xHHD7YPJQ19CNIENQR9A+L/av1sALsFeAaIAZf9NgDpBBIFEgKHAaUDbwMFAa4ClgilCiUHJwQGBhMKLwshCwwMmAtVCRMIRApKDVQLnwUaATX/B/1G+V4ANhfdLFMvpCM0J81BPVeIUHQ3YyX0GwkJresI1obMvL7DpeWTs5ldrFW3ELqhxKbaxe87++MCZQ4LFhETsAsDC5oRxhDHA9z3Wfl/AvQDaP79/YUDYANO+svzw/Tp8pLmz9dz0qjU0tTN0nTWtOGQ7Yf18v8cFMArKDjJNro0ojokP281xCJ8FMwKJ/zx51rbIN1Z4R7dv9jq4PHxEP7eARUHKxECGAcYCxd7GjEethhBDHYF9wjnDI0GrPua+Cb9p/9V/OP6j/9kA2sB6f7bAtEJAQskByIGNQlCCbQE7gLcBQIHEwJT/Jb87wBvAycCqQFPBOgGTAZ7A48D+AYNCdwGAAIK/nMDfReFLg862DShLQ436Ef7S887+CLDD9r9d+U/zjHC2bpLrJKanJfJqPO8F8Yjy5PZ/+9NATcIHA0sFA0WVQ8rCOEK3BCgCzD+ZPe6/YAF7AL0/EL+4QG0++7tleah6dTpVN1Hz13O5dcN3zTgbuVn9EoEMw6OF6MmADYnOvAzIi8VL+wrzh8oD+kBGff16WHe3don3tngeN8s4f7rz/kPA8sH9AseEk0XyhjZGPUXthRSDz8KaQiLCLkGUAJZ/bj5hvmB/DcAjgG2/8L+UgGaBacItgpXDVYPUA3EB6wFOAm0DDwKNANr/oH+nQCkAUoChAL4Ae4BWAOGBuIJcwzeC+oH2gOACJodcTU6Pgg1pyv8Nt5KLU7xOOIaBwi7+yLow84uvdW2Ya+knwmVFqEgvbPSetgJ263phgAiEJwV5BjLG7kYpQ0NBnQKHxFdDR3/d/TA9/wAlwIR+oPwfuzP6ajip9nd1a7WvNSTzkzMzdb56fb4IwDWBUgSEiQhMyQ9QECXPP0z8ijVH/oWIwtr+wXq4dtZ1LXU39mt347jveZg7rn6kQdZEGgTWRQvFb8VvRVVFF8Sxg75CM8DoAHlAs8DmgEQ/nH7f/qH+2T/xAMcBeoBF/6v/9UFDAwCDpwKqwXLA+MG9gsHDC0F4/7a/j4DewWnAwwDrQS1BVkFOwYFCtkNdQ6HClcFZwKrB8waIzCZOe0z9ClAL4JAO0lrPAUfOgQe9B7md9IpvlSzSrHkrY+m8qd3uwjXLOhh6k3t8/xhEH8ZgBUBDs8L/gpmBjIBXAC0BGwHAQOP/NL7hwGMBc8A9vXL61HkkN3R16LUi9ME077TrNni5tj2pwThD08cxCvEONU+TTwvM+AocB6wEQUCfvK05jfe/tbR0tfV6t+D64fzBvgk/pMHDhDKE70SIRF6EVESjhBIDAoKAwxoD3cPOAz0CNQHrQhJCE4FfQGL/sb9Af6S/UX+oAFcBuIILwgZB9QHHAlYCFAGVwTeAtEA7P7B//AA5wAaAZMDAgn+DFENNQyrDF4Pqg7rCAMA6ftxCRQiyTVfOPUsfCo8OD5Ie0fzLi4PRfj96ZfZvsLPrwKqaK1HrW+pUrDcyEboKfnb96P2ygCEEPUW9g7qA+v+Rv+0ADYBdAMTCPALKgwsCZkFIQNIAnf/Afa/5SnUjMoTy0DPMtJO1Fjak+b69SoGCBVuIs0vCDplPss79DBCI8MX8AvB/ersTN3p1k7ZU92u33Lin+pe+DgENAm+CcoKnA4+EWIOIAn1BrAJpA0NDcYIFQYXB+MJVQpgB7UDwgCf/gz9zPvc+zL+uAHaBGgGFwa0BZYGZwjNCa0InwQPAFn9iPxn/Ar9Rf8sAl8ESwZACU8MvA3MDXwOIRHtEu0PAgk/AZj9WQahGiEx5z1dOR4vZy03Nak79jCzEx7yD9mWycC9TLMuro6x6LibvlnFTtIB56H8YQhdCaYFigOSA5gBd/3e+pH8HgCKAjQFtAqLEvoXXRVDCkX8WPLd7tHrweFs0QzF/8TOzgjbkeUR8NT8XgoxFlgfLSZRK7AsOCjUHX0PjwKD+gz3bvSe7vXnP+Yz6+3yk/jI+97+vQAv/+P8hP6GBBILNQ0ZC9AJgAsmD8kSwRSqFGURDgrGAEP6WPkQ/Iv+6f5M/k7+GQDrBD8MuBPPFnAT5AwfB5MElgQ4BIUBg/3g+tv6QPwX/qYBBQdMDAcP0A13CjYH3wV7B9QJYQr4BvX/mvjo98oGZiI2PmNLv0UxOtAzZjR+M8cmoA287Q/PE7i8rOCt/Lc/xHHMQ9Ei13nf+um+9O39mgMbArz4Quwn5QHpr/ZWBkcPOhHBEF8RkhPCFJYTag5mAVLtxtg8y1/I5MwQ00LYWt2J5NfudPtGCd8XhiTvKSYlpBjpC+cEvgPlBAAD3fzb9YTxY/JZ91L9mQFWAZD8RPeo9Lz0/vay+wMCYQffCEoHDwdOCjYPJhKWENwKdQPN/HT45/cK/B0Dvgg0CoUI9QfeC34SJxjZGaEWIRB3CCMCO/+jAPEEFggkBwsCqvzO+sr7+v2H/5L/Uf8i/7n/OwGQAoAEmAeaC1cOWQ2JCH8DYAe7GCkzTkmBTvpEZzW1J+QdYRSPCUL80Oqi1Ou9Xq/groS7B81k29Lkdeib5kbh/Nwl4NTqovY/+372+u7o7RL4tAj8F74hGCUjIkwYeAkd+6Tx/ew56V7jv9vU1PXRutRm3aXqXfmDBS8MWQ7LDdMLCQkuBtYEwwSWBBADbAC5/m3/UwKcBRYHUgYeBKoAJvzE9/P0f/SZ9uv6yQCzBhALDA14DH8KrQizB1MHXQbIAzsARP7o/xIF4AtrEV0UihRYEocO/QllB2YH5gcEBzoENwGn//j/rgEuBMcGUwigB5UE8QCl/24BtwO4BAQFWgYwCFYIMwcJBzEJaAz5DJgJ6Qc6DjYdOS4rOVo8aTmyMV0kjRJCAZH05Owd5qXcBdJuy9DLptD31eDad+Do5RLoF+X73oTaVNut4NLn6e6o9lIAEApAEeoUaRaHFpoTSQ0/BXD93Pbd8AzrUuaX5Arns+vN7+7yZPYV+hT8//qE93v0xfPw9Kb2M/iy+u7+ggNJBuMGJwe7By8HhgR5AEP9WPx9/Yv/XAHZAn8ERAaCB9oHqgc9BxgGVwTSAvcBAQI9A5wFRgifCrsM9A7WEFAR4w/3DPkJCwhgB3kHvwcECIsIrwkwC88MGA59DqYNMAuDB8AD1AB1/6f/fwCDAfUC7gS0BuwH3ghDCfwIwwdLBU8Bxvwu+0b/5AisFOweYCYyKlspkyIEFtgG2vgX7vzl5d9J3abfAebm7CjxqfFU7+Xri+cS4sfcj9mR2QDcl99o5BrrYPOB+8sBsAWRB58HqwX7ASr9Sviu9NPyvPJk9Hz3dfuT/6cDGAdYCL8GgAIG/UH48/Qk877y4vN49mP6L/8kBK8IjgvhC7YJFgYLAiz+J/wJ/TQAnQT7CIIMmA6pDggNbwqUB6IExAGr/7L+qf/3ApQHHwyMD9gQdA9FDD4IEwThADz/3P6C/54BAQUwCCUK7wpECycLOgkcBe0AtP4+/nj+zv6H/00BZwMkBD0DzgG6ACwArv9v/pj8rft0/HH9Jv0Z/Gb7Mfuo+nb5x/ja+Qv9KwIVCHMN3hFfFV8XXhZ0EfIJTAIo/Aj4vfVZ9SH3iPo1/p8AxACF/nD6RvV274/p+uQ0437kU+gT7pX0lvpD//8BHAIo/y76LfWM8Qrw2/DB8yr4Mf3bARQFMwb0BHIB6fzF+Az2s/XH93z74P/1A2EH7QnVCn8JNgYkAoj+hfyb/O39zf8yAtQE5gZ9B+oG9AWHBKMC1QC//5L/JwBVAcsCSATmBcsHZQnICb8IxQa7BDYD1wE+AHP/vABzAxMGwweFCHkJzQolC/0J1wdLBSYDvwGkAAAAuQCaAl0E9wQEBPoBAAC3/pD9//uV+rP6jvw3/kX+pv0t/vP/lQDG/oL8XPxZ/4UESwrHDz0UVhdNGcEZuBbTDhIFzf1I+ir5Nfhz94346/oT/Kz69fcS9ZfxgO2b6TrnRedu6cvspPCW9IX3LfmT+l779/pm+uP6PfxE/TX9b/xX/Mr8bfzh+wX8Wvw1/Gb7avpl+Xf4wfjD+hz9b/4w/wAA4QAoAugCoAHE/3//xf+e/+n/qgAPAj0E5gW9Bi0HfQeUCIUJWghTBh0GkAeZCO8IuwkMC54MZg0cDCoKpwiZBo4EpwOUA98DmgQ3BuAIMws4C2wJMQj7B64GOwNbAKMAVgJ0A5YEgAUfBVQE7APaAhMBt/+k/l/9Qvzb++v7g/v2+nv7d/zp/GP/Cgc/EfsXyxhNF34YYhoEFkkKNv6p+A751Plx+DT3Efij+Yf5GfaB71zoZOJ63UzafNq/3qbkUOld7f3xgPYE+s377PrY93n12vXg99f6GQCCBo0JIgmAChINEgofAe/4vPTB8l3yc/Tm97v6Yv0CAdQD5gKm/sP66/iw94T3K/qH/nACOQUjBwIJQgu8CxgI4AO5Aw0FrwSFBP0FPQhzCoQMYg77DrsN5AsJCsUHFgZZBT4EfQNGBO4EKAUvB4YJFwhhBIMDtAW/BqkEVwLzAlQF7QZbBz0H8gbOBiAHEwcwBXwCqwG6AtAC5gDs/1kBMAFw/an69voB++r53/lz/KsCHwojDXwLdAu4DgkPqAgWAFP7I/r09zP0cvMK9zL6rPkb+Eb4Yfiu9TXxAu7o7Pns5O0E8Fbz9fYy+hv9Zv+QADUAaP45/Jn6yfmE+T75kfkH+zX8FPy4+/v7WvxQ/Ln76/oL+0X8Pv1c/dn8Y/z3/I79wvwg/Mf8Qf0l/XD9Sv4j/3H/Df+U/of+h/5M/jr+2v5eAEMCvwOpBEkF1wU5BlUGbQauBvgGNAdRB4oHLginCD8IaAfiBngGxAXoBFQEegQHBTUFLQVOBWMFRwXdBDcE5QNABCkFEwZiBk4GYgaSBnAGuwWRBGIDpAINAhQBOgDI/1L/Av/+/mj/aAACAcAAaAAgAFcAIwHdANb/DwCMADgAdADzAKIAngA8ARsBJAC5/0gAiACS/27+M/4//qv93Pyf/Av97/3q/j7/+P7m/tv+d/4W/nP9R/xp+zX79/p2+lD6y/pU+1D7Kvud+1D8gfw//Ar8//vV+1P7ofpD+qD6Nvs2+9n6ofp9+pD64PoQ+2f7SfwW/Ub9Q/1k/af9KP62/gH/Sf+Z/5r/oP8gANwARwH5AFsAQABnADsA4f9+/13/wf8NAPf//P8iAC0ALgA4AEwAZwCHAMwA8wC0AIoA2gA6AXkB4QF2AgADUwNNAyADIwM2Ay4DFwPLAkUC1AFsAfkAoQBYAGUAHgH5AZECJAORA8QD7APeA3kD2QIVAnMBKQHxAKQAxwDQASUD2APsA8YDYwO2AugBIgFaAHT/2f76/lv/cP9x/6v/HACfAOQArwDs/8v+EP49/rT+t/51/nv+u/7G/rH+zP7//i7/VP8w/77+df6B/pP+vf4+/7L/vv+u/8L/1v+Z//b+a/5N/jz+/v3l/S3+vP42/0b/H/8l/03/Xv9O/0v/oP8zAKkA3QDWAMMA6wAjAQcBnQAkAL7/g/9u/07/CP/S/tr+7f7Y/ov+T/6e/ir/Wv9i/4n/uf8DAFkAYgAXANj/v//N/w4ASABPADgAFQAoAHIAWAC0///+k/6C/pX+gP6E/gX/xf8uABEAwf+n/7X/i/8v/wf/E//1/sD+4P5h/+P/IQA8AFEAUwBDAB0A6v+//6b/lv99/2H/Pf/0/tv+Uf8OAIgAjABfAFUAagBgAAcAof+J/43/Tv/k/rT+3/4s/2D/a/9v/47/oP9+/1r/kf8XAGkAQgD+//H/DAAOALv/Mf/n/vH+9f7R/sX++f4y/0T/Rv9L/2n/jP+m/+n/PwBkAFwAWQCSAOcAEQEuAWgBmgGtAccB/AEnAjQCFAK9AWcBKgHPAHcAgwDjACwBKQH7ANgA3QAAASoBWwGPAagBjAFSAT4BbgGoAb0BqwFYAegAqQCPAIcAmQCrAL8A1gDVAL4AqQClAK4AtACkAIEAZABXAFYAUgBFAEMAUgBUADIA9P/G/7//1//4//b/1P+8/7D/nf+I/4f/nP+n/5H/bv9b/1f/Zv+V/7n/qv96/1D/VP91/3L/Nv/m/qb+bf43/hP+Df4w/n/+3/4u/3b/xf8GADEATQBMABYAyP+h/6T/p/+1/+n/OABzAGQAEwCm/0T/FP8B/9v+nP5e/j7+Qf5h/ov+v/4D/0L/WP8//yT/Pv+S/+b/6v+q/4n/qP/S/9L/w//b/wcAFQD0/6z/c/9x/5v/3f8fAD8ARABWAIoA0AAFAQ8B/wD+ABwBKAEAAeAA/gA5AU8BMQEOAQgBFgElARwBAwECAQ0B/gDVAMIA1ADyABcBOgE/ASQBDwElAVkBdgFiAScB7QDMAJsARADw/9D/4v/0/+r/3v/2/zQAZgBgAEcARABIADsAJQAVABEADQASADMATQA4APb/rP98/17/M//p/pf+c/6S/sv+/f44/4j/vf+t/4D/af9e/z//C//e/tv+Dv9W/5n/4v8eACsA/P+w/2j/JP/j/rz+wP7g/v3+H/9d/7D/8/8LAP7/8f8AABgAKgA8AFIAaACAAJUApACrAKMAkwCJAIUAfABsAFYAPwA/AFYAYABaAGAAdwCUALoA7QAhAUABPwEfAekAqwB3AEgAFQD5//3/BgAIABMAJwAnAA8A9f/Z/7n/nv+X/6b/y////ysARgBcAG0AaQBSAEEAPwBAAD4AQABKAEwANwAVAPL/z/+x/5//nf+y/83/0//R/9//7//q/9f/yf++/7D/oP+a/6T/rv+o/5L/cf9L/yn/Ef8I/w3/Fv8j/zn/T/9a/17/Yf9j/2b/a/96/5f/tf/L/+j/DAAbAAUA2f+n/3T/Qv8i/yv/Uv97/5j/rP++/8z/yf+4/6//tf+//9X/DABlAL4A/QAeASEBAwHOAJ0AfgBuAG0AfwCiANIA/wANAfcA0QCiAG0AQQAwAD8AbgC3ABABaAGiAbABnQF2AT8B/AC7AIsAcQBlAGUAdgCNAJQAggBZACAA3f+b/2z/W/9m/4H/mv+p/7b/xf/R/9b/0v/C/6j/jP94/3f/h/+V/5b/jv+D/3L/Yf9b/2b/f/+f/8D/2//u//z/CgAXAB4AIwAiABoAHwA2AEkATgBJAEoAVABXAEoAPAAzACcAEwD//+f/zP+z/6v/u//T/9//5/8BACQAKwAPAOn/wv+Z/3D/Vf9Z/3D/g/+N/5T/kf98/1r/Of8d/wX/8/75/h3/Tf92/5n/vv/j//b/+P/4//z//v/+/wUAHAA2AEYATgBRAEYALgAXAA8AGgAqADQARABeAHMAfgCHAJQAnACZAJUAlgCaAJwApgC4AMoAzgDDALYAqwCbAIUAcQBoAGgAYwBcAFwAWABHADUAKgAgAA4A+//w//L/8v/q/+T/4//d/8n/r/+d/5H/gf9y/2//dv96/3z/gv+M/4//jP+M/5H/lv+Y/5r/pv+4/8T/yf/R/93/5f/n/+v/9P/2/+7/6f/r/+//7f/q//H/AQANABQAHQAnAC4AMgA0ADcANAAqACIAJgAsAC8AMAAzADYALQAYAAMA+P/s/9z/z//J/8j/yf/M/9H/1//b/93/4f/n/+v/7//4/wYAEwAcACMALQA0ADEAKgAsADAAMQAwADIAOAA+AEQASgBPAE4ASgBGAEMAQQA9ADkAOgA/AD8APAA8ADwAOAAvACYAIAAWAAoABAADAAMAAAD7//b/8f/r/+X/4f/f/93/2P/Y/9v/2//Z/9f/1v/T/87/yf/K/8z/yv/H/8n/zP/P/8//0P/U/9j/2P/Z/93/4P/j/+b/6v/u//L/9f/7/wAAAQAAAAAAAwAEAAEAAAAAAAAA///+/wAAAwAGAAcACAAKAAsADAALAAoACAAGAAYABgAEAAIAAQAAAP///f/6//b/8v/v/+7/7P/s/+3/7P/r/+v/6v/o/+b/4//h/+b/7f/v//H/9P/4//r/+////wcAEgAVABQAFQAcACYALwA3ADsAPAA3ADAALgAwADUAPABDAEcASABFAEIAQgA+ADUALAAlAB0AEgAJAAQABAAEAAAA/f/7//r/8//p/+b/6P/n/+P/4//j/+L/4P/e/9z/2P/T/8//0v/Y/9z/3v/h/+T/5v/m/+j/7f/y//L/7//v//L/+/8GABUAIwAoACcAIgAhACIAIgAiACUAKwAsACcAHQAbACAAJgAjABkADwAGAAAAAAAGAAwADgAMAAsACQABAPX/7P/s/+7/7P/o/+f/5//p/+v/6//p/+f/5v/k/+L/3P/Y/9n/2//Z/9X/1f/c/+T/6f/o/+T/4v/j/+f/6//v//T/+f/8//7/AAAEAAsAEwAZABoAFwAUABYAHwApAC8AMwA3ADkANQAwAC4AMAA0ADUAMQAqACMAHgAbABwAHgAfACEAHgAWAAsABQACAP//+P/x/+z/6P/l/+L/4f/i/+L/4v/g/93/2P/V/9T/1f/V/9T/0//V/9n/3f/f/9z/2//h/+r/7v/v//T/+/8AAAAA/v8AAAUACQALABEAFQAVABQAFwAaABwAHgAgACIAIAAcABsAIAAhABwAFwAYABcADwADAP//AgAIAAYAAAD8//z/+//y/+n/5v/q/+7/7f/s/+r/5//i/9//4//p/+3/6//o/+n/7f/0//z/AAAAAPz/+////wAA/v/7/wAADwAcABwAFAAQABUAGwAdAB0AHwAgABwAGQAeACQAIgAZABgAIAAnACIAFwARAA4ABQD6//L/9P/9/wcACgAAAPH/5f/g/97/3v/g/+H/4v/n/+z/7f/s//T/AgAJAPz/4//S/8//2P/n//P/+P/5//f/6v/Z/9X/4f/t/+7/5//k/+j/7v/q/+T/7f8AAAsADwAXABYABAD7/woAHQAjACUALQA1ADsAQQBLAFIARQAiAAoAGAA1ADIADQD5/xoAYgCPAGwAFQDl//j/DgD5/+L///8vACwAAADq/93/o/9f/2f/rP/X/9j/3//O/4L/bv/b/x4Aof8M/2n/YQCPAMP/T//Q/2oAWQDI/2L/m/87AH4A3f8s/8H/7QDIAIP/Df///8AACgAs/9T/9wDoACsA+P91AOwAjACa/2f/ggB1AaUALP9g/+oAZwEHALb+j/+jATECwwBD/x//IgCIAPz+FP20/YoAqAGE/+j9kf/pAfkBKwC+/jb/pAAYARQAav6//Sn/uwBNAGv/VADMAUMBTv/A/sn/OwDu/xUAXQAAAHH/dP8DAGkAHgBA/3D+Yf43/0gARADA/v79z//iAdsB9QB4ADoAWwCnAOsAOAEgALH95P3XAVAErAF4/uMCwg1XEDYC0PJh9h8HuAqk+Efqc/XZCD8IXfgI8zH/sAlDA3n3aPiDAZ4ElwLQA08IIQnKAiD8if0SAnr+KPV188D7WAE9/Tz5b/5uBIoAJ/yqBYoSGQ3M+mH2+wQqDY4AAPP69gYBnAGO/Iz71f8AA9QAPf4q/uT8RvxD/rX+MwHsCB4LLAUSA1YG+gVDAMb82AFiBwgC7vsmAgAJvwT9/sf/EAHQ/Y/6/vs5/DL2B/Tc+9wAE/yK+HP84ADFAOr+8f7X/2f/K////5z/U//QAYoDIwKoAgkGjgWfAHr+YgBYAGv9QP03ANv/KPzS/HcBNgHU++D53vxr/o/8vvvT/VT/8/61/+YBxwJJAmwBCADG/4cB3QH6/sD8W/79AE4AmP25/S4AOwBC/j3+kf8m/6H9tf2G/7AA7//t/pb/egEnA8cDOwN0ArcCugMcBK8DoAOLBIEFSwUdBBYDfwKhARgAT/7r/En8Ufy1/Hn99/5MAQUEgQbbCM0LAA+0EFYQjQ9vD9gOrgxQCS0FbQAB/MX4Rfbm8wDyxvCn72PuRu187P/rzuvo67Hs6e6c8sf2afoy/Vf/LQFSArsB5P8u/y8AYgDO/kX+cwDbAvwCqgHdACIBjAGrAFD+OfyI+0b7JvtS/Mz9Cv19+z/9gAHsAj0ANf6o/1cByP9c/ez+ZQO5BB8CUQIwCEUNSAxCCfUJzwybDCQKYA8nJWVBMkrIOT4w2EZsYQ9SeSFSBNcKbg7P9czbGN1H6JXfWs1S0drmFejZy++2rcP72l7aM8gzxqbdzPX5+9X9zg14IJMfzhEuEXMeJyCLDygCOwWCDeYNowjYBP8CM//Q9gHuI+uK6oDip9Wn1Bjkz/HK7yLox+yz/PIFPwAN9yD3kf3a//D9jP8/BKcFHgR5B7wQLhUeDjkCSP6vA2cF0fx88pLx4/lBAcEBKf/a/3sFywrHCjoIrQd+CKQH0gXyBNsD+QOXB5QM5Q4CDe0JcwclCb0ZNjgETMlBPS0UNmVZH2NROtsJJALtEuYLkesE24nn6e+l3wbSD+Hb9Ufq48a0ukrS4OR+17fDEsyL6PT51Py3BCMWwyCbG8wTfRfrH9IasAV49CD36wJRAuHzNuvR8cL4sPP36tvp9+od5J3cauGv7lj2tvVg+FQFIBXTG8wWlg5vCnIHIQHy+Rv2gfR38gHzmvhl/lT/Bv1B/DP+RQBU/9r63PYP93D6uv1A/y0BKAWgCAkK3AodDcoPtQ58CsgIwwqgC18J6ga3BSoFPgVJBUEENgO5AjMApvwABakhmD5/QaYwIiyLQCJSU0PwHZ0ERQRjBkf2+99u2lzhJt/41SLczO5I8D/YyMS5zgzjROJM0PbJXdpQ7of0t/aLBSkbkyI9GcsTmByhItwSIvfC6qfy/vg97w7h2uBL7G7zkPFA7r3tKewl56DkO+x0+/YErwLFATkOEh5cHwwTXAmsBs8Clfsl9QrxaO/28Y/3Ev2mAhQJEg1jC5YH6QY6B/IBffe18CjzUfmi+pv5nf5lByELNAoPC2oNbQyVCIgHFgpaCnkFsgC3Aq4IjgncBIADZAhJC2EH9wBV/wgNhSrjPnI0cSAJKhxIbUghIQsBaQTkDo//jOF11a3iX/FF79zo0PDo/oH86eqs5GjyrPuN7uraB9wp86EFaQLJ+Mr+xw6cEigGtfk29yf1NOre3ETYpd2K4sngJuKI7mT8bv+I+3r9AwY0CxUJ9gS/BksQixnBGKUQCA6aEbcOagFK8xvtR+wq6prmdOVP6pr0Gf/4B8kQBhevFr4S8BGlEscM9P+g9WP00/fB94HzWfJY+Nf/mAKXAv0D0QRjAngAHQLgAxcCS/1R+ff5yf6kAg0CVAJOCYUR/RLWD4UOtw95Fc0lBDloPPYuiSd8NK9B0zOxErP+dQOLBxPyD9O4zNbfdO1L52Pg0Om9+Rn//fsy/vUGpwmy/6j0RPflAcMCpfe77zn0lfyw+9Tv7OP14eXk7t9Z08HNpdTJ25bca+BU7RT8UQRWCAcPzRf/GtMUnw47E3caNhSTA6z6nv7dAfL6FO/658zq5PIX9cjvz+8E/D8JKQ53EL0VLBowGmQXJBOPDbMHGQGw+c312vYd9jjx2fC7+HsAlgJuAl0DxARaBW8EYwFV/jv+7v4R/dL6EPzP/x8DMQXNBFUD7gVIC5sL5wXvBQEW+SvMM6MrZiZSMSo/ODhJHaMI5AfzCMP2h9kTzcDa/es66u/dVOBb9U4G7QR2/mICqAmlBRX5zvI+93D6cPLF52HpuvSx9/XrOOGE5PfsX+qH3BnTE9gF40HmQOKG5DDzgwPACqgL1Q4EGKwh1SG/F3cOOQx1CFL7rOzc53nqzeph55rmWO2j+QkDTgXMB3IQjBi9GAAVFBSLFFQRwArABGEBUgDJ/t36MvjE+eP7U/st+/39pgDsAMIAXAHUARAC3gESABP+NP9GAjsCfP9QAKUFrQnoCAgGUwaCCjcN8wn0BdwNQyK4MNEsRySVKmA5Ezk4JMsOkQl3C+X/buZc1sbdJOzs6i7fleAt9JsF/AV1/ggA3QrXDlAEd/el9br5Vfbm60nmwulN7eHoxeEJ4gzpneto5LndLOK465ftKejh57Dyzf9sBIMCLwVcEBEb/hsoFQoPOgxwB/r8FvHu6hzrjerC5VPkTe2y+gsCtwPECKsTbxzbHDcYuxXeFhwVDgz9Abr/tALZAGf5ufU0+TL9/Pxi+1H8wP/9Ai4DfwB5/4kCMAUOA+f+c/4GAjgErQG9/br+HgVJCSIHtgSXBxMMFQyDCUkMmhcFJS0rWSkOKZUvOTRBLQQfXBXCEosNYv6U7KLmhO0w8Z/oeeCu5wf4Wf9A+tn2Ef9TCvMIUvtr8lz2yvq/83TnVOI25f3nIeYH4tTgYuQU6NPnf+Zk6OrrBu3X7OTu7fPr+Rr9NP37/zcJIxMtFdYQLw72DokNowWv+qz0NvZv9zXxoers7t/6EgLVAXwCSwl+EtYWkBNQDmUOhBHYDmoGMgGJAZYBIf/r/Bj8FfyI/FX8Z/sp/MP+Tv+F/R/+iAEuA9oBegDcAM8CywQLBPEAfgBQBE4HnwbuBcAHwwkgCoYK4w3AFQMgsiYMJxsmKCgXKion/h9MGSMVARAuBjH7O/dJ+nn5I/D76C3tt/Wf9pvwvu6N9U/8Tvny7yjs5vCO9F/w3ulD6Drq+Ooj6SXmAuRt5Lbmuedz5p7lW+do6mXsBO3s7ZrwZvQt92D5+f3HBHUJ+wl9CWgK1ArSCJYFdwMSA9ACSQFD/1L/ewK0BSwGVAUrBkIJ5QuXC1AJFgg6Cb0KeQrXCKsHFAhuCRAK4wj+Bm0GvQbRBXgDyAEqAoUDjwN/AaP/XQB4At8CGgHU/0YA4ACmALYAfgJUBTUHdAeAB80IZwoCC7IL2Q7uFCMa0RmXFHUQThEiEzwQFgq8BqIHEggOBd8BXAJjBB8DMf+o/Wv/sv8g/HP4ePfc9jj06PCC773vYO8Z7hHtkuxp7MPsT+2g7Fvq+OiV6gftC+2K68XrzO498m/zAfOR8m7y4fJw9M32YPjy+FX6ePxD/dP87/3vALACCgJ/ASkDvQXWBsEGdAfWCMoIXQdHBwEJzAmJCKwHlwhgCcsIEgh1CGAJnAlGCTwJrQm6CcUIngcPB5IGfQUxBDsDUAI7AawACQHKAUICAwJoAX4BjwLZA6oE3QTwBHsF+wVrBQgEJQTJCI8QfhQzELwItwc/DrQSjg4MB9wE3AeUCUAIfQfYCEIJQQcwBs0HjwjhBEL/g/yA++j3QfJP74jwy/EC8Abt+OvS7GTtsuyo6h3oH+d06Cnqzekd6JXoXewk8Hvwou5m7rPw8fJt8zf0Kfda+pr7r/si/Nn8tv14/5kBoAK3ArcDSQaRCOAI6wfWB3MJ+gqkCvkI4gcaCFEIxwdWB4cHCAi5COsJSQvaCy8L9wkgCW4IZQdIBlkFnAQlBOoDVgM5AoQBAAJWA8MDIAISANb/MwEaAtYBpQFWAlcDXAMzAucAqAFjB+EPCBMfDXAFQwYxDo4RtwvoBF8FDwpeC0MJ3wjjCkILnAiFBk8H5QcHBfUAHP8J/qr69/Wp8yT04fMg8dPtdOwj7QLuQ+2E6vPnKuh26tjrhupW6BLpcO2p8dfxFO/T7anvEPJ88gnyg/Pg9tf59/q2+v76M/08AL8BewF9ASgDhQXABqYGjQZKB3AIPQmMCasJzwnHCVgJ+Aj+COQIhwibCGgJWgqGCqYJ0QjMCNsIXAi9B0YHaQYEBe4DkwNhA/QC+AKTAzwDJQEm/1L/DgEwAvgBmgErAsQCEQKdAC4AAAMACjcRzxFOC7sGAgvUETcQmwfkA+gIhQ0OCwoH5QjbDUkODArKB7QJZwp7BvoBbADU/u/5fvTA8nXznfIJ8GbupO5G79PuAO0s6ubn1OdC6czpVOjV5n/oAO0Q8BHvmuyB7MDua/Aj8LXvUfHA9EX4F/qv+VX5bPur/jQAxP/b//wBNARnBPQDaQUuCIMJHwlpCT0LmgzqC3wKSAqjCr8JGQijB+AIswrJC84LdQs1C/IKXQopCXYH2AW1BOADLQP3AmkD+gPjA7cCFwFTAPcARQLPAgYCIwFlAQgCfwHa/z3/NwNQDPYTAxOuC8AH4wsGERcP2whRBoAIcQpvChALmw0xD+AMJwkdCNoIjgd3A2f/ZPzg+PT0vvLr8hTznfHm7wfvhO6D7cDrZemo5pjkZuQM5sXnkOeW5vnnBexM7zHvP+197PPtKvBz8RPyW/Mn9oP5Qvs0+0n79/xx/5EAIwAmAOIBIwTxBN4EJAbSCFIKiAnRCLMJpQo4CkMJIQlOCeoIsAhrCYQK/QruCugKAgvCCqkJPgj2BtMFNAUMBd4EQAS7A2IEiQVPBSoDLwFaAa0CTAOkApUBeQGEAnsDSANSAooBrQOKC7sU7xaPEFIJhAnRDmsQYQy7CFoJqwuzDPAMWw5jEGIPEQvTB+cHpAh5Bo4Bqvzr+FH18fFt8GDwm+997Unrj+oV6xHra+k95u3i2OGt4/zlOOYC5f7ktOfF6xTule1M7LTsP+/b8d7yf/PF9RP5tfrb+Rf5TPti/y0Buf+z/ukAiAT7BWgFoAVHB6sI3QgxCZAKsgtJC64JmwjJCJUJ6gpdDNsMRgyPC30LlAuxCvEIGgiOCG4IUQddBvQF+wVLBoAGUQa0Bd8EVAQVBJgDCQPbAqECDQKwAa4B+AGHAj0DvgbgDioWoBV4DusJQg0gEqIQkQqoB+UJTQwUDCkLEgyLDfAL9wfIBb4Gogf/BMr/1Pq89tnybPDJ8E3xVe887MHqpuuo7Krr+Ojn5dLjYuNy5Armkeb35R7mWuiY65Lt5u397UXut+6J8Cr0aveP+BH5dPp8+yr7Mfvr/AD/yv9R/5P/OAKBBfIG2AbyBiIIBwrAC1sMAwydC00L+wpgCjUK2Av+DVIOBw1pDDQNSQ2xC+0JEgllCG0H6wZOBq4EdANVBF0GoQbQBH0DHwMzAt8A0AAEAg0CLwCs/hb/cQD0ABwCwgesEEIWvxTmDxYO8g/3EJAORAtaCu4KBwusCkELOA2ODcIKEAjQBwEIMwUAANn7efnD9rjyI/DT8OvxsvCf7QXrGerF6dLoteYH5FnineKW5LbmeOcr52DnQOkO7OPtOO497hLvEfGF8z31Sfaw94P57vqb+0X8gv2A/nP+mv5aALEC9QMeBDoEdgXEB1kJeQkVCkgMzQ2CDPgJ/gjfCfcKnwsrDCEMfQs+C04LcgorCMoFNAWFBnkH+QU0AxAC3gK4AwgEAgQDA4wB0gDcALkBkgM9BXsDOPzR87HxLfckAK8LkRl5JA4qHC1PLnUtBitfJY4cXxRTDAgBBPeS9Or1b/P57XDs/PCi9u33OvVq88H1m/n99xnwN+th7unxoe5H6SzpnOzb7U7rTee45YfnD+ja5LHiFuTH5BLj3eLe5crpcu3Y8NPzYfgsAMcGtgcJB8cIvgkuB6oDoQHr/4n+6P2M/BL8vv58AWoBJQKfBpoKxwrBCdgJxQoZDCwN1QxUDLYO+BEGEWwNwgzmDakLvQZIA1ICAgIwAbH/Zv0C/J/7Nvog+cX6Cf3n+1z5lvmD+/L9jAESBWwG3Ab8CP4KNA79GRQtyjtgP1g++0CNQ6A9KC4JHK0OpwRU9RLh29bG3PDjuODM3C7mtPeYAWsAAP6gAXAGPwN799rszOrP6x7ooOK84Zzk7+Wp4wzg2t0y3V7bLtd81NPYDONu6lnsQ/EL/nsKmAyGB6MFWgmhCz8GePy99i73+/Z98Rvt5/AO+Jz67vqH/ysHiQyFDjsP9hA7FMUV5RKRD5wQ5xGEDX0HIgc1CkIJ6wQCA/8EnAdQBxQFbgS6BnEJsAhGBa0DcASbAhj9sPkj+4L9ofyq+lz9EgSECL8JmAy2EXAUiRI3EIUQqA6WDTobcDQcRU1F7UCpRKlJzj+XJisNAf4x8+Hh4c3YyMbUYN0J3H3gYvJ4BRcMwQe8A4EFHAeD/7TvN+Qx5OrlPt9t2I3cuuNw4T/Z29aJ2yvdU9aRzwbV3OSN72fuAu9s/YwOJRBRBgoEUQtgDYID9PbD83/3u/Xt7SPsrPSY/av+NP38AV8LnRDnD9APQxPaFlMWbBEVDoAPfxA/DB4GUgTsBtEIKQbeAZYBxQTKBpAFNQSRBqMJFwgFBKwBO/9e+wf5tvhv+DX5yfzIAaEG9godDjcQKRNaF6sZvRe0E18PtAyUFcssLkEdRRxA/z+6Q549GynID1f7Fu1h3yjQRMg5zzLdHuVB6fn0IwedErYQ9QhYBOQC1v5j9Dzoo+K14pDg9tyC3yvm5OV+3GvV4tbL2LLUZNBR1Ujj0++f9MT3vACqC9gPQgxRB5EF6AJ0+5Pzy/AG8gHxRe6C8DT3WPzF/joCkAZGCasLLw4cD80OVg8kEJMOHAxTC0sKzQcWBqcFHwWTBIYEvARwBa8HtgoKDJ0LeQvICwILowg/BAT+E/mP9xP3yvat+Ur/zAM/BmUJuw7cE/YUMRIGEM8PVQ+jClIHLhaeNCdLoEyaQ+ZBGEQZOJcbtv4U7mzkgdVjxITD6NeS647uRu8w/40UsRizC1gBIQA5/bzxJ+QO3wHkg+cM4kPeG+XC6zDkONVH0OnTnNLjzMfOatwD7Vr3T/syAeUM6RT/EIcGBACe/TH4gvBg7dLwMfXM9Vz1//iXAFoEegC4/Mf/XAYQCakGvQXJCmwR5xG2DIcKPQ3jC9MD+f6mAbwE1QMNA6kFNgleDGcPrRDsD/sOUAxzBRb+iPqG+aL4svdA+IT8BgOnB/AJXAxmEAEUuROWEHUO0AweCi4G3wQJFb42808LUuFJ+EgBShg6JxqL+xroAtyvzZu9m70N18Xxo/ai9Y4F4BqXGxgKbP6o/q78pfFs5ZriYOqo7yvpWOMo6ULtVOG4zybLzNBK0ATK0sy/3e3xuv01AbEE9QzjEvgNXAKZ+tv4E/ZI7zfr2O+992v52/Wf9lr+NAREAgz+B/9RBKkHkQfQCMANFxJGEQUNnQvCDSMM6QQPAPUBnAUvBpEFXgffCskNUw81D5QOXw72C6QF3f5q+5z7g/xb+vz3vfwzBg0L+gmNCc4MYA+dDgkNSgx4C/kKqwmBCDYX5DlXVQpWX0hsQn9D5jXlFPXzpOAb1/XMWcBfweLaGfee/cL5zwLiE5EU+ALX9nn4uPjw7zDoGOsv9Y35T/JV6jPqPek23dHLQ8T6yEzM/snOzvbhqfqYCiEOTA7jEfATjgt7/BTzG/Kr8YHs0ejs7iz6bP0x94f0+ftnA6cAcfpk/JkERgmLCK0KCxJlFq8SAwvxBl8H3wURAMT7vP08AkEE3QWJCu4OcA5PDKIM9Ay9C4QJ7ARA/3/8mP1H/uj7qPv/ABgGNAb3A/ADSAg2DVsO/Q3UDb8MVwzZCu4JrRvSQWZccle5RYFCfEa4NFIOWe4H4AjZWM7vwS7FVuFG/QUAH/n+AJMPjgxw+ZDv8fQ993zw++xt9CgA7QEY98zsdurO59rZysXevfPFnc39zWHV2OqGAbsMPQ4wD80QcgxmABjzIe2H70Txou4M79D2Y/8PABb6n/V79uX4yPhk+LD74QLECUoNiRCsFbIXtBErCIEDDQM9AJn8Nv1cATcGXQnpCsUMLw6QDHMI5QWFBesEdgPcARwAPP0m+138a/5B/7T/mwAbA8wFaweNCOkI/QlkDIQOdQ95DwgNGQn/FFY5GVsQYMxPm0OOQdg0fRTt8Tbek9nH1o3M3cfN2tP4bQZcAk8AKQfRBnr4ju1m8J32+vSH8Przr/+bB4j+SOyz4iThwNjzxFy3jL1ey1vS59ey5+3+ww8VExAQpw4BCzMBUfTV6uzq1+9v8a3wvPO1/I4Ccv4z90n1EvdM90n4rPzTAswJEw+EEFsQIRH4D3UI6f7T+wn9VvzM/C4C9gi6DQoQ5A99DhsN3QqYB3MG6gcZCN0FeQSyBAYDjf8p/r3/+QGgAw8F5ATSA8EFhQnlC1sNaQ4rD2YPxQ/QDgkL6xN5NOtVnVyJTeFBVD/pM4IVrvIi35vcPt1i05TJqdel9awFgQEG/U0CRwJv83bm8euX+Pn4cvBR76n8wgpGBH3tN93b2m7X1sfjuuLAh8+x1kTcBe20A7QRbxHyCisI2Aa5AOX14uwn7nz4uQAvAT7/GgCAAOH76vSt8FLvd++r89T7LwM4CSgOBRBKD/wNbgsaBLb8ef3xAq8FtAbHCRUM9wvaCzwLXAg8BDsCogOtBl0JnwkaBpUBuQDUAUsCfQJAAbQBLAc3DZoMEgZuBNoKHRDlDvIL0QyqD7wPGAvrDswsa1NrXxxN6TqtO3o4aRna7gfYSNro4K7Zk8yo1GfyPwW6/3n3ov1SAezwQOCY6LH9GwME+E/ykP3MDDsIFO+C2trWaNU/yDS7+sH01Aregt8u7BsEpBPHDykEswFVBggEMPiH7eHuzvnVADH//fvi+wf7BfU/7+rwXPZF9yz2k/ykCV8TExTZDzQN7Qy1C8cGpAB//8kC5AQQBjEJGwwvC5AHfwa9CHUJXgftBd4HAAvbC4oJ7gIG+2b3Ofna/WP/8f2+//EFowtQDMcKNAsEDDMLsQoSDDsMAggUBm4Y+UFkY01glUYFOTM7hi2rA6Pa/M6h2lHk7t9m2z3q9QGFB9f8mvrtAib8HuMC2XLtCAadCOf93vxyCDMNU/xU4ezSmtKOzjnDysF+0YHhK+Oz4gDyMwkTElAHP/o5+s0BhgKY+Z3xhfLO+On9MgDuAAT/9ffm7ZTpye/A92v47vYP/bAJkBL3EjQPzgqGByQHIQhgB08FbQTGBX0JLg7PEKIOHgihAo8CWAU8B4sIiwgOBnoFJAn7Ce0C//ov+pb+ngM7B+IIuAkcCuYKfQ0jEPoObwlaBokK3g/HDN0GhRZ/QDNhNFowPaYwGDbMK6AD+9gRzEDbp+tX6sfiYuxaAMME+PfM8Cj38/aq557e2OxIBOIMHgdsA+AH9gnk+zji5s9OzLzMfMiIxxXTROJJ58jm/+7m/0kLRQiw/Yf3PfoeAFP/cviP9gL98gJMAXz71PWv7hboj+cl7fT09/rf/VcA8wXpDc0Rxg4DCrEInQqrDK4MVwo7B6QFpAZ/CMAI4AfhBYcCCAETBEIKdw+OEHQNnQmqCHYI5wTs/sf7a/7QA3kH4AdOB18HEAiKCm4MsAp6B30H7ww9EGAMTxClKoJOHFyfR8ouHi7tNDEiDPWSzx7PJelm+p7ymuSI6RL8wgAP8dHiB+Qp6ifqE+sF9i8FtQ1dDEYGzALMAc76UOiD0RPGhcvy1Szaz9kq2xXi0e2n98b5Pfex9vL5w/zD/Ej+AAEnAKX98P3FAQUF7gL3+vHvxeiN67317/3B/YP6Ev6RCNEP2Az4BLQB+wXZDK0PpQ1sCssI8AjsCLgHdQaFBpEHuge/B/QJDA2/DSwLXgeuBA4EYQSUA50BPgD5ADgDygTdBIsEJgUCB/MJNwwBC6QH6QbhCdgLoQuKEEwgQTRDPFsygyMRHQ8cahOQ/yXs3uZr8toCjQgLAOr0+fJ/99P3Mu8t42LedOXk8uz7XfoS82fv+/IP+Of2cu+458Xlo+pf8ZXzlu4R52jksejy79TzvPF67TftoPGg9H3ymO1i67rvg/gGAAwCWv92/Mn7m/vf+cv31PeA+vf+1wN9B4wIuwZ/A5EBygL3BQEIDAibCG8LLw/0EOYOywoUCHwI+gpzDGYLdgm5CHoJYQoSChYIbwXZA2kEsgaICKQImQcjBv0ERASwA1UDagPwA4MENgXJBZMFzwSgBMcHnQ92GOscnxpMFNkOeQzWC1YKHAdaBI4F/wpSED4RnAy4BJP9Nvl098j2lfU+9Jbze/Mn9F/13/S78KbqdOaP5snpW+wN7Lzpg+cH5xToaOkE6qLpFOm46Vjs2+/+8bjxKfAB8Mnyfve2+w/92PvT+k/7GvwG/Kz7T/yT/vIBpwSUBUYFqAQcBMADLQTPBdoHPQkeCggL5AtNDIYLlAnsB8UHMQnfCnoL+ArJCZsI7weTBx0HRga1BWsGAQjsCDEIeQb3BJEDyAFcACEA8wDoASECRALqAzEIZg6mE28VihP2DxMNngtqC0ML5Ql+CI0JgA2GEeAS8BAdDCUGkgGb/8L+ofwx+SD2//QB9nn3DfeL8wXvZ+z/69nsHO5E743vbe4p7dvsGO1Z7WPtNO0r7SDuR/BY8s/ymfHL8IHykfbm+vH8M/wZ+7H7Kf1y/T78LvvJ+zD+DQEeA/oD0QO9A2sEdgVxBhIHpgfcCPcKWQ1FDvQM+wo5CnsKdAogCi8Ktgo6C1ULAQvlCSoIgwYzBZ4E9QQABuoGrgaXBSkEpwJYAR0A/P5v/kr/NQG+AioDXAMGBt8LnRGrEycRygwDCs4JCwuaC80K6AmtCq0NIRHeEvwQ8Qp5Azj+v/w3/Yv8Pfqw90P2WPbh9uL13/H/62fnmuZ26f3si+627fLrfuuX7IHtJe3B67Xqg+th7szxc/NS8tLvke408BL03PfJ+SD6lvpq/Pv+fgAbAMv+i/6OAPQDkAYIBw0GRwWHBZ4G1gdxCH4IsAiPCTML9QyNDXUMswrICRMKggo6CrcJzwlwCvEK9QpQCtsI1wYSBVEElAT/BNMELARWA40CBQJ5AZMArf+w//QAMgJCArQB8gHXBN4KGhFZE2kQZQtFCF4IIwonC2UK3gg7CQUNCxK/FMkSMQwlBOP+Ff4U/zD+/vrK99/2Vvgz+pz5xPTB7Zrodee66YfsiO3k7E7sY+217wvx1e/l7IHqpOrg7RPyVfTu8ybyRPGS8kH1gvc1+Dn4Tfnv+9P+YQBFACD/VP40/3YBqQOfBMkEZwXLBmAIWQk0CTMIgAfNB6YI3Qk4Cx0MXQz3C0ULWwrwCJMH/QYUB24HDQixCIMIWwfHBVoEYAPWAsYCyAJKAokBEgHhAKIAkAAZAf4BfwJTAjsCLQN2Bu8MMRTgF/IVhBD/CzELEA0ODv8LfQiJB2ALWRHsFIsTDA2mBA7/yP0S/l38ivhg9TX1wfcx+l/5HPS47CLn+OSM5e/mP+eb5sXmW+lH7TPvhe2W6VvmQ+al6XfurfFb8vrxX/JB9IH2y/e49w73offW+Uf86f3r/u3/DwFSAosDGgSsAx4D8gMOBgsIWwklCugKAwwRDRMNjwufCbIIKQlGCi4LlQsOC/QJiwnmCdYJpQgUB/kFOwWnBCwEtgM9AyADqgMdBLgDXgKJADr/Pf+UAPgBIQJOAZ0A9wC/AvQGqQ3QEzQWkRRhEYUPpA8WEO4OKAy3CTkKZQ5pE/0VcxQVD98IzgTRAj4AlfuB9oTz6/PE9qL5G/q19hHxFey46J/m0uTq4s7hAuMU5//r7e7h7qDsjelf537n++jH6czpruqV7ajxPPUz9xf37fWO9an2Yfjb+TP7pPyW/o4B0gSyBoIGmwWGBScGxgZFB6oH+wfdCLkKsgysDVcNWgykC5IL4QuRC/cJIQikB8AI/wkwCpIJkgigB0EHOwe1BgMF9QI5Ag0DAASYA94BOwAnAL0BVgNaA7UBoP+X/qn/xgMmCoEPcxGmELcPhBDBElkU4BIaDqAIMwZsCMUM+w9dEPUNHQsBCtMJvQc2Aor6gfOU7x/vtvDk8dPw0+4Z7uDus++X7sfqW+Uz4Z7g8+LU5VbneOeY5y7pxOxQ8BDxy+4B7HPrd+2E8NnynfOz89T0s/c4+9399v74/kb/ygADA4oEvwSSBPwE8gX7BvEHzAhmCQQK9QoFDLMMqww7DNMLhwsfC14KeAkECU8J4AkECqQJRAk1CSsJ1QgLCP0GFAasBQwGjAYvBr0E6QLAAW8BpQELAl0CzwJMA7UDBgSzBPkGfwoyDXYNvwtwClgLXA5IEb8RmA+wDKsL6AxRDvsN7gpqBioDoQK5A4cDTQAY+6L22fQv9V71GvOG7kHqjeic6WXrbesm6VDmXuX95mLpJuq26K7mQuak6JbsYu/F777uQu6a71vy4PTc9W31CPUq9rP4Svv9/Kn93f2h/mYAqQKYBJ8F4AULBscGEAhBCQUKeAoMCxUMGg2PDU0NsAw2DMcLQQuRCrgJCQm/CA8JpwmsCdEIfAdlBvYF/gXeBeQEKQPAAXEB5wEpApMBagCh//z/eQEkA8MD6QKaASwBGAKKBNAHTgocC6QKgQrxC8cOpxEBE5ISJxE9ENEQ0hHQEQQQrwyTCVMItQh3CLEFtACA+1P4iPeU90/2i/K97WPqiOk+6nLqrOh15QDj3OJ15BTmjeb65VblyOXM51zq3Osk7GTsc+107+3xBfRb9Rn2zPY2+Ej6UfzY/aT+6/6o/3EBrQOYBdIGRQdQB28HxQd1CGUJQgpEC3YMbw3sDb0NCA0pDGIL8QrECqYKlAqbCo8KQArTCVEJqAgBCGMHmwZ8BSQE/wJXAicCJQL3AW8ByQB4AIsApQCkAJUAMACt/8D/vwD0AigGJgmwCnAKgAmhCZULYQ5PEJUQZA9GDvkOwhC6EX4QtwxMCO4FVQZ7B2cGCAIT/Jb3CfZP9h72PPMM7qPpPOiD6fbq7eks5kTiH+H94tXlcOcd50PmgeZw6IbrFO777v3ute/e8fD0hPdl+Pr3B/i1+Y78Mf+tADYBaAHeAS0D+gRzBn0HTAj/CH8JwwnmCSQKAgttDJYNuw0GDY0MowzRDMUMRQxeC5kKnQpAC8cLrAutClUJRQiKB/oGJgbnBLMDNQNJA0sDKwNzAgQByf9m/+X/PgCw/9/+nv5K/zAAawCv/7j+1f+nAxIIxwqSCtAIXwibClcO3RCEENoNnws+DJ0OQBBjD9cLMgjsBtsHtAgIB2kCp/yv+Kv39/c69/vzQe+76w7rwuwZ7obsY+h15F/jJuXW5x3pAOhf5p7mVekl7YXvde9u7oLutfBe9If3YfiG90P37fg+/Kb/lgH6AawB/wHtA44GHAhVCDgIqQjYCdoKuAoCCvUJAwuSDGUN5QwADNwLeQwgDRQNGwzGCrIJLglSCaMJdwnWCOYHqgaZBQgF1gTMBC4EeQKXAMD/DQC7AMEAtf+X/n/+Mv/o/yEAFABmAO8AEQEbAZoB6AKbBVUJfwypDdEMuQsRDMYNSw9GDyMOPA1kDREORA4KDlcNDgyGCqsIiwZcBB0Czf94/Rb7Ufh+9SDzP/Ex8H7vY+4e7dfreepD6Xjon+dW5iDlluRH5R3nROk/66rsfO0Y7qful++S8Ub0Ufb19tn2Ofcg+UL8T/9tAakCwANmBTIHXwgZCZkJmwlUCTAJfAl9CusLLA0HDngOsA4ADwMPOg4XDTEMsQuXC4ALvwpyCTAIdQeDB48H4AajBRwE9gJjAskB9QDo/63+Uv1V/Cj8Wvy+/DX9sP1P/pv+kv6E/pb+Cf+6/0kAZgB/AHMBigP0BjgLwA5CENQPxg5eDtkOSw/eDuwNIA0NDfMNQw9dEMcQ1w9xDXkK7QcFBkMEtAHU/V35uPXq87bzl/N68qzwzO5y7cHsx+uu6eXme+Qy41/j2OT85vHo1unO6SPqsesz7l3wA/Fl8O/v7/BI8+P17vdI+aj6vvxT/7wBvgOBBZcGtQZYBjwGCQdlCKAJwwrEC7QMwQ2gDtsOcg7xDZANUA0oDaIMsQuxChQKOAqcCpUKCgoUCeEHmwZ2BYMEqwPPAr4BpwDA/wj/iP4U/sn95f0S/vn9t/2T/Z39lP1I/QL9Q/04/p7/5ACjAe8BOgImA18FAQnlDE0Pew9pDroN7A2DDggPOQ8MD64OlQ5ZD+YQ5BHUEPoNuQr4B88FzAOUAdb+Zvvl9zX1yfMw83ny1vAO7v/qrehA5zHm9eSB4wjiFOFR4cLiveRC5v7mnufm6NbqouzO7YvuLe8R8KfxTvSz9+76df15/4QBsAOSBcgGcgcOCNYIvwnGCvwLWA2XDpoPdhBtEV8SoRLzEbYQzQ/aDyYQ1w/7DtgNtAznC4cLaQsSC9oJ2QfyBbsE5APcAqMBdABN/xH++/yD/Gf81/uq+nz5CPla+dL57/nk+TX6yvpu+yX88Pzb/aP+Pf/m/4oAYwHqApIFRgkKDZ8PKxBLD4QOgQ5YD88QERIfEtsQsA9LEHgSmROhEaYN/wn9ByQH4QVsA9v/uPv693H1O/Sp86/ym/Cq7dHqxuho5+/lBuQv4hvhQuGw4sPkmOa65x/oUuhH6fTqkuyU7QDuzu7I8Ofzm/fO+tf8//1K/3cBAwTnBbQGCwfXB0QJ7Qo5DBcN5A3IDuIPGBHvEe4RVBGxEA8QaA+yDu4NSQ27DIEMngxcDGUL0wncB60FnANpAjoCDQL3AEP/y/3+/Lf8e/wy/Nv7K/sJ+sn4U/hA+dD6tvtM+2f6dPrZ+9v9g/92AOwAXQEfAu4CtgOrBAQGkgiTDL4QTBN4EzMSCRHtEAUSxhMCFYQUmhIkEakRiBNGFFISbA6QCiUIoAaqBLsBBP4L+pv2cvRh8z/yHvDa7EnpreZi5bXkhONa4SffR94932ThpeM25czl0uUQ5v3mm+iH6urrfexh7Zvv9vKw9uT5IfyT/ar+EgDxAb8DIgUtBl0HHAkoC/oMWQ4zD3YPig8mEI4RGRNlEw0SWBCDD7kPUBBCEEUPAA7XDK0LhAqmCQAJowcDBf0BuP+c/iH+gP2t/AD8mPt1+2X78frt+bD4ufef91v4Efk7+Sb5ePln+uX77v3F/6wA3gASAdkBQQMKBYQGBgcIB94HyAp4D6ETURWZFDYT0hJiEyIUChUIFvgVIxT6EWIRfxKQE3kS8w69Cp0H4AV/BEACm/4A+ob1UvK+8Obvku477D7pg+aS5D/jGeK24PXeNd2J3Abe9OBe42bkg+Tc5DLmB+jB6Vbr6Oys7qrwBPMj9vH5Rv0W/+7/CQHtAhwFyQbNB5gIkwnLCjcMFQ4RECUR+BBuELQQ6xHrEqQSRRGMDyUOcg0YDdQMpwwLDJwKoAgSB3YG7wWsBNwC9AAE/1X9Z/wT/A/8Bfym+yT7pPpk+oD6ovqd+lz6N/qG+iT7tfvq+zz8Uv0E/8EABwK0AugCMQMxBJcFvAZfB50H6QegCHAKDw5rEg8V8hRlE4kSGhPVE9cTwRPrE6UTdRJcEdkRWhMyE9cP9woQB78E9AJxADn9zPkz9prymu/77YTtjOzq6WDmnOMe4urgW9+93Y/cJ9zU3LXeU+Gd48HkN+Uc5u3nMOr+6xbtEu6h7zDysvVj+Tj8Mf5cADsDHwY9CI4JVgrPCl8LcAwcDtIP/BChESMSDBNgFGoVeBVLFIoSQhG/EH0QsA9DDiUNogz3C+8KJgqzCZgI5QVsAvT/DP/j/lr+EP2n+9v6s/rK+t/6nfq7+ZL4s/d597X34vcS+Lz46vkz+yv81fzE/Vb//AALAqcCbQN9BFIF0QVQBh4HXAiTCWEKIAueDKoPbBOsFUEVBxM6ETIR/BFJEjASIxKsEUYQsg6HDuIPSRBjDeUH8wLYAHYAK/+h+4n2EPJr7xHuPO1R7O7qsuiO5Tnixt/m3s7eEt6s3MDbnNxW35fiB+Uy5snmtedc6anr8+3b76nx4vPh9mL6uP12ALoCuwSRBm0ITgr9C0MN3A0SDq0O7Q89EfsRLhJEEpESGBOHE3MTqBJdERkQTg/wDnIOdA1HDFgLmArQCcoIiwddBiIFwwNZAskAK/+z/ZT8xPv7+lf6GfpZ+pz6LvpH+Yr4Wfhv+B74l/eg93X4ePkh+sn6+/vd/fr/lgFZApACAgPGA4EEDAWDBcQG7AiKCpcKFAqlCxsQphQBFtYTEBGPEAQSRBNvEy0TtBKyEVAQbA/jD8kQrQ+WC2YG0AKLAfQAsP4F+pb0UfDM7Ujsvurx6AznEuUM4yPhft843jHd79ty2rzZydqn3XDhkeQR5rXm9ud36qftI/BP8Sby8PPy9nT6uv2XAEsDwQVlB20IqQltC3IN4Q5LD0gPvQ8KEZESjBPoExcUeBTEFGoUWBNEEsgRdhG8EJ4Pfg6LDWwMKAsTCkoJaQiZBg4EzgFWAHv/o/6i/YP8Q/sH+sv47/fH98/3ufew9+f3UfiG+D341ffn91/43vhU+dH5rvo7/Bb+df9SAI4BcANfBTwGdwWsBJ0FggefCNkIxwmYDI4QyxPmFO8TVxKFEfwRxhM1FrAXFRe8FPMRFBCwDxIQ4A/9DR0KsgXLAmUBk//m+/L2dPJj72vto+vV6VLo0ObZ5LXiVuHO4K3fdd0C3C7d9d/o4bni1+MB5p/olOqS62Ls9O0X8Aby6vN69sH5ifwT/kT/xQDAAvcEZAbRBjEHeQixChwNwA+KEhgU9BOrE00UERVYFecVFxe/F+0W1BTbEnkT/RXCFewR4Q26CsMHvwSXAUj/hP47/VL5nfR18q/ylvLX8WXyXvQi9cLygu+e70fzw/a/98/2TvUU9Pjz//WO+fD7tvv/+iz9gAJoB5kJTQr4CpUMgg8ZEusS/hO/Gq8qWj1BRGc4piTOG7EkqzJdNN8n3RpjF70XOhF5BB77IPku+DryfupV5/PnOeVg2yPRhtEn3fPnNuju4PfaFduE39LigOLx4oboXO9s8MXrLOfx5ZzmnuZF5kroJ+3i8BDwBu2S7Lrvn/Pr9VL3YPp+AGwH8gqOCoMKzw3nEj4XBRqOG7gcYh0fG08VaxAMEOMRuRJYEksQbwsnBQQAr/2S/4QEcAeJBfYBAQAQ/0/+xv6wAHICIQJX/138Jfzl/WH99Pg59Czzr/XW+Pv5UPix9Ur1sPdy+uj7PPyf+w/7mfz3/3ICwgMoBn4JAAupCRcI9wmHDyUUQhQxEzkVXBezFKMPpA6qFIAirje3SW5FsCbMBrUDlRywM9cwwRgZAx/+iwCL+mHt3eYP6rvsdely5HPgi9p60SrLks9U3pzr3+td4fLXvdb820jjTenw61fsje387lvt0Ogt5Y3k7uYP7Sj1cvl19gbvGupI7VT3HQEsBT8EowHX/7oAOwTeCCIOcBN0FjwWsBVrFYwSEA//D+8UkBgTF9MQPAmvBYEH4AgBBq0CVgM1BoEHzQYvBEkA3v33/gsDowfYCYUGW/5N+D/4GPu1/RX/gP1I+CnzVPG28e/yafSI9aL2L/kJ/D37E/i89+n6bv9ZBHMILApbC3AOjxAbDpYJzAhkDY0U2hrKG9IV2w68DAwODQ9MEDgW+SVwPAlG+jB6ClX4oA1sMnJAiiyTDID6yPgS+IrxqO4i9OX2j+6V4QfaTde70UnLdM8u4QTyFPEO4CjQcc6c2VDomPKQ9Nfwg+xK6ILkvuO55tTpkurm7C7zefjb9aPqbOEG53z6BgtFC2sBRvvD/JUAbANHCK8PnxRxE4APoQ9gErwQbAtACvwRSB2jILwWdQcKAFUDXglEDLEMOgySCdgEyQDf/g0AQgOGBU8HjgkrCYkD7vst+OL5iv/XBQIH5gAm+NfyFPNK91v8OP52/C76FfiT9mP3PPp9/Ob90QHOBucHPAXFAUEB4QU1DA4PRg6rDT8M6weuBvwNXhgaG6gURwydBfgBVQVDFyE5HFNXQ9AMxONj9dQsEE22OYgPofgk+6D/5vdt8IT3hwFw/LPrl96y2GLSCs1Q0rbjHfZZ+PbkTsxixUvVlOtZ+Gf5q/Tj7pHnq9823bLkFvCt81DwIO/J79LrjOM44N/pMv2vC2AJGfzq8r/zx/rnA1wNeBNlE5QPAAwcDKQPRhB0DHYNyhapHN8XxA/eCXwFlgVJDWQWHxcgDpcBnvmC/RAKXxDFCh0EpwI7AcL+qP8ZA4YE6gLcAKMAkwE0ALb5y/EV8Rb5/gGbBI7+hfM07RXxZvi6+hr6YPxtAfUE8gOM/078pv5WBiwPxhVZFnEOaQS1AgcLMBXGGWIXJhBrCX8I7AvKDQoMSAvzFV8yS07RRoAWNemu73Al6FNNT/ogUPX26Q/1Sf5mAOgCmgKO9y3maNm51JjSkM/70Sng0PGO8lrZpbnpseLJuOsE/pH5T+gF2d3SvtWs4GzuCfW98H/pAehQ6UrlNN6g343tfP5IBrwAlvRP7KjsevWTBBQTIxexDmwDagAKCPgSohjPF+MVwxeUGfkT7QrDCYUS3BtnHE4THgjrAm4DXwQfBV8IuAvBCBYBzP0TAKUAfv2m/PsB7AdcBZH60/OS+VsD/AMT/Ef2cfaY99j2L/aE9yH6svsn++z6QP0q/zP+Bv9nBasLLwroAhT/OgToDt4VfBOaDJ0Jugo1C9ALdRCYF1YZsBGRCKsHwA3HERMTPSD2PN5N7DYiBa7qxwjuQqdaczZL/SflWfW5CqkLhgAd+nr3ne4f4KzXttjn12bR0NJH42HwPuMow3iw3b6a4Jr4QPkF6l3Y4MzFzJPbe/FD/NnzYuQr31HmxO2d7U7rGPCi+kcBG//N973yiPO++ZAECxDxFCUPKQM6/BMC/RDbHRwhmxuVE5sOmA2VENcXgR4IHpkWMA9xDfsOmw2tCIwGNAtfEFUMfACu+Ov5JP5VAaAEWQYLAvb33O+E8q3+EwdYARj01e1j8OXxU+/b7jfzH/jm+Nb0XO8i7j7zUfseA9QHewVt/Zb4Of4pChgSHxIDDokLJA1wEKEQXQwMCYQLuROfG9cZ9Q0zAXz9DAaOFRooRTocQHYsTQQd6j3/0DXxVq49vgMF4uHu4QzpFGwFhvjH9xn05uQv2PDY1Nxz2lDaTuW87ijiIsRzsv/C+OZP+8P0reQ52rHU59IF3ZjyqgEz/MrpmN4r5I3wM/Wf8pD0A/1lAij+1/TT7/ryrvwVCBIPKQ4pBkr8afgjACUQvRwgHaETLAtpDEAU/BlYGjUY7BZiFrEUnRG6DloMdwqcCmsM0QvuBCP73/eX/ZEEhwYoA5L9Yvlz9/H3MPv6/vT+mflA9GP0pvdF+C71NvLN8gz3h/sE+6n0Ze9u8mX9Twh/CRoBdPrk/bEHyA3pDHgLVg/7FA0UtwvtA/QEOA4kF8MZDRU0DOQF6QMIBB4HyxBGJGE7j0L8KIr7cuWwA249NVgXOKr93N6W7VoLFxVJC5kBRftQ713gHdtl4Czja9+M4IbsLPMJ4cS/87E0yuLx2wR8+VHh8c91zBjWq+l6/fECVPXX4RnbpOTp8bn3P/fD95L6sPqT9f/vpfBF+DUCDQk8CvMGQAGu+wv7nwP8Enwd9BkbDosGUQlaEnQZixsVG9wZoBX2DUQJOQzfEsIVlxJ4DNMFHABg/B78ygGsCpQN7AXD+oX1NvdH+6v+aQC//8H7s/U78YfxV/ZK+nj5hfZE9Qr2y/Y09gP26/j4/V8CvAPhAB79qP1AA/gI9QoXDLIO/Q1SCKUEAgijDnMR7Q4TDF0NUA4uCTQD5ATyDLkSqhlULDk9NDC6BZnnzP4JPK1f9kCQ/ljbFu8pEw8dDw5b/wr40u6R4hndreE35R/hHN8l5zLtit57wcm1Sc3P8qIChvOZ2dPJ28m51Wfp3PxTAZfwkdhP0NrfnfYS/6L3YvCc8+v59fdd8HPvMvnyBRkNqwvPBGf+M/3fAoMOUBuZH7wX/wwRCiUPRxbJHFMgjh3WF9MUwhKmDqALjg07E6EX6BSKCY39SfvWARQIgQsrDYAIUP2t9Ub4Jf/uAWsAhP70/D35KfPo7sDwXfdS/AT82vc18gjvafES+OD+6wERAi4C4QEgAPz+5AHVB2gNTxPMGEIWqAgs/Er+2gyZHIsiyBqUDL8BMwBBBrINmBJXFqUkrT/WSHMjtOoB4DwaX2BgZ84oVefe3Hj9Bhf9E6kIrwS1/B/ot9Itzs/ZnOPP4t7gauVB5JXQdrfmtJzSZfcZArvu1dMYx1TMVty38Nz/vP4z7rHbiNUf4AryVvzS+uT2r/b39Y7wZOuE7wn8Lwh3DT0L8QS8/Dn49f5FD8Uc/RvCEFwIMAujFSAbFhdDEywXWRx0GQMRsAyTD9sT5RInDrELggsNCNQAv/0fAqIHHwncBff+a/mp+hr/DP+V/Hj+pQGR/X7zee7R8nr5h/w4/LX5d/Qt73zwvvlDAz4FJQEH/rz+LAEkAysFNAlpDUsOIg7EDzwPSApYBs4IahDNFWIU8A7eCV4IPwmkCGMISA3eGIsszUA1PegVDusB8HYqKGDpV7UbtOem4wIAoxPWDiAEWwAc+D7irM0oziPdd+Mn3Vjcn+WA5CbNB7NqtZjWyPUW+bfmk9PMytzLB9Zp56D2V/lu7tPeP9dz3mnsfPOV9Iv5aAFaAPbyu+g38AwE2BPdFzAU4gvOAOD7dwbQGu0lgB8xEikMPhEEGCEXvxFEEogbJSNmIIAVjQoVBxMMhRQ6GnUZKRHmAwP7Y/8tDJESqQuY//H5rfyBAA/+P/ix9xj9agBW+9HxxusT7I/xVvkf/yb+qvYR8JTwi/doACYGAQZtAoUB+ASvBrgDWgIIB6EO8xOQEhMKJACt/AICiAsLFLgW5xFUCSoD4AJ2BycQYRnkI5I3XkqePmANB+UO++w/jGlBSp8FiOFS8XAL0wmF+f34UAJQ+4jhrM2fzl3WZdfi2EHlWfFh5j/HrbMGwr3iRPZi9PPqnuO22yrUKtjP6aj58vnQ7jfm/eXc6GboJ+Zd6hv3NgLN/8/x8Oct7Sn8GggTDJ0MjwzwCAgD0gPZDQwXyBeVFdkYth6tHM0ROwtNExchTyOuGNkP5xCsEjUMAwQWBRUOfhF5CPH9gv8pCBMIs/4n+n8AWAchBGz7xvgM/vcBa/069UXz9Pbf9vjxm/GZ+ET94vjX8c3w+vTE+TP+EAJlBOkFIQfSBa0C1QKDCOYQbxbHFGENbgY1BdwIbQ4UFXsZFxfKDuQHMwYVB+UK/xSxKr1IJlblOLP9EN7zArBJ/2XKO6796Oep+RsGRviQ6b7wy/7x+mjmfNXWzhLJVMUk0VbsNP3E7ZbLGLk/xonhVfJ29Crxn+za5ALd0dwE5FTq5evx7Ejwx/GT7Mvhi9rR4IHy4wF4BMH8U/Tl8Sv3jAErCxMQOBEvEO0OXhBZE4UTpBF0E4IZTB9TIvsgahqBE9ESBxa3FscV+xXEE2UMrgQfAhoEegb0BSEDjgL2BPIDs/yT9jv5qAFHBrkCKfy6+Qb7yPkM9J3vT/Ex9kn49/YN9lb2jPQR8EHvCvdgAoQIdgb7AKgAtAgkEcgQBgrEBqoMfRixIOwcOw+HBL4F7g0zFP0VohR2EZgOewtIBYf/1wNsHFdGAGK4SaIFlda18b05NF5QPbIFnPLIA2QKmvEs2SDf2/Nf9y3oGNyg19TLCbrnuu7XbPV+9JLaucf0zWzfbudS5Ynl9uty8KbuDuyy6hXmpd+2377pwPZr+7HymuTe3/bo5/Vu/MT8Of12AL0D1QRUBXkH/ArODl0U4RteHxIaoBDOCykP8RVMGtQc9x/QIGMabg+ICDAIjAp4DHANnw2ZDJ4JuwNG/O328PaI/VEHSw1fClAB/PnT92z5wfv9+3v6g/nA+Xn4J/NM7KLpYO6F9tD6kvkA92v27PaF9zP6YQByB/YKOArBCeYMZxDoDycMPwpbD5QZsh+LGyERMQjOAisBYQYtEQ8YsBSEC88DxwBzAXwJdiRYTOZbAjYX+Fjm7hQCSWBENxJy8dn+pRQgBQDb8MXQ1OToEen431PesNrrxwK1j7uT2TbxDu6j2+bUb+NM9db2m+s85SXqhPJZ+ef+df9O95vqg+F04tHt3fhq9+jswefM7aD25Pkx+b34yfq0AEAJgBGhFr0WIxMyEQIVwxqEG/wW9RMbF5McWh6fG7IW/RBZDCwMzg/YEcYOuAfzAL3+1gEOBa4CSP2g+2n/MgSrBSADvP1s+XX6FACaBVoGPwF/+bnzXfLy8431dPUd9Hjz7fTC9674nPUQ8iD09fu8AhoEPQNNBLkG8wngDv8R7g7BB+sDjwiQEmQadxqGErkH4f/M/UYBcQh3DswOtAwQDE0J6wCj+7IPJUOvb+JiqyD27QUBCTrNTPIj5faC+dEYfRxF9jXQn8oY1B3SI8xe1xXqoOSdxuG1P8iM5NLn0tV50OLmdALTCAj8a+/b6xPr6ul773L8kgM8+3XqlN/m4D7o9OoQ5jrhSeW98YL9vwFT//v6Rvkx/DoDEg1zFr0achnXF/kY9xeaENcH7wVDDDIU9BclGasamxjADe/+UPjw/jcKtg2xBxcCcARsCdYGFP2y9qD5RQEaB1oJSAlNB/4BPPvK+Av7l/tP9s3v0vCG+Zv/qvus8nbvmfQ/+jD6ZveA+Nz/MAkQDZ4JOgTzAbUE8Qo4D3wO5wwJDxARpQ3+CPgJRg54DikKggYWA4H9Efq+/kkJxg7ECBn+l/kw/cQFRxtVRFJnW1wtJk3+UxBJPGBBDxQh6hzx0RF2FRHxu8xrxoTNGckuwmfOSOIE3kTGy8BG2e3wOex62NHVvuw0B1QOPgXd/Pr5ifUE7xrvU/W+9rnufuMj32Hl3u2v69TeU9eT3+Dv+vqO/Yv9WP9bA4QImw0gEokUcRSxFPoXaRyLG8oTqAyYDJMQDxGGDVMLRAt/CswIHwjyCMcJrAklCQkKWg3oD2EN4AaOAjcEygiVCk0IWAWgA54B2v6U/XX+b/0S90Xvtu1d9G37Ufov82vv2fOL+/f+C/3W+aT5Kv6tBaoLKAsWBewA4wTrDgwVNRGJCFgElQcvDAENewseCo4JlghgBdv/Dvv7+sz+wQF1Ai0EgwdbB/MBBP9RDbc0KWBwaHVCbxUAEuQyo0FFH8frhdt789MGYve62SPPO9SEz1XB+MAu0AjUSsMau9PRAPS5/3PxaeXG7tIB7AmVBMj+Af7P+2P2jPR29wT1K+fo1rbRKdot5fPmBOBN247gAuse8lX1JPnV/8sHxA5iFGkYjRkpF4EUUhauGhsaKxJJChILXRKhFfQPtQfiA2QD9wNKBvoIkQlfCOoGlQa3CUYPoQ8BCN4B2wRcC5AMVgi9Aw0CEgPNA5QCgwCZ/Sj4uvGE8KL2aPzn+RjyKPCu+BgD6AWdAbD9Sv/rBPEJJwupCWwI1whxDLwRmBKPDPsFYwaNC1EOzAx6CZAHvwfiByQF8v7i+bb5bv3FAi8GzQSmAFL/OQIiCXYdSkPcYkVcQDVzHGcsSESSNE7/u9Y43LX2C/nl39fOQdRp2NTMXcLExrTKfr57smnACuQ8/rT8fPC/81IGkBHxCQf8vPTs8YzuSu3I8d/1AvBN4p/Zqd2S5Xjiw9QdzqjZqurN8EHxnvlJCKwRMhQwFxgb/BqDFkIS5hIZFyYYNRNkDSAM8g3FDg8NHwhlAcv+eQO/CdgLjAs5DIIOyRH8EzgS/wvaBDcBewJhBvEHEgSB/gz9xf+xATP/YPq/91P3XvX78WHxJvQZ9n304/Gw89z5YP0H+4j4Mvv0/08ChQQVCYkM5QzNDc4PBg9iDMoLrwwhDJAJsQd8CQwOKBDiDJYI3gauBAAA3vzk/rkCqwNXAtkBNAQ0CHsO2SBDQ+ZfrloKPM0sbju7Q/IjqfCR2Z3nYfV856bPTsu31jHa5dB+yWnKZsfluRG058fE5x326+817yECWxegGIcJv/13+jf2xu5l7GTvcuy04krfuObp7dLpuNz80vrVj+HJ6O3nw+hg8zQDMA/oFhQdmB5mGrEWDBjhGQEV5guLCDkNERHzDjYL4gjgBqMFbAZTB/gFtAQhBoQI7AksCmEKCAvjCFAC5P33ACoEbQDD/AL/XwKHA6YDzQI4AWMAUv5w+Br0KPam+Bv2LPNK9Qj69fs1+gz5s/sL/1b/zP9UBL4IHAgGB7YKww46DhsMZAxfDRAMLQmaB9UIgQovCcAFJgQUBaAE5wDB/Uj/jgNGBXkDIgF8ARwGtQ2JG5E2RlWyXRVK6jjXQMlJjzBV/7vgKuN76tLdZMiHw6HQatsk2bbSgdGLz93Ev7vcxLXaV+bm49boi/95FrsaHRHWCSoIEANJ9s/o5uHu3u3ZVNVW2Ujkr+jj4FfZ9t586pvrsuOP4rft0vv0BcUO0xdEHpIhVyMBJOYiqx1IE/kI6QSzBXMFewIoAXsESgnxDC8RpxRuEQEJ3QZPDhAThg3YBrgIKQ/AEGQL8QRjAw4FLAPp/EP4jvft9mb1PPfX/CcANP2q+PX5Of+d//P5OfbR90f6NftD+1f6ovlY+5T/2ATcCTULhQdeBvoL3w+ZC54FUgXjBm4FKANLAosDcwb7B4YG7wQQBVsDXf+8/cP/kwIHA54An/2Z/twFIBFzJNtCh1szWkhHMEEGTVhKXCXJ9h7iGuXp4MrLJLzOwibSwNZE0jbR2dU91JzI6cLBzVbc8N0327jo4QJ6FMEVbhINFPsUcAwL/LTuIugA4AnU383+0xbeZeD03HvesujZ8SrwtOmb6nbzs/rB/ccDMA6GF9Mc8x+JI6clsyG0F7QO2wqDB+UBzf2U/igD2QhnDrgSDxU9FTUTVBC6DBAH2QDW/Ub/cwKcBIUFHwd+Cz8QKxDhCpcEAP83+Y/0mfKo8jP0vfby+Db7/v4OAiMBRP4g/GT5EvZw9JX0PPbj+sMBmQfkC9YPbBLzEq4SchHEDfsIFQY8BQcF2ATWBHcGuwlTC8MJqwe3BsIFFQSRArsB9wB/AK8AgQAfAjwIaxHEIbk91VbsV15FOztAQwhDTSWP+8fjUODm2+zMhcGIxYXPGtKLzw7Sfdpu3azT38h0zZfcPuOF4GrlW/VTAgMHpgycFW4Xqwtv+eHt2eta51HYqMjYxmHRw9qg3XPgMujk8Ib1efiB/bgBvACO/vICYAyZEwUXpRkDHkcjyiRaIIEa5hYREnoJHwIJAR8EiwZeBgMFJgZDCzUQFhAaDJcIVwZIBOwCKgPWAwsDIQJMBO8IowokBxoDcQFs/yr8CPp7+AH2fvOJ8iz0v/fl+g77/fnB+9/+vP9R/tL86vwV/7kCuAW2B7QJSgs2DbwQ4xMzEzYPhwtKCUcHxgQbAvoAgwIFBDYDsQKPBNMFUAQPAwkE4gXDBnQFUQPtAugEIwpjGeM1vk9QUt9CEj1lSLtJ7ywpAyvqKuQf3DXKIr3nv3TIP8rxySPTPeIj5W3XRMwl02jhduPr20XdJOsC+Jr+Twc+Ez0XNA4CAl79Hvyw8QXdD8zHyRDRBNZH16rcEuhv8ur3e/2MBSUKxAZUAa8CSwmxDZsN8w2gE4MbhR/0HqAeRyDRHXUUQgvRCRIN6QnI/jT5qgCfCUMIMQES/8kBjgG3/fH7Xv5MAXcANf5EAR0JngwVCQQGuQdaCd0ECP15+Yb59PUT74rt2fIc9vbz1PP3+Q0BlAMKAm4AUwK2BugHYAWqBdMJlgwYDSwPNxK3EZcOxQ3bD1MQRwxpBggD2AJ3AgMBCQF0Ap8DPQTFBf8I+QtqDIUJ5wbvCPMNAhayJqo83ke4QWY6/D9hRV81ABMV9fvmt92LzWm8JrdbvLPA+8K9ykHYc+EM39jXPdiT4NnkXeDR3b7lx/G6+bcAZAruEPkO8AfRAav8VfMe40XSkMqSzIbQK9Ib1t7g4u089/X9awX3C8sMOgndB7YKmA14DQANFhA4Fo8bbx36HNgc2xwkG0cYSBUAELUGhv3K+mz98f3a+Xn2z/jl/oQCBwJSAbICZgTHBBcFlwbCB5oGfAPQAWUE+AfpBvcBzP6b/rL8nfdu8wvyyfHI8UrzOPeY+yn+wv/gAlUHgwkxCJ4GFgfzB5QHXAhUDHYQVxEgEDoQmhH0EGINnggXBSwEqQM6Aev9v/1IAtYGHAn9CtMLcgpoCPIIaAu3DqEa5jF2RMBCYDewOWhGMkJeJFwD5vLu6bjXv8DCta25nb6kvcfAXs9n33HhDdgS1irhEOm14lDau96d6qrx6fXY/0cMkBAkC+oEDgOC/5jy0d8801/R1dKc0VLRRNit5HTvOPd3/xMIcwx7CxgK+guDD6AQVA7CDBYQqxbmGkMbTBsUHWcfox8GHNAVXA6hBbT+vfw7/Er4F/M081P57P5mAIIAkwKmBsgJ4wmHCPQHjQcIBnYEawTFBUoGlgPG/yn/TwBB/oX51fZg9jj1e/Ts9d/3w/m6/HgAYQQLCNkJZgloCXkKJgqxCOMIxgqCCz4LoAwxD/EQcRByDcsKzQrFCv8G0AE6APcBCAQyBVwF4QVrCIwLtwyDDLsNCRW3JXg4qz5mNfosYzEANmUpJA95+GXspuKZ1IzHasN+xaDFb8XQzB7a4OEQ3xzaUdx34yvmruL44Yzo6u9z9PT6pwQ7C3IKrgV2Ar4AOPuL7/PisdsC2iraNNra28rgO+h58Oj3av5uBHUItwkvCqELvwzMC/UKXw2mE+MbPSJ/JPsidh9wHGAZHhM/CXj+XfVq717t/e5s8lX2SvtAAAAE/wfBDNYPqA4rCk4GfAVlBvMFMwOQAEQBAwVZB5UF5QGg/rL7TPns9+f2FfWV85r1WfvsAQ4HIQrbCwgNkQ3WDBwLBwnlBUkCdQE5BBIH8welCPYKcw5XEOMNRwn7BgwGwQJB/oT9ugDxAtgDMAbJCCoKZAupDNwL2gkbDq4dPTCANgUuhyaaKxAypijoELT69O0/5EvXy8qvxWvGU8XnwrDHy9S73v/cI9dd2dziouiK5nfj6eVd7EvyP/hNAFsH3QjEBaUDHARlAQ/3iOkg4ePfNeBs3kXeg+NY61XxmfaA/gEIfQ68D+8P0xJFFbMTLxEfFIMbQR/THdwcwx3eHIsXdg/BCGoDCvxf89vuh/Ab83fzt/U8/D0D9gYPCC0JGQs3CyAIowVUBigHXAUTA/0CQgRdBREGfAWUAnL+1fp5+F33BPdq94L42Pm+/A8DyAloCyEJxwgpCzYMmAoRCf8I2wjjB8gHkQlHC30KSQhkCM8KoAvwCDMF8gMYBWMGAgdDCDQLTw2UDGoLaQuJCgkHVAU+Dz4kCDSIM0crciuFNFo1dCQEDHX5K+1S32XPGcYxxtnG1cPuxHzPHNxY357ZcNZv2kjehNwB2ire1uaY7Czxa/u/CFMPFgwGBoADKAJW+4juYeI13OPaYtpP25DgJejl7a7xGPeI/7wGzAeTBT8HoA3XE3EWvBbfFxEb7R4GIE8czhUSEPoL5gjQBfsAuftn+Kr2TvY/+Nr7/v7UALACewXpB54JQgtJDIUMDAwSCysKKgkzBxEFpwQ7BUsFhgTsArkAkf4Y/iP/V//I/lz/7gBoAokE4gf/Cm4MWwwcDOALNQu8CowKcAqPCq8KugoIC98LywwpDdsMEg2xDuQPcw8QDr4MYAzbCykKkAgwB7cE9gGyBC8TNieOMNQppSB7I/orYSdFEfX4kutx5N7aGNF4zljS6tPS0YrUp94C5yXkz9mM1C/Y5dxm3EDa1d1A56PwlvgWAokL6w4yCxcGWgOZ/0/2kOlh4H/e1uDV4sPkjurV8xn7mv3z/b7/mwJRBCIGoAmdDOYNphDdFhMdOR8ZHt8bcxfTD5UHtgE3/vr67fYq9OL1/PvaAg0HLAgKCZkL1A28DMQIQAWSA6wCbwLwA4cGnwecBqsFCgcKCUAH5AF1/sj/8wH3AIP+SP7AABADnANNBMoGCAk9COYFEgZxCCoJHAiKB/cH9geSBtkF8AedCwENowo7CEkJbgwTDmMNRAz6C2oMDQxdCTQGLwdTEUQklTWrOv80TzBYMgUyRSVuDib4g+hf3QDURc4Cz0/TsdXJ1oDbyeOZ6Ink+dvn12baWd484O3i6+nM8rP6fwN3DRETtg9FBub8cfWf7RDk1drh1UbXsdzm4W7mf+xY87H4K/x0/p7/0/5a/VH+4gF4BugKaA/CFNEYfBniF1EVrRDaCJb/l/cL82/yE/QK9tz4GP84B5QM2Q5cEKIQCg6PCW4FtAI7AYwABAHPAxUJ7w0RDyIOFw7QDWoLVQdBA1oAw/4z/tP+FwF6BFEHfQi2CHQIJwdYBYkDIAGY/s79j/8hA5IHqQt2DkQQihEaEggSMBI8EskPjwu9CLoGhQQpBrMSnSi4OUg70jK/Lj4yRzCOHi4ESfAi5iLdctEMyyPRg9xc4Njb99kb4MflQOHF1SvPrdJv2iLfZOLF6nz4oATJCiANvQ2RCjQBsPSu6tbkkODU26vZdd0n5QnsIfDn8pT1qfeM+Oj4ePlU+uT6//u5AGQJ2RGpFQ4VGRPcEF4NAQi9Adb7w/fK9s74mfwNAaMFcwnaCyUNFg4NDuwL3wi3BrsFOgXBBF0E4QT/BvcJ9gvhC5MK3QjPBpAFQgYRCG0JhAnoCH8JOAxXD8wP3gzOCFYFAwKf/hT8Evvp+yX+WAGkBbAKNw8aEvQTRBVBFNEPWAoCBokC6gDiBrsZfjMGRRRFkDsnN4g4sDGOGXn6MuXE3KbXn88Oy5PRI9745OviKuB541To1uWC25PSY9Ot3K/mnu2I9bEBbg7mFHoStwsBBiIBHfmi7cTjPd+p3ljf2eHE53Xv+/Ty9cfzjvJX85TzA/MD9Gn4iv4SAzgFYQa3CBsMJA1kCV8DWv/8/Yn98fwt/Zf/iAO9BnIH5QZYB1oI7QdSBa4Bvv78/TMAxgOVBs8IMwuFDXcOYA2YC7YK8QqxCsUIEgfgB7sKWw2ADnkO+wwsClwGRAKp/2//XQGTAwIF9wXYBrsIpwtaDg8Pvg2UC8UIVQXlATsByQdtGLoupT95Qxs9tTUUMboprRhqAAvs0eLS4Ene7Nqc3P3k+uzE7Jjk+tuz2H/YMNaG0WrQ+9ed5oz1cP/4BIIJ9w2PD9MLLgR0/PT27/L/7hjs5ew78Wv1c/YU9e7z4PP58qbuHOg15GXmNeyw8OfyiPX2+tQBhQajBuwD3gJMBOkEqQIAAGMAywTpCnYOoA2TCnAIRwdJBaACjQBD/63+Nf+dAHoCwgQCB4EIXAkjCrYKAguPC60MtA01DvIO3g/CDxoOVQswCMUFSwWDBp8HugdTB0wHQAj5CYgLoAsnCkIIEAaiAxoDCAd8EGIesiz4Nco3iTQhL4onbRyODiUBe/ar7gfon+E83hjgteR65xvmyeED3dnZrdhf2IfYudoD4aLqhPRc/FYBtgToB5kJSQfHALr5F/Zm9p/4kfqn+x79IgAKAwYCp/sy8jjp/OIA4AzgvOJm6MHwLPnz/rIB5gJ1AwMDYQHM/m/8Wvxs/ysENwibCqoLmAtsCisIsgSZAJr9svw2/V3+ZgCyA6wHowsxD20RxhG8ELUO4wtQCRUISAhdCboKywsIDNkLSAwpDWYNqQyoC90KGgo6CQMI3walBh8Hdgd5B8EILg1QFCoc2CI1J5Qo1iZEIg0bLBIiCR0Bo/pr9Xvxee7y66bqJ+qh6FPlHeF43QDbhdn+2N/Z19wQ4qPo/+5B9Cz4ovr8+4r8avzK+5b7Sf2zAOEDpwXBBhIIYQgZBU79P/Ox6uLlZeTy5Mvnlu2u9Cz6q/yg/HH75/qe+zb8n/vW+q/7xP48A1gHSwl8CecJogrfCZwGUwKX/1X/BAHTAyAH0QqcDksRehFMD0gMVgmZBtYEsQSNBcgGXggLCjsLNwvtCVoIUAcxB9kHkghJCaUKwAx7DlYOPQyICR8I/wkBD1MUERgPG2UeFSGbIKkb1RM/DIUGhAGP+1D1cfEL8TXyUPJM8BLtQOpx6KDmjeMQ4DHe/t5t4lbnUeza8Pb0Vvgn+jX6Tvmt+Kr58PxIAnUI+Qy1DTUKkAOc+5Pz1utl5WTiauR86kLx8vUy+Bz5wfnY+V74ovWA80j0oPik/g0ExQcICrwLwQykC8oHmAL1/Sf71foL/V8BAAfIDHoRNxR2FKsRSQxLBjcCjwFgA2EFtAYICPwJQwyPDZsMuQnyBtMFmQUEBS8E+AM+BdcHJwqcCqUJ1AmJDD0QERO/FC0W3xf4GIsXuxK6DCEIwQQOAaX8wfhv9i/1nvO18Ovsmel6513mvOWT5S3miueY6S7sv+7F8GryAPSB9RD36Pj6+nP9xgD6BBAJOQskCgEGHAD8+bz0ofC87QDtDO9+8m71SfcS+Bb4Jfhl+EX4BvjC+NL6X/2y/6kB/gJ8A3YDLgOHAnkBkQCmAAwChwSDBzsKTAz0DSEP0g6HDHUJUQfSBm4HEAgBCHEHLQdtB48HOwfgBhUH3wfvCM8J2wn9CKUHdAbqBaoFTwWABVoHbgvkEPMVYhkEG/YaSBn9FQYRDwugBccBdf8E/sP87voe+Kr08PAG7Qvpe+Uf40/iyuI55DTmPegm6kDsj+6L8AzyePNn9an4ef2wAtMGGwkGCUwGSwEd+//0BPBN7Wbte+8L8hn0afXr9c/1k/VZ9Vb1XvbX+CH8Xv/nAYwDtQTCBXAGFwaxBGcDPAP2AyEF0QYdCbwLSg46EJ0QKg/vDA4L3QmRCSUK1AojC1oLoguNC3EKbgimBgAGiQZ3B+AHrwdhBzAH9waZBhsGxAU4Bh0IjgvfDw0UKxekGLMYvxeAFXgRAwybBsYC0gC0//L9F/vX96/0FPFZ7P3mg+I+4IngkeLp5Obm/uil60buDPBP8SjzEvbB+XP9PgCAATEBtv88/cD5t/UG8q/vYu+s8GPytPN09B31+vWf9vb2hvfB+MX6H/1G/zoBNwM9BdQGRgeWBnQFegQfBJAEmAUDB94IRwvYDZ8PGRCRD34OGQ17C/gJEwklCQ4KAAsZC0wKNwlhCOIHnQebB+AHUwjVCCUJ+ghfCKoHKwcAByUHnAenCMIKIg5LEigWjhi3GFIWkRF9C5MF1gCg/cj7+frA+jL6bvhR9VTxMe2P6bvm/uS15ADmgehZ693tFfBn8hz1I/jm+q/8QP0A/V78Tvue+XD3U/UM9M7zzvMd887x8/BR8ZLy+/Mk9ST2h/eg+e37sP3L/r3/6wBJAn4DAQRtA2MCIwLKAkkDUAPRA6MFjQiNC4ENzg35DCUMxAtzC/cKmQqxCj8L7AsdDC8LQwlzB4cGHAagBTAFLwW1BaoGxgdhCAoIDAfaBbQE0gNwAxMEdwbqCsIQNxYnGZgYLxU4EKUKAgX8/1n8qvrj+tn7oPsk+fL0bvCT7Hbp5+Y45Rbl8uaG6rruTfL49Hz3Qfp5/Bb9Dfwl+k/4KveX9gf2cvVY9fH10/Y/98P2oPW09N/0Nfbe9xT5+fk0+8z8C/6C/mz+Tf7P/jQAtwFsAmgCWQK5ArADOAX9BpYI5AnpCoALigskC6wKbgpuCqAK5wrfCkwKcQmbCOQHjAfCB0cIvAgKCR0JwggLCF8HCwcZB2MHqAe3B3YH8QZnBkoGFgcSCe0Ltw5mEGoQrg5bC/MGTQJN/pv7Wvob+hn6nvli+Iv2NvRo8Wfu1+uL6hLrSe1L8OPyevRn9S32y/b19mj2M/XQ88XyS/JC8oPyIfMz9J31BPfK95338Pae9iP3RviD+cD6Jvyp/SP/QQCuAIcAKgDR/6P/u/8KAHgAPQHLAvwEHwfECMQJHQoYCu8JqwlcCSAJOAnECVsKkwpNCoEJbQiRBykHEAckB4gHOwjbCDAJIQl5CG4HhQb6BeIFPQbQBlIHkAefB+kHqAi7CfcKGQy9DGMMtArWBzkEfwBn/Uz7A/ox+VD49/ZC9Ynz+/G08MDvPO9I79bvy/D68R/zHPTf9Gf1svV89cP0C/TA8wX0zvTZ9fb2GPj6+Fj5P/kG+Rj5jPlG+iP77fu7/Lf9q/5e/7j/yv8AAJ4AfgFsAkoDCwS6BEUFkwW9Bf0FegYYB5wH7wcHCAQIOAikCBUJcAl3CQMJSgiiB0gHSwd/B7MH3gfnB6cHJgeYBjwGKQZRBowGogahBrgG7wZlBxcIvAgrCWkJbgkRCRUIawZMBPsBlf9I/Vn73vm7+Mf36Pb19eL05PMZ85DyXfJl8pDy+PLB88j0nvX/9Qr2B/YO9vP1mvUV9bX04/S59fX2MfhD+Tz6Evuz+w/8IPwX/FD8/vzj/aD+Fv9f/7n/RQDhAGAB2QF+AkUDBASEBJwEdgRZBHIEzgREBakF9AVEBqsG/wYlBxcH5wbjBh4HcAfHBwkIDgjRB2kH8QZ+BhsGwwV8BVYFUwVcBXEFrwUKBn4GAwdPB00HDweUBgQGggUkBdQEPwQ4A7IBu/+E/TH79PgU97f12/RL9Lfz8/Ib8nTxP/GI8S7yEfMW9C31PvYL94T3y/cC+FT4sPjv+Az5E/kb+TH5ePn9+Yn6HvvO+4H8Q/0V/tb+if9DAP4AngElAqACIgPLA4gEDwVKBWgFgwWwBQkGYwakBt0G/gYGB+wGqAZaBicGKgZSBo8G0AbdBrUGegYdBqkFQQXlBI0ETgRBBEsETwRYBH8EzQQsBWcFZwVbBW0FkwWpBXsF/ARTBJQDuwKnAVcA8f56/R787/q5+XH4IPfa9df0PPQY9Ez0n/Tr9Br1O/Vh9X31kPXB9Rj2mfZK9/v3lfgm+Yn5qfmV+Wj5SflR+Zf5G/rE+pn7gPxQ/RH+xv57/zoA2QBDAZoB/QFqAukCdgMJBKsEVAXbBRwGLQZLBn0GvAYIB0cHYwdcBzcH+AaeBkcGGgYZBioGPwZaBmIGPAbmBYEFNwUbBUAFnwUJBmsGsAasBl4G4wVdBdQEPgSjAwQDWgKbAbcArf+Q/nX9afxx+3f6dPmN+Mj3Ifeq9mT2U/Z89sT2Afcc9yX3J/cf9yz3YPe19yH4kvj0+EH5dvmK+Yn5jPmc+dT5PvrB+kr70ftY/OH8a/37/Y7+Mf/w/6oARQHHATYClALsAkcDpAMCBE8EgASlBMEE1QTkBOsE4wTCBJ8EjwSPBKkE1QT7BCYFYgWdBckF5AXvBecF0AW0BZwFkQWbBbgF3QX1Bd0FiQUVBZAEEgSwA1kDAgOuAlMC2AE5AYEAtP/d/hv+bP24/Pn7OPuL+gL6mvlI+QX5xviI+Fr4P/gw+Db4YPif+Nv4Dvk2+U75Z/mN+b359fk5+ob6yvr/+iz7U/t5+637+/tm/OX8c/0I/pv+JP+d/wsAcADEAA8BYgG/ASUCmAINA3UDzgMSBDcERAQ/BCcEBQTxA/MDBQQjBD4ETARMBD0EKAQbBBUEEAQYBC8ERQRYBGoEeAR+BIAEcQRNBCAE8wO8A3gDKgPQAmwC/AGBAf4AdwDw/3H/Av+f/kT+9f2x/XD9L/3u/LD8efxL/CH8/vvo++D71fvA+6P7eftB+wD7xfqa+of6jvqp+s76/fox+2f7kvuy+9T7CfxV/Lb8K/2t/S3+qf4b/3b/vv/+/zYAaACbANYAGgFnAbEB8QEkAkcCXgJwAoEClwK7AvACKQNYA4MDpgO/A9ID3gPrAwcEMgRgBIQElASHBF4EJATiA6cDeQNdA1EDTgNEAy8DCgPTAoUCKALKAXgBOgEMAeoAzgCxAIQARwD//67/WP8D/7X+cf42/vr9w/2Q/V/9Lf38/Mr8mvxr/EL8IPwG/Pb76/vq++/7/vsO/B38MPxK/G38mPzI/P38MP1a/YP9qP3Q/fv9LP5n/qn+6P4l/2L/nv/W/wYANQBmAJsAzgAFAUMBgwG/AfUBIwJFAlgCYAJnAnACfgKNAp4CsALEAtcC5ALtAvIC+AL5AvQC8ALqAuAC2wLYAtICxAKrAo4CbQJHAiAC+gHTAacBdQFBAQcBzACSAFoAJgD4/8//qf+E/17/M/8A/83+mP5o/kH+I/4P/gD+7/3b/cb9r/2U/XX9Vv08/S39J/0r/TT9Qf1O/Vj9ZP1t/Xb9iP2g/b394f0K/jn+av6b/sv+9/4i/0n/cf+b/8P/6/8SADoAYgCDAKIAvQDUAO8ACgElAUcBagGJAaIBtAHCAcoBzwHRAdcB4wHuAfcB/wEDAgAC9wHmAdABtwGgAY0BgAF5AXQBbwFmAVYBOwEdAfkA0QCtAIwAbwBaAEcANAAeAAMA5//F/6P/gv9j/0v/N/8m/x7/FP8F//T+4/7W/sn+v/64/rX+tv62/rb+tf6u/qf+pP6j/qn+s/7C/tP+6P7+/hL/H/8o/zD/OP9B/0//Zf+A/5z/tf/R/+v///8NABgAIQAqADQAQQBQAGMAegCPAJ8ApwCsAK8ArgCuAK4AtAC+AMkA1gDfAOEA5wDpAOgA5gDfAN4A4ADeANsA1QDOAMIAsgClAJkAjgCCAHkAbwBlAFoATAA6ACkAGAAGAPn/7P/i/9r/1P/N/8b/t/+j/47/e/9r/17/Vf9Q/1H/U/9U/1X/Vf9S/03/Sv9J/0n/UP9Z/2T/cv9+/4f/jv+U/5n/nf+l/63/t//D/9H/3v/n/+//9////wcAEwAdACsAOABBAEoAUQBUAFcAWQBaAF0AYgBoAHAAdQB6AHoAdwByAGkAYwBeAFwAXgBgAGAAXwBeAFsAVwBRAEoAQwA9ADgANAAwAC4AKwAkAB4AGAARAAoABAD8//f/8//w/+7/6//o/+P/4P/b/9j/1v/U/9T/1P/U/9T/0P/K/8j/w/+8/7n/tf+1/7f/t/+4/7r/uv+7/7z/uv+5/73/wP/F/8r/z//Y/93/3f/f/9//4v/l/+n/7//1//j//v8AAAEABAAFAAYABwALAA8AEwAXABoAHgAeAB0AHQAbABwAHAAbAB8AIwAjACMAIwAgAB4AGwAYABcAGQAbAB4AHgAdAB8AHwAeAB4AHgAcAB0AGwAbABwAGgAaABkAFAAQAAsABAACAAAAAAAAAAAA///9//v/+P/1//D/7f/s/+z/7v/t/+3/7//u/+v/6v/n/+T/4v/i/+H/3//g/9//3f/d/97/3//f/9//4v/m/+r/7f/t//D/8f/u//D/9P/1//j/+//9//////8AAP////8AAAAAAAABAAQACAALAA8AEgAUABUAFAATABYAGQAcAB8AIQAlACgAKgAoACUAJgAkACQAJAAjACUAJQAkACQAIwAjACQAIgAeAB0AHgAfAB4AHAAcABoAFwAUAA8ACgAGAAYAAgAAAP///v/8//n/9//z//L/8f/u/+3/7v/v/+//7//t/+r/5v/l/+P/3v/d/97/3//g/+H/4P/f/97/3v/e/9z/3P/c/97/4//m/+n/7P/t//H/8//z//X/9f/2//n/+v/8//7//v8AAAAA//8CAAMABQAHAAsADQAOAA4ADQANAA8AEQARABIAFQAYABoAGwAdABoAFwAVABIAEQATABMAEgATABYAFQATABMAEgARABAADQAKAAsADAAMAAoACQAKAAgABgAEAAEAAAAAAAAA///8//z//P/6//f/9P/0//T/8//z//T/8//z//P/8v/y//P/8v/x//H/8f/y//L/8v/z//P/9P/1//P/9P/0//P/9P/2//b/+f/6//v//P/8//z//P/8//7/AAAAAAIAAgAFAAYABgAFAAQABAAHAAgABwAGAAgACgAJAAkACgAKAAoACgALAAoACQALAAsACwAMAAsACwAOAA8ADwAOAA4ADgAMAAwADgAMAAsACwAJAAcACAAHAAUABgAGAAUABQAFAAIAAAAAAP//AAD//wAAAgAAAAAA/f/5//j/+P/3//n/+f/5//r/+P/3//j/+P/4//b/9f/1//T/9v/3//f/9v/3//j/+P/4//f/9//3//j/+P/4//j/+f/5//r/+//6//r/+f/6//z//P/9//3//v8AAAAAAAD///7//P/8/wAAAAAAAAIAAgADAAQABQAEAAUABQAGAAUABAAFAAQABAAFAAYABwAGAAYABwAHAAgACAAIAAYABwAJAAgABwAHAAYACQAMAAoABgAFAAUAAwADAAIAAQACAAEAAQABAAAAAQAAAAAAAAAAAP//AAAAAAAA//8AAAAA/v/+//3//P/7//r/+f/6//r/+f/6//v//f/9//3//f/9//z//P/7//z//f/8//z//P/7//v/+//7//3//f/7//z//f///wAAAAAAAAEAAQAAAAEAAAAAAAAAAAAAAAAAAQADAAQABAAEAAIAAgADAAEAAgADAAIAAgACAAMAAwAEAAMAAwADAAMABAABAAIABQAGAAYABgAFAAQABAADAAEA///+//3/AAAAAP7//f/+/wEAAwAAAP3//v/9//3//f/8/////v/9//7////+//3/+v/6//z/+//7//7//v/+//7//v8BAAMAAgABAAAAAQABAP7//v/9//7////+//7//f/9//3//v8AAAAAAAAAAAAA//////////8BAAQABAAEAAQAAgACAAEA///9//7//v///wAAAQAEAAUABAAEAAIAAAD//////////wAAAAAAAAAA/v/+//7////+//7///8AAAIAAgAAAP////8BAAMAAwAEAAQABAAEAAIAAAD9//3//v/+//3//v/+/wAAAAD+//3//v/8//3//f/9//7//////////f/9//z//f/+//3//f/8//3//f/+//3///8AAP//AAAAAAAAAQABAAAAAAAAAAAAAAAAAP///////wAAAAD///7//v///wAA//8AAAAAAAABAAEAAgABAAAAAQABAAEAAAABAAAAAAACAAEAAQACAAEAAQACAAAAAAAAAP//AAAAAAAAAAAAAAAAAQABAAIAAwADAAIAAQAAAAAA/v///wAAAAAAAAEAAQAAAAAA/////wAAAAD+/////v/9//7//v/+//7///8AAAAAAAABAAEAAAAAAP7//v/+//7///8AAAEAAgACAAEAAQABAAEAAQACAAIAAQABAAIAAQAAAAAAAAAAAAAAAAAAAAAAAAAAAAAA//////////8AAAAAAQAAAP//AAD//wAAAAD///7/AAAAAAAAAAAAAAEAAgACAAIAAgABAAAAAQABAAAAAAAAAAAAAAAAAAEAAQAAAAAAAAAAAAEAAgACAAQAAwADAAMAAQAAAAAAAAAAAAAAAAABAAIAAQAAAAAAAAAAAAAA////////AAAAAP///v//////AAABAAIAAQABAAIAAgAAAAAA///+/wAAAAD//wAAAAD//wAAAAAAAAAAAAABAAAAAAACAAMAAQAAAAAAAAAAAAAAAAAAAP////8AAP///v///wAAAgAEAAMAAwADAAIAAgABAAEAAQABAAAAAAAAAAAA/v/+//3//f///wAAAAAAAAAA///+//3//v/9//3//P/8//7/AAD///7//f/9//7//f/7//3//f/+////AAAAAP////8AAAAAAAD//wAAAAAAAP//AAABAAAAAAAAAAAAAAAAAAAAAAAAAAEABAAEAAEAAAAAAAAAAAABAAAAAAAAAAAAAAAAAAAAAAAAAAAAAQABAAAAAAD//////v/+/////////////v/+//7/////////AAAAAAAAAAAAAAAAAAAAAAAAAAAAAP//AAAAAAIAAgABAAEAAgABAAEAAgABAAAAAAABAAEAAQABAAAAAAAAAAAAAAABAAAAAAAAAAAAAAAAAAAAAAAAAP////8AAAAA///+//7//v////7///8AAAEAAQAAAAAAAAAAAAAAAAAAAAAAAAAAAAAAAAAAAAAAAAAAAAAAAAABAAEAAgADAAEAAQABAAAAAAAAAAAAAQAAAAAAAAD//wAAAAAAAAAAAAAAAP//////////AAAAAAAAAAAAAAAAAAD//wAAAAAAAP///////wAAAAABAAIAAQD//wAAAAAAAAAAAAAAAAAAAAAAAP//AAAAAAAAAAAAAP////8AAAAAAAAAAAAAAQABAAEAAQABAAAAAAAAAAEAAQACAAIAAgACAAEAAAAAAAEAAQAAAAAAAAAAAAAAAAAAAAAAAAAAAAAAAAAAAAEAAQABAAIAAgABAAEAAgABAAEAAQABAAAA/////////v/+/////////wAAAAAAAAEAAwABAAAAAAAAAAAAAAAAAAAAAAAAAP7//f/+/wAAAAAAAAAAAwADAAAAAAAAAAAAAAAAAAAAAAAAAAAAAQACAAEAAAD//wAAAQACAAIAAQD+//3/AAACAAIAAQAAAAEAAgACAAEAAAD+//z//P/9//7////+//7/AAACAAIAAQAAAP7//v/+////AAAAAP///f/9////AQAAAP3//P/+////AAAAAP///v////7//v/+//7//f///wAAAAAAAP////8AAAIAAgABAAAA//8AAAEAAAAAAAAAAQABAAAAAAABAAAA/f/8//z//P/9//z//P/9/wAAAAAAAP//////////AAAAAP///f/9//7/AAACAAAA/v/+//7//v/+//7///8AAAAAAAAAAAAAAQAAAAAAAAAAAAAAAAAAAAAAAAAAAAAAAAAAAAAAAAABAAEAAQABAAAA//8AAAAAAQABAAEAAAAAAAAAAQACAAIAAwACAAEAAQABAAIAAgACAAAAAAAAAAEAAQABAAEAAAAAAAEAAAAAAAAA///+//7//v/+//7//v///wAAAAAAAP/////+/wAAAAAAAAIAAAD/////AAAAAAIAAQAAAAAAAAAAAAAA///9//7//v/+////AAAAAAEAAgACAAIAAQAAAAAAAQABAAEAAAAAAAEAAQAAAAIAAgACAAIAAQAAAAAAAAAAAAAAAAAAAAAAAAAAAAAAAgADAAIAAAAAAAAAAAAAAAEAAQABAAAAAAABAAEAAQAAAAAAAAABAAAAAAAAAAAAAQACAAAA//8AAAEAAwACAAEAAQACAAEAAAAAAAAA///+//7///////7///8AAAEAAAD+//3//v/9//z//f///////v/9//3//v8AAAAAAAAAAAAAAAAAAAAAAAAAAP///////wAAAAABAAAAAAAAAAAA///+////AAAAAAEAAQAAAAAAAAAAAAAAAgACAAAAAAABAAEAAQABAAEAAQACAAIAAgACAAIAAgABAAEAAQABAAEAAQACAAMAAQAAAAAAAAAAAAIAAQAAAAAAAAAAAAAAAAAAAAAAAAAAAP///v////////8AAAAAAAAAAAAAAAAAAAAAAAAAAAAAAAAAAAAAAAAAAAAAAAAAAP///v/+//7//v////7//v/+//7///8AAAAAAAD///////8AAAAAAAAAAAAAAAABAAMAAwAAAP//AAAAAAAAAAAAAAAAAgABAAAAAAD+//7///8AAAAAAAAAAAAAAAAAAAAAAAAAAAAAAAAAAAAAAAAAAAAAAAAAAAAAAAAAAAAAAAABAAIAAAD//wAAAgACAAIAAwABAAEAAgACAAIAAQAAAAAAAQACAAAA/v/+/wAA///+//7//f/9//3//f/+/////v/+//3//f/9//3//P/+/////v/+//3//f/+//////8AAAAAAAD/////AAAAAP///v8AAAAAAAAAAAAAAAAAAP////8AAP//AAAAAAAAAAAAAAAAAAAAAAAAAAAAAAAAAAAAAAEAAQABAAEAAQABAAAAAQACAAEAAAAAAAEAAgAAAAAAAQADAAMAAQAAAP////8AAAAAAAAAAAAAAAD//wAAAAD////////+////AAAAAAAAAAAAAP///v/////////+//7/AAAAAP7//v///wAAAQABAAAAAAAAAAAAAAAAAAAAAAAAAAAAAAAAAAAAAAAAAAAAAAAAAAAAAAABAAIAAgABAAEAAgACAAIAAgACAAIAAgABAAAA/////wAAAAAAAAAA/////wAAAAAAAAAAAAAAAAAAAAABAAEAAgABAAAAAQABAAEAAAABAAIAAQABAAIAAgAAAAAAAAAAAAAAAAAAAAAAAAAAAAAAAAAAAAAAAQABAAAAAAAAAAAAAAAAAAAAAAAAAAAAAAAAAAAAAAAAAAAAAAD/////AAD/////AAAAAP////8AAAAAAAD+////AAAAAAAAAAD///7//v/+//7//v//////AAAAAAAAAQACAAAAAAACAAEAAAAAAAIAAwAEAAMAAgACAAIAAgACAAEAAQABAAEAAQACAAAAAQABAAAAAAD/////////////////////AAAAAP///v////////8AAAAAAAD///7/AAAAAAAAAAAAAAEAAAAAAAAAAAAAAAAAAAAAAAAAAAD///3//v//////AAAAAAAAAQAAAAAAAAAAAAAAAAAAAAAAAQABAAAAAgAEAAMAAgABAAAAAAABAAIAAgABAAAAAAD//wAAAAD//////v/9//3//f/9//3//v/+//3//v8AAAAAAAAAAP/////9//3//f/9////AAAAAP7//v//////AQABAAEAAQABAAEAAQABAAAAAAAAAP///v/+//3//f/+//7//f/+/////////////////////////////////wAAAAACAAMAAgACAAIAAgADAAIAAAAAAP////////7//////wAA/////////v/9//3//f/+//7//v//////AAAAAAAAAAAAAAAAAAABAAEAAQAAAAAAAQADAAUAAgAAAAAAAAABAAEAAQABAP//AAAAAAAAAQACAAAAAAAAAP//AAAAAP///v/+//////8AAAAAAAAAAAAAAAAAAP7/AAAAAAAAAAAAAAAA/////wAAAAAAAAAA///+/////////wAAAAAAAAAAAAAAAAAAAAAAAAAAAAAAAAAAAAAAAAAAAAAAAAAAAAAAAAAAAAAAAAAAAAAAAAAAAAAAAAAAAAAAAAAAAAAAAAAAAAAAAAAAAAABAAIAAQABAAAAAAABAAAAAAAAAAAAAAAAAAAAAAAAAAAAAAAAAAEAAAAAAAAAAAABAAEAAAAAAAAAAAAAAAAAAAAAAAAAAAAAAAAA//8AAAAAAAABAAMAAgABAAIAAgACAAIAAQAAAAAA//8AAAAA//8AAAAAAAAAAAAAAQABAAAAAAAAAAAAAAAAAAAAAAAAAAIAAQABAAAAAAAAAAAAAAAAAP///v///wAA//////////8AAAAAAAD/////////////AAAAAAAAAQABAAAAAAAAAAAAAAAAAAAAAAD//wAAAQAAAAAAAAD+//7////+/////v/+//7///8AAAEAAAAAAAEAAAAAAAAAAAAAAP//////////AAABAAAAAAAAAAAAAAAAAAEAAAAAAAAAAAAAAAEAAAAAAAEAAQAAAAAA//8AAAAAAAAAAAAA//8AAAEAAQABAAAA//////////8AAAAA/v///wAAAAAAAAAAAAAAAAAAAQAAAAAAAAAAAAAAAQAAAAAAAQAAAAEAAQABAAEAAAAAAAAAAAABAAEAAQABAAAAAAAAAAAA////////////////AAAAAAAAAAABAAEAAAAAAP//AAABAAAAAQAAAAAAAAAAAAIAAgAAAP///////wAAAAAAAP//AAAAAAAAAAD///////8AAAAA/////wAAAAAAAAAAAAAAAAAAAAAAAAAAAAAAAAAAAQACAAEAAgADAAMAAgACAAEAAAAAAAAA/////////////wAAAAAAAAAAAAAAAAAAAAAAAAAAAAAAAAAAAAAAAAAAAAAAAAAA///+////AAAAAAAAAAAAAAAAAAAAAAAAAAAAAAAAAAAAAP////8AAAAAAAAAAP///v///////v//////AAAAAAAAAAAAAAAAAQADAAMAAwADAAIAAAD///7//v///wAA//////////8AAAEAAQAAAAEAAQABAAEAAAAAAAAAAQABAAEAAAAAAAAAAAAAAAAAAAD///7///8AAP//AAD//wAA/////wAAAAAAAAAAAAD//wAAAAABAAAAAAAAAAAAAAD//wAAAAAAAAAAAAAAAAAAAAAAAAAAAAD//////v///wAAAAD///7///8AAAAA//8AAAAAAAAAAAAAAAAAAAAAAAD//////v///wAAAAD//wAAAAD//wAAAQAAAAAAAAD+////AAAAAAAAAAAAAAAAAAAAAAAA/////wAAAAABAAAAAAAAAAEAAQABAAAAAAAAAAAAAAAAAAAAAAAAAAAAAQABAAEAAQABAAEAAAABAAIAAQABAAAAAAAAAAAAAAAAAAAAAAD//wAAAAD//wAAAAAAAAAAAAAAAAAAAQAAAAAAAQABAAEAAQACAAIAAgABAAAAAAAAAP///v/+////AAAAAAAAAAACAAEAAAD//wAAAAABAAAAAAAAAAAAAAAAAAEAAQAAAAAAAAAAAAAAAAAAAAEAAgABAAEAAQAAAP////8AAAAAAAAAAAAAAAD///////8AAAAAAAAAAAAAAAD/////AAAAAAEAAgABAAAA//////////8AAAEAAQAAAAAA////////AAABAAIAAQAAAAEAAAAAAAAAAAACAAQAAgAAAP////8AAAAAAAACAAEAAAAAAP7//v///wAAAAABAAAAAAAAAP////8AAAIAAQACAAQAAgD/////AAADAAMAAwADAAIAAAD/////AAABAAAAAQAAAAAA//////7/AAABAAAAAQAAAP///v///wAAAQABAAEAAQD+//3//f////////8AAAEAAAD+//7//v/+////AAAAAAAAAAAAAP7///8BAAAAAAAAAAAAAAD9//z///8BAAEAAQABAAEAAAD//wAAAQADAAQABAABAAAAAAAAAAAAAAABAAEAAQAAAP///v/+/wAAAAD////////+//v//P///wAAAAAAAAEAAQD///z//v/+//z/+v/8//3/+//7//v//P///wAAAgADAAEAAgACAAAAAAACAAIAAAAAAAAA/v/7//3/AQADAAQABwAEAAAA/f/8//7///8CAAYABAAAAP3/+v/3//b/+f/8//v/+P/3//f/9P/1//v//v///wEABAAFAAcADQAUABgAGwAeACIAIQAhACQAJQAlACUAJgAkACAAHQAbABcAEQAPAA8ACgAEAAEA///8//j/9//0//H/7//t/+r/5//m/+b/5f/l/+j/6f/n/+b/5//l/+L/4//p/+z/6//r/+3/8v/z/+//7//3////BAAGAA0AGwAkACIAHwAlACsAKgAiACEALAA0AC8AKQAxAD0ANwApACsANwA5ADYANwA/AEoARAAlAAoA/v/g/6b/c/9Y/0X/LP8W/xL/Lf9T/2f/eP+m/9z/8f/y//v/AAD1/9n/sf+S/4z/h/91/4b/w//0/xQASgCMALoA1wDaAMMArQCRAFUAEADu/+P/zv+t/5z/rv/J/8f/r/+t/8f/1//E/7T/zf/w/+v/vf+N/27/SP/+/p3+ev6v/t/+3/4h/9T/UwBUAF8AmwCSADcA9v/o//f/GgA7AIEAHQG/AfkBFgJmAooCWwIyAj0CWgKDAqYCjwJmAksC5AHxANn/Bv+N/m/+d/63/uv/KQIgBPsEkAVQBikGXASXAfn+2/y5+kj4rvY69wT5Kvrf+qT8If9/AFUA+f9dAMgAIgAI/xL/NQCyAO7/G//9/tD+nf25+4L6jvro+ur6j/u0/WwAPwL1AnMDMQRoBFkDswGmAEIA8f99/0//IADIAWwCKAEKAGQARACE/vf8qvyg/Hj8aPxn/AL9Ev7X/WD8K/x//VX+fv4K/9j/vwDnAYkCUQLxAUQBJQCg/7T/gP/7/8wBBAMlA5AElQfPCWIKRApGChELPgxRDHQL8wo6CpgIUAeCBsoEcgO0BJ0GZQZvBkEKEQ/YDrMJGwa/BtcFb/479QDy4vOq89Tvt+7280v6Ufv/+Nr5C/7a/nX5tPNC83f1YfR08HrvxvL09N7yifAf8i31QfVz85r0oPka/nf/3gDzBLQIkghSBoEFXgX2Asf+Dvwc/E39+/2g/uMA0wQbCIQJXQuLD6YSmhAKDDwJdwb5ABL7nvfq9cr0ZvS59VP69gAMBVsFXQXBBdcDTgCm/Q37zPfK9f71C/iY+6f+sf/bAM0DYAaQBjoFNgPrAMT/sf+y/6YAWAMKBvoGqAcbChMNGg7qDFsLawupDVcQQRFTEQYTfxWTFYIToxIoEy4Szw5jC9IKOQz8CU4BTfiv9G7y0ew76GfqUvC281v0wPcZAR8KEQnu/gz3M/Yk9TDvFOlQ50foxeg76LboF+wm8FbwAu176zfuOvJy9A317vXp+Jv9EwGDAWkAPf9C/Vn6SvfM9OL0wfgB/Pv6TP4LDiIdAxkGCdcDLwphCc79gPcw/lYGMQZeBdYNgRfxEksD3fko+837sfZn9Hv79QVNCj0JCQtID7ELav5U877xwfM083byRfYy/ekBOAPiBIgIgAl/BAv+pfxEABgDhQKJAUQCNwNCBCgH9AlCCaUGcwZeCX0NcxEZE5IRHg+dDUgNvw2iDH4H9gHxAZYGNgvzDXQP+w+ND5AOEgwPCbkIpQkcB9cAc//IDFkkYjFTJIkItfeH+Pn4tOnV0KLA5sIbzwDZbeHz70ACVgvvBJ/58vcs//b/IPLJ4eXfwOua9Zr0Ou7x6jXsc+s15QvgIeKY547ppOoM8y0EkRSTGjIXDxAXCwAKDwap+4/xp+6274XuDe7Q87j/1xKQJnEo9xhrD80SoBDeAmT4w/S98qr0Qfp3ABQIewuzA3T7Tf54AVj8f/vhAlcFVQPpBbgIJgjGBnr+3u+Y64PyvfRi80v5YAK3B1sMCxE8Eo0RCA/CBxkDlgV4AzD6E/jlABkKiA6TEC4RrxFCE6ERuAt1CCsLkg6GD9wQwBH5D0EOiw7/DRMJgwJn/5H+Gf5jAwQWCi+EN1cncRC/AUD2aeT40pnNJNAC00XYPOap+wsLzhFCI8BF9V16UWMtwhNuDEEB3eO1wlqzB7Resq2tmrlY1r/r/PHw9i4CYg3xEFsNdQnBCRgJagJR/qoBkv/78SHl8t8T2zbU69DB0tDbZOuY9xD8xwGXDDYSOA/kDKcNxwtBBn0AKP7F/yAGDhJKGUIVFQwGAl75/vL27eTqyeoY70H1j/nPAcoOTBQGERAOlgwXCwAK/gb5AhsD4gXiBnEIpQtoCbUA4fyk/z8AfQBKBBEHZQdNCYwL8ArXCQIIrwKD/Yf92gAdBBMJCg5eDZ4L4w/tE7gQYQvtCDkFdv8b/sT/d/8LAYUGOwqXCUIIJQcABa8EtwVDBaQETgM7/5v7K/91CNINqA3fDbUQDhP2EmAZSS6cREtEsCd/Bnf2tO/d3xLHJLVWry2vYbbQyq/lZ/jP/6wDhAceCccF0v4k+j/3nPCk6NLn/O4N8p3qMOFW3aXevN803KrXg9go33nosPQDBdoSZBb3E3oUyhc2F1EPxANO+rr0v/G48AvzPvmh/rT+w/ynAHwSNiyLN90vlCVMII8Yigiu9uDnltpC0rXSfNxW8AQFSw99FtchayhRJY0fDhqLEFMDoPf/8BjxVPTR8ILoQOn98Hb1tfoFBEoK/Qv8Dn4VkByQH/gaShFvC34K/AWE//D9CP4z/jwDOArJC3cJeQglCVoKwwxPDwsPRw1VDIkLLgwfDm8MqAZ5AN76OvVF8Sfz9vfg+ZH7NQDwBMAGigiGDT8RBg8bCrEHDAmQCuULOhdPMMJEfj3jHg4EXvjh7SzYcL3MqgCkuKTBrDDBmd579eH9xQEgC/4TIRIFCCT+lvdC8rDtCe428rbx0Ojt3ivcqtwo2OrPMcvczHnT/t2v6wv8zQtyFcAZzx1HIu0htxmeDlIGHADD+YT10vWS+A36M/qN/egFsA2vEGQRwhPfF/0Y+xR8D5QJSgLZ+5f4iPjk+Mj3pPdS++QCkwviEV8UTRTjEkcQmw1/CwIJLgW5AL79kvyq+y/64/i++I35yPqV/Or/fQSxCLcMVhH6FCMWYBVgEygQBwwpCCgFGgNYAZT+lPtF+tb64/tT/bP/FAKoBMUImg2wEHYQpg7TDYkNQgyzCHcDiP1p91rznfLy82L1XfaM95z6c/9xAtkBcwCQAHAAW/7g/FH+mgFTClYdDDQgPmYzVB9WEfsJRv3i5JnJ1rdWsQmx8rbPw3/RWtpa4f/raflAA58FBQPfAEYBPQHKAGEDlgZQBSQAXfsT+Sr2De4C4gLZE9fj123XSdnO4KPqgPMN/fwHSRLnGG8aoRtuH58h7h4WGYYTtg0PBsb/YPzL+wYAVwTABNEFmghsCfQFgAA3/Iz4yPZa9633Svq4AO0EwQW0CJ4NAxEsEvMPWQtyCOgIUwnrBrgFVgYUBOIAiwCvACr/wvzU+uz6ffwE/gkA3wNuCHALYw3GEJkUTxVDE9gQmw+cD3oOxAvqCZYJIQnuBjQEQwL0/zv95/u6/XcBegOsAmMC0wS8B+AHwQRwAQYA/f6K/DL6R/ql+wf8dPx2/iAAkf9n/kr/5wLdBnYF7v6C+xz+4//I+on1dPppBiIOvwxdCDoJWwz/CNj+wvRZ7t3ngN9L2tPbcd9w34/eU+JT6izw9/AV8WnzAPbe9RT0oPX3+Sz72vin+BT9PgGjAPH9sf1f/8n+MfuZ+Jb5MPtV+QP22PVv+NP56fjT+HH7rf6RAO0BawRgCHsMDA9zEPgSqBZoGRMaTBjsFOQQgQy4B1ACaP29+ab2P/R98wv0BPUI9o/3ifo7/hEBCQNtBb0I/gsHDj0PDhC1D/UNsAtcCtsJygj7Bk4FRwRuA1ICdgFQAaMByQHMAaoCSgTcBcgGQgc1CD4JPAkMCLoGugVlBK8CVQHyAFcBtQG5AbMB5AH4AX4B2ABTAOP/L//U/XL8jPva+hL6aflC+UT5Nvky+S/5TPmA+ar5pvn8+Tr7avzr/PL8+fxJ/Xn9V/2t/BD8S/xz/AH8yPsn/FX8X/vu+YD5qfqd/P/93f4XAGIBwQFPARQBvgEOAxMEogRjBR0GJwabBfMEhgRgBEoEBARlA2ECGAGt/2D+YP2O/DT8fvw9/Y3+RwA9AlgETgb+B0kJRAoGC38LtguHC9EKdAl5BzIF1wKdAIP+d/xm+iH4qPXL8nvv3OsR6Frkx+CM3c/ah9jN1o/VsdQt1CPUs9Tc1bbXItoA3UvgyeNZ5/XqrO6B8mX2ffrL/hsDMAcLC8YOVxLZFUwZexxmHzci7iR2J94pGiwgLrIvkzDwML0wMTCKL8cuLC4uLUMrzygOJiUjBSCiHFAZWhalE6oQIQ1DCZYFbAKC/6n83vkm96P0RPIg8ITuZe2f7BPst+t/6y7rl+rE6bboWufz5ezkUeS549TiBeKs4djha+Ik4/7jBeVb5gfoB+qG7AzvSfGS8+71PvhZ+iP8xP14/zwBlQK7A1sF/gZUCNwJrwuGDS8PtBD/EfYSohPXE7cTpxOlE4cTORPRElMSshHoEOIPyg7EDYQM2ArxCBQHTAVhA3YB1/9U/pD8jfqw+Er3X/as9UL1Y/W39f/1WPbe9p73b/g/+Sb6UfvP/G/+8f8NAfABBQNUBHwFFgZGBkUG/gVyBc0EEQQwA0ACcAH2ALQAXgDs/1n/q/7d/QX9XfzS+yj7cvr1+eP5Avrv+ZL5GfnO+Jf4QPjW9373cfeN96X39fe1+K75ZvrV+mH7Uvxt/Sb+b/6T/q3+qv6m/sT+B/8k/+3+1f44/xYA+wBvAZcBnwG+AQECVQKzAsACTAKyAX8BuwHrAdEBqgHnAY4CYQMoBPAErQUDBgsG/AXuBfgF2wV1Bf0E6gRMBZUFcAUCBZkEgQS/BAwFLgXuBEoEswNrA+wC4QE0ATsBZwGZAc0BAQIYAgACuwFzAY4BzAHAAU0BggCP/7T+Rv4O/sX9Yv3Z/HL8UPxK/Dn8B/zC+4/7rPsF/Gv8xvz0/BD9Xf0K/s7+Qf9w/5//4v8fAGQAtgDxAP0AyQCNAIQAewBRACoANwBxAL4ABgFBAXwBrQHzAVICmwKVAhECawEKAfcA4wB8AOf/g/9f/0j/OP8u/xr/8v7c/ur+7P7d/rT+f/6G/tn+R/+k//j/MwAUALr/gf+c/+v/BwC//0z/F/8f/x7/+/7Y/tn+6P7g/r3+nf6C/mz+bf6D/pv+jv5f/i/+GP4a/gj+zv2J/WX9X/1v/Zf9qv23/bv9tf3A/cP9u/2l/Y39if2P/Yr9cv1i/Xz9rf3N/RH+hv7r/i3/S/9I/0b/d/+i/6b/wv/m/+v/uf97/1r/Sf9k/4f/lv+a/3H/HP/Y/tf+8P7p/r3+j/5x/nz+i/54/l7+PP4u/jn+YP6S/q/+zv7q/hn/bv+z/+L/CgAWAAgABwBHAMIAOgF/AaEB3wFTAuwCXQN9A3QDeQOFA40DkQOHA3UDUQMwAxoDLwNUAzwDEQMbA28D2AMpBFgEXwRSBD4ELAQfBP0DvQNfA/UCwgKzAqQCqgLGAuoC8gLZAsgCzAK2AmsCAwLGAcoB3wHSAaoBnQGeAZgBiAGLAakBrQGdAXcBXwFoAVkBHgHIAHkANQDj/2z//P6s/lz+Bf6w/Yf9fP1z/Vf9Pv1M/Vn9QP3v/KH8h/yG/H/8avxk/GH8Tfw6/FX8p/wF/S79Mf1T/aD92v3c/cj9tP28/dT99f0m/j7+Kv4F/gX+OP5+/oz+Yv4W/rP9S/3m/K/8lfxr/Bz82fvg+xz8UPxR/Dj8L/w+/Fn8nPz5/EH9Xf1p/bn9Q/64/tH+qv6f/sv+/P4e/zv/W/+L/7v/AAB0AP4AaQGdAcIB7wEkAkgCZgKpAvICJwNAA1sDiAOeA4UDSgMiAxcD+AK1AocCkQKqArkCvwLhAisDfgO2A8oDxQOqA44DiQOnA8YDwwOkA44DnAOsA54DeANTAy0DBwPvAuEC1wK3AnoCRgI/AlsCaAJOAhoC1wGaAYEBfAF1AWEBKAHWAJgAfgBdAA4Am/89/x7/E/8F//H+3f7Q/sP+xv7X/vD+6v7N/sT+1/71/gP/9/7T/qj+iP55/mv+Xf5F/hf+3/27/cv95/3l/cf9l/1n/Tz9Ff3m/Lv8kPxa/DT8NvxN/Fz8Tvwn/AH84vvg+/37FPwL/Of71fv2+1D8t/wH/Tj9Xv2U/df9Mf6Z/uz+If9Q/6D/GACqABsBSgFWAWMBngH+AWUCugLWAssC0wIPA20DqgOlA3ADIwPyAu0C+gL0AsUClgKBApMCuALLAswCsAKHAmkCZgJ2AmcCLwLwAcIBvAHTAegB5QG0AXEBQwFCAVkBYgFMARkB9gACASIBNgEeAewAtgCHAG8AaABWACsA9v/Q/83/2v/X/7j/if9e/0f/Vf90/4r/gv9g/0v/W/+O/77/1f/Y/9z/9P8dAEkAbAByAFsAQAA5AEgAUAA+ACAABADt/97/6f////z/xf9w/yX/7v62/mT+9f14/Q39w/yW/G/8Pvz8+677c/ta+1j7RPsV++r64PoF+0T7g/u0+9P75Pv8+z78ovwB/UX9d/3H/U3+8/6U/xcAfwDeAEwBygFFAqsC7wIbA1MDoAPwAzIEXgR8BIYEggSHBJsEqwSaBGkENgQTBPkD2QOmA2wDNAPzArUCiQJtAk0CHQLcAZ4BdwFYATgBDwHSAIoAVQBCAFAAagBwAGMAWwBsAIYAnACiAIsAbABbAG0AlwC1ALIAlgCHAJIArQDGAMgAsgCUAH4AiwCxAM4AyACpAJkAqQDRAPMA+QDmANAAzwDpABABKQEaAfMA0gDPAOIA6ADOAKEAcQBOADQAHgD//8L/av8G/7T+cf4s/s79Vf3V/GH8//uh+zz7zvpX+t/5evku+en4mvhM+A345vfb99f30/fU99z39fck+G34y/gs+Yv59Pl0+g37uPtn/A39uf1y/jj///++AHYBIQLMAn4DLgTNBFMF4AVwBukGTAejB/IHOghvCI0ImAiWCIQIZwg/CAQIsQdNB+UGgQYgBqkFJAWgBB8ErQM/A8sCUQLPAUUBzQBwACQA2v+C/yj/6v7N/rz+p/6J/mn+VP5h/ob+s/7V/uj+B/9E/5b/6/8wAGgAnADeADYBkAHZAQ0COwJ4AsYCEQNKA2wDfAOLA6MDvQPOA8cDpwN7A1IDMwMPA8oCZgL+AaQBUwH0AIIA//9w/+H+V/7R/UT9nPzr+1T73vp1+vz5bvnb+Fj48/ei91T3+vaV9kD2Cvb59fz1AvYD9gv2MPZ39tD2KPd999f3QfjI+G35Gfq4+kL70vuA/EP9EP7F/mT//f+iAGIBLQLtAo8DGgSlBDsF2QVjBsYGGAdnB7sHCghDCGQIdgh9CHEIWwhBCBYI1geOB0kHBge3BlgG7QV6BQMFhwQFBHcD5QJaAt0BawH2AHQA7v91/xT/yP5//iP+wf13/VH9Sf1E/TT9Jf0k/Ub9iP3V/RL+Pf5s/rz+L/+u/xkAbAC3ABIBiQERAowC5gIpA24DzgM5BJgE0QTeBNoE4gT+BA0F9ASlBDgE1AOJA0UD4QJSAqYB/wB0APH/Yf+u/tz9Ev1j/M77PPuT+tv5I/mA+Pn3jvcp96z2Jfaz9W31S/Uy9Q/15vTO9Nj0CfVR9Zn13fUm9oH2/vaV9zX41Phx+Rf6zfqY+2r8L/3t/bH+ff9VADIBBQLGAnMDIwTZBIsFLAa8Bj0HswcjCIoI4QgiCU4JZQlwCXAJYAk8CQcJxQh+CC8I0AdgB+MGZwbuBW4F3wRCBJ0DBAN1AvABZwHWAEoAyP9W//H+j/4t/tL9iv1e/UL9Kv0R/fr89PwI/Sn9S/1r/Yf9r/3x/Un+p/72/jj/e//R/zgAowD+AEcBjgHoAUcCmALbAgwDMgNVA34DqQPJA8gDrAOLA3oDbgNQAw0DrAJMAvoBrwFYAekAXQDQ/07/1P5Y/sv9J/2B/OT7WPvU+kv6uvkj+Zr4JvjF9233Dver9lb2GPb59e/16PXf9dz18PUn9nr20/Yp94j3/PeK+Cj50fl7+iH7zvuI/FH9IP7r/qz/YAATAdIBlwJYAwUEnwQ2Bc4FZwbzBmUHwQcUCGMIrAjqCBEJHQkWCQYJ8AjRCJ8IWQgFCLEHYQcLB6IGIQaaBRUFjwQLBIMD8wJhAs8BQgG9ADkAt/82/8T+X/4H/rn9bf0p/fL8xvyo/Jf8jfyM/JL8pvzJ/P78N/1y/bb9BP5k/sv+Mf+T//n/aADZAEQBrQEUAoIC6wJJA58D5QMlBFIEcQSPBKoEvAS1BJkEdgRLBBkE1AN1AwUDjAIZAqABGgGFAOb/S/+z/h/+gv3U/CX8evve+kv6sPkV+Xr48Pd49wr3pvZC9un1nfVh9T31JvUh9Sj1N/Va9ZH14PU/9p/2Cfd99w/4tfhh+Qz6tfpz+0D8FP3l/az+eP9EABMB5AGyAoMDRwT6BKYFTgb+BqMHMAicCPEITQmsCf8JLgo4CjoKRApPCjMK5wmICTkJAQm1CCwIeQfZBmsGBQZqBZYEwgMrA78CNwJwAZYA7v+I/zT/uv4U/oP9M/0P/eH8kPw4/Aj8EPwn/Cj8Gfwk/F38tvwA/SP9Sv2h/Sn+rP4L/1P/rv8yAMMAOAGIAdMBNAKtAiEDcgOiA9ADEwRWBIIEiwSDBIEEfgRnBDUE+gO+A30DKwPBAkUCwgFGAc0AQACZ/+r+PP6U/fD8SPyh+/r6V/qt+RD5ifgG+Hz39faK9jz2AfbK9ZH1afVX9VH1ZPWH9b71A/ZR9q72GPee9zX4z/hq+QX6qvpq+0X8Gv3W/Zn+cP9OAC0B6AGLAkEDHwT0BJIFCgaFBjAH4wdNCHsIuAg1CcMJAQrVCYIJfgnaCR4K7AlXCdAIqAjACJcI8gc8B9IGlwY8BpQFyQQkBNMDnwMUA0QCgQH0AKUAUQDM/zf/vf5p/jn+A/6O/Q/91/zT/OD8z/yE/Bz8+/tl/PD8E/2z/Dn8aPxZ/Tr+W/7U/WX93P0i/x8APgACAPT/MADKALQBbgKJAlICHAI8AiUDOQRZBLkDYgOeA/sDDwQABF8EwASsA4IBEQHGA9IGtgWo/0b6x/zVBYIKaAPa9oryKPxaCegJYvui7VTwEwApCjQC3vAC6gn1HAQyBW33Eev77bb7XgNY/BjwXO1e9oL/IP4P9TfwZvW3/fn+h/ho83L2B/4aAbP8Z/eT+BD/TQMEATT8x/vAAEYFhgStAJj/HgMbByYHIwTDAk0Fywg2CasG7QR8BnMJNApECIcGJQcGCYQJ8AdcBqMGDQh6CCEHeAUgBdEFBwYjBQUEnwOpA1IDfALCAZoBqgFCAV4AqP+D/5T/Sf+8/mz+af5g/ij+3f27/dP98f3w/eb99v0M/v794v0F/mP+pf6l/qT+1P4L/yP/M/9m/8b/HAAiAO//6P9BAMgAFAHyAKIAhwC7ACoBmwGjARQBcQBjAOoAcQFfAbEAAgDP//T/AwDL/33/T/8T/5L+Ef7s/Qn+C/64/S39tvyE/IT8hPxW/Oj7dfti+6X7uftc+8/6i/rb+l37Zfv3+rT63/op+1f7ivvU+wb8EvwV/D78x/x+/dz9yP2x/QH+wf6F/+b/AQAwAIEA6wB7AQUCPAJJAowC8AJRA6cD0wP+A18EmARfBCUEZgQNBYkFTwWlBG4E8wRwBTIFhgQsBGUEzQS8BAYEUQM1A34DowNQA6YCDwLOAd4BAwLhAWIByQBkAFMAZQBRAB4A7P+2/3P/JP/t/gD/Qf9Q/wH/n/6N/rf+4/4G/wT/2/7N/vD+JP9W/2z/Xv9b/5D/5v8QAPT/y//d/zIAkwC1AJkAcgBfAHsAywAMAQEBtQBmAFoAqAAQASIBvAA6AAsAMwB8AKMAcgD3/4L/Z/+o/+H/uP9T/wP/2v7A/qb+i/5u/lj+Ov7w/Zv9jP26/cz9mf1J/Qr97vzz/P788PzV/Nf88/zx/Lv8fPx3/MD8Hf07/fT8j/yL/Ab9if2e/Wb9TP12/bX93P34/Tb+kf6//qP+oP4Q/7r/GwAUAPj/GwCIAAIBSAFXAWIBlQHqATcCXgJnAm0CfwKuAgMDRAMsA9kCyAItA6MDsANTA/gC8wIpA00DQQMaA+UCpgJ7AnwCkAKCAkMC/AHSAbIBeAEvAREBKgE3Ae4AaAAQACgAbABjAPb/if96/7b/3/+9/23/OP88/1j/a/91/3D/SP8P/wb/R/+O/43/Vf81/1j/mP+8/6//kP+V/8f/+P/6/9z/0//3/y4ATgA+AAwA8P8TAF8AhgBqADcAJAA5AFgAYwBYAEgAPAAhAPf/4P/0/xcAEwDa/5n/hf+a/6T/hv9d/0v/R/84/x//Dv/9/t7+vv6z/qr+h/5Q/i3+MP5C/jn+Cf7R/bv9xv3Z/eH92f25/Y79c/1//a792v3U/Z79d/2U/dP98v3k/dr99/0h/jP+Ov5g/p3+zv7w/hn/Pv9I/07/ff/U/xgAIwAdAEIAhQCmALEA7QBNAXQBTwE4AWUBrgHkAQMCFAIVAgYCBQIrAmYChQJ4AlECKgIfAkcCgAKLAlUCFgIJAi8CUQJBAhQC+wHwAdkBzAHVAb8BeAFYAYMBkgFEAewA4QD/AP8A4gDEAJ8AawBEAE8AdwB/AE8ACgDq//P/CgAcABwA7v+e/4n/2P8OAMT/bf+b/+z/uP9e/5P/AADW/1X/Yf/h//v/mP9u/67/1P+t/5v/yP/d/6r/ef+Z/97/5/+t/4b/m/+z/6r/p/+6/63/ef9i/4L/nP+S/4H/dP9f/1j/b/+B/2//T/87/zH/Ov9O/0X/Hf8S/zT/Pf8Z/wX/FP8R//n+A/8g/w//3/7a/v3+Af/o/uf++P7t/tX+6f4d/zL/GP/5/vn+HP9P/3D/bf9Y/1b/Z/9//6L/xP/E/6L/kf+z/+z/HABAAEsAKwAIACIAbQCfAKQAlAB+AHQAlgDUAPEA3gDMAOYAGQE+AUgBSAFJAUMBPQFZAZYBqwFYAegA2wAkAUkBPwFBATIBCAEbAWABYwEVAbwAdABmAK0ADAE+ASsB7QDDAL4AqACJAI0AbAAIAPb/YQCJAA0Auf8LAD8ArP8e/3H/+v/W/4z/yf/6/6j/gP/I/7j/L/8p/7//wv/8/q7+T//e/9j/xf/R/5b/Rf+I/xkA/f9O/zb/sf++/3r/oP/U/7L/wf9AAKwAnQA6ACQAogDPACUA4f+XAMMAwP8k/6n/+P9u/yf/n//O/1n/P/+m/5v/MP9I/8//0/9k/8X/1QCcALz+ff1c/rj/T////QX+ff4c/tn+wgBzADH+/v3LAGsDjALW/tX8fP6ZAJ0ABv86/TL9cv8ZAQAALv72/rEB1ACC/PcAIBCdEkX9mOwB+IYK5QeS+J72MQMOBzr7m/XMABgJwQEz+RD9qgdIDHYG0/1V+8H9OQAOAe/9/Pne/TwEtQAN+gL8/wHQBbUFsADuAPgJlAZ084HvdwHUChr/zPPR+ukHgwSs9/j4lAJtA+cCGgV8AcICTg4JC3r3d/QPAjAEff2W/9IEEAJt/B7/7QaeAjf24/oGCAgBB/Wf/MYE2f1/+L77EP/i/7D9UPuH/mMC1QAa/8cAoAOmBRoDHf7DAPMH3AWk/v//cAW5BBUCXAOeBYkFPALI/bb9VAGyAU7//v5+/6T/wABcABj+kv02/TD8ZP/6Asf/Wv1MAUYCy/4L/04BmQDC/YT7jv5gA/n/jf3CB88LePzr70D22gPZCSAEqfy4/gYCaP3Z+N72UfWT+1sDjv0/9cr4lfzj+Ov2vPnF/If82/lK/LcC+QCo+mP8fQAw/0j+Cv+x/s0AwANeAlYBvATeBvcDp//f/icCHgRdAi4CUgQ2A9sAYQI/Azr/a/x1/5UDfQOxANr/KQEKAfz/iwB4ANH+af+FAZcBAAI2BEIEsgI5BIcHuQf5BBcEfQZoBnEB/P/0BbkJrAZZBcgJgw2KDEsK+ArSDQsPeg7ZDhkPogwpCc8HVQgUCA8G0AQQBuAG8ATfAtsCngIiAKz9uf3F/V/6//Wf9FH0hvEL7mztde5o7Z3qxOkT6zTrC+or6/7uPfFr707s7+om6hfoJuYq5mLnueit6gvtOO4o7rruE/BN8CLv/+1N7VHtrO909HT4q/mQ+tL9/gFoBAIF3gQ3BLIDZQSnBYUF9ANCAx8F2Ag1DDsN6wtQCssJggmlCPsHzAeMB1EIPwtWDfsKQQfwBw0L5AkoBTQD8wPKAhYC8wbHDCEMxgmBDpEV8hSYEOISsBmVHtknVDoDRl88zS7BNsVJs0gRM8wlwSr4LiYpWSVJJqQdgwrh/zYDhwCk6p3QS8cwzU/Qbccvu5a3cLykwCPBbsOQx2vELromuSnIHdV/0T7M8NjA7iv5ivqLAgMO/Q1SB1wM+BrDHsoTQQz8Et8dByD1GbsTyRDLDrcLFQjrBNQBHv1s9671R/kI+vrxYemm6vfwpe+Z5brd2t0h4N7fauEJ52HqFens6tnzxvur+qD0FPTi+h0AWf7S+rD6Qfz5/bIAjgKWAMv79fcY+BX8yv8j/9f75vuxARgISAnVB1AKxQ8qExQWWhuUHqYc7RpDHWsfLB21GK4WZRhXG44dYR8ZIAAeDRo6FwcakCmyREhXJk+9O3k+rFffYAtG/yR+HTciZhmJC30KkgkJ+OHmYOzc99Hm2Lrjmhid06mEoeKJAYDDjC6fuql3r2W1p7jfuBi+Gcr90NDM58rq2AjxYgN8ClAPRBsvKmQwPC3bKh0rpCX2GvsXECGVJ1wecw/gDWkWZBShA2D0tu5Y6nHi5d0A4WzkLOLP4g7wqAALBBr9Ff3TBz0QhA7sCdQLwhOQG6QhPCgYLR0spCgCKY8roCguHWAQ+Av/DdQLmASDAOYA8wBV/xv9j/qe977zi++R7UjvcvOl97/6Kf5MAygJjg47E40VExQ9ElUV/RpUGkUSbw3/EgccVxyJEtQKFQ53FA0TegwoCPwFewOmAdYDAw8OJKk3tjoAMLUtKj24Rjg0PhcbDcoPygca+cP2lPr/8Y7lvukd9Kfoo8h7sd6x97egrY+YPpDEmsKozK9qtDO7/r5ovKO90ck50mTJBL/nyGLgKO8Z8Z/1gQUnF8QePx6PHqogKh5tF10Vhxn0GdoSTA5ZE10ZKxUyC20H8gfVARz3AfOq9Un2ofOY9Nv7jQPwBVMFaQdDDMEOqgv6BR0ERwdQCcgHHQmCEFIXXxh7F/YYdhpwGAUU2g9RDGkJzgcJB28GswbGBz8IyQhNC3ENIgv7BrMGeAgJB6gEqQZXC8kNDg4cD6IRpRSgF7IZuhngGIsZzhqpGagWNhTJEYEPVhHsFmYYORP6DsIPTBM1HjQ1tUf6P/0r1jDyTYhXETvgGzEY3x4fF3QIvgFf/Bnwcuey69DvX+C9wIWru7AgvD+vJZGDhpmYGakppr+i265TvRrBQ8SF0Avb6Njq0+va/+og9oD49Pt8CC0ZNyO2JO4l9ComLXgnDSAjHtkdHxeYDB8JVw7eEA4KyAGR/xX/cPvG97z12vHn7CTrZOv56hHsIe9T8IPwbvQL+pf7y/ob/XwBxQOeBFcG7AfjCHQLvA5cDpgKwwgxCrYK+QesA1MAqP8jAdkBwQAeANUAsQHeAo0EJwXzBBkGsgeBBxEHTQglCVYI6wjUDGkRsRPRE+cT3RXoGCEZPxWRElsVUBnXGJoVFRMTEw4duzajTrZJ+zD6Lb5JOFmHQLQdjBRzGlEVZAjqAQ38s+7v5mPw/vmr6hPHIq7fsFW8PbO2luuFZpI0qJCuYKtFsX6+asawyiPTedpP2LHTO9kw54DyQPgs/0AMTxu/I4okRCb1LAkvkyRvGNkYqx7vGQIOiArxEKQVSxVOFW0UBg7dBY4Bpv6Z+Abx5etW6VPoeekL7OzucvPX+cb+DQBUANYCSQa1BycHwga/B4kJagvODbkQERPrE8ET6BO1E44RsA6BDPMJsAYfBGgDnwMtA2ID7QQXBcID3gK9Abj/gf0e/Bj8fPzP/ZkAZAL5A3QI+Q13ETsSJRHmEBYSTRJAEfoU7iYhQeVKJz4tN6pJNF+0VqA3YyUHJg8hNg8DARX+uvpX8FDrRvHI8ETd5MMjuRq9/7nSo9+M0YvnnPyp8ag6p4eysMMmzkzTC9m63ETaA9f/27Dnb+908dn4iwogHPsi5iKNJ4kwyy/+ImsadR0/Hy8WUg2ME4IhxSNqGgIVShYlE2sGS/ce7UHljdti1MvUsdm63XbhvOlp9gH/A/5S+vz8fQNEBWoBYv/3A7ILxhEyFpQZxxr8GkAcOR1SG44WDBJ8EIEQxA6TCvMGuQeJC84KnQK0+qX6Rv6X/Gv2GfR0+BL+JAAyAK0BzwQWCPcKDQ5HEGgOYQvREucoBT0mPV4zyDktUbpbIkuvN9Y2hDo+LiEaFRHnDjwEw/WR80T65vSg3hbLoMjWyzXAgqddmP2cpaZnpiaj5KlCtma9JMLezMPYJNtF2E7dPOsU9vH2p/VM/NsJRxWiGUscriLEKIIoiyTLJjAt7CjOGuQTtRm4Gy8N9Pph9O/zs+0J4srX1NEhz2nPHdOw10bZXdhk23TljvA287HuwfCN/YoJqAtJCn8PohhdHsYg4iPYJhgntyc5Kw4u2CxuKIAkkCSCJjMklxuMEQ4NSg38ChcFBgBn/bX7bfvf/ZL//PwT+UP5cf1vAagBWf/EAHILPB/uL9wy/y7CMcg9eEZgQWo1FC6iKj8l9R3kFrcPUgdbAHr9Hfse8kvh6tAsyUnI2sE0seuiZaEIqNmr8Krwqx+yn7puwePGSczd0AfVSNqI4mXtovWC+cD+AgnbFfoenyPVKQ8x2TQFNTE0hTJiLDYhbRWEDIcF0P3M8/3ov+H234Lfm9vu1ZzTOdUH1jDUdNLQ0g7WH9xO4+bo2uzX8eP4zgBFB0ELew7NEvoYJCDtJegoLClEKSksCy+zLPUlaiB4HlQc2RZ0EL8MKwu1CXIJLgrcCPgEagLoA9IF2gOl/0X+1QCYBIMIhA/lG2koCi6JLq4yrjv4Pzs6YDFYLm4uuynUIAoa+xU/ENMJHQelBbb8UusO3ODW29XwzHW8trCqsPi1jrevts24Fb3+v/XCiMgdzRvNxswv02bfe+lN7173tAQjE6YdeiFJIqQkSyYoIzQbLRSQEWoPvAq8BtYFrwRuAVb+ivwi+lf0Bez25UzjxOC83Ufc1t615D/pa+tR74X1hflp+iv86AC+BQIHzgdNDd8U1hkoHMcdhCCaI4YkBCM1ILYcYxkHF3kVZxSWEu8OZwy3DekOQgtvBQ8CVQB3/Yf5qffj9/X4+//TDNcUFRSdEygb2iSNJEQaPhIVElIUXBNSDz0LUwnnCAwIYgd+BGn7bu8Z5/3kHePA2WDNUMm0znbT1dDSy3jNOtWy2fPXv9Zf2jbgnORk533r7vEB+ar/HAXICEsL6Q1tEDARxA/JDaUNBQ8uD3ENVwxKDS4O+gyiCWYFkAG5/pX8tPne9H7wKvAp8g3zqvIM8/P1efpJ/un/IADxAPIDYQjbCocKHgrCDHkS2BbrFmkVaRZpGVwb/RvoG28aQRi7F64ZFxs9GBoTrBA2EcQQ6QyrB4oE+gP0A7EFvQsaEi0TShHdE3Eb0B0IFZ0K3gi0C/cJ9AKc/MD64vvj/F39bPzy9t3uz+km6Ybn/9650yvPW9Js1a7T99Bd0fDUMdl828ncW94j3y3gz+Lg5cjos+qH67nuavXf+sT7APsy/Q8CeQRmAioA3QBUAj0CPQH2AOIB8AIGA4UC5gHCAD7/kP3X+177N/zB/K39kQDvA0wGYAhMCkIMwQ6tENERyxIXE9US0xJdEysUwRRtFSAXrBnkG1Idbh1wHPUbUxvKGKYV7hM4E5ASXBEFD9IMqwumCqcIoAWyBFYG0AWkBBwIDg3BDS4LwwoxDlYPRQp3BH0CLQG2/cv5dfYb86HwnPE99Qf1aO+h6gLpuehe6D3l899f3jPix+VH5WLjSeTx58PqKeuo6t3q6OuR7HLsEe3C7mjvIu/x8Uz4zvwr/Xz8yv15ABkAOvzE+s78eP7+/i3+ev3A/0cCCwEY/Zf7Lf70/xwA3AJhBmAFwAMeCV0OKQk0BNUJag6ZCTgEXghCEigUpA1kDeAVvxo+F/QRnhKqFtcTMQ2hDY0TbhdKF2QV0RLOD80OaA5rC9MIbQq8DTALbAWLBx0MlgilA0kF0Qc+BI3+df2XAEcDdwEA/Rr8Ev/t/0P76/Xd9eT3Bfdh9HfzUPXG9tr1FfUC95b4iPQX7nnsk+7t71jvV+1n7PTtgu7S603qIe2y8C7xiO8P72vx+PNR8rrvE/TV+m34JPJT9XX9XABZ/y//lAEeA/YBMQFhAfIEVwr5Bh0AzAWNEIINcQEyAucPRBPpB40ARwV6CzAIuAE5BqARtxBKAlz9OApeEpwIcQCrBTQJ+QTMAiEIqw43C1UBR//LBKgEQ/2T/QwIvwkmAFT96AJgBBr/ePxiAlsH5AE6+rX67/1A/u7/EQQFBAD+aftd/aL8w/vl+976Gfuf+2P6P/iI98f58Pu6+2X5jfcB+pH7//ae9Tr+NQOz+Vbx2vfpAasCZvw8+kb+LP7V+5T++wBCAGIBfwWiBBr/pwF7BvEALfzFAGMExwAd+tT8LAh/Bb369P8ACiUH/P8yAfIGbwZmAm8Eogj4CC4IZgf7BiULzRAkCtz9pQL3DroLsgFWAsAKuBFzD/oFBQPRBJEBxv86BC4Ecfwk+X78mfyf+Gz1X/I68p34gPqh8PntSPt6Adz5IPo1B88KWwCY/y4IqQZmACwCywjtCYwDMACdBCYHvADl+of/xwJI+ozxJ/Og+Rj5MvMM82H13vJ78sT0re715yztE/LI7SDr6+x+653nIuno7svvFexH6V3rW/G98FbqzurU7zfu/+qU8AP47vek9NL0Y/ia/C79ifqi+6gBCAVT/mP7yghgDncDwQJmC8YK4gg3CtQFfgKDCNUOcg8PEo4UghIiETQOfwwzEp8UcQ0uCO0LrBYuHhkVpA0YG+EhPRTsDTAVmxbuDGkGkQ5SFvQQ9A0oFMAViQ+1DmMQ6glJBtgIsAkRCkIJ7AzKErwIR//vDF8VTwdM/qIEIwk4BIv86frNAxcMUwZH/1UChwR6AQL9cvqj/t0Bl/0m+3b6U/pg/bP6Zfn0AA0AP/ia+qX6D/AI79b1nPTU8aD02/Wx8qvvEe8n8VfylPGZ7yTs9uvH7CDpc+V56W3yJvQx7rzr3/A69LPuuubv7YP8qPTv5xbwY/la80Hrl+9p+iz++PQu6+/zvAJG+xXsYfO+AtUCLvcH8/f7vv0X9IDzL/6yAIv8n/0RAesBNAJCCa0NlgmvDaQXERTVCbcP6xkYEscH9w96GoESWAYlCnkW3RIAB0sO+B4SHt4SLRonK9Eo6B5pJ7Mz6S9YKfEpBSqsJFIgfCBqHw8baxo7IDUbMQskCwMX0w/5AIYDpwljBFv0ouid7KzwbubD2A/Xmt/S3RnPWstg0cHRLM7BzAzLJ8um0trOXMEPyUPTvcr4yevUsdQZzprS/9ew06LSddgx3vnfS9mE2QXpben5257mffjf8YvrBfTb+bz83PuH/ZwKEBMcD1cJUhFOG2IY5hfRGk0goyfpIVIhmC1aLOooyy9nNKI3DjTPLM4z7TzJN1AyxDbSOg05ITJQL3U1qTQSLKAqTS0mKZgjriCPGZUVqxdoGGcWAgwbAxYHOQnM/zn3pvct+/73Q+1n7JD4Qfc16T3oTewI7oXxueiI3Ljk2Osm3EHVeOfq7MfZQ9Ov5ZDqv9hh3tPuw+Wl3d3ls+rE4yzgB+ec6xDs0+bx4tLuMPOj4jzdk+459YDil9q16tzuEONS3mHmv+z95y7lnOkE8xnzW/A9AT4NFwVoBDUQfhWUFCAT9hHzFnAYSgs1C5YYDw60ADYGqQinBFAIGgxLApf+UQewCQoJogvbDBoLSQV0A7IJ1A7YDD0HaQU5Ci8MEgH7+o4IEBE5BgABCQkrERoSOwpyCE4ctyaJEDkL8iB+JPcUWg4vFRkaKgwe9wj5QAap/OXmreS38SryGNsQ077pOPLc34XWbuYC8ejiNNs+6aLu8+cy6QHvhfEZ9d7z4e9B+4EBRfiJ+NkDGQf+AisLXxUHE1oT3RUPFT4XDBd1GwYduRYMG+whjiQkJ5olZySgK5UwhCoDJC0pgysmITYXFxo7H9gPWwZzDeUHh/uG+fb6D/g78d/s6/Lc9w/ysPGp+V73b/Vw+xn67/d69qHtq+ti+M760+pS8T8JZf9U6735AA2KA3T4JP9pBHH9MvJG9MQAV/xp8J33n/yU8gfruu499xvyH+oH8p33me9w8rb8j/Pk71v/+fo16LnuifwL8B/hoOzD9dHqruZB7wT4g/jA8HzvivQm92/zXOx18Kb2bvFE7gf1APmb9X7wQO/c8eLyTfTQ9G3zhvQo+Wn9Tv7t/AAA0QAL+0UBDQm3APH8VAhLDuAFSwKzD2IVLQwxDAkUdxf3EJYIhg+4GewRQwe3EXEgixkJEB0V7hgLFkoUlhYcGVEZKhRhDDAR5B80HUQKJAy8HsUXQwEeCGEaSBL6BI0J3BTlE4IHIwW8EBAVGgrwA08JOQ0gCT0BpwLkDHILLAIqBTcHFgaBB70CLQIfBGECjwTmB3QDOABMBvwFw/1c/SUE1QK++oP2cfsEAh32CutD98X+xPEb7ZD7TP2+6KPgU/bI+CrgzeS88xDs/eSd63rvR+wy7y7xFe457+jthepW7iru1eyv8fzzEvGx7qTxyfDK8l/6hPLe65X4Cv6u9FXy3v3DAvr8YgExBy0FvwakCOcIQQqnCeQObRTEDdwLyRbWGW0VbhWxEo0WQB6IE48JpxKRGZUR0QwuFpIWeAw6D0IWfRAfCPoKwRDlDnwDCQIpDXAJjwP9BnID8P+QAr7/APtx+4b7PfcA9Pf26vlb+Ff1xvNG9rfyFerd7OPwvvBK7FjmxOi169rqueaT5vPrve6S6/vng+/986bp1ehH93r4MOuo7lj91vz58S3xSgP5Ccz6wvveEUQUEwItATcQ3hVNCRoKuxwWF4IKURpOI08QZgkqFcUZpBL9CtEP8BaMDv0EXweuDjsN4wQnBCoEPQT7AC/4uPlyAZ3+2fnI/jj/B/r1/fMCqPtk+swD2f5E9Iz84QFW9lT67QZG/7X59QGs/xf3PPi0/mn7hPVf/Mz9//hu+T39Jf9d+J35PQKl/WT49Phc+28BaPzA938CxwUvAH0AmAQiCJsBCf0JBzwIegDWAlQJEQTT//0KHQ/KAmv/Ww7fDhb/rQA4ClgDPPweB58KVgA8BRMORwWd/o8BdQKxAyEBPPq+/9YG1fmR8wYEAQf89X32ngWMAwr0BPPPANz8VfGQ+ekAPfg29Pr9TwGm9kD02/3f92DuRvpJ/zTw8uyt/AYCE/Sz74P84vzc8C72HgKl8lvm3v0dBdLrQe6LBn8BJPM3+yUCdva58O72Bvu5+mb2Jvdo+8P7N/kj+Jz7Mfts+Bj7c/ys+lv4V/oLAq79nfhgAigC9fh9/UUHHAGo9TD7GwO9/zD9TQHxB1cCGvy/CNoHvPde/c4Mqgac+cgCqwkF/s39yAajA3b/ggeeC+v/WP1FB5QG4gP8A/kEQArtBlcCbwp9C0wCoAZ6EgYMnQE5DlIT6gZVC2EYoxDEACEKYRpzEZcDmg3mGP4OiQVbDZsVIQns/0UN8hVSCoQDlgmTCNIDRwdcCT0BtQAOBAEA6wIlBzYApPpnApoINf+59h3/xged/tb0kf9EA5rxF/R6BUr7cPDA+t79Rvhb86X1fPq49u7uNvVB/kjyPe/p+aL24/CA+eT2Z+wj9zz/2fOf7e39fQMk8kbwUP/P/rL0EfYx+Ln7tPu/8v75rQSr+bT0VP4x/LzxPPbv/sP4Efg1ADj5/vB1+Xj3De8U9mT7QvWA8DTzs/QF9GvtRe3n9k7wQ+sb9zL2v+kH7s365/XD6ub0Pv+E9gX2Wf/8/2L7bPsaB2UIcfuBAWkL2gXwA1QKZguaBykJPw9KDs8IfA5dEQkHCQp5GIQRFAkRFc4Z0w5JDhAbfxoqEU8WvCKLGpcP1BxDJi0Xiw5qHvUiAxSWDbcZxxtZDD8LehHEDtMHogJ4A4AGNwTEAPv9Vvqw/hoAnvRT81D7nfjr8brzNfqt91v19PbR8S/1uP8H9Nzrhft1+GLw1fhL+Yn0Sfpg/aXzAfVS/x78svkD/3H53vpJBaX7yfgOCVcGJ/pk/0kHjgKk+UkBiQkdALL+HQUzA+sDlwFv/HgGYgXF+Nz96wS4/aD3XwDfAc35Hv7/AMf8Efw5+sb+Pv9X9ar8UAC386n1JQDC/I3zl/lY/P/wTfW0+73x6PDq97n14PDC8hv2VfI/8WX0XfSY9P/zr/Qh+J/4g/hh++f8KvwS/qcChgFt//IEAQdLBAQEbQfICWgKNAvBB3gKUxBPC5cGqwz5FDsQrgVIDSQVgQpxB14QsRJDCn8J6xJ2EH8J/QlXDdwOzAtVCnUNnAthBjQH6wgJBWwC+weEB6/+2f8pA/3+/PwI/EL6kfpJ+sj6Hvm89Q/4F/qG+cn2+fJY+Df+G/bv7k76wv/H8ZzyMgBs+ynv+/Ns/iD50PLY93v5RPYo9jH4nPmu+Fn44/jY9476Zf2F+w38JP4p/lP+DwAeALz+HgIABOX9Vv/hB9EDSP/rBrAISP9c/0YIagYDAaADugV1BNsGCAY7AdkDQgf7BVEExwPxB5EH/QJDBewG2wcMBAIDPQxrDBACZgAfDbgKwf2WA0gM3AemAQwCLgVEB38EbgL/BHIETP8WAb4DigDcAX4DeAR0AQgAQgOHAdH/UQBiAZ3+6PxyAOH/Rvtt/fz/fPox+Rj8cPl++OH8p/lz9ef4P/rU9u72t/n69Ej0rPqd+Mby/vW5+2b5EfSr9s79XvrK9Xr8b/5l9tf5VwKw+nf21QB1Ajf5BPsqAyIBnfwNAO4DXAFf/sj/twJNA6v/4f1iBY0HX//T/q8FaAQX/pwBawcjAgn+CwWiBun/ev+lBSUFyv+YAuUC4f5LApwE8f+u//gDNgHp/eMDqARh/C0BsQc0/2b9mAMQACz99QEfAKT9mwD6/lr9QQA4/wn8N/6//qz6evrR/sf/GPtK+kAAlwA6+0H5z/6kA+X7zvhwAE4BlfrM+1cEXACi9+H+SgZf/Bn6hwS1Awr8a/7vBCgC1vz2AGwGkf8c/5EH7QU3ARoCiAO7AeYDBQTSAUgEiAQeA4EE2ASyAbEELQjUALv/UgkEBZ78EgRMCKkCAQAVBcQHTQB6/hcGdQYEANMA/QUmA6z+LwLqAvr+6QC6AmP+y/yCASoAHvm8+9sBav66+VX87v1I/F38OvyL/EP9e/2u+9T62fwz/RP+pPzx/JoAY/0E+oD+GAAZ/fz77vtf/3n+OvxE/N37BP/1/bj6cfxy/h/8Qf0g/oP7Rvze/s7+k/pi/Hr+wvsM/ED+FP8U/Qr7p/27/+38MPxu/WT/1P5h/JH+Tf/x/Hf+//8JALD/fP4mAUUBQP5bAKYC3P+y/6sCmAG5/1UBVwN9AHL+cAIQBCf/eP5bBLIDv/6WAKQENQMm/6gCHAflAIH/3gRfAt3/tQMLBUYCCQApA8MGEQIu/9YDqgYZApT9IgMbB+r/wP1GBC0F2f+a/zgEKwMuANQBTwKQAMkBsgPnASD/GQKVBAkBDAGMASgBCwO/AJf/pgGB/7r/7gC+/VoBQANV/F78RAE/AQr9YPyIAGkAVP5T/pP90f9SAuP9/PxSAZgB8P2k/PEBmwHz/A7/FwJRAQj+8fxyAikD4PpB/XADff9h+1L8NAK6ATT5qfxgBXn/jvlh/nYBHP8p/NL9yP9x/5r/DP6M/dP/sAH3/lz7pQAkBW78Wfq/BHUDQvuQ/dIDWwD3++8AmgIh/xX/uQAN/zn+YwDb/6T+1P/n/zj+1v7EACH/3/vu/s0Cwv4c+yn/+gFD/r37of31AugBuPlx+zkEUQID+YT8iQYrAtD4vvwQBu4C1/n2/DkGhAH0+Hv/ngUAAAr8iwDYA9YA2P0mAD8DEwEp/8cBNgOmAFcAgAArARwFrAET/XUEIwdV/Tz99gbnBdT9dv3mBG4GE/1n/NsEBQSP/aP+9gNUAn391P+BBPr+ifxiA28CUf1w/8ICUwEf/o3+0gOmAkH9rf8JBeL/RvwQAwYBu/08AjICvP6i/4MBIgDL/lABQwJ8/v/8VwEeBHX9MvvWArYD5PyD/BgDSQMX++f65wUgBSP3KfqvCMAChPbt/LkG4gCp+TT/RQM6/qD9pQEc/qj7nQCMAob+cvz6/3YCYgAE/Pb8sQJvAF787f9xAcL8Uf6DBD/+uPkTBFIFm/q1+RoC0ATC/Iz51AHFBbD+PfvEAQAAK/1LAj8A+/3G/9r+dgGzAcj7O/5iBBECUf0z/Y0A+AFE/jb9uQEDAuv9If/9AsT/EvwjAYAD0v2P/QcDmgLY+4z8kgTJBD39mPzDBIkFlP2N+7QCAgX+/oH8hQBjBJoA5PxeAp4DXP52/xwE8AFs/BH94AB/BHgBJ/tX/ygGXgJr+23+vQV6Asn6jf9PAzz+Yv76AS8DQgFD/iQAxAOMAWz+Of3b/rcDLQHJ+3UA1wQAAIz+KQSBATD+XQIB/wT9YQFJAgkBIv0H/IoE1gZo/Cn92QRXAUn93/6MAK8Bw/8a/Gn/wAN1AZD/oQA0AOIA0QHt/IX9/QORAKr6x/4MBKIBm/2c/oUDhgHn+t79xQOI/p35LwCaAiT9pPyXAesBFf7w/pUBJwAo/xD+i/zb/W0AkQLb/Qj8YgMPA6/7v/2TBHoA1Pmd/ZECIwFY/ur91wDVAYABNQI7AFj++P8PARv+lf7lAE3+af9TAykAWv5iA/0Cc/0J/nP/d/23/ur9hfvtAZEFpP0a/awEWgIm/ff/0QGx/sb8MP1FAMABa/wH/UMGdQOM+q3/AwZF/q34ZAADBCL+BfycAZMEG/9h/hEEKwS9AL/+Pv9VAWIAM/1l/scBQADp/S7/0wD5AXj/2/sZ/6IB3f0R+rn8zQBp/kD8+f2CAT4BfPsY/HoBOwBy/MX9Cf+4/dwAigL0/0gBUAOrA+4DrQKfAeoClARPA+sAzQK6BdsGuAaBAyUCsQNNBK8CFwGp/0j7cvyKAzIBP/dq+LICAAGb9+r1TPky/GL5G/U+91r6w/s4/G38If7C/iQA8AFW/sP7IwGKBYEBZv3TAmcJLAdhAlUElwhcBuEDPAWXBFgBWwHGBH0DOgCsASEE8QOvAeH/ggJEBKX/8P57A2kDxQJwBTwFHwYNCb0G6AWzB20EawImBYIDtv7b/cn+kP2y+l75Efrk+CvzlvHl8ynvMOuB7QLuIOuZ6nHte+7U7N3s6/Fg9vzxZO769rX+pP18/MH+dASnCz4PnQ5REXIWzRcAGZsa8xkdGBsY+Rp/GgUV8RJzFbYUsw/IDVgNegnwBrUGsgabBNQBSgGQ/7r/nwEv/z77ffrN/Gz8hvaB8qL0kfac89Xwu/BP7vLr4+zY7Jzp3uZ06GbpfueG5xzpaOqV6pXqvuwj7pLtu++r8nzyVvS/+Pf5efr7/KkBcwaUBAgDEgqqD7YM3whtC58QLBNaEVkOshHxFnUUPxFfFZ4YgRXjEkUU+xVwFJ0PbQw7DucPEAyZB3EHyAccBmgCy/7K/tL+qft0+eb5oPlj+DH51PoK+zn7w/sD/ef+8v/q/1X/vgAQBBIF8gOdBA0IZAv/C10L6QxsEHoScBI4ExgWIxiBFiUU7hPfExUROwwWCbEFkABi/Hn4lPQr8BvsVeqD5wPje+B/30/e6Ns02Rzajt2V3kfe4+GI5xDqIuxo8LHzLfYk+mT8Af11/58B5QJFBVsHCAhtCKIJHAuzCoEIZwdWB1wEBQCPAGUCjP64+dv6XP1k+pb3Hvsn/yX/n/4SAfMEAQcKCEkKnw7hElQTzBKLFa0YlBkpGnoaXRn1F74WBhVsEh0P6QuECN0EOQLS/yf9Dfvf+OX29fX+9HTyu+/c7t3uq+5v7evr0+y07tXvCfIz9Dv17/Za+b77yv2d/iD+xP4XAdQBjAHqAmwEZQRvAyoDWwS7BHwCgQCcAEP/QPww+8P77vtC+3P6Y/oo+xz75vkC+t/62/mZ+Fr5KvqR+Vb5EPso/aX90/0M/4YAbQFVAlcDpAPfA60E7wVhB9oH6QdPCX0KTAoICgkKQwqtCsEJcQcdB7UIFghOBVgEhQWJBT0E1AOKAz0C9QGpAuQBmgDUAKcBpAE2AWwB7wGRAUUB/gGlAqECWwLFAekAVgDm/5f/1v8cAKH+Afwn/Lr+0P7Z+4n6BPwC/G35ePi7+XP5bPd69kD3xffE9wP49Pf99zX5nfqe+oL6MfyR/u7+CP5a/6YCPgTEA+YD0gRyBaUFTAZ0B+IHzAcoBzQG3wbfCAQK+Qm/CewJ4Qn6CBkIFQhAB/kDxQAiAK8A3/+1/bn8Lv0v/cf8sfwx/Pb69vnW+ez5jPlW+dL5evoB+4D8Cf+SAN3/D/5U/uUAwAGk/+781/sB/S//HgDS/rv9eP7J//IAhwHqABn/Hv6B//sAVQB5/2gAuwGUAc4AnAHXAtEBrP4D/af+Nf/g+yH4svdG+Sz6ofmn96j1vPX798n5Kfk598r2h/dE98v2E/fZ9j71KfSL9Er1zPUq9uP2QfeO9075a/tl+6/5fvk3/P/+u/6U/Q7/ZgKyBIgFHAZpBkcHLQmmCoIKCwn4B4IIyAr0DEQMvAm4CYYNgREIEp4Pow11DnwR0ROHFBMV5RXFFx8bkR3uG2EXhRQQFRsW4xI3CwAF5ASHCNIJ4AcgB8UI2gmjCd0JLgt+DNML7wk1CuMLQQvuCe4Lww4PDiQLUgoPDQQTox3VKHQtDy5qM989Q0KXOW8pYxuXEMcCsPLB5t3cJc8TxCLGY9Di0V7GSrz4vPXBJsHBuUuzs7OhuevB7c1x3HDn4u1a9swDPg9PEQgNTQqOCeEHtAbXB6MJUAkdB6kGcQjOBj/9I+6z4TrdSdrj0U7JlMgV0HXaWeRe7X70ofoKAvYJpA2VCpoEYQFpA1UHAgm4CKEI8QpHEuscAiOqIDwbjxnWGnAZMBPZCfgBh/8WAcQBNAD7/zECQgX/B8sItweaB+4KkQ8iEkEUchkzIM4kRiijK8Ar3yiOKIYpBCQDHl8rRUv7XkNYcFFtYat1d3ARVAE5cyeaEUnyltYHyKi9Ja4Lpoa0NcqsyUW13qyJvpbPk8R4qiug0avUuWzA08mP2q3qtvhkCxYgQillIpkYCRgwG9MSuf6M8Tf13/zl+gD2oPn9AMUBaP1n+tH4VPMf6SXjmOWw6JrlveFF5z/yiPat9Yb5eQEmBWUBdv66A3IJMQZF/04B2gtiEI4K3wWuCMgM9AtgB7oD9wEX/076Afkr/gMCb//e/aoFqxIGGYIW4xNjF+UeHCJDHLwTEg9BD/ATSRh8FX8NqgvHFMYdsxskE0YO/hCiFroVAA3FBeEFvQZZCHIaZjyIUiJO8Ua3VSxrzWakR0IoyBRIAvjnktD6xm7BSbW3rbe6vNBf02S/MLKSvQrKVby4oQybDKsat9a13Lva0qfqu/m6COMbkSiNJi4ehRw7H+MX1QIW8a3yxfty9+frz+4G/1UHSAH9+lH+KwGh9wvpfOQI6lbrFuZw6Kr1mgDfA8EIOhIUFwMS5gmxB8EKqQpXA8T+PQb0EMUSCRBSFIYd1x5dFDgIXQM1Aq38tPPZ79vwg+8H8Hr7AQwnFEkTWBKPFUIbmB5fGsURaQ0tDqQNIQl4BowIEQ0KE/4UAhAxDfISXBkeF6cO+gioB9IFBQQSA2YAbf1GBsolMEzJW8hRlU1mYfBzqGhBSB0s6BijAmfo2NiC1XbMRLl2sOTA/9VV0rS9ibcgw+fDIK85nh2mI7ZmtlWwLr2820v09f8VC3MZCiGzHvAdOCSuJMcUe/8m+OoBbgl1AAPzd/FB+hkAC/239iHwg+ct4GDdBd3d3JXdnOF86DnyZP9nC8sSpBdeGyAbkxaFEhsRQg4DBzb/9/z4AegIOAveCEUI0Av1DScLLQOJ+Fbwj+yg6xfqFOeO5mPsmvgnBfEKDA1/FLIe2x+bF9YRZxMbFW8R/wsCCg8KaAm4CakNChTFFcMRgxBPFBUWMBCbCLEImQtzCDoCWgAIA98CPgUDHSpDwlciT2tEq1O9a8tpc03vLz0dvwvX9UjnbeRL3IHFCbSYv2DZqttIwumvALlAxHa3jaIUoautRq53pfivMNCX6eTv5fUPCvIeuCPhHRgb4BudFbcFSvqI/nQHGwPE9hL3WAS/C+EG9QDz/jz4puu+4mzgRN+n2qzWe9tR6Vf4KgGjBocQbhugHcAXZBOlFE0TsAjk/IL6JQAbBMkDGweLDzkUWhEbDrUPmA9MBz/76vPZ8hTyWO5n61jukfZ8/scEWQz8E1QW3RLHEToWuBf1EXELawqfCggFXP9tAjULpxCCD/AM5w2mEO0Qjg6NDa4NmAhV/3D7Xf+UAJ78kQg7LH1LRU5rQ1NL22TQbbhY0DukKeIatQIJ6Y7fvt78z+K3ALSvy3/e9NBZtkSzx8OSxjq0rKTOpRWqSqdfrDnDF9rD4gLpHf3LGNYmASTMIK8kaCQgF2AHCQVaDGwKj/w29aL+tQsKDcsGzQRNBdf+ufIs6mHnruK22N7Spdmi6aH2r/pm/1gMWhquHxYekR7zH9cYsgv9BAMHCAgvAwQAUwY7Ee0VOxRxFIYXBRaBDK8Czv94/aTzy+de5LPpTu+z8JPziPxMBoMMlBHNFwUcuBkFFLkRMhLkDiUGSv6U/owFWgpFClELsBCvFaIWnBYNGAoW6Aw+BG4CFwJ5+gHxwPynIUtBqEOmOOBDhWShdMNkuEmpNrAmnQ7P9hLrDOHwyS6vyquow0jWP8zCt1u3xMftzEy/yrBWrdGrz6THpJ209cYLzvvRleN4APIViB5qJBwsqS4gJ3EdQhtHHCITgP+Z8or2jQC3AcX7Wvpw/+sCAQCc+Zz0zfDR543bgdhN4r/rNeka5krzlAnmFQgWPRg6IbokyxwtFEITnBLXCO/8Wfx5BVYLdAlzCGUOVxVoFUwQfw3+DPgGj/oq8T/wtfB66y3nO+yp9rP9ZQBIBbIOOxdRGtQZ3xnpGTQVgAvgBFEF6gZ/BP0A1wF+BZYJ5g+8FvYZ/RcFFIkSpxGnDRMFuvyiBA4fqTQENXYt0ThZVTZlf110TfVAvDPoH1MN9gMc+aLdmLvPsMzDoNTVx6utIqqhv6fPwcmIuwG2WLbmsjSx8rnkwyXB37n9w5Th4PpfAJMArA1iIXkpsSO7H8kjfCNMGP4LmweZBsUBxvv8+df7QP1J/CL6Z/nf+iP6avRD73TvtO8l6p7kNOnH9CD67vf1+UwE4g0+EKQQ1RSCGIgWIhNvE7oUwxHHC78JhA0TEYkPeAsDCisLgwzuDFcLswZi/5b41PT38031nPWW8s/wqfWh/rEEmQdfDaYUABb8Ep8SKRQ5EU8K8AcJC3UL4wdNB+cLXQ9BDxwR5RXoFyAVTxHlDm8LAwtZF08pvS8+KKIj8jHoRnJLWj/XMQ0r1yODFukKegNX9fLcKMogyx3VCtNkwauyfbdVx07Occbhu8S7d8D5vyW/fsNZx2zDR755xpfZqebG593o9PS2BSAOOw7rECIYKBolFCIPOBHAE84NcwN//48CWgSaAMT7pfvk/Vn97/uu/fgAQQGz/u79ogADA3YB2v07/MD9t/80//r9Ef8fAT8CIAQ7CCYMaAxdCi8LDBAfFHcSaA3wC8AOmw9tC68G2wTAA/kBBQG7ARoC6wCBAF0C5AVxCV4L7QsODFwMJA3ADR0NFQu9CGwG/APYAi4DHAMRAo0BXAO0BRsGIQeVCrAMBwpCBkEHGAuyCsMF5AXiDqsWSxahEx8YYCPaKZwmRSGNH7gepBlCESMLZAYB/efvlueK5xXoCeG/1Y3RJ9ce3IvZTdSB01XWrtaK1FPUx9VP1fjRVM8+0KHSrtPJ06TVtdoL4VzmWetq8qf73ANTCfcNnROnGGUaQBrnGrsb5Bo3GDcWGRamFWAUKRRJFQIW8BUFF/8YkBiqFCYQLg1ICgcGMwFd/DP4IfbB9vT4vPr1+9H9HgAYAvADEwZqB0MGkAP6AZQBIAA9/dH6tvnX+K73Hvc39xT3S/YD9eLzi/ML9F70KvNa8VnxX/Ov9HvzEfKY8oDzV/NX88n0C/ZY9QL1qvc1+8v7MfrF+mn+EQL5A00FhQcjCm8M0Q49ERcTRxRUFcUWoBivGrIcmR6oIHQjyibSKMwoNCjBJ5Im/yOYIOkcjRhlE1kOGQoVBu0Bcf44/OL6gPkN+IL3kPfL9u30A/NV8RrvEeyu6L/l1eOV4lHh4N/Q3obegt6V3kzfu+A84lXjjuR45u/oket87j3yHvZI+Yn8jwDKBAUIDgrcC5QNgA4ZDs4MfAvJCQkHtwPZAI7+C/wJ+fv1lPPh8SfwOu5o7Ovq1OkN6RPpGep4663suu1r7y3yK/Wp99/5ffx1/ysCXwQXBp4H6wj6CWsLSw3UDk0PVA+CEKES8BPBEw0T/hL8EgISmBCzDw0Pdw0oC8oJwgm/CbgIlgeHBwUISghACCsIKggBCPMHUAjKCBIJ9AiKCC4IQgjxCJkJlgkzCSYJbglfCRcJRQnrCWAKHwqxCd8JJAqOCVQIYgfEBsYFYQQoAy4C5gDx/p38gPrT+FX30/Wo9EX0aPRm9CP01/NJ8yDy4vCV8BHxEPE78Jfv3u9l8F3wLPCt8KnxAfKb8bPxw/IO9Ob0f/Uw9qn26faM97X46Pmp+hH7gPv6+3/8Nv0r/iX//f/XAKgBZAIFA2IDmAPAA90DBAT0A4AD4gJgAhwCBAICAgQC7wG0AXcBiQHOAdcBkgEiAZMA4/8r/8r+vP50/sv9P/1a/f39gf6V/pP+4v5Q/3P/ev++/zYAtgA9ARcCNgMgBKEE+gSBBQ4GPQY3BlUGeQZTBvEFxQXzBSgGEgbdBfIFOwZ0BpYGnQajBqAGZQYjBiEGOgYuBgoGQwYVBw0IeAhhCFwIcwhFCLAH2wbbBWgEjQLoALb/nv5k/VP86/sT/BL8mPsH+4j62vkL+Tn4PPf59ZT0dfPu8rzyU/Kg8RjxHvGd8S3ynPIq8/rzyPRW9c71Zvb89l73tvda+Dv5+fmL+k77hfzm/Qn/8v/GAHkB/gF7AiQD2gNYBKkEIgXgBaYGWgcRCNUIfQm+CZMJRgkTCfoIwghLCMsHdAcnB7sGSgb5BbYFTgWxBAwEgQPuAkcCvgFxAS0BpwD6/5L/l//f/0AAngDSANYAwQC1ANQABgECAbwAZAAYAOH/uf+s/8v/EABdAJIAuQDyAD4BcQGTAcgB6QG2AUYB6gDaABgBeAHOAfoB9wHwARUCVAJkAhUCgQH1AIcAHgDL/6z/rv+j/3T/O/8f/wX/xv6O/n/+Zf79/Tb9Xvzp+7z7U/ua+uP5WPnt+JD4U/ha+Gn4H/iY9zL35vZ79gH2yfXm9ff1uPVr9Xb17fWM9hL3mPdE+Mz4Avk9+b/5U/q/+gP7Z/sb/Nj8Yv0W/lP/zQDrAYsCJQMWBBMFxQVXBggHswcNCDAIgAgOCXIJdglwCawJ7wnTCWMJBwnpCLsIOgiRB/4GfwbvBWUFHwURBdoEVQTTA5kDdgMbA5ECFwLDAXkBIQHEAHoAQAAKAPP/BwAfABYAAAD//xUAMQA6AB0A5P+5/8H/9f82AHIApwDpAE0BwwEyAosCxQLzAjUDeQORA2gDDgOmAkwCAwLDAYMBQAETARkBPgFiAXIBVwETAbMAOQC5/1n/G//h/qb+Z/4Y/rz9af03/R/97vx9/PL7kPtu+2D7OvsL++z6yPqL+kv6IPrw+Zv5N/nw+LP4Sfi590D3B/cH9xX3IPc591r3fffU93D4Cflg+ZH51/lD+qr68vo++7L7PPzC/E796f2O/jb/6f+xAHAB7gEhAj8CfQLYAjEDcQObA8AD+QNdBNsERQWDBakFzwXxBfoF3wWvBYcFbAVIBQgFrQRNBAsE8APeA7gDbwMLA6cCXgI0Ah8C9wGZATgBIAFDAVMBOAEiATsBdgGlAb0B2wEMAkMCfALHAhYDNgMkAysDfQPpAyEEEwTmA8EDqAOBA0MD9wKkAlYCHALuAbYBbwEoAfgA5gDTAKMAXwAiAAIAAAD2/8L/cP8r/wf/9f7d/rn+nP6R/pH+jf54/kL+8v2g/V79JP3W/GP85PuF+1D7I/vm+pj6Svoc+iH6PvpC+iD69vnm+fT5//nx+dv51vnp+Q76Pfpr+pj6vPrn+j77tvsY/GD8uPwm/Yz90v3y/Rj+df74/nD/1f80AI8A7QBiAe8BdQLUAgcDMANuA70D9AP0A94D5AMHBBgEAgTZA7cDowOKA14DIwPOAlkC4AGKAU8BCQGqAFgALwAVAOL/nP9Y/w3/w/6f/rf++P4+/43/CQC2AFsB0wExApIC+QJaA6kD0wO/A3oDPwMqAwkDpwIsAvUBIgKBAtwCOgOzAzUEsAQ2BcwFRwaBBo8GsQb3Bh8H+Qa5BrkGBgdkB6QHywfoB/cH8gfvB/UH0wdVB5IG3gVJBYIEUgP1AbcAhv8V/ln8lPrq+D33hvUM9PPy5/Gl8G7vpO467tDtSe327BXtau2j7dXtRO7l7m/v0e9F8NnwTfF+8bTxQPIP88zzW/T89OX15Pav9174KvkT+vT6yfur/LT92f4BAEcBxQIsBC0FAwYJBxgI1wgxCWUJyAlzCjoLGQwwDV0OYg9cEH8RpBJwE8UT7RMpFEIU3RMPEyASHBHuD6AOSw32C3EKmQjKBnIFVwTrAjcB0v8Q/67+P/7O/bL95/0P/gj++v3L/Q39pfv0+TD4/vUc8/jvNe316vzoYOeO5q3mhOch6evrwu+y8xD3O/q6/RABTgOGBLgFSAeICP4IHgl4CecJEgpMCjcLyAxcDscPkBHvExwWNBdqF6oXARhjFyoV7RFfDlAKaQVXADz8Pfm29rP0MfSd9QH4WPoT/VcBCwe2DHIRqxWrGYIcMB0MHB0aeRd+E3oOswmVBRoBfft39Srwcesq5hfgaNof1uHSEtBCzm/ObtB309XXct7G5tbufvVb+/wAdwWgB7MH3QaGBRMDQP/c+vr2xfPp8PLuHO+F8b30wfcu+5r/4ANaBvEGzgZgBv8EgwLo/+39G/zl+fP3LfcJ9xz2OvS98mryUfKI8eXwrfGS8271Lfdt+d77mf2//lEAgwJTBBcFlgXyBvwIegrxCkYLPQxMDaYNoA0GDsgOag9FEBESVBS2FeAVzBUAFrAVCBStEVQQFxGRE64W0xmtHGMeLR6YHN4a9xjZFeQRCQ/tDe4MDAu+CXIKKAxRDXoO2BBWE6QTxRE0EFIQ9RAxEWMSqhUHGXAZ4xbpE6IROg9DDVwOUhM2Gfkc7h4AIRUjayPNIUAgFiDmH34d4hjUE60OwQdr/oL0ZOuT4XzV2siRvn62oK7Gp5ClS6nTr5u1Zbprv/bDJsZaxj7HL8qczb3Px9D10GHOc8d6vuq3HLV1s/2wHq8JsK2zxLgyv3LHjNCU2ELfYubl7u72O/yH/28DaQgfDF8NDQ79DzgSExMEE4QTcBS9FPAUoxa+GRMcaxx1HEMeByFMItghFSJ0JHknZym+KmUsui0yLtsumDArMtQxCjC3LrUuPi9lL+ku/y0hLbIseSy3K8wpnyZqIukdIhr6FiYTCA6wCKUEHQJAABn/o//9ASoFGQj/CaEK3wqvDB8RkRWyFZMQXwknA1r9pPXL68jgjNX9zMTKzs4Z1NXVQtW41unaKuC85g7wU/vHBOcJWgyeDpwRSxbrHWgoejNfPC5DqEpJVPhdLmTpZXxkRGBtWGNN4EHPN3AtwCAwE2sHR/1v8vTmRN281dvNLMSxugyzOKufoXOYwJIzkPGNp4t6i3+Nm48KkcuTbpl7oCOngK0RtAq6KL6awLDCVsVSyL3KfcxsztnQ0NJm067Th9Xw2H/cC+D85E/rE/Gc9R36fP+hBPYHNgoWDcsQXhQnFwMamR0PISckwid7LIwxlTWgOKM7Ej91Qh1FGEdYSMhI0UiBSEFIvUh/SXpJW0j9RgpGHEUoRE9D/UGwP788kTpHOUk25TDbK4Yo5yX1IsQfhR0pHDQbyxy3IX0mCCieJ6EpsC4PMYotiidOIgMdqhVBDcQFbP3K8p3pqOWm5NbgS9mu0wTTbdMr0SbNmMl8xnjCVL4zvC27rriEtSy14rjIvQfBysPqyHLQide73HnhuOYx67/t0u8v84L2gvdd9uv16Pez+QP50PdO+Nn5Wvq1+bn5u/k098nyp+9f7m3sMuig4/Ph7uIK5JrkkOUb6PnrJvAE9TT6kv5KAtgFoAkzDRYPLg8fDycQ+RFCE08TSRMkFAgVhBW+FawVORW5E6IRShAHD4oMmAg1BAEB6f4J/bT7G/vW+uX62ftN/nsBoQPPBMsGTgoWDg0Q9Q/5D2MRTxOdFIUV3hYHGPcX5xdDGeEaxxrXGNEWsxVIFOcRhg+pDbcL9QinBmkGOQYvBNwBJAFxAhYEfwTbBBAGFghzDDMT1hhwGsYZ3xt3IQ4lYSO7Hhka2BW0EPUKMwWI/YrzV+tD6Gjn5OJW2qDT49Gk0QnPvspcx2DFVsNZwQbBeMHbwGnA5MIkyYfQCdYy2rTfoedZ8NP31f1qA0YIvAstD8QThBgPG3kanBkyG+4dRx/gHgkeXR1ZHC4bUBoLGUIW+hELDqoLXgmGBScBb/76/cn+cf/b/7YAOALnBDMIvQpADCINNg6rDxoRNBLcEdEP5A2ODRkOgg1cC5YJUgmQCdQI6gaTBKYBH/4c+2b5JPiX9fDxTe+27r/uvu1z7B7se+xw7W7v2fF88y/0V/Ua+G/73f3v/jT/GwB7AgQGVQnXCvQKaAvMDH0OXA+hDpYMDwreByUGJAR0Aaf+v/zw+7z6U/i29jT3s/d49uL03fTS9er1tfWH9mH3lfda+Qv/4gY2DNgNsA/8FKYb5R5qHf0Zlha+EisOgwk4BOX8o/Qs78Ht0OzU6PHiE9/e3vffDN9+23XX1tSY0/7SBtMV01HSI9LV1M/a4uG+5/HsafN++5AD7gmGDjoSYxVNGEkbBR7WHxQggB/YH38hGyM9IzgiFCFjIMsfWx7HG/cXcxMsD1cLwgfmA4z///ue+kb7uPxI/W796f6uAVkFvwjXCgwMrwyKDcsORw+wDrwN5wxkDPELTgtmCqUI2wZJBmQGpwXvAjP/TfzH+kH5o/bK8yTxme6T7PbryuxB7X/s+eso7cbvvPLE9O31Tfcx+eX7mv6AAAQCSAPaBDcHLwoMDQQPwQ/0D8AQExLpEvoRZg+EDOEJNgdHBHEB2v77/Nr7vvp7+TX4B/jj+EL5+Pis+HL4O/hj+P/4D/r8+uP7wf6CBKoL0hDsEjgVIxqJHyUhUR7OGVEVERCuCZEDc/3e9d7toej/5iPmAuMy3njb19uE3Knac9aF0r7Pic38y5rL48slzIvN7tE92ePgQOcx7RP08/thA3YJEQ5xEY4T1RS2FisZzBqlGi0aixv7HXUfgB/bHoEdJxuMGF4WXhP7DVwH2AGS/pL8X/oS+LD2BPe1+Bf7tf04AFwCIQRhBjIJcwsLDH8LqgsKDWAO1g4aD2IPZA9hD8MPeRC0D4wM4Qh2BscEBgLi/b35rPaP9EnzBvMS817yRfGP8ZLzg/XX9U/1wfVx94P5Mvu1/JD+xQDLA84HyQufDrgQ3xL9FLQWbxcrF4AWyRWrFMISchBmDqYMcgoqCJUGCAXgAn4Az/6N/b77rvkq+Af3wvWn9DX0qvSn9Vj2xfbd9xL6vPzy/rUAPgMeB9oL1BC8FDoXJhkTG4wcAxznGPwTVw6mCFIDMf4R+PvwverZ5qzk/+EY3i7aQNcm1RjTg9DhzcDLMMqMyQjKuctizrLRDtbN26bi1+nI8Bv3o/xzAbsFwgliDSQQ7hFoE2AVDhjXGrEcsx2EHmwfGSC6HwkeJBt+F6YT2A/yC3AHiQJK/pb7T/q3+UD5tfjt+L76Pv34/uz/LwEbAwUF7gZ2CSAM3A3IDjMQVBKaE1cTRRLZEM8OLwyUCUgH+AToAWv+2fuy+iP6xPiW9gL1ePRR9N/zEvMR8g7xnvA58ajyK/Rj9Qn3Ffp3/gMDigZECRgM/g6HEXMTuRRgFSUVexRTFGgU+xPjEj0Rcg/IDTAMZgrwB/EE4QHJ/rP7Ofmh99v1xPP18uXzW/Vf9qL3vfmX+9f8Tv7F/0EAuf91/0QAmAGsAt8DSAazCXQNaxE0FYEYhxrvGq0adBkzFvwQswqYBKH+NPhQ8r7t/unC5jTkeOJR4frf0t0U22fYENbm09bRiNCn0NvRCtT4153d0+PL6dDvc/bs/PYBugW4CD8Ljw1ED0EQMRGhEpoUohZtGBgaOxtXG5waCxlWFmwSpA2XCJID6P70+qr3TvVL9D30fvTt9KL1cPYM98b34vjF+XL6z/v2/WEAKgOnBqEKDQ6KEAQTTBVPFscVChTjEVYPGgzyCA4GLgOeAJL+Zf0N/Z/8v/vE+tL5uvhK98r1gPRA82Pym/LK84f1x/eD+rP9GwFeBGcHEwo2DK8Niw5ADwoQgRBTEOoPzQ8AEBUQqg/KDlINTgssCeQGfwT2AQD/Ffzj+Zj43Pck96f2pfb99sn35PjJ+YH6d/t+/Fv9N/5S/4cA/ADrAH8BcQIPA30DFQToBMMFbwdjCikNFQ/kEKAShBNuE9oSKxFeDRMIGQPi/kT6IvWJ8P3sf+rl6PDnGufG5SfkhuLr4LXfed653DHb99pF3JDes+HC5UPq5O7U87X4BP25AMUD0gXzBl0IpArEDBAOXw+dERYU7BV6F8wY9xifF2AVxxKlD8ILRweJAnT+zftY+iv5Dfik99P35/ep93T3Qvem9vL1zfVd9t/3mvq5/U0AGwMLBxoLiA0kDioOxQ02DNcJQAeNBJIBbP4j/Dz7FPvX+gv6HfnD+LX4Ivje9mr1C/TY8jvylfLU8831bvhx+6b+PQInBpIJ1QtWDbgO/w/NEE4RGRIGE94THBW1FhgYzxjpGL0YBBhzFicUOREwDmgLpAgiBlkEPQOKAjsCawKKAgYCPgHOAEYA6v48/Ub8VPzD/BD9tf08/0QBKANTBP4EtQXtBUkFNgQ6A08CKAEZAJv/wv9AAM4ALgHVAVoDwARpBKcCPgFoAJT+CvtC91P0o/HY7orsE+sT6mzp3Og36KbnTufs5rrlNeRY49niWeJm4lXj3+TG5gfpr+t/7njxfvTT9iP4Zvll+1r9rf6u/wIB8AJJBcEH3AlxC+cMQw6kDhwOnA0GDcQLJAoTCcEInwiSCOAIZgnlCVIKVAq9CewIKwg3BwkGfwX9BcsGjAcMCX4Lwg0bD8MP5Q82D7UNrAsfCTkGiwONATEAJ/80/qT9eP1g/Sv9Y/wS+4/5M/gg9w72D/W69Ez1lvac+Pr6NP0z//8AmQLDAycE0QNsA3cD9gOKBEUFugbTCMIKIAxPDUcOqQ4lDtYMTQvJCYwIrgcMB9cGFAddB4wHjwc0B3EGXQUkBMICYAFoAP3/4f8FAJYAeQFkAiQDnQO0A5IDcwNLAxwDFgNRA5MDwAMpBMMEzgQQBBcDKQIXAdr/l/6R/Uz9vf0a/sL9Jv33/Kf8V/tO+Qr3ffTy8f3vou5X7S7s1+tP7OPsJu0Z7Zjs0esy67fqJOqB6U3p4uk+6zrtku/W8eDzCfZQ+Bn6Avt7+xL89/wZ/j//WgC0AX0DdAUAB/gHlAigCPIH2gbABcEE7QOHA5YD2QM8BOYEwQVeBoUGUgbRBUYFDwUfBS0FQAXVBfcGJwjxCBkJyQg4CG0HWgb0BF8DGQJhAS4BcgHaAQgC/gHtAdwBfgGQAH7/tP5H/jb+cP7x/sn/6gAWAikDBgSvBB4FMAUgBSAFOwV0BeUFmgZSB/oHwwizCZEKAAvrCpUKNgryCYkJxQjxBzUHigbpBUkFrAQgBKMDKAOxAjcCmgHbACUAof9P//D+i/55/pn+pP6q/r7+1/7C/oH+V/4t/un9rv2C/T/94/y9/Lf8ufza/Pz8Nv2m/Tz++P52/5T/of9y//T+JP7u/I/7QPoX+RT4R/fL9q72nvZl9iD2rfXq9Ovz5fL08SzxrvCc8Abx1vHq8hz0ZvW89uL3xPhY+cz5YfoQ+9j7svyw/fD+UwDDASYDQwTzBEwFbwV+BX0FXwVfBdEFngZ7Bz8IyQg+CW4J6wjqB6cGTgUDBO8CbAKKAhAD5QPyBOgFcgZxBvcFAgWhA/IBTgBC/8r+3v6C/4MACQK4A84ESgU9BZoEhAMYAr0A1v9Y/03/9P9CAdwCWgRDBZYFkgXUBEADTAFz/13+8f3G/VT+mP8mAcQC1QM4BA8ELgPsAYwARP+Z/o3++v7P//8AWgJdA8QDnwMFA+8BlwB6/8b+if7o/sr//gA/AkED5QP5A34DmQJpASEA8P4p/vL9I/6y/nv/JwCPAJgAUwDd/wL/Dv5o/Rn9Iv1G/Yb9Df6m/jH/eP9N//b+pP4//r/9W/0+/VH9cP2O/b796P3Z/Zr9Rf3Q/E787fur+5r7wPsU/IP83/wk/VT9Zf1V/ST91Px9/GP8hvym/K38z/w8/b79FP4+/lz+dv5v/lD+LP4k/kj+dP6d/v3+pf9HAJwArACnAJUAZQAcAOf/5/8SAHMA7ABZAc8BJAIxAg0C0AGeAWkBIgEMATsBkgEaApsC/AJYA40DmgNyAyQD6wLHArsCwALxAkEDbgN0A0wDCAOnAgYCcgEXAfQADAEnAV0BrgHUAdcBpwFSAQcBwgCNAIIAuQAVAUsBbwGoAdoB6AGlAUkBEQHCAH0AVQA9AFcAfwCkAMQA1ADlAN4AqwCBAH8AdQBBABYAFAAZABAA9P/h/9X/p/9x/zb/9f7F/ov+X/5T/mf+oP7W/gn/Tf+D/4z/dv9W/y3//v7V/tb+Af8r/0z/a/+R/57/df8y/+7+qv5d/hP++v0K/hr+K/5C/m3+oP6j/n3+Tf4p/hb+7/3P/ef9G/5N/n/+yf4d/yz/Bf/f/rr+hv5E/ir+R/6M/u7+Vf/C/x4AVwBiADkADADl/6b/ef9//7r/AwAmAFwAqgDIAL0AkwBdACgA6P+9/7j/zf8DAEQAhwDRABQBSgFZAVIBSwEwAQ4B8ADlAOgA9wAkAU0BcQGNAY0BjAF3AU4BKAH+AOUA2ADZAPkAJQFSAYABpAGpAYwBXwElAeQArgCWAKEAwADrABsBQwFXAVkBOwHqAIwAQAD6/7r/rP/w/0YAjwDlACwBPQEQAb8AYQACALT/hv93/4j/2f88AHkAogDAAKsARwDP/3//Qv8W/x//Xf+2/xMAcAC0AMgAvQCJACUAtP9g/zL/Ef8Y/2D/x/8VAEQAXwBOAPv/hP8g/8j+hv52/pf+6v5d/9D/GAAqACIA9f+U/yD/w/6s/r/+4P4y/6P//v8kABkA7f+i/0T/7f69/sD+9v5O/7D/AgAzAEQALgDl/5D/XP80/xr/O/+M/9X/AAAqAE4ALQDW/5L/Xv85/zf/Rv9v/6j/6/8fACIAHAAsACIA3v+s/8n/+P8DAA4ARAByAGoARgAVAO7/5v/w////FgA7AGMAbwBfAE8APQAKAMT/ov+4/+3/IwBsAMYA9ADoALQAcAAXALz/mf+h/9P/FgBKAIQAvADoAOQAmAA4APP/vf+F/3//z/87AIMAqQDTAOQAtABaAAAAvP+Y/4j/nf/S/x8AiQDlAP4A0gB8AAcAmv9X/1D/k//s/1UAvwD4AAIB1QB6APz/hP9C/yv/U/+u/yQApQD/ABsB7wB+APb/gf86/yP/Of93/8f/KgCLAMoA1QCwAGoA9P93/yv/E/8w/2b/wP84AJkAuACaAF4ADwC+/2j/Lf8r/03/mf/6/1YAoACqAGkABQCy/3P/Q/9A/2z/r//0/yYARgBKADQABgDG/5f/fv93/3f/if/L/xIAOQA8ADAAKAAFAM7/m/+A/3f/aP9t/6T/9f8sAEAATQBYAD0A9f+9/6T/iv98/4n/rv/e/wQAHAAlADAANgAbAPf/5P/j/93/xf+3/7z/z//k/wAAKABUAHMAXAAkAAAA5//A/5j/nf/F/+L/8f8MADAAQgA5ACIAEgAHAPH/3//c/+H/6P/i/9//6f/v//r/DgAzAFcAXABEACAA/P/a/77/r/+8/+n/EwAvAEgAXABYAD8AJwASAAAA+//1/+v/9/8PABcADQAHAAkAEAATABEAEgALAP3/8v/0/wIAFgAoACwAKgAmABEA7//V/9r/8/8LACkASwBZAEUAJAAQAPf/0f+0/67/y/8GADoAWQByAHQATwAfAO//x/+4/7L/uv/g/xAAMQBDAE4ATgA7ABMA6f/G/6r/q//N//7/JAA8AE4ASAAwABEA6P/C/6z/qf+6/+b/JQBgAHYAZgBQACMAyP98/2X/Zf9+/8f/IgBkAI8AnAB/AEgA9/+i/17/OP9L/5T/7v8/AIkAsQCgAGwAJQDU/4L/Tv9M/27/rP/1/zYAaAB+AHoAXAAlAN7/mP9x/3L/h/+s/+n/HQA6AFsAagBLABkA4/+t/47/jP+d/7r/5v8cAFQAbwBcAD4AGwDh/6//sP++/7n/zv8AACoAPgBGAEIAJwAHAPL/4v/N/7//xP/T/+f///8bAC4ANAA9AD0AJQD//9b/s/+b/6b/0v/6/x0AUQB4AHYAWwAyAPv/w/+T/3z/jv+5//L/NQB8AKkApQB6ADMA5/+o/3j/YP94/7b//f9DAIEApQCjAG4AIgDd/5b/Yf9c/47/3/8rAG0AmQCXAHEAPgD8/7b/jP+E/5P/vf8IAFoAhQCOAIgAXwAVAMv/kv96/4b/sf/w/zMAaACJAIoAYQAkAOP/of99/4L/qf/o/y0AYwB7AHEATAAcAOb/uP+j/6T/v//s/xIANgBTAFYARAAoAAMA4f/H/8H/xf/I/+P/DgAkAC4AOwA6ACoACwDl/9D/wP+2/8X/4/8AACEAPABDADwAJAAAANr/vP+0/7z/1f/6/xgAKwA1ADUALAAWAPX/1v/I/8P/wv/L/+H/AQAhADgAQQA6ACAA+v/T/7r/tP+6/8j/6v8UADkAUQBPADMAEADr/8X/rv+t/8L/6v8RADYAUQBSADgAEwD1/9v/wP+w/7X/0f/6/x0ANwBKAEYAKQAJAO7/0f+4/7H/wf/h/wQAKABCAEoARAAwAA0A5f/E/7b/uf/P//b/HgA6AEUAQwA1ABwA/P/d/8j/w//P/+H/+/8YACwAMwAxACQADwD5/+X/1//X/97/6//9/xIAIwArAC4AIgALAPP/3//W/9r/6/8BABgAJQAsACsAIAAIAPf/7//l/+D/6v/6/wYADwAYAB4AGAAKAAMAAAD5//P/8P/y//L/8P/5/wkAFAAbAB0AGQAOAP7/7v/m/+b/7f/4/wYAFAAbAB8AHwAUAAEA8//m/97/3//s/wAADgAXAB4AHgATAAMA+P/x/+r/5//r//T//v8GAA8AFwAZABMABwD6//H/7P/r//D//P8GAAsADgASABIACQD+//b/8P/u/+//9f8AAAgADgAPAAsABwAAAPX/7v/v//T/9//6////BQAJAAoACQAFAP//+P/0//T/9f/5//3/AAAFAAkACAAIAAUAAAD8//v/+v/6//v//v////7/AgAEAAAA//8AAAAA/v/+//3//v/7//v//v8AAAIAAQAAAAEABAACAP/////+//v/+//+/wEAAgACAAQABAADAAIAAAD9//z//f/+////AQAFAAUABQAFAAQAAAD8//r/+v/7//v/AAAEAAUABgAIAAcAAgD///3/+f/2//j//v8DAAgACQAMAAsABAD+//z/+v/1//n///8DAAcABwAGAAQAAAD9//v/+//9/wAAAQAEAAgABwAEAAIAAAD///7//f/9//7///8AAAEAAwACAAAAAAAAAP7//v/+//7//f///wIABAACAAIAAgD///3//f/+//////8BAAIAAQABAAAA/v/+//3//v8AAAAAAAABAAEAAQACAP///P/+//3//P/+/wEAAwACAAEAAAAAAP///f/7//z//v/+////AAACAAAAAAAAAP///f/9//7//f///wEAAwADAAIAAAD///z/+//5//r//P/+/wIABQAGAAQAAwAAAPv/+P/3//n//P8AAAMACQAJAAYAAgD+//r/9v/2//j//P///wMABwAFAAQABAAAAPv/+f/6//v//P8AAAMABQAFAAQAAgAAAPv/+v/6//v//P8AAAMAAgADAAMAAQD///z//P/9//v//f///wAAAQABAAIAAAD///7//f/9//7//v8AAAEAAQABAAEAAQAAAAAA//////7//v///wAAAAAAAAAAAAD///////8AAAEAAQABAAEAAAD//wAAAAAAAAAA//8AAAAAAAAAAAEAAAAAAP////////7///8AAAEAAAABAAAAAAAAAP//AAD/////AAAAAAAAAgACAAEAAAAAAAAA///+////AAAAAAAAAQADAAIAAAAAAP///v/9//7/AAABAAMABAAFAAMAAQAAAAAA/v/+//7/AAAAAAAAAQABAAAAAAAAAAAA//8AAAAAAAACAAMAAQABAAEAAAAAAAAAAAD//wAAAAABAAEAAQACAAAAAAAAAAAA///+/wAAAAAAAAEAAgABAAAAAAAAAAAA/////wAAAAAAAAEAAAAAAAAAAAD//////v/+/////////wAAAAAAAAAAAAAAAAAAAAAAAAAAAAAAAAEAAAAAAAAAAAAAAAAAAAAAAAAAAAAAAAAAAAAAAAAAAAAAAAAAAAAAAAAAAAAAAAAAAAAAAAAAAAAAAAAAAAAAAAAAAAAAAAAAAAAAAAAAAAAAAAAAAAAAAAAAAAAAAAAAAAAAAAEAAQABAAEAAQAAAAAAAAD//wAA//8AAAAAAAD//wAAAAAAAAAAAAAAAAAAAAAAAAAAAAAAAAAAAAAAAAAAAAAAAAAAAAAAAAAAAAAAAAAAAAAAAAAAAAAAAAAAAAAAAAAAAAAAAAAAAAAAAAAAAAAAAP////8AAAAAAAABAAEAAQAAAAAAAAAAAAAAAAAAAAAAAAAAAAAAAAAAAAAAAAAAAAEAAQABAAAAAAABAAEAAAABAAAAAAAAAAAAAAD/////AAAAAAAAAAAAAAEAAAAAAAAAAAAAAAAAAAAAAAAAAAABAAAAAAACAAAAAAAAAAAA/////wAA//8AAAAAAAAAAAAAAAAAAAAAAAAAAP//AAAAAAAAAAAAAAAAAAAAAAAAAAAAAAAAAAAAAAAAAAAAAAAAAQABAAAAAAAAAAAAAAAAAAAAAAAAAAAAAAAAAAAAAAAAAAAAAAAAAAAAAAAAAAAAAAAAAAAAAAAAAAAAAAAAAAAAAAAAAAAAAAAAAAAAAAAAAAAAAAAAAAAAAAAAAAAAAAAAAAAAAAAAAAAAAAAAAAAAAAAAAAAAAAAAAAAAAAAAAAAAAAAAAAAAAAD//wAAAAAAAAAAAAAAAAAAAAAAAAAAAAAAAAAAAAAAAAAAAAAAAAAAAAAAAAAAAAAAAAAAAAAAAAAAAAAAAAAAAAAAAAAAAAAAAAAAAAAAAAAAAAAAAAAAAAAAAAAAAAAAAAAAAAAAAAAAAAAAAAAAAAAAAAAAAAAAAAAAAAAAAP////8AAAAAAAAAAAAAAAAAAAAAAAAAAAAAAAAAAAAAAAAAAAAAAAAAAAAAAAAAAAAAAAAAAAAAAAAAAAAAAAAAAAAAAAAAAAAAAAAAAAAAAAAAAAAAAAAAAAAAAAAAAAAAAAAAAAAAAAAAAAAAAAAAAAAAAAAAAAAAAAAAAAAAAAAAAAAAAAAAAAAAAAAAAAAAAAAAAAAAAAAAAAAAAAAAAAAAAAAAAAAAAAAAAAAAAAAAAAAAAAAAAAAAAAAAAAAAAAAAAAAAAAAAAAAAAAAAAAAAAAAAAAAAAAAAAAAAAAAAAAAAAAAAAAAAAAAAAAAAAAAAAAAAAAAAAAAAAAAAAAAAAAAAAAAAAAAAAAAAAAAAAAAAAAAAAAAAAAAAAAAAAAAAAAAAAAAAAAAAAAAAAAAAAAAAAAAAAAAAAAAAAAAAAAAAAAAAAAAAAAAAAAAAAAAAAAAAAAAAAAAAAAAAAAAAAAAAAAAAAAAAAAAAAAAAAAAAAAAAAAEAAQAAAAAAAAAAAAAAAAAAAAAAAAAAAAAAAAAAAP///////wAAAAAAAAAAAAAAAAAAAAAAAAAAAAAAAAAAAAAAAAAAAAAAAAAAAAAAAAAAAAAAAAAAAAAAAAAAAAAAAAAAAQAAAAAAAAAAAAAAAAAAAAAAAAAAAAAAAAAAAAAAAAAAAAAAAAAAAAAAAAAAAAAAAAAAAAAAAAAAAAAAAAAAAAAAAAAAAAAAAAAAAAAAAAD//wAAAAAAAAAAAAAAAAAAAAAAAAAAAAAAAAAAAAABAAEAAQAAAAAAAAAAAAAAAAAAAAAAAAAAAAAAAAAAAAAAAAAAAAAAAAAAAAAAAAAAAAAAAAAAAAAAAAAAAAAAAAAAAAAAAAAAAAAAAAAAAAAAAAAAAAAAAAAAAAAAAAAAAAAAAAAAAAAAAAAAAAAAAAAAAAAAAAAAAAEAAAAAAAAAAAAAAAAAAAAAAAAAAAAAAAAAAAAAAAAAAAAAAAAAAAAAAAAAAAAAAAAAAAAAAAAAAAAAAAAAAAAAAAAAAAAAAAAAAAAAAAAAAAAAAAAAAAAAAAAAAQAAAAAAAAAAAAAAAAABAAAAAAAAAAAAAAABAAEAAQABAAAAAAAAAAAAAAAAAAAAAAAAAAAAAAAAAAAAAAAAAAEAAAAAAAEAAAAAAAAA/////////////wAAAAAAAAAAAAAAAAAAAAAAAAAAAAAAAAAAAAAAAAAAAAAAAAAAAQABAAAAAAAAAAAAAAAAAAAAAAAAAAAAAAAAAAAAAAAAAAAAAAAAAAAAAAAAAAAAAAAAAAAA//8AAAAAAAAAAAAAAAAAAAAAAAAAAAAAAAAAAAAAAAAAAAAAAAAAAAAAAAAAAAAAAAAAAAAAAAAAAAAAAAAAAAAAAAAAAAAAAAAAAAAAAAAAAAAAAAAAAAAAAAAAAAAAAAAAAAAAAAAAAAAAAAAAAAAAAAAAAAAAAAAAAAAAAAAAAAAAAAAAAAAAAAAAAAAAAAAAAAAAAAAAAAAAAAABAAEAAAAAAAAAAAAAAAAAAAAAAAAAAAAAAAAAAAAAAAAAAAAAAAAAAAAAAAAAAAAAAAAAAAAAAAAAAAAAAAAAAAAAAAAAAAAAAAAAAAAAAAAAAAAAAAAAAAABAAAAAAAAAAAAAAAAAAAAAAAAAAAAAAAAAAAAAAAAAAAAAAAAAAAAAAAAAAAAAAAAAAAAAAAAAAAAAAAAAAAAAAAAAAAAAAAAAAAAAAAAAAAAAAAAAAAAAAAAAAAAAQAAAAAAAAAAAAAAAAAAAAAAAAAAAAAAAAAAAAAAAAAAAAAAAAAAAAAAAAAAAAAAAAAAAAAAAAAAAAAAAAAAAAAAAAAAAAAAAAAAAAAAAAAAAAAAAAAAAAAAAAAAAAAAAAAAAAAAAAAAAAAAAAAAAAAAAAAAAAAAAAAAAAAAAAAAAAAAAAAAAAAAAAAAAAAAAAAAAAAAAAAAAAAAAAAAAAAAAAAAAAAAAAAAAAAAAAAAAAAAAAAAAAAAAAAAAAAAAAAAAAAAAAAAAAAAAAAAAAAAAAAAAAAAAAAAAAAAAAAAAAAAAAAAAAAAAAAAAAAAAAAAAAAAAAAAAAAAAAAAAAAAAAAAAAAAAAAAAAAAAAAAAAAAAAABAAEAAQAAAAAAAAAAAAAAAAAAAAAAAAAAAAAAAAAAAAAAAAAAAAAAAQABAAAAAAAAAAAAAAAAAAAAAAAAAAAAAAAAAAAAAAAAAAAAAAAAAAAAAAAAAAAAAAAAAAAAAAAAAAAAAAAAAAAAAAAAAAAAAAAAAAAAAAAAAAAAAAAAAAAAAAAAAAAAAAAAAAEAAAAAAAAAAAAAAAAAAAAAAP////8AAAAAAAAAAAAAAAAAAAAAAAABAAEAAQABAAAAAAAAAAAAAAAAAAAAAAAAAAAAAAAAAAAAAAAAAAAAAAAAAAAAAAAAAAAAAAAAAAAAAAAAAAAAAAAAAAAAAAAAAAAAAAAAAAAAAAAAAAAAAAAAAAAAAAAAAAAAAAAAAAAAAAAAAAAAAAAAAAAAAAAAAAAAAAABAAAAAAABAAEAAAAAAAAAAAAAAAAAAAAAAAAAAAAAAAAAAAAAAAAAAAAAAAAAAAAAAAAAAAAAAAAAAAAAAAAAAQABAAAAAAAAAAAAAAAAAAAA/////wAAAAAAAAAAAAAAAAAAAAAAAAAAAAAAAAAAAAAAAAAAAAAAAAAAAAAAAAAAAAAAAAAAAAAAAAAAAAAAAAAAAAAAAAAAAAAAAAAAAAAAAAAAAAAAAAAAAAAAAAAAAAAAAAAAAAAAAAAAAAAAAAAAAAAAAAAAAAAAAAAAAAAAAAAAAAAAAAAAAAAAAAAAAAAAAAAAAAAAAAAAAAAAAAAAAAAAAAAAAAAAAAAAAAAAAAAAAAAAAAAAAAAAAAAAAAAAAAAAAAAAAAAAAAAAAAAAAAAAAAAAAAAAAAAAAAAAAAAAAAAAAAAAAAAAAAAAAAAAAAAAAAAAAAAAAAAAAAAAAAAAAAAAAAAAAAAAAAAAAAAAAAAAAAAAAAAAAAAAAAAAAAAAAAAAAAAAAAAAAAAAAAAAAAAAAAAAAAAAAAAAAAAAAAAAAAAAAAD//wAAAAAAAAAAAAAAAAAAAAAAAAAAAAAAAAAAAAAAAAAAAAAAAAAAAAAAAAAAAAAAAAAAAAAAAAAAAAAAAAAAAAAAAAAAAAAAAAAAAAAAAAAAAAAAAAAAAAAAAAAAAAAAAAAAAAAAAAAAAAAAAAAAAAAAAAAAAAAAAAAAAAAAAAAAAAAAAAAAAAAAAAAAAAAAAAAAAAAAAAAAAAAAAAAAAAAAAAAAAAAAAAAAAAAAAAAAAAAAAAAAAAAAAAAAAAAAAAAAAAAAAAAAAAAAAAAAAQABAAAAAAAAAAAAAAAAAAAAAAAAAAAAAAAAAAAAAAAAAAAAAAAAAAAAAAAAAAAAAAAAAAAAAAAAAAAAAAAAAAAAAAAAAAAAAAAAAAAAAAAAAAAAAAAAAAAAAAAAAAAAAAAAAAAAAAAAAAAAAAAAAAAAAAAAAAAAAAAAAAAAAAAAAAAAAAAAAAAAAAAAAAAAAAAAAAAAAAAAAAAAAAAAAAAAAAAAAAAAAAAAAAAAAAAAAAAAAAAAAAAAAAAAAAAAAAAAAAAAAAAAAAAAAAAAAAAAAAAAAAAAAAAAAAAAAAAAAAAAAAAAAAAAAAAAAAAAAAAAAAAAAAAAAAAAAAAAAAAAAAAAAAAAAAAAAAAAAAAAAAAAAAAAAAAAAAAAAAAAAAAAAAAAAAAAAAAAAAAAAAAAAAAAAAAAAAAAAAAAAAAAAAAAAAAAAAAAAAAAAAAAAAAAAAAAAAAAAAAAAAAAAAAAAAAAAAAAAAAAAAAAAAAAAAAAAAAAAAAAAAAAAAAAAAAAAAAAAAAAAAAAAAAAAAAAAAAAAAAAAAAAAAAAAAAAAAAAAAAAAAAAAAAAAAAAAAAAAAAAAAAAAAAAAAAAAAAAAAAAAAAAAAAAAAAAAAAAAAAAAAAAAAAAAAAAAAAAAAAAAAAAAAAAAAAAAAAAAAAAAAAAAAAAAAAAAAAAAAAAAAAAAAAAAAAAAAAAAAAAAAAAAAAAAAAAAAAAAAAAAAAAAAAAAAAAAAAAAAAAAAAAAAAAAAAAAAAAAAAAAAAAAAAAAAAAAAAAAAAAAAAAAAAAAAAAAAAAAAAAAAAAAAAAAAAAAAAAAAAAAAAAAAAAAAAAAAAAAAAAAAAAAAAAAAAAAAAAAAAAAAAAAAAAAAAAAAAAAAAAAAAAAAAAAAAAAAAAAAAAAAAAAAAAAAAAAAAAAAAAAAAAAAAAAAAAAAAAAAAAAAAAAAAAAAAAAAAAAAAAAAAAAAABAAAAAAAAAAAAAAAAAAAAAAAAAAAAAAAAAAAAAAAAAAAAAAAAAAAAAAAAAAAAAAAAAAAAAAAAAAAAAAAAAAAAAAAAAAAAAAAAAAAAAAAAAAAAAAAAAAAAAAAAAAAAAAAAAAAAAAAAAAAAAAAAAAAAAAAAAAAAAAAAAAAAAAAAAAAAAAAAAAAAAAAAAAAAAAAAAAAAAAAAAAAAAAAAAAAAAAD//wAAAAAAAAAAAAAAAAAAAAAAAAAAAAAAAAAAAAAAAAAAAAAAAAAAAAAAAAAAAAAAAAAAAAAAAAAAAAAAAAAAAAAAAAAAAAAAAAAAAAAAAAAAAAAAAAAAAAAAAAAAAAAAAAAAAAAAAAAAAAAAAAAAAAAAAAAAAAAAAAAAAAAAAAAAAAAAAAAAAAAAAAAAAAAAAAAAAAAAAAAAAAAAAAAAAAAAAAAAAAAAAAAAAAAAAAAAAAAAAAAAAAAAAAAAAAAAAAAAAAAAAAAAAAAAAAAAAAAAAAAAAAAAAAAAAAAAAAAAAAAAAAAAAAABAAEAAQABAAAAAAAAAAAAAAAAAAAAAAAAAAAAAAAAAAAAAAAAAAAAAAAAAAAAAAAAAAAAAAAAAAAAAAAAAAAAAAAAAAAAAAAAAAAAAAAAAAAAAAAAAAAAAAAAAAAAAAAAAAAAAAAAAAAAAAAAAAAAAAAAAAAAAAAAAAAAAAAAAAAAAAAAAAAAAAAAAAAAAAAAAAAAAAAAAAAAAAAAAAAAAAAAAAAAAAAAAAAAAAAAAAAAAAAAAAAAAAAAAAAAAAAAAAAAAAAAAAAAAAAAAAAAAAAAAAAAAAAAAAAAAAAAAAAAAAAAAAAAAAAAAAAAAAAAAAAAAAAAAAAAAAAAAAAAAAAAAAAAAAAAAAAAAAAAAAAAAAAAAAAAAAABAAAAAAAAAAEAAAAAAAAAAAAAAAAAAAAAAAAAAAAAAAAAAAAAAAAAAAAAAAAAAAAAAAAAAAAAAAAAAAAAAAAAAAAAAAAAAAAAAAAAAAAAAAAAAAAAAAAAAAAAAAAAAAAAAAAAAAAAAAAAAAAAAAAAAAAAAAAAAAAAAAAAAAAAAAAAAAAAAAAAAAAAAAAAAAAAAAAAAAAAAAAAAAAAAAAAAAAAAAAAAAAAAAAAAAAAAAAAAAAAAAAAAAAAAAAAAAAAAAAAAAAAAAAAAAAAAAAAAAAAAAAAAAAAAAAAAAAAAAAAAAAAAAAAAAAAAAAAAAAAAAAAAAAAAAAAAAAAAAAAAAAAAAAAAAAAAAAAAAAAAAAAAAAAAAAAAAAAAAAAAAAAAAAAAAAAAAAAAAAAAAAAAAAAAAAAAAAAAAAAAAAAAAAAAAAAAAAAAAAAAAAAAAAAAAAAAAAAAAAAAAAAAAAAAAAAAAAAAAAAAAAAAAAAAAAAAAAAAAAAAAAAAAAAAAAAAAAAAAAAAAAAAAAAAAAAAAAAAAAAAAAAAAAAAAAAAAAAAAAAAAAAAAAAAAAAAAAAAAAAAAAAAAAAAAAAAAAAAAAAAAAAAAAAAAAAAAAAAAAAAAAAAAAAAAAAAAAAAAAAAAAAAAAAAAAAAQABAAEAAQAAAAAAAAAAAAAAAAAAAAAAAAAAAP//AAAAAAAAAAAAAP//AAAAAAAAAAAAAAAAAAAAAAAAAAAAAAAAAAAAAAAAAAAAAAAAAAD//wAAAAAAAAAAAAAAAAAAAAAAAAAAAAAAAAAAAAABAAAAAAAAAAAAAAAAAAAAAAAAAAAAAAAAAAAAAAAAAAAAAAAAAAAAAAAAAAAAAAAAAAAAAAAAAAAAAAAAAAAAAAAAAAAAAAAAAAAAAAAAAAAAAAAAAAAAAAAAAAAAAAAAAAAAAAAAAAAAAAAAAAAAAAAAAAAAAAAAAAAAAAAAAAAAAAAAAAAAAAAAAAAAAAAAAAAAAAAAAAAAAAAAAAAAAAAAAAAAAAAAAAAAAAAAAAAAAAAAAAAAAAAAAAAAAAAAAAAAAAAAAAAAAAAAAAAAAAAAAAAAAAAAAAAAAAAAAAAAAAAAAAAAAAAAAAAAAAAAAAAAAAAAAAAAAAAAAAAAAAAAAAAAAAAAAAAAAAAAAAAAAAAAAAAAAAAAAAAAAAAAAAAAAAAAAAAAAAAAAAAAAAAAAAAAAAAAAAAAAAAAAAAAAAAAAAAAAAAAAAAAAAAAAAAAAAAAAAAAAAAAAAAAAAAAAAAAAAAAAAAAAAAAAAAAAAAAAAAAAAAAAAAAAAAAAAAAAAAAAAAAAAAAAAAAAAAAAAAAAAAAAAAAAAAAAAAAAAAAAAAAAAAAAAAAAAAAAAAAAAAAAAAAAAAAAAAAAAAAAAAAAAAAAAAAAAAAAAAAAAAAAAAAAAAAAAAAAAAAAAAAAAAAAAAAAAAAAAAAAAAAAAAAAAAAAAAAAAAAAAAAAAAAAAAAAAAAAAAAAAAAAAAAAAAAAAAAAAAAAAAAAAAAAAAAAAAAAAAAAAAAAAAAAAAAAAAAAAAAAAAAAAAAAAAAAAAAAAAAAAAAAAAAAAAAAAAAAAAAAAAAAAAAAAAAAAAAAAAAAAAAAAAAAAAAAAAAAAAAAAAAAAAAAAAAAAAAAAAAAAAAAAAAAAAAAAAAAAAAAAAAAAAAAAAAAAAAAAAAAAAAAAAAAAAAAAAAAAAAAAAAAAAAAAAAAAAAAAAAAAAAAAAAAAAAAAAAAAAAAAAAAAAAAAAAAAAAAAAAAAAAAAAAAAAAAAAAAAAAAAAAAAAAAAAAAAAAAAAAAAAAAAAAAAAAAAAAAAAAAAAAAAAAAAAAAAAAAAAAAAAAAAAAAAAAAAAAAAAAAAAAAAD/////AAAAAAAAAAAAAAAAAAAAAAAAAAAAAAAAAAAAAAAAAAAAAAAAAAAAAAAAAAAAAAAAAAAAAAAAAAAAAAAAAAAAAAAAAAAAAAAAAAAAAAAAAAAAAAAAAAAAAAAAAAAAAAAAAAAAAAAAAAAAAAAAAAAAAAAAAAAAAAAAAAAAAAAAAAAAAAAAAAAAAAAAAAAAAAAAAAAAAAAAAAAAAAAAAAAAAAEAAQAAAAAAAAAAAAAAAAAAAAAAAAAAAAAAAAAAAAAAAAAAAAAAAAAAAAAAAAAAAAAAAAAAAAAAAAAAAAAAAAAAAAAAAAAAAAAAAAAAAAAAAAAAAAAAAAAAAAAAAAAAAAAAAAAAAAAAAAAAAAAAAAAAAAAAAAAAAAAAAAAAAAAAAAAAAAAAAAAAAAAAAAAAAAAAAAAAAAAAAAAAAAAAAAAAAAAAAAAAAAEAAAABAAAAAAAAAAAAAAAAAAAAAAAAAP///////wAA//8AAP////8AAAAAAAAAAAAAAAABAAAAAQAAAAAAAAAAAAAAAAAAAAAAAAAAAP//////////AAAAAAAAAAAAAAAAAAAAAAAAAAAAAAAAAAAAAAEAAQABAAEAAAAAAAAAAAAAAAAAAAAAAP///////wAAAAAAAAAA//8AAAAAAAAAAAAAAAAAAAAAAAABAAEAAQABAAEAAQAAAAEAAAAAAAAA///+//7//v/+//////////7//v/+/wAAAAAAAAAAAAAAAAAAAAABAAEAAQABAAEAAQABAAEAAAAAAAAAAAAAAAAA////////////////////////////////AAAAAAEAAQABAAMAAwACAAMAAwADAAMAAQAAAAAA/////////v/+//z//f/9//3//f/+////AAAAAAAAAgADAAMAAwADAAMAAwADAAMAAgABAAAAAAD////////9//3//f/9//3//v///////////wAAAAAAAAEAAQACAAMAAgACAAIAAgACAAIAAQABAAEAAAAAAP///v////3//f/9//3//f/+///////+/wAAAAAAAAEAAQADAAIAAwACAAMAAgACAAIAAQAAAP////////7//v/+//7//v/+////AAD//wAAAAAAAAAAAQABAAMAAgACAAIAAgABAAEAAQABAAAAAAAAAP//AAAAAAAA/v///wAA/////////////wAAAAAAAAAAAAAAAAAAAQACAAIAAQABAAEAAAAAAAAAAAAAAAAA//////////////////////7//v///wAAAAD//wAAAAAAAAAAAAAAAAAAAAABAAAAAAAAAAAAAAAAAP///v/+/////////////////wAAAAAAAAAAAAAAAAAAAAAAAAAAAAAAAAAAAAAAAAEAAQAAAAAAAAAAAAAAAAD///////////////8AAAAAAAAAAAAAAAAAAAAAAAABAAAAAQAAAAAAAAAAAAEAAAAAAAAAAAAAAP///////////////wAA////////AAAAAAAAAAAAAAAAAAAAAAEAAQAAAAEAAAAAAAAAAAABAAAAAAAAAAAAAAAAAP///v/////////+/wAAAAAAAAAAAAAAAAAAAQABAAEAAQABAAEAAQABAAAAAAAAAP////////////////7//////wAAAAAAAAAAAAAAAAAAAQABAAEAAAAAAAAAAAAAAAAAAAAAAAAAAAAAAAAAAAAAAAAAAAAAAAAAAAAAAAAAAAAAAAAAAAAAAAAAAAAAAAAAAAAAAAAAAAAAAAAAAAAAAAAAAAAAAAAA//8AAAAAAAAAAAAAAAD//wAAAAAAAAAAAAAAAAAAAAAAAAAAAAAAAAAAAAD//wAAAAAAAAAAAAAAAAAAAAAAAAAAAAAAAAAAAAAAAAAAAAAAAAAA/////wAAAAAAAAAAAAAAAAAAAAAAAAAAAAAAAAAAAAABAAAAAAAAAAAAAAAAAAAAAAAAAAAAAAAAAAAAAAAAAP///////wAA////////AAAAAAAAAAAAAAAAAQAAAAAAAAAAAAAAAAAAAAAAAAD//wAAAAAAAAAAAAAAAAAAAAAAAAAAAAAAAAAAAAAAAAAAAAAAAAAAAAAAAAAAAAAAAAAAAAAAAAAAAAAAAAAAAAD///////////7///8AAAAAAAAAAAAAAAAAAAAAAAAAAAAAAAAAAAAAAAAAAAAAAAAAAAAAAAAAAAAAAAAAAAAAAAAAAAAAAAAAAAAAAAAAAAAAAAAAAAAAAAAAAAAAAAAAAAAAAAAAAAAAAAAAAAAAAAAAAAAAAAAAAAAAAAAAAAAAAAAAAAAAAAAAAAAAAAAAAAAAAAAAAAAAAAAAAAAAAAAAAAAAAAAAAAAAAAAAAAAAAAAAAAAAAAAAAAAAAAAAAAAAAAAAAAAAAAAAAAAAAAAAAAAAAAAAAAAAAAAAAAAAAAAAAAAAAAAAAAAAAAAAAAAAAAAAAAAAAAAAAAAAAAAAAAAAAAAAAAAAAAAAAAAAAAAAAAAAAAAAAAAAAAAAAAAAAAAAAAAAAAAAAAAAAAAAAAAAAAAAAAAAAAAAAAAAAAAAAAAAAQAAAAAAAAAAAAAAAAAAAAAAAAAAAAAAAAAAAAAAAAAAAAAAAAAAAAAAAAAAAAAAAAAAAAAAAAAAAAAAAAAAAAAAAAAAAAAAAAAAAAAAAAAAAAAAAAAAAAAAAAAAAAAAAAAAAAAAAAAAAAEAAQAAAAAAAAAAAAAAAAAAAAAAAAAAAAAAAAAAAAAAAAAAAAEAAQABAAAAAAAAAAAAAAAAAAAA//8AAAAAAAAAAAEAAAAAAAAAAAABAAEAAQAAAAAAAAAAAAAAAAAAAAAAAAAAAAAAAAABAAEAAAAAAAAAAAAAAAAA//8AAAAAAAAAAAEAAAAAAAAAAAAAAAAAAAAAAP////8AAAAAAAAAAAAA//8AAAAAAQABAAAAAAD///////8AAAAAAAAAAAAAAAAAAAEAAAAAAAAAAAAAAAAAAAAAAAEAAAAAAAAA//8AAAAA//8AAAAAAAAAAAAAAAAAAAAAAAAAAAAAAAAAAAAAAAAAAP//AAAAAAAAAAAAAAAAAQABAAEAAAAAAAAAAAAAAP//AAAAAAAAAAABAAEAAAAAAAAA/////wAAAAAAAAAAAAAAAAAAAAAAAAAAAAAAAAAAAAAAAAAA//8AAAAAAAAAAAAAAAAAAAAAAAAAAAAAAAAAAAAAAAAAAAAAAAAAAAAAAAAAAAAAAAAAAAAAAAAAAAAAAAAAAAAAAQAAAAAAAAAAAAAAAAAAAAAAAAAAAAAAAAAAAAAAAAAAAAAAAQABAAAAAQAAAAAAAAAAAAAAAAAAAAAAAAAAAAAAAAAAAAAAAAAAAAAAAAAAAAAAAAAAAP//////////AAAAAAAAAAAAAAEAAQAAAAAAAAAAAAAAAAAAAP///////wAAAAAAAAAAAAAAAAAAAAABAAEAAAAAAP///////wAAAAAAAAAAAAAAAAAAAAAAAAAAAAAAAAAAAAAAAAAAAAAAAAAAAAAAAAAA/////wAAAAAAAAAAAAAAAAAAAAAAAAAAAAAAAAAAAAD//wAAAAAAAP//AAAAAAAAAQABAAEAAAAAAAAAAAAAAAAAAAAAAAAAAAAAAAAAAAAAAAAAAAAAAAAAAAAAAAAAAAAAAAAAAAAAAAAAAAAAAAAAAAAAAAAAAAAAAAAAAAAAAAAAAAAAAAAAAAAAAAEAAAAAAAAAAAAAAAAAAQABAAAAAAAAAAAAAAAAAAAA////////AAAAAAAAAAAAAAAAAAAAAAAAAAAAAAAAAAAAAAAAAAAAAAAAAAAAAAAAAAAAAAAA//////////8AAAAAAAAAAAAAAAAAAAAAAAAAAAAAAAAAAAAAAAAAAAAAAAAAAAAAAAAAAAAAAAAAAAAAAAAAAAAAAAABAAEAAQAAAAAAAAAAAAAAAAAAAAEAAQABAAAAAAAAAAAAAAAAAAAAAAAAAAEAAAAAAAAAAAAAAAAAAAD//wAAAAAAAAEAAAAAAAAA//////////8AAAAAAAAAAAAAAAAAAAAA/////wAAAAAAAAAAAAAAAAAAAAAAAAAAAAAAAAAAAAAAAAAAAAAAAAAAAAAAAAAAAAAAAAAAAAAAAAAAAAAAAAAAAAAAAAAAAAAAAAAAAAAAAAAAAAAAAAAAAAAAAAAAAAAAAAAAAAAAAAAAAAAAAAAAAAAAAAAAAAAAAAAAAAAAAAAAAAAAAAAAAAAAAAAAAAAAAAAAAAAAAAAAAAAAAAAAAAAAAAAAAAAAAAAAAAAAAAAAAAAAAAAAAQAAAAAAAAAAAAAAAAABAAEAAAAAAAAAAAAAAAAAAAAAAAAAAAAAAAEAAAAAAAAAAAAAAAAAAAABAAEAAQABAAEAAQAAAAAAAAAAAAAAAQABAAEAAAAAAAAA//8AAAAA/v///wAAAAAAAAEAAAAAAAAAAAAAAAAAAAAAAAEAAQABAAAAAAD//////////wAAAAABAAAAAAAAAAAAAAD/////////////AAAAAAAAAAAAAAAA////////AAAAAAAAAAAAAAAAAAAAAP//AAAAAAAAAAAAAAAAAAAAAAAAAAAAAAAAAAAAAAAAAAAAAAAAAAAAAAAAAAAAAAAAAAAAAAAAAAAAAAAAAAAAAAAAAAAAAAAAAAAAAAAAAAAAAAAAAAAAAAAAAAAAAAAAAQABAAIAAAAAAAAAAAAAAAAAAAAAAAAAAAAAAAAAAAAAAAAAAAAAAAAAAAABAAEAAQAAAAAAAAAAAAAAAAAAAAAAAAAAAAAAAAAAAAAAAAAAAAAAAAAAAAAAAAAAAAAAAAAAAAAAAAAAAAAAAAAAAAAAAQAAAAAAAAAAAAAAAAAAAAAAAAAAAAAAAAAAAAAAAAAAAAAAAAAAAAAAAAAAAAAAAAAAAAAAAAAAAAAAAAAAAP///////wAAAAAAAAAAAAAAAAAAAAD//////////wAAAAAAAAAAAAAAAAAAAAD//wAAAAAAAAAAAAAAAAAAAAAAAAAAAAAAAAAAAAAAAAEAAQAAAAAAAAAAAAAAAAAAAAAAAAAAAAAAAAAAAAAAAAAAAAAAAAAAAAAAAAAAAAAAAAAAAAAAAAAAAAAAAQABAAAAAAAAAAAAAAAAAAAAAAAAAAAAAAAAAAAAAAAAAAAAAAAAAAAAAAAAAAAAAAAAAAAAAAAAAAAAAAAAAAAAAAAAAAAAAAAAAAAAAAAAAAAAAAAAAP//AAAAAAAAAAAAAAAAAAAAAAAAAAAAAAAAAAAAAAAAAAAAAAAAAAAAAAAAAAAAAAAAAAAAAAAAAAAAAAAAAAAAAAAAAAAAAAAAAAAAAAAAAAAAAAAAAAABAAIAAAAAAAAAAAAAAAAAAAAAAAEAAAAAAAAAAAAAAAAAAAAAAAAAAAAAAAAAAAAAAAAAAAAAAAAAAAAAAAAAAAAAAAAAAAAAAAAAAAAAAAAAAAAAAAAAAAAAAAAAAAAAAAAAAAAAAAAAAAAAAAAAAAAAAAAAAAAAAAAAAAAAAAAA//////////8AAAAAAAAAAAAAAAAAAAEAAQAAAAAAAAAAAAAAAAAAAAAAAQAAAAAA/////wAAAAD//wAAAAD//////////wAAAAD//wAAAAAAAAAA//8AAAAAAAABAAEAAAAAAAAAAAAAAAAAAAAAAAAAAAAAAAAAAAAAAAAAAAAAAAAAAAAAAAAAAAAAAAAAAAAAAAAAAQABAAEAAAABAAEAAQACAAEAAQABAAEAAQABAAAAAAAAAAAAAQABAAEAAQAAAAAAAAAAAAAAAAAAAAAAAAD////////+//7///////7///////7///////7//v/+//7//v/+//7//v/+//7//v///////////////////wAA//8AAAAAAAAAAAAAAAAAAAAAAAAAAAAAAAABAAEAAQACAAEAAQABAAIAAQABAAIAAwAEAAQABAACAAIAAQABAAIAAgADAAMAAwAAAAEAAgACAAEAAAABAAAAAAAAAAAAAAAAAP////////7////////////+//3//v/9//3//v/+///////+//7//v/+//3//v/+//7//v/+//7//v/+/wAAAAAAAAAAAAAAAAAAAAAAAAAAAAABAAEAAQABAAEAAgACAAIAAwAEAAQAAwADAAMAAwADAAMAAwADAAMAAwADAAIAAwACAAIAAgABAAEAAQAAAAEAAgABAAAAAAAAAAAA///////////+//7//v/8//z//f/9//7//v/9//z//P/7//v/+//7//r/+//7//r//P/6//z//P/8//v//P/8//z/+//6//z//f/+//7//v/+//7//v/9//7//////////v/+//7//v/+//7///8AAAAAAAAAAAAAAAAAAAEAAgACAAIAAgACAAIAAwACAAMABAAEAAQABAAEAAUABQAFAAQABgAGAAYABQAGAAcABwAIAAgACAAHAAcABwAIAAcABwAHAAgACAAHAAcABgAHAAcACAAGAAYABgAFAAQABAAEAAQABQADAAMAAgADAAIAAQABAAEAAAAAAAAAAAAAAAAAAAAAAAAAAAAAAAAA//8AAP///v////7//f/+//7//v/+//7////+//7//f/8//z/+//7//v/+v/6//n/+f/6//r/+//6//n/+P/4//j/9v/2//f/9//3//b/9v/2//X/9f/0//L/8v/z//H/8f/x//H/8f/x//H/8v/w/+//7//u/+3/7f/t/+3/7v/s/+v/6//s/+3/7f/u/+7/8P/v//D/8v/1//b/9//6//v//P/8//7///8AAAEAAgAEAAUABwAIAAgACgALAA0ADgAPABIAEwAUABMAFQAVABYAFgAWABgAGQAZABgAGAAYABcAFQAVABYAFgAWABYAFgAXABUAFQAVABYAFgAUABQAFQAUABMAEgASABEAEAAPAA4ADgANAAwADAALAAwADAAMAAwADAAMAAwACgALAAsACQAIAAgACAAGAAcABgAFAAQABAACAAEAAAAAAAAA/v////7//f/8//r/+f/4//f/9v/0//P/8v/v/+7/7P/r/+r/6f/p/+f/5//m/+X/5f/j/+P/4//i/+L/4f/g/+D/3//e/93/3P/b/9v/2//Z/9n/2f/Y/9n/2v/a/9v/3P/d/97/3v/f/+D/4P/h/+L/5P/l/+b/5//o/+n/6v/s/+z/7f/u/+7/7//y//X/9v/3//n//P/+////AAADAAQABgAGAAYABwAHAAgACAAIAAkACgAKAAoACgAKAAsADAAMAAwADQAOAA8AEAARABMAFQAWABYAFwAaABsAHAAdAB4AIAAiACMAJAAmACgAKAApACwAKgArACsAKgAsACwAKwAmACQAJAAmACcAJwAoACkAKgAsAC0ALQAuAC0ALwAvADEAMQAwADAAMAAxADEAMAAvAC8ALgAuAC0AKwAoACYAIwAhACEAHQAaABcAFAASAA8ACgAGAAAA/f/6//f/8//t/+b/4//i/9//2//V/9H/zf/K/8b/wv+9/7f/sv+v/6v/p/+j/57/nP+Z/5f/lf+S/4//j/+O/47/kP+R/5H/kP+T/5b/l/+X/5b/lv+Z/5z/oP+i/6L/pP+m/6n/rv+x/7L/tf+7/8T/y//O/8//0f/U/9n/4P/l/+j/7P/x//n/AQAIAAsAEAAaACcAMwA9AEcATgBXAF8AZgBuAHQAegB/AIcAjwCUAJUAlACVAJsAoQCmAKkAqwCvALIAtgC5ALoAugC7AL8AxADFAMQAvwC6ALcAsACrAKcAoQCeAJcAkQCLAIQAfAB0AG8AawBkAF0AWABRAEgAPgAyACYAHAASAAgA/v/z/+f/2//P/8P/t/+q/6L/nP+Y/5L/if+A/3j/cv9r/2T/XP9U/07/SP9B/zn/L/8k/xn/Ef8P/wr/BP/+/vn++P70/u/+6v7o/uf+7P7y/vb+9P7x/vP+9/77/v3+//4D/wn/Ef8Y/x3/H/8h/yb/MP89/0f/T/9X/2L/bf92/33/hP+P/5z/qv+2/8D/yP/R/9z/6f/1/wEADgAeADEAQgBRAF0AaAB1AIMAkQCdAKUArgC3AL0AwAC9ALoAuQC5ALoAvAC6ALoAvAC+AMEAxADHAM4A2ADlAPAA+QAAAQUBCgENAREBFAERAQ8BDwESARIBDQEGAQAB/wACAQUBBQECAQABBQEHAQgBAgH6APUA8gDxAO0A5ADYAM8AxgC/ALYAqwCgAJcAkgCNAIgAfgBxAGUAWgBTAEkAOgAqABwAFAALAPv/6P/U/8P/t/+r/6D/kf+B/3P/af9f/1H/Qf8w/yP/GP8O/wP/9/7q/t7+1P7O/sf+vv64/rP+sf6y/q/+qP6j/qL+of6h/qD+nv6e/p/+ov6k/qb+p/6r/rH+t/6+/sT+yv7S/tv+4/7p/u/++P4C/wv/F/8l/zL/P/9Q/2H/c/+J/57/tP/L/+H/9v8KAB0ALQA6AEUATwBXAFwAYABkAGkAbgB0AHoAggCOAJsAqwC5AMkA2ADpAPsACgEUARwBIwEqAS4BLwEuASoBKAEoASgBKAEoASgBKgEsAS4BMgEuASoBKQEmASMBGgERAQYB+gDwAOYA2wDPAMQAuwCzAKwApQCcAJMAjACFAHwAcwBnAFgASwA/ADAAHwALAPn/6//f/9D/w/+2/6n/oP+Z/5P/jf+G/4D/ff97/3n/df9x/23/aP9k/2H/X/9a/1b/Vv9X/1r/W/9Z/1v/YP9k/2f/a/9t/3H/df93/3r/e/98/33/gv+G/4j/jP+P/5X/m/+h/6f/rP+0/7z/xP/M/9P/2P/c/+D/5f/q/+3/8P/1//j//f8BAAUACgAOABMAFgAYABoAGwAcABoAGQAUAA4ACgAGAAIA///8//v/+//8////AAAAAAEAAQAAAAAA+//z/+r/4f/Z/9P/y//E/7z/t/+1/7X/tv+3/7v/vf/B/8X/yP/J/8n/yf/K/8n/xv/G/8T/xv/I/8n/yv/L/87/0//c/+L/6P/q/+//9f/8/wAAAwAGAAkADQAUABsAHwAhACIAJgAsADIANwA6AEMASQBOAFIAVABVAFYAVwBXAFcAVABSAFEATwBNAEoASABHAEkATQBSAFMAVABXAFgAWgBXAFQATwBMAEkAQgA8ADIAKgAhABoAFgARAA4ACwAKAAoACwAIAAQAAAD6//b/7//o/+L/3f/Y/9T/z//L/8n/yv/M/9D/1P/W/9n/2//d/9z/1v/P/8f/wP+8/7n/tf+w/6v/q/+s/7D/tf+6/8L/zP/X/+H/6v/w//T/9//6//7/AQAGABAAGgAlAC8AOABCAEoAVABbAGMAZwBrAHIAdwB7AHwAfAB9AIQAjACWAKEAqgC1AL0AxQDLAMsAyADEAMEAvgC6ALQArQClAJ4AlwCQAIgAgAB5AHIAawBhAFMAQwAxABwABgDv/9r/xf+z/6L/kf+B/2//YP9R/0b/Of8q/xv/DP8A//D+3f7I/rT+of6R/oX+fP51/m/+av5k/l/+Wv5V/lD+Tf5N/k7+UP5V/lv+Y/5s/nT+fP6J/pv+sv7H/tr+7f78/gz/Gv8m/zD/OP9C/1D/Yv96/5D/pP+4/8//6P///xcALgBGAF0AcgCGAJUAogCsALcAwwDQAN4A7wAFAR0BNQFJAVoBaQF3AYUBkgGcAaMBqQGxAbgBvQG+AbwBvAG+AcYB0AHbAeQB7AH0AfoB/gH7AfUB7wHsAeoB6gHnAeIB3QHUAc8BwwG2AaoBoAGbAZcBkQGGAXkBawFdAU4BPQEqARkBDAECAfoA7ADZAMIAqwCVAH8AagBRADcAHgAJAPT/2/+9/53/gv9q/1L/O/8i/wr/7/7R/rP+lP5z/lP+OP4h/gz+9f3f/cr9tv2i/Y39eP1j/VL9Qv01/Sn9Gv0J/fv87/zm/OD82/zc/N383/zj/Oj87vzz/Pn8Af0K/Rf9J/04/Ur9Xf1r/Xz9kf2q/cb94/0B/iL+Rv5p/o7+r/7M/uj+Bf8m/0r/bv+Q/7T/3P8GADMAXgCGAK4A1wADAS4BVQF3AZkBuQHcAf4BHQI6AlcCdQKUArICzwLoAv4CFAMpAz4DTgNaA2MDbQN2A30DgAN9A3kDdANxA2wDZwNeA1UDTgNGAzwDLAMXA/4C4wLIAq4CkAJxAlICMQIUAvcB2QG4AZQBbgFLASsBCgHjALsAkQBrAEkAJQADAOP/xP+p/5D/dv9Y/zf/F//7/uL+y/6x/pr+hf5y/mH+T/45/iT+Ev4G/v/9+v30/e396/3q/ev96v3m/eH93v3g/eX96v3u/fD99P3+/Qr+GP4l/jH+Qf5U/mb+dP5//oj+kf6c/qr+uP7H/tX+5P72/gj/GP8j/y7/PP9K/1v/bP98/4r/lv+f/6v/tf+8/8L/yP/R/9r/4v/p/+7/8//5/wAABgAOABcAIAAnACsAKwAqACkAKQAoACoAMAA3AD8ARABHAEoASwBKAEoASwBNAFAAVABXAFkAWQBVAFIAUQBPAE4ATwBRAFUAWgBbAFwAWQBXAFUAVgBYAFoAXQBeAF4AXgBdAFwAXABcAGIAaABxAHgAfwCEAIcAiQCKAIkAiwCPAJUAnACkAKsAsAC2ALoAvAC+AMIAxwDPANgA2wDdAN4A3gDdAN0A3QDgAOQA6ADrAO4A7gDsAOoA5gDjAOIA4QDfAN8A3ADXANQAywDAALYArwCrAKkApACgAJcAkACHAHwAcABiAFcATgBJAEQAPAAxACYAGQAQAAcA/v/1/+7/6P/j/+D/1//K/7z/sf+p/6P/nP+V/5D/i/+G/4D/d/9t/2T/X/9c/1n/V/9S/0v/Q/88/zT/Lf8l/yD/H/8i/yT/JP8j/yD/HP8Z/xr/HP8e/yH/JP8m/yn/LP8r/yr/K/8v/zf/QP9I/07/VP9Y/1//Y/9m/2v/cP94/4L/jP+R/5X/l/+b/5//pf+s/7P/vP/E/8z/0P/T/9T/1P/X/97/5f/r//L/9//7////AAAAAAIABAAHAA0AFAAZABsAHQAdAB8AIwAnAC0AMwA5AEAARABHAEcARgBIAE0AUABUAFoAYABjAGUAZwBnAGgAagBuAHIAdwB8AIAAggCDAIMAgwCEAIUAiQCLAI4AkQCTAJEAkQCRAJIAlQCYAJoAnACdAJwAnACbAJoAmACYAJkAmwCdAJ0AnACXAJMAjwCOAIwAiQCGAIMAgAB8AHcAcgBtAGkAZgBjAGEAXABXAFIATQBIAEIAPQA6ADUAMAArACUAHwAWAA8ACAAEAAAA/f/6//b/8P/r/+f/3//Z/9T/0f/N/8r/xf/A/7r/tP+u/6r/qP+l/6P/oP+e/5v/l/+Q/4v/iP+F/4X/hf+F/4T/gf9+/3r/d/90/3P/dP90/3L/cv9x/3D/bf9r/23/b/9x/3T/dv94/3v/fP98/3z/e/99/3//gf+E/4b/h/+G/4f/hv+H/4r/jv+U/5n/nv+i/6T/pv+o/6r/sP+2/7z/wP/E/8n/zP/P/9H/1f/a/+D/5v/r/+//8//2//j/+//+/wMACgARABcAHQAgACIAJQAnACoAMQA3AD0AQQBFAEgASgBLAEsATABPAFUAWQBcAGAAYQBhAF4AXgBeAGAAYwBnAGsAbgBvAG4AbQBrAGsAbABwAHIAdAB1AHcAdgBzAHAAbgBvAHAAcQBzAHMAcgBuAGoAZgBiAGAAXQBcAFsAWgBYAFMATwBKAEcARQBEAEQARQBEAEMAQgA9ADgANAAwACsAJwAkACEAHgAYABMADQAHAAIAAAD9//z//P/6//r/+P/2//T/8v/w/+7/7v/s/+r/6P/l/+H/3v/b/9f/1P/S/9D/zf/L/8j/x//F/8P/wv/A/8D/vv++/73/vP+8/7r/uP+2/7T/sv+y/7L/sv+y/7L/sv+y/7L/s/+z/7L/sf+x/7D/r/+t/6v/qP+m/6X/pf+l/6b/p/+o/6n/qv+t/67/sf+0/7j/vP++/8T/x//K/8z/zf/P/9H/0//V/9f/2P/b/9v/3P/c/93/3//g/+P/5v/q/+7/8v/2//r///8DAAkADgAUABgAHgAhACQAJgAmACgAKQAqACoAKgAqACoAKgAqACkAKwAsAC8AMgA3ADsAQABDAEQARwBKAE0ATgBQAFAAUQBSAFEATwBOAEsASQBHAEYARgBFAEQARABCAEAAPgA+AD0APAA7ADwAPAA6ADoAOAA3ADcANgA3ADcAOAA5ADgANgAzADAALgArACcAIgAdABgAEwAQAAwACAAFAAIAAgADAAQABwAJAAsACwALAAwADQALAAoACAAGAAMA+//4//T/7f/q/+T/3v/a/9b/1f/U/9P/0f/R/9L/1P/W/9f/2P/Y/9f/1v/Y/9j/2P/Y/9b/1P/S/9L/0//R/83/yv/G/8T/wf/A/8D/vv+7/7n/uv+6/7r/vf/B/8b/yf/M/9D/1P/Z/97/4v/j/+L/4//k/+X/4//h/93/2//b/9r/2f/Z/9j/2P/a/9z/3//j/+b/7P/v//H/9v/6/wAABAAHAAwADQAOABEAEwAVABUAFAATABAADgAOAA4ADQALAAkACAAIAAkADQAPABIAEwAVABsAHgAlACgAKQAsACsALAAuACwAKwAqACUAIAAcABgAGAAWABQAEQAOAA4AEAASABQAFAAUABQAFQAaABsAHwAfAB4AHwAeAB8AIAAhACEAHgAcABkAFwAVABYAEwAPAA0ACAAJAAgACQALAAcACAAIAAoADgAQABEAEwATABMAFAAXABkAFwATABAACwAIAAgABwAIAAMAAAD9//f/+//9//7/AAD9//7//f/+/wEAAAADAAIAAAAAAAEAAAAAAAAA/P/9//r/+v/6//b/9//x/+//7//r/+3/6f/o/+b/4P/g/93/3//i/+L/5P/h/97/3v/i/+n/7v/v/+z/6//m/+b/6v/q/+z/5f/h/93/2P/b/9n/2f/Y/9P/1f/V/9n/2//e/97/3P/f/+L/6P/r/+z/7P/o/+r/7P/x//X/8//1/+//7P/t/+3/9f/1//X/9P/v/+7/8P/z//f/+v/6//r/+//9/wIABAALAA4ADgAUABQAGgAdABoAHgAcAB0AIgAjACUAIgAdABsAGgAeACMAJQAkACIAHgAfACAAJAApACkALAAqACgALAAqAC0ALgAsAC4ALAApACgAJQAkACQAIwAiACEAHgAdABsAGgAYABUAFwAVABUAFgASABMADwALAA0ACwANAA0ABwAEAAAA/v////7//f/6//T/8f/u/+3/7v/r/+r/5//i/+T/4f/h/+H/3P/e/9z/3P/e/9v/2//a/9f/1v/V/9b/1//X/9f/1f/T/9L/0//U/9f/1v/X/9f/0//X/9X/2P/c/9n/3P/c/9v/3//g/+H/4//j/+T/5//p/+z/7P/u//D/7//0//b/9//7//j/+f/7//n/AAAAAAAAAwABAAMAAQAAAAQABgAJAAsACwAMAAwACwAOAA8AEQAUABIAFQAVABMAFwAUABcAGQAVABkAFgAVABYAFgAXABgAFgAXABgAGgAaABgAGQAXABcAGgAZABoAGwAUABUAFQAVABoAFQAUABIADwAQABEAEQARAA8ADQAMAAwADgAOAA4ADgALAA0ADAAKAA4ACwALAA0ACQALAAoABwALAAkACAAHAAQABAAFAAYABgADAAEAAAAAAAEAAAABAAAA/P/8//7/+/////z/+v/9//j//P/9//r/+//4//f/+P/4//j/9v/1//b/9P/0//L/8P/x//H/8f/0//D/7//x/+v/8f/w/+//8P/q/+r/6f/r/+3/7P/r/+n/6f/q/+v/7P/s/+n/6P/p/+j/7P/r/+f/6//n/+r/7v/r/+7/7v/s/+//7v/v/+//7//v//H/8v/x//L/8v/z//P/9v/2//X/+P/0//n//P/4//3/+v/6//7//P/+//////8AAAIAAgAEAAYABgAFAAYACAAJAAsACgAHAAsACgALABAACwAOABEADgATABEAEAASABEAEQASABIADwAPABAAEAARABEAEAAQABEADgAOABAACgANAAsACAAOAAkACgAKAAUABgAGAAUABgAGAAMAAgAAAAAAAQAAAAAA/f/7//r/+P/7//j/+P/5//L/9v/1//H/9v/y//L/8//u/+z/7P/s/+3/7//s/+v/6v/q/+v/7f/u/+v/6//p/+j/7v/r/+3/7//n/+r/6//q/+//7f/t/+7/7f/v//D/8f/z//L/9P/0//X/9//3//r//v/8/wAAAQD+/wUABgAIAA4ACQAMAA0ADAATABYAFgAYABcAGAAbACAAIwAiACQAIQAhACQAJAAlACkAJwAnACgAIwApACgAKAArACcAJwAmACMAJAAkACQAIwAfABwAGQAYABgAFgAWABEADAALAAgABgAJAAIAAQD///f/+f/2//P/9P/u/+v/6f/o/+f/5v/m/+L/3//d/9n/2f/Y/9b/1v/V/8//0P/O/83/0v/N/87/zv/K/8z/zf/O/9D/z//O/83/zf/P/9P/1v/W/9b/1f/V/9j/3f/e/+D/4//g/+X/5v/o/+//7v/x//X/9v/4//z/AAACAAUABgAHAAsADgARABcAGAAYABoAHAAcACIAIwAlACoAJgArAC0ALgAyADMAMQAxADIAMgA0ADYANgA1ADUANAA1ADcANgA3ADgANAA0ADUAMQAzADEALwAwACwAKwArACkAKQAoACUAIwAiACAAIAAfABwAGgAYABYAFAAUABIAEAARAAsACwALAAcACQAEAAEAAQD+//3//v/8//r/+P/2//X/9v/3//T/8//x/+//7v/t/+r/6//p/+X/6P/k/+b/5//j/+X/4//h/+L/4v/j/+T/4//i/+H/4f/h/+H/4v/i/+H/4P/e/97/4f/e/+H/4P/b/+D/3v/f/+L/4P/g/+D/3//g/+P/4//k/+T/4//j/+T/5f/l/+j/6P/l/+f/5//o/+3/6v/s/+z/6f/t/+7/7//y//H/7//w//D/8P/z//X/9v/2//X/9v/3//r/+v/7//3/+v/+//7//v8CAAAAAQACAAEAAwAFAAcACAAIAAgACAAIAAoADAAOAA8ADwAOABAAEAAUABIAFAAWABIAFwAXABYAGgAXABgAGQAYABkAGwAcAB0AHAAbABsAHAAfAB4AHwAgAB4AHwAfAB0AIgAfAB4AIQAdAB8AIAAfACIAHwAfAB8AHQAdAB4AHgAfABwAGwAbABkAGwAaABgAGgAXABgAFwAUABgAEgAQABMADgAQAA8ADAANAAkACAAHAAYABgAFAAQAAQAAAAAA///9//3//P/5//v/9//3//n/9P/2//L/7//x/+7/7//u/+z/6//p/+j/5//o/+n/6P/n/+f/5f/k/+b/5P/m/+X/4v/l/+D/4v/k/+H/4f/h/+D/4P/i/+H/4f/i/+D/4f/i/+L/4//k/+P/4f/k/+P/5f/q/+b/6v/q/+j/6//q/+v/7v/u/+3/7f/t/+7/8P/x//H/8f/w//D/8v/1//T/9v/2//X/+f/3//r//f/7//v//P/8//7///8AAAIAAAAAAAEAAAAAAAAAAwAEAAQABwAGAAcACQAHAAoACgAJAA0ADQANAA8ADQAMAA0ADAANAA8AEAAPAA8ADgAOAA8ADwAOABAAEQAPAA4ADgAOABAAEAARABIAEAASABIAEQASABEAEAAQABAAEAARABAADgAOAA0ADQAOAA4ADgAPABAADgAMAA0ADQANAAwACwANAAwACwALAAkACgAIAAcABgAFAAYABgAGAAQAAgACAAIAAgACAAAAAAAAAP7///////7////+//3//P/6//v/+v/5//n/+f/4//j/9//3//X/9f/1//P/9P/1//X/9v/0//T/9P/y//P/9P/z//T/9P/0//T/8//z//L/8f/x//D/8f/y//H/8//x//H/8P/v//H/8v/y//P/8v/x//X/9f/1//f/9f/3//X/9P/1//T/9f/1//X/9f/2//f/9v/1//b/9v/3//n/+v/6//v/+f/6//r/+v/8//z///8AAP7//v/9//z//v/+/////////////v/9//////8AAAAAAAACAAAAAAACAAIAAwAEAAQABgAFAAUABQAFAAUABQAGAAcABgAFAAQAAgACAAIAAwAFAAQABgAGAAQABwAFAAYABwAFAAcACAAIAAcACAAHAAYABgAGAAYABgAGAAYABgAFAAQABQAGAAQABgAFAAUABgAEAAYABQAGAAYABAAFAAMABAAFAAMABQAEAAQAAwACAAIAAgABAAEAAgABAAIAAwACAAMAAQABAAIAAQADAAIAAQACAAEAAQACAAEAAAAAAAAAAAD//////////////////////f///////v8AAP7/////////AAD//wAA///+//7//v/9///////9/////v/9//7//f/9//3//f////3//v/+//z//f/7//z//f/9//3//f/8//z//P/7//v/+//7//r/+v/6//r/+//8//r//P/7//r//f/8//7////+//7//f/8//3//P/8//z//P/+//7//v///wAAAAD///7/AAD/////AAD+/wAAAAAAAAEAAAAAAAAA//8AAAAAAAAAAAAAAAAAAAAAAAAAAAEAAQABAAEAAQAAAAIAAQABAAMAAQACAAEAAAABAAEAAQACAAEAAAAAAAEAAQAAAAEAAAABAAIAAgAAAAIAAgACAAIAAQADAAIAAgADAAIAAgACAAIAAwABAAEAAQAAAAEAAgACAAEAAAAAAAEAAQABAAIAAQACAAAAAQACAAEAAwADAAIAAgABAAAAAAAAAAEAAQABAAEAAQAAAP////8AAAAAAQACAAAAAAD/////AQAAAAAAAQABAAEAAAD/////AAAAAAIAAQAAAAAA/////wAAAAAAAAAAAAD///7////+/wAAAAAAAAAA//8AAP////8AAAAAAAAAAAAA///+////AAAAAAEAAAAAAP//AAD//wAA/////wAA//////7//v8AAAAAAAAAAAAA////////AAAAAAAAAAAAAAAAAAD//wAAAAAAAAEAAAAAAAAA//8AAAAAAAAAAAAAAAD/////AAD//wAA/////wAA/////wAAAAAAAAAAAAABAAAAAAAAAAAAAQAAAAEAAQAAAAAAAAAAAAEAAAAAAAAAAAAAAAAAAAAAAAAAAQABAAAAAAAAAAAAAQAAAAAAAQAAAAEAAAAAAAAAAAAAAAAAAAAAAAAAAAAAAAAAAQABAAAAAQAAAAAAAAAAAAEAAgABAAAAAAAAAAAAAAABAAAAAAAAAAAAAAAAAAAAAAAAAAAAAAD//wAAAAD//wAAAAAAAAAA//8AAAAAAAACAAAAAQABAAAAAAD///7/AAAAAAAAAAD//////////wAAAAAAAAAA/v8AAAAAAAABAAAAAQAAAP//AAD//wAAAAAAAAAAAAAAAAAA/////wAAAAAAAAAA//8AAP7///8AAAAAAAAAAAAAAAD/////AAD//wEAAAAAAAAA///+////AAAAAAEAAAAAAP//AAAAAAAAAQABAAAAAQD//wAAAAAAAAEAAQABAAEAAAAAAP7/AAAAAAAAAAAAAP7////+//7/AAAAAAAAAAD+/wAA/////wAAAAABAAAA//8AAP//AAAAAAAAAAAAAP//AAD//wAAAAD//wAAAAD+/wAA/v8AAAAA//8AAAAAAAAAAP//AAAAAP7/AAAAAAAAAAD//wAA///+/wAA/////wAAAAAAAP////8BAAAAAAABAAAAAQAAAAAAAQAAAAEAAQAAAAAA//////////8AAAAAAAAAAAAAAAAAAAAAAQABAAAAAAAAAAAAAAAAAAEAAQABAAEAAAAAAAAAAAAAAAAAAAAAAP//////////AAAAAAAAAAD/////AAAAAAEAAAAAAAEA//8AAAAAAAABAAEAAQABAP//AAAAAP//AAD/////AAD///////8AAAAAAAAAAAAAAAAAAAAAAQACAAEAAgABAAEAAAAAAAAAAAAAAAAAAAD//wAA/v///wAA//8AAAAAAAAAAAAAAAAAAAAAAgACAAEAAQAAAAAAAAAAAAAAAAAAAAAA//8AAAAA//8AAAAAAAAAAAAAAAAAAAAAAQABAAAAAQAAAAAAAAAAAAAAAAAAAAAA//8AAP3//f////3/////////AAAAAAAAAAAAAAEAAAAAAAAA//8AAAAAAAAAAAAAAAD/////AAAAAAAAAAD/////AAAAAP//AAAAAAAAAAAAAAAAAAAAAAAAAAAAAAAAAAAAAAAAAAAAAAAAAAAAAAAAAAAAAAAAAAAAAAAAAAAAAAAAAAAAAAAAAAAAAAAAAAAAAAAAAAAAAAAAAAAAAAAAAAAAAAAAAAAAAAAAAAAAAAAAAAAAAAAAAAAAAAAAAAAAAAAAAAAAAAAAAAAAAAAAAAAAAAAAAAAAAAAAAAAAAAAAAAAAAAAAAAAAAAAAAAAAAAAAAQABAAEAAAAAAAEAAQAAAAAAAAAAAP////8AAP////8AAAAAAAAAAAAAAQAAAAAAAAAAAAEAAQABAAAAAAAAAAAAAAAAAP/////////////+//7//////wAAAAAAAAAAAAAAAAAAAQABAAIAAQACAAEAAAAAAAAAAAAAAP////////////////////////////8AAAAAAAAAAAEAAQABAAIAAQABAAIAAgAAAAAAAAD//////////////v/+//7///8AAAAAAAD//wAAAAAAAAAAAQAAAAAAAAAAAAAAAAAAAAAAAAAAAAAAAAAAAAAAAAAAAAAAAAAAAAAAAAAAAAAAAAAAAAAAAAAAAAAAAAABAAEAAAAAAAAAAAAAAAAAAQABAAEAAAAAAAAAAQABAAEAAAAAAAAAAAAAAAAAAAAAAAAAAAAAAAAAAAAAAAEAAQAAAAAAAAAAAAEAAQAAAAAAAAAAAAAAAAD//wAAAAAAAAAA/////////////wAAAAAAAAAAAAAAAAAAAAAAAAAA//////////8AAAAAAAAAAAAAAAAAAAAAAAAAAAAAAAAAAP////////////8AAAAAAAAAAAAAAAAAAAAAAAAAAAEAAQAAAAAAAAAAAAAAAAAAAAAAAAAAAAAA/////wAA/////wAAAAAAAAAAAAAAAAAAAAABAAAAAAABAAEAAQABAAEAAAAAAAAAAAAAAAAAAAAAAP//////////AAAAAAAAAAAAAAAAAAAAAAEAAQABAAEAAQABAAAAAAAAAAAAAAAAAAAAAAAAAP//////////AAD//wAAAAAAAAAAAAAAAAAAAAAAAAAAAAAAAAAAAAAAAAAAAAAAAAAAAAAAAAAAAAAAAAAAAAAAAAAAAAAAAAAAAAAAAAAAAAAAAAAAAAAAAAAAAAAAAAAAAAABAAEAAQAAAAAAAAAAAAAAAAAAAAAAAAAAAAAAAAAAAAAAAAAAAAAAAAAAAAAAAAAAAAAAAAAAAAAAAAAAAAAAAAAAAAAAAAAAAAAAAAAAAAAAAAAAAAAAAAAAAAAAAAAAAAAAAQAAAAAAAAAAAAAAAAAAAAAAAAAAAAAAAAAAAAAAAAAAAAAAAAAAAAAAAAAAAAEAAAAAAAAAAAD/////AAAAAAAAAAAAAAAAAAAAAAAAAAAAAAAAAAAAAAAAAAAAAAAAAAAAAAAAAAAAAAAAAAAAAAAAAAAAAAAAAAAAAAAAAAAAAAAAAAAAAAAAAAAAAAAAAAAAAAAAAAAAAAAAAAAAAAAAAAAAAAAAAAAAAAAAAAAAAAAAAAAAAAAAAAAAAAAAAAAAAAAAAAAAAAAAAAAAAAAAAAAAAAAAAAAAAAAAAAAAAAAAAAAAAAAAAAAAAAAAAAAAAAAAAAAAAAAAAAAAAAAAAAAAAAAAAAAAAAAAAAAAAAAAAAAAAAAAAAAAAAAAAAAAAAAAAAAAAAAAAAAAAAAAAAAAAAAAAQABAAEAAQAAAAAAAAAAAAAAAAAAAAAAAAAAAAAAAAAAAAAAAAAAAAAAAAAAAAAAAAAAAAAAAAAAAAAAAAAAAAAAAAAAAAAAAAAAAAAAAAAAAAAAAAAAAAAAAAAAAAAAAAAAAAAAAAAAAAAAAAAAAAAAAAAAAAAAAAAAAAAAAAAAAAAAAAAAAAAAAQABAAAAAAAAAAAAAAAAAAAAAAAAAAAAAAAAAAAAAAAAAAAAAAAAAAAAAAAAAAAAAAAAAAAAAAAAAAAAAAAAAAAAAAAAAAAAAAAAAAAAAAAAAAAAAAAAAAAAAAAAAAAAAAAAAAAAAAAAAAAAAAAAAAAAAAAAAAAAAAAAAAAAAAABAAEAAAAAAAAAAAAAAAAAAAAAAAAAAAAAAAAAAAAAAAAAAAAAAAAAAAAAAAAAAAAAAAAAAAAAAAAAAAAAAAAAAAAAAAAAAAAAAAAAAAAAAAAAAAAAAAAAAAAAAAAAAAAAAAAAAAAAAAAAAAAAAAAAAAAAAAAAAAAAAAAAAAAAAAAAAAAAAAAAAAAAAAAAAAAAAAAAAAAAAAAAAAAAAAAAAAAAAAAAAAAAAAAAAAAAAAAAAAAAAAAAAAAAAAAAAAAAAAAAAAAAAAAAAAAAAAAAAAAAAAAAAAAAAAAAAAAAAAAAAAAAAAAAAAAAAAAAAAAAAAAAAAAAAAAAAAAAAAAAAAAAAAAAAAAAAAAAAAAAAAAAAAAAAAAAAAAAAAAAAAAAAAAAAAAAAAAAAAAAAAAAAAAAAAAAAAAAAAAAAAAAAAAAAAAAAAAAAAAAAAAAAAAAAAAAAAAAAAAAAAAAAAAAAAAAAAAAAAAAAAAAAAAAAAAAAAAAAAAAAAAAAAAAAAAAAAAAAAAAAAAAAAAAAAAAAAAAAAAAAAAAAAAAAAAAAAAAAAAAAAAAAAAAAAAAAAAAAAAAAAAAAAAAAAAAAAAAAAAAAAAAAAAAAAAAAAAAAAAAAAAAAAAAAAAAAAAAAAAAAAAAAAAAAAAAAAAAAAAAAAAAAAAAAAAAAAAAAAAAAAAAAAAAAAAAAAAAAAAAAAAAAAAAAAAAAAAAAAAAAAAAAAAAAAAAAAAAAAAAAAAAAAAAAAAAAAAAAAAAAAAAAAAAAAAAAAAAAAAAAAAAAAAAAAAAAAAAAAAAAAAAAAAAAAAAAAAAAAAAAAAAAAAAAAAAAAAAAAAAAAAAAAAAAAAAAAAAAAAAAAAAAAAAAAAAAAAAAAAAAAAAAAAAAAAAAAAAAAAAAAAAAAAAAAAAAAAAAAAAAAAAAAAAAAAAAAAAAAAAAAABAAAAAAAAAAAAAAAAAAAAAAAAAAAAAAAAAAAAAAAAAAAAAAAAAAAAAAAAAAAAAAAAAAAAAAAAAAAAAAAAAAAAAAAAAAAAAAAAAAAAAAAAAAAAAAAAAAAAAAAAAAAAAAAAAAAAAAAAAAAAAAAAAAAAAAAAAAAAAAAAAAAAAAAAAAAAAAAAAAAAAAAAAAAAAAAAAAAAAAAAAAAAAAAAAAAAAAAAAAAAAAAAAAAAAAAAAAAAAAAAAAAAAAAAAAAAAAAAAAAAAQAAAAAAAAAAAAAAAAAAAAAAAAAAAAAAAAAAAAAAAAAAAAAAAAAAAAAAAAAAAAEAAQABAAAAAAAAAAAAAAAAAAAAAAAAAAAAAAAAAAAA//8AAAAAAAAAAAAAAAAAAAAAAAAAAAAAAAAAAAAAAAAAAAAAAAAAAAAAAAAAAAAAAAAAAAAAAAAAAAAAAAAAAAAAAAAAAAAAAAAAAAAAAAAAAAAAAAAAAAAAAAAAAAAAAAD//wAAAAAAAAEAAAAAAAAAAAAAAAAAAAAAAAAAAAAAAAAAAAAAAAAAAAAAAAAAAAAAAAAAAAAAAAAAAAAAAAAAAAAAAAAA/////wAAAAAAAAAAAAAAAAAA///+/wAAAAAAAAAAAAAAAAAAAAAAAAAAAAAAAAAAAAAAAAAAAAABAAEAAAAAAAAA///+//7///8AAAAAAAAAAAEAAAAAAAAAAAD/////AAAAAAAAAQABAAEAAAAAAAAA////////AAAAAAAAAAABAAEAAAAAAP////8AAAAAAQACAAIAAQABAAEAAAAAAAAAAAD///////8AAAAAAQABAAAAAAD//////////wAAAAAAAAEAAQAAAAAAAAAAAP///////wAAAAABAAEAAQABAAAA/////////////wAAAAAAAAAAAQABAAAAAAD+/////v///wAAAQABAAEAAAAAAAAAAAAAAP//AAAAAAAAAAABAAEAAQAAAAAA//8AAP//AAAAAAEAAQABAAEAAAAAAAAAAAAAAP////8AAAAAAQABAAEAAQAAAP///////wAAAAAAAAAAAAAAAAAAAAAAAAAA////////AAABAAEAAQAAAAAAAAAAAAAAAAAAAAAAAAAAAAAAAAAAAAAAAAAAAP///v/+//7//////////////wAAAAAAAAAAAAAAAAAAAAAAAAEAAQAAAAAAAAAAAAAAAAAAAAAAAAAAAAAAAAAAAAAAAAAAAAAAAAAAAAAAAAAAAAAAAQABAAAAAAAAAAEAAQABAAAAAAD/////AAAAAAAAAAD/////AAAAAAAAAAAAAP7///8AAAAAAAAAAAAAAAAAAAAAAAAAAAAAAAABAAEAAAAAAAAAAAAAAAAAAAAAAP////8AAAEAAAAAAAAAAAAAAAAAAAAAAAAAAAAAAAEAAQABAAAAAAAAAP//AAD//wAAAAAAAAAAAAAAAP////8AAAAAAAAAAP///v8AAAAAAAAAAAAAAAAAAAAAAAAAAAAAAAAAAAAAAAAAAAAAAAAAAAAAAAAAAAAAAAAAAAAAAAAAAAAAAAAAAAAAAAACAAAAAAAAAAAAAQABAAAAAAAAAAAAAAABAAEAAAAAAP//AAAAAAAAAAAAAAAAAAABAAAAAAAAAP//AAAAAAAAAAAAAAAAAAAAAAAAAAD/////AAAAAAAAAAAAAAAAAAAAAAAAAAD//////v8AAAAAAAAAAAAAAAAAAAAAAAAAAAAAAAABAAEAAAAAAAAAAAAAAAAAAAAAAP////8AAAAAAAAAAAAAAAAAAAAAAAAAAAAAAAAAAAEAAQABAAEAAAABAAEAAAAAAAAAAAAAAAAAAAAAAAAA/////////////////v///wAAAAAAAAAAAAAAAAAAAAAAAAAAAAABAAIAAAAAAAAAAAAAAAAAAAAAAAAAAAD//wAAAAAAAAAAAAAAAP//AAAAAAAAAAAAAAAAAQAAAAEAAQABAAAAAAAAAAEAAQAAAAAA///////////+/wAAAAAAAAAAAAAAAAAAAAAAAAAAAAAAAAAAAAAAAAAAAAAAAAAAAAAAAAAAAAAAAAAAAAAAAAAAAAD//wAAAAAAAAAA//8AAAAAAAAAAAAAAAAAAAAAAAAAAAAAAAABAAEAAQAAAAAAAAAAAAAAAAAAAAAAAAAAAAAAAAAAAAAAAAAAAAAAAAAAAAAAAAAAAAAAAAAAAAAAAAAAAAAAAAAAAAAAAAAAAAAAAAAAAAAAAAAAAAAAAAAAAAAAAAAAAAAAAAAAAAAAAAAAAAAAAAABAAEAAAAAAAAAAAAAAAAAAAAAAAAAAAAAAAAAAAAAAAAAAAAAAAAAAAAAAAAAAAAAAAAAAAAAAAEAAQABAAEAAQAAAAAAAAAAAAAAAAAAAAAAAAAAAAAAAAAAAAAAAAAAAAAAAAAAAP////8AAAAAAAAAAAAAAAAAAAAAAAAAAAAAAAAAAAAAAAAAAAAAAAAAAAAAAAAAAAAAAAAAAAAAAAAAAAAAAAAAAAAAAAAAAAAAAAAAAAEAAQABAAAAAAAAAAAAAQAAAAAAAAAAAAAAAAAAAAAAAAAAAAAAAAAAAAAAAAAAAAAAAAAAAAAAAAAAAAAAAAAAAAAAAAAAAAAAAAAAAAAAAAAAAAAAAAAAAAAAAAAAAAAAAAAAAAAAAAAAAAAAAAAAAAEAAAAAAAAAAAAAAAAAAAAAAAAAAAAAAAAAAAAAAAAAAAAAAAAAAAAAAAAAAAAAAAAAAAAAAAAAAAAAAAAAAAAAAAAAAAABAAAAAAAAAAAAAAAAAAAAAAAAAAAAAAAAAAAAAAAAAAAA/v///wAAAAAAAAAAAAAAAAAAAAAAAAAA////////AAAAAAEAAAAAAAAAAAD//wAAAAAAAAAAAAAAAAAAAAAAAAAAAAAAAAAAAAAAAAAAAAAAAAAAAAAAAAAAAAAAAAAAAAAAAAAAAAAAAAAAAAAAAAAAAAAAAAAAAQAAAAAAAAAAAAAAAAAAAAAAAAAAAAAAAAAAAAAAAAAAAAAAAAAAAAAAAAAAAAAAAAAAAAAAAAAAAAAAAAAAAAAAAAAAAAAAAAAAAAAAAAAAAAAAAAAAAAAAAAAAAAAAAAAAAAAAAAAAAAAAAAAAAAAAAAAAAAAAAAAAAAAAAAAAAAAAAAAAAAAAAAAAAAAAAAAAAAAAAAAAAAAAAAAAAAAAAAAAAAAAAAAAAAAAAAAAAAAAAAAAAAAAAAAAAAAAAAAAAAAAAAAAAAAAAAAAAAAAAAAAAAAAAAAAAAAAAAAAAAAAAAAAAAAAAAAAAAAAAAAAAAAAAAAAAAAAAAAAAAAAAAAAAAAAAAAAAAAAAAAAAAAAAAAAAAAAAAAAAAAAAAAAAAAAAAAAAAAAAAAAAAAAAAAAAAAAAAAAAAAAAAAAAAAAAAAAAAAAAAAAAAAAAAAAAAAAAAAAAAAAAAAAAAAAAAAAAAAAAAAAAAAAAAAAAAAA/////wAAAAAAAAEAAQABAAAAAAAAAP////8AAAAAAAAAAAAAAAAAAAAAAAD/////AAAAAAAAAAAAAAAAAAAAAAAA/////wAAAAAAAAAAAQABAAAAAAAAAP////8AAAAAAAAAAAAAAAAAAAAAAAD//wAAAAAAAAAAAAAAAAAAAAAAAAAAAAAAAAAAAAAAAAAAAAAAAAAAAAAAAAAAAAAAAAAAAAAAAAAAAAAAAAAAAAAAAAAAAAAAAAAAAAAAAAAAAAAAAAAAAAAAAAAAAAAAAAAAAAAAAAAAAAAAAAAAAAAAAAAAAAAAAAAAAQAAAAAAAAAAAAAAAQABAAEAAAAAAAAAAAAAAAAAAAAAAAAAAAAAAAAAAAAAAAAAAAAAAAAAAAAAAAAAAAAAAAAAAAAAAAAAAAAAAAAAAAAAAAAAAAAAAAAAAAAAAAAAAAAAAAAAAAAAAAAAAAAAAAAAAAAAAAAAAAAAAAAAAAAAAAAAAAAAAAAAAAAAAAAAAAAAAAAAAAAAAAAAAAAAAAAAAAAAAAAAAAAAAAAAAAAAAAAAAAAAAAAAAAAAAAAAAAAAAAAAAAAAAAAAAAAAAAAAAAAAAAAAAAAAAAAAAAAAAAAAAAAAAAAAAAAAAAAAAAAAAAAAAAAAAAAAAAAAAAAAAAAAAAAAAAAAAAAAAAAAAAAAAAAAAAAAAAAAAAAAAAAAAAAAAAAAAAAAAAAAAAAAAAAAAAAAAAAAAAAAAAAAAAAAAAAAAAAAAAAAAAAAAAAAAAAAAAAAAAAAAAAAAAAAAAAAAAAAAAAAAAAAAAAAAAAAAAAAAAAAAAAAAAAAAAAAAAAAAAAAAAAAAAAAAAAAAAAAAAAAAAAAAAAAAAAAAAAAAAAAAAAAAAAAAAAAAAAAAAAAAAAAAAAAAAAAAAAAAAAAAAAAAAAAAAAAAAAAAAAAAAAAAAAAAAAAAAAAAAAAAAAAAAAAAAAAAAAAAAAAAAAAAAAAAAAAAAAAAAAAAAAAAAAAAAAAAAAAAAAAAAAAAAAAAAAAAAAAAAAAAAAAAAAAAAAAAAAAAAAAAAAAAAAAAAAAAAAAAAAAAAAAAAAAAAAAAAAAAAAAAAAAAAAAAAAAAAAAAAAAAAAAAAAAAAAAAAAAAAAAAAAAAAAAAAAAAAAAAAAAAAAAAAAAAAAAAAAAAAAAAAAAAAAAAAAAAAAAAAAAAAAAAAAAAAAAAAAAAAAAAAAAAAAAAAAAAAAAAAAAAAAAAAAAAAAAAAAAAAAAAAAAAAAAAAAAAAAAAAAAAAAAAAAAAAAAAAAAAAAAAAAAAAAAAAAAAAAAAAAAAAAAAAAAAAAAAAAAAAAAAAAAAAAAAAAAAAAAAAAAAAAAAAAAAAAAAAAAAAAAAAAAAAAAAAAAAAAAAAAAAAAAAAAAAAAAAAAAAAAAAAAAAAAAAAAAAAAAAAAAAAAAAAAAAAAAAAAAAAAAAAAAAAAAAAAAAAAAAAAAAAAAAAAAAAAAAAAAAAAAAAAAAAAAAAAAAAAAAAAAAAAAAAAAAAAAAAAAAAAAAAAAAAAAAAAAAAAAAAAAAAAAAAAAAAAAAAAAAAAAAAAAAAAAAAAAAAAAAAAAAAAAAAAAAAAAAAAAAAAAAAAAAAAAAAAAAAAAAAAAAAAAAAAAAAAAAAAAAAAAAAAAAAAAAAAAAAAAAAAAAAAAAAAAAAAAAAAAAAEAAAAAAAAAAAAAAAAAAAAAAAAAAAAAAAAAAAAAAAAAAAAAAAAAAAAAAAAAAAAAAAAAAAAAAAAAAAAAAAAAAAAAAAAAAAAAAAAAAAAAAAAAAAAAAAAAAAAAAAAAAAAAAAAAAAAAAAAAAAAAAAAAAAAAAAAAAAAAAAAAAAAAAAAAAAAAAAAAAAAAAAAAAAAAAAAAAAAAAAAAAAAAAAAAAAAAAAAAAAAAAAAAAAAAAAEAAAAAAAAAAAAAAAAAAAAAAAAAAAAAAAAAAAAAAAAAAAAAAAAAAAAAAAAAAAAAAAAAAAAAAAAAAAAAAAAAAAAAAAAAAAAAAAAAAAAAAAAAAAAAAAAAAAAAAAAAAAAAAAAAAAAAAAAAAAAAAAAAAAAAAAAAAAAAAAAAAAAAAAAAAAAAAAAAAAAAAAAAAAAAAAAAAAAAAAAAAAAAAAAAAAAAAAAAAAAAAAAAAAAAAAAAAAAAAAAAAAAAAAAAAAAAAAAAAAAAAAAAAAAAAAAAAAAAAAAAAAAAAAAAAAAAAAAAAAAAAAAAAAAAAAAAAAAAAAAAAAAAAAAAAAAAAAAAAAAAAAAAAAAAAAAAAAAAAAAAAAAAAAAAAAAAAAAAAAAAAAAAAAAAAAAAAAAAAAAAAAAAAAAAAAAAAAAAAAAAAAAAAAAAAAAAAAAAAAAAAAAAAAAAAAAAAAAAAAAAAAAAAAAAAAAAAAAAAAAAAAAAAAAAAAAAAAAAAAAAAAAAAAAAAAAAAAAAAAAAAAAAAAAAAAAAAAAAAAAAAAEAAQABAAAAAAAAAAAAAAAAAAAAAAAAAAAAAAAAAAAAAAAAAAAAAAAAAAAAAAAAAAAAAAAAAAAAAAAAAAAAAAAAAAAAAAAAAAAAAAAAAAAAAAAAAAAAAAAAAAAAAAAAAAAAAAAAAAAAAAAAAAAAAAAAAAAAAAAAAAAAAAAAAAAAAAAAAAAAAAAAAAAAAAAAAAAAAAAAAAAAAAAAAAAAAAAAAAAAAAAAAAAAAAAAAAAAAAAAAAAAAAAAAAAAAAAAAAAAAAAAAAAAAAAAAAAAAAAAAAAAAAAAAAAAAAAAAAAAAAAAAAAAAAAAAAAAAAAAAAAAAAAAAAAAAAAAAAAAAAABAAAAAAAAAAAAAAAAAAAAAAAAAAAAAAAAAAAAAAAAAAAAAAAAAAAAAAAAAAAAAAAAAAAAAAAAAAAAAAAAAAAAAAAAAAAAAAAAAAAAAAAAAAAAAAAAAAAAAAAAAAAAAAAAAAAAAAAAAAAAAAAAAAAAAAAAAAAAAAAAAAAAAAAAAAAAAAAAAAAAAAAAAAAAAAAAAAAAAAAAAAAAAAAAAAAAAAAAAAAAAAAAAAAAAAAAAAAAAAAAAAAAAAAAAAAAAAAAAAAAAAAAAAAAAAAAAAAAAAAAAAAAAAAAAAAAAAAAAAAAAAAAAAAAAAAAAAAAAAAAAAAAAAAAAAAAAAAAAAAAAAAAAAAAAAAAAAAAAAAAAAAAAAAAAAAAAAAAAAAAAAAAAAAAAAAAAAAAAAAAAAAAAAAAAAAAAAAAAAAAAAAAAAAAAAAAAAAAAAAAAAAAAAAAAAAAAAAAAAAAAAAAAAAAAAAAAAAAAAAAAAAAAAAAAAAAAAAAAAAAAAAAAAAAAAAAAAAAAAAAAAAAAAAAAAAAAAAAAAAAAAAAAAAAAAAAAAAAAAAAAAAAAAAAAAAAAAAAAAAAAAAAAAAAAAAAAAAAAAAAAAAAAAAAAAAAAAAAAAAAAAAAAAAAAAAAAAAAAAAAAAAAAAAAAAAAAAAAAAAAAAAAAAAAAAAAAAAAAAAAAAAAAAAAAAAAAAAAAAAAAAAAAAAAAAAAAAAAAAAAAAAAAAAAAAAAAAAAAAAAAAAAAAAAAAAAAAAAAAAAAAAAAAAAAAAAAAAAAAAAAAAAAAAAAAAAAAAAAAAAAAAAAAAAAAAAAAAAAAAAAAAAAAAAAAAAAAAAAAAAAAAAAAAAAAAAAAAAAAAAAAAAAAAAAAAAAAAAAAAAAAAAAAAAAAAAAAAAAAAAAAAAAAAAAAAAAAAAAAAAAAAAAAAAAAAAAAAAAAAAAAAAAAAAAAAAAAAAAAAAAAAAAAAAAAAAAAAAAAAAAAAAAAAAAAAAAAAAAAAAAAAAAAAAAAAAAAAAAAAAAAAAAAAAAAAAAAAAAAAAAAAAAAAAAAAAAAAAAAAAAAAAAAAAAAAAAAAAAAAAAAAAAAAAAAAAAAAAAAAAAAAAAAAAAAAAAAAAAAAAAAAAAAAAAAAAAAAAAAAAAAAAAAAAAAAAAAAAAAAAAAAAAAAAAAAAAAAAAAAAAAAAAAAAAAAAAAAAAAAAAAAAAAAAAAAAAAAAAAAAAAAAAAAAAAAAAAAAAAAAAAAAAAAAAAAAAAAAAAAAAAAAAAAAAAAAAAAAAAAAAAAAAAAAAAAAAAAAAAAAAAAAAAAAAAAAAAAAAAAAAAAAAAAAAAAAAAAAAAAAAAAAAAAAAAAAAAAAAAAAAAAAAAAAAAAAAAAAAAAAAAAAAAAAAAAAAAAAAAAAAAAAAAAAAAAAAAAAAAAAAAAAAAAAAAAAAAAAAAAAAAAAAAAAAAAAAAAAAAAAAAAAAAAAAAAAAAAAAAAAAAAAAAAAAAAAAAAAAAAAAAAAAAAAAAAAAAAAAAAAAAAAAAAAAAAAAAAAAAAAAAAAAAAAAAAAAAAAAAAAAAAAAAAAAAAAAAAAAAAAAAAAAAAAAAAAAAAAAAAAAAAAAAAAAAAAAAAAAAAAAAAAAAAAAAAAAAAAAAAAAAAAAAAAAAAAAAAAAAAAAAAAAAAAAAAAAAAAAAAAAAAAAAAAAAAAAAAAAAAAAAAAAAAAAAAAAAAAAAAAAAAAAAAAAAAAAAAAAAAAAAAAAAAAAAAAAAAAAAAAAAAAAAAAAAAAAAAAAAAAAAAAAAAAAAAAAAAAAAAAAAAAAAAAAAAAAAAAAAAAAAAAAAAAAAAAAAAAAAAAAAAAAAAAAAAAAAAAAAAAAAAAAAAAAAAAAAAAAAAAAAAAAAAAAAAAAAAAAAAAAAAAAAAAAAAAAAAAAAAAAAAAAAAAAAAAAAAAAAAAAAAAAAAAAAAAAAAAAAAAAAAAAAAAAAAAAAAAAAAAAAAAAAAAAAAAAAAAAAAAAAAAAAAAAAAAAAAAAAAAAAAAAAAAAAAAAAAAAAAAAAAAAAAAAAAAAAAAAAAAAAAAAAAAAAAAAAAAAAAAAAAAAAAAAAAAAAAAAAAAAAAAAAAAAAAAAAAAAAAAAAAAAAAAAAAAAAAAAAAAAAAAAAAAAAAAAAAAAAAAAAAAAAAAAAAAAAAAAAAAAAAAAAAAAAAAAAAAAAAAAAAAAAAAAAAAAAAAAAAAAAAAAAAAAAAAAAAAAAAAAAAAAAAAAAAAAAAAAAAAAAAAAAAAAAAAAAAAAAAAAAAAAAAAAAAAAAAAAAAAAAAAAAAAAAAAAAAAAAAAAAAAAAAAAAAAAAAAAAAAAAAAAAAAAAAAAAAAAAAAAAAAAAAAAAAAAAAAAAAAAAAAAAAAAAAAAAAAAAAAAAAAAAAAAAAAAAAAAAAAAAAAAAAAAAAAAAAAAAAAAAAAAAAAAAAAAAAAAAAAAAAAAAAAAAAAAAAAAAAAAAAAAAAAAAAAAAAAAAAAAAAAAAAAAAAAAAAAAAAAAAAAAAAAAAAAAAAAAAAAAAAAAAAAAAAAAAAAAAAAAAAAAAAAAAAAAAAAAAAAAAAAAAAAAAAAAAAAAAAAAAAAAQAAAAAAAAAAAAAAAAAAAAAAAAAAAAAAAAAAAAAAAAAAAAAAAAAAAAAAAAAAAAAAAAAAAAAAAAAAAAAAAAAAAAAAAAAAAAAAAAAAAAAAAAAAAAAAAAAAAAAAAAAAAAAAAAAAAAAAAAAAAAAAAAAAAAAAAAAAAAAAAAAAAAAAAAAAAAAAAAAAAAAAAAAAAAAAAAAAAAAAAAAAAAAAAAAAAAAAAAAAAAAAAAAAAAAAAAAAAAAAAAAAAAAAAAAAAAAAAAAAAAAAAAAAAAAAAAAAAAAAAAAAAAAAAAAAAAAAAAAAAAAAAAAAAAAAAAAAAAAAAAAAAAAAAAAAAAAAAAAAAAAAAAAAAAAAAAAAAAAAAAAAAAAAAAAAAAAAAAAAAAAAAAAAAAAAAAAAAAAAAAAAAAAAAAAAAAAAAAAAAAAAAAAAAAAAAAAAAAAAAAAAAAAAAAAAAAAAAAAAAAAAAAAAAAAAAAAAAAAAAAAAAAAAAAAAAAAAAAAAAAAAAAAAAAAAAAAAAAAAAAAAAAAAAAAAAAAAAAAAAAAAAAAAAAAAAAAAAAAAAAAAAAAAAAAAAAAAAAAAAAAAAAAAAAAAAAAAAAAAAAAAAAAAAAAAAAAAAAAAAAAAAAAAAAAAAAAAAAAAAAAAAAAAAAAAAAAAAAAAAAAAAAAAAAAAAAAAAAAAAAAAAAAAAAAAAAAAAAAAAAAAAAAAAAAAAAAAAAAAAAAAAAAAAAAAAAAAAAAAAAAAAAAAAAAAAAAAAAAAAAAAAAAAAAAAAAAAAAABAAAAAAAAAAAAAAAAAAAAAAAAAAAAAAAAAAAAAAAAAAAAAAAAAAAAAAAAAAAAAAAAAAAAAAAAAAAAAAAAAAAAAAAAAAAAAAAAAAAAAAAAAAAAAAAAAAAAAAAAAAAAAAAAAAAAAAAAAAAAAAAAAAAAAAAAAAAAAAAAAAAAAAAAAAAAAAAAAAAAAAAAAAAAAAAAAAAAAAAAAAAAAAAAAAAAAAAAAAAAAAAAAAAAAAAAAAAAAAAAAAAAAAAAAAAAAAAAAAAAAAAAAAAAAAAAAAAAAAAAAAAAAAAAAAAAAAAAAAAAAAAAAAAAAAAAAAAAAAAAAAAAAAAAAAAAAAAAAAAAAAAAAAAAAAAAAAAAAAAAAAAAAAAAAAAAAAAAAAAAAAAAAAAAAAAAAAAAAAAAAAAAAAAAAAAAAAAAAAAAAAAAAAAAAAAAAAAAAAAAAAAAAAAAAAAAAAAAAAAAAAAAAAAAAAAAAAAAAAAAAAAAAAAAAAAAAAAAAAAAAAAAAAAAAAAAAAAAAAAAAAAAAAAAAAAAAAAAAAAAAAAAAAAAAAAAAAAAAAAAAAAAAAAAAAAAAAAAAAAAAAAAAAAAAAAAAAAAAAAAAAAAAAAAAAAAAAAAAAAAAAAAAAAAAAAAAAAAAAAAAAAAAAAAAAAAAAAAAAAAAAAAAAAAAAAAAAAAAAAAAAAAAAAAAAAAAAAAAAAAAAAAAAAAAAAAAAAAAAAAAAAAAAAAAAAAAAAAAAAAAAAAAAAAAAAAAAAAAAAAAAAAAAAAAAAAAAAAAAAAAAAAAAAAAAAAAAAAAAAAAAAAAAAAAAAAAAAAAAAAAAAAAAAAAAAAAAAAAAAAAAAAAAAAAAAAAAAAAAAAAAAAAAAAAAAAAAAAAAAAAAAAAAAAAAAAAAAAAAAAAAAAAAAAAAAAAAAAAAAAAAAAAAAAAAAAAAAAAAAAAAAAAAAAAAAAAAAAAAAAAAAAAAAAAAAAAAAAAAAAAAAAAAAAAAAAAAAAAAAAAAAAAAAAAAAAAAAAAAAAAAAAAAAAAAAAAAAAAAAAAAAAAAAAAAAAAAAAAAAAAAAAAAAAAAAAAAAAAAAAAAAAAAAAAAAAAAAAAAAAAAAAAAAAAAAAAAAAAAAAAAAAAAAAAAAAAAAAAAAAAAAAAAAAAAAAAAAAAAAAAAAAAAAAAAAAAAAAAAAAAAAAAAAAAAAAAAAAAAAAAAAAAAAAAAAAAAAAAAAAAAAAAAAAAAAAAAAAAAAAAAAAAAAAAAAAAAAAAAAAAAAAAAAAAAAAAAAAAAAAAAAAAAAAAAAAAAAAAAAAAAAAAAAAAAAAAAAAAAAAAAAAAAAAAAAAAAAAAAAAAAAAAAAAAAAAAAAAAAAAAAAAAAAAAAAAAAAAAAAAAAAAAAAAAAAAAAAAAAAAAAAAAAAAAAAAAAAAAAAAAAAAAAAAAAAAAAAAAAAAAAAAAAAAAAAAAAAAAAAAAAAAAAAAAAAAAAAAAAAAAAAAAAAAAAAAAAAAAAAAAAAAAAAAAAAAAAAAAAAAAAAAAAAAAAAAAAAAAAAAAAAAAAAAAAAAAAAAAAAAAAAAAAAAAAAAAAAAAAAAAAAAAAAAAAAAAAAAAAAAAAAAAAAAAAAAAAAAAAAAAAAAAAAAAAAAAAAAAAAAAAAAAAAAAAAAAAAAAAAAAAAAAAAAAAAAAAAAAAAAAAAAAAAAAAAAAAAAAAAAAAAAAAAAAAAAAAAAAAAAAAAAAAAAAAAAAAAAAAAAAAAAAAAAAAAAAAAAAAAAAAAAAAAAAAAAAAAAAAAAAAAAAAAAAAAAAAAAAAAAAAAAAAAAAAAAAAAAAAAAAAAAAAAAAAAAAAAAAAAAAAAAAAAAAAAAAAAAAAAAAAAAAAAAAAAAAAAAAAAAAAAAAAAAAAAAAAA=\" type=\"audio/wav\" />\n",
       "                    Your browser does not support the audio element.\n",
       "                </audio>\n",
       "              "
      ],
      "text/plain": [
       "<IPython.lib.display.Audio object>"
      ]
     },
     "execution_count": 23,
     "metadata": {},
     "output_type": "execute_result"
    }
   ],
   "source": [
    "import IPython.display as ipd\n",
    "import numpy as np\n",
    "import random\n",
    "\n",
    "rand_int = random.randint(0, len(common_voice_train)-1)\n",
    "\n",
    "ipd.Audio(data=common_voice_train[rand_int][\"audio\"][\"array\"], autoplay=True, rate=16000)"
   ]
  },
  {
   "cell_type": "code",
   "execution_count": 24,
   "metadata": {},
   "outputs": [
    {
     "name": "stdout",
     "output_type": "stream",
     "text": [
      "Target text: এতে তিনি ডাবল সেঞ্চুরি বা দ্বিশতক করেন। \n",
      "Input array shape: (92736,)\n",
      "Sampling rate: 16000\n"
     ]
    }
   ],
   "source": [
    "rand_int = random.randint(0, len(common_voice_train)-1)\n",
    "\n",
    "print(\"Target text:\", common_voice_train[rand_int][\"sentence\"])\n",
    "print(\"Input array shape:\", common_voice_train[rand_int][\"audio\"][\"array\"].shape)\n",
    "print(\"Sampling rate:\", common_voice_train[rand_int][\"audio\"][\"sampling_rate\"])"
   ]
  },
  {
   "cell_type": "code",
   "execution_count": 25,
   "metadata": {},
   "outputs": [],
   "source": [
    "def prepare_dataset(batch):\n",
    "    audio = batch[\"audio\"]\n",
    "\n",
    "    # batched output is \"un-batched\"\n",
    "    batch[\"input_values\"] = processor(audio[\"array\"], sampling_rate=audio[\"sampling_rate\"]).input_values[0]\n",
    "    \n",
    "    with processor.as_target_processor():\n",
    "        batch[\"labels\"] = processor(batch[\"sentence\"]).input_ids\n",
    "    return batch"
   ]
  },
  {
   "cell_type": "code",
   "execution_count": 26,
   "metadata": {},
   "outputs": [
    {
     "name": "stderr",
     "output_type": "stream",
     "text": [
      "Map (num_proc=4):   0%|          | 0/9000 [00:00<?, ? examples/s]/home/mehedi/anaconda3/envs/wav2vec/lib/python3.10/site-packages/transformers/models/wav2vec2/processing_wav2vec2.py:157: UserWarning: `as_target_processor` is deprecated and will be removed in v5 of Transformers. You can process your labels by using the argument `text` of the regular `__call__` method (either in the same call as your audio inputs, or in a separate call.\n",
      "  warnings.warn(\n",
      "/home/mehedi/anaconda3/envs/wav2vec/lib/python3.10/site-packages/transformers/models/wav2vec2/processing_wav2vec2.py:157: UserWarning: `as_target_processor` is deprecated and will be removed in v5 of Transformers. You can process your labels by using the argument `text` of the regular `__call__` method (either in the same call as your audio inputs, or in a separate call.\n",
      "  warnings.warn(\n",
      "/home/mehedi/anaconda3/envs/wav2vec/lib/python3.10/site-packages/transformers/models/wav2vec2/processing_wav2vec2.py:157: UserWarning: `as_target_processor` is deprecated and will be removed in v5 of Transformers. You can process your labels by using the argument `text` of the regular `__call__` method (either in the same call as your audio inputs, or in a separate call.\n",
      "  warnings.warn(\n",
      "/home/mehedi/anaconda3/envs/wav2vec/lib/python3.10/site-packages/transformers/models/wav2vec2/processing_wav2vec2.py:157: UserWarning: `as_target_processor` is deprecated and will be removed in v5 of Transformers. You can process your labels by using the argument `text` of the regular `__call__` method (either in the same call as your audio inputs, or in a separate call.\n",
      "  warnings.warn(\n",
      "Map (num_proc=4): 100%|██████████| 9000/9000 [00:18<00:00, 498.08 examples/s]\n",
      "Map (num_proc=4):   0%|          | 0/1000 [00:00<?, ? examples/s]/home/mehedi/anaconda3/envs/wav2vec/lib/python3.10/site-packages/transformers/models/wav2vec2/processing_wav2vec2.py:157: UserWarning: `as_target_processor` is deprecated and will be removed in v5 of Transformers. You can process your labels by using the argument `text` of the regular `__call__` method (either in the same call as your audio inputs, or in a separate call.\n",
      "  warnings.warn(\n",
      "/home/mehedi/anaconda3/envs/wav2vec/lib/python3.10/site-packages/transformers/models/wav2vec2/processing_wav2vec2.py:157: UserWarning: `as_target_processor` is deprecated and will be removed in v5 of Transformers. You can process your labels by using the argument `text` of the regular `__call__` method (either in the same call as your audio inputs, or in a separate call.\n",
      "  warnings.warn(\n",
      "/home/mehedi/anaconda3/envs/wav2vec/lib/python3.10/site-packages/transformers/models/wav2vec2/processing_wav2vec2.py:157: UserWarning: `as_target_processor` is deprecated and will be removed in v5 of Transformers. You can process your labels by using the argument `text` of the regular `__call__` method (either in the same call as your audio inputs, or in a separate call.\n",
      "  warnings.warn(\n",
      "/home/mehedi/anaconda3/envs/wav2vec/lib/python3.10/site-packages/transformers/models/wav2vec2/processing_wav2vec2.py:157: UserWarning: `as_target_processor` is deprecated and will be removed in v5 of Transformers. You can process your labels by using the argument `text` of the regular `__call__` method (either in the same call as your audio inputs, or in a separate call.\n",
      "  warnings.warn(\n",
      "Map (num_proc=4): 100%|██████████| 1000/1000 [00:02<00:00, 451.12 examples/s]\n"
     ]
    }
   ],
   "source": [
    "common_voice_train = common_voice_train.map(prepare_dataset, remove_columns=common_voice_train.column_names, num_proc=4)\n",
    "common_voice_test = common_voice_test.map(prepare_dataset, remove_columns=common_voice_test.column_names, num_proc=4)"
   ]
  },
  {
   "cell_type": "code",
   "execution_count": 27,
   "metadata": {},
   "outputs": [],
   "source": [
    "import torch\n",
    "\n",
    "from dataclasses import dataclass, field\n",
    "from typing import Any, Dict, List, Optional, Union\n",
    "\n",
    "@dataclass\n",
    "class DataCollatorCTCWithPadding:\n",
    "    \"\"\"\n",
    "    Data collator that will dynamically pad the inputs received.\n",
    "    Args:\n",
    "        processor (:class:`~transformers.Wav2Vec2Processor`)\n",
    "            The processor used for proccessing the data.\n",
    "        padding (:obj:`bool`, :obj:`str` or :class:`~transformers.tokenization_utils_base.PaddingStrategy`, `optional`, defaults to :obj:`True`):\n",
    "            Select a strategy to pad the returned sequences (according to the model's padding side and padding index)\n",
    "            among:\n",
    "            * :obj:`True` or :obj:`'longest'`: Pad to the longest sequence in the batch (or no padding if only a single\n",
    "              sequence if provided).\n",
    "            * :obj:`'max_length'`: Pad to a maximum length specified with the argument :obj:`max_length` or to the\n",
    "              maximum acceptable input length for the model if that argument is not provided.\n",
    "            * :obj:`False` or :obj:`'do_not_pad'` (default): No padding (i.e., can output a batch with sequences of\n",
    "              different lengths).\n",
    "        max_length (:obj:`int`, `optional`):\n",
    "            Maximum length of the ``input_values`` of the returned list and optionally padding length (see above).\n",
    "        max_length_labels (:obj:`int`, `optional`):\n",
    "            Maximum length of the ``labels`` returned list and optionally padding length (see above).\n",
    "        pad_to_multiple_of (:obj:`int`, `optional`):\n",
    "            If set will pad the sequence to a multiple of the provided value.\n",
    "            This is especially useful to enable the use of Tensor Cores on NVIDIA hardware with compute capability >=\n",
    "            7.5 (Volta).\n",
    "    \"\"\"\n",
    "\n",
    "    processor: Wav2Vec2Processor\n",
    "    padding: Union[bool, str] = True\n",
    "    max_length: Optional[int] = None\n",
    "    max_length_labels: Optional[int] = None\n",
    "    pad_to_multiple_of: Optional[int] = None\n",
    "    pad_to_multiple_of_labels: Optional[int] = None\n",
    "\n",
    "    def __call__(self, features: List[Dict[str, Union[List[int], torch.Tensor]]]) -> Dict[str, torch.Tensor]:\n",
    "        # split inputs and labels since they have to be of different lenghts and need\n",
    "        # different padding methods\n",
    "        input_features = [{\"input_values\": feature[\"input_values\"]} for feature in features]\n",
    "        label_features = [{\"input_ids\": feature[\"labels\"]} for feature in features]\n",
    "\n",
    "        batch = self.processor.pad(\n",
    "            input_features,\n",
    "            padding=self.padding,\n",
    "            max_length=self.max_length,\n",
    "            pad_to_multiple_of=self.pad_to_multiple_of,\n",
    "            return_tensors=\"pt\",\n",
    "        )\n",
    "        with self.processor.as_target_processor():\n",
    "            labels_batch = self.processor.pad(\n",
    "                label_features,\n",
    "                padding=self.padding,\n",
    "                max_length=self.max_length_labels,\n",
    "                pad_to_multiple_of=self.pad_to_multiple_of_labels,\n",
    "                return_tensors=\"pt\",\n",
    "            )\n",
    "\n",
    "        # replace padding with -100 to ignore loss correctly\n",
    "        labels = labels_batch[\"input_ids\"].masked_fill(labels_batch.attention_mask.ne(1), -100)\n",
    "\n",
    "        batch[\"labels\"] = labels\n",
    "\n",
    "        return batch"
   ]
  },
  {
   "cell_type": "code",
   "execution_count": 28,
   "metadata": {},
   "outputs": [],
   "source": [
    "data_collator = DataCollatorCTCWithPadding(processor=processor, padding=True)"
   ]
  },
  {
   "cell_type": "code",
   "execution_count": 29,
   "metadata": {},
   "outputs": [],
   "source": [
    "import evaluate\n",
    "\n",
    "# Load the Word Error Rate (WER) metric\n",
    "wer_metric = evaluate.load(\"wer\")"
   ]
  },
  {
   "cell_type": "code",
   "execution_count": 30,
   "metadata": {},
   "outputs": [],
   "source": [
    "def compute_metrics(pred):\n",
    "    pred_logits = pred.predictions\n",
    "    pred_ids = np.argmax(pred_logits, axis=-1)\n",
    "\n",
    "    pred.label_ids[pred.label_ids == -100] = processor.tokenizer.pad_token_id\n",
    "\n",
    "    pred_str = processor.batch_decode(pred_ids)\n",
    "    # we do not want to group tokens when computing the metrics\n",
    "    label_str = processor.batch_decode(pred.label_ids, group_tokens=False)\n",
    "\n",
    "    wer = wer_metric.compute(predictions=pred_str, references=label_str)\n",
    "\n",
    "    return {\"wer\": wer}"
   ]
  },
  {
   "cell_type": "code",
   "execution_count": 31,
   "metadata": {},
   "outputs": [
    {
     "name": "stderr",
     "output_type": "stream",
     "text": [
      "Some weights of Wav2Vec2ForCTC were not initialized from the model checkpoint at facebook/wav2vec2-large-xlsr-53 and are newly initialized: ['lm_head.bias', 'lm_head.weight']\n",
      "You should probably TRAIN this model on a down-stream task to be able to use it for predictions and inference.\n"
     ]
    }
   ],
   "source": [
    "from transformers import Wav2Vec2ForCTC\n",
    "\n",
    "model = Wav2Vec2ForCTC.from_pretrained(\n",
    "    \"facebook/wav2vec2-large-xlsr-53\",  \n",
    "    attention_dropout=0.1,\n",
    "    hidden_dropout=0.1,\n",
    "    feat_proj_dropout=0.0,\n",
    "    mask_time_prob=0.05,\n",
    "    layerdrop=0.1,\n",
    "    ctc_loss_reduction=\"mean\", \n",
    "    pad_token_id=processor.tokenizer.pad_token_id,\n",
    "    vocab_size=len(processor.tokenizer)\n",
    ")"
   ]
  },
  {
   "cell_type": "code",
   "execution_count": 32,
   "metadata": {},
   "outputs": [
    {
     "name": "stderr",
     "output_type": "stream",
     "text": [
      "/home/mehedi/anaconda3/envs/wav2vec/lib/python3.10/site-packages/transformers/models/wav2vec2/modeling_wav2vec2.py:2177: FutureWarning: The method `freeze_feature_extractor` is deprecated and will be removed in Transformers v5. Please use the equivalent `freeze_feature_encoder` method instead.\n",
      "  warnings.warn(\n"
     ]
    }
   ],
   "source": [
    "model.freeze_feature_extractor()"
   ]
  },
  {
   "cell_type": "code",
   "execution_count": 33,
   "metadata": {},
   "outputs": [],
   "source": [
    "model.gradient_checkpointing_enable()"
   ]
  },
  {
   "cell_type": "code",
   "execution_count": 34,
   "metadata": {},
   "outputs": [
    {
     "name": "stderr",
     "output_type": "stream",
     "text": [
      "/home/mehedi/anaconda3/envs/wav2vec/lib/python3.10/site-packages/transformers/training_args.py:1545: FutureWarning: `evaluation_strategy` is deprecated and will be removed in version 4.46 of 🤗 Transformers. Use `eval_strategy` instead\n",
      "  warnings.warn(\n"
     ]
    }
   ],
   "source": [
    "from transformers import TrainingArguments\n",
    "\n",
    "training_args = TrainingArguments(\n",
    "  output_dir=\"./wav2vec2-large-xlsr-bn-demo\",\n",
    "  group_by_length=True,\n",
    "  per_device_train_batch_size=16,\n",
    "  gradient_accumulation_steps=2,\n",
    "  evaluation_strategy=\"steps\",\n",
    "  num_train_epochs=20,\n",
    "  fp16=True,  # Disable mixed precision training on CPU\n",
    "  save_steps=100,\n",
    "  eval_steps=100,\n",
    "  logging_steps=10,\n",
    "  learning_rate=3e-4,\n",
    "  warmup_steps=500,\n",
    "  save_total_limit=2,\n",
    ")"
   ]
  },
  {
   "cell_type": "code",
   "execution_count": 35,
   "metadata": {},
   "outputs": [
    {
     "name": "stderr",
     "output_type": "stream",
     "text": [
      "/home/mehedi/anaconda3/envs/wav2vec/lib/python3.10/site-packages/accelerate/accelerator.py:449: FutureWarning: `torch.cuda.amp.GradScaler(args...)` is deprecated. Please use `torch.amp.GradScaler('cuda', args...)` instead.\n",
      "  self.scaler = torch.cuda.amp.GradScaler(**kwargs)\n"
     ]
    }
   ],
   "source": [
    "from transformers import Trainer\n",
    "\n",
    "trainer = Trainer(\n",
    "    model=model,\n",
    "    data_collator=data_collator,\n",
    "    args=training_args,\n",
    "    compute_metrics=compute_metrics,\n",
    "    train_dataset=common_voice_train,\n",
    "    eval_dataset=common_voice_test,\n",
    "    tokenizer=processor.feature_extractor,\n",
    ")"
   ]
  },
  {
   "cell_type": "code",
   "execution_count": 36,
   "metadata": {},
   "outputs": [
    {
     "name": "stderr",
     "output_type": "stream",
     "text": [
      "  0%|          | 0/5620 [00:00<?, ?it/s]/home/mehedi/anaconda3/envs/wav2vec/lib/python3.10/site-packages/transformers/models/wav2vec2/processing_wav2vec2.py:157: UserWarning: `as_target_processor` is deprecated and will be removed in v5 of Transformers. You can process your labels by using the argument `text` of the regular `__call__` method (either in the same call as your audio inputs, or in a separate call.\n",
      "  warnings.warn(\n",
      "/home/mehedi/anaconda3/envs/wav2vec/lib/python3.10/site-packages/torch/utils/checkpoint.py:295: FutureWarning: `torch.cpu.amp.autocast(args...)` is deprecated. Please use `torch.amp.autocast('cpu', args...)` instead.\n",
      "  with torch.enable_grad(), device_autocast_ctx, torch.cpu.amp.autocast(**ctx.cpu_autocast_kwargs):  # type: ignore[attr-defined]\n",
      "  0%|          | 10/5620 [00:39<5:30:26,  3.53s/it]"
     ]
    },
    {
     "name": "stdout",
     "output_type": "stream",
     "text": [
      "{'loss': 17.8706, 'grad_norm': 5.545180320739746, 'learning_rate': 5.399999999999999e-06, 'epoch': 0.04}\n"
     ]
    },
    {
     "name": "stderr",
     "output_type": "stream",
     "text": [
      "  0%|          | 20/5620 [01:09<4:22:51,  2.82s/it]"
     ]
    },
    {
     "name": "stdout",
     "output_type": "stream",
     "text": [
      "{'loss': 18.3859, 'grad_norm': 10.400908470153809, 'learning_rate': 1.14e-05, 'epoch': 0.07}\n"
     ]
    },
    {
     "name": "stderr",
     "output_type": "stream",
     "text": [
      "  1%|          | 30/5620 [01:33<3:30:06,  2.26s/it]"
     ]
    },
    {
     "name": "stdout",
     "output_type": "stream",
     "text": [
      "{'loss': 18.8783, 'grad_norm': 10.058520317077637, 'learning_rate': 1.74e-05, 'epoch': 0.11}\n"
     ]
    },
    {
     "name": "stderr",
     "output_type": "stream",
     "text": [
      "  1%|          | 40/5620 [01:53<3:06:31,  2.01s/it]"
     ]
    },
    {
     "name": "stdout",
     "output_type": "stream",
     "text": [
      "{'loss': 18.9639, 'grad_norm': 9.740849494934082, 'learning_rate': 2.28e-05, 'epoch': 0.14}\n"
     ]
    },
    {
     "name": "stderr",
     "output_type": "stream",
     "text": [
      "  1%|          | 50/5620 [02:09<2:22:55,  1.54s/it]"
     ]
    },
    {
     "name": "stdout",
     "output_type": "stream",
     "text": [
      "{'loss': 19.42, 'grad_norm': 19.218948364257812, 'learning_rate': 2.88e-05, 'epoch': 0.18}\n"
     ]
    },
    {
     "name": "stderr",
     "output_type": "stream",
     "text": [
      "  1%|          | 60/5620 [02:48<5:24:03,  3.50s/it]"
     ]
    },
    {
     "name": "stdout",
     "output_type": "stream",
     "text": [
      "{'loss': 14.9929, 'grad_norm': 17.075782775878906, 'learning_rate': 3.48e-05, 'epoch': 0.21}\n"
     ]
    },
    {
     "name": "stderr",
     "output_type": "stream",
     "text": [
      "  1%|          | 70/5620 [03:18<4:21:40,  2.83s/it]"
     ]
    },
    {
     "name": "stdout",
     "output_type": "stream",
     "text": [
      "{'loss': 12.1051, 'grad_norm': 17.634010314941406, 'learning_rate': 4.08e-05, 'epoch': 0.25}\n"
     ]
    },
    {
     "name": "stderr",
     "output_type": "stream",
     "text": [
      "  1%|▏         | 80/5620 [03:42<3:36:45,  2.35s/it]"
     ]
    },
    {
     "name": "stdout",
     "output_type": "stream",
     "text": [
      "{'loss': 10.2936, 'grad_norm': 20.859359741210938, 'learning_rate': 4.68e-05, 'epoch': 0.28}\n"
     ]
    },
    {
     "name": "stderr",
     "output_type": "stream",
     "text": [
      "  2%|▏         | 90/5620 [04:03<3:00:52,  1.96s/it]"
     ]
    },
    {
     "name": "stdout",
     "output_type": "stream",
     "text": [
      "{'loss': 7.3923, 'grad_norm': 15.823247909545898, 'learning_rate': 5.279999999999999e-05, 'epoch': 0.32}\n"
     ]
    },
    {
     "name": "stderr",
     "output_type": "stream",
     "text": [
      "  2%|▏         | 100/5620 [04:19<2:17:18,  1.49s/it]"
     ]
    },
    {
     "name": "stdout",
     "output_type": "stream",
     "text": [
      "{'loss': 6.8982, 'grad_norm': 15.479625701904297, 'learning_rate': 5.88e-05, 'epoch': 0.36}\n"
     ]
    },
    {
     "name": "stderr",
     "output_type": "stream",
     "text": [
      "                                                    \n",
      "  2%|▏         | 100/5620 [05:12<2:17:18,  1.49s/it]"
     ]
    },
    {
     "name": "stdout",
     "output_type": "stream",
     "text": [
      "{'eval_loss': 5.429949760437012, 'eval_wer': 1.0, 'eval_runtime': 53.1206, 'eval_samples_per_second': 18.825, 'eval_steps_per_second': 2.353, 'epoch': 0.36}\n"
     ]
    },
    {
     "name": "stderr",
     "output_type": "stream",
     "text": [
      "/home/mehedi/anaconda3/envs/wav2vec/lib/python3.10/site-packages/transformers/models/wav2vec2/processing_wav2vec2.py:157: UserWarning: `as_target_processor` is deprecated and will be removed in v5 of Transformers. You can process your labels by using the argument `text` of the regular `__call__` method (either in the same call as your audio inputs, or in a separate call.\n",
      "  warnings.warn(\n",
      "/home/mehedi/anaconda3/envs/wav2vec/lib/python3.10/site-packages/torch/utils/checkpoint.py:295: FutureWarning: `torch.cpu.amp.autocast(args...)` is deprecated. Please use `torch.amp.autocast('cpu', args...)` instead.\n",
      "  with torch.enable_grad(), device_autocast_ctx, torch.cpu.amp.autocast(**ctx.cpu_autocast_kwargs):  # type: ignore[attr-defined]\n",
      "  2%|▏         | 110/5620 [05:55<6:05:10,  3.98s/it] "
     ]
    },
    {
     "name": "stdout",
     "output_type": "stream",
     "text": [
      "{'loss': 5.2105, 'grad_norm': 11.416728019714355, 'learning_rate': 6.479999999999999e-05, 'epoch': 0.39}\n"
     ]
    },
    {
     "name": "stderr",
     "output_type": "stream",
     "text": [
      "  2%|▏         | 120/5620 [06:22<4:00:20,  2.62s/it]"
     ]
    },
    {
     "name": "stdout",
     "output_type": "stream",
     "text": [
      "{'loss': 4.9089, 'grad_norm': 5.9066267013549805, 'learning_rate': 7.079999999999999e-05, 'epoch': 0.43}\n"
     ]
    },
    {
     "name": "stderr",
     "output_type": "stream",
     "text": [
      "  2%|▏         | 130/5620 [06:44<3:19:07,  2.18s/it]"
     ]
    },
    {
     "name": "stdout",
     "output_type": "stream",
     "text": [
      "{'loss': 4.2588, 'grad_norm': 3.9258084297180176, 'learning_rate': 7.68e-05, 'epoch': 0.46}\n"
     ]
    },
    {
     "name": "stderr",
     "output_type": "stream",
     "text": [
      "  2%|▏         | 140/5620 [07:03<2:39:47,  1.75s/it]"
     ]
    },
    {
     "name": "stdout",
     "output_type": "stream",
     "text": [
      "{'loss': 3.9732, 'grad_norm': 3.0997462272644043, 'learning_rate': 8.28e-05, 'epoch': 0.5}\n"
     ]
    },
    {
     "name": "stderr",
     "output_type": "stream",
     "text": [
      "  3%|▎         | 150/5620 [07:17<2:04:11,  1.36s/it]"
     ]
    },
    {
     "name": "stdout",
     "output_type": "stream",
     "text": [
      "{'loss': 3.8228, 'grad_norm': 4.046639919281006, 'learning_rate': 8.879999999999999e-05, 'epoch': 0.53}\n"
     ]
    },
    {
     "name": "stderr",
     "output_type": "stream",
     "text": [
      "  3%|▎         | 160/5620 [07:52<4:48:13,  3.17s/it]"
     ]
    },
    {
     "name": "stdout",
     "output_type": "stream",
     "text": [
      "{'loss': 3.5798, 'grad_norm': 1.599672555923462, 'learning_rate': 9.479999999999999e-05, 'epoch': 0.57}\n"
     ]
    },
    {
     "name": "stderr",
     "output_type": "stream",
     "text": [
      "  3%|▎         | 170/5620 [08:18<3:46:42,  2.50s/it]"
     ]
    },
    {
     "name": "stdout",
     "output_type": "stream",
     "text": [
      "{'loss': 3.4992, 'grad_norm': 0.42286616563796997, 'learning_rate': 0.0001008, 'epoch': 0.6}\n"
     ]
    },
    {
     "name": "stderr",
     "output_type": "stream",
     "text": [
      "  3%|▎         | 180/5620 [08:40<3:11:32,  2.11s/it]"
     ]
    },
    {
     "name": "stdout",
     "output_type": "stream",
     "text": [
      "{'loss': 3.4713, 'grad_norm': 0.2267410010099411, 'learning_rate': 0.00010679999999999998, 'epoch': 0.64}\n"
     ]
    },
    {
     "name": "stderr",
     "output_type": "stream",
     "text": [
      "  3%|▎         | 190/5620 [08:59<2:40:59,  1.78s/it]"
     ]
    },
    {
     "name": "stdout",
     "output_type": "stream",
     "text": [
      "{'loss': 3.4535, 'grad_norm': 0.3514644503593445, 'learning_rate': 0.00011279999999999999, 'epoch': 0.67}\n"
     ]
    },
    {
     "name": "stderr",
     "output_type": "stream",
     "text": [
      "  4%|▎         | 200/5620 [09:13<2:06:16,  1.40s/it]"
     ]
    },
    {
     "name": "stdout",
     "output_type": "stream",
     "text": [
      "{'loss': 3.4946, 'grad_norm': 0.7973133325576782, 'learning_rate': 0.0001188, 'epoch': 0.71}\n"
     ]
    },
    {
     "name": "stderr",
     "output_type": "stream",
     "text": [
      "                                                    \n",
      "  4%|▎         | 200/5620 [10:04<2:06:16,  1.40s/it]"
     ]
    },
    {
     "name": "stdout",
     "output_type": "stream",
     "text": [
      "{'eval_loss': 3.454160690307617, 'eval_wer': 1.0, 'eval_runtime': 50.3431, 'eval_samples_per_second': 19.864, 'eval_steps_per_second': 2.483, 'epoch': 0.71}\n"
     ]
    },
    {
     "name": "stderr",
     "output_type": "stream",
     "text": [
      "/home/mehedi/anaconda3/envs/wav2vec/lib/python3.10/site-packages/transformers/models/wav2vec2/processing_wav2vec2.py:157: UserWarning: `as_target_processor` is deprecated and will be removed in v5 of Transformers. You can process your labels by using the argument `text` of the regular `__call__` method (either in the same call as your audio inputs, or in a separate call.\n",
      "  warnings.warn(\n",
      "/home/mehedi/anaconda3/envs/wav2vec/lib/python3.10/site-packages/torch/utils/checkpoint.py:295: FutureWarning: `torch.cpu.amp.autocast(args...)` is deprecated. Please use `torch.amp.autocast('cpu', args...)` instead.\n",
      "  with torch.enable_grad(), device_autocast_ctx, torch.cpu.amp.autocast(**ctx.cpu_autocast_kwargs):  # type: ignore[attr-defined]\n",
      "  4%|▎         | 210/5620 [10:44<5:50:03,  3.88s/it] "
     ]
    },
    {
     "name": "stdout",
     "output_type": "stream",
     "text": [
      "{'loss': 3.4366, 'grad_norm': 0.6426085233688354, 'learning_rate': 0.00012479999999999997, 'epoch': 0.75}\n"
     ]
    },
    {
     "name": "stderr",
     "output_type": "stream",
     "text": [
      "  4%|▍         | 220/5620 [11:11<3:53:47,  2.60s/it]"
     ]
    },
    {
     "name": "stdout",
     "output_type": "stream",
     "text": [
      "{'loss': 3.4251, 'grad_norm': 0.26439738273620605, 'learning_rate': 0.00013079999999999998, 'epoch': 0.78}\n"
     ]
    },
    {
     "name": "stderr",
     "output_type": "stream",
     "text": [
      "  4%|▍         | 230/5620 [11:33<3:08:26,  2.10s/it]"
     ]
    },
    {
     "name": "stdout",
     "output_type": "stream",
     "text": [
      "{'loss': 3.4069, 'grad_norm': 1.0818825960159302, 'learning_rate': 0.0001368, 'epoch': 0.82}\n"
     ]
    },
    {
     "name": "stderr",
     "output_type": "stream",
     "text": [
      "  4%|▍         | 240/5620 [11:51<2:39:42,  1.78s/it]"
     ]
    },
    {
     "name": "stdout",
     "output_type": "stream",
     "text": [
      "{'loss': 3.442, 'grad_norm': 1.5829654932022095, 'learning_rate': 0.00014279999999999997, 'epoch': 0.85}\n"
     ]
    },
    {
     "name": "stderr",
     "output_type": "stream",
     "text": [
      "  4%|▍         | 250/5620 [12:06<2:06:43,  1.42s/it]"
     ]
    },
    {
     "name": "stdout",
     "output_type": "stream",
     "text": [
      "{'loss': 3.4593, 'grad_norm': 1.5711820125579834, 'learning_rate': 0.00014879999999999998, 'epoch': 0.89}\n"
     ]
    },
    {
     "name": "stderr",
     "output_type": "stream",
     "text": [
      "  5%|▍         | 260/5620 [12:39<4:17:14,  2.88s/it]"
     ]
    },
    {
     "name": "stdout",
     "output_type": "stream",
     "text": [
      "{'loss': 3.4133, 'grad_norm': 1.4259703159332275, 'learning_rate': 0.0001548, 'epoch': 0.92}\n"
     ]
    },
    {
     "name": "stderr",
     "output_type": "stream",
     "text": [
      "  5%|▍         | 270/5620 [13:02<3:10:41,  2.14s/it]"
     ]
    },
    {
     "name": "stdout",
     "output_type": "stream",
     "text": [
      "{'loss': 3.4211, 'grad_norm': 0.37221765518188477, 'learning_rate': 0.0001608, 'epoch': 0.96}\n"
     ]
    },
    {
     "name": "stderr",
     "output_type": "stream",
     "text": [
      "  5%|▍         | 280/5620 [13:17<2:06:49,  1.42s/it]"
     ]
    },
    {
     "name": "stdout",
     "output_type": "stream",
     "text": [
      "{'loss': 3.4412, 'grad_norm': 0.9676143527030945, 'learning_rate': 0.0001668, 'epoch': 0.99}\n"
     ]
    },
    {
     "name": "stderr",
     "output_type": "stream",
     "text": [
      "  5%|▌         | 290/5620 [13:50<4:49:29,  3.26s/it]"
     ]
    },
    {
     "name": "stdout",
     "output_type": "stream",
     "text": [
      "{'loss': 3.4197, 'grad_norm': 1.0752214193344116, 'learning_rate': 0.00017279999999999997, 'epoch': 1.03}\n"
     ]
    },
    {
     "name": "stderr",
     "output_type": "stream",
     "text": [
      "  5%|▌         | 300/5620 [14:18<3:58:47,  2.69s/it]"
     ]
    },
    {
     "name": "stdout",
     "output_type": "stream",
     "text": [
      "{'loss': 3.3909, 'grad_norm': 0.2502693831920624, 'learning_rate': 0.00017879999999999998, 'epoch': 1.07}\n"
     ]
    },
    {
     "name": "stderr",
     "output_type": "stream",
     "text": [
      "                                                    \n",
      "  5%|▌         | 300/5620 [15:08<3:58:47,  2.69s/it]"
     ]
    },
    {
     "name": "stdout",
     "output_type": "stream",
     "text": [
      "{'eval_loss': 3.3997597694396973, 'eval_wer': 1.0, 'eval_runtime': 49.5876, 'eval_samples_per_second': 20.166, 'eval_steps_per_second': 2.521, 'epoch': 1.07}\n"
     ]
    },
    {
     "name": "stderr",
     "output_type": "stream",
     "text": [
      "/home/mehedi/anaconda3/envs/wav2vec/lib/python3.10/site-packages/transformers/models/wav2vec2/processing_wav2vec2.py:157: UserWarning: `as_target_processor` is deprecated and will be removed in v5 of Transformers. You can process your labels by using the argument `text` of the regular `__call__` method (either in the same call as your audio inputs, or in a separate call.\n",
      "  warnings.warn(\n",
      "/home/mehedi/anaconda3/envs/wav2vec/lib/python3.10/site-packages/torch/utils/checkpoint.py:295: FutureWarning: `torch.cpu.amp.autocast(args...)` is deprecated. Please use `torch.amp.autocast('cpu', args...)` instead.\n",
      "  with torch.enable_grad(), device_autocast_ctx, torch.cpu.amp.autocast(**ctx.cpu_autocast_kwargs):  # type: ignore[attr-defined]\n",
      "  6%|▌         | 310/5620 [15:35<4:08:41,  2.81s/it] "
     ]
    },
    {
     "name": "stdout",
     "output_type": "stream",
     "text": [
      "{'loss': 3.3901, 'grad_norm': 1.6807172298431396, 'learning_rate': 0.0001848, 'epoch': 1.1}\n"
     ]
    },
    {
     "name": "stderr",
     "output_type": "stream",
     "text": [
      "  6%|▌         | 320/5620 [15:54<2:42:34,  1.84s/it]"
     ]
    },
    {
     "name": "stdout",
     "output_type": "stream",
     "text": [
      "{'loss': 3.4033, 'grad_norm': 3.9373981952667236, 'learning_rate': 0.00019079999999999998, 'epoch': 1.14}\n"
     ]
    },
    {
     "name": "stderr",
     "output_type": "stream",
     "text": [
      "  6%|▌         | 330/5620 [16:09<2:05:04,  1.42s/it]"
     ]
    },
    {
     "name": "stdout",
     "output_type": "stream",
     "text": [
      "{'loss': 3.3858, 'grad_norm': 0.40738052129745483, 'learning_rate': 0.00019679999999999999, 'epoch': 1.17}\n"
     ]
    },
    {
     "name": "stderr",
     "output_type": "stream",
     "text": [
      "  6%|▌         | 340/5620 [16:41<4:43:22,  3.22s/it]"
     ]
    },
    {
     "name": "stdout",
     "output_type": "stream",
     "text": [
      "{'loss': 3.3918, 'grad_norm': 0.7556898593902588, 'learning_rate': 0.0002028, 'epoch': 1.21}\n"
     ]
    },
    {
     "name": "stderr",
     "output_type": "stream",
     "text": [
      "  6%|▌         | 350/5620 [17:08<3:42:44,  2.54s/it]"
     ]
    },
    {
     "name": "stdout",
     "output_type": "stream",
     "text": [
      "{'loss': 3.3644, 'grad_norm': 1.8355040550231934, 'learning_rate': 0.00020879999999999998, 'epoch': 1.24}\n"
     ]
    },
    {
     "name": "stderr",
     "output_type": "stream",
     "text": [
      "  6%|▋         | 360/5620 [17:30<3:09:11,  2.16s/it]"
     ]
    },
    {
     "name": "stdout",
     "output_type": "stream",
     "text": [
      "{'loss': 3.3781, 'grad_norm': 0.344926655292511, 'learning_rate': 0.00021479999999999996, 'epoch': 1.28}\n"
     ]
    },
    {
     "name": "stderr",
     "output_type": "stream",
     "text": [
      "  7%|▋         | 370/5620 [17:49<2:42:02,  1.85s/it]"
     ]
    },
    {
     "name": "stdout",
     "output_type": "stream",
     "text": [
      "{'loss': 3.3649, 'grad_norm': 0.7131491303443909, 'learning_rate': 0.00022079999999999997, 'epoch': 1.31}\n"
     ]
    },
    {
     "name": "stderr",
     "output_type": "stream",
     "text": [
      "  7%|▋         | 380/5620 [18:04<1:59:45,  1.37s/it]"
     ]
    },
    {
     "name": "stdout",
     "output_type": "stream",
     "text": [
      "{'loss': 3.3553, 'grad_norm': 1.1218371391296387, 'learning_rate': 0.00022679999999999998, 'epoch': 1.35}\n"
     ]
    },
    {
     "name": "stderr",
     "output_type": "stream",
     "text": [
      "  7%|▋         | 390/5620 [18:37<4:49:08,  3.32s/it]"
     ]
    },
    {
     "name": "stdout",
     "output_type": "stream",
     "text": [
      "{'loss': 3.3517, 'grad_norm': 0.23049870133399963, 'learning_rate': 0.0002328, 'epoch': 1.39}\n"
     ]
    },
    {
     "name": "stderr",
     "output_type": "stream",
     "text": [
      "  7%|▋         | 400/5620 [19:05<3:54:08,  2.69s/it]"
     ]
    },
    {
     "name": "stdout",
     "output_type": "stream",
     "text": [
      "{'loss': 3.3402, 'grad_norm': 0.5590311884880066, 'learning_rate': 0.0002388, 'epoch': 1.42}\n"
     ]
    },
    {
     "name": "stderr",
     "output_type": "stream",
     "text": [
      "                                                    \n",
      "  7%|▋         | 400/5620 [19:54<3:54:08,  2.69s/it]"
     ]
    },
    {
     "name": "stdout",
     "output_type": "stream",
     "text": [
      "{'eval_loss': 3.340000867843628, 'eval_wer': 1.0, 'eval_runtime': 49.2128, 'eval_samples_per_second': 20.32, 'eval_steps_per_second': 2.54, 'epoch': 1.42}\n"
     ]
    },
    {
     "name": "stderr",
     "output_type": "stream",
     "text": [
      "/home/mehedi/anaconda3/envs/wav2vec/lib/python3.10/site-packages/transformers/models/wav2vec2/processing_wav2vec2.py:157: UserWarning: `as_target_processor` is deprecated and will be removed in v5 of Transformers. You can process your labels by using the argument `text` of the regular `__call__` method (either in the same call as your audio inputs, or in a separate call.\n",
      "  warnings.warn(\n",
      "/home/mehedi/anaconda3/envs/wav2vec/lib/python3.10/site-packages/torch/utils/checkpoint.py:295: FutureWarning: `torch.cpu.amp.autocast(args...)` is deprecated. Please use `torch.amp.autocast('cpu', args...)` instead.\n",
      "  with torch.enable_grad(), device_autocast_ctx, torch.cpu.amp.autocast(**ctx.cpu_autocast_kwargs):  # type: ignore[attr-defined]\n",
      "  7%|▋         | 410/5620 [20:21<4:08:26,  2.86s/it] "
     ]
    },
    {
     "name": "stdout",
     "output_type": "stream",
     "text": [
      "{'loss': 3.3221, 'grad_norm': 0.8896554708480835, 'learning_rate': 0.0002448, 'epoch': 1.46}\n"
     ]
    },
    {
     "name": "stderr",
     "output_type": "stream",
     "text": [
      "  7%|▋         | 420/5620 [20:40<2:47:47,  1.94s/it]"
     ]
    },
    {
     "name": "stdout",
     "output_type": "stream",
     "text": [
      "{'loss': 3.316, 'grad_norm': 1.7012865543365479, 'learning_rate': 0.00025079999999999997, 'epoch': 1.49}\n"
     ]
    },
    {
     "name": "stderr",
     "output_type": "stream",
     "text": [
      "  8%|▊         | 430/5620 [20:55<2:01:16,  1.40s/it]"
     ]
    },
    {
     "name": "stdout",
     "output_type": "stream",
     "text": [
      "{'loss': 3.2968, 'grad_norm': 0.9095801115036011, 'learning_rate': 0.00025679999999999995, 'epoch': 1.53}\n"
     ]
    },
    {
     "name": "stderr",
     "output_type": "stream",
     "text": [
      "  8%|▊         | 440/5620 [21:28<4:45:01,  3.30s/it]"
     ]
    },
    {
     "name": "stdout",
     "output_type": "stream",
     "text": [
      "{'loss': 3.3067, 'grad_norm': 1.1336607933044434, 'learning_rate': 0.0002628, 'epoch': 1.56}\n"
     ]
    },
    {
     "name": "stderr",
     "output_type": "stream",
     "text": [
      "  8%|▊         | 450/5620 [21:56<3:40:56,  2.56s/it]"
     ]
    },
    {
     "name": "stdout",
     "output_type": "stream",
     "text": [
      "{'loss': 3.2835, 'grad_norm': 0.3440011441707611, 'learning_rate': 0.0002688, 'epoch': 1.6}\n"
     ]
    },
    {
     "name": "stderr",
     "output_type": "stream",
     "text": [
      "  8%|▊         | 460/5620 [22:18<3:02:51,  2.13s/it]"
     ]
    },
    {
     "name": "stdout",
     "output_type": "stream",
     "text": [
      "{'loss': 3.2694, 'grad_norm': 2.9719388484954834, 'learning_rate': 0.0002748, 'epoch': 1.63}\n"
     ]
    },
    {
     "name": "stderr",
     "output_type": "stream",
     "text": [
      "  8%|▊         | 470/5620 [22:36<2:27:09,  1.71s/it]"
     ]
    },
    {
     "name": "stdout",
     "output_type": "stream",
     "text": [
      "{'loss': 3.2922, 'grad_norm': 2.697000026702881, 'learning_rate': 0.0002808, 'epoch': 1.67}\n"
     ]
    },
    {
     "name": "stderr",
     "output_type": "stream",
     "text": [
      "  9%|▊         | 480/5620 [22:50<1:53:15,  1.32s/it]"
     ]
    },
    {
     "name": "stdout",
     "output_type": "stream",
     "text": [
      "{'loss': 3.3276, 'grad_norm': 6.63627290725708, 'learning_rate': 0.0002868, 'epoch': 1.71}\n"
     ]
    },
    {
     "name": "stderr",
     "output_type": "stream",
     "text": [
      "  9%|▊         | 490/5620 [23:22<4:37:30,  3.25s/it]"
     ]
    },
    {
     "name": "stdout",
     "output_type": "stream",
     "text": [
      "{'loss': 3.2895, 'grad_norm': 0.3857899010181427, 'learning_rate': 0.00029279999999999996, 'epoch': 1.74}\n"
     ]
    },
    {
     "name": "stderr",
     "output_type": "stream",
     "text": [
      "  9%|▉         | 500/5620 [23:50<3:51:21,  2.71s/it]"
     ]
    },
    {
     "name": "stdout",
     "output_type": "stream",
     "text": [
      "{'loss': 3.2511, 'grad_norm': 0.32612693309783936, 'learning_rate': 0.0002988, 'epoch': 1.78}\n"
     ]
    },
    {
     "name": "stderr",
     "output_type": "stream",
     "text": [
      "                                                    \n",
      "  9%|▉         | 500/5620 [24:39<3:51:21,  2.71s/it]"
     ]
    },
    {
     "name": "stdout",
     "output_type": "stream",
     "text": [
      "{'eval_loss': 3.2203476428985596, 'eval_wer': 1.0, 'eval_runtime': 48.3219, 'eval_samples_per_second': 20.695, 'eval_steps_per_second': 2.587, 'epoch': 1.78}\n"
     ]
    },
    {
     "name": "stderr",
     "output_type": "stream",
     "text": [
      "/home/mehedi/anaconda3/envs/wav2vec/lib/python3.10/site-packages/transformers/models/wav2vec2/processing_wav2vec2.py:157: UserWarning: `as_target_processor` is deprecated and will be removed in v5 of Transformers. You can process your labels by using the argument `text` of the regular `__call__` method (either in the same call as your audio inputs, or in a separate call.\n",
      "  warnings.warn(\n",
      "/home/mehedi/anaconda3/envs/wav2vec/lib/python3.10/site-packages/torch/utils/checkpoint.py:295: FutureWarning: `torch.cpu.amp.autocast(args...)` is deprecated. Please use `torch.amp.autocast('cpu', args...)` instead.\n",
      "  with torch.enable_grad(), device_autocast_ctx, torch.cpu.amp.autocast(**ctx.cpu_autocast_kwargs):  # type: ignore[attr-defined]\n",
      "  9%|▉         | 510/5620 [25:05<3:57:46,  2.79s/it] "
     ]
    },
    {
     "name": "stdout",
     "output_type": "stream",
     "text": [
      "{'loss': 3.2202, 'grad_norm': 0.7028724551200867, 'learning_rate': 0.00029953125, 'epoch': 1.81}\n"
     ]
    },
    {
     "name": "stderr",
     "output_type": "stream",
     "text": [
      "  9%|▉         | 520/5620 [25:24<2:36:52,  1.85s/it]"
     ]
    },
    {
     "name": "stdout",
     "output_type": "stream",
     "text": [
      "{'loss': 3.1968, 'grad_norm': 2.700896978378296, 'learning_rate': 0.00029894531249999995, 'epoch': 1.85}\n"
     ]
    },
    {
     "name": "stderr",
     "output_type": "stream",
     "text": [
      "  9%|▉         | 530/5620 [25:40<1:59:20,  1.41s/it]"
     ]
    },
    {
     "name": "stdout",
     "output_type": "stream",
     "text": [
      "{'loss': 3.1448, 'grad_norm': 1.0439801216125488, 'learning_rate': 0.00029835937499999996, 'epoch': 1.88}\n"
     ]
    },
    {
     "name": "stderr",
     "output_type": "stream",
     "text": [
      " 10%|▉         | 540/5620 [26:10<4:15:31,  3.02s/it]"
     ]
    },
    {
     "name": "stdout",
     "output_type": "stream",
     "text": [
      "{'loss': 3.2102, 'grad_norm': 2.1537840366363525, 'learning_rate': 0.00029777343749999997, 'epoch': 1.92}\n"
     ]
    },
    {
     "name": "stderr",
     "output_type": "stream",
     "text": [
      " 10%|▉         | 550/5620 [26:34<3:10:53,  2.26s/it]"
     ]
    },
    {
     "name": "stdout",
     "output_type": "stream",
     "text": [
      "{'loss': 3.076, 'grad_norm': 1.4161787033081055, 'learning_rate': 0.0002971875, 'epoch': 1.95}\n"
     ]
    },
    {
     "name": "stderr",
     "output_type": "stream",
     "text": [
      " 10%|▉         | 560/5620 [26:51<2:12:50,  1.58s/it]"
     ]
    },
    {
     "name": "stdout",
     "output_type": "stream",
     "text": [
      "{'loss': 2.923, 'grad_norm': 2.6490657329559326, 'learning_rate': 0.0002966015625, 'epoch': 1.99}\n"
     ]
    },
    {
     "name": "stderr",
     "output_type": "stream",
     "text": [
      " 10%|█         | 570/5620 [27:20<4:41:24,  3.34s/it]"
     ]
    },
    {
     "name": "stdout",
     "output_type": "stream",
     "text": [
      "{'loss': 2.8529, 'grad_norm': 1.3592194318771362, 'learning_rate': 0.00029601562499999995, 'epoch': 2.02}\n"
     ]
    },
    {
     "name": "stderr",
     "output_type": "stream",
     "text": [
      " 10%|█         | 580/5620 [27:49<3:45:06,  2.68s/it]"
     ]
    },
    {
     "name": "stdout",
     "output_type": "stream",
     "text": [
      "{'loss': 2.6891, 'grad_norm': 0.7104178667068481, 'learning_rate': 0.00029542968749999996, 'epoch': 2.06}\n"
     ]
    },
    {
     "name": "stderr",
     "output_type": "stream",
     "text": [
      " 10%|█         | 590/5620 [28:11<3:03:09,  2.18s/it]"
     ]
    },
    {
     "name": "stdout",
     "output_type": "stream",
     "text": [
      "{'loss': 2.4024, 'grad_norm': 1.0422918796539307, 'learning_rate': 0.00029484374999999997, 'epoch': 2.1}\n"
     ]
    },
    {
     "name": "stderr",
     "output_type": "stream",
     "text": [
      " 11%|█         | 600/5620 [28:31<2:36:18,  1.87s/it]"
     ]
    },
    {
     "name": "stdout",
     "output_type": "stream",
     "text": [
      "{'loss': 2.1115, 'grad_norm': 1.0231127738952637, 'learning_rate': 0.0002942578125, 'epoch': 2.13}\n"
     ]
    },
    {
     "name": "stderr",
     "output_type": "stream",
     "text": [
      "                                                    \n",
      " 11%|█         | 600/5620 [29:19<2:36:18,  1.87s/it]"
     ]
    },
    {
     "name": "stdout",
     "output_type": "stream",
     "text": [
      "{'eval_loss': 1.8237167596817017, 'eval_wer': 1.0277442702050663, 'eval_runtime': 48.3587, 'eval_samples_per_second': 20.679, 'eval_steps_per_second': 2.585, 'epoch': 2.13}\n"
     ]
    },
    {
     "name": "stderr",
     "output_type": "stream",
     "text": [
      "/home/mehedi/anaconda3/envs/wav2vec/lib/python3.10/site-packages/transformers/models/wav2vec2/processing_wav2vec2.py:157: UserWarning: `as_target_processor` is deprecated and will be removed in v5 of Transformers. You can process your labels by using the argument `text` of the regular `__call__` method (either in the same call as your audio inputs, or in a separate call.\n",
      "  warnings.warn(\n",
      "/home/mehedi/anaconda3/envs/wav2vec/lib/python3.10/site-packages/torch/utils/checkpoint.py:295: FutureWarning: `torch.cpu.amp.autocast(args...)` is deprecated. Please use `torch.amp.autocast('cpu', args...)` instead.\n",
      "  with torch.enable_grad(), device_autocast_ctx, torch.cpu.amp.autocast(**ctx.cpu_autocast_kwargs):  # type: ignore[attr-defined]\n",
      " 11%|█         | 610/5620 [29:38<2:53:22,  2.08s/it] "
     ]
    },
    {
     "name": "stdout",
     "output_type": "stream",
     "text": [
      "{'loss': 1.9279, 'grad_norm': 1.1852765083312988, 'learning_rate': 0.000293671875, 'epoch': 2.17}\n"
     ]
    },
    {
     "name": "stderr",
     "output_type": "stream",
     "text": [
      " 11%|█         | 620/5620 [30:06<4:28:31,  3.22s/it]"
     ]
    },
    {
     "name": "stdout",
     "output_type": "stream",
     "text": [
      "{'loss': 1.9986, 'grad_norm': 1.5235787630081177, 'learning_rate': 0.00029308593749999994, 'epoch': 2.2}\n"
     ]
    },
    {
     "name": "stderr",
     "output_type": "stream",
     "text": [
      " 11%|█         | 630/5620 [30:34<3:41:58,  2.67s/it]"
     ]
    },
    {
     "name": "stdout",
     "output_type": "stream",
     "text": [
      "{'loss': 1.7498, 'grad_norm': 1.4372447729110718, 'learning_rate': 0.00029249999999999995, 'epoch': 2.24}\n"
     ]
    },
    {
     "name": "stderr",
     "output_type": "stream",
     "text": [
      " 11%|█▏        | 640/5620 [30:57<3:01:21,  2.18s/it]"
     ]
    },
    {
     "name": "stdout",
     "output_type": "stream",
     "text": [
      "{'loss': 1.5354, 'grad_norm': 0.7158452868461609, 'learning_rate': 0.00029191406249999996, 'epoch': 2.27}\n"
     ]
    },
    {
     "name": "stderr",
     "output_type": "stream",
     "text": [
      " 12%|█▏        | 650/5620 [31:16<2:31:08,  1.82s/it]"
     ]
    },
    {
     "name": "stdout",
     "output_type": "stream",
     "text": [
      "{'loss': 1.4604, 'grad_norm': 0.9508132934570312, 'learning_rate': 0.000291328125, 'epoch': 2.31}\n"
     ]
    },
    {
     "name": "stderr",
     "output_type": "stream",
     "text": [
      " 12%|█▏        | 660/5620 [31:32<1:58:05,  1.43s/it]"
     ]
    },
    {
     "name": "stdout",
     "output_type": "stream",
     "text": [
      "{'loss': 1.4283, 'grad_norm': 0.8853356242179871, 'learning_rate': 0.0002907421875, 'epoch': 2.34}\n"
     ]
    },
    {
     "name": "stderr",
     "output_type": "stream",
     "text": [
      " 12%|█▏        | 670/5620 [32:01<4:32:01,  3.30s/it]"
     ]
    },
    {
     "name": "stdout",
     "output_type": "stream",
     "text": [
      "{'loss': 1.4166, 'grad_norm': 0.5074292421340942, 'learning_rate': 0.00029015624999999994, 'epoch': 2.38}\n"
     ]
    },
    {
     "name": "stderr",
     "output_type": "stream",
     "text": [
      " 12%|█▏        | 680/5620 [32:29<3:35:39,  2.62s/it]"
     ]
    },
    {
     "name": "stdout",
     "output_type": "stream",
     "text": [
      "{'loss': 1.2939, 'grad_norm': 0.6744822859764099, 'learning_rate': 0.00028957031249999995, 'epoch': 2.42}\n"
     ]
    },
    {
     "name": "stderr",
     "output_type": "stream",
     "text": [
      " 12%|█▏        | 690/5620 [32:52<2:59:32,  2.19s/it]"
     ]
    },
    {
     "name": "stdout",
     "output_type": "stream",
     "text": [
      "{'loss': 1.2026, 'grad_norm': 0.7073540687561035, 'learning_rate': 0.00028898437499999996, 'epoch': 2.45}\n"
     ]
    },
    {
     "name": "stderr",
     "output_type": "stream",
     "text": [
      " 12%|█▏        | 700/5620 [33:11<2:29:28,  1.82s/it]"
     ]
    },
    {
     "name": "stdout",
     "output_type": "stream",
     "text": [
      "{'loss': 1.1843, 'grad_norm': 0.7712356448173523, 'learning_rate': 0.00028839843749999997, 'epoch': 2.49}\n"
     ]
    },
    {
     "name": "stderr",
     "output_type": "stream",
     "text": [
      "                                                    \n",
      " 12%|█▏        | 700/5620 [33:59<2:29:28,  1.82s/it]"
     ]
    },
    {
     "name": "stdout",
     "output_type": "stream",
     "text": [
      "{'eval_loss': 0.9567633867263794, 'eval_wer': 0.8453777826516066, 'eval_runtime': 48.4219, 'eval_samples_per_second': 20.652, 'eval_steps_per_second': 2.581, 'epoch': 2.49}\n"
     ]
    },
    {
     "name": "stderr",
     "output_type": "stream",
     "text": [
      "/home/mehedi/anaconda3/envs/wav2vec/lib/python3.10/site-packages/transformers/models/wav2vec2/processing_wav2vec2.py:157: UserWarning: `as_target_processor` is deprecated and will be removed in v5 of Transformers. You can process your labels by using the argument `text` of the regular `__call__` method (either in the same call as your audio inputs, or in a separate call.\n",
      "  warnings.warn(\n",
      "/home/mehedi/anaconda3/envs/wav2vec/lib/python3.10/site-packages/torch/utils/checkpoint.py:295: FutureWarning: `torch.cpu.amp.autocast(args...)` is deprecated. Please use `torch.amp.autocast('cpu', args...)` instead.\n",
      "  with torch.enable_grad(), device_autocast_ctx, torch.cpu.amp.autocast(**ctx.cpu_autocast_kwargs):  # type: ignore[attr-defined]\n",
      " 13%|█▎        | 710/5620 [34:18<2:48:52,  2.06s/it] "
     ]
    },
    {
     "name": "stdout",
     "output_type": "stream",
     "text": [
      "{'loss': 1.1489, 'grad_norm': 1.0268362760543823, 'learning_rate': 0.0002878125, 'epoch': 2.52}\n"
     ]
    },
    {
     "name": "stderr",
     "output_type": "stream",
     "text": [
      " 13%|█▎        | 720/5620 [34:47<4:24:29,  3.24s/it]"
     ]
    },
    {
     "name": "stdout",
     "output_type": "stream",
     "text": [
      "{'loss': 1.1863, 'grad_norm': 0.6975992321968079, 'learning_rate': 0.0002872265625, 'epoch': 2.56}\n"
     ]
    },
    {
     "name": "stderr",
     "output_type": "stream",
     "text": [
      " 13%|█▎        | 730/5620 [35:15<3:41:40,  2.72s/it]"
     ]
    },
    {
     "name": "stdout",
     "output_type": "stream",
     "text": [
      "{'loss': 1.0645, 'grad_norm': 0.7835203409194946, 'learning_rate': 0.00028664062499999995, 'epoch': 2.59}\n"
     ]
    },
    {
     "name": "stderr",
     "output_type": "stream",
     "text": [
      " 13%|█▎        | 740/5620 [35:38<2:57:07,  2.18s/it]"
     ]
    },
    {
     "name": "stdout",
     "output_type": "stream",
     "text": [
      "{'loss': 1.0792, 'grad_norm': 0.8206751942634583, 'learning_rate': 0.00028605468749999996, 'epoch': 2.63}\n"
     ]
    },
    {
     "name": "stderr",
     "output_type": "stream",
     "text": [
      " 13%|█▎        | 750/5620 [35:57<2:26:07,  1.80s/it]"
     ]
    },
    {
     "name": "stdout",
     "output_type": "stream",
     "text": [
      "{'loss': 1.0625, 'grad_norm': 0.7864701151847839, 'learning_rate': 0.00028546874999999997, 'epoch': 2.66}\n"
     ]
    },
    {
     "name": "stderr",
     "output_type": "stream",
     "text": [
      " 14%|█▎        | 760/5620 [36:12<1:54:28,  1.41s/it]"
     ]
    },
    {
     "name": "stdout",
     "output_type": "stream",
     "text": [
      "{'loss': 1.033, 'grad_norm': 0.737440824508667, 'learning_rate': 0.0002848828125, 'epoch': 2.7}\n"
     ]
    },
    {
     "name": "stderr",
     "output_type": "stream",
     "text": [
      " 14%|█▎        | 770/5620 [36:41<4:25:38,  3.29s/it]"
     ]
    },
    {
     "name": "stdout",
     "output_type": "stream",
     "text": [
      "{'loss': 1.1211, 'grad_norm': 0.5121504068374634, 'learning_rate': 0.000284296875, 'epoch': 2.74}\n"
     ]
    },
    {
     "name": "stderr",
     "output_type": "stream",
     "text": [
      " 14%|█▍        | 780/5620 [37:10<3:39:50,  2.73s/it]"
     ]
    },
    {
     "name": "stdout",
     "output_type": "stream",
     "text": [
      "{'loss': 0.9539, 'grad_norm': 0.5672191977500916, 'learning_rate': 0.00028371093749999995, 'epoch': 2.77}\n"
     ]
    },
    {
     "name": "stderr",
     "output_type": "stream",
     "text": [
      " 14%|█▍        | 790/5620 [37:33<3:03:27,  2.28s/it]"
     ]
    },
    {
     "name": "stdout",
     "output_type": "stream",
     "text": [
      "{'loss': 0.9205, 'grad_norm': 0.7210434079170227, 'learning_rate': 0.00028312499999999996, 'epoch': 2.81}\n"
     ]
    },
    {
     "name": "stderr",
     "output_type": "stream",
     "text": [
      " 14%|█▍        | 800/5620 [37:53<2:29:01,  1.86s/it]"
     ]
    },
    {
     "name": "stdout",
     "output_type": "stream",
     "text": [
      "{'loss': 0.9177, 'grad_norm': 0.9004600048065186, 'learning_rate': 0.00028253906249999997, 'epoch': 2.84}\n"
     ]
    },
    {
     "name": "stderr",
     "output_type": "stream",
     "text": [
      "                                                    \n",
      " 14%|█▍        | 800/5620 [38:41<2:29:01,  1.86s/it]"
     ]
    },
    {
     "name": "stdout",
     "output_type": "stream",
     "text": [
      "{'eval_loss': 0.7189396619796753, 'eval_wer': 0.7426252878605111, 'eval_runtime': 48.5789, 'eval_samples_per_second': 20.585, 'eval_steps_per_second': 2.573, 'epoch': 2.84}\n"
     ]
    },
    {
     "name": "stderr",
     "output_type": "stream",
     "text": [
      "/home/mehedi/anaconda3/envs/wav2vec/lib/python3.10/site-packages/transformers/models/wav2vec2/processing_wav2vec2.py:157: UserWarning: `as_target_processor` is deprecated and will be removed in v5 of Transformers. You can process your labels by using the argument `text` of the regular `__call__` method (either in the same call as your audio inputs, or in a separate call.\n",
      "  warnings.warn(\n",
      "/home/mehedi/anaconda3/envs/wav2vec/lib/python3.10/site-packages/torch/utils/checkpoint.py:295: FutureWarning: `torch.cpu.amp.autocast(args...)` is deprecated. Please use `torch.amp.autocast('cpu', args...)` instead.\n",
      "  with torch.enable_grad(), device_autocast_ctx, torch.cpu.amp.autocast(**ctx.cpu_autocast_kwargs):  # type: ignore[attr-defined]\n",
      " 14%|█▍        | 810/5620 [39:01<2:47:48,  2.09s/it] "
     ]
    },
    {
     "name": "stdout",
     "output_type": "stream",
     "text": [
      "{'loss': 0.9598, 'grad_norm': 0.9316354393959045, 'learning_rate': 0.000281953125, 'epoch': 2.88}\n"
     ]
    },
    {
     "name": "stderr",
     "output_type": "stream",
     "text": [
      " 15%|█▍        | 820/5620 [39:28<3:56:46,  2.96s/it]"
     ]
    },
    {
     "name": "stdout",
     "output_type": "stream",
     "text": [
      "{'loss': 1.0123, 'grad_norm': 0.5963002443313599, 'learning_rate': 0.0002813671875, 'epoch': 2.91}\n"
     ]
    },
    {
     "name": "stderr",
     "output_type": "stream",
     "text": [
      " 15%|█▍        | 830/5620 [39:51<2:59:49,  2.25s/it]"
     ]
    },
    {
     "name": "stdout",
     "output_type": "stream",
     "text": [
      "{'loss': 0.9559, 'grad_norm': 0.6262953281402588, 'learning_rate': 0.00028078124999999994, 'epoch': 2.95}\n"
     ]
    },
    {
     "name": "stderr",
     "output_type": "stream",
     "text": [
      " 15%|█▍        | 840/5620 [40:09<2:17:18,  1.72s/it]"
     ]
    },
    {
     "name": "stdout",
     "output_type": "stream",
     "text": [
      "{'loss': 0.8464, 'grad_norm': 0.8053315281867981, 'learning_rate': 0.00028019531249999995, 'epoch': 2.98}\n"
     ]
    },
    {
     "name": "stderr",
     "output_type": "stream",
     "text": [
      " 15%|█▌        | 850/5620 [40:36<4:20:13,  3.27s/it]"
     ]
    },
    {
     "name": "stdout",
     "output_type": "stream",
     "text": [
      "{'loss': 0.9468, 'grad_norm': 0.7129610180854797, 'learning_rate': 0.00027960937499999996, 'epoch': 3.02}\n"
     ]
    },
    {
     "name": "stderr",
     "output_type": "stream",
     "text": [
      " 15%|█▌        | 860/5620 [41:05<3:40:22,  2.78s/it]"
     ]
    },
    {
     "name": "stdout",
     "output_type": "stream",
     "text": [
      "{'loss': 0.8001, 'grad_norm': 0.5409874320030212, 'learning_rate': 0.0002790234375, 'epoch': 3.06}\n"
     ]
    },
    {
     "name": "stderr",
     "output_type": "stream",
     "text": [
      " 15%|█▌        | 870/5620 [41:29<2:58:44,  2.26s/it]"
     ]
    },
    {
     "name": "stdout",
     "output_type": "stream",
     "text": [
      "{'loss': 0.7518, 'grad_norm': 0.5214200615882874, 'learning_rate': 0.0002784375, 'epoch': 3.09}\n"
     ]
    },
    {
     "name": "stderr",
     "output_type": "stream",
     "text": [
      " 16%|█▌        | 880/5620 [41:48<2:28:41,  1.88s/it]"
     ]
    },
    {
     "name": "stdout",
     "output_type": "stream",
     "text": [
      "{'loss': 0.726, 'grad_norm': 0.6173517107963562, 'learning_rate': 0.0002778515625, 'epoch': 3.13}\n"
     ]
    },
    {
     "name": "stderr",
     "output_type": "stream",
     "text": [
      " 16%|█▌        | 890/5620 [42:05<2:01:40,  1.54s/it]"
     ]
    },
    {
     "name": "stdout",
     "output_type": "stream",
     "text": [
      "{'loss': 0.7661, 'grad_norm': 0.7578060626983643, 'learning_rate': 0.00027726562499999995, 'epoch': 3.16}\n"
     ]
    },
    {
     "name": "stderr",
     "output_type": "stream",
     "text": [
      " 16%|█▌        | 900/5620 [42:31<4:10:08,  3.18s/it]"
     ]
    },
    {
     "name": "stdout",
     "output_type": "stream",
     "text": [
      "{'loss': 0.9, 'grad_norm': 0.593809962272644, 'learning_rate': 0.00027667968749999996, 'epoch': 3.2}\n"
     ]
    },
    {
     "name": "stderr",
     "output_type": "stream",
     "text": [
      "                                                    \n",
      " 16%|█▌        | 900/5620 [43:19<4:10:08,  3.18s/it]"
     ]
    },
    {
     "name": "stdout",
     "output_type": "stream",
     "text": [
      "{'eval_loss': 0.6458398699760437, 'eval_wer': 0.649851957451475, 'eval_runtime': 48.4683, 'eval_samples_per_second': 20.632, 'eval_steps_per_second': 2.579, 'epoch': 3.2}\n"
     ]
    },
    {
     "name": "stderr",
     "output_type": "stream",
     "text": [
      "/home/mehedi/anaconda3/envs/wav2vec/lib/python3.10/site-packages/transformers/models/wav2vec2/processing_wav2vec2.py:157: UserWarning: `as_target_processor` is deprecated and will be removed in v5 of Transformers. You can process your labels by using the argument `text` of the regular `__call__` method (either in the same call as your audio inputs, or in a separate call.\n",
      "  warnings.warn(\n",
      "/home/mehedi/anaconda3/envs/wav2vec/lib/python3.10/site-packages/torch/utils/checkpoint.py:295: FutureWarning: `torch.cpu.amp.autocast(args...)` is deprecated. Please use `torch.amp.autocast('cpu', args...)` instead.\n",
      "  with torch.enable_grad(), device_autocast_ctx, torch.cpu.amp.autocast(**ctx.cpu_autocast_kwargs):  # type: ignore[attr-defined]\n",
      " 16%|█▌        | 910/5620 [43:52<4:26:10,  3.39s/it] "
     ]
    },
    {
     "name": "stdout",
     "output_type": "stream",
     "text": [
      "{'loss': 0.8378, 'grad_norm': 0.5070281028747559, 'learning_rate': 0.00027609374999999997, 'epoch': 3.23}\n"
     ]
    },
    {
     "name": "stderr",
     "output_type": "stream",
     "text": [
      " 16%|█▋        | 920/5620 [44:15<2:56:09,  2.25s/it]"
     ]
    },
    {
     "name": "stdout",
     "output_type": "stream",
     "text": [
      "{'loss': 0.7168, 'grad_norm': 0.7138456702232361, 'learning_rate': 0.0002755078125, 'epoch': 3.27}\n"
     ]
    },
    {
     "name": "stderr",
     "output_type": "stream",
     "text": [
      " 17%|█▋        | 930/5620 [44:35<2:27:48,  1.89s/it]"
     ]
    },
    {
     "name": "stdout",
     "output_type": "stream",
     "text": [
      "{'loss': 0.755, 'grad_norm': 0.6190743446350098, 'learning_rate': 0.000274921875, 'epoch': 3.3}\n"
     ]
    },
    {
     "name": "stderr",
     "output_type": "stream",
     "text": [
      " 17%|█▋        | 940/5620 [44:51<1:57:45,  1.51s/it]"
     ]
    },
    {
     "name": "stdout",
     "output_type": "stream",
     "text": [
      "{'loss': 0.7641, 'grad_norm': 0.693598747253418, 'learning_rate': 0.00027433593749999995, 'epoch': 3.34}\n"
     ]
    },
    {
     "name": "stderr",
     "output_type": "stream",
     "text": [
      " 17%|█▋        | 950/5620 [45:17<4:10:41,  3.22s/it]"
     ]
    },
    {
     "name": "stdout",
     "output_type": "stream",
     "text": [
      "{'loss': 0.9108, 'grad_norm': 0.6922484636306763, 'learning_rate': 0.00027374999999999996, 'epoch': 3.37}\n"
     ]
    },
    {
     "name": "stderr",
     "output_type": "stream",
     "text": [
      " 17%|█▋        | 960/5620 [45:46<3:28:45,  2.69s/it]"
     ]
    },
    {
     "name": "stdout",
     "output_type": "stream",
     "text": [
      "{'loss': 0.738, 'grad_norm': 1.0861599445343018, 'learning_rate': 0.00027316406249999997, 'epoch': 3.41}\n"
     ]
    },
    {
     "name": "stderr",
     "output_type": "stream",
     "text": [
      " 17%|█▋        | 970/5620 [46:10<2:56:53,  2.28s/it]"
     ]
    },
    {
     "name": "stdout",
     "output_type": "stream",
     "text": [
      "{'loss': 0.7049, 'grad_norm': 0.581056535243988, 'learning_rate': 0.000272578125, 'epoch': 3.45}\n"
     ]
    },
    {
     "name": "stderr",
     "output_type": "stream",
     "text": [
      " 17%|█▋        | 980/5620 [46:29<2:24:59,  1.87s/it]"
     ]
    },
    {
     "name": "stdout",
     "output_type": "stream",
     "text": [
      "{'loss': 0.7392, 'grad_norm': 0.7307511568069458, 'learning_rate': 0.0002719921875, 'epoch': 3.48}\n"
     ]
    },
    {
     "name": "stderr",
     "output_type": "stream",
     "text": [
      " 18%|█▊        | 990/5620 [46:45<1:57:21,  1.52s/it]"
     ]
    },
    {
     "name": "stdout",
     "output_type": "stream",
     "text": [
      "{'loss': 0.7326, 'grad_norm': 0.8817386031150818, 'learning_rate': 0.00027140624999999995, 'epoch': 3.52}\n"
     ]
    },
    {
     "name": "stderr",
     "output_type": "stream",
     "text": [
      " 18%|█▊        | 1000/5620 [47:12<4:17:44,  3.35s/it]"
     ]
    },
    {
     "name": "stdout",
     "output_type": "stream",
     "text": [
      "{'loss': 0.7586, 'grad_norm': 0.5172353982925415, 'learning_rate': 0.00027082031249999996, 'epoch': 3.55}\n"
     ]
    },
    {
     "name": "stderr",
     "output_type": "stream",
     "text": [
      "                                                     \n",
      " 18%|█▊        | 1000/5620 [48:00<4:17:44,  3.35s/it]"
     ]
    },
    {
     "name": "stdout",
     "output_type": "stream",
     "text": [
      "{'eval_loss': 0.5796821117401123, 'eval_wer': 0.5960083342471763, 'eval_runtime': 48.5895, 'eval_samples_per_second': 20.581, 'eval_steps_per_second': 2.573, 'epoch': 3.55}\n"
     ]
    },
    {
     "name": "stderr",
     "output_type": "stream",
     "text": [
      "/home/mehedi/anaconda3/envs/wav2vec/lib/python3.10/site-packages/transformers/models/wav2vec2/processing_wav2vec2.py:157: UserWarning: `as_target_processor` is deprecated and will be removed in v5 of Transformers. You can process your labels by using the argument `text` of the regular `__call__` method (either in the same call as your audio inputs, or in a separate call.\n",
      "  warnings.warn(\n",
      "/home/mehedi/anaconda3/envs/wav2vec/lib/python3.10/site-packages/torch/utils/checkpoint.py:295: FutureWarning: `torch.cpu.amp.autocast(args...)` is deprecated. Please use `torch.amp.autocast('cpu', args...)` instead.\n",
      "  with torch.enable_grad(), device_autocast_ctx, torch.cpu.amp.autocast(**ctx.cpu_autocast_kwargs):  # type: ignore[attr-defined]\n",
      " 18%|█▊        | 1010/5620 [48:33<4:23:12,  3.43s/it] "
     ]
    },
    {
     "name": "stdout",
     "output_type": "stream",
     "text": [
      "{'loss': 0.7582, 'grad_norm': 0.5027904510498047, 'learning_rate': 0.00027023437499999997, 'epoch': 3.59}\n"
     ]
    },
    {
     "name": "stderr",
     "output_type": "stream",
     "text": [
      " 18%|█▊        | 1020/5620 [48:57<2:52:57,  2.26s/it]"
     ]
    },
    {
     "name": "stdout",
     "output_type": "stream",
     "text": [
      "{'loss': 0.672, 'grad_norm': 0.6282051801681519, 'learning_rate': 0.0002696484375, 'epoch': 3.62}\n"
     ]
    },
    {
     "name": "stderr",
     "output_type": "stream",
     "text": [
      " 18%|█▊        | 1030/5620 [49:16<2:23:26,  1.87s/it]"
     ]
    },
    {
     "name": "stdout",
     "output_type": "stream",
     "text": [
      "{'loss': 0.6711, 'grad_norm': 0.6969748139381409, 'learning_rate': 0.0002690625, 'epoch': 3.66}\n"
     ]
    },
    {
     "name": "stderr",
     "output_type": "stream",
     "text": [
      " 19%|█▊        | 1040/5620 [49:32<1:54:51,  1.50s/it]"
     ]
    },
    {
     "name": "stdout",
     "output_type": "stream",
     "text": [
      "{'loss': 0.702, 'grad_norm': 0.8283044695854187, 'learning_rate': 0.00026847656249999994, 'epoch': 3.69}\n"
     ]
    },
    {
     "name": "stderr",
     "output_type": "stream",
     "text": [
      " 19%|█▊        | 1050/5620 [49:58<4:08:22,  3.26s/it]"
     ]
    },
    {
     "name": "stdout",
     "output_type": "stream",
     "text": [
      "{'loss': 0.7699, 'grad_norm': 0.5306990146636963, 'learning_rate': 0.00026789062499999995, 'epoch': 3.73}\n"
     ]
    },
    {
     "name": "stderr",
     "output_type": "stream",
     "text": [
      " 19%|█▉        | 1060/5620 [50:27<3:27:23,  2.73s/it]"
     ]
    },
    {
     "name": "stdout",
     "output_type": "stream",
     "text": [
      "{'loss': 0.7, 'grad_norm': 0.5306687355041504, 'learning_rate': 0.00026730468749999996, 'epoch': 3.77}\n"
     ]
    },
    {
     "name": "stderr",
     "output_type": "stream",
     "text": [
      " 19%|█▉        | 1070/5620 [50:51<2:50:50,  2.25s/it]"
     ]
    },
    {
     "name": "stdout",
     "output_type": "stream",
     "text": [
      "{'loss': 0.6625, 'grad_norm': 0.7023568749427795, 'learning_rate': 0.00026671875, 'epoch': 3.8}\n"
     ]
    },
    {
     "name": "stderr",
     "output_type": "stream",
     "text": [
      " 19%|█▉        | 1080/5620 [51:10<2:23:04,  1.89s/it]"
     ]
    },
    {
     "name": "stdout",
     "output_type": "stream",
     "text": [
      "{'loss': 0.6162, 'grad_norm': 0.603435754776001, 'learning_rate': 0.0002661328125, 'epoch': 3.84}\n"
     ]
    },
    {
     "name": "stderr",
     "output_type": "stream",
     "text": [
      " 19%|█▉        | 1090/5620 [51:27<1:55:02,  1.52s/it]"
     ]
    },
    {
     "name": "stdout",
     "output_type": "stream",
     "text": [
      "{'loss': 0.7098, 'grad_norm': 0.7785253524780273, 'learning_rate': 0.000265546875, 'epoch': 3.87}\n"
     ]
    },
    {
     "name": "stderr",
     "output_type": "stream",
     "text": [
      " 20%|█▉        | 1100/5620 [51:52<3:56:53,  3.14s/it]"
     ]
    },
    {
     "name": "stdout",
     "output_type": "stream",
     "text": [
      "{'loss': 0.7687, 'grad_norm': 0.4984847903251648, 'learning_rate': 0.00026496093749999995, 'epoch': 3.91}\n"
     ]
    },
    {
     "name": "stderr",
     "output_type": "stream",
     "text": [
      "                                                     \n",
      " 20%|█▉        | 1100/5620 [52:41<3:56:53,  3.14s/it]"
     ]
    },
    {
     "name": "stdout",
     "output_type": "stream",
     "text": [
      "{'eval_loss': 0.5288936495780945, 'eval_wer': 0.5559820155718829, 'eval_runtime': 48.7264, 'eval_samples_per_second': 20.523, 'eval_steps_per_second': 2.565, 'epoch': 3.91}\n"
     ]
    },
    {
     "name": "stderr",
     "output_type": "stream",
     "text": [
      "/home/mehedi/anaconda3/envs/wav2vec/lib/python3.10/site-packages/transformers/models/wav2vec2/processing_wav2vec2.py:157: UserWarning: `as_target_processor` is deprecated and will be removed in v5 of Transformers. You can process your labels by using the argument `text` of the regular `__call__` method (either in the same call as your audio inputs, or in a separate call.\n",
      "  warnings.warn(\n",
      "/home/mehedi/anaconda3/envs/wav2vec/lib/python3.10/site-packages/torch/utils/checkpoint.py:295: FutureWarning: `torch.cpu.amp.autocast(args...)` is deprecated. Please use `torch.amp.autocast('cpu', args...)` instead.\n",
      "  with torch.enable_grad(), device_autocast_ctx, torch.cpu.amp.autocast(**ctx.cpu_autocast_kwargs):  # type: ignore[attr-defined]\n",
      " 20%|█▉        | 1110/5620 [53:11<3:50:51,  3.07s/it] "
     ]
    },
    {
     "name": "stdout",
     "output_type": "stream",
     "text": [
      "{'loss': 0.6553, 'grad_norm': 0.6203317046165466, 'learning_rate': 0.00026437499999999996, 'epoch': 3.94}\n"
     ]
    },
    {
     "name": "stderr",
     "output_type": "stream",
     "text": [
      " 20%|█▉        | 1120/5620 [53:30<2:14:49,  1.80s/it]"
     ]
    },
    {
     "name": "stdout",
     "output_type": "stream",
     "text": [
      "{'loss': 0.7304, 'grad_norm': 0.802864134311676, 'learning_rate': 0.00026378906249999997, 'epoch': 3.98}\n"
     ]
    },
    {
     "name": "stderr",
     "output_type": "stream",
     "text": [
      " 20%|██        | 1130/5620 [53:53<3:56:08,  3.16s/it]"
     ]
    },
    {
     "name": "stdout",
     "output_type": "stream",
     "text": [
      "{'loss': 0.6919, 'grad_norm': 0.44283032417297363, 'learning_rate': 0.000263203125, 'epoch': 4.01}\n"
     ]
    },
    {
     "name": "stderr",
     "output_type": "stream",
     "text": [
      " 20%|██        | 1140/5620 [54:24<3:35:47,  2.89s/it]"
     ]
    },
    {
     "name": "stdout",
     "output_type": "stream",
     "text": [
      "{'loss': 0.592, 'grad_norm': 0.5175955891609192, 'learning_rate': 0.0002626171875, 'epoch': 4.05}\n"
     ]
    },
    {
     "name": "stderr",
     "output_type": "stream",
     "text": [
      " 20%|██        | 1150/5620 [54:48<2:52:05,  2.31s/it]"
     ]
    },
    {
     "name": "stdout",
     "output_type": "stream",
     "text": [
      "{'loss': 0.5693, 'grad_norm': 0.6607251167297363, 'learning_rate': 0.00026203124999999995, 'epoch': 4.09}\n"
     ]
    },
    {
     "name": "stderr",
     "output_type": "stream",
     "text": [
      " 21%|██        | 1160/5620 [55:08<2:19:58,  1.88s/it]"
     ]
    },
    {
     "name": "stdout",
     "output_type": "stream",
     "text": [
      "{'loss': 0.5778, 'grad_norm': 0.9512099027633667, 'learning_rate': 0.00026144531249999996, 'epoch': 4.12}\n"
     ]
    },
    {
     "name": "stderr",
     "output_type": "stream",
     "text": [
      " 21%|██        | 1170/5620 [55:25<1:58:35,  1.60s/it]"
     ]
    },
    {
     "name": "stdout",
     "output_type": "stream",
     "text": [
      "{'loss': 0.5474, 'grad_norm': 0.7696147561073303, 'learning_rate': 0.00026085937499999997, 'epoch': 4.16}\n"
     ]
    },
    {
     "name": "stderr",
     "output_type": "stream",
     "text": [
      " 21%|██        | 1180/5620 [55:48<3:53:54,  3.16s/it]"
     ]
    },
    {
     "name": "stdout",
     "output_type": "stream",
     "text": [
      "{'loss': 0.6355, 'grad_norm': 0.5272123217582703, 'learning_rate': 0.0002602734375, 'epoch': 4.19}\n"
     ]
    },
    {
     "name": "stderr",
     "output_type": "stream",
     "text": [
      " 21%|██        | 1190/5620 [56:17<3:24:38,  2.77s/it]"
     ]
    },
    {
     "name": "stdout",
     "output_type": "stream",
     "text": [
      "{'loss': 0.6451, 'grad_norm': 0.6654644012451172, 'learning_rate': 0.0002596875, 'epoch': 4.23}\n"
     ]
    },
    {
     "name": "stderr",
     "output_type": "stream",
     "text": [
      " 21%|██▏       | 1200/5620 [56:41<2:48:12,  2.28s/it]"
     ]
    },
    {
     "name": "stdout",
     "output_type": "stream",
     "text": [
      "{'loss': 0.5748, 'grad_norm': 0.5465813279151917, 'learning_rate': 0.00025910156249999995, 'epoch': 4.26}\n"
     ]
    },
    {
     "name": "stderr",
     "output_type": "stream",
     "text": [
      "                                                     \n",
      " 21%|██▏       | 1200/5620 [57:29<2:48:12,  2.28s/it]"
     ]
    },
    {
     "name": "stdout",
     "output_type": "stream",
     "text": [
      "{'eval_loss': 0.4925563335418701, 'eval_wer': 0.5513762473955478, 'eval_runtime': 48.3745, 'eval_samples_per_second': 20.672, 'eval_steps_per_second': 2.584, 'epoch': 4.26}\n"
     ]
    },
    {
     "name": "stderr",
     "output_type": "stream",
     "text": [
      "/home/mehedi/anaconda3/envs/wav2vec/lib/python3.10/site-packages/transformers/models/wav2vec2/processing_wav2vec2.py:157: UserWarning: `as_target_processor` is deprecated and will be removed in v5 of Transformers. You can process your labels by using the argument `text` of the regular `__call__` method (either in the same call as your audio inputs, or in a separate call.\n",
      "  warnings.warn(\n",
      "/home/mehedi/anaconda3/envs/wav2vec/lib/python3.10/site-packages/torch/utils/checkpoint.py:295: FutureWarning: `torch.cpu.amp.autocast(args...)` is deprecated. Please use `torch.amp.autocast('cpu', args...)` instead.\n",
      "  with torch.enable_grad(), device_autocast_ctx, torch.cpu.amp.autocast(**ctx.cpu_autocast_kwargs):  # type: ignore[attr-defined]\n",
      " 22%|██▏       | 1210/5620 [57:53<3:10:11,  2.59s/it] "
     ]
    },
    {
     "name": "stdout",
     "output_type": "stream",
     "text": [
      "{'loss': 0.5278, 'grad_norm': 0.7016194462776184, 'learning_rate': 0.00025851562499999996, 'epoch': 4.3}\n"
     ]
    },
    {
     "name": "stderr",
     "output_type": "stream",
     "text": [
      " 22%|██▏       | 1220/5620 [58:10<2:00:04,  1.64s/it]"
     ]
    },
    {
     "name": "stdout",
     "output_type": "stream",
     "text": [
      "{'loss': 0.5636, 'grad_norm': 0.9119442701339722, 'learning_rate': 0.00025792968749999997, 'epoch': 4.33}\n"
     ]
    },
    {
     "name": "stderr",
     "output_type": "stream",
     "text": [
      " 22%|██▏       | 1230/5620 [58:33<3:49:20,  3.13s/it]"
     ]
    },
    {
     "name": "stdout",
     "output_type": "stream",
     "text": [
      "{'loss': 0.6753, 'grad_norm': 0.55336993932724, 'learning_rate': 0.00025734375, 'epoch': 4.37}\n"
     ]
    },
    {
     "name": "stderr",
     "output_type": "stream",
     "text": [
      " 22%|██▏       | 1240/5620 [59:04<3:35:50,  2.96s/it]"
     ]
    },
    {
     "name": "stdout",
     "output_type": "stream",
     "text": [
      "{'loss': 0.6169, 'grad_norm': 0.5233244299888611, 'learning_rate': 0.0002567578125, 'epoch': 4.4}\n"
     ]
    },
    {
     "name": "stderr",
     "output_type": "stream",
     "text": [
      " 22%|██▏       | 1250/5620 [59:28<2:49:53,  2.33s/it]"
     ]
    },
    {
     "name": "stdout",
     "output_type": "stream",
     "text": [
      "{'loss': 0.5418, 'grad_norm': 0.6977956891059875, 'learning_rate': 0.000256171875, 'epoch': 4.44}\n"
     ]
    },
    {
     "name": "stderr",
     "output_type": "stream",
     "text": [
      " 22%|██▏       | 1260/5620 [59:48<2:18:11,  1.90s/it]"
     ]
    },
    {
     "name": "stdout",
     "output_type": "stream",
     "text": [
      "{'loss': 0.5694, 'grad_norm': 0.657643735408783, 'learning_rate': 0.00025558593749999995, 'epoch': 4.48}\n"
     ]
    },
    {
     "name": "stderr",
     "output_type": "stream",
     "text": [
      " 23%|██▎       | 1270/5620 [1:00:05<1:56:37,  1.61s/it]"
     ]
    },
    {
     "name": "stdout",
     "output_type": "stream",
     "text": [
      "{'loss': 0.5738, 'grad_norm': 0.7241307497024536, 'learning_rate': 0.00025499999999999996, 'epoch': 4.51}\n"
     ]
    },
    {
     "name": "stderr",
     "output_type": "stream",
     "text": [
      " 23%|██▎       | 1280/5620 [1:00:28<3:46:57,  3.14s/it]"
     ]
    },
    {
     "name": "stdout",
     "output_type": "stream",
     "text": [
      "{'loss': 0.6413, 'grad_norm': 0.6881661415100098, 'learning_rate': 0.0002544140625, 'epoch': 4.55}\n"
     ]
    },
    {
     "name": "stderr",
     "output_type": "stream",
     "text": [
      " 23%|██▎       | 1290/5620 [1:00:58<3:26:18,  2.86s/it]"
     ]
    },
    {
     "name": "stdout",
     "output_type": "stream",
     "text": [
      "{'loss': 0.5362, 'grad_norm': 0.5868576169013977, 'learning_rate': 0.000253828125, 'epoch': 4.58}\n"
     ]
    },
    {
     "name": "stderr",
     "output_type": "stream",
     "text": [
      " 23%|██▎       | 1300/5620 [1:01:22<2:45:35,  2.30s/it]"
     ]
    },
    {
     "name": "stdout",
     "output_type": "stream",
     "text": [
      "{'loss': 0.5432, 'grad_norm': 0.6995622515678406, 'learning_rate': 0.0002532421875, 'epoch': 4.62}\n"
     ]
    },
    {
     "name": "stderr",
     "output_type": "stream",
     "text": [
      "                                                       \n",
      " 23%|██▎       | 1300/5620 [1:02:11<2:45:35,  2.30s/it]"
     ]
    },
    {
     "name": "stdout",
     "output_type": "stream",
     "text": [
      "{'eval_loss': 0.45127278566360474, 'eval_wer': 0.5019190700734729, 'eval_runtime': 48.472, 'eval_samples_per_second': 20.63, 'eval_steps_per_second': 2.579, 'epoch': 4.62}\n"
     ]
    },
    {
     "name": "stderr",
     "output_type": "stream",
     "text": [
      "/home/mehedi/anaconda3/envs/wav2vec/lib/python3.10/site-packages/transformers/models/wav2vec2/processing_wav2vec2.py:157: UserWarning: `as_target_processor` is deprecated and will be removed in v5 of Transformers. You can process your labels by using the argument `text` of the regular `__call__` method (either in the same call as your audio inputs, or in a separate call.\n",
      "  warnings.warn(\n",
      "/home/mehedi/anaconda3/envs/wav2vec/lib/python3.10/site-packages/torch/utils/checkpoint.py:295: FutureWarning: `torch.cpu.amp.autocast(args...)` is deprecated. Please use `torch.amp.autocast('cpu', args...)` instead.\n",
      "  with torch.enable_grad(), device_autocast_ctx, torch.cpu.amp.autocast(**ctx.cpu_autocast_kwargs):  # type: ignore[attr-defined]\n",
      " 23%|██▎       | 1310/5620 [1:02:34<3:05:52,  2.59s/it] "
     ]
    },
    {
     "name": "stdout",
     "output_type": "stream",
     "text": [
      "{'loss': 0.5352, 'grad_norm': 0.620255708694458, 'learning_rate': 0.00025265624999999995, 'epoch': 4.65}\n"
     ]
    },
    {
     "name": "stderr",
     "output_type": "stream",
     "text": [
      " 23%|██▎       | 1320/5620 [1:02:51<1:55:44,  1.61s/it]"
     ]
    },
    {
     "name": "stdout",
     "output_type": "stream",
     "text": [
      "{'loss': 0.5779, 'grad_norm': 0.9346354007720947, 'learning_rate': 0.00025207031249999996, 'epoch': 4.69}\n"
     ]
    },
    {
     "name": "stderr",
     "output_type": "stream",
     "text": [
      " 24%|██▎       | 1330/5620 [1:03:14<3:38:59,  3.06s/it]"
     ]
    },
    {
     "name": "stdout",
     "output_type": "stream",
     "text": [
      "{'loss': 0.6732, 'grad_norm': 0.47553274035453796, 'learning_rate': 0.00025148437499999997, 'epoch': 4.72}\n"
     ]
    },
    {
     "name": "stderr",
     "output_type": "stream",
     "text": [
      " 24%|██▍       | 1340/5620 [1:03:44<3:18:27,  2.78s/it]"
     ]
    },
    {
     "name": "stdout",
     "output_type": "stream",
     "text": [
      "{'loss': 0.5441, 'grad_norm': 0.5119175314903259, 'learning_rate': 0.0002508984375, 'epoch': 4.76}\n"
     ]
    },
    {
     "name": "stderr",
     "output_type": "stream",
     "text": [
      " 24%|██▍       | 1350/5620 [1:04:08<2:40:24,  2.25s/it]"
     ]
    },
    {
     "name": "stdout",
     "output_type": "stream",
     "text": [
      "{'loss': 0.5792, 'grad_norm': 0.9018890261650085, 'learning_rate': 0.0002503125, 'epoch': 4.8}\n"
     ]
    },
    {
     "name": "stderr",
     "output_type": "stream",
     "text": [
      " 24%|██▍       | 1360/5620 [1:04:28<2:16:48,  1.93s/it]"
     ]
    },
    {
     "name": "stdout",
     "output_type": "stream",
     "text": [
      "{'loss': 0.5335, 'grad_norm': 0.5371050834655762, 'learning_rate': 0.00024972656249999995, 'epoch': 4.83}\n"
     ]
    },
    {
     "name": "stderr",
     "output_type": "stream",
     "text": [
      " 24%|██▍       | 1370/5620 [1:04:45<1:54:22,  1.61s/it]"
     ]
    },
    {
     "name": "stdout",
     "output_type": "stream",
     "text": [
      "{'loss': 0.5715, 'grad_norm': 0.756286084651947, 'learning_rate': 0.00024914062499999996, 'epoch': 4.87}\n"
     ]
    },
    {
     "name": "stderr",
     "output_type": "stream",
     "text": [
      " 25%|██▍       | 1380/5620 [1:05:08<3:36:47,  3.07s/it]"
     ]
    },
    {
     "name": "stdout",
     "output_type": "stream",
     "text": [
      "{'loss': 0.6136, 'grad_norm': 0.56305992603302, 'learning_rate': 0.00024855468749999997, 'epoch': 4.9}\n"
     ]
    },
    {
     "name": "stderr",
     "output_type": "stream",
     "text": [
      " 25%|██▍       | 1390/5620 [1:05:36<2:59:48,  2.55s/it]"
     ]
    },
    {
     "name": "stdout",
     "output_type": "stream",
     "text": [
      "{'loss': 0.5349, 'grad_norm': 0.545341968536377, 'learning_rate': 0.00024796875, 'epoch': 4.94}\n"
     ]
    },
    {
     "name": "stderr",
     "output_type": "stream",
     "text": [
      " 25%|██▍       | 1400/5620 [1:05:55<2:10:00,  1.85s/it]"
     ]
    },
    {
     "name": "stdout",
     "output_type": "stream",
     "text": [
      "{'loss': 0.5372, 'grad_norm': 0.810308575630188, 'learning_rate': 0.0002473828125, 'epoch': 4.97}\n"
     ]
    },
    {
     "name": "stderr",
     "output_type": "stream",
     "text": [
      "                                                       \n",
      " 25%|██▍       | 1400/5620 [1:06:44<2:10:00,  1.85s/it]"
     ]
    },
    {
     "name": "stdout",
     "output_type": "stream",
     "text": [
      "{'eval_loss': 0.43144628405570984, 'eval_wer': 0.4799868406623533, 'eval_runtime': 48.3182, 'eval_samples_per_second': 20.696, 'eval_steps_per_second': 2.587, 'epoch': 4.97}\n"
     ]
    },
    {
     "name": "stderr",
     "output_type": "stream",
     "text": [
      "/home/mehedi/anaconda3/envs/wav2vec/lib/python3.10/site-packages/transformers/models/wav2vec2/processing_wav2vec2.py:157: UserWarning: `as_target_processor` is deprecated and will be removed in v5 of Transformers. You can process your labels by using the argument `text` of the regular `__call__` method (either in the same call as your audio inputs, or in a separate call.\n",
      "  warnings.warn(\n",
      "/home/mehedi/anaconda3/envs/wav2vec/lib/python3.10/site-packages/torch/utils/checkpoint.py:295: FutureWarning: `torch.cpu.amp.autocast(args...)` is deprecated. Please use `torch.amp.autocast('cpu', args...)` instead.\n",
      "  with torch.enable_grad(), device_autocast_ctx, torch.cpu.amp.autocast(**ctx.cpu_autocast_kwargs):  # type: ignore[attr-defined]\n",
      " 25%|██▌       | 1410/5620 [1:07:07<3:59:46,  3.42s/it] "
     ]
    },
    {
     "name": "stdout",
     "output_type": "stream",
     "text": [
      "{'loss': 0.6266, 'grad_norm': 0.6179250478744507, 'learning_rate': 0.00024679687499999995, 'epoch': 5.01}\n"
     ]
    },
    {
     "name": "stderr",
     "output_type": "stream",
     "text": [
      " 25%|██▌       | 1420/5620 [1:07:39<3:25:11,  2.93s/it]"
     ]
    },
    {
     "name": "stdout",
     "output_type": "stream",
     "text": [
      "{'loss': 0.4995, 'grad_norm': 0.48217302560806274, 'learning_rate': 0.00024621093749999996, 'epoch': 5.04}\n"
     ]
    },
    {
     "name": "stderr",
     "output_type": "stream",
     "text": [
      " 25%|██▌       | 1430/5620 [1:08:03<2:44:58,  2.36s/it]"
     ]
    },
    {
     "name": "stdout",
     "output_type": "stream",
     "text": [
      "{'loss': 0.4801, 'grad_norm': 0.4900878965854645, 'learning_rate': 0.00024562499999999997, 'epoch': 5.08}\n"
     ]
    },
    {
     "name": "stderr",
     "output_type": "stream",
     "text": [
      " 26%|██▌       | 1440/5620 [1:08:24<2:17:37,  1.98s/it]"
     ]
    },
    {
     "name": "stdout",
     "output_type": "stream",
     "text": [
      "{'loss': 0.4419, 'grad_norm': 0.542972207069397, 'learning_rate': 0.0002450390625, 'epoch': 5.12}\n"
     ]
    },
    {
     "name": "stderr",
     "output_type": "stream",
     "text": [
      " 26%|██▌       | 1450/5620 [1:08:40<1:53:57,  1.64s/it]"
     ]
    },
    {
     "name": "stdout",
     "output_type": "stream",
     "text": [
      "{'loss': 0.5019, 'grad_norm': 0.9164965748786926, 'learning_rate': 0.000244453125, 'epoch': 5.15}\n"
     ]
    },
    {
     "name": "stderr",
     "output_type": "stream",
     "text": [
      " 26%|██▌       | 1460/5620 [1:09:01<3:16:26,  2.83s/it]"
     ]
    },
    {
     "name": "stdout",
     "output_type": "stream",
     "text": [
      "{'loss': 0.4754, 'grad_norm': 0.4844277501106262, 'learning_rate': 0.00024386718749999997, 'epoch': 5.19}\n"
     ]
    },
    {
     "name": "stderr",
     "output_type": "stream",
     "text": [
      " 26%|██▌       | 1470/5620 [1:09:32<3:25:25,  2.97s/it]"
     ]
    },
    {
     "name": "stdout",
     "output_type": "stream",
     "text": [
      "{'loss': 0.4907, 'grad_norm': 0.794083297252655, 'learning_rate': 0.00024328124999999998, 'epoch': 5.22}\n"
     ]
    },
    {
     "name": "stderr",
     "output_type": "stream",
     "text": [
      " 26%|██▋       | 1480/5620 [1:09:57<2:41:42,  2.34s/it]"
     ]
    },
    {
     "name": "stdout",
     "output_type": "stream",
     "text": [
      "{'loss': 0.5045, 'grad_norm': 0.5635599493980408, 'learning_rate': 0.00024269531249999996, 'epoch': 5.26}\n"
     ]
    },
    {
     "name": "stderr",
     "output_type": "stream",
     "text": [
      " 27%|██▋       | 1490/5620 [1:10:18<2:23:46,  2.09s/it]"
     ]
    },
    {
     "name": "stdout",
     "output_type": "stream",
     "text": [
      "{'loss': 0.4976, 'grad_norm': 0.5977628231048584, 'learning_rate': 0.00024210937499999997, 'epoch': 5.29}\n"
     ]
    },
    {
     "name": "stderr",
     "output_type": "stream",
     "text": [
      " 27%|██▋       | 1500/5620 [1:10:36<1:54:56,  1.67s/it]"
     ]
    },
    {
     "name": "stdout",
     "output_type": "stream",
     "text": [
      "{'loss': 0.4713, 'grad_norm': 0.8593668937683105, 'learning_rate': 0.00024152343749999998, 'epoch': 5.33}\n"
     ]
    },
    {
     "name": "stderr",
     "output_type": "stream",
     "text": [
      "                                                       \n",
      " 27%|██▋       | 1500/5620 [1:11:24<1:54:56,  1.67s/it]"
     ]
    },
    {
     "name": "stdout",
     "output_type": "stream",
     "text": [
      "{'eval_loss': 0.42893609404563904, 'eval_wer': 0.4652922469569032, 'eval_runtime': 48.375, 'eval_samples_per_second': 20.672, 'eval_steps_per_second': 2.584, 'epoch': 5.33}\n"
     ]
    },
    {
     "name": "stderr",
     "output_type": "stream",
     "text": [
      "/home/mehedi/anaconda3/envs/wav2vec/lib/python3.10/site-packages/transformers/models/wav2vec2/processing_wav2vec2.py:157: UserWarning: `as_target_processor` is deprecated and will be removed in v5 of Transformers. You can process your labels by using the argument `text` of the regular `__call__` method (either in the same call as your audio inputs, or in a separate call.\n",
      "  warnings.warn(\n",
      "/home/mehedi/anaconda3/envs/wav2vec/lib/python3.10/site-packages/torch/utils/checkpoint.py:295: FutureWarning: `torch.cpu.amp.autocast(args...)` is deprecated. Please use `torch.amp.autocast('cpu', args...)` instead.\n",
      "  with torch.enable_grad(), device_autocast_ctx, torch.cpu.amp.autocast(**ctx.cpu_autocast_kwargs):  # type: ignore[attr-defined]\n",
      " 27%|██▋       | 1510/5620 [1:11:47<3:48:53,  3.34s/it] "
     ]
    },
    {
     "name": "stdout",
     "output_type": "stream",
     "text": [
      "{'loss': 0.5516, 'grad_norm': 0.6059084534645081, 'learning_rate': 0.00024093749999999997, 'epoch': 5.36}\n"
     ]
    },
    {
     "name": "stderr",
     "output_type": "stream",
     "text": [
      " 27%|██▋       | 1520/5620 [1:12:19<3:21:20,  2.95s/it]"
     ]
    },
    {
     "name": "stdout",
     "output_type": "stream",
     "text": [
      "{'loss': 0.4947, 'grad_norm': 0.6018845438957214, 'learning_rate': 0.00024035156249999998, 'epoch': 5.4}\n"
     ]
    },
    {
     "name": "stderr",
     "output_type": "stream",
     "text": [
      " 27%|██▋       | 1530/5620 [1:12:43<2:41:22,  2.37s/it]"
     ]
    },
    {
     "name": "stdout",
     "output_type": "stream",
     "text": [
      "{'loss': 0.44, 'grad_norm': 0.7216529846191406, 'learning_rate': 0.00023976562499999996, 'epoch': 5.44}\n"
     ]
    },
    {
     "name": "stderr",
     "output_type": "stream",
     "text": [
      " 27%|██▋       | 1540/5620 [1:13:04<2:15:40,  2.00s/it]"
     ]
    },
    {
     "name": "stdout",
     "output_type": "stream",
     "text": [
      "{'loss': 0.4258, 'grad_norm': 0.513842761516571, 'learning_rate': 0.00023917968749999997, 'epoch': 5.47}\n"
     ]
    },
    {
     "name": "stderr",
     "output_type": "stream",
     "text": [
      " 28%|██▊       | 1550/5620 [1:13:21<1:50:39,  1.63s/it]"
     ]
    },
    {
     "name": "stdout",
     "output_type": "stream",
     "text": [
      "{'loss': 0.4684, 'grad_norm': 0.7250943779945374, 'learning_rate': 0.00023859374999999998, 'epoch': 5.51}\n"
     ]
    },
    {
     "name": "stderr",
     "output_type": "stream",
     "text": [
      " 28%|██▊       | 1560/5620 [1:13:41<3:05:25,  2.74s/it]"
     ]
    },
    {
     "name": "stdout",
     "output_type": "stream",
     "text": [
      "{'loss': 0.5465, 'grad_norm': 0.6741055846214294, 'learning_rate': 0.00023800781249999997, 'epoch': 5.54}\n"
     ]
    },
    {
     "name": "stderr",
     "output_type": "stream",
     "text": [
      " 28%|██▊       | 1570/5620 [1:14:14<3:22:53,  3.01s/it]"
     ]
    },
    {
     "name": "stdout",
     "output_type": "stream",
     "text": [
      "{'loss': 0.4777, 'grad_norm': 0.5388421416282654, 'learning_rate': 0.00023742187499999998, 'epoch': 5.58}\n"
     ]
    },
    {
     "name": "stderr",
     "output_type": "stream",
     "text": [
      " 28%|██▊       | 1580/5620 [1:14:39<2:44:24,  2.44s/it]"
     ]
    },
    {
     "name": "stdout",
     "output_type": "stream",
     "text": [
      "{'loss': 0.444, 'grad_norm': 0.569648265838623, 'learning_rate': 0.00023683593749999999, 'epoch': 5.61}\n"
     ]
    },
    {
     "name": "stderr",
     "output_type": "stream",
     "text": [
      " 28%|██▊       | 1590/5620 [1:15:00<2:15:39,  2.02s/it]"
     ]
    },
    {
     "name": "stdout",
     "output_type": "stream",
     "text": [
      "{'loss': 0.415, 'grad_norm': 1.0279533863067627, 'learning_rate': 0.00023624999999999997, 'epoch': 5.65}\n"
     ]
    },
    {
     "name": "stderr",
     "output_type": "stream",
     "text": [
      " 28%|██▊       | 1600/5620 [1:15:17<1:50:17,  1.65s/it]"
     ]
    },
    {
     "name": "stdout",
     "output_type": "stream",
     "text": [
      "{'loss': 0.4574, 'grad_norm': 0.6851861476898193, 'learning_rate': 0.00023566406249999998, 'epoch': 5.68}\n"
     ]
    },
    {
     "name": "stderr",
     "output_type": "stream",
     "text": [
      "                                                       \n",
      " 28%|██▊       | 1600/5620 [1:16:06<1:50:17,  1.65s/it]"
     ]
    },
    {
     "name": "stdout",
     "output_type": "stream",
     "text": [
      "{'eval_loss': 0.41755905747413635, 'eval_wer': 0.4629893628687356, 'eval_runtime': 48.4187, 'eval_samples_per_second': 20.653, 'eval_steps_per_second': 2.582, 'epoch': 5.68}\n"
     ]
    },
    {
     "name": "stderr",
     "output_type": "stream",
     "text": [
      "/home/mehedi/anaconda3/envs/wav2vec/lib/python3.10/site-packages/transformers/models/wav2vec2/processing_wav2vec2.py:157: UserWarning: `as_target_processor` is deprecated and will be removed in v5 of Transformers. You can process your labels by using the argument `text` of the regular `__call__` method (either in the same call as your audio inputs, or in a separate call.\n",
      "  warnings.warn(\n",
      "/home/mehedi/anaconda3/envs/wav2vec/lib/python3.10/site-packages/torch/utils/checkpoint.py:295: FutureWarning: `torch.cpu.amp.autocast(args...)` is deprecated. Please use `torch.amp.autocast('cpu', args...)` instead.\n",
      "  with torch.enable_grad(), device_autocast_ctx, torch.cpu.amp.autocast(**ctx.cpu_autocast_kwargs):  # type: ignore[attr-defined]\n",
      " 29%|██▊       | 1610/5620 [1:16:29<3:54:51,  3.51s/it] "
     ]
    },
    {
     "name": "stdout",
     "output_type": "stream",
     "text": [
      "{'loss': 0.5439, 'grad_norm': 0.6937316656112671, 'learning_rate': 0.00023507812499999996, 'epoch': 5.72}\n"
     ]
    },
    {
     "name": "stderr",
     "output_type": "stream",
     "text": [
      " 29%|██▉       | 1620/5620 [1:17:01<3:21:04,  3.02s/it]"
     ]
    },
    {
     "name": "stdout",
     "output_type": "stream",
     "text": [
      "{'loss': 0.4774, 'grad_norm': 0.6983432769775391, 'learning_rate': 0.00023449218749999997, 'epoch': 5.75}\n"
     ]
    },
    {
     "name": "stderr",
     "output_type": "stream",
     "text": [
      " 29%|██▉       | 1630/5620 [1:17:25<2:34:59,  2.33s/it]"
     ]
    },
    {
     "name": "stdout",
     "output_type": "stream",
     "text": [
      "{'loss': 0.4413, 'grad_norm': 0.620140552520752, 'learning_rate': 0.00023390624999999998, 'epoch': 5.79}\n"
     ]
    },
    {
     "name": "stderr",
     "output_type": "stream",
     "text": [
      " 29%|██▉       | 1640/5620 [1:17:46<2:13:12,  2.01s/it]"
     ]
    },
    {
     "name": "stdout",
     "output_type": "stream",
     "text": [
      "{'loss': 0.4296, 'grad_norm': 0.7060505747795105, 'learning_rate': 0.00023332031249999997, 'epoch': 5.83}\n"
     ]
    },
    {
     "name": "stderr",
     "output_type": "stream",
     "text": [
      " 29%|██▉       | 1650/5620 [1:18:02<1:43:09,  1.56s/it]"
     ]
    },
    {
     "name": "stdout",
     "output_type": "stream",
     "text": [
      "{'loss': 0.4768, 'grad_norm': 0.8447163105010986, 'learning_rate': 0.00023273437499999998, 'epoch': 5.86}\n"
     ]
    },
    {
     "name": "stderr",
     "output_type": "stream",
     "text": [
      " 30%|██▉       | 1660/5620 [1:18:22<3:03:52,  2.79s/it]"
     ]
    },
    {
     "name": "stdout",
     "output_type": "stream",
     "text": [
      "{'loss': 0.5169, 'grad_norm': 0.6244008541107178, 'learning_rate': 0.00023214843749999996, 'epoch': 5.9}\n"
     ]
    },
    {
     "name": "stderr",
     "output_type": "stream",
     "text": [
      " 30%|██▉       | 1670/5620 [1:18:51<2:51:00,  2.60s/it]"
     ]
    },
    {
     "name": "stdout",
     "output_type": "stream",
     "text": [
      "{'loss': 0.4647, 'grad_norm': 0.6142054200172424, 'learning_rate': 0.00023156249999999997, 'epoch': 5.93}\n"
     ]
    },
    {
     "name": "stderr",
     "output_type": "stream",
     "text": [
      " 30%|██▉       | 1680/5620 [1:19:11<2:07:23,  1.94s/it]"
     ]
    },
    {
     "name": "stdout",
     "output_type": "stream",
     "text": [
      "{'loss': 0.4195, 'grad_norm': 0.676738977432251, 'learning_rate': 0.00023097656249999998, 'epoch': 5.97}\n"
     ]
    },
    {
     "name": "stderr",
     "output_type": "stream",
     "text": [
      " 30%|███       | 1690/5620 [1:19:29<2:23:45,  2.19s/it]"
     ]
    },
    {
     "name": "stdout",
     "output_type": "stream",
     "text": [
      "{'loss': 0.5235, 'grad_norm': 0.6344739198684692, 'learning_rate': 0.00023039062499999996, 'epoch': 6.0}\n"
     ]
    },
    {
     "name": "stderr",
     "output_type": "stream",
     "text": [
      " 30%|███       | 1700/5620 [1:20:02<3:22:17,  3.10s/it]"
     ]
    },
    {
     "name": "stdout",
     "output_type": "stream",
     "text": [
      "{'loss': 0.4031, 'grad_norm': 0.4554711878299713, 'learning_rate': 0.00022980468749999997, 'epoch': 6.04}\n"
     ]
    },
    {
     "name": "stderr",
     "output_type": "stream",
     "text": [
      "                                                       \n",
      " 30%|███       | 1700/5620 [1:20:51<3:22:17,  3.10s/it]"
     ]
    },
    {
     "name": "stdout",
     "output_type": "stream",
     "text": [
      "{'eval_loss': 0.4024040400981903, 'eval_wer': 0.4272398289286106, 'eval_runtime': 48.4251, 'eval_samples_per_second': 20.65, 'eval_steps_per_second': 2.581, 'epoch': 6.04}\n"
     ]
    },
    {
     "name": "stderr",
     "output_type": "stream",
     "text": [
      "/home/mehedi/anaconda3/envs/wav2vec/lib/python3.10/site-packages/transformers/models/wav2vec2/processing_wav2vec2.py:157: UserWarning: `as_target_processor` is deprecated and will be removed in v5 of Transformers. You can process your labels by using the argument `text` of the regular `__call__` method (either in the same call as your audio inputs, or in a separate call.\n",
      "  warnings.warn(\n",
      "/home/mehedi/anaconda3/envs/wav2vec/lib/python3.10/site-packages/torch/utils/checkpoint.py:295: FutureWarning: `torch.cpu.amp.autocast(args...)` is deprecated. Please use `torch.amp.autocast('cpu', args...)` instead.\n",
      "  with torch.enable_grad(), device_autocast_ctx, torch.cpu.amp.autocast(**ctx.cpu_autocast_kwargs):  # type: ignore[attr-defined]\n",
      " 30%|███       | 1710/5620 [1:21:20<3:15:59,  3.01s/it] "
     ]
    },
    {
     "name": "stdout",
     "output_type": "stream",
     "text": [
      "{'loss': 0.4327, 'grad_norm': 0.5687083601951599, 'learning_rate': 0.00022921874999999998, 'epoch': 6.07}\n"
     ]
    },
    {
     "name": "stderr",
     "output_type": "stream",
     "text": [
      " 31%|███       | 1720/5620 [1:21:41<2:12:35,  2.04s/it]"
     ]
    },
    {
     "name": "stdout",
     "output_type": "stream",
     "text": [
      "{'loss': 0.3741, 'grad_norm': 0.5998802185058594, 'learning_rate': 0.00022863281249999997, 'epoch': 6.11}\n"
     ]
    },
    {
     "name": "stderr",
     "output_type": "stream",
     "text": [
      " 31%|███       | 1730/5620 [1:21:58<1:48:55,  1.68s/it]"
     ]
    },
    {
     "name": "stdout",
     "output_type": "stream",
     "text": [
      "{'loss': 0.4287, 'grad_norm': 0.9237876534461975, 'learning_rate': 0.00022804687499999998, 'epoch': 6.15}\n"
     ]
    },
    {
     "name": "stderr",
     "output_type": "stream",
     "text": [
      " 31%|███       | 1740/5620 [1:22:15<2:17:49,  2.13s/it]"
     ]
    },
    {
     "name": "stdout",
     "output_type": "stream",
     "text": [
      "{'loss': 0.4494, 'grad_norm': 0.4351884722709656, 'learning_rate': 0.00022746093749999996, 'epoch': 6.18}\n"
     ]
    },
    {
     "name": "stderr",
     "output_type": "stream",
     "text": [
      " 31%|███       | 1750/5620 [1:22:48<3:17:52,  3.07s/it]"
     ]
    },
    {
     "name": "stdout",
     "output_type": "stream",
     "text": [
      "{'loss': 0.4394, 'grad_norm': 0.700130045413971, 'learning_rate': 0.00022687499999999997, 'epoch': 6.22}\n"
     ]
    },
    {
     "name": "stderr",
     "output_type": "stream",
     "text": [
      " 31%|███▏      | 1760/5620 [1:23:13<2:33:19,  2.38s/it]"
     ]
    },
    {
     "name": "stdout",
     "output_type": "stream",
     "text": [
      "{'loss': 0.415, 'grad_norm': 0.7486356496810913, 'learning_rate': 0.00022628906249999998, 'epoch': 6.25}\n"
     ]
    },
    {
     "name": "stderr",
     "output_type": "stream",
     "text": [
      " 31%|███▏      | 1770/5620 [1:23:34<2:12:44,  2.07s/it]"
     ]
    },
    {
     "name": "stdout",
     "output_type": "stream",
     "text": [
      "{'loss': 0.3651, 'grad_norm': 0.6370599269866943, 'learning_rate': 0.00022570312499999997, 'epoch': 6.29}\n"
     ]
    },
    {
     "name": "stderr",
     "output_type": "stream",
     "text": [
      " 32%|███▏      | 1780/5620 [1:23:52<1:51:54,  1.75s/it]"
     ]
    },
    {
     "name": "stdout",
     "output_type": "stream",
     "text": [
      "{'loss': 0.3723, 'grad_norm': 0.9279974102973938, 'learning_rate': 0.00022511718749999998, 'epoch': 6.32}\n"
     ]
    },
    {
     "name": "stderr",
     "output_type": "stream",
     "text": [
      " 32%|███▏      | 1790/5620 [1:24:09<2:16:47,  2.14s/it]"
     ]
    },
    {
     "name": "stdout",
     "output_type": "stream",
     "text": [
      "{'loss': 0.4527, 'grad_norm': 0.6851380467414856, 'learning_rate': 0.00022453124999999999, 'epoch': 6.36}\n"
     ]
    },
    {
     "name": "stderr",
     "output_type": "stream",
     "text": [
      " 32%|███▏      | 1800/5620 [1:24:42<3:15:51,  3.08s/it]"
     ]
    },
    {
     "name": "stdout",
     "output_type": "stream",
     "text": [
      "{'loss': 0.4277, 'grad_norm': 0.5446849465370178, 'learning_rate': 0.00022394531249999997, 'epoch': 6.39}\n"
     ]
    },
    {
     "name": "stderr",
     "output_type": "stream",
     "text": [
      "                                                       \n",
      " 32%|███▏      | 1800/5620 [1:25:31<3:15:51,  3.08s/it]"
     ]
    },
    {
     "name": "stdout",
     "output_type": "stream",
     "text": [
      "{'eval_loss': 0.401576429605484, 'eval_wer': 0.41835727601710715, 'eval_runtime': 48.4011, 'eval_samples_per_second': 20.661, 'eval_steps_per_second': 2.583, 'epoch': 6.39}\n"
     ]
    },
    {
     "name": "stderr",
     "output_type": "stream",
     "text": [
      "/home/mehedi/anaconda3/envs/wav2vec/lib/python3.10/site-packages/transformers/models/wav2vec2/processing_wav2vec2.py:157: UserWarning: `as_target_processor` is deprecated and will be removed in v5 of Transformers. You can process your labels by using the argument `text` of the regular `__call__` method (either in the same call as your audio inputs, or in a separate call.\n",
      "  warnings.warn(\n",
      "/home/mehedi/anaconda3/envs/wav2vec/lib/python3.10/site-packages/torch/utils/checkpoint.py:295: FutureWarning: `torch.cpu.amp.autocast(args...)` is deprecated. Please use `torch.amp.autocast('cpu', args...)` instead.\n",
      "  with torch.enable_grad(), device_autocast_ctx, torch.cpu.amp.autocast(**ctx.cpu_autocast_kwargs):  # type: ignore[attr-defined]\n",
      " 32%|███▏      | 1810/5620 [1:26:00<3:18:04,  3.12s/it] "
     ]
    },
    {
     "name": "stdout",
     "output_type": "stream",
     "text": [
      "{'loss': 0.3929, 'grad_norm': 0.5770736932754517, 'learning_rate': 0.00022335937499999998, 'epoch': 6.43}\n"
     ]
    },
    {
     "name": "stderr",
     "output_type": "stream",
     "text": [
      " 32%|███▏      | 1820/5620 [1:26:22<2:12:15,  2.09s/it]"
     ]
    },
    {
     "name": "stdout",
     "output_type": "stream",
     "text": [
      "{'loss': 0.3765, 'grad_norm': 0.6641653776168823, 'learning_rate': 0.00022277343749999996, 'epoch': 6.47}\n"
     ]
    },
    {
     "name": "stderr",
     "output_type": "stream",
     "text": [
      " 33%|███▎      | 1830/5620 [1:26:39<1:47:45,  1.71s/it]"
     ]
    },
    {
     "name": "stdout",
     "output_type": "stream",
     "text": [
      "{'loss': 0.4118, 'grad_norm': 0.6415061950683594, 'learning_rate': 0.00022218749999999997, 'epoch': 6.5}\n"
     ]
    },
    {
     "name": "stderr",
     "output_type": "stream",
     "text": [
      " 33%|███▎      | 1840/5620 [1:26:56<2:15:00,  2.14s/it]"
     ]
    },
    {
     "name": "stdout",
     "output_type": "stream",
     "text": [
      "{'loss': 0.4587, 'grad_norm': 0.629558265209198, 'learning_rate': 0.00022160156249999998, 'epoch': 6.54}\n"
     ]
    },
    {
     "name": "stderr",
     "output_type": "stream",
     "text": [
      " 33%|███▎      | 1850/5620 [1:27:29<3:09:19,  3.01s/it]"
     ]
    },
    {
     "name": "stdout",
     "output_type": "stream",
     "text": [
      "{'loss': 0.4121, 'grad_norm': 0.49752920866012573, 'learning_rate': 0.00022101562499999997, 'epoch': 6.57}\n"
     ]
    },
    {
     "name": "stderr",
     "output_type": "stream",
     "text": [
      " 33%|███▎      | 1860/5620 [1:27:54<2:32:34,  2.43s/it]"
     ]
    },
    {
     "name": "stdout",
     "output_type": "stream",
     "text": [
      "{'loss': 0.4346, 'grad_norm': 0.5526525378227234, 'learning_rate': 0.00022042968749999998, 'epoch': 6.61}\n"
     ]
    },
    {
     "name": "stderr",
     "output_type": "stream",
     "text": [
      " 33%|███▎      | 1870/5620 [1:28:15<2:06:16,  2.02s/it]"
     ]
    },
    {
     "name": "stdout",
     "output_type": "stream",
     "text": [
      "{'loss': 0.3957, 'grad_norm': 0.6626412272453308, 'learning_rate': 0.00021984375, 'epoch': 6.64}\n"
     ]
    },
    {
     "name": "stderr",
     "output_type": "stream",
     "text": [
      " 33%|███▎      | 1880/5620 [1:28:33<1:47:29,  1.72s/it]"
     ]
    },
    {
     "name": "stdout",
     "output_type": "stream",
     "text": [
      "{'loss': 0.3696, 'grad_norm': 0.765130877494812, 'learning_rate': 0.00021925781249999997, 'epoch': 6.68}\n"
     ]
    },
    {
     "name": "stderr",
     "output_type": "stream",
     "text": [
      " 34%|███▎      | 1890/5620 [1:28:49<2:12:35,  2.13s/it]"
     ]
    },
    {
     "name": "stdout",
     "output_type": "stream",
     "text": [
      "{'loss': 0.4723, 'grad_norm': 0.4844018816947937, 'learning_rate': 0.00021867187499999998, 'epoch': 6.71}\n"
     ]
    },
    {
     "name": "stderr",
     "output_type": "stream",
     "text": [
      " 34%|███▍      | 1900/5620 [1:29:22<3:10:58,  3.08s/it]"
     ]
    },
    {
     "name": "stdout",
     "output_type": "stream",
     "text": [
      "{'loss': 0.4469, 'grad_norm': 0.5962949991226196, 'learning_rate': 0.00021808593749999996, 'epoch': 6.75}\n"
     ]
    },
    {
     "name": "stderr",
     "output_type": "stream",
     "text": [
      "                                                       \n",
      " 34%|███▍      | 1900/5620 [1:30:11<3:10:58,  3.08s/it]"
     ]
    },
    {
     "name": "stdout",
     "output_type": "stream",
     "text": [
      "{'eval_loss': 0.3728272616863251, 'eval_wer': 0.4101326899879373, 'eval_runtime': 48.4069, 'eval_samples_per_second': 20.658, 'eval_steps_per_second': 2.582, 'epoch': 6.75}\n"
     ]
    },
    {
     "name": "stderr",
     "output_type": "stream",
     "text": [
      "/home/mehedi/anaconda3/envs/wav2vec/lib/python3.10/site-packages/transformers/models/wav2vec2/processing_wav2vec2.py:157: UserWarning: `as_target_processor` is deprecated and will be removed in v5 of Transformers. You can process your labels by using the argument `text` of the regular `__call__` method (either in the same call as your audio inputs, or in a separate call.\n",
      "  warnings.warn(\n",
      "/home/mehedi/anaconda3/envs/wav2vec/lib/python3.10/site-packages/torch/utils/checkpoint.py:295: FutureWarning: `torch.cpu.amp.autocast(args...)` is deprecated. Please use `torch.amp.autocast('cpu', args...)` instead.\n",
      "  with torch.enable_grad(), device_autocast_ctx, torch.cpu.amp.autocast(**ctx.cpu_autocast_kwargs):  # type: ignore[attr-defined]\n",
      " 34%|███▍      | 1910/5620 [1:30:40<3:16:40,  3.18s/it] "
     ]
    },
    {
     "name": "stdout",
     "output_type": "stream",
     "text": [
      "{'loss': 0.408, 'grad_norm': 0.6323874592781067, 'learning_rate': 0.00021749999999999997, 'epoch': 6.79}\n"
     ]
    },
    {
     "name": "stderr",
     "output_type": "stream",
     "text": [
      " 34%|███▍      | 1920/5620 [1:31:02<2:07:59,  2.08s/it]"
     ]
    },
    {
     "name": "stdout",
     "output_type": "stream",
     "text": [
      "{'loss': 0.326, 'grad_norm': 0.3984197676181793, 'learning_rate': 0.00021691406249999998, 'epoch': 6.82}\n"
     ]
    },
    {
     "name": "stderr",
     "output_type": "stream",
     "text": [
      " 34%|███▍      | 1930/5620 [1:31:20<1:44:26,  1.70s/it]"
     ]
    },
    {
     "name": "stdout",
     "output_type": "stream",
     "text": [
      "{'loss': 0.4171, 'grad_norm': 0.9933977723121643, 'learning_rate': 0.00021632812499999997, 'epoch': 6.86}\n"
     ]
    },
    {
     "name": "stderr",
     "output_type": "stream",
     "text": [
      " 35%|███▍      | 1940/5620 [1:31:36<2:09:37,  2.11s/it]"
     ]
    },
    {
     "name": "stdout",
     "output_type": "stream",
     "text": [
      "{'loss': 0.5279, 'grad_norm': 0.7125703692436218, 'learning_rate': 0.00021574218749999998, 'epoch': 6.89}\n"
     ]
    },
    {
     "name": "stderr",
     "output_type": "stream",
     "text": [
      " 35%|███▍      | 1950/5620 [1:32:07<2:45:15,  2.70s/it]"
     ]
    },
    {
     "name": "stdout",
     "output_type": "stream",
     "text": [
      "{'loss': 0.4223, 'grad_norm': 0.49379971623420715, 'learning_rate': 0.00021515624999999996, 'epoch': 6.93}\n"
     ]
    },
    {
     "name": "stderr",
     "output_type": "stream",
     "text": [
      " 35%|███▍      | 1960/5620 [1:32:28<2:02:16,  2.00s/it]"
     ]
    },
    {
     "name": "stdout",
     "output_type": "stream",
     "text": [
      "{'loss': 0.3485, 'grad_norm': 0.6452614068984985, 'learning_rate': 0.00021457031249999997, 'epoch': 6.96}\n"
     ]
    },
    {
     "name": "stderr",
     "output_type": "stream",
     "text": [
      " 35%|███▌      | 1970/5620 [1:32:43<1:22:23,  1.35s/it]"
     ]
    },
    {
     "name": "stdout",
     "output_type": "stream",
     "text": [
      "{'loss': 0.3915, 'grad_norm': 1.4129575490951538, 'learning_rate': 0.00021398437499999998, 'epoch': 7.0}\n"
     ]
    },
    {
     "name": "stderr",
     "output_type": "stream",
     "text": [
      " 35%|███▌      | 1980/5620 [1:33:17<3:12:36,  3.17s/it]"
     ]
    },
    {
     "name": "stdout",
     "output_type": "stream",
     "text": [
      "{'loss': 0.3701, 'grad_norm': 0.6237117052078247, 'learning_rate': 0.00021339843749999997, 'epoch': 7.03}\n"
     ]
    },
    {
     "name": "stderr",
     "output_type": "stream",
     "text": [
      " 35%|███▌      | 1990/5620 [1:33:44<2:33:29,  2.54s/it]"
     ]
    },
    {
     "name": "stdout",
     "output_type": "stream",
     "text": [
      "{'loss': 0.3538, 'grad_norm': 0.49408167600631714, 'learning_rate': 0.00021281249999999998, 'epoch': 7.07}\n"
     ]
    },
    {
     "name": "stderr",
     "output_type": "stream",
     "text": [
      " 36%|███▌      | 2000/5620 [1:34:05<2:03:53,  2.05s/it]"
     ]
    },
    {
     "name": "stdout",
     "output_type": "stream",
     "text": [
      "{'loss': 0.3166, 'grad_norm': 0.7586616277694702, 'learning_rate': 0.00021222656249999999, 'epoch': 7.1}\n"
     ]
    },
    {
     "name": "stderr",
     "output_type": "stream",
     "text": [
      "                                                       \n",
      " 36%|███▌      | 2000/5620 [1:34:54<2:03:53,  2.05s/it]"
     ]
    },
    {
     "name": "stdout",
     "output_type": "stream",
     "text": [
      "{'eval_loss': 0.38104063272476196, 'eval_wer': 0.38699418795920604, 'eval_runtime': 48.3961, 'eval_samples_per_second': 20.663, 'eval_steps_per_second': 2.583, 'epoch': 7.1}\n"
     ]
    },
    {
     "name": "stderr",
     "output_type": "stream",
     "text": [
      "/home/mehedi/anaconda3/envs/wav2vec/lib/python3.10/site-packages/transformers/models/wav2vec2/processing_wav2vec2.py:157: UserWarning: `as_target_processor` is deprecated and will be removed in v5 of Transformers. You can process your labels by using the argument `text` of the regular `__call__` method (either in the same call as your audio inputs, or in a separate call.\n",
      "  warnings.warn(\n",
      "/home/mehedi/anaconda3/envs/wav2vec/lib/python3.10/site-packages/torch/utils/checkpoint.py:295: FutureWarning: `torch.cpu.amp.autocast(args...)` is deprecated. Please use `torch.amp.autocast('cpu', args...)` instead.\n",
      "  with torch.enable_grad(), device_autocast_ctx, torch.cpu.amp.autocast(**ctx.cpu_autocast_kwargs):  # type: ignore[attr-defined]\n",
      " 36%|███▌      | 2010/5620 [1:35:15<2:21:44,  2.36s/it] "
     ]
    },
    {
     "name": "stdout",
     "output_type": "stream",
     "text": [
      "{'loss': 0.38, 'grad_norm': 0.8995524048805237, 'learning_rate': 0.00021164062499999997, 'epoch': 7.14}\n"
     ]
    },
    {
     "name": "stderr",
     "output_type": "stream",
     "text": [
      " 36%|███▌      | 2020/5620 [1:35:29<1:15:30,  1.26s/it]"
     ]
    },
    {
     "name": "stdout",
     "output_type": "stream",
     "text": [
      "{'loss': 0.3762, 'grad_norm': 0.974122166633606, 'learning_rate': 0.00021105468749999998, 'epoch': 7.18}\n"
     ]
    },
    {
     "name": "stderr",
     "output_type": "stream",
     "text": [
      " 36%|███▌      | 2030/5620 [1:36:03<3:09:10,  3.16s/it]"
     ]
    },
    {
     "name": "stdout",
     "output_type": "stream",
     "text": [
      "{'loss': 0.387, 'grad_norm': 0.7177022099494934, 'learning_rate': 0.00021046874999999996, 'epoch': 7.21}\n"
     ]
    },
    {
     "name": "stderr",
     "output_type": "stream",
     "text": [
      " 36%|███▋      | 2040/5620 [1:36:30<2:34:08,  2.58s/it]"
     ]
    },
    {
     "name": "stdout",
     "output_type": "stream",
     "text": [
      "{'loss': 0.334, 'grad_norm': 0.7906502485275269, 'learning_rate': 0.00020988281249999997, 'epoch': 7.25}\n"
     ]
    },
    {
     "name": "stderr",
     "output_type": "stream",
     "text": [
      " 36%|███▋      | 2050/5620 [1:36:52<2:02:55,  2.07s/it]"
     ]
    },
    {
     "name": "stdout",
     "output_type": "stream",
     "text": [
      "{'loss': 0.3717, 'grad_norm': 0.6829425692558289, 'learning_rate': 0.00020929687499999998, 'epoch': 7.28}\n"
     ]
    },
    {
     "name": "stderr",
     "output_type": "stream",
     "text": [
      " 37%|███▋      | 2060/5620 [1:37:10<1:45:29,  1.78s/it]"
     ]
    },
    {
     "name": "stdout",
     "output_type": "stream",
     "text": [
      "{'loss': 0.3345, 'grad_norm': 0.9672988653182983, 'learning_rate': 0.00020871093749999997, 'epoch': 7.32}\n"
     ]
    },
    {
     "name": "stderr",
     "output_type": "stream",
     "text": [
      " 37%|███▋      | 2070/5620 [1:37:24<1:15:00,  1.27s/it]"
     ]
    },
    {
     "name": "stdout",
     "output_type": "stream",
     "text": [
      "{'loss': 0.3804, 'grad_norm': 0.8914594650268555, 'learning_rate': 0.00020812499999999998, 'epoch': 7.35}\n"
     ]
    },
    {
     "name": "stderr",
     "output_type": "stream",
     "text": [
      " 37%|███▋      | 2080/5620 [1:37:59<3:08:44,  3.20s/it]"
     ]
    },
    {
     "name": "stdout",
     "output_type": "stream",
     "text": [
      "{'loss': 0.3924, 'grad_norm': 0.7353417277336121, 'learning_rate': 0.0002075390625, 'epoch': 7.39}\n"
     ]
    },
    {
     "name": "stderr",
     "output_type": "stream",
     "text": [
      " 37%|███▋      | 2090/5620 [1:38:25<2:33:27,  2.61s/it]"
     ]
    },
    {
     "name": "stdout",
     "output_type": "stream",
     "text": [
      "{'loss': 0.326, 'grad_norm': 0.5418347120285034, 'learning_rate': 0.00020695312499999997, 'epoch': 7.42}\n"
     ]
    },
    {
     "name": "stderr",
     "output_type": "stream",
     "text": [
      " 37%|███▋      | 2100/5620 [1:38:47<2:00:04,  2.05s/it]"
     ]
    },
    {
     "name": "stdout",
     "output_type": "stream",
     "text": [
      "{'loss': 0.3616, 'grad_norm': 0.6532233953475952, 'learning_rate': 0.00020636718749999998, 'epoch': 7.46}\n"
     ]
    },
    {
     "name": "stderr",
     "output_type": "stream",
     "text": [
      "                                                       \n",
      " 37%|███▋      | 2100/5620 [1:39:35<2:00:04,  2.05s/it]"
     ]
    },
    {
     "name": "stdout",
     "output_type": "stream",
     "text": [
      "{'eval_loss': 0.3854627311229706, 'eval_wer': 0.41068099572321526, 'eval_runtime': 48.3721, 'eval_samples_per_second': 20.673, 'eval_steps_per_second': 2.584, 'epoch': 7.46}\n"
     ]
    },
    {
     "name": "stderr",
     "output_type": "stream",
     "text": [
      "/home/mehedi/anaconda3/envs/wav2vec/lib/python3.10/site-packages/transformers/models/wav2vec2/processing_wav2vec2.py:157: UserWarning: `as_target_processor` is deprecated and will be removed in v5 of Transformers. You can process your labels by using the argument `text` of the regular `__call__` method (either in the same call as your audio inputs, or in a separate call.\n",
      "  warnings.warn(\n",
      "/home/mehedi/anaconda3/envs/wav2vec/lib/python3.10/site-packages/torch/utils/checkpoint.py:295: FutureWarning: `torch.cpu.amp.autocast(args...)` is deprecated. Please use `torch.amp.autocast('cpu', args...)` instead.\n",
      "  with torch.enable_grad(), device_autocast_ctx, torch.cpu.amp.autocast(**ctx.cpu_autocast_kwargs):  # type: ignore[attr-defined]\n",
      " 38%|███▊      | 2110/5620 [1:39:57<2:19:19,  2.38s/it] "
     ]
    },
    {
     "name": "stdout",
     "output_type": "stream",
     "text": [
      "{'loss': 0.3391, 'grad_norm': 0.7702137231826782, 'learning_rate': 0.00020578124999999996, 'epoch': 7.5}\n"
     ]
    },
    {
     "name": "stderr",
     "output_type": "stream",
     "text": [
      " 38%|███▊      | 2120/5620 [1:40:11<1:16:43,  1.32s/it]"
     ]
    },
    {
     "name": "stdout",
     "output_type": "stream",
     "text": [
      "{'loss': 0.3711, 'grad_norm': 1.2241042852401733, 'learning_rate': 0.00020519531249999997, 'epoch': 7.53}\n"
     ]
    },
    {
     "name": "stderr",
     "output_type": "stream",
     "text": [
      " 38%|███▊      | 2130/5620 [1:40:44<3:01:35,  3.12s/it]"
     ]
    },
    {
     "name": "stdout",
     "output_type": "stream",
     "text": [
      "{'loss': 0.4079, 'grad_norm': 0.4207267463207245, 'learning_rate': 0.00020460937499999998, 'epoch': 7.57}\n"
     ]
    },
    {
     "name": "stderr",
     "output_type": "stream",
     "text": [
      " 38%|███▊      | 2140/5620 [1:41:11<2:26:36,  2.53s/it]"
     ]
    },
    {
     "name": "stdout",
     "output_type": "stream",
     "text": [
      "{'loss': 0.3508, 'grad_norm': 0.4947180449962616, 'learning_rate': 0.00020402343749999997, 'epoch': 7.6}\n"
     ]
    },
    {
     "name": "stderr",
     "output_type": "stream",
     "text": [
      " 38%|███▊      | 2150/5620 [1:41:32<1:59:30,  2.07s/it]"
     ]
    },
    {
     "name": "stdout",
     "output_type": "stream",
     "text": [
      "{'loss': 0.3374, 'grad_norm': 0.6356584429740906, 'learning_rate': 0.00020343749999999998, 'epoch': 7.64}\n"
     ]
    },
    {
     "name": "stderr",
     "output_type": "stream",
     "text": [
      " 38%|███▊      | 2160/5620 [1:41:50<1:40:56,  1.75s/it]"
     ]
    },
    {
     "name": "stdout",
     "output_type": "stream",
     "text": [
      "{'loss': 0.3328, 'grad_norm': 0.6851476430892944, 'learning_rate': 0.0002028515625, 'epoch': 7.67}\n"
     ]
    },
    {
     "name": "stderr",
     "output_type": "stream",
     "text": [
      " 39%|███▊      | 2170/5620 [1:42:04<1:11:11,  1.24s/it]"
     ]
    },
    {
     "name": "stdout",
     "output_type": "stream",
     "text": [
      "{'loss': 0.3951, 'grad_norm': 1.230563759803772, 'learning_rate': 0.00020226562499999997, 'epoch': 7.71}\n"
     ]
    },
    {
     "name": "stderr",
     "output_type": "stream",
     "text": [
      " 39%|███▉      | 2180/5620 [1:42:38<2:59:28,  3.13s/it]"
     ]
    },
    {
     "name": "stdout",
     "output_type": "stream",
     "text": [
      "{'loss': 0.4125, 'grad_norm': 0.5845654606819153, 'learning_rate': 0.00020167968749999998, 'epoch': 7.74}\n"
     ]
    },
    {
     "name": "stderr",
     "output_type": "stream",
     "text": [
      " 39%|███▉      | 2190/5620 [1:43:04<2:21:23,  2.47s/it]"
     ]
    },
    {
     "name": "stdout",
     "output_type": "stream",
     "text": [
      "{'loss': 0.3659, 'grad_norm': 0.819823145866394, 'learning_rate': 0.00020109374999999997, 'epoch': 7.78}\n"
     ]
    },
    {
     "name": "stderr",
     "output_type": "stream",
     "text": [
      " 39%|███▉      | 2200/5620 [1:43:25<1:55:55,  2.03s/it]"
     ]
    },
    {
     "name": "stdout",
     "output_type": "stream",
     "text": [
      "{'loss': 0.3677, 'grad_norm': 0.7976038455963135, 'learning_rate': 0.00020050781249999998, 'epoch': 7.82}\n"
     ]
    },
    {
     "name": "stderr",
     "output_type": "stream",
     "text": [
      "                                                       \n",
      " 39%|███▉      | 2200/5620 [1:44:13<1:55:55,  2.03s/it]"
     ]
    },
    {
     "name": "stdout",
     "output_type": "stream",
     "text": [
      "{'eval_loss': 0.35470330715179443, 'eval_wer': 0.38107248601820376, 'eval_runtime': 48.3521, 'eval_samples_per_second': 20.682, 'eval_steps_per_second': 2.585, 'epoch': 7.82}\n"
     ]
    },
    {
     "name": "stderr",
     "output_type": "stream",
     "text": [
      "/home/mehedi/anaconda3/envs/wav2vec/lib/python3.10/site-packages/transformers/models/wav2vec2/processing_wav2vec2.py:157: UserWarning: `as_target_processor` is deprecated and will be removed in v5 of Transformers. You can process your labels by using the argument `text` of the regular `__call__` method (either in the same call as your audio inputs, or in a separate call.\n",
      "  warnings.warn(\n",
      "/home/mehedi/anaconda3/envs/wav2vec/lib/python3.10/site-packages/torch/utils/checkpoint.py:295: FutureWarning: `torch.cpu.amp.autocast(args...)` is deprecated. Please use `torch.amp.autocast('cpu', args...)` instead.\n",
      "  with torch.enable_grad(), device_autocast_ctx, torch.cpu.amp.autocast(**ctx.cpu_autocast_kwargs):  # type: ignore[attr-defined]\n",
      " 39%|███▉      | 2210/5620 [1:44:35<2:13:50,  2.35s/it] "
     ]
    },
    {
     "name": "stdout",
     "output_type": "stream",
     "text": [
      "{'loss': 0.3855, 'grad_norm': 0.7398266196250916, 'learning_rate': 0.00019992187499999999, 'epoch': 7.85}\n"
     ]
    },
    {
     "name": "stderr",
     "output_type": "stream",
     "text": [
      " 40%|███▉      | 2220/5620 [1:44:49<1:13:40,  1.30s/it]"
     ]
    },
    {
     "name": "stdout",
     "output_type": "stream",
     "text": [
      "{'loss': 0.3984, 'grad_norm': 0.9832607507705688, 'learning_rate': 0.00019933593749999997, 'epoch': 7.89}\n"
     ]
    },
    {
     "name": "stderr",
     "output_type": "stream",
     "text": [
      " 40%|███▉      | 2230/5620 [1:45:21<2:43:14,  2.89s/it]"
     ]
    },
    {
     "name": "stdout",
     "output_type": "stream",
     "text": [
      "{'loss': 0.3833, 'grad_norm': 0.4879007637500763, 'learning_rate': 0.00019874999999999998, 'epoch': 7.92}\n"
     ]
    },
    {
     "name": "stderr",
     "output_type": "stream",
     "text": [
      " 40%|███▉      | 2240/5620 [1:45:44<2:03:03,  2.18s/it]"
     ]
    },
    {
     "name": "stdout",
     "output_type": "stream",
     "text": [
      "{'loss': 0.3299, 'grad_norm': 0.5522030591964722, 'learning_rate': 0.0001981640625, 'epoch': 7.96}\n"
     ]
    },
    {
     "name": "stderr",
     "output_type": "stream",
     "text": [
      " 40%|████      | 2250/5620 [1:46:00<1:23:27,  1.49s/it]"
     ]
    },
    {
     "name": "stdout",
     "output_type": "stream",
     "text": [
      "{'loss': 0.3903, 'grad_norm': 0.8139228224754333, 'learning_rate': 0.00019757812499999997, 'epoch': 7.99}\n"
     ]
    },
    {
     "name": "stderr",
     "output_type": "stream",
     "text": [
      " 40%|████      | 2260/5620 [1:46:31<3:00:36,  3.23s/it]"
     ]
    },
    {
     "name": "stdout",
     "output_type": "stream",
     "text": [
      "{'loss': 0.3568, 'grad_norm': 0.42930346727371216, 'learning_rate': 0.00019699218749999998, 'epoch': 8.03}\n"
     ]
    },
    {
     "name": "stderr",
     "output_type": "stream",
     "text": [
      " 40%|████      | 2270/5620 [1:46:58<2:19:51,  2.50s/it]"
     ]
    },
    {
     "name": "stdout",
     "output_type": "stream",
     "text": [
      "{'loss': 0.3024, 'grad_norm': 0.8148699998855591, 'learning_rate': 0.00019640624999999997, 'epoch': 8.06}\n"
     ]
    },
    {
     "name": "stderr",
     "output_type": "stream",
     "text": [
      " 41%|████      | 2280/5620 [1:47:20<1:58:09,  2.12s/it]"
     ]
    },
    {
     "name": "stdout",
     "output_type": "stream",
     "text": [
      "{'loss': 0.3057, 'grad_norm': 0.45959240198135376, 'learning_rate': 0.00019582031249999998, 'epoch': 8.1}\n"
     ]
    },
    {
     "name": "stderr",
     "output_type": "stream",
     "text": [
      " 41%|████      | 2290/5620 [1:47:38<1:37:01,  1.75s/it]"
     ]
    },
    {
     "name": "stdout",
     "output_type": "stream",
     "text": [
      "{'loss': 0.3334, 'grad_norm': 1.0153565406799316, 'learning_rate': 0.000195234375, 'epoch': 8.13}\n"
     ]
    },
    {
     "name": "stderr",
     "output_type": "stream",
     "text": [
      " 41%|████      | 2300/5620 [1:47:53<1:14:47,  1.35s/it]"
     ]
    },
    {
     "name": "stdout",
     "output_type": "stream",
     "text": [
      "{'loss': 0.3465, 'grad_norm': nan, 'learning_rate': 0.00019470703125, 'epoch': 8.17}\n"
     ]
    },
    {
     "name": "stderr",
     "output_type": "stream",
     "text": [
      "                                                       \n",
      " 41%|████      | 2300/5620 [1:48:41<1:14:47,  1.35s/it]"
     ]
    },
    {
     "name": "stdout",
     "output_type": "stream",
     "text": [
      "{'eval_loss': 0.3699369430541992, 'eval_wer': 0.3831560478122601, 'eval_runtime': 48.5056, 'eval_samples_per_second': 20.616, 'eval_steps_per_second': 2.577, 'epoch': 8.17}\n"
     ]
    },
    {
     "name": "stderr",
     "output_type": "stream",
     "text": [
      "/home/mehedi/anaconda3/envs/wav2vec/lib/python3.10/site-packages/transformers/models/wav2vec2/processing_wav2vec2.py:157: UserWarning: `as_target_processor` is deprecated and will be removed in v5 of Transformers. You can process your labels by using the argument `text` of the regular `__call__` method (either in the same call as your audio inputs, or in a separate call.\n",
      "  warnings.warn(\n",
      "/home/mehedi/anaconda3/envs/wav2vec/lib/python3.10/site-packages/torch/utils/checkpoint.py:295: FutureWarning: `torch.cpu.amp.autocast(args...)` is deprecated. Please use `torch.amp.autocast('cpu', args...)` instead.\n",
      "  with torch.enable_grad(), device_autocast_ctx, torch.cpu.amp.autocast(**ctx.cpu_autocast_kwargs):  # type: ignore[attr-defined]\n",
      " 41%|████      | 2310/5620 [1:49:15<3:32:22,  3.85s/it] "
     ]
    },
    {
     "name": "stdout",
     "output_type": "stream",
     "text": [
      "{'loss': 0.3515, 'grad_norm': 0.3393856883049011, 'learning_rate': 0.00019412109374999998, 'epoch': 8.21}\n"
     ]
    },
    {
     "name": "stderr",
     "output_type": "stream",
     "text": [
      " 41%|████▏     | 2320/5620 [1:49:43<2:25:04,  2.64s/it]"
     ]
    },
    {
     "name": "stdout",
     "output_type": "stream",
     "text": [
      "{'loss': 0.2979, 'grad_norm': 0.5179024934768677, 'learning_rate': 0.00019353515625, 'epoch': 8.24}\n"
     ]
    },
    {
     "name": "stderr",
     "output_type": "stream",
     "text": [
      " 41%|████▏     | 2330/5620 [1:50:06<1:58:38,  2.16s/it]"
     ]
    },
    {
     "name": "stdout",
     "output_type": "stream",
     "text": [
      "{'loss': 0.3058, 'grad_norm': 0.4952671229839325, 'learning_rate': 0.00019294921874999998, 'epoch': 8.28}\n"
     ]
    },
    {
     "name": "stderr",
     "output_type": "stream",
     "text": [
      " 42%|████▏     | 2340/5620 [1:50:24<1:40:17,  1.83s/it]"
     ]
    },
    {
     "name": "stdout",
     "output_type": "stream",
     "text": [
      "{'loss': 0.2966, 'grad_norm': 0.6268970966339111, 'learning_rate': 0.00019236328125, 'epoch': 8.31}\n"
     ]
    },
    {
     "name": "stderr",
     "output_type": "stream",
     "text": [
      " 42%|████▏     | 2350/5620 [1:50:40<1:16:45,  1.41s/it]"
     ]
    },
    {
     "name": "stdout",
     "output_type": "stream",
     "text": [
      "{'loss': 0.3032, 'grad_norm': 0.7518585920333862, 'learning_rate': 0.00019177734375, 'epoch': 8.35}\n"
     ]
    },
    {
     "name": "stderr",
     "output_type": "stream",
     "text": [
      " 42%|████▏     | 2360/5620 [1:51:11<2:59:02,  3.30s/it]"
     ]
    },
    {
     "name": "stdout",
     "output_type": "stream",
     "text": [
      "{'loss': 0.3781, 'grad_norm': 0.562218189239502, 'learning_rate': 0.00019119140624999998, 'epoch': 8.38}\n"
     ]
    },
    {
     "name": "stderr",
     "output_type": "stream",
     "text": [
      " 42%|████▏     | 2370/5620 [1:51:39<2:22:20,  2.63s/it]"
     ]
    },
    {
     "name": "stdout",
     "output_type": "stream",
     "text": [
      "{'loss': 0.3064, 'grad_norm': 0.6619564890861511, 'learning_rate': 0.00019060546875, 'epoch': 8.42}\n"
     ]
    },
    {
     "name": "stderr",
     "output_type": "stream",
     "text": [
      " 42%|████▏     | 2380/5620 [1:52:01<1:54:57,  2.13s/it]"
     ]
    },
    {
     "name": "stdout",
     "output_type": "stream",
     "text": [
      "{'loss': 0.2762, 'grad_norm': 1.0013513565063477, 'learning_rate': 0.00019001953125, 'epoch': 8.45}\n"
     ]
    },
    {
     "name": "stderr",
     "output_type": "stream",
     "text": [
      " 43%|████▎     | 2390/5620 [1:52:19<1:36:02,  1.78s/it]"
     ]
    },
    {
     "name": "stdout",
     "output_type": "stream",
     "text": [
      "{'loss': 0.3218, 'grad_norm': 0.7865644693374634, 'learning_rate': 0.00018943359374999999, 'epoch': 8.49}\n"
     ]
    },
    {
     "name": "stderr",
     "output_type": "stream",
     "text": [
      " 43%|████▎     | 2400/5620 [1:52:34<1:15:01,  1.40s/it]"
     ]
    },
    {
     "name": "stdout",
     "output_type": "stream",
     "text": [
      "{'loss': 0.3042, 'grad_norm': 0.6602602601051331, 'learning_rate': 0.00018884765625, 'epoch': 8.53}\n"
     ]
    },
    {
     "name": "stderr",
     "output_type": "stream",
     "text": [
      "                                                       \n",
      " 43%|████▎     | 2400/5620 [1:53:23<1:15:01,  1.40s/it]"
     ]
    },
    {
     "name": "stdout",
     "output_type": "stream",
     "text": [
      "{'eval_loss': 0.36700358986854553, 'eval_wer': 0.3856782541945389, 'eval_runtime': 48.5218, 'eval_samples_per_second': 20.609, 'eval_steps_per_second': 2.576, 'epoch': 8.53}\n"
     ]
    },
    {
     "name": "stderr",
     "output_type": "stream",
     "text": [
      "/home/mehedi/anaconda3/envs/wav2vec/lib/python3.10/site-packages/transformers/models/wav2vec2/processing_wav2vec2.py:157: UserWarning: `as_target_processor` is deprecated and will be removed in v5 of Transformers. You can process your labels by using the argument `text` of the regular `__call__` method (either in the same call as your audio inputs, or in a separate call.\n",
      "  warnings.warn(\n",
      "/home/mehedi/anaconda3/envs/wav2vec/lib/python3.10/site-packages/torch/utils/checkpoint.py:295: FutureWarning: `torch.cpu.amp.autocast(args...)` is deprecated. Please use `torch.amp.autocast('cpu', args...)` instead.\n",
      "  with torch.enable_grad(), device_autocast_ctx, torch.cpu.amp.autocast(**ctx.cpu_autocast_kwargs):  # type: ignore[attr-defined]\n",
      " 43%|████▎     | 2410/5620 [1:53:57<3:27:38,  3.88s/it] "
     ]
    },
    {
     "name": "stdout",
     "output_type": "stream",
     "text": [
      "{'loss': 0.3561, 'grad_norm': 0.5708282589912415, 'learning_rate': 0.00018826171874999998, 'epoch': 8.56}\n"
     ]
    },
    {
     "name": "stderr",
     "output_type": "stream",
     "text": [
      " 43%|████▎     | 2420/5620 [1:54:25<2:21:27,  2.65s/it]"
     ]
    },
    {
     "name": "stdout",
     "output_type": "stream",
     "text": [
      "{'loss': 0.3191, 'grad_norm': 0.42484134435653687, 'learning_rate': 0.00018767578125, 'epoch': 8.6}\n"
     ]
    },
    {
     "name": "stderr",
     "output_type": "stream",
     "text": [
      " 43%|████▎     | 2430/5620 [1:54:47<1:55:12,  2.17s/it]"
     ]
    },
    {
     "name": "stdout",
     "output_type": "stream",
     "text": [
      "{'loss': 0.3018, 'grad_norm': 0.5517683625221252, 'learning_rate': 0.00018708984375, 'epoch': 8.63}\n"
     ]
    },
    {
     "name": "stderr",
     "output_type": "stream",
     "text": [
      " 43%|████▎     | 2440/5620 [1:55:06<1:37:18,  1.84s/it]"
     ]
    },
    {
     "name": "stdout",
     "output_type": "stream",
     "text": [
      "{'loss': 0.278, 'grad_norm': 1.0955841541290283, 'learning_rate': 0.00018650390624999998, 'epoch': 8.67}\n"
     ]
    },
    {
     "name": "stderr",
     "output_type": "stream",
     "text": [
      " 44%|████▎     | 2450/5620 [1:55:21<1:10:59,  1.34s/it]"
     ]
    },
    {
     "name": "stdout",
     "output_type": "stream",
     "text": [
      "{'loss': 0.3473, 'grad_norm': 1.6554443836212158, 'learning_rate': 0.00018591796875, 'epoch': 8.7}\n"
     ]
    },
    {
     "name": "stderr",
     "output_type": "stream",
     "text": [
      " 44%|████▍     | 2460/5620 [1:55:52<2:48:19,  3.20s/it]"
     ]
    },
    {
     "name": "stdout",
     "output_type": "stream",
     "text": [
      "{'loss': 0.403, 'grad_norm': 0.5071585774421692, 'learning_rate': 0.00018533203124999998, 'epoch': 8.74}\n"
     ]
    },
    {
     "name": "stderr",
     "output_type": "stream",
     "text": [
      " 44%|████▍     | 2470/5620 [1:56:20<2:20:31,  2.68s/it]"
     ]
    },
    {
     "name": "stdout",
     "output_type": "stream",
     "text": [
      "{'loss': 0.3107, 'grad_norm': 0.51945561170578, 'learning_rate': 0.00018474609375, 'epoch': 8.77}\n"
     ]
    },
    {
     "name": "stderr",
     "output_type": "stream",
     "text": [
      " 44%|████▍     | 2480/5620 [1:56:43<1:51:37,  2.13s/it]"
     ]
    },
    {
     "name": "stdout",
     "output_type": "stream",
     "text": [
      "{'loss': 0.3137, 'grad_norm': 0.6409015655517578, 'learning_rate': 0.00018416015625, 'epoch': 8.81}\n"
     ]
    },
    {
     "name": "stderr",
     "output_type": "stream",
     "text": [
      " 44%|████▍     | 2490/5620 [1:57:02<1:35:28,  1.83s/it]"
     ]
    },
    {
     "name": "stdout",
     "output_type": "stream",
     "text": [
      "{'loss': 0.3107, 'grad_norm': 0.6941359639167786, 'learning_rate': 0.00018357421874999998, 'epoch': 8.85}\n"
     ]
    },
    {
     "name": "stderr",
     "output_type": "stream",
     "text": [
      " 44%|████▍     | 2500/5620 [1:57:17<1:12:57,  1.40s/it]"
     ]
    },
    {
     "name": "stdout",
     "output_type": "stream",
     "text": [
      "{'loss': 0.3372, 'grad_norm': 0.9873717427253723, 'learning_rate': 0.00018298828125, 'epoch': 8.88}\n"
     ]
    },
    {
     "name": "stderr",
     "output_type": "stream",
     "text": [
      "                                                       \n",
      " 44%|████▍     | 2500/5620 [1:58:06<1:12:57,  1.40s/it]"
     ]
    },
    {
     "name": "stdout",
     "output_type": "stream",
     "text": [
      "{'eval_loss': 0.3580026924610138, 'eval_wer': 0.36791314837153194, 'eval_runtime': 48.6589, 'eval_samples_per_second': 20.551, 'eval_steps_per_second': 2.569, 'epoch': 8.88}\n"
     ]
    },
    {
     "name": "stderr",
     "output_type": "stream",
     "text": [
      "/home/mehedi/anaconda3/envs/wav2vec/lib/python3.10/site-packages/transformers/models/wav2vec2/processing_wav2vec2.py:157: UserWarning: `as_target_processor` is deprecated and will be removed in v5 of Transformers. You can process your labels by using the argument `text` of the regular `__call__` method (either in the same call as your audio inputs, or in a separate call.\n",
      "  warnings.warn(\n",
      "/home/mehedi/anaconda3/envs/wav2vec/lib/python3.10/site-packages/torch/utils/checkpoint.py:295: FutureWarning: `torch.cpu.amp.autocast(args...)` is deprecated. Please use `torch.amp.autocast('cpu', args...)` instead.\n",
      "  with torch.enable_grad(), device_autocast_ctx, torch.cpu.amp.autocast(**ctx.cpu_autocast_kwargs):  # type: ignore[attr-defined]\n",
      " 45%|████▍     | 2510/5620 [1:58:38<3:03:11,  3.53s/it] "
     ]
    },
    {
     "name": "stdout",
     "output_type": "stream",
     "text": [
      "{'loss': 0.3266, 'grad_norm': 0.554855227470398, 'learning_rate': 0.00018240234375, 'epoch': 8.92}\n"
     ]
    },
    {
     "name": "stderr",
     "output_type": "stream",
     "text": [
      " 45%|████▍     | 2520/5620 [1:59:02<1:55:20,  2.23s/it]"
     ]
    },
    {
     "name": "stdout",
     "output_type": "stream",
     "text": [
      "{'loss': 0.2854, 'grad_norm': 0.5996837615966797, 'learning_rate': 0.00018181640624999998, 'epoch': 8.95}\n"
     ]
    },
    {
     "name": "stderr",
     "output_type": "stream",
     "text": [
      " 45%|████▌     | 2530/5620 [1:59:19<1:25:53,  1.67s/it]"
     ]
    },
    {
     "name": "stdout",
     "output_type": "stream",
     "text": [
      "{'loss': 0.2846, 'grad_norm': 0.8464022278785706, 'learning_rate': 0.00018123046875, 'epoch': 8.99}\n"
     ]
    },
    {
     "name": "stderr",
     "output_type": "stream",
     "text": [
      " 45%|████▌     | 2540/5620 [1:59:47<2:48:53,  3.29s/it]"
     ]
    },
    {
     "name": "stdout",
     "output_type": "stream",
     "text": [
      "{'loss': 0.3563, 'grad_norm': 0.48094987869262695, 'learning_rate': 0.00018064453124999998, 'epoch': 9.02}\n"
     ]
    },
    {
     "name": "stderr",
     "output_type": "stream",
     "text": [
      " 45%|████▌     | 2550/5620 [2:00:16<2:19:51,  2.73s/it]"
     ]
    },
    {
     "name": "stdout",
     "output_type": "stream",
     "text": [
      "{'loss': 0.2733, 'grad_norm': 0.5377097129821777, 'learning_rate': 0.00018005859375, 'epoch': 9.06}\n"
     ]
    },
    {
     "name": "stderr",
     "output_type": "stream",
     "text": [
      " 46%|████▌     | 2560/5620 [2:00:39<1:52:40,  2.21s/it]"
     ]
    },
    {
     "name": "stdout",
     "output_type": "stream",
     "text": [
      "{'loss': 0.2839, 'grad_norm': 0.9905152916908264, 'learning_rate': 0.00017947265625, 'epoch': 9.09}\n"
     ]
    },
    {
     "name": "stderr",
     "output_type": "stream",
     "text": [
      " 46%|████▌     | 2570/5620 [2:00:58<1:33:41,  1.84s/it]"
     ]
    },
    {
     "name": "stdout",
     "output_type": "stream",
     "text": [
      "{'loss': 0.3081, 'grad_norm': 0.5736888647079468, 'learning_rate': 0.00017888671874999998, 'epoch': 9.13}\n"
     ]
    },
    {
     "name": "stderr",
     "output_type": "stream",
     "text": [
      " 46%|████▌     | 2580/5620 [2:01:14<1:15:14,  1.48s/it]"
     ]
    },
    {
     "name": "stdout",
     "output_type": "stream",
     "text": [
      "{'loss': 0.2526, 'grad_norm': 1.0601037740707397, 'learning_rate': 0.00017830078125, 'epoch': 9.17}\n"
     ]
    },
    {
     "name": "stderr",
     "output_type": "stream",
     "text": [
      " 46%|████▌     | 2590/5620 [2:01:42<2:46:31,  3.30s/it]"
     ]
    },
    {
     "name": "stdout",
     "output_type": "stream",
     "text": [
      "{'loss': 0.3278, 'grad_norm': 0.5225079655647278, 'learning_rate': 0.00017771484375, 'epoch': 9.2}\n"
     ]
    },
    {
     "name": "stderr",
     "output_type": "stream",
     "text": [
      " 46%|████▋     | 2600/5620 [2:02:11<2:19:13,  2.77s/it]"
     ]
    },
    {
     "name": "stdout",
     "output_type": "stream",
     "text": [
      "{'loss': 0.2695, 'grad_norm': 0.4707286059856415, 'learning_rate': 0.00017712890624999999, 'epoch': 9.24}\n"
     ]
    },
    {
     "name": "stderr",
     "output_type": "stream",
     "text": [
      "                                                       \n",
      " 46%|████▋     | 2600/5620 [2:03:00<2:19:13,  2.77s/it]"
     ]
    },
    {
     "name": "stdout",
     "output_type": "stream",
     "text": [
      "{'eval_loss': 0.3638386130332947, 'eval_wer': 0.36758416493036516, 'eval_runtime': 48.5792, 'eval_samples_per_second': 20.585, 'eval_steps_per_second': 2.573, 'epoch': 9.24}\n"
     ]
    },
    {
     "name": "stderr",
     "output_type": "stream",
     "text": [
      "/home/mehedi/anaconda3/envs/wav2vec/lib/python3.10/site-packages/transformers/models/wav2vec2/processing_wav2vec2.py:157: UserWarning: `as_target_processor` is deprecated and will be removed in v5 of Transformers. You can process your labels by using the argument `text` of the regular `__call__` method (either in the same call as your audio inputs, or in a separate call.\n",
      "  warnings.warn(\n",
      "/home/mehedi/anaconda3/envs/wav2vec/lib/python3.10/site-packages/torch/utils/checkpoint.py:295: FutureWarning: `torch.cpu.amp.autocast(args...)` is deprecated. Please use `torch.amp.autocast('cpu', args...)` instead.\n",
      "  with torch.enable_grad(), device_autocast_ctx, torch.cpu.amp.autocast(**ctx.cpu_autocast_kwargs):  # type: ignore[attr-defined]\n",
      " 46%|████▋     | 2610/5620 [2:03:27<2:23:56,  2.87s/it] "
     ]
    },
    {
     "name": "stdout",
     "output_type": "stream",
     "text": [
      "{'loss': 0.2708, 'grad_norm': 0.5521630048751831, 'learning_rate': 0.00017654296875, 'epoch': 9.27}\n"
     ]
    },
    {
     "name": "stderr",
     "output_type": "stream",
     "text": [
      " 47%|████▋     | 2620/5620 [2:03:46<1:35:35,  1.91s/it]"
     ]
    },
    {
     "name": "stdout",
     "output_type": "stream",
     "text": [
      "{'loss': 0.276, 'grad_norm': 0.9296287298202515, 'learning_rate': 0.00017595703124999998, 'epoch': 9.31}\n"
     ]
    },
    {
     "name": "stderr",
     "output_type": "stream",
     "text": [
      " 47%|████▋     | 2630/5620 [2:04:02<1:14:03,  1.49s/it]"
     ]
    },
    {
     "name": "stdout",
     "output_type": "stream",
     "text": [
      "{'loss': 0.331, 'grad_norm': 0.6985962390899658, 'learning_rate': 0.00017537109375, 'epoch': 9.34}\n"
     ]
    },
    {
     "name": "stderr",
     "output_type": "stream",
     "text": [
      " 47%|████▋     | 2640/5620 [2:04:30<2:39:46,  3.22s/it]"
     ]
    },
    {
     "name": "stdout",
     "output_type": "stream",
     "text": [
      "{'loss': 0.3295, 'grad_norm': 0.5208333134651184, 'learning_rate': 0.00017478515625, 'epoch': 9.38}\n"
     ]
    },
    {
     "name": "stderr",
     "output_type": "stream",
     "text": [
      " 47%|████▋     | 2650/5620 [2:04:59<2:15:30,  2.74s/it]"
     ]
    },
    {
     "name": "stdout",
     "output_type": "stream",
     "text": [
      "{'loss': 0.2613, 'grad_norm': 0.8268219828605652, 'learning_rate': 0.00017419921874999998, 'epoch': 9.41}\n"
     ]
    },
    {
     "name": "stderr",
     "output_type": "stream",
     "text": [
      " 47%|████▋     | 2660/5620 [2:05:22<1:48:57,  2.21s/it]"
     ]
    },
    {
     "name": "stdout",
     "output_type": "stream",
     "text": [
      "{'loss': 0.2828, 'grad_norm': 0.7639422416687012, 'learning_rate': 0.00017361328125, 'epoch': 9.45}\n"
     ]
    },
    {
     "name": "stderr",
     "output_type": "stream",
     "text": [
      " 48%|████▊     | 2670/5620 [2:05:41<1:30:44,  1.85s/it]"
     ]
    },
    {
     "name": "stdout",
     "output_type": "stream",
     "text": [
      "{'loss': 0.2745, 'grad_norm': 0.5972168445587158, 'learning_rate': 0.00017302734375, 'epoch': 9.48}\n"
     ]
    },
    {
     "name": "stderr",
     "output_type": "stream",
     "text": [
      " 48%|████▊     | 2680/5620 [2:05:57<1:14:18,  1.52s/it]"
     ]
    },
    {
     "name": "stdout",
     "output_type": "stream",
     "text": [
      "{'loss': 0.2699, 'grad_norm': 0.8415752649307251, 'learning_rate': 0.00017244140625, 'epoch': 9.52}\n"
     ]
    },
    {
     "name": "stderr",
     "output_type": "stream",
     "text": [
      " 48%|████▊     | 2690/5620 [2:06:26<2:42:31,  3.33s/it]"
     ]
    },
    {
     "name": "stdout",
     "output_type": "stream",
     "text": [
      "{'loss': 0.3383, 'grad_norm': 0.41522398591041565, 'learning_rate': 0.00017185546875, 'epoch': 9.56}\n"
     ]
    },
    {
     "name": "stderr",
     "output_type": "stream",
     "text": [
      " 48%|████▊     | 2700/5620 [2:06:54<2:13:05,  2.73s/it]"
     ]
    },
    {
     "name": "stdout",
     "output_type": "stream",
     "text": [
      "{'loss': 0.3059, 'grad_norm': 0.4899861812591553, 'learning_rate': 0.00017126953124999998, 'epoch': 9.59}\n"
     ]
    },
    {
     "name": "stderr",
     "output_type": "stream",
     "text": [
      "                                                       \n",
      " 48%|████▊     | 2700/5620 [2:07:43<2:13:05,  2.73s/it]"
     ]
    },
    {
     "name": "stdout",
     "output_type": "stream",
     "text": [
      "{'eval_loss': 0.3548935353755951, 'eval_wer': 0.3587016120188617, 'eval_runtime': 48.5618, 'eval_samples_per_second': 20.592, 'eval_steps_per_second': 2.574, 'epoch': 9.59}\n"
     ]
    },
    {
     "name": "stderr",
     "output_type": "stream",
     "text": [
      "/home/mehedi/anaconda3/envs/wav2vec/lib/python3.10/site-packages/transformers/models/wav2vec2/processing_wav2vec2.py:157: UserWarning: `as_target_processor` is deprecated and will be removed in v5 of Transformers. You can process your labels by using the argument `text` of the regular `__call__` method (either in the same call as your audio inputs, or in a separate call.\n",
      "  warnings.warn(\n",
      "/home/mehedi/anaconda3/envs/wav2vec/lib/python3.10/site-packages/torch/utils/checkpoint.py:295: FutureWarning: `torch.cpu.amp.autocast(args...)` is deprecated. Please use `torch.amp.autocast('cpu', args...)` instead.\n",
      "  with torch.enable_grad(), device_autocast_ctx, torch.cpu.amp.autocast(**ctx.cpu_autocast_kwargs):  # type: ignore[attr-defined]\n",
      " 48%|████▊     | 2710/5620 [2:08:09<2:15:29,  2.79s/it] "
     ]
    },
    {
     "name": "stdout",
     "output_type": "stream",
     "text": [
      "{'loss': 0.2874, 'grad_norm': 0.6139984726905823, 'learning_rate': 0.00017068359375, 'epoch': 9.63}\n"
     ]
    },
    {
     "name": "stderr",
     "output_type": "stream",
     "text": [
      " 48%|████▊     | 2720/5620 [2:08:28<1:28:36,  1.83s/it]"
     ]
    },
    {
     "name": "stdout",
     "output_type": "stream",
     "text": [
      "{'loss': 0.2885, 'grad_norm': 0.8228352665901184, 'learning_rate': 0.00017009765625, 'epoch': 9.66}\n"
     ]
    },
    {
     "name": "stderr",
     "output_type": "stream",
     "text": [
      " 49%|████▊     | 2730/5620 [2:08:43<1:10:29,  1.46s/it]"
     ]
    },
    {
     "name": "stdout",
     "output_type": "stream",
     "text": [
      "{'loss': 0.2962, 'grad_norm': 1.0338939428329468, 'learning_rate': 0.00016951171874999998, 'epoch': 9.7}\n"
     ]
    },
    {
     "name": "stderr",
     "output_type": "stream",
     "text": [
      " 49%|████▉     | 2740/5620 [2:09:11<2:37:10,  3.27s/it]"
     ]
    },
    {
     "name": "stdout",
     "output_type": "stream",
     "text": [
      "{'loss': 0.388, 'grad_norm': 0.4987642467021942, 'learning_rate': 0.00016892578125, 'epoch': 9.73}\n"
     ]
    },
    {
     "name": "stderr",
     "output_type": "stream",
     "text": [
      " 49%|████▉     | 2750/5620 [2:09:40<2:12:01,  2.76s/it]"
     ]
    },
    {
     "name": "stdout",
     "output_type": "stream",
     "text": [
      "{'loss': 0.2946, 'grad_norm': 0.6900378465652466, 'learning_rate': 0.00016833984375, 'epoch': 9.77}\n"
     ]
    },
    {
     "name": "stderr",
     "output_type": "stream",
     "text": [
      " 49%|████▉     | 2760/5620 [2:10:04<1:45:26,  2.21s/it]"
     ]
    },
    {
     "name": "stdout",
     "output_type": "stream",
     "text": [
      "{'loss': 0.2634, 'grad_norm': 0.5923492312431335, 'learning_rate': 0.00016775390625, 'epoch': 9.8}\n"
     ]
    },
    {
     "name": "stderr",
     "output_type": "stream",
     "text": [
      " 49%|████▉     | 2770/5620 [2:10:23<1:27:36,  1.84s/it]"
     ]
    },
    {
     "name": "stdout",
     "output_type": "stream",
     "text": [
      "{'loss': 0.2904, 'grad_norm': 0.5621572732925415, 'learning_rate': 0.00016716796875, 'epoch': 9.84}\n"
     ]
    },
    {
     "name": "stderr",
     "output_type": "stream",
     "text": [
      " 49%|████▉     | 2780/5620 [2:10:39<1:09:46,  1.47s/it]"
     ]
    },
    {
     "name": "stdout",
     "output_type": "stream",
     "text": [
      "{'loss': 0.3273, 'grad_norm': 0.8396136164665222, 'learning_rate': 0.00016658203124999998, 'epoch': 9.88}\n"
     ]
    },
    {
     "name": "stderr",
     "output_type": "stream",
     "text": [
      " 50%|████▉     | 2790/5620 [2:11:06<2:24:57,  3.07s/it]"
     ]
    },
    {
     "name": "stdout",
     "output_type": "stream",
     "text": [
      "{'loss': 0.3269, 'grad_norm': 0.6579383611679077, 'learning_rate': 0.00016599609375, 'epoch': 9.91}\n"
     ]
    },
    {
     "name": "stderr",
     "output_type": "stream",
     "text": [
      " 50%|████▉     | 2800/5620 [2:11:30<1:46:00,  2.26s/it]"
     ]
    },
    {
     "name": "stdout",
     "output_type": "stream",
     "text": [
      "{'loss': 0.3104, 'grad_norm': 0.6017203330993652, 'learning_rate': 0.00016541015625, 'epoch': 9.95}\n"
     ]
    },
    {
     "name": "stderr",
     "output_type": "stream",
     "text": [
      "                                                       \n",
      " 50%|████▉     | 2800/5620 [2:12:18<1:46:00,  2.26s/it]"
     ]
    },
    {
     "name": "stdout",
     "output_type": "stream",
     "text": [
      "{'eval_loss': 0.365486741065979, 'eval_wer': 0.35530211646013815, 'eval_runtime': 48.4286, 'eval_samples_per_second': 20.649, 'eval_steps_per_second': 2.581, 'epoch': 9.95}\n"
     ]
    },
    {
     "name": "stderr",
     "output_type": "stream",
     "text": [
      "/home/mehedi/anaconda3/envs/wav2vec/lib/python3.10/site-packages/transformers/models/wav2vec2/processing_wav2vec2.py:157: UserWarning: `as_target_processor` is deprecated and will be removed in v5 of Transformers. You can process your labels by using the argument `text` of the regular `__call__` method (either in the same call as your audio inputs, or in a separate call.\n",
      "  warnings.warn(\n",
      "/home/mehedi/anaconda3/envs/wav2vec/lib/python3.10/site-packages/torch/utils/checkpoint.py:295: FutureWarning: `torch.cpu.amp.autocast(args...)` is deprecated. Please use `torch.amp.autocast('cpu', args...)` instead.\n",
      "  with torch.enable_grad(), device_autocast_ctx, torch.cpu.amp.autocast(**ctx.cpu_autocast_kwargs):  # type: ignore[attr-defined]\n",
      " 50%|█████     | 2810/5620 [2:12:40<1:45:41,  2.26s/it] "
     ]
    },
    {
     "name": "stdout",
     "output_type": "stream",
     "text": [
      "{'loss': 0.2999, 'grad_norm': 0.8562806248664856, 'learning_rate': 0.00016482421874999999, 'epoch': 9.98}\n"
     ]
    },
    {
     "name": "stderr",
     "output_type": "stream",
     "text": [
      " 50%|█████     | 2820/5620 [2:13:04<2:27:26,  3.16s/it]"
     ]
    },
    {
     "name": "stdout",
     "output_type": "stream",
     "text": [
      "{'loss': 0.3668, 'grad_norm': 0.49282729625701904, 'learning_rate': 0.00016423828125, 'epoch': 10.02}\n"
     ]
    },
    {
     "name": "stderr",
     "output_type": "stream",
     "text": [
      " 50%|█████     | 2830/5620 [2:13:34<2:08:30,  2.76s/it]"
     ]
    },
    {
     "name": "stdout",
     "output_type": "stream",
     "text": [
      "{'loss': 0.295, 'grad_norm': 0.46261072158813477, 'learning_rate': 0.00016365234374999998, 'epoch': 10.05}\n"
     ]
    },
    {
     "name": "stderr",
     "output_type": "stream",
     "text": [
      " 51%|█████     | 2840/5620 [2:13:57<1:46:52,  2.31s/it]"
     ]
    },
    {
     "name": "stdout",
     "output_type": "stream",
     "text": [
      "{'loss': 0.2511, 'grad_norm': 0.6359744668006897, 'learning_rate': 0.00016306640625, 'epoch': 10.09}\n"
     ]
    },
    {
     "name": "stderr",
     "output_type": "stream",
     "text": [
      " 51%|█████     | 2850/5620 [2:14:18<1:29:33,  1.94s/it]"
     ]
    },
    {
     "name": "stdout",
     "output_type": "stream",
     "text": [
      "{'loss': 0.2252, 'grad_norm': 0.48924145102500916, 'learning_rate': 0.00016248046875, 'epoch': 10.12}\n"
     ]
    },
    {
     "name": "stderr",
     "output_type": "stream",
     "text": [
      " 51%|█████     | 2860/5620 [2:14:34<1:11:37,  1.56s/it]"
     ]
    },
    {
     "name": "stdout",
     "output_type": "stream",
     "text": [
      "{'loss': 0.2495, 'grad_norm': 1.9386632442474365, 'learning_rate': 0.00016189453124999998, 'epoch': 10.16}\n"
     ]
    },
    {
     "name": "stderr",
     "output_type": "stream",
     "text": [
      " 51%|█████     | 2870/5620 [2:14:59<2:27:31,  3.22s/it]"
     ]
    },
    {
     "name": "stdout",
     "output_type": "stream",
     "text": [
      "{'loss': 0.3365, 'grad_norm': 1.0356849431991577, 'learning_rate': 0.00016130859375, 'epoch': 10.2}\n"
     ]
    },
    {
     "name": "stderr",
     "output_type": "stream",
     "text": [
      " 51%|█████     | 2880/5620 [2:15:30<2:10:34,  2.86s/it]"
     ]
    },
    {
     "name": "stdout",
     "output_type": "stream",
     "text": [
      "{'loss': 0.2478, 'grad_norm': 0.6851006150245667, 'learning_rate': 0.00016072265625, 'epoch': 10.23}\n"
     ]
    },
    {
     "name": "stderr",
     "output_type": "stream",
     "text": [
      " 51%|█████▏    | 2890/5620 [2:15:54<1:45:47,  2.33s/it]"
     ]
    },
    {
     "name": "stdout",
     "output_type": "stream",
     "text": [
      "{'loss': 0.2475, 'grad_norm': 0.499630331993103, 'learning_rate': 0.00016013671875, 'epoch': 10.27}\n"
     ]
    },
    {
     "name": "stderr",
     "output_type": "stream",
     "text": [
      " 52%|█████▏    | 2900/5620 [2:16:13<1:25:05,  1.88s/it]"
     ]
    },
    {
     "name": "stdout",
     "output_type": "stream",
     "text": [
      "{'loss': 0.2522, 'grad_norm': 0.6219022274017334, 'learning_rate': 0.00015955078125, 'epoch': 10.3}\n"
     ]
    },
    {
     "name": "stderr",
     "output_type": "stream",
     "text": [
      "                                                       \n",
      " 52%|█████▏    | 2900/5620 [2:17:02<1:25:05,  1.88s/it]"
     ]
    },
    {
     "name": "stdout",
     "output_type": "stream",
     "text": [
      "{'eval_loss': 0.3797913193702698, 'eval_wer': 0.3544248272836934, 'eval_runtime': 48.5167, 'eval_samples_per_second': 20.611, 'eval_steps_per_second': 2.576, 'epoch': 10.3}\n"
     ]
    },
    {
     "name": "stderr",
     "output_type": "stream",
     "text": [
      "/home/mehedi/anaconda3/envs/wav2vec/lib/python3.10/site-packages/transformers/models/wav2vec2/processing_wav2vec2.py:157: UserWarning: `as_target_processor` is deprecated and will be removed in v5 of Transformers. You can process your labels by using the argument `text` of the regular `__call__` method (either in the same call as your audio inputs, or in a separate call.\n",
      "  warnings.warn(\n",
      "/home/mehedi/anaconda3/envs/wav2vec/lib/python3.10/site-packages/torch/utils/checkpoint.py:295: FutureWarning: `torch.cpu.amp.autocast(args...)` is deprecated. Please use `torch.amp.autocast('cpu', args...)` instead.\n",
      "  with torch.enable_grad(), device_autocast_ctx, torch.cpu.amp.autocast(**ctx.cpu_autocast_kwargs):  # type: ignore[attr-defined]\n",
      " 52%|█████▏    | 2910/5620 [2:17:21<1:37:56,  2.17s/it] "
     ]
    },
    {
     "name": "stdout",
     "output_type": "stream",
     "text": [
      "{'loss': 0.2622, 'grad_norm': 0.9725363254547119, 'learning_rate': 0.00015896484374999998, 'epoch': 10.34}\n"
     ]
    },
    {
     "name": "stderr",
     "output_type": "stream",
     "text": [
      " 52%|█████▏    | 2920/5620 [2:17:46<2:22:16,  3.16s/it]"
     ]
    },
    {
     "name": "stdout",
     "output_type": "stream",
     "text": [
      "{'loss': 0.3254, 'grad_norm': 0.6460405588150024, 'learning_rate': 0.00015837890625, 'epoch': 10.37}\n"
     ]
    },
    {
     "name": "stderr",
     "output_type": "stream",
     "text": [
      " 52%|█████▏    | 2930/5620 [2:18:16<2:03:56,  2.76s/it]"
     ]
    },
    {
     "name": "stdout",
     "output_type": "stream",
     "text": [
      "{'loss': 0.2721, 'grad_norm': 0.49017995595932007, 'learning_rate': 0.00015779296875, 'epoch': 10.41}\n"
     ]
    },
    {
     "name": "stderr",
     "output_type": "stream",
     "text": [
      " 52%|█████▏    | 2940/5620 [2:18:40<1:43:43,  2.32s/it]"
     ]
    },
    {
     "name": "stdout",
     "output_type": "stream",
     "text": [
      "{'loss': 0.2399, 'grad_norm': 0.5012296438217163, 'learning_rate': 0.00015720703124999998, 'epoch': 10.44}\n"
     ]
    },
    {
     "name": "stderr",
     "output_type": "stream",
     "text": [
      " 52%|█████▏    | 2950/5620 [2:19:00<1:25:32,  1.92s/it]"
     ]
    },
    {
     "name": "stdout",
     "output_type": "stream",
     "text": [
      "{'loss': 0.256, 'grad_norm': 0.5151152610778809, 'learning_rate': 0.00015662109375, 'epoch': 10.48}\n"
     ]
    },
    {
     "name": "stderr",
     "output_type": "stream",
     "text": [
      " 53%|█████▎    | 2960/5620 [2:19:16<1:07:29,  1.52s/it]"
     ]
    },
    {
     "name": "stdout",
     "output_type": "stream",
     "text": [
      "{'loss': 0.2694, 'grad_norm': 0.6395782232284546, 'learning_rate': 0.00015603515625, 'epoch': 10.52}\n"
     ]
    },
    {
     "name": "stderr",
     "output_type": "stream",
     "text": [
      " 53%|█████▎    | 2970/5620 [2:19:41<2:26:21,  3.31s/it]"
     ]
    },
    {
     "name": "stdout",
     "output_type": "stream",
     "text": [
      "{'loss': 0.3005, 'grad_norm': 0.44903770089149475, 'learning_rate': 0.00015544921875, 'epoch': 10.55}\n"
     ]
    },
    {
     "name": "stderr",
     "output_type": "stream",
     "text": [
      " 53%|█████▎    | 2980/5620 [2:20:11<2:01:14,  2.76s/it]"
     ]
    },
    {
     "name": "stdout",
     "output_type": "stream",
     "text": [
      "{'loss': 0.2687, 'grad_norm': 0.5544123649597168, 'learning_rate': 0.00015486328125, 'epoch': 10.59}\n"
     ]
    },
    {
     "name": "stderr",
     "output_type": "stream",
     "text": [
      " 53%|█████▎    | 2990/5620 [2:20:35<1:40:35,  2.30s/it]"
     ]
    },
    {
     "name": "stdout",
     "output_type": "stream",
     "text": [
      "{'loss': 0.2321, 'grad_norm': 0.639642596244812, 'learning_rate': 0.00015427734374999998, 'epoch': 10.62}\n"
     ]
    },
    {
     "name": "stderr",
     "output_type": "stream",
     "text": [
      " 53%|█████▎    | 3000/5620 [2:20:54<1:24:25,  1.93s/it]"
     ]
    },
    {
     "name": "stdout",
     "output_type": "stream",
     "text": [
      "{'loss': 0.2353, 'grad_norm': 0.5758784413337708, 'learning_rate': 0.00015369140625, 'epoch': 10.66}\n"
     ]
    },
    {
     "name": "stderr",
     "output_type": "stream",
     "text": [
      "                                                       \n",
      " 53%|█████▎    | 3000/5620 [2:21:43<1:24:25,  1.93s/it]"
     ]
    },
    {
     "name": "stdout",
     "output_type": "stream",
     "text": [
      "{'eval_loss': 0.3617567718029022, 'eval_wer': 0.3425814234016888, 'eval_runtime': 48.4989, 'eval_samples_per_second': 20.619, 'eval_steps_per_second': 2.577, 'epoch': 10.66}\n"
     ]
    },
    {
     "name": "stderr",
     "output_type": "stream",
     "text": [
      "/home/mehedi/anaconda3/envs/wav2vec/lib/python3.10/site-packages/transformers/models/wav2vec2/processing_wav2vec2.py:157: UserWarning: `as_target_processor` is deprecated and will be removed in v5 of Transformers. You can process your labels by using the argument `text` of the regular `__call__` method (either in the same call as your audio inputs, or in a separate call.\n",
      "  warnings.warn(\n",
      "/home/mehedi/anaconda3/envs/wav2vec/lib/python3.10/site-packages/torch/utils/checkpoint.py:295: FutureWarning: `torch.cpu.amp.autocast(args...)` is deprecated. Please use `torch.amp.autocast('cpu', args...)` instead.\n",
      "  with torch.enable_grad(), device_autocast_ctx, torch.cpu.amp.autocast(**ctx.cpu_autocast_kwargs):  # type: ignore[attr-defined]\n",
      " 54%|█████▎    | 3010/5620 [2:22:03<1:35:39,  2.20s/it] "
     ]
    },
    {
     "name": "stdout",
     "output_type": "stream",
     "text": [
      "{'loss': 0.2467, 'grad_norm': 0.7535631656646729, 'learning_rate': 0.00015310546875, 'epoch': 10.69}\n"
     ]
    },
    {
     "name": "stderr",
     "output_type": "stream",
     "text": [
      " 54%|█████▎    | 3020/5620 [2:22:28<2:16:28,  3.15s/it]"
     ]
    },
    {
     "name": "stdout",
     "output_type": "stream",
     "text": [
      "{'loss': 0.3601, 'grad_norm': 0.5261889100074768, 'learning_rate': 0.00015251953124999999, 'epoch': 10.73}\n"
     ]
    },
    {
     "name": "stderr",
     "output_type": "stream",
     "text": [
      " 54%|█████▍    | 3030/5620 [2:22:57<2:00:12,  2.78s/it]"
     ]
    },
    {
     "name": "stdout",
     "output_type": "stream",
     "text": [
      "{'loss': 0.2615, 'grad_norm': 0.5005595684051514, 'learning_rate': 0.00015193359375, 'epoch': 10.76}\n"
     ]
    },
    {
     "name": "stderr",
     "output_type": "stream",
     "text": [
      " 54%|█████▍    | 3040/5620 [2:23:21<1:36:20,  2.24s/it]"
     ]
    },
    {
     "name": "stdout",
     "output_type": "stream",
     "text": [
      "{'loss': 0.2552, 'grad_norm': 0.5418822765350342, 'learning_rate': 0.00015134765625, 'epoch': 10.8}\n"
     ]
    },
    {
     "name": "stderr",
     "output_type": "stream",
     "text": [
      " 54%|█████▍    | 3050/5620 [2:23:40<1:18:58,  1.84s/it]"
     ]
    },
    {
     "name": "stdout",
     "output_type": "stream",
     "text": [
      "{'loss': 0.2512, 'grad_norm': 0.613331139087677, 'learning_rate': 0.00015076171875, 'epoch': 10.83}\n"
     ]
    },
    {
     "name": "stderr",
     "output_type": "stream",
     "text": [
      " 54%|█████▍    | 3060/5620 [2:23:56<1:04:11,  1.50s/it]"
     ]
    },
    {
     "name": "stdout",
     "output_type": "stream",
     "text": [
      "{'loss': 0.2798, 'grad_norm': 1.4555741548538208, 'learning_rate': 0.00015017578125, 'epoch': 10.87}\n"
     ]
    },
    {
     "name": "stderr",
     "output_type": "stream",
     "text": [
      " 55%|█████▍    | 3070/5620 [2:24:21<2:10:28,  3.07s/it]"
     ]
    },
    {
     "name": "stdout",
     "output_type": "stream",
     "text": [
      "{'loss': 0.3078, 'grad_norm': 0.6426699757575989, 'learning_rate': 0.00014958984374999998, 'epoch': 10.91}\n"
     ]
    },
    {
     "name": "stderr",
     "output_type": "stream",
     "text": [
      " 55%|█████▍    | 3080/5620 [2:24:47<1:40:15,  2.37s/it]"
     ]
    },
    {
     "name": "stdout",
     "output_type": "stream",
     "text": [
      "{'loss': 0.2452, 'grad_norm': 0.545131504535675, 'learning_rate': 0.00014900390625, 'epoch': 10.94}\n"
     ]
    },
    {
     "name": "stderr",
     "output_type": "stream",
     "text": [
      " 55%|█████▍    | 3090/5620 [2:25:06<1:14:58,  1.78s/it]"
     ]
    },
    {
     "name": "stdout",
     "output_type": "stream",
     "text": [
      "{'loss': 0.2803, 'grad_norm': 0.5365835428237915, 'learning_rate': 0.00014841796875, 'epoch': 10.98}\n"
     ]
    },
    {
     "name": "stderr",
     "output_type": "stream",
     "text": [
      " 55%|█████▌    | 3100/5620 [2:25:28<2:09:28,  3.08s/it]"
     ]
    },
    {
     "name": "stdout",
     "output_type": "stream",
     "text": [
      "{'loss': 0.2813, 'grad_norm': 0.47779110074043274, 'learning_rate': 0.00014783203125, 'epoch': 11.01}\n"
     ]
    },
    {
     "name": "stderr",
     "output_type": "stream",
     "text": [
      "                                                       \n",
      " 55%|█████▌    | 3100/5620 [2:26:17<2:09:28,  3.08s/it]"
     ]
    },
    {
     "name": "stdout",
     "output_type": "stream",
     "text": [
      "{'eval_loss': 0.3562708795070648, 'eval_wer': 0.34685820813685714, 'eval_runtime': 48.7424, 'eval_samples_per_second': 20.516, 'eval_steps_per_second': 2.565, 'epoch': 11.01}\n"
     ]
    },
    {
     "name": "stderr",
     "output_type": "stream",
     "text": [
      "/home/mehedi/anaconda3/envs/wav2vec/lib/python3.10/site-packages/transformers/models/wav2vec2/processing_wav2vec2.py:157: UserWarning: `as_target_processor` is deprecated and will be removed in v5 of Transformers. You can process your labels by using the argument `text` of the regular `__call__` method (either in the same call as your audio inputs, or in a separate call.\n",
      "  warnings.warn(\n",
      "/home/mehedi/anaconda3/envs/wav2vec/lib/python3.10/site-packages/torch/utils/checkpoint.py:295: FutureWarning: `torch.cpu.amp.autocast(args...)` is deprecated. Please use `torch.amp.autocast('cpu', args...)` instead.\n",
      "  with torch.enable_grad(), device_autocast_ctx, torch.cpu.amp.autocast(**ctx.cpu_autocast_kwargs):  # type: ignore[attr-defined]\n",
      " 55%|█████▌    | 3110/5620 [2:26:52<2:28:27,  3.55s/it] "
     ]
    },
    {
     "name": "stdout",
     "output_type": "stream",
     "text": [
      "{'loss': 0.2398, 'grad_norm': 0.5966642498970032, 'learning_rate': 0.00014724609375, 'epoch': 11.05}\n"
     ]
    },
    {
     "name": "stderr",
     "output_type": "stream",
     "text": [
      " 56%|█████▌    | 3120/5620 [2:27:16<1:38:01,  2.35s/it]"
     ]
    },
    {
     "name": "stdout",
     "output_type": "stream",
     "text": [
      "{'loss': 0.2608, 'grad_norm': 0.5430663824081421, 'learning_rate': 0.00014666015624999998, 'epoch': 11.08}\n"
     ]
    },
    {
     "name": "stderr",
     "output_type": "stream",
     "text": [
      " 56%|█████▌    | 3130/5620 [2:27:37<1:23:21,  2.01s/it]"
     ]
    },
    {
     "name": "stdout",
     "output_type": "stream",
     "text": [
      "{'loss': 0.221, 'grad_norm': 0.5505279302597046, 'learning_rate': 0.00014607421875, 'epoch': 11.12}\n"
     ]
    },
    {
     "name": "stderr",
     "output_type": "stream",
     "text": [
      " 56%|█████▌    | 3140/5620 [2:27:54<1:06:05,  1.60s/it]"
     ]
    },
    {
     "name": "stdout",
     "output_type": "stream",
     "text": [
      "{'loss': 0.2389, 'grad_norm': 0.6085853576660156, 'learning_rate': 0.00014548828125, 'epoch': 11.15}\n"
     ]
    },
    {
     "name": "stderr",
     "output_type": "stream",
     "text": [
      " 56%|█████▌    | 3150/5620 [2:28:16<2:05:24,  3.05s/it]"
     ]
    },
    {
     "name": "stdout",
     "output_type": "stream",
     "text": [
      "{'loss': 0.2974, 'grad_norm': 0.5281742215156555, 'learning_rate': 0.00014490234374999998, 'epoch': 11.19}\n"
     ]
    },
    {
     "name": "stderr",
     "output_type": "stream",
     "text": [
      " 56%|█████▌    | 3160/5620 [2:28:47<1:57:13,  2.86s/it]"
     ]
    },
    {
     "name": "stdout",
     "output_type": "stream",
     "text": [
      "{'loss': 0.2622, 'grad_norm': 0.5273491144180298, 'learning_rate': 0.00014431640625, 'epoch': 11.23}\n"
     ]
    },
    {
     "name": "stderr",
     "output_type": "stream",
     "text": [
      " 56%|█████▋    | 3170/5620 [2:29:11<1:32:01,  2.25s/it]"
     ]
    },
    {
     "name": "stdout",
     "output_type": "stream",
     "text": [
      "{'loss': 0.2387, 'grad_norm': 0.567135214805603, 'learning_rate': 0.00014373046875, 'epoch': 11.26}\n"
     ]
    },
    {
     "name": "stderr",
     "output_type": "stream",
     "text": [
      " 57%|█████▋    | 3180/5620 [2:29:30<1:17:28,  1.91s/it]"
     ]
    },
    {
     "name": "stdout",
     "output_type": "stream",
     "text": [
      "{'loss': 0.2317, 'grad_norm': 0.7895539402961731, 'learning_rate': 0.00014314453125, 'epoch': 11.3}\n"
     ]
    },
    {
     "name": "stderr",
     "output_type": "stream",
     "text": [
      " 57%|█████▋    | 3190/5620 [2:29:47<1:04:37,  1.60s/it]"
     ]
    },
    {
     "name": "stdout",
     "output_type": "stream",
     "text": [
      "{'loss': 0.265, 'grad_norm': 0.6372637152671814, 'learning_rate': 0.00014255859375, 'epoch': 11.33}\n"
     ]
    },
    {
     "name": "stderr",
     "output_type": "stream",
     "text": [
      " 57%|█████▋    | 3200/5620 [2:30:09<2:04:16,  3.08s/it]"
     ]
    },
    {
     "name": "stdout",
     "output_type": "stream",
     "text": [
      "{'loss': 0.2984, 'grad_norm': 0.407438188791275, 'learning_rate': 0.00014197265624999998, 'epoch': 11.37}\n"
     ]
    },
    {
     "name": "stderr",
     "output_type": "stream",
     "text": [
      "                                                       \n",
      " 57%|█████▋    | 3200/5620 [2:30:58<2:04:16,  3.08s/it]"
     ]
    },
    {
     "name": "stdout",
     "output_type": "stream",
     "text": [
      "{'eval_loss': 0.36532559990882874, 'eval_wer': 0.342252439960522, 'eval_runtime': 48.7085, 'eval_samples_per_second': 20.53, 'eval_steps_per_second': 2.566, 'epoch': 11.37}\n"
     ]
    },
    {
     "name": "stderr",
     "output_type": "stream",
     "text": [
      "/home/mehedi/anaconda3/envs/wav2vec/lib/python3.10/site-packages/transformers/models/wav2vec2/processing_wav2vec2.py:157: UserWarning: `as_target_processor` is deprecated and will be removed in v5 of Transformers. You can process your labels by using the argument `text` of the regular `__call__` method (either in the same call as your audio inputs, or in a separate call.\n",
      "  warnings.warn(\n",
      "/home/mehedi/anaconda3/envs/wav2vec/lib/python3.10/site-packages/torch/utils/checkpoint.py:295: FutureWarning: `torch.cpu.amp.autocast(args...)` is deprecated. Please use `torch.amp.autocast('cpu', args...)` instead.\n",
      "  with torch.enable_grad(), device_autocast_ctx, torch.cpu.amp.autocast(**ctx.cpu_autocast_kwargs):  # type: ignore[attr-defined]\n",
      " 57%|█████▋    | 3210/5620 [2:31:33<2:22:27,  3.55s/it] "
     ]
    },
    {
     "name": "stdout",
     "output_type": "stream",
     "text": [
      "{'loss': 0.2317, 'grad_norm': 0.6334208250045776, 'learning_rate': 0.00014138671875, 'epoch': 11.4}\n"
     ]
    },
    {
     "name": "stderr",
     "output_type": "stream",
     "text": [
      " 57%|█████▋    | 3220/5620 [2:31:57<1:32:46,  2.32s/it]"
     ]
    },
    {
     "name": "stdout",
     "output_type": "stream",
     "text": [
      "{'loss': 0.2758, 'grad_norm': 0.461556077003479, 'learning_rate': 0.00014080078125, 'epoch': 11.44}\n"
     ]
    },
    {
     "name": "stderr",
     "output_type": "stream",
     "text": [
      " 57%|█████▋    | 3230/5620 [2:32:17<1:16:21,  1.92s/it]"
     ]
    },
    {
     "name": "stdout",
     "output_type": "stream",
     "text": [
      "{'loss': 0.2143, 'grad_norm': 0.6099635362625122, 'learning_rate': 0.00014021484374999999, 'epoch': 11.47}\n"
     ]
    },
    {
     "name": "stderr",
     "output_type": "stream",
     "text": [
      " 58%|█████▊    | 3240/5620 [2:32:34<1:02:00,  1.56s/it]"
     ]
    },
    {
     "name": "stdout",
     "output_type": "stream",
     "text": [
      "{'loss': 0.2818, 'grad_norm': 0.7881305813789368, 'learning_rate': 0.00013962890625, 'epoch': 11.51}\n"
     ]
    },
    {
     "name": "stderr",
     "output_type": "stream",
     "text": [
      " 58%|█████▊    | 3250/5620 [2:32:56<2:02:07,  3.09s/it]"
     ]
    },
    {
     "name": "stdout",
     "output_type": "stream",
     "text": [
      "{'loss': 0.2666, 'grad_norm': 0.34333494305610657, 'learning_rate': 0.00013904296875, 'epoch': 11.55}\n"
     ]
    },
    {
     "name": "stderr",
     "output_type": "stream",
     "text": [
      " 58%|█████▊    | 3260/5620 [2:33:27<1:53:38,  2.89s/it]"
     ]
    },
    {
     "name": "stdout",
     "output_type": "stream",
     "text": [
      "{'loss': 0.2819, 'grad_norm': 0.47845742106437683, 'learning_rate': 0.00013845703125, 'epoch': 11.58}\n"
     ]
    },
    {
     "name": "stderr",
     "output_type": "stream",
     "text": [
      " 58%|█████▊    | 3270/5620 [2:33:51<1:32:26,  2.36s/it]"
     ]
    },
    {
     "name": "stdout",
     "output_type": "stream",
     "text": [
      "{'loss': 0.2186, 'grad_norm': 0.5690762996673584, 'learning_rate': 0.00013787109375, 'epoch': 11.62}\n"
     ]
    },
    {
     "name": "stderr",
     "output_type": "stream",
     "text": [
      " 58%|█████▊    | 3280/5620 [2:34:12<1:16:13,  1.95s/it]"
     ]
    },
    {
     "name": "stdout",
     "output_type": "stream",
     "text": [
      "{'loss': 0.2267, 'grad_norm': 0.5348265767097473, 'learning_rate': 0.00013728515624999998, 'epoch': 11.65}\n"
     ]
    },
    {
     "name": "stderr",
     "output_type": "stream",
     "text": [
      " 59%|█████▊    | 3290/5620 [2:34:29<1:02:21,  1.61s/it]"
     ]
    },
    {
     "name": "stdout",
     "output_type": "stream",
     "text": [
      "{'loss': 0.2687, 'grad_norm': 0.6397176384925842, 'learning_rate': 0.00013669921875, 'epoch': 11.69}\n"
     ]
    },
    {
     "name": "stderr",
     "output_type": "stream",
     "text": [
      " 59%|█████▊    | 3300/5620 [2:34:50<1:53:56,  2.95s/it]"
     ]
    },
    {
     "name": "stdout",
     "output_type": "stream",
     "text": [
      "{'loss': 0.3056, 'grad_norm': 0.5640934705734253, 'learning_rate': 0.00013611328125, 'epoch': 11.72}\n"
     ]
    },
    {
     "name": "stderr",
     "output_type": "stream",
     "text": [
      "                                                       \n",
      " 59%|█████▊    | 3300/5620 [2:35:39<1:53:56,  2.95s/it]"
     ]
    },
    {
     "name": "stdout",
     "output_type": "stream",
     "text": [
      "{'eval_loss': 0.36773669719696045, 'eval_wer': 0.3344664985195745, 'eval_runtime': 48.7249, 'eval_samples_per_second': 20.523, 'eval_steps_per_second': 2.565, 'epoch': 11.72}\n"
     ]
    },
    {
     "name": "stderr",
     "output_type": "stream",
     "text": [
      "/home/mehedi/anaconda3/envs/wav2vec/lib/python3.10/site-packages/transformers/models/wav2vec2/processing_wav2vec2.py:157: UserWarning: `as_target_processor` is deprecated and will be removed in v5 of Transformers. You can process your labels by using the argument `text` of the regular `__call__` method (either in the same call as your audio inputs, or in a separate call.\n",
      "  warnings.warn(\n",
      "/home/mehedi/anaconda3/envs/wav2vec/lib/python3.10/site-packages/torch/utils/checkpoint.py:295: FutureWarning: `torch.cpu.amp.autocast(args...)` is deprecated. Please use `torch.amp.autocast('cpu', args...)` instead.\n",
      "  with torch.enable_grad(), device_autocast_ctx, torch.cpu.amp.autocast(**ctx.cpu_autocast_kwargs):  # type: ignore[attr-defined]\n",
      " 59%|█████▉    | 3310/5620 [2:36:13<2:13:52,  3.48s/it] "
     ]
    },
    {
     "name": "stdout",
     "output_type": "stream",
     "text": [
      "{'loss': 0.2623, 'grad_norm': 0.4185989201068878, 'learning_rate': 0.00013552734375, 'epoch': 11.76}\n"
     ]
    },
    {
     "name": "stderr",
     "output_type": "stream",
     "text": [
      " 59%|█████▉    | 3320/5620 [2:36:37<1:28:20,  2.30s/it]"
     ]
    },
    {
     "name": "stdout",
     "output_type": "stream",
     "text": [
      "{'loss': 0.2696, 'grad_norm': 0.6562384366989136, 'learning_rate': 0.00013494140625, 'epoch': 11.79}\n"
     ]
    },
    {
     "name": "stderr",
     "output_type": "stream",
     "text": [
      " 59%|█████▉    | 3330/5620 [2:36:58<1:15:42,  1.98s/it]"
     ]
    },
    {
     "name": "stdout",
     "output_type": "stream",
     "text": [
      "{'loss': 0.2256, 'grad_norm': 0.9390986561775208, 'learning_rate': 0.00013435546875, 'epoch': 11.83}\n"
     ]
    },
    {
     "name": "stderr",
     "output_type": "stream",
     "text": [
      " 59%|█████▉    | 3340/5620 [2:37:15<1:01:54,  1.63s/it]"
     ]
    },
    {
     "name": "stdout",
     "output_type": "stream",
     "text": [
      "{'loss': 0.2327, 'grad_norm': 0.8919268846511841, 'learning_rate': 0.00013376953125, 'epoch': 11.87}\n"
     ]
    },
    {
     "name": "stderr",
     "output_type": "stream",
     "text": [
      " 60%|█████▉    | 3350/5620 [2:37:36<1:52:04,  2.96s/it]"
     ]
    },
    {
     "name": "stdout",
     "output_type": "stream",
     "text": [
      "{'loss': 0.3055, 'grad_norm': 0.4219912886619568, 'learning_rate': 0.00013318359375, 'epoch': 11.9}\n"
     ]
    },
    {
     "name": "stderr",
     "output_type": "stream",
     "text": [
      " 60%|█████▉    | 3360/5620 [2:38:04<1:35:48,  2.54s/it]"
     ]
    },
    {
     "name": "stdout",
     "output_type": "stream",
     "text": [
      "{'loss': 0.2607, 'grad_norm': 0.6359744071960449, 'learning_rate': 0.00013259765624999998, 'epoch': 11.94}\n"
     ]
    },
    {
     "name": "stderr",
     "output_type": "stream",
     "text": [
      " 60%|█████▉    | 3370/5620 [2:38:24<1:11:26,  1.91s/it]"
     ]
    },
    {
     "name": "stdout",
     "output_type": "stream",
     "text": [
      "{'loss': 0.2541, 'grad_norm': 0.5799254179000854, 'learning_rate': 0.00013201171875, 'epoch': 11.97}\n"
     ]
    },
    {
     "name": "stderr",
     "output_type": "stream",
     "text": [
      " 60%|██████    | 3380/5620 [2:38:44<1:41:30,  2.72s/it]"
     ]
    },
    {
     "name": "stdout",
     "output_type": "stream",
     "text": [
      "{'loss': 0.2655, 'grad_norm': 0.47350209951400757, 'learning_rate': 0.00013142578125, 'epoch': 12.01}\n"
     ]
    },
    {
     "name": "stderr",
     "output_type": "stream",
     "text": [
      " 60%|██████    | 3390/5620 [2:39:16<1:53:27,  3.05s/it]"
     ]
    },
    {
     "name": "stdout",
     "output_type": "stream",
     "text": [
      "{'loss': 0.2424, 'grad_norm': 0.3408435881137848, 'learning_rate': 0.00013083984375, 'epoch': 12.04}\n"
     ]
    },
    {
     "name": "stderr",
     "output_type": "stream",
     "text": [
      " 60%|██████    | 3400/5620 [2:39:41<1:30:18,  2.44s/it]"
     ]
    },
    {
     "name": "stdout",
     "output_type": "stream",
     "text": [
      "{'loss': 0.2412, 'grad_norm': 0.6442155241966248, 'learning_rate': 0.00013025390625, 'epoch': 12.08}\n"
     ]
    },
    {
     "name": "stderr",
     "output_type": "stream",
     "text": [
      "                                                       \n",
      " 60%|██████    | 3400/5620 [2:40:30<1:30:18,  2.44s/it]"
     ]
    },
    {
     "name": "stdout",
     "output_type": "stream",
     "text": [
      "{'eval_loss': 0.3416590690612793, 'eval_wer': 0.3341375150784077, 'eval_runtime': 48.68, 'eval_samples_per_second': 20.542, 'eval_steps_per_second': 2.568, 'epoch': 12.08}\n"
     ]
    },
    {
     "name": "stderr",
     "output_type": "stream",
     "text": [
      "/home/mehedi/anaconda3/envs/wav2vec/lib/python3.10/site-packages/transformers/models/wav2vec2/processing_wav2vec2.py:157: UserWarning: `as_target_processor` is deprecated and will be removed in v5 of Transformers. You can process your labels by using the argument `text` of the regular `__call__` method (either in the same call as your audio inputs, or in a separate call.\n",
      "  warnings.warn(\n",
      "/home/mehedi/anaconda3/envs/wav2vec/lib/python3.10/site-packages/torch/utils/checkpoint.py:295: FutureWarning: `torch.cpu.amp.autocast(args...)` is deprecated. Please use `torch.amp.autocast('cpu', args...)` instead.\n",
      "  with torch.enable_grad(), device_autocast_ctx, torch.cpu.amp.autocast(**ctx.cpu_autocast_kwargs):  # type: ignore[attr-defined]\n",
      " 61%|██████    | 3410/5620 [2:40:54<1:38:33,  2.68s/it] "
     ]
    },
    {
     "name": "stdout",
     "output_type": "stream",
     "text": [
      "{'loss': 0.1965, 'grad_norm': 0.4885920584201813, 'learning_rate': 0.00012966796874999998, 'epoch': 12.11}\n"
     ]
    },
    {
     "name": "stderr",
     "output_type": "stream",
     "text": [
      " 61%|██████    | 3420/5620 [2:41:11<1:02:01,  1.69s/it]"
     ]
    },
    {
     "name": "stdout",
     "output_type": "stream",
     "text": [
      "{'loss': 0.2032, 'grad_norm': 0.6099933981895447, 'learning_rate': 0.00012908203125, 'epoch': 12.15}\n"
     ]
    },
    {
     "name": "stderr",
     "output_type": "stream",
     "text": [
      " 61%|██████    | 3430/5620 [2:41:31<1:38:45,  2.71s/it]"
     ]
    },
    {
     "name": "stdout",
     "output_type": "stream",
     "text": [
      "{'loss': 0.2796, 'grad_norm': 0.4877433776855469, 'learning_rate': 0.00012849609375, 'epoch': 12.18}\n"
     ]
    },
    {
     "name": "stderr",
     "output_type": "stream",
     "text": [
      " 61%|██████    | 3440/5620 [2:42:04<1:52:01,  3.08s/it]"
     ]
    },
    {
     "name": "stdout",
     "output_type": "stream",
     "text": [
      "{'loss': 0.2214, 'grad_norm': 0.6011521816253662, 'learning_rate': 0.00012791015624999999, 'epoch': 12.22}\n"
     ]
    },
    {
     "name": "stderr",
     "output_type": "stream",
     "text": [
      " 61%|██████▏   | 3450/5620 [2:42:29<1:29:05,  2.46s/it]"
     ]
    },
    {
     "name": "stdout",
     "output_type": "stream",
     "text": [
      "{'loss': 0.2175, 'grad_norm': 0.49437761306762695, 'learning_rate': 0.00012732421875, 'epoch': 12.26}\n"
     ]
    },
    {
     "name": "stderr",
     "output_type": "stream",
     "text": [
      " 62%|██████▏   | 3460/5620 [2:42:50<1:13:36,  2.04s/it]"
     ]
    },
    {
     "name": "stdout",
     "output_type": "stream",
     "text": [
      "{'loss': 0.2039, 'grad_norm': 0.6712756156921387, 'learning_rate': 0.00012673828125, 'epoch': 12.29}\n"
     ]
    },
    {
     "name": "stderr",
     "output_type": "stream",
     "text": [
      " 62%|██████▏   | 3470/5620 [2:43:08<1:01:00,  1.70s/it]"
     ]
    },
    {
     "name": "stdout",
     "output_type": "stream",
     "text": [
      "{'loss': 0.2165, 'grad_norm': 0.7281160950660706, 'learning_rate': 0.00012615234375, 'epoch': 12.33}\n"
     ]
    },
    {
     "name": "stderr",
     "output_type": "stream",
     "text": [
      " 62%|██████▏   | 3480/5620 [2:43:27<1:35:56,  2.69s/it]"
     ]
    },
    {
     "name": "stdout",
     "output_type": "stream",
     "text": [
      "{'loss': 0.2396, 'grad_norm': 0.5724637508392334, 'learning_rate': 0.00012556640625, 'epoch': 12.36}\n"
     ]
    },
    {
     "name": "stderr",
     "output_type": "stream",
     "text": [
      " 62%|██████▏   | 3490/5620 [2:43:59<1:45:12,  2.96s/it]"
     ]
    },
    {
     "name": "stdout",
     "output_type": "stream",
     "text": [
      "{'loss': 0.223, 'grad_norm': 0.639596700668335, 'learning_rate': 0.00012498046874999998, 'epoch': 12.4}\n"
     ]
    },
    {
     "name": "stderr",
     "output_type": "stream",
     "text": [
      " 62%|██████▏   | 3500/5620 [2:44:24<1:25:37,  2.42s/it]"
     ]
    },
    {
     "name": "stdout",
     "output_type": "stream",
     "text": [
      "{'loss': 0.1913, 'grad_norm': 0.45837119221687317, 'learning_rate': 0.00012439453125, 'epoch': 12.43}\n"
     ]
    },
    {
     "name": "stderr",
     "output_type": "stream",
     "text": [
      "                                                       \n",
      " 62%|██████▏   | 3500/5620 [2:45:13<1:25:37,  2.42s/it]"
     ]
    },
    {
     "name": "stdout",
     "output_type": "stream",
     "text": [
      "{'eval_loss': 0.3457069993019104, 'eval_wer': 0.3286544577256278, 'eval_runtime': 48.6557, 'eval_samples_per_second': 20.553, 'eval_steps_per_second': 2.569, 'epoch': 12.43}\n"
     ]
    },
    {
     "name": "stderr",
     "output_type": "stream",
     "text": [
      "/home/mehedi/anaconda3/envs/wav2vec/lib/python3.10/site-packages/transformers/models/wav2vec2/processing_wav2vec2.py:157: UserWarning: `as_target_processor` is deprecated and will be removed in v5 of Transformers. You can process your labels by using the argument `text` of the regular `__call__` method (either in the same call as your audio inputs, or in a separate call.\n",
      "  warnings.warn(\n",
      "/home/mehedi/anaconda3/envs/wav2vec/lib/python3.10/site-packages/torch/utils/checkpoint.py:295: FutureWarning: `torch.cpu.amp.autocast(args...)` is deprecated. Please use `torch.amp.autocast('cpu', args...)` instead.\n",
      "  with torch.enable_grad(), device_autocast_ctx, torch.cpu.amp.autocast(**ctx.cpu_autocast_kwargs):  # type: ignore[attr-defined]\n",
      " 62%|██████▏   | 3510/5620 [2:45:37<1:32:59,  2.64s/it] "
     ]
    },
    {
     "name": "stdout",
     "output_type": "stream",
     "text": [
      "{'loss': 0.1972, 'grad_norm': 0.586525559425354, 'learning_rate': 0.00012380859375, 'epoch': 12.47}\n"
     ]
    },
    {
     "name": "stderr",
     "output_type": "stream",
     "text": [
      " 63%|██████▎   | 3520/5620 [2:45:55<59:35,  1.70s/it]  "
     ]
    },
    {
     "name": "stdout",
     "output_type": "stream",
     "text": [
      "{'loss': 0.184, 'grad_norm': 0.8719655871391296, 'learning_rate': 0.00012322265625, 'epoch': 12.5}\n"
     ]
    },
    {
     "name": "stderr",
     "output_type": "stream",
     "text": [
      " 63%|██████▎   | 3530/5620 [2:46:14<1:33:01,  2.67s/it]"
     ]
    },
    {
     "name": "stdout",
     "output_type": "stream",
     "text": [
      "{'loss': 0.2375, 'grad_norm': 0.4707072973251343, 'learning_rate': 0.00012263671875, 'epoch': 12.54}\n"
     ]
    },
    {
     "name": "stderr",
     "output_type": "stream",
     "text": [
      " 63%|██████▎   | 3540/5620 [2:46:46<1:42:25,  2.95s/it]"
     ]
    },
    {
     "name": "stdout",
     "output_type": "stream",
     "text": [
      "{'loss': 0.2091, 'grad_norm': 0.9349853992462158, 'learning_rate': 0.00012205078125, 'epoch': 12.58}\n"
     ]
    },
    {
     "name": "stderr",
     "output_type": "stream",
     "text": [
      " 63%|██████▎   | 3550/5620 [2:47:11<1:21:30,  2.36s/it]"
     ]
    },
    {
     "name": "stdout",
     "output_type": "stream",
     "text": [
      "{'loss': 0.2232, 'grad_norm': 1.0192369222640991, 'learning_rate': 0.00012146484374999999, 'epoch': 12.61}\n"
     ]
    },
    {
     "name": "stderr",
     "output_type": "stream",
     "text": [
      " 63%|██████▎   | 3560/5620 [2:47:32<1:09:49,  2.03s/it]"
     ]
    },
    {
     "name": "stdout",
     "output_type": "stream",
     "text": [
      "{'loss': 0.2032, 'grad_norm': 0.9733346104621887, 'learning_rate': 0.00012087890625, 'epoch': 12.65}\n"
     ]
    },
    {
     "name": "stderr",
     "output_type": "stream",
     "text": [
      " 64%|██████▎   | 3570/5620 [2:47:50<57:45,  1.69s/it]  "
     ]
    },
    {
     "name": "stdout",
     "output_type": "stream",
     "text": [
      "{'loss': 0.2171, 'grad_norm': 0.5925300717353821, 'learning_rate': 0.00012029296875, 'epoch': 12.68}\n"
     ]
    },
    {
     "name": "stderr",
     "output_type": "stream",
     "text": [
      " 64%|██████▎   | 3580/5620 [2:48:08<1:28:28,  2.60s/it]"
     ]
    },
    {
     "name": "stdout",
     "output_type": "stream",
     "text": [
      "{'loss': 0.2567, 'grad_norm': 0.430265873670578, 'learning_rate': 0.00011970703125, 'epoch': 12.72}\n"
     ]
    },
    {
     "name": "stderr",
     "output_type": "stream",
     "text": [
      " 64%|██████▍   | 3590/5620 [2:48:41<1:41:32,  3.00s/it]"
     ]
    },
    {
     "name": "stdout",
     "output_type": "stream",
     "text": [
      "{'loss': 0.2641, 'grad_norm': 0.417451411485672, 'learning_rate': 0.00011912109374999999, 'epoch': 12.75}\n"
     ]
    },
    {
     "name": "stderr",
     "output_type": "stream",
     "text": [
      " 64%|██████▍   | 3600/5620 [2:49:06<1:20:51,  2.40s/it]"
     ]
    },
    {
     "name": "stdout",
     "output_type": "stream",
     "text": [
      "{'loss': 0.2165, 'grad_norm': 0.5585731267929077, 'learning_rate': 0.00011853515625, 'epoch': 12.79}\n"
     ]
    },
    {
     "name": "stderr",
     "output_type": "stream",
     "text": [
      "                                                       \n",
      " 64%|██████▍   | 3600/5620 [2:49:55<1:20:51,  2.40s/it]"
     ]
    },
    {
     "name": "stdout",
     "output_type": "stream",
     "text": [
      "{'eval_loss': 0.34545156359672546, 'eval_wer': 0.33172496984318456, 'eval_runtime': 48.7184, 'eval_samples_per_second': 20.526, 'eval_steps_per_second': 2.566, 'epoch': 12.79}\n"
     ]
    },
    {
     "name": "stderr",
     "output_type": "stream",
     "text": [
      "/home/mehedi/anaconda3/envs/wav2vec/lib/python3.10/site-packages/transformers/models/wav2vec2/processing_wav2vec2.py:157: UserWarning: `as_target_processor` is deprecated and will be removed in v5 of Transformers. You can process your labels by using the argument `text` of the regular `__call__` method (either in the same call as your audio inputs, or in a separate call.\n",
      "  warnings.warn(\n",
      "/home/mehedi/anaconda3/envs/wav2vec/lib/python3.10/site-packages/torch/utils/checkpoint.py:295: FutureWarning: `torch.cpu.amp.autocast(args...)` is deprecated. Please use `torch.amp.autocast('cpu', args...)` instead.\n",
      "  with torch.enable_grad(), device_autocast_ctx, torch.cpu.amp.autocast(**ctx.cpu_autocast_kwargs):  # type: ignore[attr-defined]\n",
      " 64%|██████▍   | 3610/5620 [2:50:19<1:27:57,  2.63s/it] "
     ]
    },
    {
     "name": "stdout",
     "output_type": "stream",
     "text": [
      "{'loss': 0.1881, 'grad_norm': 0.6757665872573853, 'learning_rate': 0.00011794921875, 'epoch': 12.82}\n"
     ]
    },
    {
     "name": "stderr",
     "output_type": "stream",
     "text": [
      " 64%|██████▍   | 3620/5620 [2:50:36<54:23,  1.63s/it]  "
     ]
    },
    {
     "name": "stdout",
     "output_type": "stream",
     "text": [
      "{'loss': 0.2321, 'grad_norm': 0.7297771573066711, 'learning_rate': 0.00011736328125, 'epoch': 12.86}\n"
     ]
    },
    {
     "name": "stderr",
     "output_type": "stream",
     "text": [
      " 65%|██████▍   | 3630/5620 [2:50:54<1:24:43,  2.55s/it]"
     ]
    },
    {
     "name": "stdout",
     "output_type": "stream",
     "text": [
      "{'loss': 0.2452, 'grad_norm': 0.4104827344417572, 'learning_rate': 0.00011677734374999999, 'epoch': 12.9}\n"
     ]
    },
    {
     "name": "stderr",
     "output_type": "stream",
     "text": [
      " 65%|██████▍   | 3640/5620 [2:51:23<1:24:37,  2.56s/it]"
     ]
    },
    {
     "name": "stdout",
     "output_type": "stream",
     "text": [
      "{'loss': 0.2801, 'grad_norm': 0.500051736831665, 'learning_rate': 0.00011619140625, 'epoch': 12.93}\n"
     ]
    },
    {
     "name": "stderr",
     "output_type": "stream",
     "text": [
      " 65%|██████▍   | 3650/5620 [2:51:44<1:05:33,  2.00s/it]"
     ]
    },
    {
     "name": "stdout",
     "output_type": "stream",
     "text": [
      "{'loss': 0.1882, 'grad_norm': 0.6011412739753723, 'learning_rate': 0.00011560546875, 'epoch': 12.97}\n"
     ]
    },
    {
     "name": "stderr",
     "output_type": "stream",
     "text": [
      " 65%|██████▌   | 3660/5620 [2:52:01<1:00:42,  1.86s/it]"
     ]
    },
    {
     "name": "stdout",
     "output_type": "stream",
     "text": [
      "{'loss': 0.2198, 'grad_norm': 1.1865307092666626, 'learning_rate': 0.00011501953125, 'epoch': 13.0}\n"
     ]
    },
    {
     "name": "stderr",
     "output_type": "stream",
     "text": [
      " 65%|██████▌   | 3670/5620 [2:52:34<1:41:23,  3.12s/it]"
     ]
    },
    {
     "name": "stdout",
     "output_type": "stream",
     "text": [
      "{'loss': 0.22, 'grad_norm': 0.33384010195732117, 'learning_rate': 0.00011443359374999999, 'epoch': 13.04}\n"
     ]
    },
    {
     "name": "stderr",
     "output_type": "stream",
     "text": [
      " 65%|██████▌   | 3680/5620 [2:53:00<1:19:31,  2.46s/it]"
     ]
    },
    {
     "name": "stdout",
     "output_type": "stream",
     "text": [
      "{'loss': 0.2004, 'grad_norm': 0.7572473287582397, 'learning_rate': 0.00011384765625, 'epoch': 13.07}\n"
     ]
    },
    {
     "name": "stderr",
     "output_type": "stream",
     "text": [
      " 66%|██████▌   | 3690/5620 [2:53:21<1:05:28,  2.04s/it]"
     ]
    },
    {
     "name": "stdout",
     "output_type": "stream",
     "text": [
      "{'loss': 0.1927, 'grad_norm': 0.44739463925361633, 'learning_rate': 0.00011326171875, 'epoch': 13.11}\n"
     ]
    },
    {
     "name": "stderr",
     "output_type": "stream",
     "text": [
      " 66%|██████▌   | 3700/5620 [2:53:39<54:42,  1.71s/it]  "
     ]
    },
    {
     "name": "stdout",
     "output_type": "stream",
     "text": [
      "{'loss': 0.2137, 'grad_norm': 0.8821872472763062, 'learning_rate': 0.00011267578125, 'epoch': 13.14}\n"
     ]
    },
    {
     "name": "stderr",
     "output_type": "stream",
     "text": [
      "                                                     \n",
      " 66%|██████▌   | 3700/5620 [2:54:28<54:42,  1.71s/it]"
     ]
    },
    {
     "name": "stdout",
     "output_type": "stream",
     "text": [
      "{'eval_loss': 0.3734857738018036, 'eval_wer': 0.32799649084329424, 'eval_runtime': 48.5861, 'eval_samples_per_second': 20.582, 'eval_steps_per_second': 2.573, 'epoch': 13.14}\n"
     ]
    },
    {
     "name": "stderr",
     "output_type": "stream",
     "text": [
      "/home/mehedi/anaconda3/envs/wav2vec/lib/python3.10/site-packages/transformers/models/wav2vec2/processing_wav2vec2.py:157: UserWarning: `as_target_processor` is deprecated and will be removed in v5 of Transformers. You can process your labels by using the argument `text` of the regular `__call__` method (either in the same call as your audio inputs, or in a separate call.\n",
      "  warnings.warn(\n",
      "/home/mehedi/anaconda3/envs/wav2vec/lib/python3.10/site-packages/torch/utils/checkpoint.py:295: FutureWarning: `torch.cpu.amp.autocast(args...)` is deprecated. Please use `torch.amp.autocast('cpu', args...)` instead.\n",
      "  with torch.enable_grad(), device_autocast_ctx, torch.cpu.amp.autocast(**ctx.cpu_autocast_kwargs):  # type: ignore[attr-defined]\n",
      " 66%|██████▌   | 3710/5620 [2:54:47<1:18:05,  2.45s/it]"
     ]
    },
    {
     "name": "stdout",
     "output_type": "stream",
     "text": [
      "{'loss': 0.2183, 'grad_norm': 0.6790705323219299, 'learning_rate': 0.00011208984375, 'epoch': 13.18}\n"
     ]
    },
    {
     "name": "stderr",
     "output_type": "stream",
     "text": [
      " 66%|██████▌   | 3720/5620 [2:55:21<1:39:28,  3.14s/it]"
     ]
    },
    {
     "name": "stdout",
     "output_type": "stream",
     "text": [
      "{'loss': 0.2183, 'grad_norm': 0.4617016017436981, 'learning_rate': 0.00011150390625, 'epoch': 13.21}\n"
     ]
    },
    {
     "name": "stderr",
     "output_type": "stream",
     "text": [
      " 66%|██████▋   | 3730/5620 [2:55:47<1:17:15,  2.45s/it]"
     ]
    },
    {
     "name": "stdout",
     "output_type": "stream",
     "text": [
      "{'loss': 0.2328, 'grad_norm': 0.61958909034729, 'learning_rate': 0.00011091796875, 'epoch': 13.25}\n"
     ]
    },
    {
     "name": "stderr",
     "output_type": "stream",
     "text": [
      " 67%|██████▋   | 3740/5620 [2:56:09<1:05:40,  2.10s/it]"
     ]
    },
    {
     "name": "stdout",
     "output_type": "stream",
     "text": [
      "{'loss': 0.187, 'grad_norm': 0.4314570426940918, 'learning_rate': 0.00011033203125, 'epoch': 13.29}\n"
     ]
    },
    {
     "name": "stderr",
     "output_type": "stream",
     "text": [
      " 67%|██████▋   | 3750/5620 [2:56:27<55:06,  1.77s/it]  "
     ]
    },
    {
     "name": "stdout",
     "output_type": "stream",
     "text": [
      "{'loss': 0.1803, 'grad_norm': 0.6475825309753418, 'learning_rate': 0.00010974609375, 'epoch': 13.32}\n"
     ]
    },
    {
     "name": "stderr",
     "output_type": "stream",
     "text": [
      " 67%|██████▋   | 3760/5620 [2:56:43<55:26,  1.79s/it]"
     ]
    },
    {
     "name": "stdout",
     "output_type": "stream",
     "text": [
      "{'loss': 0.2451, 'grad_norm': 1.3728350400924683, 'learning_rate': 0.00010916015624999999, 'epoch': 13.36}\n"
     ]
    },
    {
     "name": "stderr",
     "output_type": "stream",
     "text": [
      " 67%|██████▋   | 3770/5620 [2:57:17<1:35:58,  3.11s/it]"
     ]
    },
    {
     "name": "stdout",
     "output_type": "stream",
     "text": [
      "{'loss': 0.2504, 'grad_norm': 0.4019307494163513, 'learning_rate': 0.00010857421875, 'epoch': 13.39}\n"
     ]
    },
    {
     "name": "stderr",
     "output_type": "stream",
     "text": [
      " 67%|██████▋   | 3780/5620 [2:57:43<1:17:37,  2.53s/it]"
     ]
    },
    {
     "name": "stdout",
     "output_type": "stream",
     "text": [
      "{'loss': 0.2064, 'grad_norm': 0.5386418104171753, 'learning_rate': 0.00010798828125, 'epoch': 13.43}\n"
     ]
    },
    {
     "name": "stderr",
     "output_type": "stream",
     "text": [
      " 67%|██████▋   | 3790/5620 [2:58:04<1:04:07,  2.10s/it]"
     ]
    },
    {
     "name": "stdout",
     "output_type": "stream",
     "text": [
      "{'loss': 0.1863, 'grad_norm': 0.4236670434474945, 'learning_rate': 0.00010740234375, 'epoch': 13.46}\n"
     ]
    },
    {
     "name": "stderr",
     "output_type": "stream",
     "text": [
      " 68%|██████▊   | 3800/5620 [2:58:22<51:28,  1.70s/it]  "
     ]
    },
    {
     "name": "stdout",
     "output_type": "stream",
     "text": [
      "{'loss': 0.2474, 'grad_norm': 0.5883898735046387, 'learning_rate': 0.00010681640624999999, 'epoch': 13.5}\n"
     ]
    },
    {
     "name": "stderr",
     "output_type": "stream",
     "text": [
      "                                                     \n",
      " 68%|██████▊   | 3800/5620 [2:59:11<51:28,  1.70s/it]"
     ]
    },
    {
     "name": "stdout",
     "output_type": "stream",
     "text": [
      "{'eval_loss': 0.35863715410232544, 'eval_wer': 0.3260225901962934, 'eval_runtime': 48.717, 'eval_samples_per_second': 20.527, 'eval_steps_per_second': 2.566, 'epoch': 13.5}\n"
     ]
    },
    {
     "name": "stderr",
     "output_type": "stream",
     "text": [
      "/home/mehedi/anaconda3/envs/wav2vec/lib/python3.10/site-packages/transformers/models/wav2vec2/processing_wav2vec2.py:157: UserWarning: `as_target_processor` is deprecated and will be removed in v5 of Transformers. You can process your labels by using the argument `text` of the regular `__call__` method (either in the same call as your audio inputs, or in a separate call.\n",
      "  warnings.warn(\n",
      "/home/mehedi/anaconda3/envs/wav2vec/lib/python3.10/site-packages/torch/utils/checkpoint.py:295: FutureWarning: `torch.cpu.amp.autocast(args...)` is deprecated. Please use `torch.amp.autocast('cpu', args...)` instead.\n",
      "  with torch.enable_grad(), device_autocast_ctx, torch.cpu.amp.autocast(**ctx.cpu_autocast_kwargs):  # type: ignore[attr-defined]\n",
      " 68%|██████▊   | 3810/5620 [2:59:30<1:12:51,  2.42s/it]"
     ]
    },
    {
     "name": "stdout",
     "output_type": "stream",
     "text": [
      "{'loss': 0.272, 'grad_norm': 1.3699324131011963, 'learning_rate': 0.00010623046875, 'epoch': 13.53}\n"
     ]
    },
    {
     "name": "stderr",
     "output_type": "stream",
     "text": [
      " 68%|██████▊   | 3820/5620 [3:00:03<1:32:14,  3.07s/it]"
     ]
    },
    {
     "name": "stdout",
     "output_type": "stream",
     "text": [
      "{'loss': 0.2009, 'grad_norm': 0.8709492683410645, 'learning_rate': 0.00010564453125, 'epoch': 13.57}\n"
     ]
    },
    {
     "name": "stderr",
     "output_type": "stream",
     "text": [
      " 68%|██████▊   | 3830/5620 [3:00:29<1:13:27,  2.46s/it]"
     ]
    },
    {
     "name": "stdout",
     "output_type": "stream",
     "text": [
      "{'loss': 0.1917, 'grad_norm': 0.8527363538742065, 'learning_rate': 0.00010505859375, 'epoch': 13.61}\n"
     ]
    },
    {
     "name": "stderr",
     "output_type": "stream",
     "text": [
      " 68%|██████▊   | 3840/5620 [3:00:51<1:03:10,  2.13s/it]"
     ]
    },
    {
     "name": "stdout",
     "output_type": "stream",
     "text": [
      "{'loss': 0.1972, 'grad_norm': 0.45319634675979614, 'learning_rate': 0.00010447265624999999, 'epoch': 13.64}\n"
     ]
    },
    {
     "name": "stderr",
     "output_type": "stream",
     "text": [
      " 69%|██████▊   | 3850/5620 [3:01:09<50:32,  1.71s/it]  "
     ]
    },
    {
     "name": "stdout",
     "output_type": "stream",
     "text": [
      "{'loss': 0.197, 'grad_norm': 0.9356494545936584, 'learning_rate': 0.00010388671875, 'epoch': 13.68}\n"
     ]
    },
    {
     "name": "stderr",
     "output_type": "stream",
     "text": [
      " 69%|██████▊   | 3860/5620 [3:01:24<50:54,  1.74s/it]"
     ]
    },
    {
     "name": "stdout",
     "output_type": "stream",
     "text": [
      "{'loss': 0.2199, 'grad_norm': 0.6238040924072266, 'learning_rate': 0.00010330078125, 'epoch': 13.71}\n"
     ]
    },
    {
     "name": "stderr",
     "output_type": "stream",
     "text": [
      " 69%|██████▉   | 3870/5620 [3:01:57<1:28:36,  3.04s/it]"
     ]
    },
    {
     "name": "stdout",
     "output_type": "stream",
     "text": [
      "{'loss': 0.2351, 'grad_norm': 0.5097337365150452, 'learning_rate': 0.00010271484375, 'epoch': 13.75}\n"
     ]
    },
    {
     "name": "stderr",
     "output_type": "stream",
     "text": [
      " 69%|██████▉   | 3880/5620 [3:02:23<1:10:53,  2.44s/it]"
     ]
    },
    {
     "name": "stdout",
     "output_type": "stream",
     "text": [
      "{'loss': 0.2063, 'grad_norm': 0.5795598030090332, 'learning_rate': 0.00010212890624999999, 'epoch': 13.78}\n"
     ]
    },
    {
     "name": "stderr",
     "output_type": "stream",
     "text": [
      " 69%|██████▉   | 3890/5620 [3:02:44<58:53,  2.04s/it]  "
     ]
    },
    {
     "name": "stdout",
     "output_type": "stream",
     "text": [
      "{'loss': 0.2077, 'grad_norm': 0.7077138423919678, 'learning_rate': 0.00010154296875, 'epoch': 13.82}\n"
     ]
    },
    {
     "name": "stderr",
     "output_type": "stream",
     "text": [
      " 69%|██████▉   | 3900/5620 [3:03:02<48:40,  1.70s/it]"
     ]
    },
    {
     "name": "stdout",
     "output_type": "stream",
     "text": [
      "{'loss': 0.2089, 'grad_norm': 0.5766010284423828, 'learning_rate': 0.00010095703125, 'epoch': 13.85}\n"
     ]
    },
    {
     "name": "stderr",
     "output_type": "stream",
     "text": [
      "                                                     \n",
      " 69%|██████▉   | 3900/5620 [3:03:51<48:40,  1.70s/it]"
     ]
    },
    {
     "name": "stdout",
     "output_type": "stream",
     "text": [
      "{'eval_loss': 0.36199402809143066, 'eval_wer': 0.3170303761377344, 'eval_runtime': 48.8367, 'eval_samples_per_second': 20.476, 'eval_steps_per_second': 2.56, 'epoch': 13.85}\n"
     ]
    },
    {
     "name": "stderr",
     "output_type": "stream",
     "text": [
      "/home/mehedi/anaconda3/envs/wav2vec/lib/python3.10/site-packages/transformers/models/wav2vec2/processing_wav2vec2.py:157: UserWarning: `as_target_processor` is deprecated and will be removed in v5 of Transformers. You can process your labels by using the argument `text` of the regular `__call__` method (either in the same call as your audio inputs, or in a separate call.\n",
      "  warnings.warn(\n",
      "/home/mehedi/anaconda3/envs/wav2vec/lib/python3.10/site-packages/torch/utils/checkpoint.py:295: FutureWarning: `torch.cpu.amp.autocast(args...)` is deprecated. Please use `torch.amp.autocast('cpu', args...)` instead.\n",
      "  with torch.enable_grad(), device_autocast_ctx, torch.cpu.amp.autocast(**ctx.cpu_autocast_kwargs):  # type: ignore[attr-defined]\n",
      " 70%|██████▉   | 3910/5620 [3:04:10<1:08:44,  2.41s/it]"
     ]
    },
    {
     "name": "stdout",
     "output_type": "stream",
     "text": [
      "{'loss': 0.2414, 'grad_norm': 1.0814398527145386, 'learning_rate': 0.00010037109375, 'epoch': 13.89}\n"
     ]
    },
    {
     "name": "stderr",
     "output_type": "stream",
     "text": [
      " 70%|██████▉   | 3920/5620 [3:04:41<1:19:32,  2.81s/it]"
     ]
    },
    {
     "name": "stdout",
     "output_type": "stream",
     "text": [
      "{'loss': 0.2269, 'grad_norm': 0.4198371171951294, 'learning_rate': 9.978515624999999e-05, 'epoch': 13.93}\n"
     ]
    },
    {
     "name": "stderr",
     "output_type": "stream",
     "text": [
      " 70%|██████▉   | 3930/5620 [3:05:04<59:38,  2.12s/it]  "
     ]
    },
    {
     "name": "stdout",
     "output_type": "stream",
     "text": [
      "{'loss': 0.1994, 'grad_norm': 0.5194023847579956, 'learning_rate': 9.919921875e-05, 'epoch': 13.96}\n"
     ]
    },
    {
     "name": "stderr",
     "output_type": "stream",
     "text": [
      " 70%|███████   | 3940/5620 [3:05:20<39:09,  1.40s/it]"
     ]
    },
    {
     "name": "stdout",
     "output_type": "stream",
     "text": [
      "{'loss': 0.2005, 'grad_norm': 0.8143740296363831, 'learning_rate': 9.861328125e-05, 'epoch': 14.0}\n"
     ]
    },
    {
     "name": "stderr",
     "output_type": "stream",
     "text": [
      " 70%|███████   | 3950/5620 [3:05:52<1:27:33,  3.15s/it]"
     ]
    },
    {
     "name": "stdout",
     "output_type": "stream",
     "text": [
      "{'loss': 0.2228, 'grad_norm': 0.6176759004592896, 'learning_rate': 9.802734375e-05, 'epoch': 14.03}\n"
     ]
    },
    {
     "name": "stderr",
     "output_type": "stream",
     "text": [
      " 70%|███████   | 3960/5620 [3:06:19<1:09:00,  2.49s/it]"
     ]
    },
    {
     "name": "stdout",
     "output_type": "stream",
     "text": [
      "{'loss': 0.201, 'grad_norm': 0.7255061864852905, 'learning_rate': 9.744140625e-05, 'epoch': 14.07}\n"
     ]
    },
    {
     "name": "stderr",
     "output_type": "stream",
     "text": [
      " 71%|███████   | 3970/5620 [3:06:40<57:33,  2.09s/it]  "
     ]
    },
    {
     "name": "stdout",
     "output_type": "stream",
     "text": [
      "{'loss': 0.1993, 'grad_norm': 0.5059537887573242, 'learning_rate': 9.685546875e-05, 'epoch': 14.1}\n"
     ]
    },
    {
     "name": "stderr",
     "output_type": "stream",
     "text": [
      " 71%|███████   | 3980/5620 [3:06:59<49:40,  1.82s/it]"
     ]
    },
    {
     "name": "stdout",
     "output_type": "stream",
     "text": [
      "{'loss': 0.2071, 'grad_norm': 0.9145037531852722, 'learning_rate': 9.626953125e-05, 'epoch': 14.14}\n"
     ]
    },
    {
     "name": "stderr",
     "output_type": "stream",
     "text": [
      " 71%|███████   | 3990/5620 [3:07:14<37:04,  1.36s/it]"
     ]
    },
    {
     "name": "stdout",
     "output_type": "stream",
     "text": [
      "{'loss': 0.1839, 'grad_norm': 1.0007697343826294, 'learning_rate': 9.568359375e-05, 'epoch': 14.17}\n"
     ]
    },
    {
     "name": "stderr",
     "output_type": "stream",
     "text": [
      " 71%|███████   | 4000/5620 [3:07:47<1:27:48,  3.25s/it]"
     ]
    },
    {
     "name": "stdout",
     "output_type": "stream",
     "text": [
      "{'loss': 0.2185, 'grad_norm': 0.4312702715396881, 'learning_rate': 9.509765625e-05, 'epoch': 14.21}\n"
     ]
    },
    {
     "name": "stderr",
     "output_type": "stream",
     "text": [
      "                                                       \n",
      " 71%|███████   | 4000/5620 [3:08:36<1:27:48,  3.25s/it]"
     ]
    },
    {
     "name": "stdout",
     "output_type": "stream",
     "text": [
      "{'eval_loss': 0.3493541181087494, 'eval_wer': 0.3243776729904595, 'eval_runtime': 48.7401, 'eval_samples_per_second': 20.517, 'eval_steps_per_second': 2.565, 'epoch': 14.21}\n"
     ]
    },
    {
     "name": "stderr",
     "output_type": "stream",
     "text": [
      "/home/mehedi/anaconda3/envs/wav2vec/lib/python3.10/site-packages/transformers/models/wav2vec2/processing_wav2vec2.py:157: UserWarning: `as_target_processor` is deprecated and will be removed in v5 of Transformers. You can process your labels by using the argument `text` of the regular `__call__` method (either in the same call as your audio inputs, or in a separate call.\n",
      "  warnings.warn(\n",
      "/home/mehedi/anaconda3/envs/wav2vec/lib/python3.10/site-packages/torch/utils/checkpoint.py:295: FutureWarning: `torch.cpu.amp.autocast(args...)` is deprecated. Please use `torch.amp.autocast('cpu', args...)` instead.\n",
      "  with torch.enable_grad(), device_autocast_ctx, torch.cpu.amp.autocast(**ctx.cpu_autocast_kwargs):  # type: ignore[attr-defined]\n",
      " 71%|███████▏  | 4010/5620 [3:09:07<1:26:17,  3.22s/it]"
     ]
    },
    {
     "name": "stdout",
     "output_type": "stream",
     "text": [
      "{'loss': 0.1714, 'grad_norm': 0.4500772953033447, 'learning_rate': 9.451171875e-05, 'epoch': 14.25}\n"
     ]
    },
    {
     "name": "stderr",
     "output_type": "stream",
     "text": [
      " 72%|███████▏  | 4020/5620 [3:09:28<56:09,  2.11s/it]  "
     ]
    },
    {
     "name": "stdout",
     "output_type": "stream",
     "text": [
      "{'loss': 0.2131, 'grad_norm': 0.6382493376731873, 'learning_rate': 9.392578125e-05, 'epoch': 14.28}\n"
     ]
    },
    {
     "name": "stderr",
     "output_type": "stream",
     "text": [
      " 72%|███████▏  | 4030/5620 [3:09:47<46:35,  1.76s/it]"
     ]
    },
    {
     "name": "stdout",
     "output_type": "stream",
     "text": [
      "{'loss': 0.2155, 'grad_norm': 0.7774702310562134, 'learning_rate': 9.333984375e-05, 'epoch': 14.32}\n"
     ]
    },
    {
     "name": "stderr",
     "output_type": "stream",
     "text": [
      " 72%|███████▏  | 4040/5620 [3:10:01<35:06,  1.33s/it]"
     ]
    },
    {
     "name": "stdout",
     "output_type": "stream",
     "text": [
      "{'loss': 0.2358, 'grad_norm': 1.465587854385376, 'learning_rate': 9.275390625e-05, 'epoch': 14.35}\n"
     ]
    },
    {
     "name": "stderr",
     "output_type": "stream",
     "text": [
      " 72%|███████▏  | 4050/5620 [3:10:34<1:22:07,  3.14s/it]"
     ]
    },
    {
     "name": "stdout",
     "output_type": "stream",
     "text": [
      "{'loss': 0.221, 'grad_norm': 0.4854643940925598, 'learning_rate': 9.216796874999999e-05, 'epoch': 14.39}\n"
     ]
    },
    {
     "name": "stderr",
     "output_type": "stream",
     "text": [
      " 72%|███████▏  | 4060/5620 [3:11:00<1:07:03,  2.58s/it]"
     ]
    },
    {
     "name": "stdout",
     "output_type": "stream",
     "text": [
      "{'loss': 0.2067, 'grad_norm': 0.798229992389679, 'learning_rate': 9.158203125e-05, 'epoch': 14.42}\n"
     ]
    },
    {
     "name": "stderr",
     "output_type": "stream",
     "text": [
      " 72%|███████▏  | 4070/5620 [3:11:22<54:53,  2.12s/it]  "
     ]
    },
    {
     "name": "stdout",
     "output_type": "stream",
     "text": [
      "{'loss': 0.191, 'grad_norm': 0.3587051033973694, 'learning_rate': 9.099609375e-05, 'epoch': 14.46}\n"
     ]
    },
    {
     "name": "stderr",
     "output_type": "stream",
     "text": [
      " 73%|███████▎  | 4080/5620 [3:11:41<45:39,  1.78s/it]"
     ]
    },
    {
     "name": "stdout",
     "output_type": "stream",
     "text": [
      "{'loss': 0.1775, 'grad_norm': 0.5752257108688354, 'learning_rate': 9.041015625e-05, 'epoch': 14.49}\n"
     ]
    },
    {
     "name": "stderr",
     "output_type": "stream",
     "text": [
      " 73%|███████▎  | 4090/5620 [3:11:55<33:41,  1.32s/it]"
     ]
    },
    {
     "name": "stdout",
     "output_type": "stream",
     "text": [
      "{'loss': 0.1989, 'grad_norm': 0.7767240405082703, 'learning_rate': 8.982421874999999e-05, 'epoch': 14.53}\n"
     ]
    },
    {
     "name": "stderr",
     "output_type": "stream",
     "text": [
      " 73%|███████▎  | 4100/5620 [3:12:28<1:19:21,  3.13s/it]"
     ]
    },
    {
     "name": "stdout",
     "output_type": "stream",
     "text": [
      "{'loss': 0.2238, 'grad_norm': 0.40253645181655884, 'learning_rate': 8.923828125e-05, 'epoch': 14.56}\n"
     ]
    },
    {
     "name": "stderr",
     "output_type": "stream",
     "text": [
      "                                                       \n",
      " 73%|███████▎  | 4100/5620 [3:13:17<1:19:21,  3.13s/it]"
     ]
    },
    {
     "name": "stdout",
     "output_type": "stream",
     "text": [
      "{'eval_loss': 0.3492647409439087, 'eval_wer': 0.3204298716964579, 'eval_runtime': 48.7603, 'eval_samples_per_second': 20.508, 'eval_steps_per_second': 2.564, 'epoch': 14.56}\n"
     ]
    },
    {
     "name": "stderr",
     "output_type": "stream",
     "text": [
      "/home/mehedi/anaconda3/envs/wav2vec/lib/python3.10/site-packages/transformers/models/wav2vec2/processing_wav2vec2.py:157: UserWarning: `as_target_processor` is deprecated and will be removed in v5 of Transformers. You can process your labels by using the argument `text` of the regular `__call__` method (either in the same call as your audio inputs, or in a separate call.\n",
      "  warnings.warn(\n",
      "/home/mehedi/anaconda3/envs/wav2vec/lib/python3.10/site-packages/torch/utils/checkpoint.py:295: FutureWarning: `torch.cpu.amp.autocast(args...)` is deprecated. Please use `torch.amp.autocast('cpu', args...)` instead.\n",
      "  with torch.enable_grad(), device_autocast_ctx, torch.cpu.amp.autocast(**ctx.cpu_autocast_kwargs):  # type: ignore[attr-defined]\n",
      " 73%|███████▎  | 4110/5620 [3:13:47<1:20:07,  3.18s/it]"
     ]
    },
    {
     "name": "stdout",
     "output_type": "stream",
     "text": [
      "{'loss': 0.1888, 'grad_norm': 0.5411642789840698, 'learning_rate': 8.865234375e-05, 'epoch': 14.6}\n"
     ]
    },
    {
     "name": "stderr",
     "output_type": "stream",
     "text": [
      " 73%|███████▎  | 4120/5620 [3:14:09<53:27,  2.14s/it]  "
     ]
    },
    {
     "name": "stdout",
     "output_type": "stream",
     "text": [
      "{'loss': 0.1598, 'grad_norm': 0.5567626953125, 'learning_rate': 8.806640625e-05, 'epoch': 14.64}\n"
     ]
    },
    {
     "name": "stderr",
     "output_type": "stream",
     "text": [
      " 73%|███████▎  | 4130/5620 [3:14:27<43:21,  1.75s/it]"
     ]
    },
    {
     "name": "stdout",
     "output_type": "stream",
     "text": [
      "{'loss': 0.1729, 'grad_norm': 0.5649412870407104, 'learning_rate': 8.748046874999999e-05, 'epoch': 14.67}\n"
     ]
    },
    {
     "name": "stderr",
     "output_type": "stream",
     "text": [
      " 74%|███████▎  | 4140/5620 [3:14:42<31:45,  1.29s/it]"
     ]
    },
    {
     "name": "stdout",
     "output_type": "stream",
     "text": [
      "{'loss': 0.195, 'grad_norm': 0.8454685807228088, 'learning_rate': 8.689453125e-05, 'epoch': 14.71}\n"
     ]
    },
    {
     "name": "stderr",
     "output_type": "stream",
     "text": [
      " 74%|███████▍  | 4150/5620 [3:15:15<1:19:26,  3.24s/it]"
     ]
    },
    {
     "name": "stdout",
     "output_type": "stream",
     "text": [
      "{'loss': 0.2034, 'grad_norm': 0.3561183214187622, 'learning_rate': 8.630859375e-05, 'epoch': 14.74}\n"
     ]
    },
    {
     "name": "stderr",
     "output_type": "stream",
     "text": [
      " 74%|███████▍  | 4160/5620 [3:15:42<1:02:47,  2.58s/it]"
     ]
    },
    {
     "name": "stdout",
     "output_type": "stream",
     "text": [
      "{'loss': 0.2007, 'grad_norm': 0.4551238715648651, 'learning_rate': 8.572265625e-05, 'epoch': 14.78}\n"
     ]
    },
    {
     "name": "stderr",
     "output_type": "stream",
     "text": [
      " 74%|███████▍  | 4170/5620 [3:16:04<51:18,  2.12s/it]  "
     ]
    },
    {
     "name": "stdout",
     "output_type": "stream",
     "text": [
      "{'loss': 0.1603, 'grad_norm': 0.5795608162879944, 'learning_rate': 8.513671875e-05, 'epoch': 14.81}\n"
     ]
    },
    {
     "name": "stderr",
     "output_type": "stream",
     "text": [
      " 74%|███████▍  | 4180/5620 [3:16:22<42:11,  1.76s/it]"
     ]
    },
    {
     "name": "stdout",
     "output_type": "stream",
     "text": [
      "{'loss': 0.1953, 'grad_norm': 0.7504843473434448, 'learning_rate': 8.455078125e-05, 'epoch': 14.85}\n"
     ]
    },
    {
     "name": "stderr",
     "output_type": "stream",
     "text": [
      " 75%|███████▍  | 4190/5620 [3:16:37<32:02,  1.34s/it]"
     ]
    },
    {
     "name": "stdout",
     "output_type": "stream",
     "text": [
      "{'loss': 0.1939, 'grad_norm': 0.846226155757904, 'learning_rate': 8.396484375e-05, 'epoch': 14.88}\n"
     ]
    },
    {
     "name": "stderr",
     "output_type": "stream",
     "text": [
      " 75%|███████▍  | 4200/5620 [3:17:08<1:06:35,  2.81s/it]"
     ]
    },
    {
     "name": "stdout",
     "output_type": "stream",
     "text": [
      "{'loss': 0.2321, 'grad_norm': 0.6629518866539001, 'learning_rate': 8.337890625e-05, 'epoch': 14.92}\n"
     ]
    },
    {
     "name": "stderr",
     "output_type": "stream",
     "text": [
      "                                                       \n",
      " 75%|███████▍  | 4200/5620 [3:17:56<1:06:35,  2.81s/it]"
     ]
    },
    {
     "name": "stdout",
     "output_type": "stream",
     "text": [
      "{'eval_loss': 0.35131657123565674, 'eval_wer': 0.3177980041671236, 'eval_runtime': 48.8665, 'eval_samples_per_second': 20.464, 'eval_steps_per_second': 2.558, 'epoch': 14.92}\n"
     ]
    },
    {
     "name": "stderr",
     "output_type": "stream",
     "text": [
      "/home/mehedi/anaconda3/envs/wav2vec/lib/python3.10/site-packages/transformers/models/wav2vec2/processing_wav2vec2.py:157: UserWarning: `as_target_processor` is deprecated and will be removed in v5 of Transformers. You can process your labels by using the argument `text` of the regular `__call__` method (either in the same call as your audio inputs, or in a separate call.\n",
      "  warnings.warn(\n",
      "/home/mehedi/anaconda3/envs/wav2vec/lib/python3.10/site-packages/torch/utils/checkpoint.py:295: FutureWarning: `torch.cpu.amp.autocast(args...)` is deprecated. Please use `torch.amp.autocast('cpu', args...)` instead.\n",
      "  with torch.enable_grad(), device_autocast_ctx, torch.cpu.amp.autocast(**ctx.cpu_autocast_kwargs):  # type: ignore[attr-defined]\n",
      " 75%|███████▍  | 4210/5620 [3:18:23<1:05:50,  2.80s/it]"
     ]
    },
    {
     "name": "stdout",
     "output_type": "stream",
     "text": [
      "{'loss': 0.1521, 'grad_norm': 1.4143621921539307, 'learning_rate': 8.279296875e-05, 'epoch': 14.96}\n"
     ]
    },
    {
     "name": "stderr",
     "output_type": "stream",
     "text": [
      " 75%|███████▌  | 4220/5620 [3:18:40<36:39,  1.57s/it]  "
     ]
    },
    {
     "name": "stdout",
     "output_type": "stream",
     "text": [
      "{'loss': 0.1672, 'grad_norm': 1.1633225679397583, 'learning_rate': 8.220703125e-05, 'epoch': 14.99}\n"
     ]
    },
    {
     "name": "stderr",
     "output_type": "stream",
     "text": [
      " 75%|███████▌  | 4230/5620 [3:19:10<1:15:45,  3.27s/it]"
     ]
    },
    {
     "name": "stdout",
     "output_type": "stream",
     "text": [
      "{'loss': 0.2609, 'grad_norm': 0.4073890745639801, 'learning_rate': 8.162109375e-05, 'epoch': 15.03}\n"
     ]
    },
    {
     "name": "stderr",
     "output_type": "stream",
     "text": [
      " 75%|███████▌  | 4240/5620 [3:19:38<59:54,  2.61s/it]  "
     ]
    },
    {
     "name": "stdout",
     "output_type": "stream",
     "text": [
      "{'loss': 0.1806, 'grad_norm': 0.7694066762924194, 'learning_rate': 8.103515625e-05, 'epoch': 15.06}\n"
     ]
    },
    {
     "name": "stderr",
     "output_type": "stream",
     "text": [
      " 76%|███████▌  | 4250/5620 [3:20:00<49:45,  2.18s/it]"
     ]
    },
    {
     "name": "stdout",
     "output_type": "stream",
     "text": [
      "{'loss': 0.1746, 'grad_norm': 0.4487888813018799, 'learning_rate': 8.044921875e-05, 'epoch': 15.1}\n"
     ]
    },
    {
     "name": "stderr",
     "output_type": "stream",
     "text": [
      " 76%|███████▌  | 4260/5620 [3:20:19<41:21,  1.82s/it]"
     ]
    },
    {
     "name": "stdout",
     "output_type": "stream",
     "text": [
      "{'loss': 0.1797, 'grad_norm': 0.9677624702453613, 'learning_rate': 7.986328125e-05, 'epoch': 15.13}\n"
     ]
    },
    {
     "name": "stderr",
     "output_type": "stream",
     "text": [
      " 76%|███████▌  | 4270/5620 [3:20:34<32:21,  1.44s/it]"
     ]
    },
    {
     "name": "stdout",
     "output_type": "stream",
     "text": [
      "{'loss': 0.1856, 'grad_norm': 0.895671010017395, 'learning_rate': 7.927734375e-05, 'epoch': 15.17}\n"
     ]
    },
    {
     "name": "stderr",
     "output_type": "stream",
     "text": [
      " 76%|███████▌  | 4280/5620 [3:21:04<1:12:47,  3.26s/it]"
     ]
    },
    {
     "name": "stdout",
     "output_type": "stream",
     "text": [
      "{'loss': 0.2068, 'grad_norm': 0.38051772117614746, 'learning_rate': 7.869140625e-05, 'epoch': 15.2}\n"
     ]
    },
    {
     "name": "stderr",
     "output_type": "stream",
     "text": [
      " 76%|███████▋  | 4290/5620 [3:21:32<58:49,  2.65s/it]  "
     ]
    },
    {
     "name": "stdout",
     "output_type": "stream",
     "text": [
      "{'loss': 0.2006, 'grad_norm': 0.533709704875946, 'learning_rate': 7.810546875e-05, 'epoch': 15.24}\n"
     ]
    },
    {
     "name": "stderr",
     "output_type": "stream",
     "text": [
      " 77%|███████▋  | 4300/5620 [3:21:54<48:21,  2.20s/it]"
     ]
    },
    {
     "name": "stdout",
     "output_type": "stream",
     "text": [
      "{'loss': 0.1802, 'grad_norm': 0.4595904052257538, 'learning_rate': 7.751953125e-05, 'epoch': 15.28}\n"
     ]
    },
    {
     "name": "stderr",
     "output_type": "stream",
     "text": [
      "                                                     \n",
      " 77%|███████▋  | 4300/5620 [3:22:43<48:21,  2.20s/it]"
     ]
    },
    {
     "name": "stdout",
     "output_type": "stream",
     "text": [
      "{'eval_loss': 0.36213696002960205, 'eval_wer': 0.3169207149906788, 'eval_runtime': 48.8194, 'eval_samples_per_second': 20.484, 'eval_steps_per_second': 2.56, 'epoch': 15.28}\n"
     ]
    },
    {
     "name": "stderr",
     "output_type": "stream",
     "text": [
      "/home/mehedi/anaconda3/envs/wav2vec/lib/python3.10/site-packages/transformers/models/wav2vec2/processing_wav2vec2.py:157: UserWarning: `as_target_processor` is deprecated and will be removed in v5 of Transformers. You can process your labels by using the argument `text` of the regular `__call__` method (either in the same call as your audio inputs, or in a separate call.\n",
      "  warnings.warn(\n",
      "/home/mehedi/anaconda3/envs/wav2vec/lib/python3.10/site-packages/torch/utils/checkpoint.py:295: FutureWarning: `torch.cpu.amp.autocast(args...)` is deprecated. Please use `torch.amp.autocast('cpu', args...)` instead.\n",
      "  with torch.enable_grad(), device_autocast_ctx, torch.cpu.amp.autocast(**ctx.cpu_autocast_kwargs):  # type: ignore[attr-defined]\n",
      " 77%|███████▋  | 4310/5620 [3:23:06<54:01,  2.47s/it]  "
     ]
    },
    {
     "name": "stdout",
     "output_type": "stream",
     "text": [
      "{'loss': 0.1677, 'grad_norm': 0.7845776677131653, 'learning_rate': 7.693359375e-05, 'epoch': 15.31}\n"
     ]
    },
    {
     "name": "stderr",
     "output_type": "stream",
     "text": [
      " 77%|███████▋  | 4320/5620 [3:23:21<31:21,  1.45s/it]"
     ]
    },
    {
     "name": "stdout",
     "output_type": "stream",
     "text": [
      "{'loss': 0.2092, 'grad_norm': 0.7857505679130554, 'learning_rate': 7.634765625e-05, 'epoch': 15.35}\n"
     ]
    },
    {
     "name": "stderr",
     "output_type": "stream",
     "text": [
      " 77%|███████▋  | 4330/5620 [3:23:52<1:11:58,  3.35s/it]"
     ]
    },
    {
     "name": "stdout",
     "output_type": "stream",
     "text": [
      "{'loss': 0.2062, 'grad_norm': 0.4955337345600128, 'learning_rate': 7.576171875e-05, 'epoch': 15.38}\n"
     ]
    },
    {
     "name": "stderr",
     "output_type": "stream",
     "text": [
      " 77%|███████▋  | 4340/5620 [3:24:20<55:41,  2.61s/it]  "
     ]
    },
    {
     "name": "stdout",
     "output_type": "stream",
     "text": [
      "{'loss': 0.202, 'grad_norm': 0.7213159203529358, 'learning_rate': 7.517578125e-05, 'epoch': 15.42}\n"
     ]
    },
    {
     "name": "stderr",
     "output_type": "stream",
     "text": [
      " 77%|███████▋  | 4350/5620 [3:24:42<45:55,  2.17s/it]"
     ]
    },
    {
     "name": "stdout",
     "output_type": "stream",
     "text": [
      "{'loss': 0.1713, 'grad_norm': 1.4341977834701538, 'learning_rate': 7.458984374999999e-05, 'epoch': 15.45}\n"
     ]
    },
    {
     "name": "stderr",
     "output_type": "stream",
     "text": [
      " 78%|███████▊  | 4360/5620 [3:25:01<38:21,  1.83s/it]"
     ]
    },
    {
     "name": "stdout",
     "output_type": "stream",
     "text": [
      "{'loss': 0.1739, 'grad_norm': 0.6799337863922119, 'learning_rate': 7.400390624999999e-05, 'epoch': 15.49}\n"
     ]
    },
    {
     "name": "stderr",
     "output_type": "stream",
     "text": [
      " 78%|███████▊  | 4370/5620 [3:25:17<30:00,  1.44s/it]"
     ]
    },
    {
     "name": "stdout",
     "output_type": "stream",
     "text": [
      "{'loss': 0.1765, 'grad_norm': 0.46740925312042236, 'learning_rate': 7.341796875e-05, 'epoch': 15.52}\n"
     ]
    },
    {
     "name": "stderr",
     "output_type": "stream",
     "text": [
      " 78%|███████▊  | 4380/5620 [3:25:47<1:07:40,  3.27s/it]"
     ]
    },
    {
     "name": "stdout",
     "output_type": "stream",
     "text": [
      "{'loss': 0.1988, 'grad_norm': 0.49797573685646057, 'learning_rate': 7.283203125e-05, 'epoch': 15.56}\n"
     ]
    },
    {
     "name": "stderr",
     "output_type": "stream",
     "text": [
      " 78%|███████▊  | 4390/5620 [3:26:15<54:12,  2.64s/it]  "
     ]
    },
    {
     "name": "stdout",
     "output_type": "stream",
     "text": [
      "{'loss': 0.1956, 'grad_norm': 0.38256776332855225, 'learning_rate': 7.224609374999999e-05, 'epoch': 15.6}\n"
     ]
    },
    {
     "name": "stderr",
     "output_type": "stream",
     "text": [
      " 78%|███████▊  | 4400/5620 [3:26:37<43:56,  2.16s/it]"
     ]
    },
    {
     "name": "stdout",
     "output_type": "stream",
     "text": [
      "{'loss': 0.1539, 'grad_norm': 0.5887414216995239, 'learning_rate': 7.166015624999999e-05, 'epoch': 15.63}\n"
     ]
    },
    {
     "name": "stderr",
     "output_type": "stream",
     "text": [
      "                                                     \n",
      " 78%|███████▊  | 4400/5620 [3:27:26<43:56,  2.16s/it]"
     ]
    },
    {
     "name": "stdout",
     "output_type": "stream",
     "text": [
      "{'eval_loss': 0.35361284017562866, 'eval_wer': 0.3125342691084549, 'eval_runtime': 48.8906, 'eval_samples_per_second': 20.454, 'eval_steps_per_second': 2.557, 'epoch': 15.63}\n"
     ]
    },
    {
     "name": "stderr",
     "output_type": "stream",
     "text": [
      "/home/mehedi/anaconda3/envs/wav2vec/lib/python3.10/site-packages/transformers/models/wav2vec2/processing_wav2vec2.py:157: UserWarning: `as_target_processor` is deprecated and will be removed in v5 of Transformers. You can process your labels by using the argument `text` of the regular `__call__` method (either in the same call as your audio inputs, or in a separate call.\n",
      "  warnings.warn(\n",
      "/home/mehedi/anaconda3/envs/wav2vec/lib/python3.10/site-packages/torch/utils/checkpoint.py:295: FutureWarning: `torch.cpu.amp.autocast(args...)` is deprecated. Please use `torch.amp.autocast('cpu', args...)` instead.\n",
      "  with torch.enable_grad(), device_autocast_ctx, torch.cpu.amp.autocast(**ctx.cpu_autocast_kwargs):  # type: ignore[attr-defined]\n",
      " 78%|███████▊  | 4410/5620 [3:27:48<48:47,  2.42s/it]  "
     ]
    },
    {
     "name": "stdout",
     "output_type": "stream",
     "text": [
      "{'loss': 0.1535, 'grad_norm': 0.5427671074867249, 'learning_rate': 7.107421875e-05, 'epoch': 15.67}\n"
     ]
    },
    {
     "name": "stderr",
     "output_type": "stream",
     "text": [
      " 79%|███████▊  | 4420/5620 [3:28:03<27:36,  1.38s/it]"
     ]
    },
    {
     "name": "stdout",
     "output_type": "stream",
     "text": [
      "{'loss': 0.1936, 'grad_norm': 1.527860403060913, 'learning_rate': 7.048828125e-05, 'epoch': 15.7}\n"
     ]
    },
    {
     "name": "stderr",
     "output_type": "stream",
     "text": [
      " 79%|███████▉  | 4430/5620 [3:28:33<1:03:38,  3.21s/it]"
     ]
    },
    {
     "name": "stdout",
     "output_type": "stream",
     "text": [
      "{'loss': 0.2099, 'grad_norm': 0.37093839049339294, 'learning_rate': 6.990234374999999e-05, 'epoch': 15.74}\n"
     ]
    },
    {
     "name": "stderr",
     "output_type": "stream",
     "text": [
      " 79%|███████▉  | 4440/5620 [3:29:02<53:36,  2.73s/it]  "
     ]
    },
    {
     "name": "stdout",
     "output_type": "stream",
     "text": [
      "{'loss': 0.1558, 'grad_norm': 0.4720085561275482, 'learning_rate': 6.931640624999999e-05, 'epoch': 15.77}\n"
     ]
    },
    {
     "name": "stderr",
     "output_type": "stream",
     "text": [
      " 79%|███████▉  | 4450/5620 [3:29:24<42:31,  2.18s/it]"
     ]
    },
    {
     "name": "stdout",
     "output_type": "stream",
     "text": [
      "{'loss': 0.1835, 'grad_norm': 0.46516281366348267, 'learning_rate': 6.873046875e-05, 'epoch': 15.81}\n"
     ]
    },
    {
     "name": "stderr",
     "output_type": "stream",
     "text": [
      " 79%|███████▉  | 4460/5620 [3:29:44<36:12,  1.87s/it]"
     ]
    },
    {
     "name": "stdout",
     "output_type": "stream",
     "text": [
      "{'loss': 0.1461, 'grad_norm': 0.8345612287521362, 'learning_rate': 6.814453125e-05, 'epoch': 15.84}\n"
     ]
    },
    {
     "name": "stderr",
     "output_type": "stream",
     "text": [
      " 80%|███████▉  | 4470/5620 [3:29:59<26:34,  1.39s/it]"
     ]
    },
    {
     "name": "stdout",
     "output_type": "stream",
     "text": [
      "{'loss': 0.1809, 'grad_norm': 0.9416826963424683, 'learning_rate': 6.755859374999999e-05, 'epoch': 15.88}\n"
     ]
    },
    {
     "name": "stderr",
     "output_type": "stream",
     "text": [
      " 80%|███████▉  | 4480/5620 [3:30:28<57:42,  3.04s/it]"
     ]
    },
    {
     "name": "stdout",
     "output_type": "stream",
     "text": [
      "{'loss': 0.1922, 'grad_norm': 0.29762741923332214, 'learning_rate': 6.697265624999999e-05, 'epoch': 15.91}\n"
     ]
    },
    {
     "name": "stderr",
     "output_type": "stream",
     "text": [
      " 80%|███████▉  | 4490/5620 [3:30:51<42:00,  2.23s/it]"
     ]
    },
    {
     "name": "stdout",
     "output_type": "stream",
     "text": [
      "{'loss': 0.1709, 'grad_norm': 0.5267624258995056, 'learning_rate': 6.638671875e-05, 'epoch': 15.95}\n"
     ]
    },
    {
     "name": "stderr",
     "output_type": "stream",
     "text": [
      " 80%|████████  | 4500/5620 [3:31:09<31:37,  1.69s/it]"
     ]
    },
    {
     "name": "stdout",
     "output_type": "stream",
     "text": [
      "{'loss': 0.1624, 'grad_norm': 0.7269221544265747, 'learning_rate': 6.580078125e-05, 'epoch': 15.99}\n"
     ]
    },
    {
     "name": "stderr",
     "output_type": "stream",
     "text": [
      "                                                     \n",
      " 80%|████████  | 4500/5620 [3:31:58<31:37,  1.69s/it]"
     ]
    },
    {
     "name": "stdout",
     "output_type": "stream",
     "text": [
      "{'eval_loss': 0.36460980772972107, 'eval_wer': 0.3069415506086194, 'eval_runtime': 48.6794, 'eval_samples_per_second': 20.543, 'eval_steps_per_second': 2.568, 'epoch': 15.99}\n"
     ]
    },
    {
     "name": "stderr",
     "output_type": "stream",
     "text": [
      "/home/mehedi/anaconda3/envs/wav2vec/lib/python3.10/site-packages/transformers/models/wav2vec2/processing_wav2vec2.py:157: UserWarning: `as_target_processor` is deprecated and will be removed in v5 of Transformers. You can process your labels by using the argument `text` of the regular `__call__` method (either in the same call as your audio inputs, or in a separate call.\n",
      "  warnings.warn(\n",
      "/home/mehedi/anaconda3/envs/wav2vec/lib/python3.10/site-packages/torch/utils/checkpoint.py:295: FutureWarning: `torch.cpu.amp.autocast(args...)` is deprecated. Please use `torch.amp.autocast('cpu', args...)` instead.\n",
      "  with torch.enable_grad(), device_autocast_ctx, torch.cpu.amp.autocast(**ctx.cpu_autocast_kwargs):  # type: ignore[attr-defined]\n",
      " 80%|████████  | 4510/5620 [3:32:29<1:12:10,  3.90s/it]"
     ]
    },
    {
     "name": "stdout",
     "output_type": "stream",
     "text": [
      "{'loss': 0.2223, 'grad_norm': 0.38482150435447693, 'learning_rate': 6.521484374999999e-05, 'epoch': 16.02}\n"
     ]
    },
    {
     "name": "stderr",
     "output_type": "stream",
     "text": [
      " 80%|████████  | 4520/5620 [3:32:57<49:24,  2.70s/it]  "
     ]
    },
    {
     "name": "stdout",
     "output_type": "stream",
     "text": [
      "{'loss': 0.1868, 'grad_norm': 0.6643146872520447, 'learning_rate': 6.462890624999999e-05, 'epoch': 16.06}\n"
     ]
    },
    {
     "name": "stderr",
     "output_type": "stream",
     "text": [
      " 81%|████████  | 4530/5620 [3:33:20<39:46,  2.19s/it]"
     ]
    },
    {
     "name": "stdout",
     "output_type": "stream",
     "text": [
      "{'loss': 0.1446, 'grad_norm': 0.6473674774169922, 'learning_rate': 6.404296875e-05, 'epoch': 16.09}\n"
     ]
    },
    {
     "name": "stderr",
     "output_type": "stream",
     "text": [
      " 81%|████████  | 4540/5620 [3:33:39<33:33,  1.86s/it]"
     ]
    },
    {
     "name": "stdout",
     "output_type": "stream",
     "text": [
      "{'loss': 0.1753, 'grad_norm': 0.7714102864265442, 'learning_rate': 6.345703125e-05, 'epoch': 16.13}\n"
     ]
    },
    {
     "name": "stderr",
     "output_type": "stream",
     "text": [
      " 81%|████████  | 4550/5620 [3:33:55<26:18,  1.48s/it]"
     ]
    },
    {
     "name": "stdout",
     "output_type": "stream",
     "text": [
      "{'loss': 0.1874, 'grad_norm': 2.978031873703003, 'learning_rate': 6.287109374999999e-05, 'epoch': 16.16}\n"
     ]
    },
    {
     "name": "stderr",
     "output_type": "stream",
     "text": [
      " 81%|████████  | 4560/5620 [3:34:22<59:32,  3.37s/it]"
     ]
    },
    {
     "name": "stdout",
     "output_type": "stream",
     "text": [
      "{'loss': 0.212, 'grad_norm': 0.3622574210166931, 'learning_rate': 6.228515624999999e-05, 'epoch': 16.2}\n"
     ]
    },
    {
     "name": "stderr",
     "output_type": "stream",
     "text": [
      " 81%|████████▏ | 4570/5620 [3:34:52<48:32,  2.77s/it]"
     ]
    },
    {
     "name": "stdout",
     "output_type": "stream",
     "text": [
      "{'loss': 0.1686, 'grad_norm': 0.7499713897705078, 'learning_rate': 6.169921874999999e-05, 'epoch': 16.23}\n"
     ]
    },
    {
     "name": "stderr",
     "output_type": "stream",
     "text": [
      " 81%|████████▏ | 4580/5620 [3:35:15<39:20,  2.27s/it]"
     ]
    },
    {
     "name": "stdout",
     "output_type": "stream",
     "text": [
      "{'loss': 0.1674, 'grad_norm': 0.5464836955070496, 'learning_rate': 6.111328125e-05, 'epoch': 16.27}\n"
     ]
    },
    {
     "name": "stderr",
     "output_type": "stream",
     "text": [
      " 82%|████████▏ | 4590/5620 [3:35:35<31:48,  1.85s/it]"
     ]
    },
    {
     "name": "stdout",
     "output_type": "stream",
     "text": [
      "{'loss': 0.1649, 'grad_norm': 0.6051888465881348, 'learning_rate': 6.0527343749999994e-05, 'epoch': 16.31}\n"
     ]
    },
    {
     "name": "stderr",
     "output_type": "stream",
     "text": [
      " 82%|████████▏ | 4600/5620 [3:35:51<25:48,  1.52s/it]"
     ]
    },
    {
     "name": "stdout",
     "output_type": "stream",
     "text": [
      "{'loss': 0.1671, 'grad_norm': 0.6264798641204834, 'learning_rate': 5.994140624999999e-05, 'epoch': 16.34}\n"
     ]
    },
    {
     "name": "stderr",
     "output_type": "stream",
     "text": [
      "                                                     \n",
      " 82%|████████▏ | 4600/5620 [3:36:40<25:48,  1.52s/it]"
     ]
    },
    {
     "name": "stdout",
     "output_type": "stream",
     "text": [
      "{'eval_loss': 0.3769599497318268, 'eval_wer': 0.3060642614321746, 'eval_runtime': 48.7932, 'eval_samples_per_second': 20.495, 'eval_steps_per_second': 2.562, 'epoch': 16.34}\n"
     ]
    },
    {
     "name": "stderr",
     "output_type": "stream",
     "text": [
      "/home/mehedi/anaconda3/envs/wav2vec/lib/python3.10/site-packages/transformers/models/wav2vec2/processing_wav2vec2.py:157: UserWarning: `as_target_processor` is deprecated and will be removed in v5 of Transformers. You can process your labels by using the argument `text` of the regular `__call__` method (either in the same call as your audio inputs, or in a separate call.\n",
      "  warnings.warn(\n",
      "/home/mehedi/anaconda3/envs/wav2vec/lib/python3.10/site-packages/torch/utils/checkpoint.py:295: FutureWarning: `torch.cpu.amp.autocast(args...)` is deprecated. Please use `torch.amp.autocast('cpu', args...)` instead.\n",
      "  with torch.enable_grad(), device_autocast_ctx, torch.cpu.amp.autocast(**ctx.cpu_autocast_kwargs):  # type: ignore[attr-defined]\n",
      " 82%|████████▏ | 4610/5620 [3:37:10<1:05:24,  3.89s/it]"
     ]
    },
    {
     "name": "stdout",
     "output_type": "stream",
     "text": [
      "{'loss': 0.2063, 'grad_norm': 0.4776245057582855, 'learning_rate': 5.9355468749999994e-05, 'epoch': 16.38}\n"
     ]
    },
    {
     "name": "stderr",
     "output_type": "stream",
     "text": [
      " 82%|████████▏ | 4620/5620 [3:37:40<46:19,  2.78s/it]  "
     ]
    },
    {
     "name": "stdout",
     "output_type": "stream",
     "text": [
      "{'loss': 0.1396, 'grad_norm': 0.4590265154838562, 'learning_rate': 5.876953124999999e-05, 'epoch': 16.41}\n"
     ]
    },
    {
     "name": "stderr",
     "output_type": "stream",
     "text": [
      " 82%|████████▏ | 4630/5620 [3:38:03<37:23,  2.27s/it]"
     ]
    },
    {
     "name": "stdout",
     "output_type": "stream",
     "text": [
      "{'loss': 0.1546, 'grad_norm': 0.5901877880096436, 'learning_rate': 5.8183593749999994e-05, 'epoch': 16.45}\n"
     ]
    },
    {
     "name": "stderr",
     "output_type": "stream",
     "text": [
      " 83%|████████▎ | 4640/5620 [3:38:23<31:13,  1.91s/it]"
     ]
    },
    {
     "name": "stdout",
     "output_type": "stream",
     "text": [
      "{'loss': 0.14, 'grad_norm': 0.4851406514644623, 'learning_rate': 5.759765624999999e-05, 'epoch': 16.48}\n"
     ]
    },
    {
     "name": "stderr",
     "output_type": "stream",
     "text": [
      " 83%|████████▎ | 4650/5620 [3:38:40<25:07,  1.55s/it]"
     ]
    },
    {
     "name": "stdout",
     "output_type": "stream",
     "text": [
      "{'loss': 0.1521, 'grad_norm': 0.5293036699295044, 'learning_rate': 5.7011718749999995e-05, 'epoch': 16.52}\n"
     ]
    },
    {
     "name": "stderr",
     "output_type": "stream",
     "text": [
      " 83%|████████▎ | 4660/5620 [3:39:07<52:00,  3.25s/it]"
     ]
    },
    {
     "name": "stdout",
     "output_type": "stream",
     "text": [
      "{'loss': 0.2084, 'grad_norm': 0.5118513107299805, 'learning_rate': 5.642578124999999e-05, 'epoch': 16.55}\n"
     ]
    },
    {
     "name": "stderr",
     "output_type": "stream",
     "text": [
      " 83%|████████▎ | 4670/5620 [3:39:36<43:45,  2.76s/it]"
     ]
    },
    {
     "name": "stdout",
     "output_type": "stream",
     "text": [
      "{'loss': 0.153, 'grad_norm': 0.32544341683387756, 'learning_rate': 5.5839843749999995e-05, 'epoch': 16.59}\n"
     ]
    },
    {
     "name": "stderr",
     "output_type": "stream",
     "text": [
      " 83%|████████▎ | 4680/5620 [3:39:59<35:04,  2.24s/it]"
     ]
    },
    {
     "name": "stdout",
     "output_type": "stream",
     "text": [
      "{'loss': 0.1554, 'grad_norm': 0.5809392929077148, 'learning_rate': 5.525390624999999e-05, 'epoch': 16.63}\n"
     ]
    },
    {
     "name": "stderr",
     "output_type": "stream",
     "text": [
      " 83%|████████▎ | 4690/5620 [3:40:19<28:59,  1.87s/it]"
     ]
    },
    {
     "name": "stdout",
     "output_type": "stream",
     "text": [
      "{'loss': 0.1522, 'grad_norm': 0.796394407749176, 'learning_rate': 5.4667968749999995e-05, 'epoch': 16.66}\n"
     ]
    },
    {
     "name": "stderr",
     "output_type": "stream",
     "text": [
      " 84%|████████▎ | 4700/5620 [3:40:35<23:26,  1.53s/it]"
     ]
    },
    {
     "name": "stdout",
     "output_type": "stream",
     "text": [
      "{'loss': 0.1813, 'grad_norm': 0.8162314295768738, 'learning_rate': 5.408203124999999e-05, 'epoch': 16.7}\n"
     ]
    },
    {
     "name": "stderr",
     "output_type": "stream",
     "text": [
      "                                                     \n",
      " 84%|████████▎ | 4700/5620 [3:41:24<23:26,  1.53s/it]"
     ]
    },
    {
     "name": "stdout",
     "output_type": "stream",
     "text": [
      "{'eval_loss': 0.3682938814163208, 'eval_wer': 0.30639324487334135, 'eval_runtime': 48.8048, 'eval_samples_per_second': 20.49, 'eval_steps_per_second': 2.561, 'epoch': 16.7}\n"
     ]
    },
    {
     "name": "stderr",
     "output_type": "stream",
     "text": [
      "/home/mehedi/anaconda3/envs/wav2vec/lib/python3.10/site-packages/transformers/models/wav2vec2/processing_wav2vec2.py:157: UserWarning: `as_target_processor` is deprecated and will be removed in v5 of Transformers. You can process your labels by using the argument `text` of the regular `__call__` method (either in the same call as your audio inputs, or in a separate call.\n",
      "  warnings.warn(\n",
      "/home/mehedi/anaconda3/envs/wav2vec/lib/python3.10/site-packages/torch/utils/checkpoint.py:295: FutureWarning: `torch.cpu.amp.autocast(args...)` is deprecated. Please use `torch.amp.autocast('cpu', args...)` instead.\n",
      "  with torch.enable_grad(), device_autocast_ctx, torch.cpu.amp.autocast(**ctx.cpu_autocast_kwargs):  # type: ignore[attr-defined]\n",
      " 84%|████████▍ | 4710/5620 [3:41:54<58:08,  3.83s/it]  "
     ]
    },
    {
     "name": "stdout",
     "output_type": "stream",
     "text": [
      "{'loss': 0.2182, 'grad_norm': 0.4152032732963562, 'learning_rate': 5.3496093749999995e-05, 'epoch': 16.73}\n"
     ]
    },
    {
     "name": "stderr",
     "output_type": "stream",
     "text": [
      " 84%|████████▍ | 4720/5620 [3:42:23<40:27,  2.70s/it]"
     ]
    },
    {
     "name": "stdout",
     "output_type": "stream",
     "text": [
      "{'loss': 0.188, 'grad_norm': 1.4418485164642334, 'learning_rate': 5.291015624999999e-05, 'epoch': 16.77}\n"
     ]
    },
    {
     "name": "stderr",
     "output_type": "stream",
     "text": [
      " 84%|████████▍ | 4730/5620 [3:42:46<33:02,  2.23s/it]"
     ]
    },
    {
     "name": "stdout",
     "output_type": "stream",
     "text": [
      "{'loss': 0.1628, 'grad_norm': 1.1482795476913452, 'learning_rate': 5.2324218749999996e-05, 'epoch': 16.8}\n"
     ]
    },
    {
     "name": "stderr",
     "output_type": "stream",
     "text": [
      " 84%|████████▍ | 4740/5620 [3:43:06<27:01,  1.84s/it]"
     ]
    },
    {
     "name": "stdout",
     "output_type": "stream",
     "text": [
      "{'loss': 0.1711, 'grad_norm': 0.5839106440544128, 'learning_rate': 5.173828124999999e-05, 'epoch': 16.84}\n"
     ]
    },
    {
     "name": "stderr",
     "output_type": "stream",
     "text": [
      " 85%|████████▍ | 4750/5620 [3:43:22<22:12,  1.53s/it]"
     ]
    },
    {
     "name": "stdout",
     "output_type": "stream",
     "text": [
      "{'loss': 0.1653, 'grad_norm': 0.6426301002502441, 'learning_rate': 5.1152343749999996e-05, 'epoch': 16.87}\n"
     ]
    },
    {
     "name": "stderr",
     "output_type": "stream",
     "text": [
      " 85%|████████▍ | 4760/5620 [3:43:48<43:37,  3.04s/it]"
     ]
    },
    {
     "name": "stdout",
     "output_type": "stream",
     "text": [
      "{'loss': 0.1918, 'grad_norm': 0.4514966607093811, 'learning_rate': 5.056640624999999e-05, 'epoch': 16.91}\n"
     ]
    },
    {
     "name": "stderr",
     "output_type": "stream",
     "text": [
      " 85%|████████▍ | 4770/5620 [3:44:12<32:16,  2.28s/it]"
     ]
    },
    {
     "name": "stdout",
     "output_type": "stream",
     "text": [
      "{'loss': 0.1665, 'grad_norm': 0.5400128364562988, 'learning_rate': 4.9980468749999996e-05, 'epoch': 16.94}\n"
     ]
    },
    {
     "name": "stderr",
     "output_type": "stream",
     "text": [
      " 85%|████████▌ | 4780/5620 [3:44:31<24:54,  1.78s/it]"
     ]
    },
    {
     "name": "stdout",
     "output_type": "stream",
     "text": [
      "{'loss': 0.1505, 'grad_norm': 1.03361976146698, 'learning_rate': 4.939453124999999e-05, 'epoch': 16.98}\n"
     ]
    },
    {
     "name": "stderr",
     "output_type": "stream",
     "text": [
      " 85%|████████▌ | 4790/5620 [3:44:56<45:01,  3.26s/it]"
     ]
    },
    {
     "name": "stdout",
     "output_type": "stream",
     "text": [
      "{'loss': 0.1961, 'grad_norm': 0.49317067861557007, 'learning_rate': 4.880859375e-05, 'epoch': 17.02}\n"
     ]
    },
    {
     "name": "stderr",
     "output_type": "stream",
     "text": [
      " 85%|████████▌ | 4800/5620 [3:45:26<39:42,  2.90s/it]"
     ]
    },
    {
     "name": "stdout",
     "output_type": "stream",
     "text": [
      "{'loss': 0.1511, 'grad_norm': 0.3150726854801178, 'learning_rate': 4.8222656249999993e-05, 'epoch': 17.05}\n"
     ]
    },
    {
     "name": "stderr",
     "output_type": "stream",
     "text": [
      "                                                     \n",
      " 85%|████████▌ | 4800/5620 [3:46:15<39:42,  2.90s/it]"
     ]
    },
    {
     "name": "stdout",
     "output_type": "stream",
     "text": [
      "{'eval_loss': 0.36098113656044006, 'eval_wer': 0.2974010308147823, 'eval_runtime': 48.8323, 'eval_samples_per_second': 20.478, 'eval_steps_per_second': 2.56, 'epoch': 17.05}\n"
     ]
    },
    {
     "name": "stderr",
     "output_type": "stream",
     "text": [
      "/home/mehedi/anaconda3/envs/wav2vec/lib/python3.10/site-packages/transformers/models/wav2vec2/processing_wav2vec2.py:157: UserWarning: `as_target_processor` is deprecated and will be removed in v5 of Transformers. You can process your labels by using the argument `text` of the regular `__call__` method (either in the same call as your audio inputs, or in a separate call.\n",
      "  warnings.warn(\n",
      "/home/mehedi/anaconda3/envs/wav2vec/lib/python3.10/site-packages/torch/utils/checkpoint.py:295: FutureWarning: `torch.cpu.amp.autocast(args...)` is deprecated. Please use `torch.amp.autocast('cpu', args...)` instead.\n",
      "  with torch.enable_grad(), device_autocast_ctx, torch.cpu.amp.autocast(**ctx.cpu_autocast_kwargs):  # type: ignore[attr-defined]\n",
      " 86%|████████▌ | 4810/5620 [3:46:43<40:04,  2.97s/it]  "
     ]
    },
    {
     "name": "stdout",
     "output_type": "stream",
     "text": [
      "{'loss': 0.1962, 'grad_norm': 0.3795250952243805, 'learning_rate': 4.763671875e-05, 'epoch': 17.09}\n"
     ]
    },
    {
     "name": "stderr",
     "output_type": "stream",
     "text": [
      " 86%|████████▌ | 4820/5620 [3:47:03<26:11,  1.96s/it]"
     ]
    },
    {
     "name": "stdout",
     "output_type": "stream",
     "text": [
      "{'loss': 0.1718, 'grad_norm': 0.4372929036617279, 'learning_rate': 4.7050781249999994e-05, 'epoch': 17.12}\n"
     ]
    },
    {
     "name": "stderr",
     "output_type": "stream",
     "text": [
      " 86%|████████▌ | 4830/5620 [3:47:20<21:31,  1.63s/it]"
     ]
    },
    {
     "name": "stdout",
     "output_type": "stream",
     "text": [
      "{'loss': 0.1752, 'grad_norm': 0.4801253080368042, 'learning_rate': 4.646484375e-05, 'epoch': 17.16}\n"
     ]
    },
    {
     "name": "stderr",
     "output_type": "stream",
     "text": [
      " 86%|████████▌ | 4840/5620 [3:47:44<41:49,  3.22s/it]"
     ]
    },
    {
     "name": "stdout",
     "output_type": "stream",
     "text": [
      "{'loss': 0.2127, 'grad_norm': 0.4030115008354187, 'learning_rate': 4.5878906249999994e-05, 'epoch': 17.19}\n"
     ]
    },
    {
     "name": "stderr",
     "output_type": "stream",
     "text": [
      " 86%|████████▋ | 4850/5620 [3:48:14<36:02,  2.81s/it]"
     ]
    },
    {
     "name": "stdout",
     "output_type": "stream",
     "text": [
      "{'loss': 0.2005, 'grad_norm': 0.2878894507884979, 'learning_rate': 4.529296875e-05, 'epoch': 17.23}\n"
     ]
    },
    {
     "name": "stderr",
     "output_type": "stream",
     "text": [
      " 86%|████████▋ | 4860/5620 [3:48:38<29:00,  2.29s/it]"
     ]
    },
    {
     "name": "stdout",
     "output_type": "stream",
     "text": [
      "{'loss': 0.1554, 'grad_norm': 0.5758928060531616, 'learning_rate': 4.4707031249999994e-05, 'epoch': 17.26}\n"
     ]
    },
    {
     "name": "stderr",
     "output_type": "stream",
     "text": [
      " 87%|████████▋ | 4870/5620 [3:48:57<23:43,  1.90s/it]"
     ]
    },
    {
     "name": "stdout",
     "output_type": "stream",
     "text": [
      "{'loss': 0.1512, 'grad_norm': 0.4895685017108917, 'learning_rate': 4.412109374999999e-05, 'epoch': 17.3}\n"
     ]
    },
    {
     "name": "stderr",
     "output_type": "stream",
     "text": [
      " 87%|████████▋ | 4880/5620 [3:49:14<19:20,  1.57s/it]"
     ]
    },
    {
     "name": "stdout",
     "output_type": "stream",
     "text": [
      "{'loss': 0.1935, 'grad_norm': 0.7117341160774231, 'learning_rate': 4.3535156249999995e-05, 'epoch': 17.34}\n"
     ]
    },
    {
     "name": "stderr",
     "output_type": "stream",
     "text": [
      " 87%|████████▋ | 4890/5620 [3:49:38<38:45,  3.19s/it]"
     ]
    },
    {
     "name": "stdout",
     "output_type": "stream",
     "text": [
      "{'loss': 0.1847, 'grad_norm': 0.49021822214126587, 'learning_rate': 4.294921874999999e-05, 'epoch': 17.37}\n"
     ]
    },
    {
     "name": "stderr",
     "output_type": "stream",
     "text": [
      " 87%|████████▋ | 4900/5620 [3:50:08<33:19,  2.78s/it]"
     ]
    },
    {
     "name": "stdout",
     "output_type": "stream",
     "text": [
      "{'loss': 0.1762, 'grad_norm': 0.5106465220451355, 'learning_rate': 4.2363281249999995e-05, 'epoch': 17.41}\n"
     ]
    },
    {
     "name": "stderr",
     "output_type": "stream",
     "text": [
      "                                                     \n",
      " 87%|████████▋ | 4900/5620 [3:50:57<33:19,  2.78s/it]"
     ]
    },
    {
     "name": "stdout",
     "output_type": "stream",
     "text": [
      "{'eval_loss': 0.3623703718185425, 'eval_wer': 0.30156815440289503, 'eval_runtime': 48.818, 'eval_samples_per_second': 20.484, 'eval_steps_per_second': 2.561, 'epoch': 17.41}\n"
     ]
    },
    {
     "name": "stderr",
     "output_type": "stream",
     "text": [
      "/home/mehedi/anaconda3/envs/wav2vec/lib/python3.10/site-packages/transformers/models/wav2vec2/processing_wav2vec2.py:157: UserWarning: `as_target_processor` is deprecated and will be removed in v5 of Transformers. You can process your labels by using the argument `text` of the regular `__call__` method (either in the same call as your audio inputs, or in a separate call.\n",
      "  warnings.warn(\n",
      "/home/mehedi/anaconda3/envs/wav2vec/lib/python3.10/site-packages/torch/utils/checkpoint.py:295: FutureWarning: `torch.cpu.amp.autocast(args...)` is deprecated. Please use `torch.amp.autocast('cpu', args...)` instead.\n",
      "  with torch.enable_grad(), device_autocast_ctx, torch.cpu.amp.autocast(**ctx.cpu_autocast_kwargs):  # type: ignore[attr-defined]\n",
      " 87%|████████▋ | 4910/5620 [3:51:25<34:57,  2.95s/it]  "
     ]
    },
    {
     "name": "stdout",
     "output_type": "stream",
     "text": [
      "{'loss': 0.1628, 'grad_norm': 0.46562302112579346, 'learning_rate': 4.177734374999999e-05, 'epoch': 17.44}\n"
     ]
    },
    {
     "name": "stderr",
     "output_type": "stream",
     "text": [
      " 88%|████████▊ | 4920/5620 [3:51:44<22:09,  1.90s/it]"
     ]
    },
    {
     "name": "stdout",
     "output_type": "stream",
     "text": [
      "{'loss': 0.1604, 'grad_norm': 0.6501423120498657, 'learning_rate': 4.1191406249999995e-05, 'epoch': 17.48}\n"
     ]
    },
    {
     "name": "stderr",
     "output_type": "stream",
     "text": [
      " 88%|████████▊ | 4930/5620 [3:52:00<17:58,  1.56s/it]"
     ]
    },
    {
     "name": "stdout",
     "output_type": "stream",
     "text": [
      "{'loss': 0.1976, 'grad_norm': 0.7450883388519287, 'learning_rate': 4.060546874999999e-05, 'epoch': 17.51}\n"
     ]
    },
    {
     "name": "stderr",
     "output_type": "stream",
     "text": [
      " 88%|████████▊ | 4940/5620 [3:52:24<35:40,  3.15s/it]"
     ]
    },
    {
     "name": "stdout",
     "output_type": "stream",
     "text": [
      "{'loss': 0.1997, 'grad_norm': 0.4296319782733917, 'learning_rate': 4.0019531249999996e-05, 'epoch': 17.55}\n"
     ]
    },
    {
     "name": "stderr",
     "output_type": "stream",
     "text": [
      " 88%|████████▊ | 4950/5620 [3:52:53<30:40,  2.75s/it]"
     ]
    },
    {
     "name": "stdout",
     "output_type": "stream",
     "text": [
      "{'loss': 0.1448, 'grad_norm': 0.47646600008010864, 'learning_rate': 3.943359374999999e-05, 'epoch': 17.58}\n"
     ]
    },
    {
     "name": "stderr",
     "output_type": "stream",
     "text": [
      " 88%|████████▊ | 4960/5620 [3:53:17<24:56,  2.27s/it]"
     ]
    },
    {
     "name": "stdout",
     "output_type": "stream",
     "text": [
      "{'loss': 0.1435, 'grad_norm': 0.4175063669681549, 'learning_rate': 3.8847656249999996e-05, 'epoch': 17.62}\n"
     ]
    },
    {
     "name": "stderr",
     "output_type": "stream",
     "text": [
      " 88%|████████▊ | 4970/5620 [3:53:37<20:56,  1.93s/it]"
     ]
    },
    {
     "name": "stdout",
     "output_type": "stream",
     "text": [
      "{'loss': 0.1452, 'grad_norm': 0.43021801114082336, 'learning_rate': 3.826171874999999e-05, 'epoch': 17.66}\n"
     ]
    },
    {
     "name": "stderr",
     "output_type": "stream",
     "text": [
      " 89%|████████▊ | 4980/5620 [3:53:53<16:48,  1.58s/it]"
     ]
    },
    {
     "name": "stdout",
     "output_type": "stream",
     "text": [
      "{'loss': 0.1631, 'grad_norm': 0.8445967435836792, 'learning_rate': 3.7675781249999996e-05, 'epoch': 17.69}\n"
     ]
    },
    {
     "name": "stderr",
     "output_type": "stream",
     "text": [
      " 89%|████████▉ | 4990/5620 [3:54:17<34:09,  3.25s/it]"
     ]
    },
    {
     "name": "stdout",
     "output_type": "stream",
     "text": [
      "{'loss': 0.1898, 'grad_norm': 0.2533028721809387, 'learning_rate': 3.708984374999999e-05, 'epoch': 17.73}\n"
     ]
    },
    {
     "name": "stderr",
     "output_type": "stream",
     "text": [
      " 89%|████████▉ | 5000/5620 [3:54:47<28:57,  2.80s/it]"
     ]
    },
    {
     "name": "stdout",
     "output_type": "stream",
     "text": [
      "{'loss': 0.1735, 'grad_norm': 0.4099242389202118, 'learning_rate': 3.650390625e-05, 'epoch': 17.76}\n"
     ]
    },
    {
     "name": "stderr",
     "output_type": "stream",
     "text": [
      "                                                     \n",
      " 89%|████████▉ | 5000/5620 [3:55:36<28:57,  2.80s/it]"
     ]
    },
    {
     "name": "stdout",
     "output_type": "stream",
     "text": [
      "{'eval_loss': 0.36205601692199707, 'eval_wer': 0.3001425594911723, 'eval_runtime': 48.796, 'eval_samples_per_second': 20.493, 'eval_steps_per_second': 2.562, 'epoch': 17.76}\n"
     ]
    },
    {
     "name": "stderr",
     "output_type": "stream",
     "text": [
      "/home/mehedi/anaconda3/envs/wav2vec/lib/python3.10/site-packages/transformers/models/wav2vec2/processing_wav2vec2.py:157: UserWarning: `as_target_processor` is deprecated and will be removed in v5 of Transformers. You can process your labels by using the argument `text` of the regular `__call__` method (either in the same call as your audio inputs, or in a separate call.\n",
      "  warnings.warn(\n",
      "/home/mehedi/anaconda3/envs/wav2vec/lib/python3.10/site-packages/torch/utils/checkpoint.py:295: FutureWarning: `torch.cpu.amp.autocast(args...)` is deprecated. Please use `torch.amp.autocast('cpu', args...)` instead.\n",
      "  with torch.enable_grad(), device_autocast_ctx, torch.cpu.amp.autocast(**ctx.cpu_autocast_kwargs):  # type: ignore[attr-defined]\n",
      " 89%|████████▉ | 5010/5620 [3:56:03<29:49,  2.93s/it]  "
     ]
    },
    {
     "name": "stdout",
     "output_type": "stream",
     "text": [
      "{'loss': 0.1631, 'grad_norm': 0.4571288824081421, 'learning_rate': 3.5917968749999993e-05, 'epoch': 17.8}\n"
     ]
    },
    {
     "name": "stderr",
     "output_type": "stream",
     "text": [
      " 89%|████████▉ | 5020/5620 [3:56:23<19:23,  1.94s/it]"
     ]
    },
    {
     "name": "stdout",
     "output_type": "stream",
     "text": [
      "{'loss': 0.1547, 'grad_norm': 0.43032509088516235, 'learning_rate': 3.533203125e-05, 'epoch': 17.83}\n"
     ]
    },
    {
     "name": "stderr",
     "output_type": "stream",
     "text": [
      " 90%|████████▉ | 5030/5620 [3:56:40<15:23,  1.57s/it]"
     ]
    },
    {
     "name": "stdout",
     "output_type": "stream",
     "text": [
      "{'loss': 0.1753, 'grad_norm': 0.6968296766281128, 'learning_rate': 3.4746093749999994e-05, 'epoch': 17.87}\n"
     ]
    },
    {
     "name": "stderr",
     "output_type": "stream",
     "text": [
      " 90%|████████▉ | 5040/5620 [3:57:03<29:30,  3.05s/it]"
     ]
    },
    {
     "name": "stdout",
     "output_type": "stream",
     "text": [
      "{'loss': 0.2067, 'grad_norm': 0.45484575629234314, 'learning_rate': 3.416015625e-05, 'epoch': 17.9}\n"
     ]
    },
    {
     "name": "stderr",
     "output_type": "stream",
     "text": [
      " 90%|████████▉ | 5050/5620 [3:57:30<23:22,  2.46s/it]"
     ]
    },
    {
     "name": "stdout",
     "output_type": "stream",
     "text": [
      "{'loss': 0.1545, 'grad_norm': 0.48106032609939575, 'learning_rate': 3.3574218749999994e-05, 'epoch': 17.94}\n"
     ]
    },
    {
     "name": "stderr",
     "output_type": "stream",
     "text": [
      " 90%|█████████ | 5060/5620 [3:57:49<16:55,  1.81s/it]"
     ]
    },
    {
     "name": "stdout",
     "output_type": "stream",
     "text": [
      "{'loss': 0.18, 'grad_norm': 0.764659583568573, 'learning_rate': 3.298828125e-05, 'epoch': 17.98}\n"
     ]
    },
    {
     "name": "stderr",
     "output_type": "stream",
     "text": [
      " 90%|█████████ | 5070/5620 [3:58:10<27:05,  2.95s/it]"
     ]
    },
    {
     "name": "stdout",
     "output_type": "stream",
     "text": [
      "{'loss': 0.1934, 'grad_norm': 0.33120498061180115, 'learning_rate': 3.2402343749999994e-05, 'epoch': 18.01}\n"
     ]
    },
    {
     "name": "stderr",
     "output_type": "stream",
     "text": [
      " 90%|█████████ | 5080/5620 [3:58:43<26:43,  2.97s/it]"
     ]
    },
    {
     "name": "stdout",
     "output_type": "stream",
     "text": [
      "{'loss': 0.133, 'grad_norm': 0.3713156282901764, 'learning_rate': 3.181640625e-05, 'epoch': 18.05}\n"
     ]
    },
    {
     "name": "stderr",
     "output_type": "stream",
     "text": [
      " 91%|█████████ | 5090/5620 [3:59:08<21:17,  2.41s/it]"
     ]
    },
    {
     "name": "stdout",
     "output_type": "stream",
     "text": [
      "{'loss': 0.1609, 'grad_norm': 0.5368723273277283, 'learning_rate': 3.1230468749999995e-05, 'epoch': 18.08}\n"
     ]
    },
    {
     "name": "stderr",
     "output_type": "stream",
     "text": [
      " 91%|█████████ | 5100/5620 [3:59:29<17:39,  2.04s/it]"
     ]
    },
    {
     "name": "stdout",
     "output_type": "stream",
     "text": [
      "{'loss': 0.1562, 'grad_norm': 0.4230067729949951, 'learning_rate': 3.064453125e-05, 'epoch': 18.12}\n"
     ]
    },
    {
     "name": "stderr",
     "output_type": "stream",
     "text": [
      "                                                     \n",
      " 91%|█████████ | 5100/5620 [4:00:17<17:39,  2.04s/it]"
     ]
    },
    {
     "name": "stdout",
     "output_type": "stream",
     "text": [
      "{'eval_loss': 0.361026793718338, 'eval_wer': 0.30123917096172825, 'eval_runtime': 48.7042, 'eval_samples_per_second': 20.532, 'eval_steps_per_second': 2.567, 'epoch': 18.12}\n"
     ]
    },
    {
     "name": "stderr",
     "output_type": "stream",
     "text": [
      "/home/mehedi/anaconda3/envs/wav2vec/lib/python3.10/site-packages/transformers/models/wav2vec2/processing_wav2vec2.py:157: UserWarning: `as_target_processor` is deprecated and will be removed in v5 of Transformers. You can process your labels by using the argument `text` of the regular `__call__` method (either in the same call as your audio inputs, or in a separate call.\n",
      "  warnings.warn(\n",
      "/home/mehedi/anaconda3/envs/wav2vec/lib/python3.10/site-packages/torch/utils/checkpoint.py:295: FutureWarning: `torch.cpu.amp.autocast(args...)` is deprecated. Please use `torch.amp.autocast('cpu', args...)` instead.\n",
      "  with torch.enable_grad(), device_autocast_ctx, torch.cpu.amp.autocast(**ctx.cpu_autocast_kwargs):  # type: ignore[attr-defined]\n",
      " 91%|█████████ | 5110/5620 [4:00:38<19:23,  2.28s/it]  "
     ]
    },
    {
     "name": "stdout",
     "output_type": "stream",
     "text": [
      "{'loss': 0.1551, 'grad_norm': 0.6223829388618469, 'learning_rate': 3.0058593749999995e-05, 'epoch': 18.15}\n"
     ]
    },
    {
     "name": "stderr",
     "output_type": "stream",
     "text": [
      " 91%|█████████ | 5120/5620 [4:01:00<25:32,  3.06s/it]"
     ]
    },
    {
     "name": "stdout",
     "output_type": "stream",
     "text": [
      "{'loss': 0.1943, 'grad_norm': 0.38995596766471863, 'learning_rate': 2.9472656249999995e-05, 'epoch': 18.19}\n"
     ]
    },
    {
     "name": "stderr",
     "output_type": "stream",
     "text": [
      " 91%|█████████▏| 5130/5620 [4:01:32<23:57,  2.93s/it]"
     ]
    },
    {
     "name": "stdout",
     "output_type": "stream",
     "text": [
      "{'loss': 0.1507, 'grad_norm': 0.6230383515357971, 'learning_rate': 2.8886718749999995e-05, 'epoch': 18.22}\n"
     ]
    },
    {
     "name": "stderr",
     "output_type": "stream",
     "text": [
      " 91%|█████████▏| 5140/5620 [4:01:57<19:08,  2.39s/it]"
     ]
    },
    {
     "name": "stdout",
     "output_type": "stream",
     "text": [
      "{'loss': 0.1543, 'grad_norm': 0.3461016118526459, 'learning_rate': 2.8300781249999995e-05, 'epoch': 18.26}\n"
     ]
    },
    {
     "name": "stderr",
     "output_type": "stream",
     "text": [
      " 92%|█████████▏| 5150/5620 [4:02:17<15:09,  1.94s/it]"
     ]
    },
    {
     "name": "stdout",
     "output_type": "stream",
     "text": [
      "{'loss': 0.1515, 'grad_norm': 0.43382149934768677, 'learning_rate': 2.7714843749999996e-05, 'epoch': 18.29}\n"
     ]
    },
    {
     "name": "stderr",
     "output_type": "stream",
     "text": [
      " 92%|█████████▏| 5160/5620 [4:02:34<12:23,  1.62s/it]"
     ]
    },
    {
     "name": "stdout",
     "output_type": "stream",
     "text": [
      "{'loss': 0.1799, 'grad_norm': 0.46505922079086304, 'learning_rate': 2.7128906249999996e-05, 'epoch': 18.33}\n"
     ]
    },
    {
     "name": "stderr",
     "output_type": "stream",
     "text": [
      " 92%|█████████▏| 5170/5620 [4:02:55<22:25,  2.99s/it]"
     ]
    },
    {
     "name": "stdout",
     "output_type": "stream",
     "text": [
      "{'loss': 0.1736, 'grad_norm': 0.46958088874816895, 'learning_rate': 2.6542968749999996e-05, 'epoch': 18.37}\n"
     ]
    },
    {
     "name": "stderr",
     "output_type": "stream",
     "text": [
      " 92%|█████████▏| 5180/5620 [4:03:27<21:47,  2.97s/it]"
     ]
    },
    {
     "name": "stdout",
     "output_type": "stream",
     "text": [
      "{'loss': 0.1439, 'grad_norm': 0.4202677011489868, 'learning_rate': 2.5957031249999996e-05, 'epoch': 18.4}\n"
     ]
    },
    {
     "name": "stderr",
     "output_type": "stream",
     "text": [
      " 92%|█████████▏| 5190/5620 [4:03:51<16:35,  2.31s/it]"
     ]
    },
    {
     "name": "stdout",
     "output_type": "stream",
     "text": [
      "{'loss': 0.1624, 'grad_norm': 0.5942394137382507, 'learning_rate': 2.5371093749999996e-05, 'epoch': 18.44}\n"
     ]
    },
    {
     "name": "stderr",
     "output_type": "stream",
     "text": [
      " 93%|█████████▎| 5200/5620 [4:04:12<13:45,  1.97s/it]"
     ]
    },
    {
     "name": "stdout",
     "output_type": "stream",
     "text": [
      "{'loss': 0.1474, 'grad_norm': 0.6587716937065125, 'learning_rate': 2.4785156249999996e-05, 'epoch': 18.47}\n"
     ]
    },
    {
     "name": "stderr",
     "output_type": "stream",
     "text": [
      "                                                     \n",
      " 93%|█████████▎| 5200/5620 [4:05:00<13:45,  1.97s/it]"
     ]
    },
    {
     "name": "stdout",
     "output_type": "stream",
     "text": [
      "{'eval_loss': 0.3610471487045288, 'eval_wer': 0.2978396754030047, 'eval_runtime': 48.6273, 'eval_samples_per_second': 20.565, 'eval_steps_per_second': 2.571, 'epoch': 18.47}\n"
     ]
    },
    {
     "name": "stderr",
     "output_type": "stream",
     "text": [
      "/home/mehedi/anaconda3/envs/wav2vec/lib/python3.10/site-packages/transformers/models/wav2vec2/processing_wav2vec2.py:157: UserWarning: `as_target_processor` is deprecated and will be removed in v5 of Transformers. You can process your labels by using the argument `text` of the regular `__call__` method (either in the same call as your audio inputs, or in a separate call.\n",
      "  warnings.warn(\n",
      "/home/mehedi/anaconda3/envs/wav2vec/lib/python3.10/site-packages/torch/utils/checkpoint.py:295: FutureWarning: `torch.cpu.amp.autocast(args...)` is deprecated. Please use `torch.amp.autocast('cpu', args...)` instead.\n",
      "  with torch.enable_grad(), device_autocast_ctx, torch.cpu.amp.autocast(**ctx.cpu_autocast_kwargs):  # type: ignore[attr-defined]\n",
      " 93%|█████████▎| 5210/5620 [4:05:21<15:29,  2.27s/it]  "
     ]
    },
    {
     "name": "stdout",
     "output_type": "stream",
     "text": [
      "{'loss': 0.1627, 'grad_norm': 0.6769352555274963, 'learning_rate': 2.4199218749999997e-05, 'epoch': 18.51}\n"
     ]
    },
    {
     "name": "stderr",
     "output_type": "stream",
     "text": [
      " 93%|█████████▎| 5220/5620 [4:05:42<20:23,  3.06s/it]"
     ]
    },
    {
     "name": "stdout",
     "output_type": "stream",
     "text": [
      "{'loss': 0.1843, 'grad_norm': 0.33735695481300354, 'learning_rate': 2.3613281249999997e-05, 'epoch': 18.54}\n"
     ]
    },
    {
     "name": "stderr",
     "output_type": "stream",
     "text": [
      " 93%|█████████▎| 5230/5620 [4:06:13<18:32,  2.85s/it]"
     ]
    },
    {
     "name": "stdout",
     "output_type": "stream",
     "text": [
      "{'loss': 0.1685, 'grad_norm': 0.6343465447425842, 'learning_rate': 2.3027343749999997e-05, 'epoch': 18.58}\n"
     ]
    },
    {
     "name": "stderr",
     "output_type": "stream",
     "text": [
      " 93%|█████████▎| 5240/5620 [4:06:37<14:06,  2.23s/it]"
     ]
    },
    {
     "name": "stdout",
     "output_type": "stream",
     "text": [
      "{'loss': 0.1633, 'grad_norm': 0.6121971607208252, 'learning_rate': 2.2441406249999997e-05, 'epoch': 18.61}\n"
     ]
    },
    {
     "name": "stderr",
     "output_type": "stream",
     "text": [
      " 93%|█████████▎| 5250/5620 [4:06:58<12:03,  1.95s/it]"
     ]
    },
    {
     "name": "stdout",
     "output_type": "stream",
     "text": [
      "{'loss': 0.1453, 'grad_norm': 0.628470242023468, 'learning_rate': 2.1855468749999997e-05, 'epoch': 18.65}\n"
     ]
    },
    {
     "name": "stderr",
     "output_type": "stream",
     "text": [
      " 94%|█████████▎| 5260/5620 [4:07:15<09:55,  1.65s/it]"
     ]
    },
    {
     "name": "stdout",
     "output_type": "stream",
     "text": [
      "{'loss': 0.1578, 'grad_norm': 0.688391923904419, 'learning_rate': 2.1269531249999997e-05, 'epoch': 18.69}\n"
     ]
    },
    {
     "name": "stderr",
     "output_type": "stream",
     "text": [
      " 94%|█████████▍| 5270/5620 [4:07:36<17:20,  2.97s/it]"
     ]
    },
    {
     "name": "stdout",
     "output_type": "stream",
     "text": [
      "{'loss': 0.2087, 'grad_norm': 0.493335485458374, 'learning_rate': 2.0683593749999997e-05, 'epoch': 18.72}\n"
     ]
    },
    {
     "name": "stderr",
     "output_type": "stream",
     "text": [
      " 94%|█████████▍| 5280/5620 [4:08:07<16:24,  2.89s/it]"
     ]
    },
    {
     "name": "stdout",
     "output_type": "stream",
     "text": [
      "{'loss': 0.1479, 'grad_norm': 0.39573994278907776, 'learning_rate': 2.0097656249999998e-05, 'epoch': 18.76}\n"
     ]
    },
    {
     "name": "stderr",
     "output_type": "stream",
     "text": [
      " 94%|█████████▍| 5290/5620 [4:08:31<12:43,  2.31s/it]"
     ]
    },
    {
     "name": "stdout",
     "output_type": "stream",
     "text": [
      "{'loss': 0.1628, 'grad_norm': 0.7761005163192749, 'learning_rate': 1.9511718749999998e-05, 'epoch': 18.79}\n"
     ]
    },
    {
     "name": "stderr",
     "output_type": "stream",
     "text": [
      " 94%|█████████▍| 5300/5620 [4:08:52<10:31,  1.97s/it]"
     ]
    },
    {
     "name": "stdout",
     "output_type": "stream",
     "text": [
      "{'loss': 0.141, 'grad_norm': 1.3984882831573486, 'learning_rate': 1.8925781249999998e-05, 'epoch': 18.83}\n"
     ]
    },
    {
     "name": "stderr",
     "output_type": "stream",
     "text": [
      "                                                     \n",
      " 94%|█████████▍| 5300/5620 [4:09:40<10:31,  1.97s/it]"
     ]
    },
    {
     "name": "stdout",
     "output_type": "stream",
     "text": [
      "{'eval_loss': 0.359312504529953, 'eval_wer': 0.2955367913148372, 'eval_runtime': 48.7244, 'eval_samples_per_second': 20.524, 'eval_steps_per_second': 2.565, 'epoch': 18.83}\n"
     ]
    },
    {
     "name": "stderr",
     "output_type": "stream",
     "text": [
      "/home/mehedi/anaconda3/envs/wav2vec/lib/python3.10/site-packages/transformers/models/wav2vec2/processing_wav2vec2.py:157: UserWarning: `as_target_processor` is deprecated and will be removed in v5 of Transformers. You can process your labels by using the argument `text` of the regular `__call__` method (either in the same call as your audio inputs, or in a separate call.\n",
      "  warnings.warn(\n",
      "/home/mehedi/anaconda3/envs/wav2vec/lib/python3.10/site-packages/torch/utils/checkpoint.py:295: FutureWarning: `torch.cpu.amp.autocast(args...)` is deprecated. Please use `torch.amp.autocast('cpu', args...)` instead.\n",
      "  with torch.enable_grad(), device_autocast_ctx, torch.cpu.amp.autocast(**ctx.cpu_autocast_kwargs):  # type: ignore[attr-defined]\n",
      " 94%|█████████▍| 5310/5620 [4:10:01<11:53,  2.30s/it]  "
     ]
    },
    {
     "name": "stdout",
     "output_type": "stream",
     "text": [
      "{'loss': 0.1634, 'grad_norm': 0.4272235035896301, 'learning_rate': 1.8339843749999998e-05, 'epoch': 18.86}\n"
     ]
    },
    {
     "name": "stderr",
     "output_type": "stream",
     "text": [
      " 95%|█████████▍| 5320/5620 [4:10:22<14:47,  2.96s/it]"
     ]
    },
    {
     "name": "stdout",
     "output_type": "stream",
     "text": [
      "{'loss': 0.1771, 'grad_norm': 0.37591949105262756, 'learning_rate': 1.7753906249999998e-05, 'epoch': 18.9}\n"
     ]
    },
    {
     "name": "stderr",
     "output_type": "stream",
     "text": [
      " 95%|█████████▍| 5330/5620 [4:10:50<12:17,  2.54s/it]"
     ]
    },
    {
     "name": "stdout",
     "output_type": "stream",
     "text": [
      "{'loss': 0.1793, 'grad_norm': 0.4018871486186981, 'learning_rate': 1.716796875e-05, 'epoch': 18.93}\n"
     ]
    },
    {
     "name": "stderr",
     "output_type": "stream",
     "text": [
      " 95%|█████████▌| 5340/5620 [4:11:10<08:59,  1.93s/it]"
     ]
    },
    {
     "name": "stdout",
     "output_type": "stream",
     "text": [
      "{'loss': 0.1421, 'grad_norm': 0.7663458585739136, 'learning_rate': 1.658203125e-05, 'epoch': 18.97}\n"
     ]
    },
    {
     "name": "stderr",
     "output_type": "stream",
     "text": [
      " 95%|█████████▌| 5350/5620 [4:11:28<10:54,  2.43s/it]"
     ]
    },
    {
     "name": "stdout",
     "output_type": "stream",
     "text": [
      "{'loss': 0.1655, 'grad_norm': 0.4676313102245331, 'learning_rate': 1.599609375e-05, 'epoch': 19.01}\n"
     ]
    },
    {
     "name": "stderr",
     "output_type": "stream",
     "text": [
      " 95%|█████████▌| 5360/5620 [4:12:01<13:26,  3.10s/it]"
     ]
    },
    {
     "name": "stdout",
     "output_type": "stream",
     "text": [
      "{'loss': 0.143, 'grad_norm': 0.5549266934394836, 'learning_rate': 1.541015625e-05, 'epoch': 19.04}\n"
     ]
    },
    {
     "name": "stderr",
     "output_type": "stream",
     "text": [
      " 96%|█████████▌| 5370/5620 [4:12:27<10:07,  2.43s/it]"
     ]
    },
    {
     "name": "stdout",
     "output_type": "stream",
     "text": [
      "{'loss': 0.1666, 'grad_norm': 0.5257809162139893, 'learning_rate': 1.4824218749999999e-05, 'epoch': 19.08}\n"
     ]
    },
    {
     "name": "stderr",
     "output_type": "stream",
     "text": [
      " 96%|█████████▌| 5380/5620 [4:12:48<08:00,  2.00s/it]"
     ]
    },
    {
     "name": "stdout",
     "output_type": "stream",
     "text": [
      "{'loss': 0.1432, 'grad_norm': 0.4670005440711975, 'learning_rate': 1.423828125e-05, 'epoch': 19.11}\n"
     ]
    },
    {
     "name": "stderr",
     "output_type": "stream",
     "text": [
      " 96%|█████████▌| 5390/5620 [4:13:05<06:39,  1.74s/it]"
     ]
    },
    {
     "name": "stdout",
     "output_type": "stream",
     "text": [
      "{'loss': 0.1395, 'grad_norm': 0.7975648045539856, 'learning_rate': 1.365234375e-05, 'epoch': 19.15}\n"
     ]
    },
    {
     "name": "stderr",
     "output_type": "stream",
     "text": [
      " 96%|█████████▌| 5400/5620 [4:13:23<09:07,  2.49s/it]"
     ]
    },
    {
     "name": "stdout",
     "output_type": "stream",
     "text": [
      "{'loss': 0.1453, 'grad_norm': 0.35299256443977356, 'learning_rate': 1.306640625e-05, 'epoch': 19.18}\n"
     ]
    },
    {
     "name": "stderr",
     "output_type": "stream",
     "text": [
      "                                                     \n",
      " 96%|█████████▌| 5400/5620 [4:14:12<09:07,  2.49s/it]"
     ]
    },
    {
     "name": "stdout",
     "output_type": "stream",
     "text": [
      "{'eval_loss': 0.36702167987823486, 'eval_wer': 0.29465950213839237, 'eval_runtime': 48.8323, 'eval_samples_per_second': 20.478, 'eval_steps_per_second': 2.56, 'epoch': 19.18}\n"
     ]
    },
    {
     "name": "stderr",
     "output_type": "stream",
     "text": [
      "/home/mehedi/anaconda3/envs/wav2vec/lib/python3.10/site-packages/transformers/models/wav2vec2/processing_wav2vec2.py:157: UserWarning: `as_target_processor` is deprecated and will be removed in v5 of Transformers. You can process your labels by using the argument `text` of the regular `__call__` method (either in the same call as your audio inputs, or in a separate call.\n",
      "  warnings.warn(\n",
      "/home/mehedi/anaconda3/envs/wav2vec/lib/python3.10/site-packages/torch/utils/checkpoint.py:295: FutureWarning: `torch.cpu.amp.autocast(args...)` is deprecated. Please use `torch.amp.autocast('cpu', args...)` instead.\n",
      "  with torch.enable_grad(), device_autocast_ctx, torch.cpu.amp.autocast(**ctx.cpu_autocast_kwargs):  # type: ignore[attr-defined]\n",
      " 96%|█████████▋| 5410/5620 [4:14:48<12:20,  3.53s/it]  "
     ]
    },
    {
     "name": "stdout",
     "output_type": "stream",
     "text": [
      "{'loss': 0.1596, 'grad_norm': 0.7836375832557678, 'learning_rate': 1.248046875e-05, 'epoch': 19.22}\n"
     ]
    },
    {
     "name": "stderr",
     "output_type": "stream",
     "text": [
      " 96%|█████████▋| 5420/5620 [4:15:13<08:01,  2.41s/it]"
     ]
    },
    {
     "name": "stdout",
     "output_type": "stream",
     "text": [
      "{'loss': 0.14, 'grad_norm': 0.4106810688972473, 'learning_rate': 1.189453125e-05, 'epoch': 19.25}\n"
     ]
    },
    {
     "name": "stderr",
     "output_type": "stream",
     "text": [
      " 97%|█████████▋| 5430/5620 [4:15:33<06:20,  2.00s/it]"
     ]
    },
    {
     "name": "stdout",
     "output_type": "stream",
     "text": [
      "{'loss': 0.1391, 'grad_norm': 0.6304717063903809, 'learning_rate': 1.130859375e-05, 'epoch': 19.29}\n"
     ]
    },
    {
     "name": "stderr",
     "output_type": "stream",
     "text": [
      " 97%|█████████▋| 5440/5620 [4:15:50<04:55,  1.64s/it]"
     ]
    },
    {
     "name": "stdout",
     "output_type": "stream",
     "text": [
      "{'loss': 0.1923, 'grad_norm': 0.3642953634262085, 'learning_rate': 1.072265625e-05, 'epoch': 19.33}\n"
     ]
    },
    {
     "name": "stderr",
     "output_type": "stream",
     "text": [
      " 97%|█████████▋| 5450/5620 [4:16:07<06:39,  2.35s/it]"
     ]
    },
    {
     "name": "stdout",
     "output_type": "stream",
     "text": [
      "{'loss': 0.2281, 'grad_norm': 1.0488030910491943, 'learning_rate': 1.013671875e-05, 'epoch': 19.36}\n"
     ]
    },
    {
     "name": "stderr",
     "output_type": "stream",
     "text": [
      " 97%|█████████▋| 5460/5620 [4:16:40<08:04,  3.03s/it]"
     ]
    },
    {
     "name": "stdout",
     "output_type": "stream",
     "text": [
      "{'loss': 0.1763, 'grad_norm': 0.43379586935043335, 'learning_rate': 9.550781249999999e-06, 'epoch': 19.4}\n"
     ]
    },
    {
     "name": "stderr",
     "output_type": "stream",
     "text": [
      " 97%|█████████▋| 5470/5620 [4:17:06<06:03,  2.43s/it]"
     ]
    },
    {
     "name": "stdout",
     "output_type": "stream",
     "text": [
      "{'loss': 0.1636, 'grad_norm': 0.40705132484436035, 'learning_rate': 8.964843749999999e-06, 'epoch': 19.43}\n"
     ]
    },
    {
     "name": "stderr",
     "output_type": "stream",
     "text": [
      " 98%|█████████▊| 5480/5620 [4:17:27<04:48,  2.06s/it]"
     ]
    },
    {
     "name": "stdout",
     "output_type": "stream",
     "text": [
      "{'loss': 0.1787, 'grad_norm': 0.4950937032699585, 'learning_rate': 8.378906249999999e-06, 'epoch': 19.47}\n"
     ]
    },
    {
     "name": "stderr",
     "output_type": "stream",
     "text": [
      " 98%|█████████▊| 5490/5620 [4:17:45<03:39,  1.69s/it]"
     ]
    },
    {
     "name": "stdout",
     "output_type": "stream",
     "text": [
      "{'loss': 0.1764, 'grad_norm': 0.813156247138977, 'learning_rate': 7.79296875e-06, 'epoch': 19.5}\n"
     ]
    },
    {
     "name": "stderr",
     "output_type": "stream",
     "text": [
      " 98%|█████████▊| 5500/5620 [4:18:03<04:51,  2.43s/it]"
     ]
    },
    {
     "name": "stdout",
     "output_type": "stream",
     "text": [
      "{'loss': 0.1844, 'grad_norm': 0.49328869581222534, 'learning_rate': 7.207031249999999e-06, 'epoch': 19.54}\n"
     ]
    },
    {
     "name": "stderr",
     "output_type": "stream",
     "text": [
      "                                                     \n",
      " 98%|█████████▊| 5500/5620 [4:18:51<04:51,  2.43s/it]"
     ]
    },
    {
     "name": "stdout",
     "output_type": "stream",
     "text": [
      "{'eval_loss': 0.35999059677124023, 'eval_wer': 0.29444017984428117, 'eval_runtime': 48.8361, 'eval_samples_per_second': 20.477, 'eval_steps_per_second': 2.56, 'epoch': 19.54}\n"
     ]
    },
    {
     "name": "stderr",
     "output_type": "stream",
     "text": [
      "/home/mehedi/anaconda3/envs/wav2vec/lib/python3.10/site-packages/transformers/models/wav2vec2/processing_wav2vec2.py:157: UserWarning: `as_target_processor` is deprecated and will be removed in v5 of Transformers. You can process your labels by using the argument `text` of the regular `__call__` method (either in the same call as your audio inputs, or in a separate call.\n",
      "  warnings.warn(\n",
      "/home/mehedi/anaconda3/envs/wav2vec/lib/python3.10/site-packages/torch/utils/checkpoint.py:295: FutureWarning: `torch.cpu.amp.autocast(args...)` is deprecated. Please use `torch.amp.autocast('cpu', args...)` instead.\n",
      "  with torch.enable_grad(), device_autocast_ctx, torch.cpu.amp.autocast(**ctx.cpu_autocast_kwargs):  # type: ignore[attr-defined]\n",
      " 98%|█████████▊| 5510/5620 [4:19:28<06:41,  3.65s/it]"
     ]
    },
    {
     "name": "stdout",
     "output_type": "stream",
     "text": [
      "{'loss': 0.162, 'grad_norm': 0.43283531069755554, 'learning_rate': 6.62109375e-06, 'epoch': 19.57}\n"
     ]
    },
    {
     "name": "stderr",
     "output_type": "stream",
     "text": [
      " 98%|█████████▊| 5520/5620 [4:19:53<04:08,  2.48s/it]"
     ]
    },
    {
     "name": "stdout",
     "output_type": "stream",
     "text": [
      "{'loss': 0.134, 'grad_norm': 0.45856213569641113, 'learning_rate': 6.03515625e-06, 'epoch': 19.61}\n"
     ]
    },
    {
     "name": "stderr",
     "output_type": "stream",
     "text": [
      " 98%|█████████▊| 5530/5620 [4:20:14<03:04,  2.04s/it]"
     ]
    },
    {
     "name": "stdout",
     "output_type": "stream",
     "text": [
      "{'loss': 0.1306, 'grad_norm': 0.426717609167099, 'learning_rate': 5.44921875e-06, 'epoch': 19.64}\n"
     ]
    },
    {
     "name": "stderr",
     "output_type": "stream",
     "text": [
      " 99%|█████████▊| 5540/5620 [4:20:33<02:19,  1.74s/it]"
     ]
    },
    {
     "name": "stdout",
     "output_type": "stream",
     "text": [
      "{'loss': 0.1403, 'grad_norm': 0.37484967708587646, 'learning_rate': 4.86328125e-06, 'epoch': 19.68}\n"
     ]
    },
    {
     "name": "stderr",
     "output_type": "stream",
     "text": [
      " 99%|█████████▉| 5550/5620 [4:20:51<02:50,  2.43s/it]"
     ]
    },
    {
     "name": "stdout",
     "output_type": "stream",
     "text": [
      "{'loss': 0.1784, 'grad_norm': 0.555993914604187, 'learning_rate': 4.277343749999999e-06, 'epoch': 19.72}\n"
     ]
    },
    {
     "name": "stderr",
     "output_type": "stream",
     "text": [
      " 99%|█████████▉| 5560/5620 [4:21:24<03:04,  3.08s/it]"
     ]
    },
    {
     "name": "stdout",
     "output_type": "stream",
     "text": [
      "{'loss': 0.1373, 'grad_norm': 0.5130627751350403, 'learning_rate': 3.6914062499999995e-06, 'epoch': 19.75}\n"
     ]
    },
    {
     "name": "stderr",
     "output_type": "stream",
     "text": [
      " 99%|█████████▉| 5570/5620 [4:21:50<02:03,  2.47s/it]"
     ]
    },
    {
     "name": "stdout",
     "output_type": "stream",
     "text": [
      "{'loss': 0.1368, 'grad_norm': 0.6084708571434021, 'learning_rate': 3.1054687499999997e-06, 'epoch': 19.79}\n"
     ]
    },
    {
     "name": "stderr",
     "output_type": "stream",
     "text": [
      " 99%|█████████▉| 5580/5620 [4:22:11<01:20,  2.00s/it]"
     ]
    },
    {
     "name": "stdout",
     "output_type": "stream",
     "text": [
      "{'loss': 0.1557, 'grad_norm': 0.5148667097091675, 'learning_rate': 2.51953125e-06, 'epoch': 19.82}\n"
     ]
    },
    {
     "name": "stderr",
     "output_type": "stream",
     "text": [
      " 99%|█████████▉| 5590/5620 [4:22:28<00:50,  1.68s/it]"
     ]
    },
    {
     "name": "stdout",
     "output_type": "stream",
     "text": [
      "{'loss': 0.132, 'grad_norm': 0.4632069170475006, 'learning_rate': 1.9335937499999996e-06, 'epoch': 19.86}\n"
     ]
    },
    {
     "name": "stderr",
     "output_type": "stream",
     "text": [
      "100%|█████████▉| 5600/5620 [4:22:46<00:47,  2.39s/it]"
     ]
    },
    {
     "name": "stdout",
     "output_type": "stream",
     "text": [
      "{'loss': 0.2035, 'grad_norm': 0.5641316771507263, 'learning_rate': 1.3476562499999997e-06, 'epoch': 19.89}\n"
     ]
    },
    {
     "name": "stderr",
     "output_type": "stream",
     "text": [
      "                                                     \n",
      "100%|█████████▉| 5600/5620 [4:23:34<00:47,  2.39s/it]"
     ]
    },
    {
     "name": "stdout",
     "output_type": "stream",
     "text": [
      "{'eval_loss': 0.3643849492073059, 'eval_wer': 0.292575940344336, 'eval_runtime': 48.8038, 'eval_samples_per_second': 20.49, 'eval_steps_per_second': 2.561, 'epoch': 19.89}\n"
     ]
    },
    {
     "name": "stderr",
     "output_type": "stream",
     "text": [
      "/home/mehedi/anaconda3/envs/wav2vec/lib/python3.10/site-packages/transformers/models/wav2vec2/processing_wav2vec2.py:157: UserWarning: `as_target_processor` is deprecated and will be removed in v5 of Transformers. You can process your labels by using the argument `text` of the regular `__call__` method (either in the same call as your audio inputs, or in a separate call.\n",
      "  warnings.warn(\n",
      "/home/mehedi/anaconda3/envs/wav2vec/lib/python3.10/site-packages/torch/utils/checkpoint.py:295: FutureWarning: `torch.cpu.amp.autocast(args...)` is deprecated. Please use `torch.amp.autocast('cpu', args...)` instead.\n",
      "  with torch.enable_grad(), device_autocast_ctx, torch.cpu.amp.autocast(**ctx.cpu_autocast_kwargs):  # type: ignore[attr-defined]\n",
      "100%|█████████▉| 5610/5620 [4:24:09<00:33,  3.39s/it]"
     ]
    },
    {
     "name": "stdout",
     "output_type": "stream",
     "text": [
      "{'loss': 0.134, 'grad_norm': 0.45100101828575134, 'learning_rate': 7.6171875e-07, 'epoch': 19.93}\n"
     ]
    },
    {
     "name": "stderr",
     "output_type": "stream",
     "text": [
      "100%|██████████| 5620/5620 [4:24:30<00:00,  2.04s/it]"
     ]
    },
    {
     "name": "stdout",
     "output_type": "stream",
     "text": [
      "{'loss': 0.1424, 'grad_norm': 0.811058759689331, 'learning_rate': 1.7578124999999998e-07, 'epoch': 19.96}\n"
     ]
    },
    {
     "name": "stderr",
     "output_type": "stream",
     "text": [
      "100%|██████████| 5620/5620 [4:24:34<00:00,  2.82s/it]"
     ]
    },
    {
     "name": "stdout",
     "output_type": "stream",
     "text": [
      "{'train_runtime': 15874.0298, 'train_samples_per_second': 11.339, 'train_steps_per_second': 0.354, 'train_loss': 0.8742152554496752, 'epoch': 19.96}\n"
     ]
    },
    {
     "name": "stderr",
     "output_type": "stream",
     "text": [
      "\n"
     ]
    },
    {
     "data": {
      "text/plain": [
       "TrainOutput(global_step=5620, training_loss=0.8742152554496752, metrics={'train_runtime': 15874.0298, 'train_samples_per_second': 11.339, 'train_steps_per_second': 0.354, 'total_flos': 3.271521370154527e+19, 'train_loss': 0.8742152554496752, 'epoch': 19.964476021314386})"
      ]
     },
     "execution_count": 36,
     "metadata": {},
     "output_type": "execute_result"
    }
   ],
   "source": [
    "trainer.train()"
   ]
  },
  {
   "cell_type": "code",
   "execution_count": null,
   "metadata": {},
   "outputs": [],
   "source": []
  }
 ],
 "metadata": {
  "kernelspec": {
   "display_name": "wav2vec",
   "language": "python",
   "name": "python3"
  },
  "language_info": {
   "codemirror_mode": {
    "name": "ipython",
    "version": 3
   },
   "file_extension": ".py",
   "mimetype": "text/x-python",
   "name": "python",
   "nbconvert_exporter": "python",
   "pygments_lexer": "ipython3",
   "version": "3.10.15"
  }
 },
 "nbformat": 4,
 "nbformat_minor": 2
}
